{
 "cells": [
  {
   "attachments": {},
   "cell_type": "markdown",
   "metadata": {},
   "source": [
    "We will explore how modifying the energy rewards for the Boolean functions affects how many organisms evolve EQU by the end of the simulation, affects the maximum average fitness achieved by the end of the simulation, and affects the graph of average fitness in the population over time. "
   ]
  },
  {
   "attachments": {},
   "cell_type": "markdown",
   "metadata": {},
   "source": [
    "look at results_plots.ipynb for the graphs, getting_data.py for the code that generates the data, and final_project.ipynb for work on final project results."
   ]
  },
  {
   "cell_type": "code",
   "execution_count": null,
   "metadata": {},
   "outputs": [],
   "source": []
  }
 ],
 "metadata": {
  "language_info": {
   "name": "python"
  },
  "orig_nbformat": 4
 },
 "nbformat": 4,
 "nbformat_minor": 2
}
