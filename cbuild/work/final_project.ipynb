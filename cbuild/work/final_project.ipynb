{
 "cells": [
  {
   "attachments": {},
   "cell_type": "markdown",
   "metadata": {},
   "source": [
    "We will explore how modifying the energy rewards for the Boolean functions affects how many organisms evolve EQU by the end of the simulation, affects the maximum average fitness achieved by the end of the simulation, and affects the graph of average fitness in the population over time. "
   ]
  },
  {
   "attachments": {},
   "cell_type": "markdown",
   "metadata": {},
   "source": [
    "look at results_plots.ipynb for the graphs, getting_data.py for the code that generates the data, and final_project.ipynb for work on final project results."
   ]
  },
  {
   "attachments": {},
   "cell_type": "markdown",
   "metadata": {},
   "source": [
    "\n",
    "After performing our literature review, we believe there is still much to be understood about the factors that influence the evolution of EQU in Avida. One possible factor is the energy configurations for Boolean functions. Intermediate Boolean functions are those that are not directly related to the target function (in this case, EQU), but are necessary for its evolution (hence the ``intermediate\" name). Modifying the energy configurations for intermediate Boolean functions may affect how many organisms evolve EQU by the end of the simulation, and so would modifying the amount of energy that EQU itself provides. \n",
    "\n",
    "We would like to experiment with different energy configurations and analyze their affect on how many organisms evolve EQU by the end of the simulation. Currently, one hypothesis we have is that increasing the energy rewarded by intermediate functions to be greater than that of the energy rewarded by EQU would decrease the number of organisms that evolve EQU by the end of the simulation because then those organisms would benefit more from those functions than EQU. Another hypothesis we have is that decreasing the energy rewarded by any of the intermediate functions should decrease the number of organisms that evolve EQU by the end of the simulation because then the evolution of the intermediate forms that eventually evolve into EQU is less likely.\n",
    "\n",
    "Additionally, we wonder how the energy configurations for Boolean functions affects the maximum average fitness achieved by the population. In general, if the Avidians (the term for the digital organisms in Avida) earn higher energy, then they achieve higher fitness. Because we are interested in the maximum average fitness, we hypothesize that the maximum average fitness may depend only on the maximum energy rewarded across any Boolean function, as the population may evolve to focus on maximizing that function in the limit, with the caveat that some Avidians need to actually evolve this function. The interesting consideration for the caveat here is that, even if EQU provided 1000x as much energy, if all the other functions provided 0 energy, then EQU would likely never evolve in the first place because it is so complicated that it requires intermediate forms, so then the maximum average fitness would likely be lower. Thus, we also hypothesize that it is necessary to maintain the evolvability of the maximum energy rewarding function in order for the maximum average fitness to benefit from it. \n",
    "\n",
    "Finally, modifying the energy configurations for Boolean functions should affect the graph of average fitness in the population over time. Modifying energy rewards for certain Boolean functions may lead to faster growth in fitness: for example, we hypothesize that setting the reward for NOT and NAND functions to be higher would lead to a larger spike/jump in fitness when they first evolve. We believe that analyzing the behavior of the graph of average fitness in the population over time will be the most difficult to perform quantitatively, but we hope to still be able to provide some interesting qualitative analysis on the graphs.  \n",
    "\n",
    "In conclusion, while several studies have already explored the evolution of EQU in Avida, there are still many open questions regarding the factors that influence its evolution. We hope to explore how modifying the energy rewards for the Boolean functions affects how many organisms evolve EQU by the end of the simulation, the maximum average fitness achieved by the end of the simulation, and the graph of average fitness in the population over time. The results of this research may contribute to a better understanding of the factors that influence the evolution of complex functions in artificial life simulations, and have potential implications for optimizing the evolution of desired traits.\n",
    "\n",
    "\\section{Proposed Methodology}\n",
    "\n",
    "We have written substantial code in Python and C++ to start building out a framework for modifying the energy configurations for Boolean functions in the Avida software. For example, we have already done some experimentation with changing the energy configurations for Boolean functions, and the results so far have been pretty interesting. Here are two examples of our plots that we've generated from this experimentation. \n",
    "\\begin{figure}[H]\n",
    "\\begin{center}\n",
    "\\includegraphics[width=\\columnwidth]{SDSS2021-LaTEX/figs/f1.png}\n",
    "  \\captionsetup{labelformat=empty}\n",
    "\\caption{We use the default energy configuration for this plot. It's interesting that there seem to be two jumps in average fitness: we hypothesize that these are caused by the organisms evolving a Boolean function for the first time, which quickly propagates through the environment and population.}\n",
    "% \\caption{Ironically, Thomas Bayes was never asked to provide additional\n",
    "% simulation studies in the Results sections of his papers.}\n",
    "\\label{bayespic}\n",
    "\\end{center}\n",
    "\\end{figure}\n",
    "\n",
    "\\begin{figure}[H]\n",
    "\\begin{center}\n",
    "\\includegraphics[width=\\columnwidth]{SDSS2021-LaTEX/figs/f2.png}\n",
    "  \\captionsetup{labelformat=empty}\n",
    "\\caption{We use a modified energy configuration for this plot that gives 4x as much reward for the NOT and NAND functions. It's interesting how this causes the maximum average fitness to increase around 80x, and now the second jump up in fitness is relatively much larger.  We want to explore more about why this happens and compare this to when we modify  the energy configuration in different ways.}\n",
    "% \\caption{Ironically, Thomas Bayes was never asked to provide additional\n",
    "% simulation studies in the Results sections of his papers.}\n",
    "\\label{bayespic}\n",
    "\\end{center}\n",
    "\\end{figure}\n",
    "\n",
    "Our plan is to continue writing code in order to build an automated experimentation system that runs the Avida simulation with different energy configurations for Boolean functions, logs our desired metrics (such as the number of organisms that evolve EQU by the end of the simulation and the maximum average fitness achieved by the end of the simulation), and then plots and saves the graph of average fitness in the population over time.\n",
    "\n"
   ]
  },
  {
   "cell_type": "code",
   "execution_count": null,
   "metadata": {},
   "outputs": [],
   "source": []
  }
 ],
 "metadata": {
  "language_info": {
   "name": "python"
  },
  "orig_nbformat": 4
 },
 "nbformat": 4,
 "nbformat_minor": 2
}
