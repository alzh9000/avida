{
 "cells": [
  {
   "cell_type": "code",
   "execution_count": 4,
   "metadata": {},
   "outputs": [],
   "source": [
    "\n",
    "\n",
    "# Directory containing the files\n",
    "dir_path = '229r/all1'\n",
    "\n",
    "# Directory containing the files\n",
    "dat_dir_path = 'data/229r/all1'\n"
   ]
  },
  {
   "cell_type": "code",
   "execution_count": 5,
   "metadata": {},
   "outputs": [],
   "source": [
    "import pandas as pd\n",
    "import plotly.graph_objs as go\n",
    "import plotly.io as pio\n",
    "file_name = \"\"\"229r/task_date_{'x': 10, 'y': 10}_{'NOT': 1.0, 'NAND': 1.0, 'AND': 2.0, 'ORN': 2.0, 'OR': 3.0, 'ANDN': 3.0, 'NOR': 4.0, 'XOR': 4.0, 'EQU': 5.0}_03-06_20-38-48.txt\"\"\"\n",
    "\n",
    "def plot_graph(file_name=\"\"\"229r/task_date_{'x': 10, 'y': 10}_{'NOT': 1.0, 'NAND': 1.0, 'AND': 2.0, 'ORN': 2.0, 'OR': 3.0, 'ANDN': 3.0, 'NOR': 4.0, 'XOR': 4.0, 'EQU': 5.0}_03-06_20-38-48.txt\"\"\", title='Average Fitness over Time', width = 800,    height = 600, log_y=True):\n",
    "\n",
    "    # Read data from file into a list of strings\n",
    "    with open(file_name, 'r') as f:\n",
    "        lines = f.readlines()\n",
    "\n",
    "    # Parse the lines to create a list of dictionaries, where each dictionary contains values for each column\n",
    "    data = []\n",
    "    for line in lines:\n",
    "        if line.startswith('UD:'):\n",
    "            values = line.strip().split()\n",
    "            # print(values)\n",
    "\n",
    "            data.append({\n",
    "                'UD': int(values[1]),\n",
    "                'Gen': float(values[3]),\n",
    "                'Fit': float(values[5]),\n",
    "                'Orgs': int(values[7])\n",
    "            })\n",
    "\n",
    "    # Create dataframe from list of dictionaries\n",
    "    df = pd.DataFrame(data)\n",
    "        \n",
    "\n",
    "    # Define x and y data\n",
    "    x_data = df.iloc[:, 0] # First column as x-axis\n",
    "    y_data = df[[\"Fit\"]]\n",
    "    # y_data = df.iloc[:, 1:] # Every other column as y-axis\n",
    "\n",
    "    # Create plotly trace for each column\n",
    "    data = []\n",
    "    for column in y_data.columns:\n",
    "        trace = go.Scatter(x=x_data, y=y_data[column], mode='lines', name=column)\n",
    "        data.append(trace)\n",
    "\n",
    "    # Define plot layout\n",
    "    layout = go.Layout(title=title, xaxis=dict(title='# of updates'), yaxis=dict(title='average fitness'), margin=dict(t=40, b=20, l=20, r=20), autosize=False, width=width, height=height, yaxis_type='log' if log_y else 'linear')\n",
    "\n",
    "    # Create plotly figure\n",
    "    fig = go.Figure(data=data, layout=layout)\n",
    "\n",
    "    # Display plot\n",
    "    file_parts = file_name.split('/')\n",
    "    fig.show()\n",
    "    pio.write_image(fig, file_parts[0]+'/plots/'+file_parts[1].split('.')[0]+'.png', width=width, height=height, scale=2)\n"
   ]
  },
  {
   "cell_type": "code",
   "execution_count": 6,
   "metadata": {},
   "outputs": [
    {
     "data": {
      "text/html": [
       "<div>\n",
       "<style scoped>\n",
       "    .dataframe tbody tr th:only-of-type {\n",
       "        vertical-align: middle;\n",
       "    }\n",
       "\n",
       "    .dataframe tbody tr th {\n",
       "        vertical-align: top;\n",
       "    }\n",
       "\n",
       "    .dataframe thead th {\n",
       "        text-align: right;\n",
       "    }\n",
       "</style>\n",
       "<table border=\"1\" class=\"dataframe\">\n",
       "  <thead>\n",
       "    <tr style=\"text-align: right;\">\n",
       "      <th></th>\n",
       "      <th>Equals</th>\n",
       "      <th>max_count</th>\n",
       "      <th>values</th>\n",
       "      <th>last_line_string</th>\n",
       "      <th>experiment_start_time_string</th>\n",
       "      <th>xy_values</th>\n",
       "      <th>Last_UD</th>\n",
       "      <th>Gen</th>\n",
       "      <th>Fit</th>\n",
       "      <th>Orgs</th>\n",
       "      <th>...</th>\n",
       "      <th>filename</th>\n",
       "      <th>Update</th>\n",
       "      <th>Not</th>\n",
       "      <th>Nand</th>\n",
       "      <th>And</th>\n",
       "      <th>OrNot</th>\n",
       "      <th>Or</th>\n",
       "      <th>AndNot</th>\n",
       "      <th>Nor</th>\n",
       "      <th>Xor</th>\n",
       "    </tr>\n",
       "  </thead>\n",
       "  <tbody>\n",
       "    <tr>\n",
       "      <th>0</th>\n",
       "      <td>0</td>\n",
       "      <td>False</td>\n",
       "      <td>(1, 3, 2, 4, 5)</td>\n",
       "      <td>[UD:, 10000, Gen:, 9906.699, Fit:, 1.068264e+9...</td>\n",
       "      <td>04-17_16-23-01</td>\n",
       "      <td>(120, 120)</td>\n",
       "      <td>10000</td>\n",
       "      <td>9906.699</td>\n",
       "      <td>1.068264e+90</td>\n",
       "      <td>11072</td>\n",
       "      <td>...</td>\n",
       "      <td>14_mxc_-1_[1, 3, 2, 4, 5]_date_04-17_16-23-01_...</td>\n",
       "      <td>10000</td>\n",
       "      <td>2681</td>\n",
       "      <td>2130</td>\n",
       "      <td>546</td>\n",
       "      <td>4806</td>\n",
       "      <td>16</td>\n",
       "      <td>5</td>\n",
       "      <td>0</td>\n",
       "      <td>0</td>\n",
       "    </tr>\n",
       "    <tr>\n",
       "      <th>1</th>\n",
       "      <td>3659</td>\n",
       "      <td>True</td>\n",
       "      <td>(2, 1, 3, 4, 5)</td>\n",
       "      <td>[UD:, 7500, Gen:, 2688.768, Fit:, 2.278786e+21...</td>\n",
       "      <td>04-18_14-08-24</td>\n",
       "      <td>(120, 120)</td>\n",
       "      <td>7500</td>\n",
       "      <td>2688.768</td>\n",
       "      <td>2.278786e+216</td>\n",
       "      <td>14243</td>\n",
       "      <td>...</td>\n",
       "      <td>15_mxc_0_[2, 1, 3, 4, 5]_date_04-18_14-08-24_x...</td>\n",
       "      <td>7500</td>\n",
       "      <td>12625</td>\n",
       "      <td>8530</td>\n",
       "      <td>7777</td>\n",
       "      <td>9272</td>\n",
       "      <td>10479</td>\n",
       "      <td>10959</td>\n",
       "      <td>10183</td>\n",
       "      <td>2208</td>\n",
       "    </tr>\n",
       "    <tr>\n",
       "      <th>2</th>\n",
       "      <td>0</td>\n",
       "      <td>False</td>\n",
       "      <td>(2, 1, 3, 4, 5)</td>\n",
       "      <td>[UD:, 10000, Gen:, 3455.037, Fit:, 2.225637e+2...</td>\n",
       "      <td>04-20_17-28-43</td>\n",
       "      <td>(120, 120)</td>\n",
       "      <td>10000</td>\n",
       "      <td>3455.037</td>\n",
       "      <td>2.225637e+251</td>\n",
       "      <td>13895</td>\n",
       "      <td>...</td>\n",
       "      <td>19_mxc_-1_[2, 1, 3, 4, 5]_date_04-20_17-28-43_...</td>\n",
       "      <td>10000</td>\n",
       "      <td>11965</td>\n",
       "      <td>10328</td>\n",
       "      <td>96</td>\n",
       "      <td>1916</td>\n",
       "      <td>18</td>\n",
       "      <td>8750</td>\n",
       "      <td>27</td>\n",
       "      <td>0</td>\n",
       "    </tr>\n",
       "    <tr>\n",
       "      <th>3</th>\n",
       "      <td>0</td>\n",
       "      <td>True</td>\n",
       "      <td>(1, 4, 2, 3, 5)</td>\n",
       "      <td>[UD:, 10000, Gen:, 2139.232, Fit:, 6436.750, O...</td>\n",
       "      <td>04-19_01-01-47</td>\n",
       "      <td>(120, 120)</td>\n",
       "      <td>10000</td>\n",
       "      <td>2139.232</td>\n",
       "      <td>6.436750e+03</td>\n",
       "      <td>14381</td>\n",
       "      <td>...</td>\n",
       "      <td>16_mxc_0_[1, 4, 2, 3, 5]_date_04-19_01-01-47_x...</td>\n",
       "      <td>10000</td>\n",
       "      <td>13292</td>\n",
       "      <td>13071</td>\n",
       "      <td>11925</td>\n",
       "      <td>12860</td>\n",
       "      <td>12380</td>\n",
       "      <td>4427</td>\n",
       "      <td>8338</td>\n",
       "      <td>0</td>\n",
       "    </tr>\n",
       "    <tr>\n",
       "      <th>4</th>\n",
       "      <td>0</td>\n",
       "      <td>True</td>\n",
       "      <td>(2, 4, 1, 3, 5)</td>\n",
       "      <td>[UD:, 10000, Gen:, 1971.971, Fit:, 8111.602, O...</td>\n",
       "      <td>04-20_20-27-19</td>\n",
       "      <td>(120, 120)</td>\n",
       "      <td>10000</td>\n",
       "      <td>1971.971</td>\n",
       "      <td>8.111602e+03</td>\n",
       "      <td>14372</td>\n",
       "      <td>...</td>\n",
       "      <td>19_mxc_0_[2, 4, 1, 3, 5]_date_04-20_20-27-19_x...</td>\n",
       "      <td>10000</td>\n",
       "      <td>13089</td>\n",
       "      <td>12615</td>\n",
       "      <td>13266</td>\n",
       "      <td>12265</td>\n",
       "      <td>32</td>\n",
       "      <td>157</td>\n",
       "      <td>11552</td>\n",
       "      <td>0</td>\n",
       "    </tr>\n",
       "    <tr>\n",
       "      <th>...</th>\n",
       "      <td>...</td>\n",
       "      <td>...</td>\n",
       "      <td>...</td>\n",
       "      <td>...</td>\n",
       "      <td>...</td>\n",
       "      <td>...</td>\n",
       "      <td>...</td>\n",
       "      <td>...</td>\n",
       "      <td>...</td>\n",
       "      <td>...</td>\n",
       "      <td>...</td>\n",
       "      <td>...</td>\n",
       "      <td>...</td>\n",
       "      <td>...</td>\n",
       "      <td>...</td>\n",
       "      <td>...</td>\n",
       "      <td>...</td>\n",
       "      <td>...</td>\n",
       "      <td>...</td>\n",
       "      <td>...</td>\n",
       "      <td>...</td>\n",
       "    </tr>\n",
       "    <tr>\n",
       "      <th>573</th>\n",
       "      <td>3512</td>\n",
       "      <td>True</td>\n",
       "      <td>(2, 3, 1, 4, 5)</td>\n",
       "      <td>[UD:, 10000, Gen:, 1133.529, Fit:, 4.690366e+1...</td>\n",
       "      <td>04-21_11-55-14</td>\n",
       "      <td>(120, 120)</td>\n",
       "      <td>10000</td>\n",
       "      <td>1133.529</td>\n",
       "      <td>4.690366e+19</td>\n",
       "      <td>14373</td>\n",
       "      <td>...</td>\n",
       "      <td>20_mxc_0_[2, 3, 1, 4, 5]_date_04-21_11-55-14_x...</td>\n",
       "      <td>10000</td>\n",
       "      <td>11353</td>\n",
       "      <td>12723</td>\n",
       "      <td>4559</td>\n",
       "      <td>12986</td>\n",
       "      <td>4171</td>\n",
       "      <td>209</td>\n",
       "      <td>4151</td>\n",
       "      <td>0</td>\n",
       "    </tr>\n",
       "    <tr>\n",
       "      <th>574</th>\n",
       "      <td>0</td>\n",
       "      <td>False</td>\n",
       "      <td>(1, 4, 2, 3, 5)</td>\n",
       "      <td>[UD:, 7500, Gen:, 2848.906, Fit:, 2.602341e+26...</td>\n",
       "      <td>04-19_01-21-12</td>\n",
       "      <td>(120, 120)</td>\n",
       "      <td>7500</td>\n",
       "      <td>2848.906</td>\n",
       "      <td>2.602341e+268</td>\n",
       "      <td>13621</td>\n",
       "      <td>...</td>\n",
       "      <td>16_mxc_-1_[1, 4, 2, 3, 5]_date_04-19_01-21-12_...</td>\n",
       "      <td>7500</td>\n",
       "      <td>149</td>\n",
       "      <td>954</td>\n",
       "      <td>0</td>\n",
       "      <td>11538</td>\n",
       "      <td>10</td>\n",
       "      <td>27</td>\n",
       "      <td>0</td>\n",
       "      <td>0</td>\n",
       "    </tr>\n",
       "    <tr>\n",
       "      <th>575</th>\n",
       "      <td>0</td>\n",
       "      <td>True</td>\n",
       "      <td>(1, 2, 3, 4, 1)</td>\n",
       "      <td>[UD:, 10000, Gen:, 2267.469, Fit:, 4658.941, O...</td>\n",
       "      <td>04-22_01-04-11</td>\n",
       "      <td>(120, 120)</td>\n",
       "      <td>10000</td>\n",
       "      <td>2267.469</td>\n",
       "      <td>4.658941e+03</td>\n",
       "      <td>14386</td>\n",
       "      <td>...</td>\n",
       "      <td>21_mxc_0_[1, 2, 3, 4, 1]_date_04-22_01-04-11_x...</td>\n",
       "      <td>10000</td>\n",
       "      <td>13584</td>\n",
       "      <td>13493</td>\n",
       "      <td>145</td>\n",
       "      <td>13380</td>\n",
       "      <td>13002</td>\n",
       "      <td>13042</td>\n",
       "      <td>13036</td>\n",
       "      <td>0</td>\n",
       "    </tr>\n",
       "    <tr>\n",
       "      <th>576</th>\n",
       "      <td>0</td>\n",
       "      <td>False</td>\n",
       "      <td>(1, 2, 4, 3, 5)</td>\n",
       "      <td>[UD:, 9400, Gen:, 3559.430, Fit:, 5.733812e+25...</td>\n",
       "      <td>04-18_10-25-05</td>\n",
       "      <td>(120, 120)</td>\n",
       "      <td>9400</td>\n",
       "      <td>3559.430</td>\n",
       "      <td>5.733812e+254</td>\n",
       "      <td>14199</td>\n",
       "      <td>...</td>\n",
       "      <td>15_mxc_-1_[1, 2, 4, 3, 5]_date_04-18_10-25-05_...</td>\n",
       "      <td>9400</td>\n",
       "      <td>399</td>\n",
       "      <td>11795</td>\n",
       "      <td>151</td>\n",
       "      <td>174</td>\n",
       "      <td>7093</td>\n",
       "      <td>11153</td>\n",
       "      <td>0</td>\n",
       "      <td>3</td>\n",
       "    </tr>\n",
       "    <tr>\n",
       "      <th>577</th>\n",
       "      <td>0</td>\n",
       "      <td>True</td>\n",
       "      <td>(4, 1, 2, 3, 5)</td>\n",
       "      <td>[UD:, 10000, Gen:, 2650.036, Fit:, 26249.29, O...</td>\n",
       "      <td>04-18_03-42-57</td>\n",
       "      <td>(120, 120)</td>\n",
       "      <td>10000</td>\n",
       "      <td>2650.036</td>\n",
       "      <td>2.624929e+04</td>\n",
       "      <td>14367</td>\n",
       "      <td>...</td>\n",
       "      <td>14_mxc_0_[4, 1, 2, 3, 5]_date_04-18_03-42-57_x...</td>\n",
       "      <td>10000</td>\n",
       "      <td>13013</td>\n",
       "      <td>11787</td>\n",
       "      <td>8818</td>\n",
       "      <td>12283</td>\n",
       "      <td>12266</td>\n",
       "      <td>11097</td>\n",
       "      <td>12046</td>\n",
       "      <td>0</td>\n",
       "    </tr>\n",
       "  </tbody>\n",
       "</table>\n",
       "<p>578 rows × 21 columns</p>\n",
       "</div>"
      ],
      "text/plain": [
       "     Equals  max_count           values  \\\n",
       "0         0      False  (1, 3, 2, 4, 5)   \n",
       "1      3659       True  (2, 1, 3, 4, 5)   \n",
       "2         0      False  (2, 1, 3, 4, 5)   \n",
       "3         0       True  (1, 4, 2, 3, 5)   \n",
       "4         0       True  (2, 4, 1, 3, 5)   \n",
       "..      ...        ...              ...   \n",
       "573    3512       True  (2, 3, 1, 4, 5)   \n",
       "574       0      False  (1, 4, 2, 3, 5)   \n",
       "575       0       True  (1, 2, 3, 4, 1)   \n",
       "576       0      False  (1, 2, 4, 3, 5)   \n",
       "577       0       True  (4, 1, 2, 3, 5)   \n",
       "\n",
       "                                      last_line_string  \\\n",
       "0    [UD:, 10000, Gen:, 9906.699, Fit:, 1.068264e+9...   \n",
       "1    [UD:, 7500, Gen:, 2688.768, Fit:, 2.278786e+21...   \n",
       "2    [UD:, 10000, Gen:, 3455.037, Fit:, 2.225637e+2...   \n",
       "3    [UD:, 10000, Gen:, 2139.232, Fit:, 6436.750, O...   \n",
       "4    [UD:, 10000, Gen:, 1971.971, Fit:, 8111.602, O...   \n",
       "..                                                 ...   \n",
       "573  [UD:, 10000, Gen:, 1133.529, Fit:, 4.690366e+1...   \n",
       "574  [UD:, 7500, Gen:, 2848.906, Fit:, 2.602341e+26...   \n",
       "575  [UD:, 10000, Gen:, 2267.469, Fit:, 4658.941, O...   \n",
       "576  [UD:, 9400, Gen:, 3559.430, Fit:, 5.733812e+25...   \n",
       "577  [UD:, 10000, Gen:, 2650.036, Fit:, 26249.29, O...   \n",
       "\n",
       "    experiment_start_time_string   xy_values  Last_UD       Gen  \\\n",
       "0                 04-17_16-23-01  (120, 120)    10000  9906.699   \n",
       "1                 04-18_14-08-24  (120, 120)     7500  2688.768   \n",
       "2                 04-20_17-28-43  (120, 120)    10000  3455.037   \n",
       "3                 04-19_01-01-47  (120, 120)    10000  2139.232   \n",
       "4                 04-20_20-27-19  (120, 120)    10000  1971.971   \n",
       "..                           ...         ...      ...       ...   \n",
       "573               04-21_11-55-14  (120, 120)    10000  1133.529   \n",
       "574               04-19_01-21-12  (120, 120)     7500  2848.906   \n",
       "575               04-22_01-04-11  (120, 120)    10000  2267.469   \n",
       "576               04-18_10-25-05  (120, 120)     9400  3559.430   \n",
       "577               04-18_03-42-57  (120, 120)    10000  2650.036   \n",
       "\n",
       "               Fit   Orgs  ...  \\\n",
       "0     1.068264e+90  11072  ...   \n",
       "1    2.278786e+216  14243  ...   \n",
       "2    2.225637e+251  13895  ...   \n",
       "3     6.436750e+03  14381  ...   \n",
       "4     8.111602e+03  14372  ...   \n",
       "..             ...    ...  ...   \n",
       "573   4.690366e+19  14373  ...   \n",
       "574  2.602341e+268  13621  ...   \n",
       "575   4.658941e+03  14386  ...   \n",
       "576  5.733812e+254  14199  ...   \n",
       "577   2.624929e+04  14367  ...   \n",
       "\n",
       "                                              filename Update    Not   Nand  \\\n",
       "0    14_mxc_-1_[1, 3, 2, 4, 5]_date_04-17_16-23-01_...  10000   2681   2130   \n",
       "1    15_mxc_0_[2, 1, 3, 4, 5]_date_04-18_14-08-24_x...   7500  12625   8530   \n",
       "2    19_mxc_-1_[2, 1, 3, 4, 5]_date_04-20_17-28-43_...  10000  11965  10328   \n",
       "3    16_mxc_0_[1, 4, 2, 3, 5]_date_04-19_01-01-47_x...  10000  13292  13071   \n",
       "4    19_mxc_0_[2, 4, 1, 3, 5]_date_04-20_20-27-19_x...  10000  13089  12615   \n",
       "..                                                 ...    ...    ...    ...   \n",
       "573  20_mxc_0_[2, 3, 1, 4, 5]_date_04-21_11-55-14_x...  10000  11353  12723   \n",
       "574  16_mxc_-1_[1, 4, 2, 3, 5]_date_04-19_01-21-12_...   7500    149    954   \n",
       "575  21_mxc_0_[1, 2, 3, 4, 1]_date_04-22_01-04-11_x...  10000  13584  13493   \n",
       "576  15_mxc_-1_[1, 2, 4, 3, 5]_date_04-18_10-25-05_...   9400    399  11795   \n",
       "577  14_mxc_0_[4, 1, 2, 3, 5]_date_04-18_03-42-57_x...  10000  13013  11787   \n",
       "\n",
       "       And  OrNot     Or  AndNot    Nor   Xor  \n",
       "0      546   4806     16       5      0     0  \n",
       "1     7777   9272  10479   10959  10183  2208  \n",
       "2       96   1916     18    8750     27     0  \n",
       "3    11925  12860  12380    4427   8338     0  \n",
       "4    13266  12265     32     157  11552     0  \n",
       "..     ...    ...    ...     ...    ...   ...  \n",
       "573   4559  12986   4171     209   4151     0  \n",
       "574      0  11538     10      27      0     0  \n",
       "575    145  13380  13002   13042  13036     0  \n",
       "576    151    174   7093   11153      0     3  \n",
       "577   8818  12283  12266   11097  12046     0  \n",
       "\n",
       "[578 rows x 21 columns]"
      ]
     },
     "execution_count": 6,
     "metadata": {},
     "output_type": "execute_result"
    }
   ],
   "source": [
    "import os\n",
    "import pandas as pd\n",
    "import re\n",
    "# List to store the file names and last lines\n",
    "file_data = []\n",
    "\n",
    "# Regular expression pattern\n",
    "pattern = r\"(\\d+)_mxc_([\\w-]+)_(\\[.*\\])_date_(\\d{2}-\\d{2})_(\\d{2}-\\d{2}-\\d{2})_xydict_values\\((\\[.*\\])\\)\\.txt\"\n",
    "# Create an empty DataFrame with the required columns\n",
    "column_names = ['index', 'max_count', 'values', 'experiment_start_time_string', 'xy_values', 'Last_UD', 'Gen', 'Fit', 'Orgs']\n",
    "df = pd.DataFrame(columns=column_names)\n",
    "\n",
    "# Create an empty list to store the data\n",
    "data_list = []\n",
    "\n",
    "# Loop through all the files in the directory\n",
    "for filename in os.listdir(dir_path):\n",
    "    # Check if the file is a text file\n",
    "    if filename.endswith('.txt'):\n",
    "        # Open the file and read the last line\n",
    "        with open(os.path.join(dir_path, filename), 'r') as f:\n",
    "            # Search for pattern in the log_file_name\n",
    "            match = re.search(pattern, filename)\n",
    "            if not match:\n",
    "                raise Exception(\"No match found for pattern in file name: {}\".format(filename))\n",
    "            index = int(match.group(1))\n",
    "            max_count = match.group(2)\n",
    "            if max_count == '-1':\n",
    "                max_count = False\n",
    "            elif max_count == '0':\n",
    "                max_count = True\n",
    "            else:\n",
    "                continue\n",
    "            # max_count = match.group(2) == 'True'\n",
    "            values = tuple(int(i) for i in match.group(3).strip('[]').split(', '))\n",
    "            experiment_start_time_string = match.group(4) + \"_\" + match.group(5)\n",
    "            xy_values = tuple(int(i) for i in match.group(6).strip('[]').split(', '))\n",
    "            \n",
    "            lines = f.readlines()\n",
    "            last_line = lines[-1].strip()\n",
    "            \n",
    "            with open(os.path.join(dat_dir_path, filename), 'r') as fdat: \n",
    "                lines_dat = fdat.readlines()\n",
    "                last_line_dat = lines_dat[-1].strip()\n",
    "                numbers = last_line_dat.split()\n",
    "\n",
    "                dictionary = {\n",
    "                    \"Update\": int(numbers[0]),\n",
    "                    \"Not\": int(numbers[1]),\n",
    "                    \"Nand\": int(numbers[2]),\n",
    "                    \"And\": int(numbers[3]),\n",
    "                    \"OrNot\": int(numbers[4]),\n",
    "                    \"Or\": int(numbers[5]),\n",
    "                    \"AndNot\": int(numbers[6]),\n",
    "                    \"Nor\": int(numbers[7]),\n",
    "                    \"Xor\": int(numbers[8])\n",
    "                }\n",
    "                EQU_dict = {\n",
    "                    \"Equals\": int(numbers[9])}\n",
    "\n",
    "            \n",
    "            if last_line.startswith('UD:'):\n",
    "                last_line_string = last_line.strip().split()\n",
    "\n",
    "                data = {\n",
    "                'max_count': max_count,\n",
    "                'values': values,\n",
    "                'last_line_string': last_line_string,\n",
    "                'experiment_start_time_string': experiment_start_time_string,\n",
    "                'xy_values': xy_values,\n",
    "                'Last_UD': int(last_line_string[1]),\n",
    "                'Gen': float(last_line_string[3]),\n",
    "                'Fit': float(last_line_string[5]),\n",
    "                'Orgs': int(last_line_string[7]),\n",
    "                'index': index,\n",
    "                'filename': filename,\n",
    "                }\n",
    "                data.update(dictionary)\n",
    "                EQU_dict.update(data)\n",
    "\n",
    "                # Append the data to the list\n",
    "                data_list.append(EQU_dict)\n",
    "            else: \n",
    "                raise Exception(\"Last line does not start with UD: {}\".format(filename))\n",
    "\n",
    "# Create the DataFrame from the data list\n",
    "df = pd.DataFrame(data_list)\n",
    "\n",
    "# Print the dataframe\n",
    "df\n"
   ]
  },
  {
   "cell_type": "code",
   "execution_count": 7,
   "metadata": {},
   "outputs": [],
   "source": [
    "import pandas as pd\n",
    "import pickle\n",
    "\n",
    "# Pickle the dataframe to a file\n",
    "with open('229r/results/all1_copy_fitness_and_counts_df.pickle', 'wb') as f:\n",
    "    pickle.dump(df, f)\n"
   ]
  },
  {
   "cell_type": "code",
   "execution_count": 8,
   "metadata": {},
   "outputs": [
    {
     "data": {
      "text/html": [
       "<div>\n",
       "<style scoped>\n",
       "    .dataframe tbody tr th:only-of-type {\n",
       "        vertical-align: middle;\n",
       "    }\n",
       "\n",
       "    .dataframe tbody tr th {\n",
       "        vertical-align: top;\n",
       "    }\n",
       "\n",
       "    .dataframe thead th {\n",
       "        text-align: right;\n",
       "    }\n",
       "</style>\n",
       "<table border=\"1\" class=\"dataframe\">\n",
       "  <thead>\n",
       "    <tr style=\"text-align: right;\">\n",
       "      <th></th>\n",
       "      <th>Equals</th>\n",
       "      <th>max_count</th>\n",
       "      <th>values</th>\n",
       "      <th>last_line_string</th>\n",
       "      <th>experiment_start_time_string</th>\n",
       "      <th>xy_values</th>\n",
       "      <th>Last_UD</th>\n",
       "      <th>Gen</th>\n",
       "      <th>Fit</th>\n",
       "      <th>Orgs</th>\n",
       "      <th>...</th>\n",
       "      <th>filename</th>\n",
       "      <th>Update</th>\n",
       "      <th>Not</th>\n",
       "      <th>Nand</th>\n",
       "      <th>And</th>\n",
       "      <th>OrNot</th>\n",
       "      <th>Or</th>\n",
       "      <th>AndNot</th>\n",
       "      <th>Nor</th>\n",
       "      <th>Xor</th>\n",
       "    </tr>\n",
       "  </thead>\n",
       "  <tbody>\n",
       "    <tr>\n",
       "      <th>0</th>\n",
       "      <td>0</td>\n",
       "      <td>False</td>\n",
       "      <td>(1, 3, 2, 4, 5)</td>\n",
       "      <td>[UD:, 10000, Gen:, 9906.699, Fit:, 1.068264e+9...</td>\n",
       "      <td>04-17_16-23-01</td>\n",
       "      <td>(120, 120)</td>\n",
       "      <td>10000</td>\n",
       "      <td>9906.699</td>\n",
       "      <td>1.068264e+90</td>\n",
       "      <td>11072</td>\n",
       "      <td>...</td>\n",
       "      <td>14_mxc_-1_[1, 3, 2, 4, 5]_date_04-17_16-23-01_...</td>\n",
       "      <td>10000</td>\n",
       "      <td>2681</td>\n",
       "      <td>2130</td>\n",
       "      <td>546</td>\n",
       "      <td>4806</td>\n",
       "      <td>16</td>\n",
       "      <td>5</td>\n",
       "      <td>0</td>\n",
       "      <td>0</td>\n",
       "    </tr>\n",
       "    <tr>\n",
       "      <th>1</th>\n",
       "      <td>3659</td>\n",
       "      <td>True</td>\n",
       "      <td>(2, 1, 3, 4, 5)</td>\n",
       "      <td>[UD:, 7500, Gen:, 2688.768, Fit:, 2.278786e+21...</td>\n",
       "      <td>04-18_14-08-24</td>\n",
       "      <td>(120, 120)</td>\n",
       "      <td>7500</td>\n",
       "      <td>2688.768</td>\n",
       "      <td>2.278786e+216</td>\n",
       "      <td>14243</td>\n",
       "      <td>...</td>\n",
       "      <td>15_mxc_0_[2, 1, 3, 4, 5]_date_04-18_14-08-24_x...</td>\n",
       "      <td>7500</td>\n",
       "      <td>12625</td>\n",
       "      <td>8530</td>\n",
       "      <td>7777</td>\n",
       "      <td>9272</td>\n",
       "      <td>10479</td>\n",
       "      <td>10959</td>\n",
       "      <td>10183</td>\n",
       "      <td>2208</td>\n",
       "    </tr>\n",
       "    <tr>\n",
       "      <th>2</th>\n",
       "      <td>0</td>\n",
       "      <td>False</td>\n",
       "      <td>(2, 1, 3, 4, 5)</td>\n",
       "      <td>[UD:, 10000, Gen:, 3455.037, Fit:, 2.225637e+2...</td>\n",
       "      <td>04-20_17-28-43</td>\n",
       "      <td>(120, 120)</td>\n",
       "      <td>10000</td>\n",
       "      <td>3455.037</td>\n",
       "      <td>2.225637e+251</td>\n",
       "      <td>13895</td>\n",
       "      <td>...</td>\n",
       "      <td>19_mxc_-1_[2, 1, 3, 4, 5]_date_04-20_17-28-43_...</td>\n",
       "      <td>10000</td>\n",
       "      <td>11965</td>\n",
       "      <td>10328</td>\n",
       "      <td>96</td>\n",
       "      <td>1916</td>\n",
       "      <td>18</td>\n",
       "      <td>8750</td>\n",
       "      <td>27</td>\n",
       "      <td>0</td>\n",
       "    </tr>\n",
       "    <tr>\n",
       "      <th>3</th>\n",
       "      <td>0</td>\n",
       "      <td>True</td>\n",
       "      <td>(1, 4, 2, 3, 5)</td>\n",
       "      <td>[UD:, 10000, Gen:, 2139.232, Fit:, 6436.750, O...</td>\n",
       "      <td>04-19_01-01-47</td>\n",
       "      <td>(120, 120)</td>\n",
       "      <td>10000</td>\n",
       "      <td>2139.232</td>\n",
       "      <td>6.436750e+03</td>\n",
       "      <td>14381</td>\n",
       "      <td>...</td>\n",
       "      <td>16_mxc_0_[1, 4, 2, 3, 5]_date_04-19_01-01-47_x...</td>\n",
       "      <td>10000</td>\n",
       "      <td>13292</td>\n",
       "      <td>13071</td>\n",
       "      <td>11925</td>\n",
       "      <td>12860</td>\n",
       "      <td>12380</td>\n",
       "      <td>4427</td>\n",
       "      <td>8338</td>\n",
       "      <td>0</td>\n",
       "    </tr>\n",
       "    <tr>\n",
       "      <th>4</th>\n",
       "      <td>0</td>\n",
       "      <td>True</td>\n",
       "      <td>(2, 4, 1, 3, 5)</td>\n",
       "      <td>[UD:, 10000, Gen:, 1971.971, Fit:, 8111.602, O...</td>\n",
       "      <td>04-20_20-27-19</td>\n",
       "      <td>(120, 120)</td>\n",
       "      <td>10000</td>\n",
       "      <td>1971.971</td>\n",
       "      <td>8.111602e+03</td>\n",
       "      <td>14372</td>\n",
       "      <td>...</td>\n",
       "      <td>19_mxc_0_[2, 4, 1, 3, 5]_date_04-20_20-27-19_x...</td>\n",
       "      <td>10000</td>\n",
       "      <td>13089</td>\n",
       "      <td>12615</td>\n",
       "      <td>13266</td>\n",
       "      <td>12265</td>\n",
       "      <td>32</td>\n",
       "      <td>157</td>\n",
       "      <td>11552</td>\n",
       "      <td>0</td>\n",
       "    </tr>\n",
       "    <tr>\n",
       "      <th>...</th>\n",
       "      <td>...</td>\n",
       "      <td>...</td>\n",
       "      <td>...</td>\n",
       "      <td>...</td>\n",
       "      <td>...</td>\n",
       "      <td>...</td>\n",
       "      <td>...</td>\n",
       "      <td>...</td>\n",
       "      <td>...</td>\n",
       "      <td>...</td>\n",
       "      <td>...</td>\n",
       "      <td>...</td>\n",
       "      <td>...</td>\n",
       "      <td>...</td>\n",
       "      <td>...</td>\n",
       "      <td>...</td>\n",
       "      <td>...</td>\n",
       "      <td>...</td>\n",
       "      <td>...</td>\n",
       "      <td>...</td>\n",
       "      <td>...</td>\n",
       "    </tr>\n",
       "    <tr>\n",
       "      <th>573</th>\n",
       "      <td>3512</td>\n",
       "      <td>True</td>\n",
       "      <td>(2, 3, 1, 4, 5)</td>\n",
       "      <td>[UD:, 10000, Gen:, 1133.529, Fit:, 4.690366e+1...</td>\n",
       "      <td>04-21_11-55-14</td>\n",
       "      <td>(120, 120)</td>\n",
       "      <td>10000</td>\n",
       "      <td>1133.529</td>\n",
       "      <td>4.690366e+19</td>\n",
       "      <td>14373</td>\n",
       "      <td>...</td>\n",
       "      <td>20_mxc_0_[2, 3, 1, 4, 5]_date_04-21_11-55-14_x...</td>\n",
       "      <td>10000</td>\n",
       "      <td>11353</td>\n",
       "      <td>12723</td>\n",
       "      <td>4559</td>\n",
       "      <td>12986</td>\n",
       "      <td>4171</td>\n",
       "      <td>209</td>\n",
       "      <td>4151</td>\n",
       "      <td>0</td>\n",
       "    </tr>\n",
       "    <tr>\n",
       "      <th>574</th>\n",
       "      <td>0</td>\n",
       "      <td>False</td>\n",
       "      <td>(1, 4, 2, 3, 5)</td>\n",
       "      <td>[UD:, 7500, Gen:, 2848.906, Fit:, 2.602341e+26...</td>\n",
       "      <td>04-19_01-21-12</td>\n",
       "      <td>(120, 120)</td>\n",
       "      <td>7500</td>\n",
       "      <td>2848.906</td>\n",
       "      <td>2.602341e+268</td>\n",
       "      <td>13621</td>\n",
       "      <td>...</td>\n",
       "      <td>16_mxc_-1_[1, 4, 2, 3, 5]_date_04-19_01-21-12_...</td>\n",
       "      <td>7500</td>\n",
       "      <td>149</td>\n",
       "      <td>954</td>\n",
       "      <td>0</td>\n",
       "      <td>11538</td>\n",
       "      <td>10</td>\n",
       "      <td>27</td>\n",
       "      <td>0</td>\n",
       "      <td>0</td>\n",
       "    </tr>\n",
       "    <tr>\n",
       "      <th>575</th>\n",
       "      <td>0</td>\n",
       "      <td>True</td>\n",
       "      <td>(1, 2, 3, 4, 1)</td>\n",
       "      <td>[UD:, 10000, Gen:, 2267.469, Fit:, 4658.941, O...</td>\n",
       "      <td>04-22_01-04-11</td>\n",
       "      <td>(120, 120)</td>\n",
       "      <td>10000</td>\n",
       "      <td>2267.469</td>\n",
       "      <td>4.658941e+03</td>\n",
       "      <td>14386</td>\n",
       "      <td>...</td>\n",
       "      <td>21_mxc_0_[1, 2, 3, 4, 1]_date_04-22_01-04-11_x...</td>\n",
       "      <td>10000</td>\n",
       "      <td>13584</td>\n",
       "      <td>13493</td>\n",
       "      <td>145</td>\n",
       "      <td>13380</td>\n",
       "      <td>13002</td>\n",
       "      <td>13042</td>\n",
       "      <td>13036</td>\n",
       "      <td>0</td>\n",
       "    </tr>\n",
       "    <tr>\n",
       "      <th>576</th>\n",
       "      <td>0</td>\n",
       "      <td>False</td>\n",
       "      <td>(1, 2, 4, 3, 5)</td>\n",
       "      <td>[UD:, 9400, Gen:, 3559.430, Fit:, 5.733812e+25...</td>\n",
       "      <td>04-18_10-25-05</td>\n",
       "      <td>(120, 120)</td>\n",
       "      <td>9400</td>\n",
       "      <td>3559.430</td>\n",
       "      <td>5.733812e+254</td>\n",
       "      <td>14199</td>\n",
       "      <td>...</td>\n",
       "      <td>15_mxc_-1_[1, 2, 4, 3, 5]_date_04-18_10-25-05_...</td>\n",
       "      <td>9400</td>\n",
       "      <td>399</td>\n",
       "      <td>11795</td>\n",
       "      <td>151</td>\n",
       "      <td>174</td>\n",
       "      <td>7093</td>\n",
       "      <td>11153</td>\n",
       "      <td>0</td>\n",
       "      <td>3</td>\n",
       "    </tr>\n",
       "    <tr>\n",
       "      <th>577</th>\n",
       "      <td>0</td>\n",
       "      <td>True</td>\n",
       "      <td>(4, 1, 2, 3, 5)</td>\n",
       "      <td>[UD:, 10000, Gen:, 2650.036, Fit:, 26249.29, O...</td>\n",
       "      <td>04-18_03-42-57</td>\n",
       "      <td>(120, 120)</td>\n",
       "      <td>10000</td>\n",
       "      <td>2650.036</td>\n",
       "      <td>2.624929e+04</td>\n",
       "      <td>14367</td>\n",
       "      <td>...</td>\n",
       "      <td>14_mxc_0_[4, 1, 2, 3, 5]_date_04-18_03-42-57_x...</td>\n",
       "      <td>10000</td>\n",
       "      <td>13013</td>\n",
       "      <td>11787</td>\n",
       "      <td>8818</td>\n",
       "      <td>12283</td>\n",
       "      <td>12266</td>\n",
       "      <td>11097</td>\n",
       "      <td>12046</td>\n",
       "      <td>0</td>\n",
       "    </tr>\n",
       "  </tbody>\n",
       "</table>\n",
       "<p>578 rows × 21 columns</p>\n",
       "</div>"
      ],
      "text/plain": [
       "     Equals  max_count           values  \\\n",
       "0         0      False  (1, 3, 2, 4, 5)   \n",
       "1      3659       True  (2, 1, 3, 4, 5)   \n",
       "2         0      False  (2, 1, 3, 4, 5)   \n",
       "3         0       True  (1, 4, 2, 3, 5)   \n",
       "4         0       True  (2, 4, 1, 3, 5)   \n",
       "..      ...        ...              ...   \n",
       "573    3512       True  (2, 3, 1, 4, 5)   \n",
       "574       0      False  (1, 4, 2, 3, 5)   \n",
       "575       0       True  (1, 2, 3, 4, 1)   \n",
       "576       0      False  (1, 2, 4, 3, 5)   \n",
       "577       0       True  (4, 1, 2, 3, 5)   \n",
       "\n",
       "                                      last_line_string  \\\n",
       "0    [UD:, 10000, Gen:, 9906.699, Fit:, 1.068264e+9...   \n",
       "1    [UD:, 7500, Gen:, 2688.768, Fit:, 2.278786e+21...   \n",
       "2    [UD:, 10000, Gen:, 3455.037, Fit:, 2.225637e+2...   \n",
       "3    [UD:, 10000, Gen:, 2139.232, Fit:, 6436.750, O...   \n",
       "4    [UD:, 10000, Gen:, 1971.971, Fit:, 8111.602, O...   \n",
       "..                                                 ...   \n",
       "573  [UD:, 10000, Gen:, 1133.529, Fit:, 4.690366e+1...   \n",
       "574  [UD:, 7500, Gen:, 2848.906, Fit:, 2.602341e+26...   \n",
       "575  [UD:, 10000, Gen:, 2267.469, Fit:, 4658.941, O...   \n",
       "576  [UD:, 9400, Gen:, 3559.430, Fit:, 5.733812e+25...   \n",
       "577  [UD:, 10000, Gen:, 2650.036, Fit:, 26249.29, O...   \n",
       "\n",
       "    experiment_start_time_string   xy_values  Last_UD       Gen  \\\n",
       "0                 04-17_16-23-01  (120, 120)    10000  9906.699   \n",
       "1                 04-18_14-08-24  (120, 120)     7500  2688.768   \n",
       "2                 04-20_17-28-43  (120, 120)    10000  3455.037   \n",
       "3                 04-19_01-01-47  (120, 120)    10000  2139.232   \n",
       "4                 04-20_20-27-19  (120, 120)    10000  1971.971   \n",
       "..                           ...         ...      ...       ...   \n",
       "573               04-21_11-55-14  (120, 120)    10000  1133.529   \n",
       "574               04-19_01-21-12  (120, 120)     7500  2848.906   \n",
       "575               04-22_01-04-11  (120, 120)    10000  2267.469   \n",
       "576               04-18_10-25-05  (120, 120)     9400  3559.430   \n",
       "577               04-18_03-42-57  (120, 120)    10000  2650.036   \n",
       "\n",
       "               Fit   Orgs  ...  \\\n",
       "0     1.068264e+90  11072  ...   \n",
       "1    2.278786e+216  14243  ...   \n",
       "2    2.225637e+251  13895  ...   \n",
       "3     6.436750e+03  14381  ...   \n",
       "4     8.111602e+03  14372  ...   \n",
       "..             ...    ...  ...   \n",
       "573   4.690366e+19  14373  ...   \n",
       "574  2.602341e+268  13621  ...   \n",
       "575   4.658941e+03  14386  ...   \n",
       "576  5.733812e+254  14199  ...   \n",
       "577   2.624929e+04  14367  ...   \n",
       "\n",
       "                                              filename Update    Not   Nand  \\\n",
       "0    14_mxc_-1_[1, 3, 2, 4, 5]_date_04-17_16-23-01_...  10000   2681   2130   \n",
       "1    15_mxc_0_[2, 1, 3, 4, 5]_date_04-18_14-08-24_x...   7500  12625   8530   \n",
       "2    19_mxc_-1_[2, 1, 3, 4, 5]_date_04-20_17-28-43_...  10000  11965  10328   \n",
       "3    16_mxc_0_[1, 4, 2, 3, 5]_date_04-19_01-01-47_x...  10000  13292  13071   \n",
       "4    19_mxc_0_[2, 4, 1, 3, 5]_date_04-20_20-27-19_x...  10000  13089  12615   \n",
       "..                                                 ...    ...    ...    ...   \n",
       "573  20_mxc_0_[2, 3, 1, 4, 5]_date_04-21_11-55-14_x...  10000  11353  12723   \n",
       "574  16_mxc_-1_[1, 4, 2, 3, 5]_date_04-19_01-21-12_...   7500    149    954   \n",
       "575  21_mxc_0_[1, 2, 3, 4, 1]_date_04-22_01-04-11_x...  10000  13584  13493   \n",
       "576  15_mxc_-1_[1, 2, 4, 3, 5]_date_04-18_10-25-05_...   9400    399  11795   \n",
       "577  14_mxc_0_[4, 1, 2, 3, 5]_date_04-18_03-42-57_x...  10000  13013  11787   \n",
       "\n",
       "       And  OrNot     Or  AndNot    Nor   Xor  \n",
       "0      546   4806     16       5      0     0  \n",
       "1     7777   9272  10479   10959  10183  2208  \n",
       "2       96   1916     18    8750     27     0  \n",
       "3    11925  12860  12380    4427   8338     0  \n",
       "4    13266  12265     32     157  11552     0  \n",
       "..     ...    ...    ...     ...    ...   ...  \n",
       "573   4559  12986   4171     209   4151     0  \n",
       "574      0  11538     10      27      0     0  \n",
       "575    145  13380  13002   13042  13036     0  \n",
       "576    151    174   7093   11153      0     3  \n",
       "577   8818  12283  12266   11097  12046     0  \n",
       "\n",
       "[578 rows x 21 columns]"
      ]
     },
     "metadata": {},
     "output_type": "display_data"
    }
   ],
   "source": [
    "import pandas as pd\n",
    "import pickle\n",
    "\n",
    "# Load the pickled dataframe from the file\n",
    "with open('229r/results/all1_copy_fitness_and_counts_df.pickle', 'rb') as f:\n",
    "    df = pickle.load(f)\n",
    "\n",
    "# Print the dataframe\n",
    "display(df)\n"
   ]
  },
  {
   "cell_type": "code",
   "execution_count": 9,
   "metadata": {},
   "outputs": [
    {
     "data": {
      "text/html": [
       "<div>\n",
       "<style scoped>\n",
       "    .dataframe tbody tr th:only-of-type {\n",
       "        vertical-align: middle;\n",
       "    }\n",
       "\n",
       "    .dataframe tbody tr th {\n",
       "        vertical-align: top;\n",
       "    }\n",
       "\n",
       "    .dataframe thead th {\n",
       "        text-align: right;\n",
       "    }\n",
       "</style>\n",
       "<table border=\"1\" class=\"dataframe\">\n",
       "  <thead>\n",
       "    <tr style=\"text-align: right;\">\n",
       "      <th></th>\n",
       "      <th>Equals</th>\n",
       "      <th>Last_UD</th>\n",
       "      <th>Gen</th>\n",
       "      <th>Fit</th>\n",
       "      <th>Orgs</th>\n",
       "      <th>index</th>\n",
       "      <th>Update</th>\n",
       "      <th>Not</th>\n",
       "      <th>Nand</th>\n",
       "      <th>And</th>\n",
       "      <th>OrNot</th>\n",
       "      <th>Or</th>\n",
       "      <th>AndNot</th>\n",
       "      <th>Nor</th>\n",
       "      <th>Xor</th>\n",
       "    </tr>\n",
       "  </thead>\n",
       "  <tbody>\n",
       "    <tr>\n",
       "      <th>count</th>\n",
       "      <td>578.000000</td>\n",
       "      <td>578.000000</td>\n",
       "      <td>578.000000</td>\n",
       "      <td>5.780000e+02</td>\n",
       "      <td>578.000000</td>\n",
       "      <td>578.000000</td>\n",
       "      <td>578.000000</td>\n",
       "      <td>578.000000</td>\n",
       "      <td>578.000000</td>\n",
       "      <td>578.000000</td>\n",
       "      <td>578.000000</td>\n",
       "      <td>578.000000</td>\n",
       "      <td>578.000000</td>\n",
       "      <td>578.000000</td>\n",
       "      <td>578.000000</td>\n",
       "    </tr>\n",
       "    <tr>\n",
       "      <th>mean</th>\n",
       "      <td>1833.005190</td>\n",
       "      <td>6519.397924</td>\n",
       "      <td>1663.193550</td>\n",
       "      <td>1.148863e+298</td>\n",
       "      <td>13009.916955</td>\n",
       "      <td>19.655709</td>\n",
       "      <td>6519.031142</td>\n",
       "      <td>8388.432526</td>\n",
       "      <td>8112.685121</td>\n",
       "      <td>3910.031142</td>\n",
       "      <td>7839.410035</td>\n",
       "      <td>5413.899654</td>\n",
       "      <td>5533.247405</td>\n",
       "      <td>4490.749135</td>\n",
       "      <td>718.816609</td>\n",
       "    </tr>\n",
       "    <tr>\n",
       "      <th>std</th>\n",
       "      <td>3573.432349</td>\n",
       "      <td>3754.026710</td>\n",
       "      <td>1281.672885</td>\n",
       "      <td>inf</td>\n",
       "      <td>2342.594908</td>\n",
       "      <td>3.392439</td>\n",
       "      <td>3754.274434</td>\n",
       "      <td>5018.280094</td>\n",
       "      <td>5184.303802</td>\n",
       "      <td>5218.896424</td>\n",
       "      <td>5236.033314</td>\n",
       "      <td>5480.201588</td>\n",
       "      <td>5631.203604</td>\n",
       "      <td>5328.384460</td>\n",
       "      <td>2480.888987</td>\n",
       "    </tr>\n",
       "    <tr>\n",
       "      <th>min</th>\n",
       "      <td>0.000000</td>\n",
       "      <td>600.000000</td>\n",
       "      <td>46.682100</td>\n",
       "      <td>2.501915e-01</td>\n",
       "      <td>3393.000000</td>\n",
       "      <td>14.000000</td>\n",
       "      <td>600.000000</td>\n",
       "      <td>7.000000</td>\n",
       "      <td>0.000000</td>\n",
       "      <td>0.000000</td>\n",
       "      <td>0.000000</td>\n",
       "      <td>0.000000</td>\n",
       "      <td>0.000000</td>\n",
       "      <td>0.000000</td>\n",
       "      <td>0.000000</td>\n",
       "    </tr>\n",
       "    <tr>\n",
       "      <th>25%</th>\n",
       "      <td>0.000000</td>\n",
       "      <td>2025.000000</td>\n",
       "      <td>467.470475</td>\n",
       "      <td>3.139133e+04</td>\n",
       "      <td>12761.500000</td>\n",
       "      <td>16.000000</td>\n",
       "      <td>2025.000000</td>\n",
       "      <td>3233.750000</td>\n",
       "      <td>2746.250000</td>\n",
       "      <td>5.000000</td>\n",
       "      <td>1792.000000</td>\n",
       "      <td>10.000000</td>\n",
       "      <td>9.000000</td>\n",
       "      <td>0.000000</td>\n",
       "      <td>0.000000</td>\n",
       "    </tr>\n",
       "    <tr>\n",
       "      <th>50%</th>\n",
       "      <td>0.000000</td>\n",
       "      <td>8350.000000</td>\n",
       "      <td>1793.716500</td>\n",
       "      <td>1.718598e+24</td>\n",
       "      <td>14236.000000</td>\n",
       "      <td>20.000000</td>\n",
       "      <td>8350.000000</td>\n",
       "      <td>10840.500000</td>\n",
       "      <td>10133.000000</td>\n",
       "      <td>156.500000</td>\n",
       "      <td>10534.500000</td>\n",
       "      <td>2764.500000</td>\n",
       "      <td>2677.000000</td>\n",
       "      <td>139.000000</td>\n",
       "      <td>0.000000</td>\n",
       "    </tr>\n",
       "    <tr>\n",
       "      <th>75%</th>\n",
       "      <td>306.000000</td>\n",
       "      <td>10000.000000</td>\n",
       "      <td>2387.734000</td>\n",
       "      <td>1.847496e+190</td>\n",
       "      <td>14362.000000</td>\n",
       "      <td>22.000000</td>\n",
       "      <td>10000.000000</td>\n",
       "      <td>13094.750000</td>\n",
       "      <td>13076.750000</td>\n",
       "      <td>10598.500000</td>\n",
       "      <td>12676.250000</td>\n",
       "      <td>11615.000000</td>\n",
       "      <td>11830.750000</td>\n",
       "      <td>11066.000000</td>\n",
       "      <td>1.000000</td>\n",
       "    </tr>\n",
       "    <tr>\n",
       "      <th>max</th>\n",
       "      <td>13372.000000</td>\n",
       "      <td>10000.000000</td>\n",
       "      <td>9906.699000</td>\n",
       "      <td>5.375361e+300</td>\n",
       "      <td>14392.000000</td>\n",
       "      <td>25.000000</td>\n",
       "      <td>10000.000000</td>\n",
       "      <td>14009.000000</td>\n",
       "      <td>13973.000000</td>\n",
       "      <td>13342.000000</td>\n",
       "      <td>13933.000000</td>\n",
       "      <td>13174.000000</td>\n",
       "      <td>13592.000000</td>\n",
       "      <td>13380.000000</td>\n",
       "      <td>11815.000000</td>\n",
       "    </tr>\n",
       "  </tbody>\n",
       "</table>\n",
       "</div>"
      ],
      "text/plain": [
       "             Equals       Last_UD          Gen            Fit          Orgs  \\\n",
       "count    578.000000    578.000000   578.000000   5.780000e+02    578.000000   \n",
       "mean    1833.005190   6519.397924  1663.193550  1.148863e+298  13009.916955   \n",
       "std     3573.432349   3754.026710  1281.672885            inf   2342.594908   \n",
       "min        0.000000    600.000000    46.682100   2.501915e-01   3393.000000   \n",
       "25%        0.000000   2025.000000   467.470475   3.139133e+04  12761.500000   \n",
       "50%        0.000000   8350.000000  1793.716500   1.718598e+24  14236.000000   \n",
       "75%      306.000000  10000.000000  2387.734000  1.847496e+190  14362.000000   \n",
       "max    13372.000000  10000.000000  9906.699000  5.375361e+300  14392.000000   \n",
       "\n",
       "            index        Update           Not          Nand           And  \\\n",
       "count  578.000000    578.000000    578.000000    578.000000    578.000000   \n",
       "mean    19.655709   6519.031142   8388.432526   8112.685121   3910.031142   \n",
       "std      3.392439   3754.274434   5018.280094   5184.303802   5218.896424   \n",
       "min     14.000000    600.000000      7.000000      0.000000      0.000000   \n",
       "25%     16.000000   2025.000000   3233.750000   2746.250000      5.000000   \n",
       "50%     20.000000   8350.000000  10840.500000  10133.000000    156.500000   \n",
       "75%     22.000000  10000.000000  13094.750000  13076.750000  10598.500000   \n",
       "max     25.000000  10000.000000  14009.000000  13973.000000  13342.000000   \n",
       "\n",
       "              OrNot            Or        AndNot           Nor           Xor  \n",
       "count    578.000000    578.000000    578.000000    578.000000    578.000000  \n",
       "mean    7839.410035   5413.899654   5533.247405   4490.749135    718.816609  \n",
       "std     5236.033314   5480.201588   5631.203604   5328.384460   2480.888987  \n",
       "min        0.000000      0.000000      0.000000      0.000000      0.000000  \n",
       "25%     1792.000000     10.000000      9.000000      0.000000      0.000000  \n",
       "50%    10534.500000   2764.500000   2677.000000    139.000000      0.000000  \n",
       "75%    12676.250000  11615.000000  11830.750000  11066.000000      1.000000  \n",
       "max    13933.000000  13174.000000  13592.000000  13380.000000  11815.000000  "
      ]
     },
     "execution_count": 9,
     "metadata": {},
     "output_type": "execute_result"
    }
   ],
   "source": [
    "df.describe()"
   ]
  },
  {
   "cell_type": "code",
   "execution_count": 10,
   "metadata": {},
   "outputs": [
    {
     "data": {
      "text/plain": [
       "Index(['Equals', 'max_count', 'values', 'last_line_string',\n",
       "       'experiment_start_time_string', 'xy_values', 'Last_UD', 'Gen', 'Fit',\n",
       "       'Orgs', 'index', 'filename', 'Update', 'Not', 'Nand', 'And', 'OrNot',\n",
       "       'Or', 'AndNot', 'Nor', 'Xor'],\n",
       "      dtype='object')"
      ]
     },
     "execution_count": 10,
     "metadata": {},
     "output_type": "execute_result"
    }
   ],
   "source": [
    "df.columns"
   ]
  },
  {
   "cell_type": "code",
   "execution_count": 11,
   "metadata": {},
   "outputs": [],
   "source": [
    "# Get all the rows with max_count = False and Last_UD = 10000\n",
    "filtered_df = df[(df['max_count'] == False) & (df['Last_UD'] == 10000)]"
   ]
  },
  {
   "cell_type": "code",
   "execution_count": 12,
   "metadata": {},
   "outputs": [
    {
     "data": {
      "text/html": [
       "<div>\n",
       "<style scoped>\n",
       "    .dataframe tbody tr th:only-of-type {\n",
       "        vertical-align: middle;\n",
       "    }\n",
       "\n",
       "    .dataframe tbody tr th {\n",
       "        vertical-align: top;\n",
       "    }\n",
       "\n",
       "    .dataframe thead th {\n",
       "        text-align: right;\n",
       "    }\n",
       "</style>\n",
       "<table border=\"1\" class=\"dataframe\">\n",
       "  <thead>\n",
       "    <tr style=\"text-align: right;\">\n",
       "      <th></th>\n",
       "      <th>Equals</th>\n",
       "      <th>max_count</th>\n",
       "      <th>values</th>\n",
       "      <th>last_line_string</th>\n",
       "      <th>experiment_start_time_string</th>\n",
       "      <th>xy_values</th>\n",
       "      <th>Last_UD</th>\n",
       "      <th>Gen</th>\n",
       "      <th>Fit</th>\n",
       "      <th>Orgs</th>\n",
       "      <th>...</th>\n",
       "      <th>filename</th>\n",
       "      <th>Update</th>\n",
       "      <th>Not</th>\n",
       "      <th>Nand</th>\n",
       "      <th>And</th>\n",
       "      <th>OrNot</th>\n",
       "      <th>Or</th>\n",
       "      <th>AndNot</th>\n",
       "      <th>Nor</th>\n",
       "      <th>Xor</th>\n",
       "    </tr>\n",
       "  </thead>\n",
       "  <tbody>\n",
       "    <tr>\n",
       "      <th>0</th>\n",
       "      <td>0</td>\n",
       "      <td>False</td>\n",
       "      <td>(1, 3, 2, 4, 5)</td>\n",
       "      <td>[UD:, 10000, Gen:, 9906.699, Fit:, 1.068264e+9...</td>\n",
       "      <td>04-17_16-23-01</td>\n",
       "      <td>(120, 120)</td>\n",
       "      <td>10000</td>\n",
       "      <td>9906.6990</td>\n",
       "      <td>1.068264e+90</td>\n",
       "      <td>11072</td>\n",
       "      <td>...</td>\n",
       "      <td>14_mxc_-1_[1, 3, 2, 4, 5]_date_04-17_16-23-01_...</td>\n",
       "      <td>10000</td>\n",
       "      <td>2681</td>\n",
       "      <td>2130</td>\n",
       "      <td>546</td>\n",
       "      <td>4806</td>\n",
       "      <td>16</td>\n",
       "      <td>5</td>\n",
       "      <td>0</td>\n",
       "      <td>0</td>\n",
       "    </tr>\n",
       "    <tr>\n",
       "      <th>2</th>\n",
       "      <td>0</td>\n",
       "      <td>False</td>\n",
       "      <td>(2, 1, 3, 4, 5)</td>\n",
       "      <td>[UD:, 10000, Gen:, 3455.037, Fit:, 2.225637e+2...</td>\n",
       "      <td>04-20_17-28-43</td>\n",
       "      <td>(120, 120)</td>\n",
       "      <td>10000</td>\n",
       "      <td>3455.0370</td>\n",
       "      <td>2.225637e+251</td>\n",
       "      <td>13895</td>\n",
       "      <td>...</td>\n",
       "      <td>19_mxc_-1_[2, 1, 3, 4, 5]_date_04-20_17-28-43_...</td>\n",
       "      <td>10000</td>\n",
       "      <td>11965</td>\n",
       "      <td>10328</td>\n",
       "      <td>96</td>\n",
       "      <td>1916</td>\n",
       "      <td>18</td>\n",
       "      <td>8750</td>\n",
       "      <td>27</td>\n",
       "      <td>0</td>\n",
       "    </tr>\n",
       "    <tr>\n",
       "      <th>22</th>\n",
       "      <td>0</td>\n",
       "      <td>False</td>\n",
       "      <td>(2, 4, 1, 3, 5)</td>\n",
       "      <td>[UD:, 10000, Gen:, 3754.978, Fit:, 1.415883e+1...</td>\n",
       "      <td>04-25_07-02-52</td>\n",
       "      <td>(120, 120)</td>\n",
       "      <td>10000</td>\n",
       "      <td>3754.9780</td>\n",
       "      <td>1.415883e+136</td>\n",
       "      <td>13733</td>\n",
       "      <td>...</td>\n",
       "      <td>25_mxc_-1_[2, 4, 1, 3, 5]_date_04-25_07-02-52_...</td>\n",
       "      <td>10000</td>\n",
       "      <td>371</td>\n",
       "      <td>11386</td>\n",
       "      <td>643</td>\n",
       "      <td>11452</td>\n",
       "      <td>8</td>\n",
       "      <td>10</td>\n",
       "      <td>6</td>\n",
       "      <td>0</td>\n",
       "    </tr>\n",
       "    <tr>\n",
       "      <th>33</th>\n",
       "      <td>0</td>\n",
       "      <td>False</td>\n",
       "      <td>(1, 3, 4, 2, 5)</td>\n",
       "      <td>[UD:, 10000, Gen:, 2887.565, Fit:, 2.342660e+9...</td>\n",
       "      <td>04-23_15-16-53</td>\n",
       "      <td>(120, 120)</td>\n",
       "      <td>10000</td>\n",
       "      <td>2887.5650</td>\n",
       "      <td>2.342660e+95</td>\n",
       "      <td>14093</td>\n",
       "      <td>...</td>\n",
       "      <td>23_mxc_-1_[1, 3, 4, 2, 5]_date_04-23_15-16-53_...</td>\n",
       "      <td>10000</td>\n",
       "      <td>10775</td>\n",
       "      <td>249</td>\n",
       "      <td>0</td>\n",
       "      <td>1635</td>\n",
       "      <td>10937</td>\n",
       "      <td>75</td>\n",
       "      <td>10</td>\n",
       "      <td>0</td>\n",
       "    </tr>\n",
       "    <tr>\n",
       "      <th>34</th>\n",
       "      <td>0</td>\n",
       "      <td>False</td>\n",
       "      <td>(2, 4, 1, 3, 5)</td>\n",
       "      <td>[UD:, 10000, Gen:, 2936.504, Fit:, 3.623644e+2...</td>\n",
       "      <td>04-23_19-42-21</td>\n",
       "      <td>(120, 120)</td>\n",
       "      <td>10000</td>\n",
       "      <td>2936.5040</td>\n",
       "      <td>3.623644e+264</td>\n",
       "      <td>13938</td>\n",
       "      <td>...</td>\n",
       "      <td>23_mxc_-1_[2, 4, 1, 3, 5]_date_04-23_19-42-21_...</td>\n",
       "      <td>10000</td>\n",
       "      <td>6048</td>\n",
       "      <td>3514</td>\n",
       "      <td>5</td>\n",
       "      <td>12998</td>\n",
       "      <td>162</td>\n",
       "      <td>30</td>\n",
       "      <td>0</td>\n",
       "      <td>0</td>\n",
       "    </tr>\n",
       "    <tr>\n",
       "      <th>38</th>\n",
       "      <td>0</td>\n",
       "      <td>False</td>\n",
       "      <td>(4, 3, 2, 1, 5)</td>\n",
       "      <td>[UD:, 10000, Gen:, 279.9017, Fit:, 2.368785e+0...</td>\n",
       "      <td>04-21_22-28-55</td>\n",
       "      <td>(120, 120)</td>\n",
       "      <td>10000</td>\n",
       "      <td>279.9017</td>\n",
       "      <td>2.368785e+07</td>\n",
       "      <td>7809</td>\n",
       "      <td>...</td>\n",
       "      <td>20_mxc_-1_[4, 3, 2, 1, 5]_date_04-21_22-28-55_...</td>\n",
       "      <td>10000</td>\n",
       "      <td>3321</td>\n",
       "      <td>170</td>\n",
       "      <td>0</td>\n",
       "      <td>1083</td>\n",
       "      <td>10</td>\n",
       "      <td>0</td>\n",
       "      <td>0</td>\n",
       "      <td>0</td>\n",
       "    </tr>\n",
       "    <tr>\n",
       "      <th>53</th>\n",
       "      <td>0</td>\n",
       "      <td>False</td>\n",
       "      <td>(2, 3, 4, 1, 5)</td>\n",
       "      <td>[UD:, 10000, Gen:, 162.1611, Fit:, 4.321074e+2...</td>\n",
       "      <td>04-19_04-19-42</td>\n",
       "      <td>(120, 120)</td>\n",
       "      <td>10000</td>\n",
       "      <td>162.1611</td>\n",
       "      <td>4.321074e+27</td>\n",
       "      <td>6594</td>\n",
       "      <td>...</td>\n",
       "      <td>16_mxc_-1_[2, 3, 4, 1, 5]_date_04-19_04-19-42_...</td>\n",
       "      <td>10000</td>\n",
       "      <td>95</td>\n",
       "      <td>1720</td>\n",
       "      <td>0</td>\n",
       "      <td>1608</td>\n",
       "      <td>0</td>\n",
       "      <td>0</td>\n",
       "      <td>0</td>\n",
       "      <td>0</td>\n",
       "    </tr>\n",
       "    <tr>\n",
       "      <th>57</th>\n",
       "      <td>0</td>\n",
       "      <td>False</td>\n",
       "      <td>(2, 1, 4, 3, 5)</td>\n",
       "      <td>[UD:, 10000, Gen:, 989.3356, Fit:, 5.366316e+2...</td>\n",
       "      <td>04-20_19-00-18</td>\n",
       "      <td>(120, 120)</td>\n",
       "      <td>10000</td>\n",
       "      <td>989.3356</td>\n",
       "      <td>5.366316e+27</td>\n",
       "      <td>14334</td>\n",
       "      <td>...</td>\n",
       "      <td>19_mxc_-1_[2, 1, 4, 3, 5]_date_04-20_19-00-18_...</td>\n",
       "      <td>10000</td>\n",
       "      <td>10368</td>\n",
       "      <td>10655</td>\n",
       "      <td>141</td>\n",
       "      <td>7613</td>\n",
       "      <td>9366</td>\n",
       "      <td>10616</td>\n",
       "      <td>10</td>\n",
       "      <td>0</td>\n",
       "    </tr>\n",
       "    <tr>\n",
       "      <th>60</th>\n",
       "      <td>0</td>\n",
       "      <td>False</td>\n",
       "      <td>(2, 4, 3, 1, 5)</td>\n",
       "      <td>[UD:, 10000, Gen:, 191.7533, Fit:, 1.612656e+1...</td>\n",
       "      <td>04-25_07-44-40</td>\n",
       "      <td>(120, 120)</td>\n",
       "      <td>10000</td>\n",
       "      <td>191.7533</td>\n",
       "      <td>1.612656e+12</td>\n",
       "      <td>6429</td>\n",
       "      <td>...</td>\n",
       "      <td>25_mxc_-1_[2, 4, 3, 1, 5]_date_04-25_07-44-40_...</td>\n",
       "      <td>10000</td>\n",
       "      <td>1667</td>\n",
       "      <td>33</td>\n",
       "      <td>0</td>\n",
       "      <td>1633</td>\n",
       "      <td>2</td>\n",
       "      <td>0</td>\n",
       "      <td>0</td>\n",
       "      <td>0</td>\n",
       "    </tr>\n",
       "    <tr>\n",
       "      <th>62</th>\n",
       "      <td>0</td>\n",
       "      <td>False</td>\n",
       "      <td>(4, 2, 1, 3, 5)</td>\n",
       "      <td>[UD:, 10000, Gen:, 2491.899, Fit:, 1.226074e+2...</td>\n",
       "      <td>04-20_07-28-30</td>\n",
       "      <td>(120, 120)</td>\n",
       "      <td>10000</td>\n",
       "      <td>2491.8990</td>\n",
       "      <td>1.226074e+268</td>\n",
       "      <td>14128</td>\n",
       "      <td>...</td>\n",
       "      <td>18_mxc_-1_[4, 2, 1, 3, 5]_date_04-20_07-28-30_...</td>\n",
       "      <td>10000</td>\n",
       "      <td>12473</td>\n",
       "      <td>12711</td>\n",
       "      <td>13</td>\n",
       "      <td>207</td>\n",
       "      <td>0</td>\n",
       "      <td>0</td>\n",
       "      <td>0</td>\n",
       "      <td>0</td>\n",
       "    </tr>\n",
       "    <tr>\n",
       "      <th>78</th>\n",
       "      <td>0</td>\n",
       "      <td>False</td>\n",
       "      <td>(1, 2, 3, 4, 1)</td>\n",
       "      <td>[UD:, 10000, Gen:, 3527.221, Fit:, 8.290687e+1...</td>\n",
       "      <td>04-18_21-36-55</td>\n",
       "      <td>(120, 120)</td>\n",
       "      <td>10000</td>\n",
       "      <td>3527.2210</td>\n",
       "      <td>8.290687e+108</td>\n",
       "      <td>14041</td>\n",
       "      <td>...</td>\n",
       "      <td>16_mxc_-1_[1, 2, 3, 4, 1]_date_04-18_21-36-55_...</td>\n",
       "      <td>10000</td>\n",
       "      <td>1394</td>\n",
       "      <td>6880</td>\n",
       "      <td>0</td>\n",
       "      <td>10908</td>\n",
       "      <td>9875</td>\n",
       "      <td>569</td>\n",
       "      <td>288</td>\n",
       "      <td>0</td>\n",
       "    </tr>\n",
       "    <tr>\n",
       "      <th>82</th>\n",
       "      <td>0</td>\n",
       "      <td>False</td>\n",
       "      <td>(2, 1, 3, 4, 5)</td>\n",
       "      <td>[UD:, 10000, Gen:, 2347.973, Fit:, 3.975777e+7...</td>\n",
       "      <td>04-18_14-44-37</td>\n",
       "      <td>(120, 120)</td>\n",
       "      <td>10000</td>\n",
       "      <td>2347.9730</td>\n",
       "      <td>3.975777e+76</td>\n",
       "      <td>13825</td>\n",
       "      <td>...</td>\n",
       "      <td>15_mxc_-1_[2, 1, 3, 4, 5]_date_04-18_14-44-37_...</td>\n",
       "      <td>10000</td>\n",
       "      <td>13270</td>\n",
       "      <td>12729</td>\n",
       "      <td>10</td>\n",
       "      <td>119</td>\n",
       "      <td>0</td>\n",
       "      <td>0</td>\n",
       "      <td>0</td>\n",
       "      <td>0</td>\n",
       "    </tr>\n",
       "    <tr>\n",
       "      <th>101</th>\n",
       "      <td>0</td>\n",
       "      <td>False</td>\n",
       "      <td>(3, 1, 2, 4, 5)</td>\n",
       "      <td>[UD:, 10000, Gen:, 3459.881, Fit:, 5.938781e+7...</td>\n",
       "      <td>04-20_22-04-35</td>\n",
       "      <td>(120, 120)</td>\n",
       "      <td>10000</td>\n",
       "      <td>3459.8810</td>\n",
       "      <td>5.938781e+76</td>\n",
       "      <td>14153</td>\n",
       "      <td>...</td>\n",
       "      <td>19_mxc_-1_[3, 1, 2, 4, 5]_date_04-20_22-04-35_...</td>\n",
       "      <td>10000</td>\n",
       "      <td>13872</td>\n",
       "      <td>1783</td>\n",
       "      <td>5</td>\n",
       "      <td>78</td>\n",
       "      <td>8</td>\n",
       "      <td>0</td>\n",
       "      <td>0</td>\n",
       "      <td>0</td>\n",
       "    </tr>\n",
       "    <tr>\n",
       "      <th>103</th>\n",
       "      <td>0</td>\n",
       "      <td>False</td>\n",
       "      <td>(1, 2, 4, 3, 5)</td>\n",
       "      <td>[UD:, 10000, Gen:, 1569.634, Fit:, 1.650562e+9...</td>\n",
       "      <td>04-17_15-39-35</td>\n",
       "      <td>(120, 120)</td>\n",
       "      <td>10000</td>\n",
       "      <td>1569.6340</td>\n",
       "      <td>1.650562e+92</td>\n",
       "      <td>13943</td>\n",
       "      <td>...</td>\n",
       "      <td>14_mxc_-1_[1, 2, 4, 3, 5]_date_04-17_15-39-35_...</td>\n",
       "      <td>10000</td>\n",
       "      <td>3703</td>\n",
       "      <td>4054</td>\n",
       "      <td>4234</td>\n",
       "      <td>5466</td>\n",
       "      <td>5563</td>\n",
       "      <td>4944</td>\n",
       "      <td>230</td>\n",
       "      <td>0</td>\n",
       "    </tr>\n",
       "    <tr>\n",
       "      <th>124</th>\n",
       "      <td>0</td>\n",
       "      <td>False</td>\n",
       "      <td>(1, 2, 3, 4, 6)</td>\n",
       "      <td>[UD:, 10000, Gen:, 399.7833, Fit:, 2.248926e+1...</td>\n",
       "      <td>04-18_19-07-03</td>\n",
       "      <td>(120, 120)</td>\n",
       "      <td>10000</td>\n",
       "      <td>399.7833</td>\n",
       "      <td>2.248926e+14</td>\n",
       "      <td>8385</td>\n",
       "      <td>...</td>\n",
       "      <td>16_mxc_-1_[1, 2, 3, 4, 6]_date_04-18_19-07-03_...</td>\n",
       "      <td>10000</td>\n",
       "      <td>320</td>\n",
       "      <td>1944</td>\n",
       "      <td>32</td>\n",
       "      <td>85</td>\n",
       "      <td>1680</td>\n",
       "      <td>2155</td>\n",
       "      <td>422</td>\n",
       "      <td>1</td>\n",
       "    </tr>\n",
       "    <tr>\n",
       "      <th>132</th>\n",
       "      <td>0</td>\n",
       "      <td>False</td>\n",
       "      <td>(1, 2, 3, 4, 4)</td>\n",
       "      <td>[UD:, 10000, Gen:, 2085.442, Fit:, 1.414460e+7...</td>\n",
       "      <td>04-17_12-36-47</td>\n",
       "      <td>(120, 120)</td>\n",
       "      <td>10000</td>\n",
       "      <td>2085.4420</td>\n",
       "      <td>1.414460e+74</td>\n",
       "      <td>14125</td>\n",
       "      <td>...</td>\n",
       "      <td>14_mxc_-1_[1, 2, 3, 4, 4]_date_04-17_12-36-47_...</td>\n",
       "      <td>10000</td>\n",
       "      <td>4605</td>\n",
       "      <td>458</td>\n",
       "      <td>5980</td>\n",
       "      <td>6324</td>\n",
       "      <td>0</td>\n",
       "      <td>30</td>\n",
       "      <td>0</td>\n",
       "      <td>0</td>\n",
       "    </tr>\n",
       "    <tr>\n",
       "      <th>146</th>\n",
       "      <td>0</td>\n",
       "      <td>False</td>\n",
       "      <td>(1, 2, 4, 3, 5)</td>\n",
       "      <td>[UD:, 10000, Gen:, 2176.047, Fit:, 3.001728e+1...</td>\n",
       "      <td>04-23_14-12-09</td>\n",
       "      <td>(120, 120)</td>\n",
       "      <td>10000</td>\n",
       "      <td>2176.0470</td>\n",
       "      <td>3.001728e+192</td>\n",
       "      <td>12889</td>\n",
       "      <td>...</td>\n",
       "      <td>23_mxc_-1_[1, 2, 4, 3, 5]_date_04-23_14-12-09_...</td>\n",
       "      <td>10000</td>\n",
       "      <td>2842</td>\n",
       "      <td>3855</td>\n",
       "      <td>1158</td>\n",
       "      <td>9765</td>\n",
       "      <td>2387</td>\n",
       "      <td>9508</td>\n",
       "      <td>27</td>\n",
       "      <td>0</td>\n",
       "    </tr>\n",
       "    <tr>\n",
       "      <th>156</th>\n",
       "      <td>0</td>\n",
       "      <td>False</td>\n",
       "      <td>(1, 2, 3, 4, 5)</td>\n",
       "      <td>[UD:, 10000, Gen:, 3695.883, Fit:, 2.681245e+8...</td>\n",
       "      <td>04-22_01-55-22</td>\n",
       "      <td>(120, 120)</td>\n",
       "      <td>10000</td>\n",
       "      <td>3695.8830</td>\n",
       "      <td>2.681245e+87</td>\n",
       "      <td>14048</td>\n",
       "      <td>...</td>\n",
       "      <td>21_mxc_-1_[1, 2, 3, 4, 5]_date_04-22_01-55-22_...</td>\n",
       "      <td>10000</td>\n",
       "      <td>1062</td>\n",
       "      <td>314</td>\n",
       "      <td>160</td>\n",
       "      <td>11734</td>\n",
       "      <td>11821</td>\n",
       "      <td>9882</td>\n",
       "      <td>4</td>\n",
       "      <td>0</td>\n",
       "    </tr>\n",
       "    <tr>\n",
       "      <th>187</th>\n",
       "      <td>0</td>\n",
       "      <td>False</td>\n",
       "      <td>(3, 1, 4, 2, 5)</td>\n",
       "      <td>[UD:, 10000, Gen:, 5257.910, Fit:, 1.933292e+7...</td>\n",
       "      <td>04-23_04-53-30</td>\n",
       "      <td>(120, 120)</td>\n",
       "      <td>10000</td>\n",
       "      <td>5257.9100</td>\n",
       "      <td>1.933292e+70</td>\n",
       "      <td>7570</td>\n",
       "      <td>...</td>\n",
       "      <td>22_mxc_-1_[3, 1, 4, 2, 5]_date_04-23_04-53-30_...</td>\n",
       "      <td>10000</td>\n",
       "      <td>6272</td>\n",
       "      <td>5167</td>\n",
       "      <td>15</td>\n",
       "      <td>350</td>\n",
       "      <td>1708</td>\n",
       "      <td>2444</td>\n",
       "      <td>20</td>\n",
       "      <td>0</td>\n",
       "    </tr>\n",
       "    <tr>\n",
       "      <th>189</th>\n",
       "      <td>0</td>\n",
       "      <td>False</td>\n",
       "      <td>(1, 3, 2, 4, 5)</td>\n",
       "      <td>[UD:, 10000, Gen:, 4543.353, Fit:, 1.952524e+2...</td>\n",
       "      <td>04-25_02-53-54</td>\n",
       "      <td>(120, 120)</td>\n",
       "      <td>10000</td>\n",
       "      <td>4543.3530</td>\n",
       "      <td>1.952524e+207</td>\n",
       "      <td>14159</td>\n",
       "      <td>...</td>\n",
       "      <td>25_mxc_-1_[1, 3, 2, 4, 5]_date_04-25_02-53-54_...</td>\n",
       "      <td>10000</td>\n",
       "      <td>2697</td>\n",
       "      <td>6755</td>\n",
       "      <td>7</td>\n",
       "      <td>11496</td>\n",
       "      <td>6011</td>\n",
       "      <td>37</td>\n",
       "      <td>4775</td>\n",
       "      <td>0</td>\n",
       "    </tr>\n",
       "    <tr>\n",
       "      <th>229</th>\n",
       "      <td>0</td>\n",
       "      <td>False</td>\n",
       "      <td>(1, 2, 3, 4, 3)</td>\n",
       "      <td>[UD:, 10000, Gen:, 5236.037, Fit:, 1.478528e+2...</td>\n",
       "      <td>04-24_02-24-47</td>\n",
       "      <td>(120, 120)</td>\n",
       "      <td>10000</td>\n",
       "      <td>5236.0370</td>\n",
       "      <td>1.478528e+250</td>\n",
       "      <td>14065</td>\n",
       "      <td>...</td>\n",
       "      <td>24_mxc_-1_[1, 2, 3, 4, 3]_date_04-24_02-24-47_...</td>\n",
       "      <td>10000</td>\n",
       "      <td>4655</td>\n",
       "      <td>7874</td>\n",
       "      <td>153</td>\n",
       "      <td>10345</td>\n",
       "      <td>6125</td>\n",
       "      <td>6884</td>\n",
       "      <td>3717</td>\n",
       "      <td>0</td>\n",
       "    </tr>\n",
       "    <tr>\n",
       "      <th>240</th>\n",
       "      <td>0</td>\n",
       "      <td>False</td>\n",
       "      <td>(1, 2, 3, 4, 2)</td>\n",
       "      <td>[UD:, 10000, Gen:, 4970.538, Fit:, 2.763625e+4...</td>\n",
       "      <td>04-25_00-26-30</td>\n",
       "      <td>(120, 120)</td>\n",
       "      <td>10000</td>\n",
       "      <td>4970.5380</td>\n",
       "      <td>2.763625e+45</td>\n",
       "      <td>14054</td>\n",
       "      <td>...</td>\n",
       "      <td>25_mxc_-1_[1, 2, 3, 4, 2]_date_04-25_00-26-30_...</td>\n",
       "      <td>10000</td>\n",
       "      <td>10906</td>\n",
       "      <td>251</td>\n",
       "      <td>0</td>\n",
       "      <td>11177</td>\n",
       "      <td>11206</td>\n",
       "      <td>36</td>\n",
       "      <td>8197</td>\n",
       "      <td>0</td>\n",
       "    </tr>\n",
       "    <tr>\n",
       "      <th>262</th>\n",
       "      <td>0</td>\n",
       "      <td>False</td>\n",
       "      <td>(3, 1, 2, 4, 5)</td>\n",
       "      <td>[UD:, 10000, Gen:, 1961.143, Fit:, 5.570465e+1...</td>\n",
       "      <td>04-21_14-12-48</td>\n",
       "      <td>(120, 120)</td>\n",
       "      <td>10000</td>\n",
       "      <td>1961.1430</td>\n",
       "      <td>5.570465e+120</td>\n",
       "      <td>13796</td>\n",
       "      <td>...</td>\n",
       "      <td>20_mxc_-1_[3, 1, 2, 4, 5]_date_04-21_14-12-48_...</td>\n",
       "      <td>10000</td>\n",
       "      <td>11819</td>\n",
       "      <td>13601</td>\n",
       "      <td>7</td>\n",
       "      <td>2958</td>\n",
       "      <td>2</td>\n",
       "      <td>9</td>\n",
       "      <td>0</td>\n",
       "      <td>0</td>\n",
       "    </tr>\n",
       "    <tr>\n",
       "      <th>270</th>\n",
       "      <td>0</td>\n",
       "      <td>False</td>\n",
       "      <td>(1, 2, 3, 4, 5)</td>\n",
       "      <td>[UD:, 10000, Gen:, 4664.035, Fit:, 3.509935e+1...</td>\n",
       "      <td>04-17_15-01-04</td>\n",
       "      <td>(120, 120)</td>\n",
       "      <td>10000</td>\n",
       "      <td>4664.0350</td>\n",
       "      <td>3.509935e+131</td>\n",
       "      <td>13971</td>\n",
       "      <td>...</td>\n",
       "      <td>14_mxc_-1_[1, 2, 3, 4, 5]_date_04-17_15-01-04_...</td>\n",
       "      <td>10000</td>\n",
       "      <td>554</td>\n",
       "      <td>5965</td>\n",
       "      <td>1832</td>\n",
       "      <td>6821</td>\n",
       "      <td>6</td>\n",
       "      <td>5758</td>\n",
       "      <td>0</td>\n",
       "      <td>0</td>\n",
       "    </tr>\n",
       "    <tr>\n",
       "      <th>280</th>\n",
       "      <td>0</td>\n",
       "      <td>False</td>\n",
       "      <td>(2, 1, 4, 3, 5)</td>\n",
       "      <td>[UD:, 10000, Gen:, 258.9984, Fit:, 2.660972e+0...</td>\n",
       "      <td>04-18_15-24-13</td>\n",
       "      <td>(120, 120)</td>\n",
       "      <td>10000</td>\n",
       "      <td>258.9984</td>\n",
       "      <td>2.660972e+07</td>\n",
       "      <td>7730</td>\n",
       "      <td>...</td>\n",
       "      <td>15_mxc_-1_[2, 1, 4, 3, 5]_date_04-18_15-24-13_...</td>\n",
       "      <td>10000</td>\n",
       "      <td>260</td>\n",
       "      <td>4157</td>\n",
       "      <td>25</td>\n",
       "      <td>148</td>\n",
       "      <td>0</td>\n",
       "      <td>2921</td>\n",
       "      <td>1</td>\n",
       "      <td>0</td>\n",
       "    </tr>\n",
       "    <tr>\n",
       "      <th>282</th>\n",
       "      <td>0</td>\n",
       "      <td>False</td>\n",
       "      <td>(3, 1, 2, 4, 5)</td>\n",
       "      <td>[UD:, 10000, Gen:, 2743.935, Fit:, 1.595871e+2...</td>\n",
       "      <td>04-24_10-13-45</td>\n",
       "      <td>(120, 120)</td>\n",
       "      <td>10000</td>\n",
       "      <td>2743.9350</td>\n",
       "      <td>1.595871e+267</td>\n",
       "      <td>14136</td>\n",
       "      <td>...</td>\n",
       "      <td>24_mxc_-1_[3, 1, 2, 4, 5]_date_04-24_10-13-45_...</td>\n",
       "      <td>10000</td>\n",
       "      <td>11685</td>\n",
       "      <td>11322</td>\n",
       "      <td>28</td>\n",
       "      <td>261</td>\n",
       "      <td>3</td>\n",
       "      <td>764</td>\n",
       "      <td>1</td>\n",
       "      <td>0</td>\n",
       "    </tr>\n",
       "    <tr>\n",
       "      <th>286</th>\n",
       "      <td>0</td>\n",
       "      <td>False</td>\n",
       "      <td>(1, 2, 3, 4, 2)</td>\n",
       "      <td>[UD:, 10000, Gen:, 2424.156, Fit:, 1.032146e+1...</td>\n",
       "      <td>04-19_17-37-45</td>\n",
       "      <td>(120, 120)</td>\n",
       "      <td>10000</td>\n",
       "      <td>2424.1560</td>\n",
       "      <td>1.032146e+145</td>\n",
       "      <td>14076</td>\n",
       "      <td>...</td>\n",
       "      <td>18_mxc_-1_[1, 2, 3, 4, 2]_date_04-19_17-37-45_...</td>\n",
       "      <td>10000</td>\n",
       "      <td>2393</td>\n",
       "      <td>9536</td>\n",
       "      <td>0</td>\n",
       "      <td>9827</td>\n",
       "      <td>16</td>\n",
       "      <td>3</td>\n",
       "      <td>0</td>\n",
       "      <td>0</td>\n",
       "    </tr>\n",
       "    <tr>\n",
       "      <th>296</th>\n",
       "      <td>0</td>\n",
       "      <td>False</td>\n",
       "      <td>(1, 2, 4, 3, 5)</td>\n",
       "      <td>[UD:, 10000, Gen:, 1746.238, Fit:, 1.585506e+7...</td>\n",
       "      <td>04-21_08-05-21</td>\n",
       "      <td>(120, 120)</td>\n",
       "      <td>10000</td>\n",
       "      <td>1746.2380</td>\n",
       "      <td>1.585506e+73</td>\n",
       "      <td>13973</td>\n",
       "      <td>...</td>\n",
       "      <td>20_mxc_-1_[1, 2, 4, 3, 5]_date_04-21_08-05-21_...</td>\n",
       "      <td>10000</td>\n",
       "      <td>12385</td>\n",
       "      <td>8</td>\n",
       "      <td>0</td>\n",
       "      <td>234</td>\n",
       "      <td>12784</td>\n",
       "      <td>4</td>\n",
       "      <td>0</td>\n",
       "      <td>0</td>\n",
       "    </tr>\n",
       "    <tr>\n",
       "      <th>314</th>\n",
       "      <td>0</td>\n",
       "      <td>False</td>\n",
       "      <td>(2, 4, 1, 3, 5)</td>\n",
       "      <td>[UD:, 10000, Gen:, 2385.089, Fit:, 3.974209e+2...</td>\n",
       "      <td>04-20_20-44-37</td>\n",
       "      <td>(120, 120)</td>\n",
       "      <td>10000</td>\n",
       "      <td>2385.0890</td>\n",
       "      <td>3.974209e+294</td>\n",
       "      <td>13550</td>\n",
       "      <td>...</td>\n",
       "      <td>19_mxc_-1_[2, 4, 1, 3, 5]_date_04-20_20-44-37_...</td>\n",
       "      <td>10000</td>\n",
       "      <td>8913</td>\n",
       "      <td>11100</td>\n",
       "      <td>8086</td>\n",
       "      <td>11625</td>\n",
       "      <td>10</td>\n",
       "      <td>407</td>\n",
       "      <td>1</td>\n",
       "      <td>0</td>\n",
       "    </tr>\n",
       "    <tr>\n",
       "      <th>333</th>\n",
       "      <td>0</td>\n",
       "      <td>False</td>\n",
       "      <td>(3, 1, 4, 2, 5)</td>\n",
       "      <td>[UD:, 10000, Gen:, 2356.555, Fit:, 8.126117e+5...</td>\n",
       "      <td>04-24_11-47-07</td>\n",
       "      <td>(120, 120)</td>\n",
       "      <td>10000</td>\n",
       "      <td>2356.5550</td>\n",
       "      <td>8.126117e+58</td>\n",
       "      <td>13750</td>\n",
       "      <td>...</td>\n",
       "      <td>24_mxc_-1_[3, 1, 4, 2, 5]_date_04-24_11-47-07_...</td>\n",
       "      <td>10000</td>\n",
       "      <td>12184</td>\n",
       "      <td>26</td>\n",
       "      <td>0</td>\n",
       "      <td>15</td>\n",
       "      <td>7</td>\n",
       "      <td>0</td>\n",
       "      <td>0</td>\n",
       "      <td>0</td>\n",
       "    </tr>\n",
       "    <tr>\n",
       "      <th>337</th>\n",
       "      <td>0</td>\n",
       "      <td>False</td>\n",
       "      <td>(4, 1, 2, 3, 5)</td>\n",
       "      <td>[UD:, 10000, Gen:, 4262.263, Fit:, 1.331295e+1...</td>\n",
       "      <td>04-19_08-42-57</td>\n",
       "      <td>(120, 120)</td>\n",
       "      <td>10000</td>\n",
       "      <td>4262.2630</td>\n",
       "      <td>1.331295e+102</td>\n",
       "      <td>13245</td>\n",
       "      <td>...</td>\n",
       "      <td>16_mxc_-1_[4, 1, 2, 3, 5]_date_04-19_08-42-57_...</td>\n",
       "      <td>10000</td>\n",
       "      <td>8720</td>\n",
       "      <td>1062</td>\n",
       "      <td>0</td>\n",
       "      <td>40</td>\n",
       "      <td>0</td>\n",
       "      <td>0</td>\n",
       "      <td>0</td>\n",
       "      <td>0</td>\n",
       "    </tr>\n",
       "    <tr>\n",
       "      <th>343</th>\n",
       "      <td>1</td>\n",
       "      <td>False</td>\n",
       "      <td>(1, 2, 3, 4, 1)</td>\n",
       "      <td>[UD:, 10000, Gen:, 2193.939, Fit:, 3.358075e+9...</td>\n",
       "      <td>04-20_13-36-09</td>\n",
       "      <td>(120, 120)</td>\n",
       "      <td>10000</td>\n",
       "      <td>2193.9390</td>\n",
       "      <td>3.358075e+97</td>\n",
       "      <td>14258</td>\n",
       "      <td>...</td>\n",
       "      <td>19_mxc_-1_[1, 2, 3, 4, 1]_date_04-20_13-36-09_...</td>\n",
       "      <td>10000</td>\n",
       "      <td>2393</td>\n",
       "      <td>8889</td>\n",
       "      <td>3</td>\n",
       "      <td>9161</td>\n",
       "      <td>6244</td>\n",
       "      <td>1970</td>\n",
       "      <td>8515</td>\n",
       "      <td>0</td>\n",
       "    </tr>\n",
       "    <tr>\n",
       "      <th>355</th>\n",
       "      <td>0</td>\n",
       "      <td>False</td>\n",
       "      <td>(2, 1, 4, 3, 5)</td>\n",
       "      <td>[UD:, 10000, Gen:, 1780.534, Fit:, 3.493592e+4...</td>\n",
       "      <td>04-17_22-21-16</td>\n",
       "      <td>(120, 120)</td>\n",
       "      <td>10000</td>\n",
       "      <td>1780.5340</td>\n",
       "      <td>3.493592e+40</td>\n",
       "      <td>11923</td>\n",
       "      <td>...</td>\n",
       "      <td>14_mxc_-1_[2, 1, 4, 3, 5]_date_04-17_22-21-16_...</td>\n",
       "      <td>10000</td>\n",
       "      <td>285</td>\n",
       "      <td>8910</td>\n",
       "      <td>88</td>\n",
       "      <td>7690</td>\n",
       "      <td>30</td>\n",
       "      <td>6671</td>\n",
       "      <td>8090</td>\n",
       "      <td>0</td>\n",
       "    </tr>\n",
       "    <tr>\n",
       "      <th>358</th>\n",
       "      <td>194</td>\n",
       "      <td>False</td>\n",
       "      <td>(1, 2, 3, 4, 4)</td>\n",
       "      <td>[UD:, 10000, Gen:, 3018.388, Fit:, 5.484608e+1...</td>\n",
       "      <td>04-20_11-00-51</td>\n",
       "      <td>(120, 120)</td>\n",
       "      <td>10000</td>\n",
       "      <td>3018.3880</td>\n",
       "      <td>5.484608e+119</td>\n",
       "      <td>14079</td>\n",
       "      <td>...</td>\n",
       "      <td>19_mxc_-1_[1, 2, 3, 4, 4]_date_04-20_11-00-51_...</td>\n",
       "      <td>10000</td>\n",
       "      <td>1508</td>\n",
       "      <td>13109</td>\n",
       "      <td>150</td>\n",
       "      <td>13705</td>\n",
       "      <td>10510</td>\n",
       "      <td>189</td>\n",
       "      <td>10700</td>\n",
       "      <td>1</td>\n",
       "    </tr>\n",
       "    <tr>\n",
       "      <th>366</th>\n",
       "      <td>0</td>\n",
       "      <td>False</td>\n",
       "      <td>(3, 4, 2, 1, 5)</td>\n",
       "      <td>[UD:, 10000, Gen:, 495.5284, Fit:, 2.518244e+2...</td>\n",
       "      <td>04-25_12-35-21</td>\n",
       "      <td>(120, 120)</td>\n",
       "      <td>10000</td>\n",
       "      <td>495.5284</td>\n",
       "      <td>2.518244e+21</td>\n",
       "      <td>3745</td>\n",
       "      <td>...</td>\n",
       "      <td>25_mxc_-1_[3, 4, 2, 1, 5]_date_04-25_12-35-21_...</td>\n",
       "      <td>10000</td>\n",
       "      <td>1877</td>\n",
       "      <td>459</td>\n",
       "      <td>0</td>\n",
       "      <td>1267</td>\n",
       "      <td>18</td>\n",
       "      <td>0</td>\n",
       "      <td>0</td>\n",
       "      <td>0</td>\n",
       "    </tr>\n",
       "    <tr>\n",
       "      <th>369</th>\n",
       "      <td>2799</td>\n",
       "      <td>False</td>\n",
       "      <td>(1, 4, 2, 3, 5)</td>\n",
       "      <td>[UD:, 10000, Gen:, 5057.520, Fit:, 3.772360e+2...</td>\n",
       "      <td>04-23_00-31-37</td>\n",
       "      <td>(120, 120)</td>\n",
       "      <td>10000</td>\n",
       "      <td>5057.5200</td>\n",
       "      <td>3.772360e+251</td>\n",
       "      <td>14121</td>\n",
       "      <td>...</td>\n",
       "      <td>22_mxc_-1_[1, 4, 2, 3, 5]_date_04-23_00-31-37_...</td>\n",
       "      <td>10000</td>\n",
       "      <td>935</td>\n",
       "      <td>4839</td>\n",
       "      <td>11929</td>\n",
       "      <td>13933</td>\n",
       "      <td>16</td>\n",
       "      <td>260</td>\n",
       "      <td>9</td>\n",
       "      <td>16</td>\n",
       "    </tr>\n",
       "    <tr>\n",
       "      <th>377</th>\n",
       "      <td>0</td>\n",
       "      <td>False</td>\n",
       "      <td>(1, 2, 3, 4, 2)</td>\n",
       "      <td>[UD:, 10000, Gen:, 1559.954, Fit:, 1.747155e+8...</td>\n",
       "      <td>04-21_06-08-45</td>\n",
       "      <td>(120, 120)</td>\n",
       "      <td>10000</td>\n",
       "      <td>1559.9540</td>\n",
       "      <td>1.747155e+85</td>\n",
       "      <td>14069</td>\n",
       "      <td>...</td>\n",
       "      <td>20_mxc_-1_[1, 2, 3, 4, 2]_date_04-21_06-08-45_...</td>\n",
       "      <td>10000</td>\n",
       "      <td>6974</td>\n",
       "      <td>8349</td>\n",
       "      <td>14</td>\n",
       "      <td>8383</td>\n",
       "      <td>87</td>\n",
       "      <td>8062</td>\n",
       "      <td>7246</td>\n",
       "      <td>6372</td>\n",
       "    </tr>\n",
       "    <tr>\n",
       "      <th>403</th>\n",
       "      <td>0</td>\n",
       "      <td>False</td>\n",
       "      <td>(2, 1, 3, 4, 5)</td>\n",
       "      <td>[UD:, 10000, Gen:, 5834.741, Fit:, 2.590696e+2...</td>\n",
       "      <td>04-21_11-02-49</td>\n",
       "      <td>(120, 120)</td>\n",
       "      <td>10000</td>\n",
       "      <td>5834.7410</td>\n",
       "      <td>2.590696e+265</td>\n",
       "      <td>12663</td>\n",
       "      <td>...</td>\n",
       "      <td>20_mxc_-1_[2, 1, 3, 4, 5]_date_04-21_11-02-49_...</td>\n",
       "      <td>10000</td>\n",
       "      <td>9545</td>\n",
       "      <td>9270</td>\n",
       "      <td>93</td>\n",
       "      <td>1759</td>\n",
       "      <td>51</td>\n",
       "      <td>7245</td>\n",
       "      <td>8757</td>\n",
       "      <td>0</td>\n",
       "    </tr>\n",
       "    <tr>\n",
       "      <th>410</th>\n",
       "      <td>0</td>\n",
       "      <td>False</td>\n",
       "      <td>(1, 3, 4, 2, 5)</td>\n",
       "      <td>[UD:, 10000, Gen:, 7772.847, Fit:, 2.507366e+1...</td>\n",
       "      <td>04-22_23-22-49</td>\n",
       "      <td>(120, 120)</td>\n",
       "      <td>10000</td>\n",
       "      <td>7772.8470</td>\n",
       "      <td>2.507366e+173</td>\n",
       "      <td>13965</td>\n",
       "      <td>...</td>\n",
       "      <td>22_mxc_-1_[1, 3, 4, 2, 5]_date_04-22_23-22-49_...</td>\n",
       "      <td>10000</td>\n",
       "      <td>338</td>\n",
       "      <td>239</td>\n",
       "      <td>650</td>\n",
       "      <td>13218</td>\n",
       "      <td>119</td>\n",
       "      <td>13492</td>\n",
       "      <td>10</td>\n",
       "      <td>5</td>\n",
       "    </tr>\n",
       "    <tr>\n",
       "      <th>416</th>\n",
       "      <td>0</td>\n",
       "      <td>False</td>\n",
       "      <td>(4, 3, 1, 2, 5)</td>\n",
       "      <td>[UD:, 10000, Gen:, 7475.820, Fit:, 1.585746e+2...</td>\n",
       "      <td>04-20_08-33-12</td>\n",
       "      <td>(120, 120)</td>\n",
       "      <td>10000</td>\n",
       "      <td>7475.8200</td>\n",
       "      <td>1.585746e+223</td>\n",
       "      <td>13714</td>\n",
       "      <td>...</td>\n",
       "      <td>18_mxc_-1_[4, 3, 1, 2, 5]_date_04-20_08-33-12_...</td>\n",
       "      <td>10000</td>\n",
       "      <td>13661</td>\n",
       "      <td>13073</td>\n",
       "      <td>0</td>\n",
       "      <td>1328</td>\n",
       "      <td>67</td>\n",
       "      <td>11</td>\n",
       "      <td>4</td>\n",
       "      <td>0</td>\n",
       "    </tr>\n",
       "    <tr>\n",
       "      <th>423</th>\n",
       "      <td>0</td>\n",
       "      <td>False</td>\n",
       "      <td>(1, 2, 3, 4, 1)</td>\n",
       "      <td>[UD:, 10000, Gen:, 735.5526, Fit:, 1.983902e+1...</td>\n",
       "      <td>04-23_12-55-48</td>\n",
       "      <td>(120, 120)</td>\n",
       "      <td>10000</td>\n",
       "      <td>735.5526</td>\n",
       "      <td>1.983902e+105</td>\n",
       "      <td>13899</td>\n",
       "      <td>...</td>\n",
       "      <td>23_mxc_-1_[1, 2, 3, 4, 1]_date_04-23_12-55-48_...</td>\n",
       "      <td>10000</td>\n",
       "      <td>496</td>\n",
       "      <td>64</td>\n",
       "      <td>14</td>\n",
       "      <td>7775</td>\n",
       "      <td>7725</td>\n",
       "      <td>7378</td>\n",
       "      <td>7271</td>\n",
       "      <td>0</td>\n",
       "    </tr>\n",
       "    <tr>\n",
       "      <th>429</th>\n",
       "      <td>0</td>\n",
       "      <td>False</td>\n",
       "      <td>(2, 4, 3, 1, 5)</td>\n",
       "      <td>[UD:, 10000, Gen:, 613.9998, Fit:, 4.220755e+8...</td>\n",
       "      <td>04-23_20-26-03</td>\n",
       "      <td>(120, 120)</td>\n",
       "      <td>10000</td>\n",
       "      <td>613.9998</td>\n",
       "      <td>4.220755e+86</td>\n",
       "      <td>12275</td>\n",
       "      <td>...</td>\n",
       "      <td>23_mxc_-1_[2, 4, 3, 1, 5]_date_04-23_20-26-03_...</td>\n",
       "      <td>10000</td>\n",
       "      <td>6680</td>\n",
       "      <td>6926</td>\n",
       "      <td>965</td>\n",
       "      <td>7244</td>\n",
       "      <td>48</td>\n",
       "      <td>15</td>\n",
       "      <td>0</td>\n",
       "      <td>0</td>\n",
       "    </tr>\n",
       "    <tr>\n",
       "      <th>449</th>\n",
       "      <td>0</td>\n",
       "      <td>False</td>\n",
       "      <td>(4, 2, 1, 3, 5)</td>\n",
       "      <td>[UD:, 10000, Gen:, 1416.791, Fit:, 1.657975e+1...</td>\n",
       "      <td>04-18_05-04-03</td>\n",
       "      <td>(120, 120)</td>\n",
       "      <td>10000</td>\n",
       "      <td>1416.7910</td>\n",
       "      <td>1.657975e+125</td>\n",
       "      <td>13632</td>\n",
       "      <td>...</td>\n",
       "      <td>14_mxc_-1_[4, 2, 1, 3, 5]_date_04-18_05-04-03_...</td>\n",
       "      <td>10000</td>\n",
       "      <td>11208</td>\n",
       "      <td>9669</td>\n",
       "      <td>3</td>\n",
       "      <td>467</td>\n",
       "      <td>4</td>\n",
       "      <td>2</td>\n",
       "      <td>3</td>\n",
       "      <td>0</td>\n",
       "    </tr>\n",
       "    <tr>\n",
       "      <th>465</th>\n",
       "      <td>0</td>\n",
       "      <td>False</td>\n",
       "      <td>(1, 2, 3, 4, 2)</td>\n",
       "      <td>[UD:, 10000, Gen:, 853.0647, Fit:, 5.802276e+3...</td>\n",
       "      <td>04-18_08-43-31</td>\n",
       "      <td>(120, 120)</td>\n",
       "      <td>10000</td>\n",
       "      <td>853.0647</td>\n",
       "      <td>5.802276e+35</td>\n",
       "      <td>14272</td>\n",
       "      <td>...</td>\n",
       "      <td>15_mxc_-1_[1, 2, 3, 4, 2]_date_04-18_08-43-31_...</td>\n",
       "      <td>10000</td>\n",
       "      <td>7858</td>\n",
       "      <td>909</td>\n",
       "      <td>6</td>\n",
       "      <td>7247</td>\n",
       "      <td>7408</td>\n",
       "      <td>2873</td>\n",
       "      <td>4370</td>\n",
       "      <td>0</td>\n",
       "    </tr>\n",
       "    <tr>\n",
       "      <th>483</th>\n",
       "      <td>0</td>\n",
       "      <td>False</td>\n",
       "      <td>(2, 3, 1, 4, 5)</td>\n",
       "      <td>[UD:, 10000, Gen:, 1258.940, Fit:, 8.121109e+1...</td>\n",
       "      <td>04-23_18-33-39</td>\n",
       "      <td>(120, 120)</td>\n",
       "      <td>10000</td>\n",
       "      <td>1258.9400</td>\n",
       "      <td>8.121109e+186</td>\n",
       "      <td>13924</td>\n",
       "      <td>...</td>\n",
       "      <td>23_mxc_-1_[2, 3, 1, 4, 5]_date_04-23_18-33-39_...</td>\n",
       "      <td>10000</td>\n",
       "      <td>3927</td>\n",
       "      <td>10932</td>\n",
       "      <td>1</td>\n",
       "      <td>11429</td>\n",
       "      <td>22</td>\n",
       "      <td>1</td>\n",
       "      <td>0</td>\n",
       "      <td>0</td>\n",
       "    </tr>\n",
       "    <tr>\n",
       "      <th>485</th>\n",
       "      <td>0</td>\n",
       "      <td>False</td>\n",
       "      <td>(1, 3, 4, 2, 5)</td>\n",
       "      <td>[UD:, 10000, Gen:, 3483.376, Fit:, 4.667285e+8...</td>\n",
       "      <td>04-19_22-58-22</td>\n",
       "      <td>(120, 120)</td>\n",
       "      <td>10000</td>\n",
       "      <td>3483.3760</td>\n",
       "      <td>4.667285e+85</td>\n",
       "      <td>13897</td>\n",
       "      <td>...</td>\n",
       "      <td>18_mxc_-1_[1, 3, 4, 2, 5]_date_04-19_22-58-22_...</td>\n",
       "      <td>10000</td>\n",
       "      <td>396</td>\n",
       "      <td>2694</td>\n",
       "      <td>10336</td>\n",
       "      <td>11804</td>\n",
       "      <td>10</td>\n",
       "      <td>9941</td>\n",
       "      <td>5</td>\n",
       "      <td>0</td>\n",
       "    </tr>\n",
       "    <tr>\n",
       "      <th>497</th>\n",
       "      <td>0</td>\n",
       "      <td>False</td>\n",
       "      <td>(1, 2, 3, 4, 3)</td>\n",
       "      <td>[UD:, 10000, Gen:, 565.0198, Fit:, 6.680532e+7...</td>\n",
       "      <td>04-18_20-18-24</td>\n",
       "      <td>(120, 120)</td>\n",
       "      <td>10000</td>\n",
       "      <td>565.0198</td>\n",
       "      <td>6.680532e+73</td>\n",
       "      <td>12696</td>\n",
       "      <td>...</td>\n",
       "      <td>16_mxc_-1_[1, 2, 3, 4, 3]_date_04-18_20-18-24_...</td>\n",
       "      <td>10000</td>\n",
       "      <td>2947</td>\n",
       "      <td>1685</td>\n",
       "      <td>0</td>\n",
       "      <td>4897</td>\n",
       "      <td>4751</td>\n",
       "      <td>12</td>\n",
       "      <td>1499</td>\n",
       "      <td>0</td>\n",
       "    </tr>\n",
       "    <tr>\n",
       "      <th>500</th>\n",
       "      <td>0</td>\n",
       "      <td>False</td>\n",
       "      <td>(2, 3, 1, 4, 5)</td>\n",
       "      <td>[UD:, 10000, Gen:, 730.1179, Fit:, 1.111935e+7...</td>\n",
       "      <td>04-21_12-03-29</td>\n",
       "      <td>(120, 120)</td>\n",
       "      <td>10000</td>\n",
       "      <td>730.1179</td>\n",
       "      <td>1.111935e+70</td>\n",
       "      <td>13311</td>\n",
       "      <td>...</td>\n",
       "      <td>20_mxc_-1_[2, 3, 1, 4, 5]_date_04-21_12-03-29_...</td>\n",
       "      <td>10000</td>\n",
       "      <td>10098</td>\n",
       "      <td>1618</td>\n",
       "      <td>592</td>\n",
       "      <td>566</td>\n",
       "      <td>0</td>\n",
       "      <td>15</td>\n",
       "      <td>328</td>\n",
       "      <td>0</td>\n",
       "    </tr>\n",
       "    <tr>\n",
       "      <th>516</th>\n",
       "      <td>0</td>\n",
       "      <td>False</td>\n",
       "      <td>(1, 2, 3, 4, 1)</td>\n",
       "      <td>[UD:, 10000, Gen:, 3745.777, Fit:, 5.570365e+4...</td>\n",
       "      <td>04-17_14-25-59</td>\n",
       "      <td>(120, 120)</td>\n",
       "      <td>10000</td>\n",
       "      <td>3745.7770</td>\n",
       "      <td>5.570365e+47</td>\n",
       "      <td>13967</td>\n",
       "      <td>...</td>\n",
       "      <td>14_mxc_-1_[1, 2, 3, 4, 1]_date_04-17_14-25-59_...</td>\n",
       "      <td>10000</td>\n",
       "      <td>2908</td>\n",
       "      <td>4881</td>\n",
       "      <td>2</td>\n",
       "      <td>5404</td>\n",
       "      <td>768</td>\n",
       "      <td>6</td>\n",
       "      <td>0</td>\n",
       "      <td>0</td>\n",
       "    </tr>\n",
       "    <tr>\n",
       "      <th>517</th>\n",
       "      <td>1</td>\n",
       "      <td>False</td>\n",
       "      <td>(1, 4, 2, 3, 5)</td>\n",
       "      <td>[UD:, 10000, Gen:, 1779.506, Fit:, 1.658858e+7...</td>\n",
       "      <td>04-24_06-07-52</td>\n",
       "      <td>(120, 120)</td>\n",
       "      <td>10000</td>\n",
       "      <td>1779.5060</td>\n",
       "      <td>1.658858e+77</td>\n",
       "      <td>14112</td>\n",
       "      <td>...</td>\n",
       "      <td>24_mxc_-1_[1, 4, 2, 3, 5]_date_04-24_06-07-52_...</td>\n",
       "      <td>10000</td>\n",
       "      <td>2490</td>\n",
       "      <td>5745</td>\n",
       "      <td>2270</td>\n",
       "      <td>10340</td>\n",
       "      <td>77</td>\n",
       "      <td>43</td>\n",
       "      <td>1</td>\n",
       "      <td>232</td>\n",
       "    </tr>\n",
       "    <tr>\n",
       "      <th>527</th>\n",
       "      <td>1</td>\n",
       "      <td>False</td>\n",
       "      <td>(1, 2, 3, 4, 5)</td>\n",
       "      <td>[UD:, 10000, Gen:, 2385.319, Fit:, 1.455709e+2...</td>\n",
       "      <td>04-25_01-38-00</td>\n",
       "      <td>(120, 120)</td>\n",
       "      <td>10000</td>\n",
       "      <td>2385.3190</td>\n",
       "      <td>1.455709e+204</td>\n",
       "      <td>14043</td>\n",
       "      <td>...</td>\n",
       "      <td>25_mxc_-1_[1, 2, 3, 4, 5]_date_04-25_01-38-00_...</td>\n",
       "      <td>10000</td>\n",
       "      <td>11533</td>\n",
       "      <td>153</td>\n",
       "      <td>3</td>\n",
       "      <td>2002</td>\n",
       "      <td>1883</td>\n",
       "      <td>39</td>\n",
       "      <td>10908</td>\n",
       "      <td>0</td>\n",
       "    </tr>\n",
       "    <tr>\n",
       "      <th>531</th>\n",
       "      <td>0</td>\n",
       "      <td>False</td>\n",
       "      <td>(1, 3, 2, 4, 5)</td>\n",
       "      <td>[UD:, 10000, Gen:, 3582.988, Fit:, 1.626195e+2...</td>\n",
       "      <td>04-24_05-01-36</td>\n",
       "      <td>(120, 120)</td>\n",
       "      <td>10000</td>\n",
       "      <td>3582.9880</td>\n",
       "      <td>1.626195e+275</td>\n",
       "      <td>14010</td>\n",
       "      <td>...</td>\n",
       "      <td>24_mxc_-1_[1, 3, 2, 4, 5]_date_04-24_05-01-36_...</td>\n",
       "      <td>10000</td>\n",
       "      <td>7353</td>\n",
       "      <td>11908</td>\n",
       "      <td>2</td>\n",
       "      <td>12099</td>\n",
       "      <td>6292</td>\n",
       "      <td>20</td>\n",
       "      <td>1</td>\n",
       "      <td>0</td>\n",
       "    </tr>\n",
       "    <tr>\n",
       "      <th>532</th>\n",
       "      <td>0</td>\n",
       "      <td>False</td>\n",
       "      <td>(1, 2, 4, 3, 5)</td>\n",
       "      <td>[UD:, 10000, Gen:, 1083.482, Fit:, 1.806121e+2...</td>\n",
       "      <td>04-22_22-16-04</td>\n",
       "      <td>(120, 120)</td>\n",
       "      <td>10000</td>\n",
       "      <td>1083.4820</td>\n",
       "      <td>1.806121e+24</td>\n",
       "      <td>13507</td>\n",
       "      <td>...</td>\n",
       "      <td>22_mxc_-1_[1, 2, 4, 3, 5]_date_04-22_22-16-04_...</td>\n",
       "      <td>10000</td>\n",
       "      <td>7384</td>\n",
       "      <td>7735</td>\n",
       "      <td>27</td>\n",
       "      <td>3881</td>\n",
       "      <td>6633</td>\n",
       "      <td>7327</td>\n",
       "      <td>0</td>\n",
       "      <td>0</td>\n",
       "    </tr>\n",
       "    <tr>\n",
       "      <th>564</th>\n",
       "      <td>0</td>\n",
       "      <td>False</td>\n",
       "      <td>(1, 2, 3, 4, 5)</td>\n",
       "      <td>[UD:, 10000, Gen:, 4815.399, Fit:, 7.492482e+7...</td>\n",
       "      <td>04-21_07-25-11</td>\n",
       "      <td>(120, 120)</td>\n",
       "      <td>10000</td>\n",
       "      <td>4815.3990</td>\n",
       "      <td>7.492482e+73</td>\n",
       "      <td>12972</td>\n",
       "      <td>...</td>\n",
       "      <td>20_mxc_-1_[1, 2, 3, 4, 5]_date_04-21_07-25-11_...</td>\n",
       "      <td>10000</td>\n",
       "      <td>1972</td>\n",
       "      <td>1055</td>\n",
       "      <td>11</td>\n",
       "      <td>5003</td>\n",
       "      <td>4717</td>\n",
       "      <td>553</td>\n",
       "      <td>2913</td>\n",
       "      <td>0</td>\n",
       "    </tr>\n",
       "    <tr>\n",
       "      <th>570</th>\n",
       "      <td>0</td>\n",
       "      <td>False</td>\n",
       "      <td>(3, 4, 1, 2, 5)</td>\n",
       "      <td>[UD:, 10000, Gen:, 281.7109, Fit:, 4.437111e+1...</td>\n",
       "      <td>04-21_16-35-36</td>\n",
       "      <td>(120, 120)</td>\n",
       "      <td>10000</td>\n",
       "      <td>281.7109</td>\n",
       "      <td>4.437111e+19</td>\n",
       "      <td>3393</td>\n",
       "      <td>...</td>\n",
       "      <td>20_mxc_-1_[3, 4, 1, 2, 5]_date_04-21_16-35-36_...</td>\n",
       "      <td>10000</td>\n",
       "      <td>374</td>\n",
       "      <td>1120</td>\n",
       "      <td>0</td>\n",
       "      <td>219</td>\n",
       "      <td>5</td>\n",
       "      <td>0</td>\n",
       "      <td>0</td>\n",
       "      <td>0</td>\n",
       "    </tr>\n",
       "  </tbody>\n",
       "</table>\n",
       "<p>55 rows × 21 columns</p>\n",
       "</div>"
      ],
      "text/plain": [
       "     Equals  max_count           values  \\\n",
       "0         0      False  (1, 3, 2, 4, 5)   \n",
       "2         0      False  (2, 1, 3, 4, 5)   \n",
       "22        0      False  (2, 4, 1, 3, 5)   \n",
       "33        0      False  (1, 3, 4, 2, 5)   \n",
       "34        0      False  (2, 4, 1, 3, 5)   \n",
       "38        0      False  (4, 3, 2, 1, 5)   \n",
       "53        0      False  (2, 3, 4, 1, 5)   \n",
       "57        0      False  (2, 1, 4, 3, 5)   \n",
       "60        0      False  (2, 4, 3, 1, 5)   \n",
       "62        0      False  (4, 2, 1, 3, 5)   \n",
       "78        0      False  (1, 2, 3, 4, 1)   \n",
       "82        0      False  (2, 1, 3, 4, 5)   \n",
       "101       0      False  (3, 1, 2, 4, 5)   \n",
       "103       0      False  (1, 2, 4, 3, 5)   \n",
       "124       0      False  (1, 2, 3, 4, 6)   \n",
       "132       0      False  (1, 2, 3, 4, 4)   \n",
       "146       0      False  (1, 2, 4, 3, 5)   \n",
       "156       0      False  (1, 2, 3, 4, 5)   \n",
       "187       0      False  (3, 1, 4, 2, 5)   \n",
       "189       0      False  (1, 3, 2, 4, 5)   \n",
       "229       0      False  (1, 2, 3, 4, 3)   \n",
       "240       0      False  (1, 2, 3, 4, 2)   \n",
       "262       0      False  (3, 1, 2, 4, 5)   \n",
       "270       0      False  (1, 2, 3, 4, 5)   \n",
       "280       0      False  (2, 1, 4, 3, 5)   \n",
       "282       0      False  (3, 1, 2, 4, 5)   \n",
       "286       0      False  (1, 2, 3, 4, 2)   \n",
       "296       0      False  (1, 2, 4, 3, 5)   \n",
       "314       0      False  (2, 4, 1, 3, 5)   \n",
       "333       0      False  (3, 1, 4, 2, 5)   \n",
       "337       0      False  (4, 1, 2, 3, 5)   \n",
       "343       1      False  (1, 2, 3, 4, 1)   \n",
       "355       0      False  (2, 1, 4, 3, 5)   \n",
       "358     194      False  (1, 2, 3, 4, 4)   \n",
       "366       0      False  (3, 4, 2, 1, 5)   \n",
       "369    2799      False  (1, 4, 2, 3, 5)   \n",
       "377       0      False  (1, 2, 3, 4, 2)   \n",
       "403       0      False  (2, 1, 3, 4, 5)   \n",
       "410       0      False  (1, 3, 4, 2, 5)   \n",
       "416       0      False  (4, 3, 1, 2, 5)   \n",
       "423       0      False  (1, 2, 3, 4, 1)   \n",
       "429       0      False  (2, 4, 3, 1, 5)   \n",
       "449       0      False  (4, 2, 1, 3, 5)   \n",
       "465       0      False  (1, 2, 3, 4, 2)   \n",
       "483       0      False  (2, 3, 1, 4, 5)   \n",
       "485       0      False  (1, 3, 4, 2, 5)   \n",
       "497       0      False  (1, 2, 3, 4, 3)   \n",
       "500       0      False  (2, 3, 1, 4, 5)   \n",
       "516       0      False  (1, 2, 3, 4, 1)   \n",
       "517       1      False  (1, 4, 2, 3, 5)   \n",
       "527       1      False  (1, 2, 3, 4, 5)   \n",
       "531       0      False  (1, 3, 2, 4, 5)   \n",
       "532       0      False  (1, 2, 4, 3, 5)   \n",
       "564       0      False  (1, 2, 3, 4, 5)   \n",
       "570       0      False  (3, 4, 1, 2, 5)   \n",
       "\n",
       "                                      last_line_string  \\\n",
       "0    [UD:, 10000, Gen:, 9906.699, Fit:, 1.068264e+9...   \n",
       "2    [UD:, 10000, Gen:, 3455.037, Fit:, 2.225637e+2...   \n",
       "22   [UD:, 10000, Gen:, 3754.978, Fit:, 1.415883e+1...   \n",
       "33   [UD:, 10000, Gen:, 2887.565, Fit:, 2.342660e+9...   \n",
       "34   [UD:, 10000, Gen:, 2936.504, Fit:, 3.623644e+2...   \n",
       "38   [UD:, 10000, Gen:, 279.9017, Fit:, 2.368785e+0...   \n",
       "53   [UD:, 10000, Gen:, 162.1611, Fit:, 4.321074e+2...   \n",
       "57   [UD:, 10000, Gen:, 989.3356, Fit:, 5.366316e+2...   \n",
       "60   [UD:, 10000, Gen:, 191.7533, Fit:, 1.612656e+1...   \n",
       "62   [UD:, 10000, Gen:, 2491.899, Fit:, 1.226074e+2...   \n",
       "78   [UD:, 10000, Gen:, 3527.221, Fit:, 8.290687e+1...   \n",
       "82   [UD:, 10000, Gen:, 2347.973, Fit:, 3.975777e+7...   \n",
       "101  [UD:, 10000, Gen:, 3459.881, Fit:, 5.938781e+7...   \n",
       "103  [UD:, 10000, Gen:, 1569.634, Fit:, 1.650562e+9...   \n",
       "124  [UD:, 10000, Gen:, 399.7833, Fit:, 2.248926e+1...   \n",
       "132  [UD:, 10000, Gen:, 2085.442, Fit:, 1.414460e+7...   \n",
       "146  [UD:, 10000, Gen:, 2176.047, Fit:, 3.001728e+1...   \n",
       "156  [UD:, 10000, Gen:, 3695.883, Fit:, 2.681245e+8...   \n",
       "187  [UD:, 10000, Gen:, 5257.910, Fit:, 1.933292e+7...   \n",
       "189  [UD:, 10000, Gen:, 4543.353, Fit:, 1.952524e+2...   \n",
       "229  [UD:, 10000, Gen:, 5236.037, Fit:, 1.478528e+2...   \n",
       "240  [UD:, 10000, Gen:, 4970.538, Fit:, 2.763625e+4...   \n",
       "262  [UD:, 10000, Gen:, 1961.143, Fit:, 5.570465e+1...   \n",
       "270  [UD:, 10000, Gen:, 4664.035, Fit:, 3.509935e+1...   \n",
       "280  [UD:, 10000, Gen:, 258.9984, Fit:, 2.660972e+0...   \n",
       "282  [UD:, 10000, Gen:, 2743.935, Fit:, 1.595871e+2...   \n",
       "286  [UD:, 10000, Gen:, 2424.156, Fit:, 1.032146e+1...   \n",
       "296  [UD:, 10000, Gen:, 1746.238, Fit:, 1.585506e+7...   \n",
       "314  [UD:, 10000, Gen:, 2385.089, Fit:, 3.974209e+2...   \n",
       "333  [UD:, 10000, Gen:, 2356.555, Fit:, 8.126117e+5...   \n",
       "337  [UD:, 10000, Gen:, 4262.263, Fit:, 1.331295e+1...   \n",
       "343  [UD:, 10000, Gen:, 2193.939, Fit:, 3.358075e+9...   \n",
       "355  [UD:, 10000, Gen:, 1780.534, Fit:, 3.493592e+4...   \n",
       "358  [UD:, 10000, Gen:, 3018.388, Fit:, 5.484608e+1...   \n",
       "366  [UD:, 10000, Gen:, 495.5284, Fit:, 2.518244e+2...   \n",
       "369  [UD:, 10000, Gen:, 5057.520, Fit:, 3.772360e+2...   \n",
       "377  [UD:, 10000, Gen:, 1559.954, Fit:, 1.747155e+8...   \n",
       "403  [UD:, 10000, Gen:, 5834.741, Fit:, 2.590696e+2...   \n",
       "410  [UD:, 10000, Gen:, 7772.847, Fit:, 2.507366e+1...   \n",
       "416  [UD:, 10000, Gen:, 7475.820, Fit:, 1.585746e+2...   \n",
       "423  [UD:, 10000, Gen:, 735.5526, Fit:, 1.983902e+1...   \n",
       "429  [UD:, 10000, Gen:, 613.9998, Fit:, 4.220755e+8...   \n",
       "449  [UD:, 10000, Gen:, 1416.791, Fit:, 1.657975e+1...   \n",
       "465  [UD:, 10000, Gen:, 853.0647, Fit:, 5.802276e+3...   \n",
       "483  [UD:, 10000, Gen:, 1258.940, Fit:, 8.121109e+1...   \n",
       "485  [UD:, 10000, Gen:, 3483.376, Fit:, 4.667285e+8...   \n",
       "497  [UD:, 10000, Gen:, 565.0198, Fit:, 6.680532e+7...   \n",
       "500  [UD:, 10000, Gen:, 730.1179, Fit:, 1.111935e+7...   \n",
       "516  [UD:, 10000, Gen:, 3745.777, Fit:, 5.570365e+4...   \n",
       "517  [UD:, 10000, Gen:, 1779.506, Fit:, 1.658858e+7...   \n",
       "527  [UD:, 10000, Gen:, 2385.319, Fit:, 1.455709e+2...   \n",
       "531  [UD:, 10000, Gen:, 3582.988, Fit:, 1.626195e+2...   \n",
       "532  [UD:, 10000, Gen:, 1083.482, Fit:, 1.806121e+2...   \n",
       "564  [UD:, 10000, Gen:, 4815.399, Fit:, 7.492482e+7...   \n",
       "570  [UD:, 10000, Gen:, 281.7109, Fit:, 4.437111e+1...   \n",
       "\n",
       "    experiment_start_time_string   xy_values  Last_UD        Gen  \\\n",
       "0                 04-17_16-23-01  (120, 120)    10000  9906.6990   \n",
       "2                 04-20_17-28-43  (120, 120)    10000  3455.0370   \n",
       "22                04-25_07-02-52  (120, 120)    10000  3754.9780   \n",
       "33                04-23_15-16-53  (120, 120)    10000  2887.5650   \n",
       "34                04-23_19-42-21  (120, 120)    10000  2936.5040   \n",
       "38                04-21_22-28-55  (120, 120)    10000   279.9017   \n",
       "53                04-19_04-19-42  (120, 120)    10000   162.1611   \n",
       "57                04-20_19-00-18  (120, 120)    10000   989.3356   \n",
       "60                04-25_07-44-40  (120, 120)    10000   191.7533   \n",
       "62                04-20_07-28-30  (120, 120)    10000  2491.8990   \n",
       "78                04-18_21-36-55  (120, 120)    10000  3527.2210   \n",
       "82                04-18_14-44-37  (120, 120)    10000  2347.9730   \n",
       "101               04-20_22-04-35  (120, 120)    10000  3459.8810   \n",
       "103               04-17_15-39-35  (120, 120)    10000  1569.6340   \n",
       "124               04-18_19-07-03  (120, 120)    10000   399.7833   \n",
       "132               04-17_12-36-47  (120, 120)    10000  2085.4420   \n",
       "146               04-23_14-12-09  (120, 120)    10000  2176.0470   \n",
       "156               04-22_01-55-22  (120, 120)    10000  3695.8830   \n",
       "187               04-23_04-53-30  (120, 120)    10000  5257.9100   \n",
       "189               04-25_02-53-54  (120, 120)    10000  4543.3530   \n",
       "229               04-24_02-24-47  (120, 120)    10000  5236.0370   \n",
       "240               04-25_00-26-30  (120, 120)    10000  4970.5380   \n",
       "262               04-21_14-12-48  (120, 120)    10000  1961.1430   \n",
       "270               04-17_15-01-04  (120, 120)    10000  4664.0350   \n",
       "280               04-18_15-24-13  (120, 120)    10000   258.9984   \n",
       "282               04-24_10-13-45  (120, 120)    10000  2743.9350   \n",
       "286               04-19_17-37-45  (120, 120)    10000  2424.1560   \n",
       "296               04-21_08-05-21  (120, 120)    10000  1746.2380   \n",
       "314               04-20_20-44-37  (120, 120)    10000  2385.0890   \n",
       "333               04-24_11-47-07  (120, 120)    10000  2356.5550   \n",
       "337               04-19_08-42-57  (120, 120)    10000  4262.2630   \n",
       "343               04-20_13-36-09  (120, 120)    10000  2193.9390   \n",
       "355               04-17_22-21-16  (120, 120)    10000  1780.5340   \n",
       "358               04-20_11-00-51  (120, 120)    10000  3018.3880   \n",
       "366               04-25_12-35-21  (120, 120)    10000   495.5284   \n",
       "369               04-23_00-31-37  (120, 120)    10000  5057.5200   \n",
       "377               04-21_06-08-45  (120, 120)    10000  1559.9540   \n",
       "403               04-21_11-02-49  (120, 120)    10000  5834.7410   \n",
       "410               04-22_23-22-49  (120, 120)    10000  7772.8470   \n",
       "416               04-20_08-33-12  (120, 120)    10000  7475.8200   \n",
       "423               04-23_12-55-48  (120, 120)    10000   735.5526   \n",
       "429               04-23_20-26-03  (120, 120)    10000   613.9998   \n",
       "449               04-18_05-04-03  (120, 120)    10000  1416.7910   \n",
       "465               04-18_08-43-31  (120, 120)    10000   853.0647   \n",
       "483               04-23_18-33-39  (120, 120)    10000  1258.9400   \n",
       "485               04-19_22-58-22  (120, 120)    10000  3483.3760   \n",
       "497               04-18_20-18-24  (120, 120)    10000   565.0198   \n",
       "500               04-21_12-03-29  (120, 120)    10000   730.1179   \n",
       "516               04-17_14-25-59  (120, 120)    10000  3745.7770   \n",
       "517               04-24_06-07-52  (120, 120)    10000  1779.5060   \n",
       "527               04-25_01-38-00  (120, 120)    10000  2385.3190   \n",
       "531               04-24_05-01-36  (120, 120)    10000  3582.9880   \n",
       "532               04-22_22-16-04  (120, 120)    10000  1083.4820   \n",
       "564               04-21_07-25-11  (120, 120)    10000  4815.3990   \n",
       "570               04-21_16-35-36  (120, 120)    10000   281.7109   \n",
       "\n",
       "               Fit   Orgs  ...  \\\n",
       "0     1.068264e+90  11072  ...   \n",
       "2    2.225637e+251  13895  ...   \n",
       "22   1.415883e+136  13733  ...   \n",
       "33    2.342660e+95  14093  ...   \n",
       "34   3.623644e+264  13938  ...   \n",
       "38    2.368785e+07   7809  ...   \n",
       "53    4.321074e+27   6594  ...   \n",
       "57    5.366316e+27  14334  ...   \n",
       "60    1.612656e+12   6429  ...   \n",
       "62   1.226074e+268  14128  ...   \n",
       "78   8.290687e+108  14041  ...   \n",
       "82    3.975777e+76  13825  ...   \n",
       "101   5.938781e+76  14153  ...   \n",
       "103   1.650562e+92  13943  ...   \n",
       "124   2.248926e+14   8385  ...   \n",
       "132   1.414460e+74  14125  ...   \n",
       "146  3.001728e+192  12889  ...   \n",
       "156   2.681245e+87  14048  ...   \n",
       "187   1.933292e+70   7570  ...   \n",
       "189  1.952524e+207  14159  ...   \n",
       "229  1.478528e+250  14065  ...   \n",
       "240   2.763625e+45  14054  ...   \n",
       "262  5.570465e+120  13796  ...   \n",
       "270  3.509935e+131  13971  ...   \n",
       "280   2.660972e+07   7730  ...   \n",
       "282  1.595871e+267  14136  ...   \n",
       "286  1.032146e+145  14076  ...   \n",
       "296   1.585506e+73  13973  ...   \n",
       "314  3.974209e+294  13550  ...   \n",
       "333   8.126117e+58  13750  ...   \n",
       "337  1.331295e+102  13245  ...   \n",
       "343   3.358075e+97  14258  ...   \n",
       "355   3.493592e+40  11923  ...   \n",
       "358  5.484608e+119  14079  ...   \n",
       "366   2.518244e+21   3745  ...   \n",
       "369  3.772360e+251  14121  ...   \n",
       "377   1.747155e+85  14069  ...   \n",
       "403  2.590696e+265  12663  ...   \n",
       "410  2.507366e+173  13965  ...   \n",
       "416  1.585746e+223  13714  ...   \n",
       "423  1.983902e+105  13899  ...   \n",
       "429   4.220755e+86  12275  ...   \n",
       "449  1.657975e+125  13632  ...   \n",
       "465   5.802276e+35  14272  ...   \n",
       "483  8.121109e+186  13924  ...   \n",
       "485   4.667285e+85  13897  ...   \n",
       "497   6.680532e+73  12696  ...   \n",
       "500   1.111935e+70  13311  ...   \n",
       "516   5.570365e+47  13967  ...   \n",
       "517   1.658858e+77  14112  ...   \n",
       "527  1.455709e+204  14043  ...   \n",
       "531  1.626195e+275  14010  ...   \n",
       "532   1.806121e+24  13507  ...   \n",
       "564   7.492482e+73  12972  ...   \n",
       "570   4.437111e+19   3393  ...   \n",
       "\n",
       "                                              filename Update    Not   Nand  \\\n",
       "0    14_mxc_-1_[1, 3, 2, 4, 5]_date_04-17_16-23-01_...  10000   2681   2130   \n",
       "2    19_mxc_-1_[2, 1, 3, 4, 5]_date_04-20_17-28-43_...  10000  11965  10328   \n",
       "22   25_mxc_-1_[2, 4, 1, 3, 5]_date_04-25_07-02-52_...  10000    371  11386   \n",
       "33   23_mxc_-1_[1, 3, 4, 2, 5]_date_04-23_15-16-53_...  10000  10775    249   \n",
       "34   23_mxc_-1_[2, 4, 1, 3, 5]_date_04-23_19-42-21_...  10000   6048   3514   \n",
       "38   20_mxc_-1_[4, 3, 2, 1, 5]_date_04-21_22-28-55_...  10000   3321    170   \n",
       "53   16_mxc_-1_[2, 3, 4, 1, 5]_date_04-19_04-19-42_...  10000     95   1720   \n",
       "57   19_mxc_-1_[2, 1, 4, 3, 5]_date_04-20_19-00-18_...  10000  10368  10655   \n",
       "60   25_mxc_-1_[2, 4, 3, 1, 5]_date_04-25_07-44-40_...  10000   1667     33   \n",
       "62   18_mxc_-1_[4, 2, 1, 3, 5]_date_04-20_07-28-30_...  10000  12473  12711   \n",
       "78   16_mxc_-1_[1, 2, 3, 4, 1]_date_04-18_21-36-55_...  10000   1394   6880   \n",
       "82   15_mxc_-1_[2, 1, 3, 4, 5]_date_04-18_14-44-37_...  10000  13270  12729   \n",
       "101  19_mxc_-1_[3, 1, 2, 4, 5]_date_04-20_22-04-35_...  10000  13872   1783   \n",
       "103  14_mxc_-1_[1, 2, 4, 3, 5]_date_04-17_15-39-35_...  10000   3703   4054   \n",
       "124  16_mxc_-1_[1, 2, 3, 4, 6]_date_04-18_19-07-03_...  10000    320   1944   \n",
       "132  14_mxc_-1_[1, 2, 3, 4, 4]_date_04-17_12-36-47_...  10000   4605    458   \n",
       "146  23_mxc_-1_[1, 2, 4, 3, 5]_date_04-23_14-12-09_...  10000   2842   3855   \n",
       "156  21_mxc_-1_[1, 2, 3, 4, 5]_date_04-22_01-55-22_...  10000   1062    314   \n",
       "187  22_mxc_-1_[3, 1, 4, 2, 5]_date_04-23_04-53-30_...  10000   6272   5167   \n",
       "189  25_mxc_-1_[1, 3, 2, 4, 5]_date_04-25_02-53-54_...  10000   2697   6755   \n",
       "229  24_mxc_-1_[1, 2, 3, 4, 3]_date_04-24_02-24-47_...  10000   4655   7874   \n",
       "240  25_mxc_-1_[1, 2, 3, 4, 2]_date_04-25_00-26-30_...  10000  10906    251   \n",
       "262  20_mxc_-1_[3, 1, 2, 4, 5]_date_04-21_14-12-48_...  10000  11819  13601   \n",
       "270  14_mxc_-1_[1, 2, 3, 4, 5]_date_04-17_15-01-04_...  10000    554   5965   \n",
       "280  15_mxc_-1_[2, 1, 4, 3, 5]_date_04-18_15-24-13_...  10000    260   4157   \n",
       "282  24_mxc_-1_[3, 1, 2, 4, 5]_date_04-24_10-13-45_...  10000  11685  11322   \n",
       "286  18_mxc_-1_[1, 2, 3, 4, 2]_date_04-19_17-37-45_...  10000   2393   9536   \n",
       "296  20_mxc_-1_[1, 2, 4, 3, 5]_date_04-21_08-05-21_...  10000  12385      8   \n",
       "314  19_mxc_-1_[2, 4, 1, 3, 5]_date_04-20_20-44-37_...  10000   8913  11100   \n",
       "333  24_mxc_-1_[3, 1, 4, 2, 5]_date_04-24_11-47-07_...  10000  12184     26   \n",
       "337  16_mxc_-1_[4, 1, 2, 3, 5]_date_04-19_08-42-57_...  10000   8720   1062   \n",
       "343  19_mxc_-1_[1, 2, 3, 4, 1]_date_04-20_13-36-09_...  10000   2393   8889   \n",
       "355  14_mxc_-1_[2, 1, 4, 3, 5]_date_04-17_22-21-16_...  10000    285   8910   \n",
       "358  19_mxc_-1_[1, 2, 3, 4, 4]_date_04-20_11-00-51_...  10000   1508  13109   \n",
       "366  25_mxc_-1_[3, 4, 2, 1, 5]_date_04-25_12-35-21_...  10000   1877    459   \n",
       "369  22_mxc_-1_[1, 4, 2, 3, 5]_date_04-23_00-31-37_...  10000    935   4839   \n",
       "377  20_mxc_-1_[1, 2, 3, 4, 2]_date_04-21_06-08-45_...  10000   6974   8349   \n",
       "403  20_mxc_-1_[2, 1, 3, 4, 5]_date_04-21_11-02-49_...  10000   9545   9270   \n",
       "410  22_mxc_-1_[1, 3, 4, 2, 5]_date_04-22_23-22-49_...  10000    338    239   \n",
       "416  18_mxc_-1_[4, 3, 1, 2, 5]_date_04-20_08-33-12_...  10000  13661  13073   \n",
       "423  23_mxc_-1_[1, 2, 3, 4, 1]_date_04-23_12-55-48_...  10000    496     64   \n",
       "429  23_mxc_-1_[2, 4, 3, 1, 5]_date_04-23_20-26-03_...  10000   6680   6926   \n",
       "449  14_mxc_-1_[4, 2, 1, 3, 5]_date_04-18_05-04-03_...  10000  11208   9669   \n",
       "465  15_mxc_-1_[1, 2, 3, 4, 2]_date_04-18_08-43-31_...  10000   7858    909   \n",
       "483  23_mxc_-1_[2, 3, 1, 4, 5]_date_04-23_18-33-39_...  10000   3927  10932   \n",
       "485  18_mxc_-1_[1, 3, 4, 2, 5]_date_04-19_22-58-22_...  10000    396   2694   \n",
       "497  16_mxc_-1_[1, 2, 3, 4, 3]_date_04-18_20-18-24_...  10000   2947   1685   \n",
       "500  20_mxc_-1_[2, 3, 1, 4, 5]_date_04-21_12-03-29_...  10000  10098   1618   \n",
       "516  14_mxc_-1_[1, 2, 3, 4, 1]_date_04-17_14-25-59_...  10000   2908   4881   \n",
       "517  24_mxc_-1_[1, 4, 2, 3, 5]_date_04-24_06-07-52_...  10000   2490   5745   \n",
       "527  25_mxc_-1_[1, 2, 3, 4, 5]_date_04-25_01-38-00_...  10000  11533    153   \n",
       "531  24_mxc_-1_[1, 3, 2, 4, 5]_date_04-24_05-01-36_...  10000   7353  11908   \n",
       "532  22_mxc_-1_[1, 2, 4, 3, 5]_date_04-22_22-16-04_...  10000   7384   7735   \n",
       "564  20_mxc_-1_[1, 2, 3, 4, 5]_date_04-21_07-25-11_...  10000   1972   1055   \n",
       "570  20_mxc_-1_[3, 4, 1, 2, 5]_date_04-21_16-35-36_...  10000    374   1120   \n",
       "\n",
       "       And  OrNot     Or  AndNot    Nor   Xor  \n",
       "0      546   4806     16       5      0     0  \n",
       "2       96   1916     18    8750     27     0  \n",
       "22     643  11452      8      10      6     0  \n",
       "33       0   1635  10937      75     10     0  \n",
       "34       5  12998    162      30      0     0  \n",
       "38       0   1083     10       0      0     0  \n",
       "53       0   1608      0       0      0     0  \n",
       "57     141   7613   9366   10616     10     0  \n",
       "60       0   1633      2       0      0     0  \n",
       "62      13    207      0       0      0     0  \n",
       "78       0  10908   9875     569    288     0  \n",
       "82      10    119      0       0      0     0  \n",
       "101      5     78      8       0      0     0  \n",
       "103   4234   5466   5563    4944    230     0  \n",
       "124     32     85   1680    2155    422     1  \n",
       "132   5980   6324      0      30      0     0  \n",
       "146   1158   9765   2387    9508     27     0  \n",
       "156    160  11734  11821    9882      4     0  \n",
       "187     15    350   1708    2444     20     0  \n",
       "189      7  11496   6011      37   4775     0  \n",
       "229    153  10345   6125    6884   3717     0  \n",
       "240      0  11177  11206      36   8197     0  \n",
       "262      7   2958      2       9      0     0  \n",
       "270   1832   6821      6    5758      0     0  \n",
       "280     25    148      0    2921      1     0  \n",
       "282     28    261      3     764      1     0  \n",
       "286      0   9827     16       3      0     0  \n",
       "296      0    234  12784       4      0     0  \n",
       "314   8086  11625     10     407      1     0  \n",
       "333      0     15      7       0      0     0  \n",
       "337      0     40      0       0      0     0  \n",
       "343      3   9161   6244    1970   8515     0  \n",
       "355     88   7690     30    6671   8090     0  \n",
       "358    150  13705  10510     189  10700     1  \n",
       "366      0   1267     18       0      0     0  \n",
       "369  11929  13933     16     260      9    16  \n",
       "377     14   8383     87    8062   7246  6372  \n",
       "403     93   1759     51    7245   8757     0  \n",
       "410    650  13218    119   13492     10     5  \n",
       "416      0   1328     67      11      4     0  \n",
       "423     14   7775   7725    7378   7271     0  \n",
       "429    965   7244     48      15      0     0  \n",
       "449      3    467      4       2      3     0  \n",
       "465      6   7247   7408    2873   4370     0  \n",
       "483      1  11429     22       1      0     0  \n",
       "485  10336  11804     10    9941      5     0  \n",
       "497      0   4897   4751      12   1499     0  \n",
       "500    592    566      0      15    328     0  \n",
       "516      2   5404    768       6      0     0  \n",
       "517   2270  10340     77      43      1   232  \n",
       "527      3   2002   1883      39  10908     0  \n",
       "531      2  12099   6292      20      1     0  \n",
       "532     27   3881   6633    7327      0     0  \n",
       "564     11   5003   4717     553   2913     0  \n",
       "570      0    219      5       0      0     0  \n",
       "\n",
       "[55 rows x 21 columns]"
      ]
     },
     "execution_count": 12,
     "metadata": {},
     "output_type": "execute_result"
    }
   ],
   "source": [
    "filtered_df"
   ]
  },
  {
   "cell_type": "code",
   "execution_count": 13,
   "metadata": {},
   "outputs": [],
   "source": [
    "sorted_EQU_df = df.sort_values(\"Equals\", ascending=False)"
   ]
  },
  {
   "cell_type": "code",
   "execution_count": 14,
   "metadata": {},
   "outputs": [
    {
     "data": {
      "text/html": [
       "<div>\n",
       "<style scoped>\n",
       "    .dataframe tbody tr th:only-of-type {\n",
       "        vertical-align: middle;\n",
       "    }\n",
       "\n",
       "    .dataframe tbody tr th {\n",
       "        vertical-align: top;\n",
       "    }\n",
       "\n",
       "    .dataframe thead th {\n",
       "        text-align: right;\n",
       "    }\n",
       "</style>\n",
       "<table border=\"1\" class=\"dataframe\">\n",
       "  <thead>\n",
       "    <tr style=\"text-align: right;\">\n",
       "      <th></th>\n",
       "      <th>Equals</th>\n",
       "      <th>max_count</th>\n",
       "      <th>values</th>\n",
       "      <th>last_line_string</th>\n",
       "      <th>experiment_start_time_string</th>\n",
       "      <th>xy_values</th>\n",
       "      <th>Last_UD</th>\n",
       "      <th>Gen</th>\n",
       "      <th>Fit</th>\n",
       "      <th>Orgs</th>\n",
       "      <th>...</th>\n",
       "      <th>filename</th>\n",
       "      <th>Update</th>\n",
       "      <th>Not</th>\n",
       "      <th>Nand</th>\n",
       "      <th>And</th>\n",
       "      <th>OrNot</th>\n",
       "      <th>Or</th>\n",
       "      <th>AndNot</th>\n",
       "      <th>Nor</th>\n",
       "      <th>Xor</th>\n",
       "    </tr>\n",
       "  </thead>\n",
       "  <tbody>\n",
       "    <tr>\n",
       "      <th>514</th>\n",
       "      <td>13372</td>\n",
       "      <td>True</td>\n",
       "      <td>(1, 3, 2, 4, 5)</td>\n",
       "      <td>[UD:, 10000, Gen:, 3333.767, Fit:, 9.435327e+0...</td>\n",
       "      <td>04-17_16-05-58</td>\n",
       "      <td>(120, 120)</td>\n",
       "      <td>10000</td>\n",
       "      <td>3333.76700</td>\n",
       "      <td>9.435327e+09</td>\n",
       "      <td>14234</td>\n",
       "      <td>...</td>\n",
       "      <td>14_mxc_0_[1, 3, 2, 4, 5]_date_04-17_16-05-58_x...</td>\n",
       "      <td>10000</td>\n",
       "      <td>14009</td>\n",
       "      <td>13303</td>\n",
       "      <td>12028</td>\n",
       "      <td>13068</td>\n",
       "      <td>12673</td>\n",
       "      <td>13388</td>\n",
       "      <td>13349</td>\n",
       "      <td>16</td>\n",
       "    </tr>\n",
       "    <tr>\n",
       "      <th>109</th>\n",
       "      <td>12262</td>\n",
       "      <td>True</td>\n",
       "      <td>(4, 3, 2, 1, 5)</td>\n",
       "      <td>[UD:, 10000, Gen:, 3144.089, Fit:, 2.497056e+1...</td>\n",
       "      <td>04-23_09-52-11</td>\n",
       "      <td>(120, 120)</td>\n",
       "      <td>10000</td>\n",
       "      <td>3144.08900</td>\n",
       "      <td>2.497056e+18</td>\n",
       "      <td>14134</td>\n",
       "      <td>...</td>\n",
       "      <td>22_mxc_0_[4, 3, 2, 1, 5]_date_04-23_09-52-11_x...</td>\n",
       "      <td>10000</td>\n",
       "      <td>13364</td>\n",
       "      <td>13083</td>\n",
       "      <td>12682</td>\n",
       "      <td>13388</td>\n",
       "      <td>9921</td>\n",
       "      <td>12503</td>\n",
       "      <td>850</td>\n",
       "      <td>1</td>\n",
       "    </tr>\n",
       "    <tr>\n",
       "      <th>66</th>\n",
       "      <td>11738</td>\n",
       "      <td>True</td>\n",
       "      <td>(4, 2, 1, 3, 5)</td>\n",
       "      <td>[UD:, 10000, Gen:, 2259.783, Fit:, 42466.73, O...</td>\n",
       "      <td>04-20_07-13-26</td>\n",
       "      <td>(120, 120)</td>\n",
       "      <td>10000</td>\n",
       "      <td>2259.78300</td>\n",
       "      <td>4.246673e+04</td>\n",
       "      <td>14369</td>\n",
       "      <td>...</td>\n",
       "      <td>18_mxc_0_[4, 2, 1, 3, 5]_date_04-20_07-13-26_x...</td>\n",
       "      <td>10000</td>\n",
       "      <td>12619</td>\n",
       "      <td>13757</td>\n",
       "      <td>12375</td>\n",
       "      <td>13009</td>\n",
       "      <td>8</td>\n",
       "      <td>487</td>\n",
       "      <td>28</td>\n",
       "      <td>6</td>\n",
       "    </tr>\n",
       "    <tr>\n",
       "      <th>36</th>\n",
       "      <td>11712</td>\n",
       "      <td>True</td>\n",
       "      <td>(1, 3, 2, 4, 5)</td>\n",
       "      <td>[UD:, 10000, Gen:, 3086.236, Fit:, 1.864469e+1...</td>\n",
       "      <td>04-18_10-54-13</td>\n",
       "      <td>(120, 120)</td>\n",
       "      <td>10000</td>\n",
       "      <td>3086.23600</td>\n",
       "      <td>1.864469e+162</td>\n",
       "      <td>14068</td>\n",
       "      <td>...</td>\n",
       "      <td>15_mxc_0_[1, 3, 2, 4, 5]_date_04-18_10-54-13_x...</td>\n",
       "      <td>10000</td>\n",
       "      <td>1902</td>\n",
       "      <td>9888</td>\n",
       "      <td>12265</td>\n",
       "      <td>12977</td>\n",
       "      <td>11152</td>\n",
       "      <td>11663</td>\n",
       "      <td>10411</td>\n",
       "      <td>181</td>\n",
       "    </tr>\n",
       "    <tr>\n",
       "      <th>495</th>\n",
       "      <td>11671</td>\n",
       "      <td>True</td>\n",
       "      <td>(4, 2, 1, 3, 5)</td>\n",
       "      <td>[UD:, 5900, Gen:, 3480.698, Fit:, 9.543012e+21...</td>\n",
       "      <td>04-21_20-12-35</td>\n",
       "      <td>(120, 120)</td>\n",
       "      <td>5900</td>\n",
       "      <td>3480.69800</td>\n",
       "      <td>9.543012e+213</td>\n",
       "      <td>14285</td>\n",
       "      <td>...</td>\n",
       "      <td>20_mxc_0_[4, 2, 1, 3, 5]_date_04-21_20-12-35_x...</td>\n",
       "      <td>5900</td>\n",
       "      <td>1756</td>\n",
       "      <td>1861</td>\n",
       "      <td>1102</td>\n",
       "      <td>1473</td>\n",
       "      <td>441</td>\n",
       "      <td>286</td>\n",
       "      <td>11142</td>\n",
       "      <td>93</td>\n",
       "    </tr>\n",
       "    <tr>\n",
       "      <th>...</th>\n",
       "      <td>...</td>\n",
       "      <td>...</td>\n",
       "      <td>...</td>\n",
       "      <td>...</td>\n",
       "      <td>...</td>\n",
       "      <td>...</td>\n",
       "      <td>...</td>\n",
       "      <td>...</td>\n",
       "      <td>...</td>\n",
       "      <td>...</td>\n",
       "      <td>...</td>\n",
       "      <td>...</td>\n",
       "      <td>...</td>\n",
       "      <td>...</td>\n",
       "      <td>...</td>\n",
       "      <td>...</td>\n",
       "      <td>...</td>\n",
       "      <td>...</td>\n",
       "      <td>...</td>\n",
       "      <td>...</td>\n",
       "      <td>...</td>\n",
       "    </tr>\n",
       "    <tr>\n",
       "      <th>222</th>\n",
       "      <td>0</td>\n",
       "      <td>True</td>\n",
       "      <td>(4, 1, 3, 2, 5)</td>\n",
       "      <td>[UD:, 3575, Gen:, 469.0538, Fit:, 750.6426, Or...</td>\n",
       "      <td>04-24_00-49-41</td>\n",
       "      <td>(120, 120)</td>\n",
       "      <td>3575</td>\n",
       "      <td>469.05380</td>\n",
       "      <td>7.506426e+02</td>\n",
       "      <td>14337</td>\n",
       "      <td>...</td>\n",
       "      <td>23_mxc_0_[4, 1, 3, 2, 5]_date_04-24_00-49-41_x...</td>\n",
       "      <td>3500</td>\n",
       "      <td>12652</td>\n",
       "      <td>13077</td>\n",
       "      <td>62</td>\n",
       "      <td>317</td>\n",
       "      <td>5707</td>\n",
       "      <td>4928</td>\n",
       "      <td>1</td>\n",
       "      <td>5</td>\n",
       "    </tr>\n",
       "    <tr>\n",
       "      <th>220</th>\n",
       "      <td>0</td>\n",
       "      <td>False</td>\n",
       "      <td>(1, 3, 2, 4, 5)</td>\n",
       "      <td>[UD:, 1500, Gen:, 128.9594, Fit:, 5.720062e+14...</td>\n",
       "      <td>04-22_22-52-33</td>\n",
       "      <td>(120, 120)</td>\n",
       "      <td>1500</td>\n",
       "      <td>128.95940</td>\n",
       "      <td>5.720062e+141</td>\n",
       "      <td>12252</td>\n",
       "      <td>...</td>\n",
       "      <td>22_mxc_-1_[1, 3, 2, 4, 5]_date_04-22_22-52-33_...</td>\n",
       "      <td>1500</td>\n",
       "      <td>1549</td>\n",
       "      <td>554</td>\n",
       "      <td>2</td>\n",
       "      <td>1243</td>\n",
       "      <td>97</td>\n",
       "      <td>18</td>\n",
       "      <td>40</td>\n",
       "      <td>0</td>\n",
       "    </tr>\n",
       "    <tr>\n",
       "      <th>219</th>\n",
       "      <td>0</td>\n",
       "      <td>False</td>\n",
       "      <td>(2, 4, 1, 3, 5)</td>\n",
       "      <td>[UD:, 2100, Gen:, 629.4133, Fit:, 4.431596e+14...</td>\n",
       "      <td>04-24_09-22-33</td>\n",
       "      <td>(120, 120)</td>\n",
       "      <td>2100</td>\n",
       "      <td>629.41330</td>\n",
       "      <td>4.431596e+149</td>\n",
       "      <td>12145</td>\n",
       "      <td>...</td>\n",
       "      <td>24_mxc_-1_[2, 4, 1, 3, 5]_date_04-24_09-22-33_...</td>\n",
       "      <td>2100</td>\n",
       "      <td>88</td>\n",
       "      <td>703</td>\n",
       "      <td>298</td>\n",
       "      <td>7976</td>\n",
       "      <td>8</td>\n",
       "      <td>3</td>\n",
       "      <td>0</td>\n",
       "      <td>0</td>\n",
       "    </tr>\n",
       "    <tr>\n",
       "      <th>217</th>\n",
       "      <td>0</td>\n",
       "      <td>False</td>\n",
       "      <td>(4, 2, 3, 1, 5)</td>\n",
       "      <td>[UD:, 700, Gen:, 55.34626, Fit:, 0.3000963, Or...</td>\n",
       "      <td>04-21_03-06-12</td>\n",
       "      <td>(120, 120)</td>\n",
       "      <td>700</td>\n",
       "      <td>55.34626</td>\n",
       "      <td>3.000963e-01</td>\n",
       "      <td>6859</td>\n",
       "      <td>...</td>\n",
       "      <td>19_mxc_-1_[4, 2, 3, 1, 5]_date_04-21_03-06-12_...</td>\n",
       "      <td>700</td>\n",
       "      <td>93</td>\n",
       "      <td>0</td>\n",
       "      <td>0</td>\n",
       "      <td>0</td>\n",
       "      <td>0</td>\n",
       "      <td>0</td>\n",
       "      <td>0</td>\n",
       "      <td>0</td>\n",
       "    </tr>\n",
       "    <tr>\n",
       "      <th>577</th>\n",
       "      <td>0</td>\n",
       "      <td>True</td>\n",
       "      <td>(4, 1, 2, 3, 5)</td>\n",
       "      <td>[UD:, 10000, Gen:, 2650.036, Fit:, 26249.29, O...</td>\n",
       "      <td>04-18_03-42-57</td>\n",
       "      <td>(120, 120)</td>\n",
       "      <td>10000</td>\n",
       "      <td>2650.03600</td>\n",
       "      <td>2.624929e+04</td>\n",
       "      <td>14367</td>\n",
       "      <td>...</td>\n",
       "      <td>14_mxc_0_[4, 1, 2, 3, 5]_date_04-18_03-42-57_x...</td>\n",
       "      <td>10000</td>\n",
       "      <td>13013</td>\n",
       "      <td>11787</td>\n",
       "      <td>8818</td>\n",
       "      <td>12283</td>\n",
       "      <td>12266</td>\n",
       "      <td>11097</td>\n",
       "      <td>12046</td>\n",
       "      <td>0</td>\n",
       "    </tr>\n",
       "  </tbody>\n",
       "</table>\n",
       "<p>578 rows × 21 columns</p>\n",
       "</div>"
      ],
      "text/plain": [
       "     Equals  max_count           values  \\\n",
       "514   13372       True  (1, 3, 2, 4, 5)   \n",
       "109   12262       True  (4, 3, 2, 1, 5)   \n",
       "66    11738       True  (4, 2, 1, 3, 5)   \n",
       "36    11712       True  (1, 3, 2, 4, 5)   \n",
       "495   11671       True  (4, 2, 1, 3, 5)   \n",
       "..      ...        ...              ...   \n",
       "222       0       True  (4, 1, 3, 2, 5)   \n",
       "220       0      False  (1, 3, 2, 4, 5)   \n",
       "219       0      False  (2, 4, 1, 3, 5)   \n",
       "217       0      False  (4, 2, 3, 1, 5)   \n",
       "577       0       True  (4, 1, 2, 3, 5)   \n",
       "\n",
       "                                      last_line_string  \\\n",
       "514  [UD:, 10000, Gen:, 3333.767, Fit:, 9.435327e+0...   \n",
       "109  [UD:, 10000, Gen:, 3144.089, Fit:, 2.497056e+1...   \n",
       "66   [UD:, 10000, Gen:, 2259.783, Fit:, 42466.73, O...   \n",
       "36   [UD:, 10000, Gen:, 3086.236, Fit:, 1.864469e+1...   \n",
       "495  [UD:, 5900, Gen:, 3480.698, Fit:, 9.543012e+21...   \n",
       "..                                                 ...   \n",
       "222  [UD:, 3575, Gen:, 469.0538, Fit:, 750.6426, Or...   \n",
       "220  [UD:, 1500, Gen:, 128.9594, Fit:, 5.720062e+14...   \n",
       "219  [UD:, 2100, Gen:, 629.4133, Fit:, 4.431596e+14...   \n",
       "217  [UD:, 700, Gen:, 55.34626, Fit:, 0.3000963, Or...   \n",
       "577  [UD:, 10000, Gen:, 2650.036, Fit:, 26249.29, O...   \n",
       "\n",
       "    experiment_start_time_string   xy_values  Last_UD         Gen  \\\n",
       "514               04-17_16-05-58  (120, 120)    10000  3333.76700   \n",
       "109               04-23_09-52-11  (120, 120)    10000  3144.08900   \n",
       "66                04-20_07-13-26  (120, 120)    10000  2259.78300   \n",
       "36                04-18_10-54-13  (120, 120)    10000  3086.23600   \n",
       "495               04-21_20-12-35  (120, 120)     5900  3480.69800   \n",
       "..                           ...         ...      ...         ...   \n",
       "222               04-24_00-49-41  (120, 120)     3575   469.05380   \n",
       "220               04-22_22-52-33  (120, 120)     1500   128.95940   \n",
       "219               04-24_09-22-33  (120, 120)     2100   629.41330   \n",
       "217               04-21_03-06-12  (120, 120)      700    55.34626   \n",
       "577               04-18_03-42-57  (120, 120)    10000  2650.03600   \n",
       "\n",
       "               Fit   Orgs  ...  \\\n",
       "514   9.435327e+09  14234  ...   \n",
       "109   2.497056e+18  14134  ...   \n",
       "66    4.246673e+04  14369  ...   \n",
       "36   1.864469e+162  14068  ...   \n",
       "495  9.543012e+213  14285  ...   \n",
       "..             ...    ...  ...   \n",
       "222   7.506426e+02  14337  ...   \n",
       "220  5.720062e+141  12252  ...   \n",
       "219  4.431596e+149  12145  ...   \n",
       "217   3.000963e-01   6859  ...   \n",
       "577   2.624929e+04  14367  ...   \n",
       "\n",
       "                                              filename Update    Not   Nand  \\\n",
       "514  14_mxc_0_[1, 3, 2, 4, 5]_date_04-17_16-05-58_x...  10000  14009  13303   \n",
       "109  22_mxc_0_[4, 3, 2, 1, 5]_date_04-23_09-52-11_x...  10000  13364  13083   \n",
       "66   18_mxc_0_[4, 2, 1, 3, 5]_date_04-20_07-13-26_x...  10000  12619  13757   \n",
       "36   15_mxc_0_[1, 3, 2, 4, 5]_date_04-18_10-54-13_x...  10000   1902   9888   \n",
       "495  20_mxc_0_[4, 2, 1, 3, 5]_date_04-21_20-12-35_x...   5900   1756   1861   \n",
       "..                                                 ...    ...    ...    ...   \n",
       "222  23_mxc_0_[4, 1, 3, 2, 5]_date_04-24_00-49-41_x...   3500  12652  13077   \n",
       "220  22_mxc_-1_[1, 3, 2, 4, 5]_date_04-22_22-52-33_...   1500   1549    554   \n",
       "219  24_mxc_-1_[2, 4, 1, 3, 5]_date_04-24_09-22-33_...   2100     88    703   \n",
       "217  19_mxc_-1_[4, 2, 3, 1, 5]_date_04-21_03-06-12_...    700     93      0   \n",
       "577  14_mxc_0_[4, 1, 2, 3, 5]_date_04-18_03-42-57_x...  10000  13013  11787   \n",
       "\n",
       "       And  OrNot     Or  AndNot    Nor  Xor  \n",
       "514  12028  13068  12673   13388  13349   16  \n",
       "109  12682  13388   9921   12503    850    1  \n",
       "66   12375  13009      8     487     28    6  \n",
       "36   12265  12977  11152   11663  10411  181  \n",
       "495   1102   1473    441     286  11142   93  \n",
       "..     ...    ...    ...     ...    ...  ...  \n",
       "222     62    317   5707    4928      1    5  \n",
       "220      2   1243     97      18     40    0  \n",
       "219    298   7976      8       3      0    0  \n",
       "217      0      0      0       0      0    0  \n",
       "577   8818  12283  12266   11097  12046    0  \n",
       "\n",
       "[578 rows x 21 columns]"
      ]
     },
     "execution_count": 14,
     "metadata": {},
     "output_type": "execute_result"
    }
   ],
   "source": [
    "sorted_EQU_df"
   ]
  },
  {
   "cell_type": "code",
   "execution_count": null,
   "metadata": {},
   "outputs": [],
   "source": []
  },
  {
   "cell_type": "code",
   "execution_count": 15,
   "metadata": {},
   "outputs": [
    {
     "data": {
      "text/html": [
       "<div>\n",
       "<style scoped>\n",
       "    .dataframe tbody tr th:only-of-type {\n",
       "        vertical-align: middle;\n",
       "    }\n",
       "\n",
       "    .dataframe tbody tr th {\n",
       "        vertical-align: top;\n",
       "    }\n",
       "\n",
       "    .dataframe thead th {\n",
       "        text-align: right;\n",
       "    }\n",
       "</style>\n",
       "<table border=\"1\" class=\"dataframe\">\n",
       "  <thead>\n",
       "    <tr style=\"text-align: right;\">\n",
       "      <th></th>\n",
       "      <th>Equals</th>\n",
       "      <th>max_count</th>\n",
       "      <th>values</th>\n",
       "      <th>last_line_string</th>\n",
       "      <th>experiment_start_time_string</th>\n",
       "      <th>xy_values</th>\n",
       "      <th>Last_UD</th>\n",
       "      <th>Gen</th>\n",
       "      <th>Fit</th>\n",
       "      <th>Orgs</th>\n",
       "      <th>...</th>\n",
       "      <th>filename</th>\n",
       "      <th>Update</th>\n",
       "      <th>Not</th>\n",
       "      <th>Nand</th>\n",
       "      <th>And</th>\n",
       "      <th>OrNot</th>\n",
       "      <th>Or</th>\n",
       "      <th>AndNot</th>\n",
       "      <th>Nor</th>\n",
       "      <th>Xor</th>\n",
       "    </tr>\n",
       "  </thead>\n",
       "  <tbody>\n",
       "    <tr>\n",
       "      <th>514</th>\n",
       "      <td>13372</td>\n",
       "      <td>True</td>\n",
       "      <td>(1, 3, 2, 4, 5)</td>\n",
       "      <td>[UD:, 10000, Gen:, 3333.767, Fit:, 9.435327e+0...</td>\n",
       "      <td>04-17_16-05-58</td>\n",
       "      <td>(120, 120)</td>\n",
       "      <td>10000</td>\n",
       "      <td>3333.767</td>\n",
       "      <td>9.435327e+09</td>\n",
       "      <td>14234</td>\n",
       "      <td>...</td>\n",
       "      <td>14_mxc_0_[1, 3, 2, 4, 5]_date_04-17_16-05-58_x...</td>\n",
       "      <td>10000</td>\n",
       "      <td>14009</td>\n",
       "      <td>13303</td>\n",
       "      <td>12028</td>\n",
       "      <td>13068</td>\n",
       "      <td>12673</td>\n",
       "      <td>13388</td>\n",
       "      <td>13349</td>\n",
       "      <td>16</td>\n",
       "    </tr>\n",
       "    <tr>\n",
       "      <th>109</th>\n",
       "      <td>12262</td>\n",
       "      <td>True</td>\n",
       "      <td>(4, 3, 2, 1, 5)</td>\n",
       "      <td>[UD:, 10000, Gen:, 3144.089, Fit:, 2.497056e+1...</td>\n",
       "      <td>04-23_09-52-11</td>\n",
       "      <td>(120, 120)</td>\n",
       "      <td>10000</td>\n",
       "      <td>3144.089</td>\n",
       "      <td>2.497056e+18</td>\n",
       "      <td>14134</td>\n",
       "      <td>...</td>\n",
       "      <td>22_mxc_0_[4, 3, 2, 1, 5]_date_04-23_09-52-11_x...</td>\n",
       "      <td>10000</td>\n",
       "      <td>13364</td>\n",
       "      <td>13083</td>\n",
       "      <td>12682</td>\n",
       "      <td>13388</td>\n",
       "      <td>9921</td>\n",
       "      <td>12503</td>\n",
       "      <td>850</td>\n",
       "      <td>1</td>\n",
       "    </tr>\n",
       "    <tr>\n",
       "      <th>66</th>\n",
       "      <td>11738</td>\n",
       "      <td>True</td>\n",
       "      <td>(4, 2, 1, 3, 5)</td>\n",
       "      <td>[UD:, 10000, Gen:, 2259.783, Fit:, 42466.73, O...</td>\n",
       "      <td>04-20_07-13-26</td>\n",
       "      <td>(120, 120)</td>\n",
       "      <td>10000</td>\n",
       "      <td>2259.783</td>\n",
       "      <td>4.246673e+04</td>\n",
       "      <td>14369</td>\n",
       "      <td>...</td>\n",
       "      <td>18_mxc_0_[4, 2, 1, 3, 5]_date_04-20_07-13-26_x...</td>\n",
       "      <td>10000</td>\n",
       "      <td>12619</td>\n",
       "      <td>13757</td>\n",
       "      <td>12375</td>\n",
       "      <td>13009</td>\n",
       "      <td>8</td>\n",
       "      <td>487</td>\n",
       "      <td>28</td>\n",
       "      <td>6</td>\n",
       "    </tr>\n",
       "    <tr>\n",
       "      <th>36</th>\n",
       "      <td>11712</td>\n",
       "      <td>True</td>\n",
       "      <td>(1, 3, 2, 4, 5)</td>\n",
       "      <td>[UD:, 10000, Gen:, 3086.236, Fit:, 1.864469e+1...</td>\n",
       "      <td>04-18_10-54-13</td>\n",
       "      <td>(120, 120)</td>\n",
       "      <td>10000</td>\n",
       "      <td>3086.236</td>\n",
       "      <td>1.864469e+162</td>\n",
       "      <td>14068</td>\n",
       "      <td>...</td>\n",
       "      <td>15_mxc_0_[1, 3, 2, 4, 5]_date_04-18_10-54-13_x...</td>\n",
       "      <td>10000</td>\n",
       "      <td>1902</td>\n",
       "      <td>9888</td>\n",
       "      <td>12265</td>\n",
       "      <td>12977</td>\n",
       "      <td>11152</td>\n",
       "      <td>11663</td>\n",
       "      <td>10411</td>\n",
       "      <td>181</td>\n",
       "    </tr>\n",
       "    <tr>\n",
       "      <th>58</th>\n",
       "      <td>11631</td>\n",
       "      <td>True</td>\n",
       "      <td>(3, 4, 1, 2, 5)</td>\n",
       "      <td>[UD:, 10000, Gen:, 2287.056, Fit:, 1299638., O...</td>\n",
       "      <td>04-20_05-14-45</td>\n",
       "      <td>(120, 120)</td>\n",
       "      <td>10000</td>\n",
       "      <td>2287.056</td>\n",
       "      <td>1.299638e+06</td>\n",
       "      <td>14349</td>\n",
       "      <td>...</td>\n",
       "      <td>18_mxc_0_[3, 4, 1, 2, 5]_date_04-20_05-14-45_x...</td>\n",
       "      <td>10000</td>\n",
       "      <td>13033</td>\n",
       "      <td>13298</td>\n",
       "      <td>844</td>\n",
       "      <td>13653</td>\n",
       "      <td>12166</td>\n",
       "      <td>57</td>\n",
       "      <td>12250</td>\n",
       "      <td>3</td>\n",
       "    </tr>\n",
       "    <tr>\n",
       "      <th>...</th>\n",
       "      <td>...</td>\n",
       "      <td>...</td>\n",
       "      <td>...</td>\n",
       "      <td>...</td>\n",
       "      <td>...</td>\n",
       "      <td>...</td>\n",
       "      <td>...</td>\n",
       "      <td>...</td>\n",
       "      <td>...</td>\n",
       "      <td>...</td>\n",
       "      <td>...</td>\n",
       "      <td>...</td>\n",
       "      <td>...</td>\n",
       "      <td>...</td>\n",
       "      <td>...</td>\n",
       "      <td>...</td>\n",
       "      <td>...</td>\n",
       "      <td>...</td>\n",
       "      <td>...</td>\n",
       "      <td>...</td>\n",
       "      <td>...</td>\n",
       "    </tr>\n",
       "    <tr>\n",
       "      <th>251</th>\n",
       "      <td>0</td>\n",
       "      <td>True</td>\n",
       "      <td>(1, 2, 3, 4, 1)</td>\n",
       "      <td>[UD:, 10000, Gen:, 2566.778, Fit:, 17122.64, O...</td>\n",
       "      <td>04-21_06-33-46</td>\n",
       "      <td>(120, 120)</td>\n",
       "      <td>10000</td>\n",
       "      <td>2566.778</td>\n",
       "      <td>1.712264e+04</td>\n",
       "      <td>14381</td>\n",
       "      <td>...</td>\n",
       "      <td>20_mxc_0_[1, 2, 3, 4, 1]_date_04-21_06-33-46_x...</td>\n",
       "      <td>10000</td>\n",
       "      <td>13468</td>\n",
       "      <td>12707</td>\n",
       "      <td>12835</td>\n",
       "      <td>12922</td>\n",
       "      <td>12445</td>\n",
       "      <td>13468</td>\n",
       "      <td>12205</td>\n",
       "      <td>0</td>\n",
       "    </tr>\n",
       "    <tr>\n",
       "      <th>240</th>\n",
       "      <td>0</td>\n",
       "      <td>False</td>\n",
       "      <td>(1, 2, 3, 4, 2)</td>\n",
       "      <td>[UD:, 10000, Gen:, 4970.538, Fit:, 2.763625e+4...</td>\n",
       "      <td>04-25_00-26-30</td>\n",
       "      <td>(120, 120)</td>\n",
       "      <td>10000</td>\n",
       "      <td>4970.538</td>\n",
       "      <td>2.763625e+45</td>\n",
       "      <td>14054</td>\n",
       "      <td>...</td>\n",
       "      <td>25_mxc_-1_[1, 2, 3, 4, 2]_date_04-25_00-26-30_...</td>\n",
       "      <td>10000</td>\n",
       "      <td>10906</td>\n",
       "      <td>251</td>\n",
       "      <td>0</td>\n",
       "      <td>11177</td>\n",
       "      <td>11206</td>\n",
       "      <td>36</td>\n",
       "      <td>8197</td>\n",
       "      <td>0</td>\n",
       "    </tr>\n",
       "    <tr>\n",
       "      <th>229</th>\n",
       "      <td>0</td>\n",
       "      <td>False</td>\n",
       "      <td>(1, 2, 3, 4, 3)</td>\n",
       "      <td>[UD:, 10000, Gen:, 5236.037, Fit:, 1.478528e+2...</td>\n",
       "      <td>04-24_02-24-47</td>\n",
       "      <td>(120, 120)</td>\n",
       "      <td>10000</td>\n",
       "      <td>5236.037</td>\n",
       "      <td>1.478528e+250</td>\n",
       "      <td>14065</td>\n",
       "      <td>...</td>\n",
       "      <td>24_mxc_-1_[1, 2, 3, 4, 3]_date_04-24_02-24-47_...</td>\n",
       "      <td>10000</td>\n",
       "      <td>4655</td>\n",
       "      <td>7874</td>\n",
       "      <td>153</td>\n",
       "      <td>10345</td>\n",
       "      <td>6125</td>\n",
       "      <td>6884</td>\n",
       "      <td>3717</td>\n",
       "      <td>0</td>\n",
       "    </tr>\n",
       "    <tr>\n",
       "      <th>226</th>\n",
       "      <td>0</td>\n",
       "      <td>True</td>\n",
       "      <td>(1, 2, 3, 4, 1)</td>\n",
       "      <td>[UD:, 10000, Gen:, 2243.788, Fit:, 15955.55, O...</td>\n",
       "      <td>04-23_12-39-18</td>\n",
       "      <td>(120, 120)</td>\n",
       "      <td>10000</td>\n",
       "      <td>2243.788</td>\n",
       "      <td>1.595555e+04</td>\n",
       "      <td>14375</td>\n",
       "      <td>...</td>\n",
       "      <td>23_mxc_0_[1, 2, 3, 4, 1]_date_04-23_12-39-18_x...</td>\n",
       "      <td>10000</td>\n",
       "      <td>13476</td>\n",
       "      <td>13180</td>\n",
       "      <td>12728</td>\n",
       "      <td>13531</td>\n",
       "      <td>11513</td>\n",
       "      <td>12377</td>\n",
       "      <td>11670</td>\n",
       "      <td>0</td>\n",
       "    </tr>\n",
       "    <tr>\n",
       "      <th>577</th>\n",
       "      <td>0</td>\n",
       "      <td>True</td>\n",
       "      <td>(4, 1, 2, 3, 5)</td>\n",
       "      <td>[UD:, 10000, Gen:, 2650.036, Fit:, 26249.29, O...</td>\n",
       "      <td>04-18_03-42-57</td>\n",
       "      <td>(120, 120)</td>\n",
       "      <td>10000</td>\n",
       "      <td>2650.036</td>\n",
       "      <td>2.624929e+04</td>\n",
       "      <td>14367</td>\n",
       "      <td>...</td>\n",
       "      <td>14_mxc_0_[4, 1, 2, 3, 5]_date_04-18_03-42-57_x...</td>\n",
       "      <td>10000</td>\n",
       "      <td>13013</td>\n",
       "      <td>11787</td>\n",
       "      <td>8818</td>\n",
       "      <td>12283</td>\n",
       "      <td>12266</td>\n",
       "      <td>11097</td>\n",
       "      <td>12046</td>\n",
       "      <td>0</td>\n",
       "    </tr>\n",
       "  </tbody>\n",
       "</table>\n",
       "<p>263 rows × 21 columns</p>\n",
       "</div>"
      ],
      "text/plain": [
       "     Equals  max_count           values  \\\n",
       "514   13372       True  (1, 3, 2, 4, 5)   \n",
       "109   12262       True  (4, 3, 2, 1, 5)   \n",
       "66    11738       True  (4, 2, 1, 3, 5)   \n",
       "36    11712       True  (1, 3, 2, 4, 5)   \n",
       "58    11631       True  (3, 4, 1, 2, 5)   \n",
       "..      ...        ...              ...   \n",
       "251       0       True  (1, 2, 3, 4, 1)   \n",
       "240       0      False  (1, 2, 3, 4, 2)   \n",
       "229       0      False  (1, 2, 3, 4, 3)   \n",
       "226       0       True  (1, 2, 3, 4, 1)   \n",
       "577       0       True  (4, 1, 2, 3, 5)   \n",
       "\n",
       "                                      last_line_string  \\\n",
       "514  [UD:, 10000, Gen:, 3333.767, Fit:, 9.435327e+0...   \n",
       "109  [UD:, 10000, Gen:, 3144.089, Fit:, 2.497056e+1...   \n",
       "66   [UD:, 10000, Gen:, 2259.783, Fit:, 42466.73, O...   \n",
       "36   [UD:, 10000, Gen:, 3086.236, Fit:, 1.864469e+1...   \n",
       "58   [UD:, 10000, Gen:, 2287.056, Fit:, 1299638., O...   \n",
       "..                                                 ...   \n",
       "251  [UD:, 10000, Gen:, 2566.778, Fit:, 17122.64, O...   \n",
       "240  [UD:, 10000, Gen:, 4970.538, Fit:, 2.763625e+4...   \n",
       "229  [UD:, 10000, Gen:, 5236.037, Fit:, 1.478528e+2...   \n",
       "226  [UD:, 10000, Gen:, 2243.788, Fit:, 15955.55, O...   \n",
       "577  [UD:, 10000, Gen:, 2650.036, Fit:, 26249.29, O...   \n",
       "\n",
       "    experiment_start_time_string   xy_values  Last_UD       Gen  \\\n",
       "514               04-17_16-05-58  (120, 120)    10000  3333.767   \n",
       "109               04-23_09-52-11  (120, 120)    10000  3144.089   \n",
       "66                04-20_07-13-26  (120, 120)    10000  2259.783   \n",
       "36                04-18_10-54-13  (120, 120)    10000  3086.236   \n",
       "58                04-20_05-14-45  (120, 120)    10000  2287.056   \n",
       "..                           ...         ...      ...       ...   \n",
       "251               04-21_06-33-46  (120, 120)    10000  2566.778   \n",
       "240               04-25_00-26-30  (120, 120)    10000  4970.538   \n",
       "229               04-24_02-24-47  (120, 120)    10000  5236.037   \n",
       "226               04-23_12-39-18  (120, 120)    10000  2243.788   \n",
       "577               04-18_03-42-57  (120, 120)    10000  2650.036   \n",
       "\n",
       "               Fit   Orgs  ...  \\\n",
       "514   9.435327e+09  14234  ...   \n",
       "109   2.497056e+18  14134  ...   \n",
       "66    4.246673e+04  14369  ...   \n",
       "36   1.864469e+162  14068  ...   \n",
       "58    1.299638e+06  14349  ...   \n",
       "..             ...    ...  ...   \n",
       "251   1.712264e+04  14381  ...   \n",
       "240   2.763625e+45  14054  ...   \n",
       "229  1.478528e+250  14065  ...   \n",
       "226   1.595555e+04  14375  ...   \n",
       "577   2.624929e+04  14367  ...   \n",
       "\n",
       "                                              filename Update    Not   Nand  \\\n",
       "514  14_mxc_0_[1, 3, 2, 4, 5]_date_04-17_16-05-58_x...  10000  14009  13303   \n",
       "109  22_mxc_0_[4, 3, 2, 1, 5]_date_04-23_09-52-11_x...  10000  13364  13083   \n",
       "66   18_mxc_0_[4, 2, 1, 3, 5]_date_04-20_07-13-26_x...  10000  12619  13757   \n",
       "36   15_mxc_0_[1, 3, 2, 4, 5]_date_04-18_10-54-13_x...  10000   1902   9888   \n",
       "58   18_mxc_0_[3, 4, 1, 2, 5]_date_04-20_05-14-45_x...  10000  13033  13298   \n",
       "..                                                 ...    ...    ...    ...   \n",
       "251  20_mxc_0_[1, 2, 3, 4, 1]_date_04-21_06-33-46_x...  10000  13468  12707   \n",
       "240  25_mxc_-1_[1, 2, 3, 4, 2]_date_04-25_00-26-30_...  10000  10906    251   \n",
       "229  24_mxc_-1_[1, 2, 3, 4, 3]_date_04-24_02-24-47_...  10000   4655   7874   \n",
       "226  23_mxc_0_[1, 2, 3, 4, 1]_date_04-23_12-39-18_x...  10000  13476  13180   \n",
       "577  14_mxc_0_[4, 1, 2, 3, 5]_date_04-18_03-42-57_x...  10000  13013  11787   \n",
       "\n",
       "       And  OrNot     Or  AndNot    Nor  Xor  \n",
       "514  12028  13068  12673   13388  13349   16  \n",
       "109  12682  13388   9921   12503    850    1  \n",
       "66   12375  13009      8     487     28    6  \n",
       "36   12265  12977  11152   11663  10411  181  \n",
       "58     844  13653  12166      57  12250    3  \n",
       "..     ...    ...    ...     ...    ...  ...  \n",
       "251  12835  12922  12445   13468  12205    0  \n",
       "240      0  11177  11206      36   8197    0  \n",
       "229    153  10345   6125    6884   3717    0  \n",
       "226  12728  13531  11513   12377  11670    0  \n",
       "577   8818  12283  12266   11097  12046    0  \n",
       "\n",
       "[263 rows x 21 columns]"
      ]
     },
     "metadata": {},
     "output_type": "display_data"
    }
   ],
   "source": [
    "cleaned_df = sorted_EQU_df[sorted_EQU_df['Last_UD'] == 10000]\n",
    "display(cleaned_df)"
   ]
  },
  {
   "cell_type": "code",
   "execution_count": 16,
   "metadata": {},
   "outputs": [
    {
     "name": "stdout",
     "output_type": "stream",
     "text": [
      "\\begin{tabular}{lrr}\n",
      "\\toprule\n",
      "{} &        Equals &            Fit \\\\\n",
      "\\midrule\n",
      "mean &   2587.576923 &  2.652688e+264 \\\\\n",
      "min  &      0.000000 &   3.307935e+02 \\\\\n",
      "25\\%  &      0.000000 &   1.369368e+04 \\\\\n",
      "50\\%  &      0.000000 &   4.006197e+04 \\\\\n",
      "75\\%  &   5830.500000 &   1.090476e+06 \\\\\n",
      "max  &  13372.000000 &  5.517592e+266 \\\\\n",
      "\\bottomrule\n",
      "\\end{tabular}\n",
      "\n"
     ]
    },
    {
     "name": "stderr",
     "output_type": "stream",
     "text": [
      "/var/folders/nk/6df909tn2f726qntp17fzj600000gn/T/ipykernel_1044/2916242337.py:6: FutureWarning: In future versions `DataFrame.to_latex` is expected to utilise the base implementation of `Styler.to_latex` for formatting and rendering. The arguments signature may therefore change. It is recommended instead to use `DataFrame.style.to_latex` which also contains additional functionality.\n",
      "  print(d1.to_latex(index=True))\n"
     ]
    }
   ],
   "source": [
    "# cleaned_df[cleaned_df[\"max_count\"]].describe().to_latex(index=False)\n",
    "d1 = cleaned_df[cleaned_df[\"max_count\"]]\n",
    "d1 = d1[[\"Equals\", \"Fit\"]]\n",
    "d1 = d1.describe()\n",
    "d1 = d1.drop([\"count\", \"std\"])\n",
    "print(d1.to_latex(index=True))"
   ]
  },
  {
   "cell_type": "code",
   "execution_count": 17,
   "metadata": {},
   "outputs": [
    {
     "name": "stdout",
     "output_type": "stream",
     "text": [
      "\\begin{tabular}{lrr}\n",
      "\\toprule\n",
      "{} &       Equals &            Fit \\\\\n",
      "\\midrule\n",
      "mean &    54.472727 &  7.225835e+292 \\\\\n",
      "min  &     0.000000 &   2.368785e+07 \\\\\n",
      "25\\%  &     0.000000 &   5.559675e+69 \\\\\n",
      "50\\%  &     0.000000 &   1.068264e+90 \\\\\n",
      "75\\%  &     0.000000 &  4.060555e+186 \\\\\n",
      "max  &  2799.000000 &  3.974209e+294 \\\\\n",
      "\\bottomrule\n",
      "\\end{tabular}\n",
      "\n"
     ]
    },
    {
     "name": "stderr",
     "output_type": "stream",
     "text": [
      "/var/folders/nk/6df909tn2f726qntp17fzj600000gn/T/ipykernel_1044/652201068.py:7: FutureWarning: In future versions `DataFrame.to_latex` is expected to utilise the base implementation of `Styler.to_latex` for formatting and rendering. The arguments signature may therefore change. It is recommended instead to use `DataFrame.style.to_latex` which also contains additional functionality.\n",
      "  print(d1.to_latex(index=True))\n"
     ]
    }
   ],
   "source": [
    "# display(cleaned_df[~cleaned_df[\"max_count\"]].describe())\n",
    "# cleaned_df[cleaned_df[\"max_count\"]].describe().to_latex(index=False)\n",
    "d1 = cleaned_df[~cleaned_df[\"max_count\"]]\n",
    "d1 = d1[[\"Equals\", \"Fit\", \"filename\"]]\n",
    "d1 = d1.describe()\n",
    "d1 = d1.drop([\"count\", \"std\"])\n",
    "print(d1.to_latex(index=True))"
   ]
  },
  {
   "cell_type": "code",
   "execution_count": 18,
   "metadata": {},
   "outputs": [],
   "source": [
    "cleaned_df = cleaned_df[[\"values\", \"max_count\", \"Equals\", \"Fit\", \"index\", \"filename\"]]"
   ]
  },
  {
   "cell_type": "code",
   "execution_count": 19,
   "metadata": {},
   "outputs": [],
   "source": [
    "diff_vals_df = cleaned_df.sort_values(\"values\")"
   ]
  },
  {
   "cell_type": "code",
   "execution_count": 20,
   "metadata": {},
   "outputs": [
    {
     "name": "stderr",
     "output_type": "stream",
     "text": [
      "/var/folders/nk/6df909tn2f726qntp17fzj600000gn/T/ipykernel_1044/128294827.py:1: FutureWarning: In future versions `DataFrame.to_latex` is expected to utilise the base implementation of `Styler.to_latex` for formatting and rendering. The arguments signature may therefore change. It is recommended instead to use `DataFrame.style.to_latex` which also contains additional functionality.\n",
      "  print(diff_vals_df.to_latex(index=False))\n"
     ]
    },
    {
     "name": "stdout",
     "output_type": "stream",
     "text": [
      "\\begin{tabular}{llrrrl}\n",
      "\\toprule\n",
      "         values &  max\\_count &  Equals &           Fit &  index &                                           filename \\\\\n",
      "\\midrule\n",
      "(1, 2, 3, 4, 1) &       True &       0 &  1.051585e+04 &     18 & 18\\_mxc\\_0\\_[1, 2, 3, 4, 1]\\_date\\_04-19\\_20-18-53\\_xy... \\\\\n",
      "(1, 2, 3, 4, 1) &       True &       9 &  2.043470e+05 &     22 & 22\\_mxc\\_0\\_[1, 2, 3, 4, 1]\\_date\\_04-22\\_17-19-10\\_xy... \\\\\n",
      "(1, 2, 3, 4, 1) &       True &       0 &  1.595555e+04 &     23 & 23\\_mxc\\_0\\_[1, 2, 3, 4, 1]\\_date\\_04-23\\_12-39-18\\_xy... \\\\\n",
      "(1, 2, 3, 4, 1) &       True &       0 &  2.875752e+03 &     25 & 25\\_mxc\\_0\\_[1, 2, 3, 4, 1]\\_date\\_04-25\\_00-51-17\\_xy... \\\\\n",
      "(1, 2, 3, 4, 1) &      False &       0 & 8.290687e+108 &     16 & 16\\_mxc\\_-1\\_[1, 2, 3, 4, 1]\\_date\\_04-18\\_21-36-55\\_x... \\\\\n",
      "(1, 2, 3, 4, 1) &      False &       0 &  5.570365e+47 &     14 & 14\\_mxc\\_-1\\_[1, 2, 3, 4, 1]\\_date\\_04-17\\_14-25-59\\_x... \\\\\n",
      "(1, 2, 3, 4, 1) &       True &       0 &  3.825357e+03 &     24 & 24\\_mxc\\_0\\_[1, 2, 3, 4, 1]\\_date\\_04-24\\_03-12-28\\_xy... \\\\\n",
      "(1, 2, 3, 4, 1) &       True &      14 &  1.656536e+05 &     19 & 19\\_mxc\\_0\\_[1, 2, 3, 4, 1]\\_date\\_04-20\\_13-19-50\\_xy... \\\\\n",
      "(1, 2, 3, 4, 1) &       True &       0 &  1.650670e+04 &     14 & 14\\_mxc\\_0\\_[1, 2, 3, 4, 1]\\_date\\_04-17\\_14-09-43\\_xy... \\\\\n",
      "(1, 2, 3, 4, 1) &       True &       0 &  1.304462e+04 &     15 & 15\\_mxc\\_0\\_[1, 2, 3, 4, 1]\\_date\\_04-18\\_09-06-23\\_xy... \\\\\n",
      "(1, 2, 3, 4, 1) &       True &       0 &  1.468369e+04 &     16 & 16\\_mxc\\_0\\_[1, 2, 3, 4, 1]\\_date\\_04-18\\_21-21-11\\_xy... \\\\\n",
      "(1, 2, 3, 4, 1) &       True &       0 &  4.658941e+03 &     21 & 21\\_mxc\\_0\\_[1, 2, 3, 4, 1]\\_date\\_04-22\\_01-04-11\\_xy... \\\\\n",
      "(1, 2, 3, 4, 1) &       True &       0 &  1.712264e+04 &     20 & 20\\_mxc\\_0\\_[1, 2, 3, 4, 1]\\_date\\_04-21\\_06-33-46\\_xy... \\\\\n",
      "(1, 2, 3, 4, 1) &      False &       1 &  3.358075e+97 &     19 & 19\\_mxc\\_-1\\_[1, 2, 3, 4, 1]\\_date\\_04-20\\_13-36-09\\_x... \\\\\n",
      "(1, 2, 3, 4, 1) &      False &       0 & 1.983902e+105 &     23 & 23\\_mxc\\_-1\\_[1, 2, 3, 4, 1]\\_date\\_04-23\\_12-55-48\\_x... \\\\\n",
      "(1, 2, 3, 4, 2) &       True &       0 &  4.505530e+03 &     16 & 16\\_mxc\\_0\\_[1, 2, 3, 4, 2]\\_date\\_04-18\\_20-40-54\\_xy... \\\\\n",
      "(1, 2, 3, 4, 2) &       True &       0 &  2.833900e+04 &     20 & 20\\_mxc\\_0\\_[1, 2, 3, 4, 2]\\_date\\_04-21\\_05-53-19\\_xy... \\\\\n",
      "(1, 2, 3, 4, 2) &      False &       0 &  2.763625e+45 &     25 & 25\\_mxc\\_-1\\_[1, 2, 3, 4, 2]\\_date\\_04-25\\_00-26-30\\_x... \\\\\n",
      "(1, 2, 3, 4, 2) &       True &    1220 &  2.431615e+05 &     21 & 21\\_mxc\\_0\\_[1, 2, 3, 4, 2]\\_date\\_04-22\\_00-30-25\\_xy... \\\\\n",
      "(1, 2, 3, 4, 2) &       True &       0 &  1.765941e+04 &     19 & 19\\_mxc\\_0\\_[1, 2, 3, 4, 2]\\_date\\_04-20\\_12-33-22\\_xy... \\\\\n",
      "(1, 2, 3, 4, 2) &       True &       0 &  1.431112e+04 &     18 & 18\\_mxc\\_0\\_[1, 2, 3, 4, 2]\\_date\\_04-19\\_17-19-42\\_xy... \\\\\n",
      "(1, 2, 3, 4, 2) &       True &       0 &  1.135985e+04 &     23 & 23\\_mxc\\_0\\_[1, 2, 3, 4, 2]\\_date\\_04-23\\_12-03-45\\_xy... \\\\\n",
      "(1, 2, 3, 4, 2) &       True &       0 &  1.141723e+04 &     14 & 14\\_mxc\\_0\\_[1, 2, 3, 4, 2]\\_date\\_04-17\\_13-35-05\\_xy... \\\\\n",
      "(1, 2, 3, 4, 2) &      False &       0 &  1.747155e+85 &     20 & 20\\_mxc\\_-1\\_[1, 2, 3, 4, 2]\\_date\\_04-21\\_06-08-45\\_x... \\\\\n",
      "(1, 2, 3, 4, 2) &      False &       0 & 1.032146e+145 &     18 & 18\\_mxc\\_-1\\_[1, 2, 3, 4, 2]\\_date\\_04-19\\_17-37-45\\_x... \\\\\n",
      "(1, 2, 3, 4, 2) &       True &       2 &  1.163079e+04 &     15 & 15\\_mxc\\_0\\_[1, 2, 3, 4, 2]\\_date\\_04-18\\_08-27-56\\_xy... \\\\\n",
      "(1, 2, 3, 4, 2) &      False &       0 &  5.802276e+35 &     15 & 15\\_mxc\\_-1\\_[1, 2, 3, 4, 2]\\_date\\_04-18\\_08-43-31\\_x... \\\\\n",
      "(1, 2, 3, 4, 2) &       True &       0 &  4.066495e+03 &     22 & 22\\_mxc\\_0\\_[1, 2, 3, 4, 2]\\_date\\_04-22\\_16-46-59\\_xy... \\\\\n",
      "(1, 2, 3, 4, 2) &       True &       0 &  3.535986e+03 &     25 & 25\\_mxc\\_0\\_[1, 2, 3, 4, 2]\\_date\\_04-25\\_00-10-56\\_xy... \\\\\n",
      "(1, 2, 3, 4, 3) &       True &       0 &  1.852283e+04 &     18 & 18\\_mxc\\_0\\_[1, 2, 3, 4, 3]\\_date\\_04-19\\_16-35-43\\_xy... \\\\\n",
      "(1, 2, 3, 4, 3) &       True &    7896 &  2.741109e+05 &     23 & 23\\_mxc\\_0\\_[1, 2, 3, 4, 3]\\_date\\_04-23\\_11-29-32\\_xy... \\\\\n",
      "(1, 2, 3, 4, 3) &      False &       0 &  6.680532e+73 &     16 & 16\\_mxc\\_-1\\_[1, 2, 3, 4, 3]\\_date\\_04-18\\_20-18-24\\_x... \\\\\n",
      "(1, 2, 3, 4, 3) &       True &   10048 &  2.778531e+04 &     21 & 21\\_mxc\\_0\\_[1, 2, 3, 4, 3]\\_date\\_04-21\\_23-52-54\\_xy... \\\\\n",
      "(1, 2, 3, 4, 3) &      False &       0 & 1.478528e+250 &     24 & 24\\_mxc\\_-1\\_[1, 2, 3, 4, 3]\\_date\\_04-24\\_02-24-47\\_x... \\\\\n",
      "(1, 2, 3, 4, 3) &       True &       0 &  4.114673e+03 &     19 & 19\\_mxc\\_0\\_[1, 2, 3, 4, 3]\\_date\\_04-20\\_11-33-19\\_xy... \\\\\n",
      "(1, 2, 3, 4, 3) &       True &       0 &  1.052765e+03 &     25 & 25\\_mxc\\_0\\_[1, 2, 3, 4, 3]\\_date\\_04-24\\_23-38-02\\_xy... \\\\\n",
      "(1, 2, 3, 4, 3) &       True &       0 &  1.488276e+04 &     20 & 20\\_mxc\\_0\\_[1, 2, 3, 4, 3]\\_date\\_04-21\\_05-22-10\\_xy... \\\\\n",
      "(1, 2, 3, 4, 3) &       True &   10733 &  1.234024e+07 &     16 & 16\\_mxc\\_0\\_[1, 2, 3, 4, 3]\\_date\\_04-18\\_20-01-51\\_xy... \\\\\n",
      "(1, 2, 3, 4, 3) &       True &       0 &  2.777271e+03 &     24 & 24\\_mxc\\_0\\_[1, 2, 3, 4, 3]\\_date\\_04-24\\_02-10-12\\_xy... \\\\\n",
      "(1, 2, 3, 4, 4) &      False &     194 & 5.484608e+119 &     19 & 19\\_mxc\\_-1\\_[1, 2, 3, 4, 4]\\_date\\_04-20\\_11-00-51\\_x... \\\\\n",
      "(1, 2, 3, 4, 4) &       True &       0 &  4.479074e+03 &     15 & 15\\_mxc\\_0\\_[1, 2, 3, 4, 4]\\_date\\_04-18\\_07-22-44\\_xy... \\\\\n",
      "(1, 2, 3, 4, 4) &       True &       0 &  4.400842e+03 &     16 & 16\\_mxc\\_0\\_[1, 2, 3, 4, 4]\\_date\\_04-18\\_19-26-38\\_xy... \\\\\n",
      "(1, 2, 3, 4, 4) &       True &       0 &  3.729066e+03 &     21 & 21\\_mxc\\_0\\_[1, 2, 3, 4, 4]\\_date\\_04-21\\_23-15-32\\_xy... \\\\\n",
      "(1, 2, 3, 4, 4) &       True &       2 &  4.300917e+04 &     19 & 19\\_mxc\\_0\\_[1, 2, 3, 4, 4]\\_date\\_04-20\\_10-00-20\\_xy... \\\\\n",
      "(1, 2, 3, 4, 4) &       True &       0 &  1.458197e+04 &     14 & 14\\_mxc\\_0\\_[1, 2, 3, 4, 4]\\_date\\_04-17\\_12-18-08\\_xy... \\\\\n",
      "(1, 2, 3, 4, 4) &       True &       0 &  1.323002e+04 &     23 & 23\\_mxc\\_0\\_[1, 2, 3, 4, 4]\\_date\\_04-23\\_10-52-53\\_xy... \\\\\n",
      "(1, 2, 3, 4, 4) &      False &       0 &  1.414460e+74 &     14 & 14\\_mxc\\_-1\\_[1, 2, 3, 4, 4]\\_date\\_04-17\\_12-36-47\\_x... \\\\\n",
      "(1, 2, 3, 4, 4) &       True &       0 &  1.607880e+04 &     18 & 18\\_mxc\\_0\\_[1, 2, 3, 4, 4]\\_date\\_04-19\\_15-58-10\\_xy... \\\\\n",
      "(1, 2, 3, 4, 4) &       True &    9583 &  1.873431e+38 &     22 & 22\\_mxc\\_0\\_[1, 2, 3, 4, 4]\\_date\\_04-22\\_15-44-41\\_xy... \\\\\n",
      "(1, 2, 3, 4, 4) &       True &       0 &  1.624876e+04 &     20 & 20\\_mxc\\_0\\_[1, 2, 3, 4, 4]\\_date\\_04-21\\_04-50-19\\_xy... \\\\\n",
      "(1, 2, 3, 4, 4) &       True &       0 &  3.798482e+03 &     25 & 25\\_mxc\\_0\\_[1, 2, 3, 4, 4]\\_date\\_04-24\\_23-04-55\\_xy... \\\\\n",
      "(1, 2, 3, 4, 5) &       True &       5 &  1.484297e+04 &     20 & 20\\_mxc\\_0\\_[1, 2, 3, 4, 5]\\_date\\_04-21\\_07-09-32\\_xy... \\\\\n",
      "(1, 2, 3, 4, 5) &      False &       0 &  7.492482e+73 &     20 & 20\\_mxc\\_-1\\_[1, 2, 3, 4, 5]\\_date\\_04-21\\_07-25-11\\_x... \\\\\n",
      "(1, 2, 3, 4, 5) &       True &       2 &  1.383939e+04 &     23 & 23\\_mxc\\_0\\_[1, 2, 3, 4, 5]\\_date\\_04-23\\_13-19-46\\_xy... \\\\\n",
      "(1, 2, 3, 4, 5) &       True &       0 &  1.436827e+04 &     21 & 21\\_mxc\\_0\\_[1, 2, 3, 4, 5]\\_date\\_04-22\\_01-39-27\\_xy... \\\\\n",
      "(1, 2, 3, 4, 5) &      False &       1 & 1.455709e+204 &     25 & 25\\_mxc\\_-1\\_[1, 2, 3, 4, 5]\\_date\\_04-25\\_01-38-00\\_x... \\\\\n",
      "(1, 2, 3, 4, 5) &       True &       0 &  3.777295e+03 &     16 & 16\\_mxc\\_0\\_[1, 2, 3, 4, 5]\\_date\\_04-18\\_22-04-46\\_xy... \\\\\n",
      "(1, 2, 3, 4, 5) &       True &       0 &  2.884656e+03 &     25 & 25\\_mxc\\_0\\_[1, 2, 3, 4, 5]\\_date\\_04-25\\_01-23-07\\_xy... \\\\\n",
      "(1, 2, 3, 4, 5) &      False &       0 & 3.509935e+131 &     14 & 14\\_mxc\\_-1\\_[1, 2, 3, 4, 5]\\_date\\_04-17\\_15-01-04\\_x... \\\\\n",
      "(1, 2, 3, 4, 5) &       True &   10915 &  2.080070e+21 &     24 & 24\\_mxc\\_0\\_[1, 2, 3, 4, 5]\\_date\\_04-24\\_03-45-21\\_xy... \\\\\n",
      "(1, 2, 3, 4, 5) &      False &       0 &  2.681245e+87 &     21 & 21\\_mxc\\_-1\\_[1, 2, 3, 4, 5]\\_date\\_04-22\\_01-55-22\\_x... \\\\\n",
      "(1, 2, 3, 4, 6) &       True &       2 &  5.098617e+04 &     14 & 14\\_mxc\\_0\\_[1, 2, 3, 4, 6]\\_date\\_04-17\\_11-13-02\\_xy... \\\\\n",
      "(1, 2, 3, 4, 6) &       True &       0 &  1.051572e+04 &     25 & 25\\_mxc\\_0\\_[1, 2, 3, 4, 6]\\_date\\_04-24\\_22-30-27\\_xy... \\\\\n",
      "(1, 2, 3, 4, 6) &       True &    5828 & 1.492810e+123 &     24 & 24\\_mxc\\_0\\_[1, 2, 3, 4, 6]\\_date\\_04-24\\_01-13-25\\_xy... \\\\\n",
      "(1, 2, 3, 4, 6) &       True &    9472 &  8.258462e+08 &     16 & 16\\_mxc\\_0\\_[1, 2, 3, 4, 6]\\_date\\_04-18\\_18-49-02\\_xy... \\\\\n",
      "(1, 2, 3, 4, 6) &       True &       0 &  4.055289e+03 &     20 & 20\\_mxc\\_0\\_[1, 2, 3, 4, 6]\\_date\\_04-21\\_04-18-29\\_xy... \\\\\n",
      "(1, 2, 3, 4, 6) &      False &       0 &  2.248926e+14 &     16 & 16\\_mxc\\_-1\\_[1, 2, 3, 4, 6]\\_date\\_04-18\\_19-07-03\\_x... \\\\\n",
      "(1, 2, 3, 4, 6) &       True &       0 &  2.060942e+03 &     22 & 22\\_mxc\\_0\\_[1, 2, 3, 4, 6]\\_date\\_04-22\\_15-11-33\\_xy... \\\\\n",
      "(1, 2, 4, 3, 5) &       True &       1 &  2.896731e+04 &     18 & 18\\_mxc\\_0\\_[1, 2, 4, 3, 5]\\_date\\_04-19\\_21-29-46\\_xy... \\\\\n",
      "(1, 2, 4, 3, 5) &       True &       0 &  7.580204e+03 &     25 & 25\\_mxc\\_0\\_[1, 2, 4, 3, 5]\\_date\\_04-25\\_02-06-57\\_xy... \\\\\n",
      "(1, 2, 4, 3, 5) &       True &   11359 &  2.969108e+16 &     22 & 22\\_mxc\\_0\\_[1, 2, 4, 3, 5]\\_date\\_04-22\\_22-05-40\\_xy... \\\\\n",
      "(1, 2, 4, 3, 5) &       True &       0 &  3.176208e+04 &     24 & 24\\_mxc\\_0\\_[1, 2, 4, 3, 5]\\_date\\_04-24\\_04-15-32\\_xy... \\\\\n",
      "(1, 2, 4, 3, 5) &       True &    8435 & 5.416585e+183 &     23 & 23\\_mxc\\_0\\_[1, 2, 4, 3, 5]\\_date\\_04-23\\_13-57-28\\_xy... \\\\\n",
      "(1, 2, 4, 3, 5) &      False &       0 &  1.806121e+24 &     22 & 22\\_mxc\\_-1\\_[1, 2, 4, 3, 5]\\_date\\_04-22\\_22-16-04\\_x... \\\\\n",
      "(1, 2, 4, 3, 5) &       True &       0 &  2.835658e+04 &     16 & 16\\_mxc\\_0\\_[1, 2, 4, 3, 5]\\_date\\_04-18\\_22-39-10\\_xy... \\\\\n",
      "(1, 2, 4, 3, 5) &      False &       0 &  1.585506e+73 &     20 & 20\\_mxc\\_-1\\_[1, 2, 4, 3, 5]\\_date\\_04-21\\_08-05-21\\_x... \\\\\n",
      "(1, 2, 4, 3, 5) &       True &   10630 &  6.645112e+75 &     19 & 19\\_mxc\\_0\\_[1, 2, 4, 3, 5]\\_date\\_04-20\\_14-26-24\\_xy... \\\\\n",
      "(1, 2, 4, 3, 5) &      False &       0 &  1.650562e+92 &     14 & 14\\_mxc\\_-1\\_[1, 2, 4, 3, 5]\\_date\\_04-17\\_15-39-35\\_x... \\\\\n",
      "(1, 2, 4, 3, 5) &      False &       0 & 3.001728e+192 &     23 & 23\\_mxc\\_-1\\_[1, 2, 4, 3, 5]\\_date\\_04-23\\_14-12-09\\_x... \\\\\n",
      "(1, 2, 4, 3, 5) &       True &      11 &  3.474932e+04 &     20 & 20\\_mxc\\_0\\_[1, 2, 4, 3, 5]\\_date\\_04-21\\_07-48-44\\_xy... \\\\\n",
      "(1, 3, 2, 4, 5) &       True &       0 &  1.524547e+04 &     16 & 16\\_mxc\\_0\\_[1, 3, 2, 4, 5]\\_date\\_04-18\\_23-45-30\\_xy... \\\\\n",
      "(1, 3, 2, 4, 5) &      False &       0 &  1.068264e+90 &     14 & 14\\_mxc\\_-1\\_[1, 3, 2, 4, 5]\\_date\\_04-17\\_16-23-01\\_x... \\\\\n",
      "(1, 3, 2, 4, 5) &      False &       0 & 1.952524e+207 &     25 & 25\\_mxc\\_-1\\_[1, 3, 2, 4, 5]\\_date\\_04-25\\_02-53-54\\_x... \\\\\n",
      "(1, 3, 2, 4, 5) &       True &       0 &  6.974641e+04 &     22 & 22\\_mxc\\_0\\_[1, 3, 2, 4, 5]\\_date\\_04-22\\_22-38-46\\_xy... \\\\\n",
      "(1, 3, 2, 4, 5) &       True &       0 &  1.691641e+04 &     25 & 25\\_mxc\\_0\\_[1, 3, 2, 4, 5]\\_date\\_04-25\\_02-37-42\\_xy... \\\\\n",
      "(1, 3, 2, 4, 5) &      False &       0 & 1.626195e+275 &     24 & 24\\_mxc\\_-1\\_[1, 3, 2, 4, 5]\\_date\\_04-24\\_05-01-36\\_x... \\\\\n",
      "(1, 3, 2, 4, 5) &       True &   13372 &  9.435327e+09 &     14 & 14\\_mxc\\_0\\_[1, 3, 2, 4, 5]\\_date\\_04-17\\_16-05-58\\_xy... \\\\\n",
      "(1, 3, 2, 4, 5) &       True &       1 &  7.024203e+04 &     19 & 19\\_mxc\\_0\\_[1, 3, 2, 4, 5]\\_date\\_04-20\\_14-57-53\\_xy... \\\\\n",
      "(1, 3, 2, 4, 5) &       True &       1 &  1.526079e+04 &     18 & 18\\_mxc\\_0\\_[1, 3, 2, 4, 5]\\_date\\_04-19\\_22-03-41\\_xy... \\\\\n",
      "(1, 3, 2, 4, 5) &       True &      36 &  2.029010e+05 &     21 & 21\\_mxc\\_0\\_[1, 3, 2, 4, 5]\\_date\\_04-22\\_02-45-48\\_xy... \\\\\n",
      "(1, 3, 2, 4, 5) &       True &   11712 & 1.864469e+162 &     15 & 15\\_mxc\\_0\\_[1, 3, 2, 4, 5]\\_date\\_04-18\\_10-54-13\\_xy... \\\\\n",
      "(1, 3, 2, 4, 5) &       True &   11174 &  5.257314e+37 &     24 & 24\\_mxc\\_0\\_[1, 3, 2, 4, 5]\\_date\\_04-24\\_04-46-43\\_xy... \\\\\n",
      "(1, 3, 2, 4, 5) &       True &       2 &  1.423235e+04 &     20 & 20\\_mxc\\_0\\_[1, 3, 2, 4, 5]\\_date\\_04-21\\_08-34-07\\_xy... \\\\\n",
      "(1, 3, 4, 2, 5) &       True &       0 &  4.964901e+04 &     21 & 21\\_mxc\\_0\\_[1, 3, 4, 2, 5]\\_date\\_04-22\\_03-18-35\\_xy... \\\\\n",
      "(1, 3, 4, 2, 5) &       True &       0 &  1.549664e+04 &     18 & 18\\_mxc\\_0\\_[1, 3, 4, 2, 5]\\_date\\_04-19\\_22-42-03\\_xy... \\\\\n",
      "(1, 3, 4, 2, 5) &      False &       0 &  4.667285e+85 &     18 & 18\\_mxc\\_-1\\_[1, 3, 4, 2, 5]\\_date\\_04-19\\_22-58-22\\_x... \\\\\n",
      "(1, 3, 4, 2, 5) &      False &       0 &  2.342660e+95 &     23 & 23\\_mxc\\_-1\\_[1, 3, 4, 2, 5]\\_date\\_04-23\\_15-16-53\\_x... \\\\\n",
      "(1, 3, 4, 2, 5) &       True &       0 &  3.510385e+04 &     19 & 19\\_mxc\\_0\\_[1, 3, 4, 2, 5]\\_date\\_04-20\\_15-32-25\\_xy... \\\\\n",
      "(1, 3, 4, 2, 5) &       True &   10964 &  2.660420e+05 &     16 & 16\\_mxc\\_0\\_[1, 3, 4, 2, 5]\\_date\\_04-19\\_00-21-56\\_xy... \\\\\n",
      "(1, 3, 4, 2, 5) &       True &       1 &  6.365400e+04 &     20 & 20\\_mxc\\_0\\_[1, 3, 4, 2, 5]\\_date\\_04-21\\_09-06-14\\_xy... \\\\\n",
      "(1, 3, 4, 2, 5) &       True &       0 &  2.014637e+04 &     23 & 23\\_mxc\\_0\\_[1, 3, 4, 2, 5]\\_date\\_04-23\\_14-57-28\\_xy... \\\\\n",
      "(1, 3, 4, 2, 5) &      False &       0 & 2.507366e+173 &     22 & 22\\_mxc\\_-1\\_[1, 3, 4, 2, 5]\\_date\\_04-22\\_23-22-49\\_x... \\\\\n",
      "(1, 4, 2, 3, 5) &      False &    2799 & 3.772360e+251 &     22 & 22\\_mxc\\_-1\\_[1, 4, 2, 3, 5]\\_date\\_04-23\\_00-31-37\\_x... \\\\\n",
      "(1, 4, 2, 3, 5) &      False &       1 &  1.658858e+77 &     24 & 24\\_mxc\\_-1\\_[1, 4, 2, 3, 5]\\_date\\_04-24\\_06-07-52\\_x... \\\\\n",
      "(1, 4, 2, 3, 5) &       True &       0 &  3.847693e+03 &     14 & 14\\_mxc\\_0\\_[1, 4, 2, 3, 5]\\_date\\_04-17\\_17-20-19\\_xy... \\\\\n",
      "(1, 4, 2, 3, 5) &       True &       4 &  1.324898e+04 &     23 & 23\\_mxc\\_0\\_[1, 4, 2, 3, 5]\\_date\\_04-23\\_15-41-51\\_xy... \\\\\n",
      "(1, 4, 2, 3, 5) &       True &       0 &  2.966316e+04 &     20 & 20\\_mxc\\_0\\_[1, 4, 2, 3, 5]\\_date\\_04-21\\_09-40-51\\_xy... \\\\\n",
      "(1, 4, 2, 3, 5) &       True &       8 &  6.271810e+03 &     15 & 15\\_mxc\\_0\\_[1, 4, 2, 3, 5]\\_date\\_04-18\\_12-59-18\\_xy... \\\\\n",
      "(1, 4, 2, 3, 5) &       True &       0 &  6.436750e+03 &     16 & 16\\_mxc\\_0\\_[1, 4, 2, 3, 5]\\_date\\_04-19\\_01-01-47\\_xy... \\\\\n",
      "(1, 4, 2, 3, 5) &       True &       0 &  2.358924e+04 &     24 & 24\\_mxc\\_0\\_[1, 4, 2, 3, 5]\\_date\\_04-24\\_05-53-10\\_xy... \\\\\n",
      "(1, 4, 3, 2, 5) &       True &       0 &  6.070030e+04 &     15 & 15\\_mxc\\_0\\_[1, 4, 3, 2, 5]\\_date\\_04-18\\_13-32-57\\_xy... \\\\\n",
      "(1, 4, 3, 2, 5) &       True &       0 &  6.386752e+04 &     24 & 24\\_mxc\\_0\\_[1, 4, 3, 2, 5]\\_date\\_04-24\\_06-33-53\\_xy... \\\\\n",
      "(1, 4, 3, 2, 5) &       True &       0 &  5.937389e+04 &     22 & 22\\_mxc\\_0\\_[1, 4, 3, 2, 5]\\_date\\_04-23\\_00-59-04\\_xy... \\\\\n",
      "(1, 4, 3, 2, 5) &       True &    3614 &  1.645250e+20 &     19 & 19\\_mxc\\_0\\_[1, 4, 3, 2, 5]\\_date\\_04-20\\_16-34-44\\_xy... \\\\\n",
      "(1, 4, 3, 2, 5) &       True &       0 &  5.723722e+04 &     20 & 20\\_mxc\\_0\\_[1, 4, 3, 2, 5]\\_date\\_04-21\\_10-13-59\\_xy... \\\\\n",
      "(1, 4, 3, 2, 5) &       True &       4 &  5.957971e+04 &     23 & 23\\_mxc\\_0\\_[1, 4, 3, 2, 5]\\_date\\_04-23\\_16-20-59\\_xy... \\\\\n",
      "(1, 4, 3, 2, 5) &       True &    8569 & 1.594923e+126 &     18 & 18\\_mxc\\_0\\_[1, 4, 3, 2, 5]\\_date\\_04-19\\_23-50-27\\_xy... \\\\\n",
      "(1, 4, 3, 2, 5) &       True &       0 &  3.536101e+04 &     14 & 14\\_mxc\\_0\\_[1, 4, 3, 2, 5]\\_date\\_04-17\\_17-53-11\\_xy... \\\\\n",
      "(2, 1, 3, 4, 5) &      False &       0 & 2.590696e+265 &     20 & 20\\_mxc\\_-1\\_[2, 1, 3, 4, 5]\\_date\\_04-21\\_11-02-49\\_x... \\\\\n",
      "(2, 1, 3, 4, 5) &      False &       0 & 2.225637e+251 &     19 & 19\\_mxc\\_-1\\_[2, 1, 3, 4, 5]\\_date\\_04-20\\_17-28-43\\_x... \\\\\n",
      "(2, 1, 3, 4, 5) &       True &       0 &  1.176559e+04 &     19 & 19\\_mxc\\_0\\_[2, 1, 3, 4, 5]\\_date\\_04-20\\_17-11-52\\_xy... \\\\\n",
      "(2, 1, 3, 4, 5) &      False &       0 &  3.975777e+76 &     15 & 15\\_mxc\\_-1\\_[2, 1, 3, 4, 5]\\_date\\_04-18\\_14-44-37\\_x... \\\\\n",
      "(2, 1, 3, 4, 5) &       True &       0 &  2.021250e+05 &     21 & 21\\_mxc\\_0\\_[2, 1, 3, 4, 5]\\_date\\_04-22\\_04-52-26\\_xy... \\\\\n",
      "(2, 1, 3, 4, 5) &       True &   10489 & 1.840686e+112 &     25 & 25\\_mxc\\_0\\_[2, 1, 3, 4, 5]\\_date\\_04-25\\_04-39-35\\_xy... \\\\\n",
      "(2, 1, 3, 4, 5) &       True &       0 &  1.186340e+04 &     23 & 23\\_mxc\\_0\\_[2, 1, 3, 4, 5]\\_date\\_04-23\\_16-56-50\\_xy... \\\\\n",
      "(2, 1, 3, 4, 5) &       True &       0 &  8.363363e+03 &     24 & 24\\_mxc\\_0\\_[2, 1, 3, 4, 5]\\_date\\_04-24\\_07-05-01\\_xy... \\\\\n",
      "(2, 1, 4, 3, 5) &       True &    9040 &  9.409181e+07 &     16 & 16\\_mxc\\_0\\_[2, 1, 4, 3, 5]\\_date\\_04-19\\_02-50-41\\_xy... \\\\\n",
      "(2, 1, 4, 3, 5) &      False &       0 &  3.493592e+40 &     14 & 14\\_mxc\\_-1\\_[2, 1, 4, 3, 5]\\_date\\_04-17\\_22-21-16\\_x... \\\\\n",
      "(2, 1, 4, 3, 5) &      False &       0 &  5.366316e+27 &     19 & 19\\_mxc\\_-1\\_[2, 1, 4, 3, 5]\\_date\\_04-20\\_19-00-18\\_x... \\\\\n",
      "(2, 1, 4, 3, 5) &       True &   11401 & 7.161147e+228 &     25 & 25\\_mxc\\_0\\_[2, 1, 4, 3, 5]\\_date\\_04-25\\_05-12-30\\_xy... \\\\\n",
      "(2, 1, 4, 3, 5) &       True &    8123 &  5.886855e+42 &     22 & 22\\_mxc\\_0\\_[2, 1, 4, 3, 5]\\_date\\_04-23\\_02-01-41\\_xy... \\\\\n",
      "(2, 1, 4, 3, 5) &       True &       4 &  2.526692e+04 &     19 & 19\\_mxc\\_0\\_[2, 1, 4, 3, 5]\\_date\\_04-20\\_17-58-39\\_xy... \\\\\n",
      "(2, 1, 4, 3, 5) &       True &    2438 &  3.032010e+36 &     23 & 23\\_mxc\\_0\\_[2, 1, 4, 3, 5]\\_date\\_04-23\\_17-31-53\\_xy... \\\\\n",
      "(2, 1, 4, 3, 5) &       True &       0 &  1.325657e+04 &     21 & 21\\_mxc\\_0\\_[2, 1, 4, 3, 5]\\_date\\_04-22\\_05-29-01\\_xy... \\\\\n",
      "(2, 1, 4, 3, 5) &       True &       0 &  2.750208e+04 &     18 & 18\\_mxc\\_0\\_[2, 1, 4, 3, 5]\\_date\\_04-20\\_00-49-21\\_xy... \\\\\n",
      "(2, 1, 4, 3, 5) &       True &    9984 & 5.187652e+145 &     14 & 14\\_mxc\\_0\\_[2, 1, 4, 3, 5]\\_date\\_04-17\\_21-46-58\\_xy... \\\\\n",
      "(2, 1, 4, 3, 5) &      False &       0 &  2.660972e+07 &     15 & 15\\_mxc\\_-1\\_[2, 1, 4, 3, 5]\\_date\\_04-18\\_15-24-13\\_x... \\\\\n",
      "(2, 3, 1, 4, 5) &       True &    7509 &  3.273722e+14 &     21 & 21\\_mxc\\_0\\_[2, 3, 1, 4, 5]\\_date\\_04-22\\_06-04-52\\_xy... \\\\\n",
      "(2, 3, 1, 4, 5) &      False &       0 & 8.121109e+186 &     23 & 23\\_mxc\\_-1\\_[2, 3, 1, 4, 5]\\_date\\_04-23\\_18-33-39\\_x... \\\\\n",
      "(2, 3, 1, 4, 5) &       True &       0 &  1.694987e+04 &     18 & 18\\_mxc\\_0\\_[2, 3, 1, 4, 5]\\_date\\_04-20\\_01-24-31\\_xy... \\\\\n",
      "(2, 3, 1, 4, 5) &       True &       0 &  1.509900e+04 &     19 & 19\\_mxc\\_0\\_[2, 3, 1, 4, 5]\\_date\\_04-20\\_19-26-07\\_xy... \\\\\n",
      "(2, 3, 1, 4, 5) &       True &       1 &  1.505182e+05 &     25 & 25\\_mxc\\_0\\_[2, 3, 1, 4, 5]\\_date\\_04-25\\_05-45-05\\_xy... \\\\\n",
      "(2, 3, 1, 4, 5) &       True &       0 &  9.099825e+03 &     24 & 24\\_mxc\\_0\\_[2, 3, 1, 4, 5]\\_date\\_04-24\\_08-04-29\\_xy... \\\\\n",
      "(2, 3, 1, 4, 5) &       True &       0 &  5.952877e+02 &     16 & 16\\_mxc\\_0\\_[2, 3, 1, 4, 5]\\_date\\_04-19\\_03-26-18\\_xy... \\\\\n",
      "(2, 3, 1, 4, 5) &       True &    6463 &  1.020756e+06 &     22 & 22\\_mxc\\_0\\_[2, 3, 1, 4, 5]\\_date\\_04-23\\_02-31-02\\_xy... \\\\\n",
      "(2, 3, 1, 4, 5) &       True &       4 &  1.280658e+04 &     14 & 14\\_mxc\\_0\\_[2, 3, 1, 4, 5]\\_date\\_04-17\\_22-43-39\\_xy... \\\\\n",
      "(2, 3, 1, 4, 5) &       True &    3512 &  4.690366e+19 &     20 & 20\\_mxc\\_0\\_[2, 3, 1, 4, 5]\\_date\\_04-21\\_11-55-14\\_xy... \\\\\n",
      "(2, 3, 1, 4, 5) &      False &       0 &  1.111935e+70 &     20 & 20\\_mxc\\_-1\\_[2, 3, 1, 4, 5]\\_date\\_04-21\\_12-03-29\\_x... \\\\\n",
      "(2, 3, 4, 1, 5) &       True &       0 &  7.714699e+04 &     15 & 15\\_mxc\\_0\\_[2, 3, 4, 1, 5]\\_date\\_04-18\\_16-11-00\\_xy... \\\\\n",
      "(2, 3, 4, 1, 5) &       True &       0 &  6.264482e+04 &     14 & 14\\_mxc\\_0\\_[2, 3, 4, 1, 5]\\_date\\_04-17\\_23-12-25\\_xy... \\\\\n",
      "(2, 3, 4, 1, 5) &       True &       0 &  9.569502e+03 &     25 & 25\\_mxc\\_0\\_[2, 3, 4, 1, 5]\\_date\\_04-25\\_06-16-21\\_xy... \\\\\n",
      "(2, 3, 4, 1, 5) &       True &    9515 & 9.027716e+116 &     22 & 22\\_mxc\\_0\\_[2, 3, 4, 1, 5]\\_date\\_04-23\\_02-59-48\\_xy... \\\\\n",
      "(2, 3, 4, 1, 5) &       True &    9913 &  1.252362e+07 &     23 & 23\\_mxc\\_0\\_[2, 3, 4, 1, 5]\\_date\\_04-23\\_18-57-26\\_xy... \\\\\n",
      "(2, 3, 4, 1, 5) &       True &      27 &  1.270444e+05 &     24 & 24\\_mxc\\_0\\_[2, 3, 4, 1, 5]\\_date\\_04-24\\_08-36-28\\_xy... \\\\\n",
      "(2, 3, 4, 1, 5) &       True &       0 &  6.127508e+04 &     20 & 20\\_mxc\\_0\\_[2, 3, 4, 1, 5]\\_date\\_04-21\\_12-26-01\\_xy... \\\\\n",
      "(2, 3, 4, 1, 5) &       True &    8121 &  5.507209e+22 &     16 & 16\\_mxc\\_0\\_[2, 3, 4, 1, 5]\\_date\\_04-19\\_04-02-58\\_xy... \\\\\n",
      "(2, 3, 4, 1, 5) &       True &       0 &  6.227009e+04 &     21 & 21\\_mxc\\_0\\_[2, 3, 4, 1, 5]\\_date\\_04-22\\_06-33-08\\_xy... \\\\\n",
      "(2, 3, 4, 1, 5) &      False &       0 &  4.321074e+27 &     16 & 16\\_mxc\\_-1\\_[2, 3, 4, 1, 5]\\_date\\_04-19\\_04-19-42\\_x... \\\\\n",
      "(2, 4, 1, 3, 5) &       True &   10330 &  6.688169e+09 &     25 & 25\\_mxc\\_0\\_[2, 4, 1, 3, 5]\\_date\\_04-25\\_06-47-41\\_xy... \\\\\n",
      "(2, 4, 1, 3, 5) &      False &       0 & 1.415883e+136 &     25 & 25\\_mxc\\_-1\\_[2, 4, 1, 3, 5]\\_date\\_04-25\\_07-02-52\\_x... \\\\\n",
      "(2, 4, 1, 3, 5) &       True &       0 &  8.111602e+03 &     19 & 19\\_mxc\\_0\\_[2, 4, 1, 3, 5]\\_date\\_04-20\\_20-27-19\\_xy... \\\\\n",
      "(2, 4, 1, 3, 5) &      False &       0 & 3.974209e+294 &     19 & 19\\_mxc\\_-1\\_[2, 4, 1, 3, 5]\\_date\\_04-20\\_20-44-37\\_x... \\\\\n",
      "(2, 4, 1, 3, 5) &      False &       0 & 3.623644e+264 &     23 & 23\\_mxc\\_-1\\_[2, 4, 1, 3, 5]\\_date\\_04-23\\_19-42-21\\_x... \\\\\n",
      "(2, 4, 1, 3, 5) &       True &    7716 & 2.168757e+242 &     18 & 18\\_mxc\\_0\\_[2, 4, 1, 3, 5]\\_date\\_04-20\\_02-23-52\\_xy... \\\\\n",
      "(2, 4, 1, 3, 5) &       True &    7091 & 2.089998e+114 &     21 & 21\\_mxc\\_0\\_[2, 4, 1, 3, 5]\\_date\\_04-22\\_07-07-15\\_xy... \\\\\n",
      "(2, 4, 1, 3, 5) &       True &    3215 &  4.734905e+26 &     14 & 14\\_mxc\\_0\\_[2, 4, 1, 3, 5]\\_date\\_04-17\\_23-44-26\\_xy... \\\\\n",
      "(2, 4, 1, 3, 5) &       True &   10987 &  7.562258e+18 &     15 & 15\\_mxc\\_0\\_[2, 4, 1, 3, 5]\\_date\\_04-18\\_16-47-03\\_xy... \\\\\n",
      "(2, 4, 1, 3, 5) &       True &       0 &  3.790094e+04 &     24 & 24\\_mxc\\_0\\_[2, 4, 1, 3, 5]\\_date\\_04-24\\_09-07-35\\_xy... \\\\\n",
      "(2, 4, 1, 3, 5) &       True &       0 &  1.587648e+04 &     16 & 16\\_mxc\\_0\\_[2, 4, 1, 3, 5]\\_date\\_04-19\\_04-41-30\\_xy... \\\\\n",
      "(2, 4, 3, 1, 5) &      False &       0 &  1.612656e+12 &     25 & 25\\_mxc\\_-1\\_[2, 4, 3, 1, 5]\\_date\\_04-25\\_07-44-40\\_x... \\\\\n",
      "(2, 4, 3, 1, 5) &       True &       0 &  6.554478e+04 &     18 & 18\\_mxc\\_0\\_[2, 4, 3, 1, 5]\\_date\\_04-20\\_02-50-28\\_xy... \\\\\n",
      "(2, 4, 3, 1, 5) &       True &       0 &  3.651437e+04 &     16 & 16\\_mxc\\_0\\_[2, 4, 3, 1, 5]\\_date\\_04-19\\_05-17-38\\_xy... \\\\\n",
      "(2, 4, 3, 1, 5) &       True &       0 &  1.285359e+04 &     20 & 20\\_mxc\\_0\\_[2, 4, 3, 1, 5]\\_date\\_04-21\\_13-30-10\\_xy... \\\\\n",
      "(2, 4, 3, 1, 5) &       True &       0 &  1.046834e+05 &     14 & 14\\_mxc\\_0\\_[2, 4, 3, 1, 5]\\_date\\_04-18\\_00-17-33\\_xy... \\\\\n",
      "(2, 4, 3, 1, 5) &       True &       0 &  6.675143e+04 &     19 & 19\\_mxc\\_0\\_[2, 4, 3, 1, 5]\\_date\\_04-20\\_21-13-25\\_xy... \\\\\n",
      "(2, 4, 3, 1, 5) &       True &    8558 &  2.654276e+06 &     25 & 25\\_mxc\\_0\\_[2, 4, 3, 1, 5]\\_date\\_04-25\\_07-28-17\\_xy... \\\\\n",
      "(2, 4, 3, 1, 5) &      False &       0 &  4.220755e+86 &     23 & 23\\_mxc\\_-1\\_[2, 4, 3, 1, 5]\\_date\\_04-23\\_20-26-03\\_x... \\\\\n",
      "(2, 4, 3, 1, 5) &       True &       0 &  5.486248e+04 &     23 & 23\\_mxc\\_0\\_[2, 4, 3, 1, 5]\\_date\\_04-23\\_20-07-36\\_xy... \\\\\n",
      "(3, 1, 2, 4, 5) &       True &       0 &  7.483392e+03 &     21 & 21\\_mxc\\_0\\_[3, 1, 2, 4, 5]\\_date\\_04-22\\_08-04-47\\_xy... \\\\\n",
      "(3, 1, 2, 4, 5) &      False &       0 &  5.938781e+76 &     19 & 19\\_mxc\\_-1\\_[3, 1, 2, 4, 5]\\_date\\_04-20\\_22-04-35\\_x... \\\\\n",
      "(3, 1, 2, 4, 5) &      False &       0 & 5.570465e+120 &     20 & 20\\_mxc\\_-1\\_[3, 1, 2, 4, 5]\\_date\\_04-21\\_14-12-48\\_x... \\\\\n",
      "(3, 1, 2, 4, 5) &       True &       0 &  1.268071e+03 &     20 & 20\\_mxc\\_0\\_[3, 1, 2, 4, 5]\\_date\\_04-21\\_13-56-59\\_xy... \\\\\n",
      "(3, 1, 2, 4, 5) &       True &       0 &  8.029094e+03 &     25 & 25\\_mxc\\_0\\_[3, 1, 2, 4, 5]\\_date\\_04-25\\_08-03-10\\_xy... \\\\\n",
      "(3, 1, 2, 4, 5) &      False &       0 & 1.595871e+267 &     24 & 24\\_mxc\\_-1\\_[3, 1, 2, 4, 5]\\_date\\_04-24\\_10-13-45\\_x... \\\\\n",
      "(3, 1, 2, 4, 5) &       True &       2 &  1.216669e+05 &     16 & 16\\_mxc\\_0\\_[3, 1, 2, 4, 5]\\_date\\_04-19\\_05-46-52\\_xy... \\\\\n",
      "(3, 1, 2, 4, 5) &       True &       0 &  4.606883e+04 &     19 & 19\\_mxc\\_0\\_[3, 1, 2, 4, 5]\\_date\\_04-20\\_21-47-10\\_xy... \\\\\n",
      "(3, 1, 2, 4, 5) &       True &    5362 &  6.980413e+59 &     22 & 22\\_mxc\\_0\\_[3, 1, 2, 4, 5]\\_date\\_04-23\\_04-18-16\\_xy... \\\\\n",
      "(3, 1, 4, 2, 5) &       True &       0 &  3.666597e+04 &     19 & 19\\_mxc\\_0\\_[3, 1, 4, 2, 5]\\_date\\_04-20\\_22-30-23\\_xy... \\\\\n",
      "(3, 1, 4, 2, 5) &      False &       0 &  8.126117e+58 &     24 & 24\\_mxc\\_-1\\_[3, 1, 4, 2, 5]\\_date\\_04-24\\_11-47-07\\_x... \\\\\n",
      "(3, 1, 4, 2, 5) &       True &    5838 & 5.859313e+158 &     16 & 16\\_mxc\\_0\\_[3, 1, 4, 2, 5]\\_date\\_04-19\\_06-19-23\\_xy... \\\\\n",
      "(3, 1, 4, 2, 5) &       True &    6804 & 7.588929e+116 &     21 & 21\\_mxc\\_0\\_[3, 1, 4, 2, 5]\\_date\\_04-22\\_08-37-00\\_xy... \\\\\n",
      "(3, 1, 4, 2, 5) &       True &       0 &  5.848215e+04 &     23 & 23\\_mxc\\_0\\_[3, 1, 4, 2, 5]\\_date\\_04-23\\_21-18-31\\_xy... \\\\\n",
      "(3, 1, 4, 2, 5) &      False &       0 &  1.933292e+70 &     22 & 22\\_mxc\\_-1\\_[3, 1, 4, 2, 5]\\_date\\_04-23\\_04-53-30\\_x... \\\\\n",
      "(3, 1, 4, 2, 5) &       True &   10878 &  3.654990e+48 &     20 & 20\\_mxc\\_0\\_[3, 1, 4, 2, 5]\\_date\\_04-21\\_14-41-54\\_xy... \\\\\n",
      "(3, 1, 4, 2, 5) &       True &   10826 &  5.170754e+11 &     24 & 24\\_mxc\\_0\\_[3, 1, 4, 2, 5]\\_date\\_04-24\\_11-27-49\\_xy... \\\\\n",
      "(3, 2, 1, 4, 5) &       True &    3891 &  1.825664e+78 &     24 & 24\\_mxc\\_0\\_[3, 2, 1, 4, 5]\\_date\\_04-24\\_12-13-12\\_xy... \\\\\n",
      "(3, 2, 1, 4, 5) &       True &    9236 &  2.864466e+54 &     23 & 23\\_mxc\\_0\\_[3, 2, 1, 4, 5]\\_date\\_04-23\\_21-55-49\\_xy... \\\\\n",
      "(3, 2, 1, 4, 5) &       True &    1599 &  1.566750e+04 &     22 & 22\\_mxc\\_0\\_[3, 2, 1, 4, 5]\\_date\\_04-23\\_05-10-59\\_xy... \\\\\n",
      "(3, 2, 1, 4, 5) &       True &       0 &  1.241343e+04 &     20 & 20\\_mxc\\_0\\_[3, 2, 1, 4, 5]\\_date\\_04-21\\_15-19-32\\_xy... \\\\\n",
      "(3, 2, 1, 4, 5) &       True &       0 &  1.521609e+04 &     16 & 16\\_mxc\\_0\\_[3, 2, 1, 4, 5]\\_date\\_04-19\\_06-46-12\\_xy... \\\\\n",
      "(3, 2, 1, 4, 5) &       True &       0 &  9.738797e+03 &     19 & 19\\_mxc\\_0\\_[3, 2, 1, 4, 5]\\_date\\_04-20\\_23-09-36\\_xy... \\\\\n",
      "(3, 2, 4, 1, 5) &       True &       0 &  4.872999e+04 &     19 & 19\\_mxc\\_0\\_[3, 2, 4, 1, 5]\\_date\\_04-20\\_23-48-12\\_xy... \\\\\n",
      "(3, 2, 4, 1, 5) &       True &       0 &  7.733996e+04 &     14 & 14\\_mxc\\_0\\_[3, 2, 4, 1, 5]\\_date\\_04-18\\_02-04-18\\_xy... \\\\\n",
      "(3, 2, 4, 1, 5) &       True &       0 &  1.381988e+05 &     18 & 18\\_mxc\\_0\\_[3, 2, 4, 1, 5]\\_date\\_04-20\\_04-43-40\\_xy... \\\\\n",
      "(3, 2, 4, 1, 5) &       True &    6535 &  1.871128e+05 &     16 & 16\\_mxc\\_0\\_[3, 2, 4, 1, 5]\\_date\\_04-19\\_07-14-22\\_xy... \\\\\n",
      "(3, 2, 4, 1, 5) &       True &       0 &  1.130304e+05 &     22 & 22\\_mxc\\_0\\_[3, 2, 4, 1, 5]\\_date\\_04-23\\_05-42-37\\_xy... \\\\\n",
      "(3, 2, 4, 1, 5) &       True &       0 &  1.884139e+04 &     25 & 25\\_mxc\\_0\\_[3, 2, 4, 1, 5]\\_date\\_04-25\\_09-22-51\\_xy... \\\\\n",
      "(3, 4, 1, 2, 5) &       True &       0 &  8.842117e+03 &     19 & 19\\_mxc\\_0\\_[3, 4, 1, 2, 5]\\_date\\_04-21\\_00-21-46\\_xy... \\\\\n",
      "(3, 4, 1, 2, 5) &      False &       0 &  4.437111e+19 &     20 & 20\\_mxc\\_-1\\_[3, 4, 1, 2, 5]\\_date\\_04-21\\_16-35-36\\_x... \\\\\n",
      "(3, 4, 1, 2, 5) &       True &   11631 &  1.299638e+06 &     18 & 18\\_mxc\\_0\\_[3, 4, 1, 2, 5]\\_date\\_04-20\\_05-14-45\\_xy... \\\\\n",
      "(3, 4, 1, 2, 5) &       True &   10858 &  1.467239e+52 &     21 & 21\\_mxc\\_0\\_[3, 4, 1, 2, 5]\\_date\\_04-22\\_10-02-29\\_xy... \\\\\n",
      "(3, 4, 1, 2, 5) &       True &       0 &  3.075454e+04 &     14 & 14\\_mxc\\_0\\_[3, 4, 1, 2, 5]\\_date\\_04-18\\_02-35-35\\_xy... \\\\\n",
      "(3, 4, 1, 2, 5) &       True &       0 &  6.353406e+03 &     22 & 22\\_mxc\\_0\\_[3, 4, 1, 2, 5]\\_date\\_04-23\\_06-12-39\\_xy... \\\\\n",
      "(3, 4, 1, 2, 5) &       True &   10378 & 1.769225e+100 &     23 & 23\\_mxc\\_0\\_[3, 4, 1, 2, 5]\\_date\\_04-23\\_22-55-28\\_xy... \\\\\n",
      "(3, 4, 1, 2, 5) &       True &       0 &  3.126774e+04 &     25 & 25\\_mxc\\_0\\_[3, 4, 1, 2, 5]\\_date\\_04-25\\_09-53-09\\_xy... \\\\\n",
      "(3, 4, 2, 1, 5) &       True &       0 &  7.050628e+04 &     22 & 22\\_mxc\\_0\\_[3, 4, 2, 1, 5]\\_date\\_04-23\\_06-41-33\\_xy... \\\\\n",
      "(3, 4, 2, 1, 5) &      False &       0 &  2.518244e+21 &     25 & 25\\_mxc\\_-1\\_[3, 4, 2, 1, 5]\\_date\\_04-25\\_12-35-21\\_x... \\\\\n",
      "(3, 4, 2, 1, 5) &       True &       0 &  9.230728e+04 &     23 & 23\\_mxc\\_0\\_[3, 4, 2, 1, 5]\\_date\\_04-23\\_23-28-06\\_xy... \\\\\n",
      "(3, 4, 2, 1, 5) &       True &   10773 &  2.868731e+36 &     18 & 18\\_mxc\\_0\\_[3, 4, 2, 1, 5]\\_date\\_04-20\\_05-44-39\\_xy... \\\\\n",
      "(3, 4, 2, 1, 5) &       True &       0 &  2.363545e+04 &     16 & 16\\_mxc\\_0\\_[3, 4, 2, 1, 5]\\_date\\_04-19\\_08-09-02\\_xy... \\\\\n",
      "(3, 4, 2, 1, 5) &       True &       0 &  3.307935e+02 &     20 & 20\\_mxc\\_0\\_[3, 4, 2, 1, 5]\\_date\\_04-21\\_16-54-21\\_xy... \\\\\n",
      "(3, 4, 2, 1, 5) &       True &    8999 &  2.262207e+06 &     21 & 21\\_mxc\\_0\\_[3, 4, 2, 1, 5]\\_date\\_04-22\\_10-30-56\\_xy... \\\\\n",
      "(3, 4, 2, 1, 5) &       True &   10699 &  8.455817e+20 &     25 & 25\\_mxc\\_0\\_[3, 4, 2, 1, 5]\\_date\\_04-25\\_11-17-19\\_xy... \\\\\n",
      "(3, 4, 2, 1, 5) &       True &       0 &  6.338738e+04 &     19 & 19\\_mxc\\_0\\_[3, 4, 2, 1, 5]\\_date\\_04-21\\_00-54-17\\_xy... \\\\\n",
      "(3, 4, 2, 1, 5) &       True &       0 &  8.847174e+04 &     14 & 14\\_mxc\\_0\\_[3, 4, 2, 1, 5]\\_date\\_04-18\\_03-06-17\\_xy... \\\\\n",
      "(4, 1, 2, 3, 5) &       True &       0 &  2.624929e+04 &     14 & 14\\_mxc\\_0\\_[4, 1, 2, 3, 5]\\_date\\_04-18\\_03-42-57\\_xy... \\\\\n",
      "(4, 1, 2, 3, 5) &       True &       0 &  8.989186e+03 &     20 & 20\\_mxc\\_0\\_[4, 1, 2, 3, 5]\\_date\\_04-21\\_19-08-19\\_xy... \\\\\n",
      "(4, 1, 2, 3, 5) &       True &   11230 &  1.299495e+05 &     19 & 19\\_mxc\\_0\\_[4, 1, 2, 3, 5]\\_date\\_04-21\\_01-28-48\\_xy... \\\\\n",
      "(4, 1, 2, 3, 5) &       True &       0 &  1.787746e+05 &     22 & 22\\_mxc\\_0\\_[4, 1, 2, 3, 5]\\_date\\_04-23\\_07-12-08\\_xy... \\\\\n",
      "(4, 1, 2, 3, 5) &      False &       0 & 1.331295e+102 &     16 & 16\\_mxc\\_-1\\_[4, 1, 2, 3, 5]\\_date\\_04-19\\_08-42-57\\_x... \\\\\n",
      "(4, 1, 3, 2, 5) &       True &    2787 & 6.769951e+132 &     21 & 21\\_mxc\\_0\\_[4, 1, 3, 2, 5]\\_date\\_04-22\\_12-13-24\\_xy... \\\\\n",
      "(4, 1, 3, 2, 5) &       True &       0 &  7.627867e+03 &     16 & 16\\_mxc\\_0\\_[4, 1, 3, 2, 5]\\_date\\_04-19\\_09-03-54\\_xy... \\\\\n",
      "(4, 1, 3, 2, 5) &       True &    7697 &  3.485526e+29 &     20 & 20\\_mxc\\_0\\_[4, 1, 3, 2, 5]\\_date\\_04-21\\_19-41-01\\_xy... \\\\\n",
      "(4, 1, 3, 2, 5) &       True &       0 &  6.027997e+04 &     18 & 18\\_mxc\\_0\\_[4, 1, 3, 2, 5]\\_date\\_04-20\\_06-38-18\\_xy... \\\\\n",
      "(4, 1, 3, 2, 5) &       True &   10253 &  8.670837e+05 &     14 & 14\\_mxc\\_0\\_[4, 1, 3, 2, 5]\\_date\\_04-18\\_04-14-37\\_xy... \\\\\n",
      "(4, 1, 3, 2, 5) &       True &       0 &  2.936052e+04 &     22 & 22\\_mxc\\_0\\_[4, 1, 3, 2, 5]\\_date\\_04-23\\_07-43-39\\_xy... \\\\\n",
      "(4, 1, 3, 2, 5) &       True &       0 &  2.708080e+04 &     19 & 19\\_mxc\\_0\\_[4, 1, 3, 2, 5]\\_date\\_04-21\\_01-59-34\\_xy... \\\\\n",
      "(4, 2, 1, 3, 5) &       True &       0 &  2.339675e+03 &     19 & 19\\_mxc\\_0\\_[4, 2, 1, 3, 5]\\_date\\_04-21\\_02-30-49\\_xy... \\\\\n",
      "(4, 2, 1, 3, 5) &      False &       0 & 1.226074e+268 &     18 & 18\\_mxc\\_-1\\_[4, 2, 1, 3, 5]\\_date\\_04-20\\_07-28-30\\_x... \\\\\n",
      "(4, 2, 1, 3, 5) &       True &    7985 &  2.732023e+47 &     22 & 22\\_mxc\\_0\\_[4, 2, 1, 3, 5]\\_date\\_04-23\\_08-17-09\\_xy... \\\\\n",
      "(4, 2, 1, 3, 5) &       True &       0 &  2.115629e+04 &     21 & 21\\_mxc\\_0\\_[4, 2, 1, 3, 5]\\_date\\_04-22\\_12-48-51\\_xy... \\\\\n",
      "(4, 2, 1, 3, 5) &       True &   11738 &  4.246673e+04 &     18 & 18\\_mxc\\_0\\_[4, 2, 1, 3, 5]\\_date\\_04-20\\_07-13-26\\_xy... \\\\\n",
      "(4, 2, 1, 3, 5) &      False &       0 & 1.657975e+125 &     14 & 14\\_mxc\\_-1\\_[4, 2, 1, 3, 5]\\_date\\_04-18\\_05-04-03\\_x... \\\\\n",
      "(4, 2, 1, 3, 5) &       True &   10648 & 1.227921e+215 &     16 & 16\\_mxc\\_0\\_[4, 2, 1, 3, 5]\\_date\\_04-19\\_09-40-41\\_xy... \\\\\n",
      "(4, 2, 1, 3, 5) &       True &       0 &  1.254804e+04 &     14 & 14\\_mxc\\_0\\_[4, 2, 1, 3, 5]\\_date\\_04-18\\_04-49-33\\_xy... \\\\\n",
      "(4, 2, 3, 1, 5) &       True &    8631 & 5.517592e+266 &     14 & 14\\_mxc\\_0\\_[4, 2, 3, 1, 5]\\_date\\_04-18\\_05-26-12\\_xy... \\\\\n",
      "(4, 2, 3, 1, 5) &       True &    9293 &  1.433591e+06 &     20 & 20\\_mxc\\_0\\_[4, 2, 3, 1, 5]\\_date\\_04-21\\_20-40-29\\_xy... \\\\\n",
      "(4, 2, 3, 1, 5) &       True &       0 &  1.795439e+04 &     22 & 22\\_mxc\\_0\\_[4, 2, 3, 1, 5]\\_date\\_04-23\\_08-45-13\\_xy... \\\\\n",
      "(4, 2, 3, 1, 5) &       True &       0 &  8.085838e+04 &     21 & 21\\_mxc\\_0\\_[4, 2, 3, 1, 5]\\_date\\_04-22\\_13-27-06\\_xy... \\\\\n",
      "(4, 2, 3, 1, 5) &       True &       0 &  6.630062e+04 &     18 & 18\\_mxc\\_0\\_[4, 2, 3, 1, 5]\\_date\\_04-20\\_07-57-00\\_xy... \\\\\n",
      "(4, 3, 1, 2, 5) &       True &   10125 &  7.667632e+09 &     20 & 20\\_mxc\\_0\\_[4, 3, 1, 2, 5]\\_date\\_04-21\\_21-21-12\\_xy... \\\\\n",
      "(4, 3, 1, 2, 5) &       True &       0 &  4.222300e+04 &     21 & 21\\_mxc\\_0\\_[4, 3, 1, 2, 5]\\_date\\_04-22\\_14-04-01\\_xy... \\\\\n",
      "(4, 3, 1, 2, 5) &       True &       0 &  1.793310e+04 &     19 & 19\\_mxc\\_0\\_[4, 3, 1, 2, 5]\\_date\\_04-21\\_03-21-57\\_xy... \\\\\n",
      "(4, 3, 1, 2, 5) &       True &       0 &  3.542786e+04 &     16 & 16\\_mxc\\_0\\_[4, 3, 1, 2, 5]\\_date\\_04-19\\_11-51-57\\_xy... \\\\\n",
      "(4, 3, 1, 2, 5) &       True &       0 &  4.368712e+04 &     14 & 14\\_mxc\\_0\\_[4, 3, 1, 2, 5]\\_date\\_04-18\\_05-55-16\\_xy... \\\\\n",
      "(4, 3, 1, 2, 5) &       True &       0 &  3.283751e+04 &     22 & 22\\_mxc\\_0\\_[4, 3, 1, 2, 5]\\_date\\_04-23\\_09-18-33\\_xy... \\\\\n",
      "(4, 3, 1, 2, 5) &      False &       0 & 1.585746e+223 &     18 & 18\\_mxc\\_-1\\_[4, 3, 1, 2, 5]\\_date\\_04-20\\_08-33-12\\_x... \\\\\n",
      "(4, 3, 2, 1, 5) &       True &       0 &  1.243730e+04 &     14 & 14\\_mxc\\_0\\_[4, 3, 2, 1, 5]\\_date\\_04-18\\_06-26-07\\_xy... \\\\\n",
      "(4, 3, 2, 1, 5) &       True &       0 &  4.886765e+04 &     20 & 20\\_mxc\\_0\\_[4, 3, 2, 1, 5]\\_date\\_04-21\\_22-10-55\\_xy... \\\\\n",
      "(4, 3, 2, 1, 5) &      False &       0 &  2.368785e+07 &     20 & 20\\_mxc\\_-1\\_[4, 3, 2, 1, 5]\\_date\\_04-21\\_22-28-55\\_x... \\\\\n",
      "(4, 3, 2, 1, 5) &       True &   12262 &  2.497056e+18 &     22 & 22\\_mxc\\_0\\_[4, 3, 2, 1, 5]\\_date\\_04-23\\_09-52-11\\_xy... \\\\\n",
      "(4, 3, 2, 1, 5) &       True &       0 &  7.765631e+04 &     18 & 18\\_mxc\\_0\\_[4, 3, 2, 1, 5]\\_date\\_04-20\\_08-59-32\\_xy... \\\\\n",
      "(4, 3, 2, 1, 5) &       True &   11188 & 1.799543e+187 &     21 & 21\\_mxc\\_0\\_[4, 3, 2, 1, 5]\\_date\\_04-22\\_14-42-45\\_xy... \\\\\n",
      "\\bottomrule\n",
      "\\end{tabular}\n",
      "\n"
     ]
    }
   ],
   "source": [
    "print(diff_vals_df.to_latex(index=False))"
   ]
  },
  {
   "cell_type": "code",
   "execution_count": 21,
   "metadata": {},
   "outputs": [
    {
     "data": {
      "text/html": [
       "<div>\n",
       "<style scoped>\n",
       "    .dataframe tbody tr th:only-of-type {\n",
       "        vertical-align: middle;\n",
       "    }\n",
       "\n",
       "    .dataframe tbody tr th {\n",
       "        vertical-align: top;\n",
       "    }\n",
       "\n",
       "    .dataframe thead th {\n",
       "        text-align: right;\n",
       "    }\n",
       "</style>\n",
       "<table border=\"1\" class=\"dataframe\">\n",
       "  <thead>\n",
       "    <tr style=\"text-align: right;\">\n",
       "      <th></th>\n",
       "      <th>values</th>\n",
       "      <th>max_count</th>\n",
       "      <th>Equals</th>\n",
       "      <th>Fit</th>\n",
       "      <th>index</th>\n",
       "      <th>filename</th>\n",
       "    </tr>\n",
       "  </thead>\n",
       "  <tbody>\n",
       "    <tr>\n",
       "      <th>556</th>\n",
       "      <td>(1, 2, 3, 4, 1)</td>\n",
       "      <td>True</td>\n",
       "      <td>0</td>\n",
       "      <td>1.051585e+04</td>\n",
       "      <td>18</td>\n",
       "      <td>18_mxc_0_[1, 2, 3, 4, 1]_date_04-19_20-18-53_x...</td>\n",
       "    </tr>\n",
       "    <tr>\n",
       "      <th>191</th>\n",
       "      <td>(1, 2, 3, 4, 1)</td>\n",
       "      <td>True</td>\n",
       "      <td>9</td>\n",
       "      <td>2.043470e+05</td>\n",
       "      <td>22</td>\n",
       "      <td>22_mxc_0_[1, 2, 3, 4, 1]_date_04-22_17-19-10_x...</td>\n",
       "    </tr>\n",
       "    <tr>\n",
       "      <th>226</th>\n",
       "      <td>(1, 2, 3, 4, 1)</td>\n",
       "      <td>True</td>\n",
       "      <td>0</td>\n",
       "      <td>1.595555e+04</td>\n",
       "      <td>23</td>\n",
       "      <td>23_mxc_0_[1, 2, 3, 4, 1]_date_04-23_12-39-18_x...</td>\n",
       "    </tr>\n",
       "    <tr>\n",
       "      <th>116</th>\n",
       "      <td>(1, 2, 3, 4, 1)</td>\n",
       "      <td>True</td>\n",
       "      <td>0</td>\n",
       "      <td>2.875752e+03</td>\n",
       "      <td>25</td>\n",
       "      <td>25_mxc_0_[1, 2, 3, 4, 1]_date_04-25_00-51-17_x...</td>\n",
       "    </tr>\n",
       "    <tr>\n",
       "      <th>78</th>\n",
       "      <td>(1, 2, 3, 4, 1)</td>\n",
       "      <td>False</td>\n",
       "      <td>0</td>\n",
       "      <td>8.290687e+108</td>\n",
       "      <td>16</td>\n",
       "      <td>16_mxc_-1_[1, 2, 3, 4, 1]_date_04-18_21-36-55_...</td>\n",
       "    </tr>\n",
       "    <tr>\n",
       "      <th>...</th>\n",
       "      <td>...</td>\n",
       "      <td>...</td>\n",
       "      <td>...</td>\n",
       "      <td>...</td>\n",
       "      <td>...</td>\n",
       "      <td>...</td>\n",
       "    </tr>\n",
       "    <tr>\n",
       "      <th>215</th>\n",
       "      <td>(4, 3, 2, 1, 5)</td>\n",
       "      <td>True</td>\n",
       "      <td>0</td>\n",
       "      <td>4.886765e+04</td>\n",
       "      <td>20</td>\n",
       "      <td>20_mxc_0_[4, 3, 2, 1, 5]_date_04-21_22-10-55_x...</td>\n",
       "    </tr>\n",
       "    <tr>\n",
       "      <th>38</th>\n",
       "      <td>(4, 3, 2, 1, 5)</td>\n",
       "      <td>False</td>\n",
       "      <td>0</td>\n",
       "      <td>2.368785e+07</td>\n",
       "      <td>20</td>\n",
       "      <td>20_mxc_-1_[4, 3, 2, 1, 5]_date_04-21_22-28-55_...</td>\n",
       "    </tr>\n",
       "    <tr>\n",
       "      <th>109</th>\n",
       "      <td>(4, 3, 2, 1, 5)</td>\n",
       "      <td>True</td>\n",
       "      <td>12262</td>\n",
       "      <td>2.497056e+18</td>\n",
       "      <td>22</td>\n",
       "      <td>22_mxc_0_[4, 3, 2, 1, 5]_date_04-23_09-52-11_x...</td>\n",
       "    </tr>\n",
       "    <tr>\n",
       "      <th>212</th>\n",
       "      <td>(4, 3, 2, 1, 5)</td>\n",
       "      <td>True</td>\n",
       "      <td>0</td>\n",
       "      <td>7.765631e+04</td>\n",
       "      <td>18</td>\n",
       "      <td>18_mxc_0_[4, 3, 2, 1, 5]_date_04-20_08-59-32_x...</td>\n",
       "    </tr>\n",
       "    <tr>\n",
       "      <th>161</th>\n",
       "      <td>(4, 3, 2, 1, 5)</td>\n",
       "      <td>True</td>\n",
       "      <td>11188</td>\n",
       "      <td>1.799543e+187</td>\n",
       "      <td>21</td>\n",
       "      <td>21_mxc_0_[4, 3, 2, 1, 5]_date_04-22_14-42-45_x...</td>\n",
       "    </tr>\n",
       "  </tbody>\n",
       "</table>\n",
       "<p>263 rows × 6 columns</p>\n",
       "</div>"
      ],
      "text/plain": [
       "              values  max_count  Equals            Fit  index  \\\n",
       "556  (1, 2, 3, 4, 1)       True       0   1.051585e+04     18   \n",
       "191  (1, 2, 3, 4, 1)       True       9   2.043470e+05     22   \n",
       "226  (1, 2, 3, 4, 1)       True       0   1.595555e+04     23   \n",
       "116  (1, 2, 3, 4, 1)       True       0   2.875752e+03     25   \n",
       "78   (1, 2, 3, 4, 1)      False       0  8.290687e+108     16   \n",
       "..               ...        ...     ...            ...    ...   \n",
       "215  (4, 3, 2, 1, 5)       True       0   4.886765e+04     20   \n",
       "38   (4, 3, 2, 1, 5)      False       0   2.368785e+07     20   \n",
       "109  (4, 3, 2, 1, 5)       True   12262   2.497056e+18     22   \n",
       "212  (4, 3, 2, 1, 5)       True       0   7.765631e+04     18   \n",
       "161  (4, 3, 2, 1, 5)       True   11188  1.799543e+187     21   \n",
       "\n",
       "                                              filename  \n",
       "556  18_mxc_0_[1, 2, 3, 4, 1]_date_04-19_20-18-53_x...  \n",
       "191  22_mxc_0_[1, 2, 3, 4, 1]_date_04-22_17-19-10_x...  \n",
       "226  23_mxc_0_[1, 2, 3, 4, 1]_date_04-23_12-39-18_x...  \n",
       "116  25_mxc_0_[1, 2, 3, 4, 1]_date_04-25_00-51-17_x...  \n",
       "78   16_mxc_-1_[1, 2, 3, 4, 1]_date_04-18_21-36-55_...  \n",
       "..                                                 ...  \n",
       "215  20_mxc_0_[4, 3, 2, 1, 5]_date_04-21_22-10-55_x...  \n",
       "38   20_mxc_-1_[4, 3, 2, 1, 5]_date_04-21_22-28-55_...  \n",
       "109  22_mxc_0_[4, 3, 2, 1, 5]_date_04-23_09-52-11_x...  \n",
       "212  18_mxc_0_[4, 3, 2, 1, 5]_date_04-20_08-59-32_x...  \n",
       "161  21_mxc_0_[4, 3, 2, 1, 5]_date_04-22_14-42-45_x...  \n",
       "\n",
       "[263 rows x 6 columns]"
      ]
     },
     "metadata": {},
     "output_type": "display_data"
    }
   ],
   "source": [
    "display(diff_vals_df)"
   ]
  },
  {
   "cell_type": "code",
   "execution_count": 22,
   "metadata": {},
   "outputs": [],
   "source": [
    "fdf = diff_vals_df "
   ]
  },
  {
   "cell_type": "code",
   "execution_count": 23,
   "metadata": {},
   "outputs": [
    {
     "data": {
      "text/html": [
       "<div>\n",
       "<style scoped>\n",
       "    .dataframe tbody tr th:only-of-type {\n",
       "        vertical-align: middle;\n",
       "    }\n",
       "\n",
       "    .dataframe tbody tr th {\n",
       "        vertical-align: top;\n",
       "    }\n",
       "\n",
       "    .dataframe thead th {\n",
       "        text-align: right;\n",
       "    }\n",
       "</style>\n",
       "<table border=\"1\" class=\"dataframe\">\n",
       "  <thead>\n",
       "    <tr style=\"text-align: right;\">\n",
       "      <th></th>\n",
       "      <th>values</th>\n",
       "      <th>max_count</th>\n",
       "      <th>Equals</th>\n",
       "      <th>Fit</th>\n",
       "      <th>index</th>\n",
       "      <th>filename</th>\n",
       "    </tr>\n",
       "  </thead>\n",
       "  <tbody>\n",
       "    <tr>\n",
       "      <th>556</th>\n",
       "      <td>(1, 2, 3, 4, 1)</td>\n",
       "      <td>True</td>\n",
       "      <td>0</td>\n",
       "      <td>1.051585e+04</td>\n",
       "      <td>18</td>\n",
       "      <td>18_mxc_0_[1, 2, 3, 4, 1]_date_04-19_20-18-53_x...</td>\n",
       "    </tr>\n",
       "    <tr>\n",
       "      <th>191</th>\n",
       "      <td>(1, 2, 3, 4, 1)</td>\n",
       "      <td>True</td>\n",
       "      <td>9</td>\n",
       "      <td>2.043470e+05</td>\n",
       "      <td>22</td>\n",
       "      <td>22_mxc_0_[1, 2, 3, 4, 1]_date_04-22_17-19-10_x...</td>\n",
       "    </tr>\n",
       "    <tr>\n",
       "      <th>226</th>\n",
       "      <td>(1, 2, 3, 4, 1)</td>\n",
       "      <td>True</td>\n",
       "      <td>0</td>\n",
       "      <td>1.595555e+04</td>\n",
       "      <td>23</td>\n",
       "      <td>23_mxc_0_[1, 2, 3, 4, 1]_date_04-23_12-39-18_x...</td>\n",
       "    </tr>\n",
       "    <tr>\n",
       "      <th>116</th>\n",
       "      <td>(1, 2, 3, 4, 1)</td>\n",
       "      <td>True</td>\n",
       "      <td>0</td>\n",
       "      <td>2.875752e+03</td>\n",
       "      <td>25</td>\n",
       "      <td>25_mxc_0_[1, 2, 3, 4, 1]_date_04-25_00-51-17_x...</td>\n",
       "    </tr>\n",
       "    <tr>\n",
       "      <th>78</th>\n",
       "      <td>(1, 2, 3, 4, 1)</td>\n",
       "      <td>False</td>\n",
       "      <td>0</td>\n",
       "      <td>8.290687e+108</td>\n",
       "      <td>16</td>\n",
       "      <td>16_mxc_-1_[1, 2, 3, 4, 1]_date_04-18_21-36-55_...</td>\n",
       "    </tr>\n",
       "    <tr>\n",
       "      <th>...</th>\n",
       "      <td>...</td>\n",
       "      <td>...</td>\n",
       "      <td>...</td>\n",
       "      <td>...</td>\n",
       "      <td>...</td>\n",
       "      <td>...</td>\n",
       "    </tr>\n",
       "    <tr>\n",
       "      <th>215</th>\n",
       "      <td>(4, 3, 2, 1, 5)</td>\n",
       "      <td>True</td>\n",
       "      <td>0</td>\n",
       "      <td>4.886765e+04</td>\n",
       "      <td>20</td>\n",
       "      <td>20_mxc_0_[4, 3, 2, 1, 5]_date_04-21_22-10-55_x...</td>\n",
       "    </tr>\n",
       "    <tr>\n",
       "      <th>38</th>\n",
       "      <td>(4, 3, 2, 1, 5)</td>\n",
       "      <td>False</td>\n",
       "      <td>0</td>\n",
       "      <td>2.368785e+07</td>\n",
       "      <td>20</td>\n",
       "      <td>20_mxc_-1_[4, 3, 2, 1, 5]_date_04-21_22-28-55_...</td>\n",
       "    </tr>\n",
       "    <tr>\n",
       "      <th>109</th>\n",
       "      <td>(4, 3, 2, 1, 5)</td>\n",
       "      <td>True</td>\n",
       "      <td>12262</td>\n",
       "      <td>2.497056e+18</td>\n",
       "      <td>22</td>\n",
       "      <td>22_mxc_0_[4, 3, 2, 1, 5]_date_04-23_09-52-11_x...</td>\n",
       "    </tr>\n",
       "    <tr>\n",
       "      <th>212</th>\n",
       "      <td>(4, 3, 2, 1, 5)</td>\n",
       "      <td>True</td>\n",
       "      <td>0</td>\n",
       "      <td>7.765631e+04</td>\n",
       "      <td>18</td>\n",
       "      <td>18_mxc_0_[4, 3, 2, 1, 5]_date_04-20_08-59-32_x...</td>\n",
       "    </tr>\n",
       "    <tr>\n",
       "      <th>161</th>\n",
       "      <td>(4, 3, 2, 1, 5)</td>\n",
       "      <td>True</td>\n",
       "      <td>11188</td>\n",
       "      <td>1.799543e+187</td>\n",
       "      <td>21</td>\n",
       "      <td>21_mxc_0_[4, 3, 2, 1, 5]_date_04-22_14-42-45_x...</td>\n",
       "    </tr>\n",
       "  </tbody>\n",
       "</table>\n",
       "<p>263 rows × 6 columns</p>\n",
       "</div>"
      ],
      "text/plain": [
       "              values  max_count  Equals            Fit  index  \\\n",
       "556  (1, 2, 3, 4, 1)       True       0   1.051585e+04     18   \n",
       "191  (1, 2, 3, 4, 1)       True       9   2.043470e+05     22   \n",
       "226  (1, 2, 3, 4, 1)       True       0   1.595555e+04     23   \n",
       "116  (1, 2, 3, 4, 1)       True       0   2.875752e+03     25   \n",
       "78   (1, 2, 3, 4, 1)      False       0  8.290687e+108     16   \n",
       "..               ...        ...     ...            ...    ...   \n",
       "215  (4, 3, 2, 1, 5)       True       0   4.886765e+04     20   \n",
       "38   (4, 3, 2, 1, 5)      False       0   2.368785e+07     20   \n",
       "109  (4, 3, 2, 1, 5)       True   12262   2.497056e+18     22   \n",
       "212  (4, 3, 2, 1, 5)       True       0   7.765631e+04     18   \n",
       "161  (4, 3, 2, 1, 5)       True   11188  1.799543e+187     21   \n",
       "\n",
       "                                              filename  \n",
       "556  18_mxc_0_[1, 2, 3, 4, 1]_date_04-19_20-18-53_x...  \n",
       "191  22_mxc_0_[1, 2, 3, 4, 1]_date_04-22_17-19-10_x...  \n",
       "226  23_mxc_0_[1, 2, 3, 4, 1]_date_04-23_12-39-18_x...  \n",
       "116  25_mxc_0_[1, 2, 3, 4, 1]_date_04-25_00-51-17_x...  \n",
       "78   16_mxc_-1_[1, 2, 3, 4, 1]_date_04-18_21-36-55_...  \n",
       "..                                                 ...  \n",
       "215  20_mxc_0_[4, 3, 2, 1, 5]_date_04-21_22-10-55_x...  \n",
       "38   20_mxc_-1_[4, 3, 2, 1, 5]_date_04-21_22-28-55_...  \n",
       "109  22_mxc_0_[4, 3, 2, 1, 5]_date_04-23_09-52-11_x...  \n",
       "212  18_mxc_0_[4, 3, 2, 1, 5]_date_04-20_08-59-32_x...  \n",
       "161  21_mxc_0_[4, 3, 2, 1, 5]_date_04-22_14-42-45_x...  \n",
       "\n",
       "[263 rows x 6 columns]"
      ]
     },
     "execution_count": 23,
     "metadata": {},
     "output_type": "execute_result"
    }
   ],
   "source": [
    "fdf"
   ]
  },
  {
   "cell_type": "code",
   "execution_count": 24,
   "metadata": {},
   "outputs": [
    {
     "data": {
      "text/html": [
       "<div>\n",
       "<style scoped>\n",
       "    .dataframe tbody tr th:only-of-type {\n",
       "        vertical-align: middle;\n",
       "    }\n",
       "\n",
       "    .dataframe tbody tr th {\n",
       "        vertical-align: top;\n",
       "    }\n",
       "\n",
       "    .dataframe thead th {\n",
       "        text-align: right;\n",
       "    }\n",
       "</style>\n",
       "<table border=\"1\" class=\"dataframe\">\n",
       "  <thead>\n",
       "    <tr style=\"text-align: right;\">\n",
       "      <th></th>\n",
       "      <th></th>\n",
       "      <th>Equals</th>\n",
       "      <th>Fit</th>\n",
       "      <th>index</th>\n",
       "    </tr>\n",
       "    <tr>\n",
       "      <th>values</th>\n",
       "      <th>max_count</th>\n",
       "      <th></th>\n",
       "      <th></th>\n",
       "      <th></th>\n",
       "    </tr>\n",
       "  </thead>\n",
       "  <tbody>\n",
       "    <tr>\n",
       "      <th rowspan=\"2\" valign=\"top\">(1, 2, 3, 4, 1)</th>\n",
       "      <th>False</th>\n",
       "      <td>0.250000</td>\n",
       "      <td>2.073168e+108</td>\n",
       "      <td>18.000000</td>\n",
       "    </tr>\n",
       "    <tr>\n",
       "      <th>True</th>\n",
       "      <td>2.090909</td>\n",
       "      <td>4.265361e+04</td>\n",
       "      <td>19.727273</td>\n",
       "    </tr>\n",
       "    <tr>\n",
       "      <th rowspan=\"2\" valign=\"top\">(1, 2, 3, 4, 2)</th>\n",
       "      <th>False</th>\n",
       "      <td>0.000000</td>\n",
       "      <td>2.580365e+144</td>\n",
       "      <td>19.500000</td>\n",
       "    </tr>\n",
       "    <tr>\n",
       "      <th>True</th>\n",
       "      <td>122.200000</td>\n",
       "      <td>3.499869e+04</td>\n",
       "      <td>19.300000</td>\n",
       "    </tr>\n",
       "    <tr>\n",
       "      <th rowspan=\"2\" valign=\"top\">(1, 2, 3, 4, 3)</th>\n",
       "      <th>False</th>\n",
       "      <td>0.000000</td>\n",
       "      <td>7.392640e+249</td>\n",
       "      <td>20.000000</td>\n",
       "    </tr>\n",
       "    <tr>\n",
       "      <th>True</th>\n",
       "      <td>3584.625000</td>\n",
       "      <td>1.585436e+06</td>\n",
       "      <td>20.750000</td>\n",
       "    </tr>\n",
       "    <tr>\n",
       "      <th rowspan=\"2\" valign=\"top\">(1, 2, 3, 4, 4)</th>\n",
       "      <th>False</th>\n",
       "      <td>97.000000</td>\n",
       "      <td>2.742304e+119</td>\n",
       "      <td>16.500000</td>\n",
       "    </tr>\n",
       "    <tr>\n",
       "      <th>True</th>\n",
       "      <td>958.500000</td>\n",
       "      <td>1.873431e+37</td>\n",
       "      <td>19.300000</td>\n",
       "    </tr>\n",
       "    <tr>\n",
       "      <th rowspan=\"2\" valign=\"top\">(1, 2, 3, 4, 5)</th>\n",
       "      <th>False</th>\n",
       "      <td>0.250000</td>\n",
       "      <td>3.639272e+203</td>\n",
       "      <td>20.000000</td>\n",
       "    </tr>\n",
       "    <tr>\n",
       "      <th>True</th>\n",
       "      <td>1820.333333</td>\n",
       "      <td>3.466783e+20</td>\n",
       "      <td>21.500000</td>\n",
       "    </tr>\n",
       "    <tr>\n",
       "      <th rowspan=\"2\" valign=\"top\">(1, 2, 3, 4, 6)</th>\n",
       "      <th>False</th>\n",
       "      <td>0.000000</td>\n",
       "      <td>2.248926e+14</td>\n",
       "      <td>16.000000</td>\n",
       "    </tr>\n",
       "    <tr>\n",
       "      <th>True</th>\n",
       "      <td>2550.333333</td>\n",
       "      <td>2.488017e+122</td>\n",
       "      <td>20.166667</td>\n",
       "    </tr>\n",
       "    <tr>\n",
       "      <th rowspan=\"2\" valign=\"top\">(1, 2, 4, 3, 5)</th>\n",
       "      <th>False</th>\n",
       "      <td>0.000000</td>\n",
       "      <td>7.504320e+191</td>\n",
       "      <td>19.750000</td>\n",
       "    </tr>\n",
       "    <tr>\n",
       "      <th>True</th>\n",
       "      <td>3804.500000</td>\n",
       "      <td>6.770731e+182</td>\n",
       "      <td>20.875000</td>\n",
       "    </tr>\n",
       "    <tr>\n",
       "      <th rowspan=\"2\" valign=\"top\">(1, 3, 2, 4, 5)</th>\n",
       "      <th>False</th>\n",
       "      <td>0.000000</td>\n",
       "      <td>5.420650e+274</td>\n",
       "      <td>21.000000</td>\n",
       "    </tr>\n",
       "    <tr>\n",
       "      <th>True</th>\n",
       "      <td>3629.800000</td>\n",
       "      <td>1.864469e+161</td>\n",
       "      <td>19.400000</td>\n",
       "    </tr>\n",
       "    <tr>\n",
       "      <th rowspan=\"2\" valign=\"top\">(1, 3, 4, 2, 5)</th>\n",
       "      <th>False</th>\n",
       "      <td>0.000000</td>\n",
       "      <td>8.357887e+172</td>\n",
       "      <td>21.000000</td>\n",
       "    </tr>\n",
       "    <tr>\n",
       "      <th>True</th>\n",
       "      <td>1827.500000</td>\n",
       "      <td>7.501531e+04</td>\n",
       "      <td>19.500000</td>\n",
       "    </tr>\n",
       "    <tr>\n",
       "      <th rowspan=\"2\" valign=\"top\">(1, 4, 2, 3, 5)</th>\n",
       "      <th>False</th>\n",
       "      <td>1400.000000</td>\n",
       "      <td>1.886180e+251</td>\n",
       "      <td>23.000000</td>\n",
       "    </tr>\n",
       "    <tr>\n",
       "      <th>True</th>\n",
       "      <td>2.000000</td>\n",
       "      <td>1.384294e+04</td>\n",
       "      <td>18.666667</td>\n",
       "    </tr>\n",
       "    <tr>\n",
       "      <th>(1, 4, 3, 2, 5)</th>\n",
       "      <th>True</th>\n",
       "      <td>1523.375000</td>\n",
       "      <td>1.993654e+125</td>\n",
       "      <td>19.375000</td>\n",
       "    </tr>\n",
       "    <tr>\n",
       "      <th rowspan=\"2\" valign=\"top\">(2, 1, 3, 4, 5)</th>\n",
       "      <th>False</th>\n",
       "      <td>0.000000</td>\n",
       "      <td>8.635653e+264</td>\n",
       "      <td>18.000000</td>\n",
       "    </tr>\n",
       "    <tr>\n",
       "      <th>True</th>\n",
       "      <td>2097.800000</td>\n",
       "      <td>3.681372e+111</td>\n",
       "      <td>22.400000</td>\n",
       "    </tr>\n",
       "    <tr>\n",
       "      <th rowspan=\"2\" valign=\"top\">(2, 1, 4, 3, 5)</th>\n",
       "      <th>False</th>\n",
       "      <td>0.000000</td>\n",
       "      <td>1.164531e+40</td>\n",
       "      <td>16.000000</td>\n",
       "    </tr>\n",
       "    <tr>\n",
       "      <th>True</th>\n",
       "      <td>5123.750000</td>\n",
       "      <td>8.951434e+227</td>\n",
       "      <td>19.750000</td>\n",
       "    </tr>\n",
       "    <tr>\n",
       "      <th rowspan=\"2\" valign=\"top\">(2, 3, 1, 4, 5)</th>\n",
       "      <th>False</th>\n",
       "      <td>0.000000</td>\n",
       "      <td>4.060554e+186</td>\n",
       "      <td>21.500000</td>\n",
       "    </tr>\n",
       "    <tr>\n",
       "      <th>True</th>\n",
       "      <td>1943.222222</td>\n",
       "      <td>5.211554e+18</td>\n",
       "      <td>19.888889</td>\n",
       "    </tr>\n",
       "    <tr>\n",
       "      <th rowspan=\"2\" valign=\"top\">(2, 3, 4, 1, 5)</th>\n",
       "      <th>False</th>\n",
       "      <td>0.000000</td>\n",
       "      <td>4.321074e+27</td>\n",
       "      <td>16.000000</td>\n",
       "    </tr>\n",
       "    <tr>\n",
       "      <th>True</th>\n",
       "      <td>3064.000000</td>\n",
       "      <td>1.003080e+116</td>\n",
       "      <td>20.000000</td>\n",
       "    </tr>\n",
       "    <tr>\n",
       "      <th rowspan=\"2\" valign=\"top\">(2, 4, 1, 3, 5)</th>\n",
       "      <th>False</th>\n",
       "      <td>0.000000</td>\n",
       "      <td>1.324736e+294</td>\n",
       "      <td>22.333333</td>\n",
       "    </tr>\n",
       "    <tr>\n",
       "      <th>True</th>\n",
       "      <td>4917.375000</td>\n",
       "      <td>2.710946e+241</td>\n",
       "      <td>19.000000</td>\n",
       "    </tr>\n",
       "    <tr>\n",
       "      <th rowspan=\"2\" valign=\"top\">(2, 4, 3, 1, 5)</th>\n",
       "      <th>False</th>\n",
       "      <td>0.000000</td>\n",
       "      <td>2.110377e+86</td>\n",
       "      <td>24.000000</td>\n",
       "    </tr>\n",
       "    <tr>\n",
       "      <th>True</th>\n",
       "      <td>1222.571429</td>\n",
       "      <td>4.279266e+05</td>\n",
       "      <td>19.285714</td>\n",
       "    </tr>\n",
       "    <tr>\n",
       "      <th rowspan=\"2\" valign=\"top\">(3, 1, 2, 4, 5)</th>\n",
       "      <th>False</th>\n",
       "      <td>0.000000</td>\n",
       "      <td>5.319570e+266</td>\n",
       "      <td>21.000000</td>\n",
       "    </tr>\n",
       "    <tr>\n",
       "      <th>True</th>\n",
       "      <td>894.000000</td>\n",
       "      <td>1.163402e+59</td>\n",
       "      <td>20.500000</td>\n",
       "    </tr>\n",
       "    <tr>\n",
       "      <th rowspan=\"2\" valign=\"top\">(3, 1, 4, 2, 5)</th>\n",
       "      <th>False</th>\n",
       "      <td>0.000000</td>\n",
       "      <td>9.666460e+69</td>\n",
       "      <td>23.000000</td>\n",
       "    </tr>\n",
       "    <tr>\n",
       "      <th>True</th>\n",
       "      <td>5724.333333</td>\n",
       "      <td>9.765522e+157</td>\n",
       "      <td>20.500000</td>\n",
       "    </tr>\n",
       "    <tr>\n",
       "      <th>(3, 2, 1, 4, 5)</th>\n",
       "      <th>True</th>\n",
       "      <td>2454.333333</td>\n",
       "      <td>3.042773e+77</td>\n",
       "      <td>20.666667</td>\n",
       "    </tr>\n",
       "    <tr>\n",
       "      <th>(3, 2, 4, 1, 5)</th>\n",
       "      <th>True</th>\n",
       "      <td>1089.166667</td>\n",
       "      <td>9.720889e+04</td>\n",
       "      <td>19.000000</td>\n",
       "    </tr>\n",
       "    <tr>\n",
       "      <th rowspan=\"2\" valign=\"top\">(3, 4, 1, 2, 5)</th>\n",
       "      <th>False</th>\n",
       "      <td>0.000000</td>\n",
       "      <td>4.437111e+19</td>\n",
       "      <td>20.000000</td>\n",
       "    </tr>\n",
       "    <tr>\n",
       "      <th>True</th>\n",
       "      <td>4695.285714</td>\n",
       "      <td>2.527464e+99</td>\n",
       "      <td>20.285714</td>\n",
       "    </tr>\n",
       "    <tr>\n",
       "      <th rowspan=\"2\" valign=\"top\">(3, 4, 2, 1, 5)</th>\n",
       "      <th>False</th>\n",
       "      <td>0.000000</td>\n",
       "      <td>2.518244e+21</td>\n",
       "      <td>25.000000</td>\n",
       "    </tr>\n",
       "    <tr>\n",
       "      <th>True</th>\n",
       "      <td>3385.666667</td>\n",
       "      <td>3.187479e+35</td>\n",
       "      <td>19.777778</td>\n",
       "    </tr>\n",
       "    <tr>\n",
       "      <th rowspan=\"2\" valign=\"top\">(4, 1, 2, 3, 5)</th>\n",
       "      <th>False</th>\n",
       "      <td>0.000000</td>\n",
       "      <td>1.331295e+102</td>\n",
       "      <td>16.000000</td>\n",
       "    </tr>\n",
       "    <tr>\n",
       "      <th>True</th>\n",
       "      <td>2807.500000</td>\n",
       "      <td>8.599064e+04</td>\n",
       "      <td>18.750000</td>\n",
       "    </tr>\n",
       "    <tr>\n",
       "      <th>(4, 1, 3, 2, 5)</th>\n",
       "      <th>True</th>\n",
       "      <td>2962.428571</td>\n",
       "      <td>9.671359e+131</td>\n",
       "      <td>18.571429</td>\n",
       "    </tr>\n",
       "    <tr>\n",
       "      <th rowspan=\"2\" valign=\"top\">(4, 2, 1, 3, 5)</th>\n",
       "      <th>False</th>\n",
       "      <td>0.000000</td>\n",
       "      <td>6.130370e+267</td>\n",
       "      <td>16.000000</td>\n",
       "    </tr>\n",
       "    <tr>\n",
       "      <th>True</th>\n",
       "      <td>5061.833333</td>\n",
       "      <td>2.046535e+214</td>\n",
       "      <td>18.333333</td>\n",
       "    </tr>\n",
       "    <tr>\n",
       "      <th>(4, 2, 3, 1, 5)</th>\n",
       "      <th>True</th>\n",
       "      <td>3584.800000</td>\n",
       "      <td>1.103518e+266</td>\n",
       "      <td>19.000000</td>\n",
       "    </tr>\n",
       "    <tr>\n",
       "      <th rowspan=\"2\" valign=\"top\">(4, 3, 1, 2, 5)</th>\n",
       "      <th>False</th>\n",
       "      <td>0.000000</td>\n",
       "      <td>1.585746e+223</td>\n",
       "      <td>18.000000</td>\n",
       "    </tr>\n",
       "    <tr>\n",
       "      <th>True</th>\n",
       "      <td>1687.500000</td>\n",
       "      <td>1.277967e+09</td>\n",
       "      <td>18.666667</td>\n",
       "    </tr>\n",
       "    <tr>\n",
       "      <th rowspan=\"2\" valign=\"top\">(4, 3, 2, 1, 5)</th>\n",
       "      <th>False</th>\n",
       "      <td>0.000000</td>\n",
       "      <td>2.368785e+07</td>\n",
       "      <td>20.000000</td>\n",
       "    </tr>\n",
       "    <tr>\n",
       "      <th>True</th>\n",
       "      <td>4690.000000</td>\n",
       "      <td>3.599086e+186</td>\n",
       "      <td>19.000000</td>\n",
       "    </tr>\n",
       "  </tbody>\n",
       "</table>\n",
       "</div>"
      ],
      "text/plain": [
       "                                Equals            Fit      index\n",
       "values          max_count                                       \n",
       "(1, 2, 3, 4, 1) False         0.250000  2.073168e+108  18.000000\n",
       "                True          2.090909   4.265361e+04  19.727273\n",
       "(1, 2, 3, 4, 2) False         0.000000  2.580365e+144  19.500000\n",
       "                True        122.200000   3.499869e+04  19.300000\n",
       "(1, 2, 3, 4, 3) False         0.000000  7.392640e+249  20.000000\n",
       "                True       3584.625000   1.585436e+06  20.750000\n",
       "(1, 2, 3, 4, 4) False        97.000000  2.742304e+119  16.500000\n",
       "                True        958.500000   1.873431e+37  19.300000\n",
       "(1, 2, 3, 4, 5) False         0.250000  3.639272e+203  20.000000\n",
       "                True       1820.333333   3.466783e+20  21.500000\n",
       "(1, 2, 3, 4, 6) False         0.000000   2.248926e+14  16.000000\n",
       "                True       2550.333333  2.488017e+122  20.166667\n",
       "(1, 2, 4, 3, 5) False         0.000000  7.504320e+191  19.750000\n",
       "                True       3804.500000  6.770731e+182  20.875000\n",
       "(1, 3, 2, 4, 5) False         0.000000  5.420650e+274  21.000000\n",
       "                True       3629.800000  1.864469e+161  19.400000\n",
       "(1, 3, 4, 2, 5) False         0.000000  8.357887e+172  21.000000\n",
       "                True       1827.500000   7.501531e+04  19.500000\n",
       "(1, 4, 2, 3, 5) False      1400.000000  1.886180e+251  23.000000\n",
       "                True          2.000000   1.384294e+04  18.666667\n",
       "(1, 4, 3, 2, 5) True       1523.375000  1.993654e+125  19.375000\n",
       "(2, 1, 3, 4, 5) False         0.000000  8.635653e+264  18.000000\n",
       "                True       2097.800000  3.681372e+111  22.400000\n",
       "(2, 1, 4, 3, 5) False         0.000000   1.164531e+40  16.000000\n",
       "                True       5123.750000  8.951434e+227  19.750000\n",
       "(2, 3, 1, 4, 5) False         0.000000  4.060554e+186  21.500000\n",
       "                True       1943.222222   5.211554e+18  19.888889\n",
       "(2, 3, 4, 1, 5) False         0.000000   4.321074e+27  16.000000\n",
       "                True       3064.000000  1.003080e+116  20.000000\n",
       "(2, 4, 1, 3, 5) False         0.000000  1.324736e+294  22.333333\n",
       "                True       4917.375000  2.710946e+241  19.000000\n",
       "(2, 4, 3, 1, 5) False         0.000000   2.110377e+86  24.000000\n",
       "                True       1222.571429   4.279266e+05  19.285714\n",
       "(3, 1, 2, 4, 5) False         0.000000  5.319570e+266  21.000000\n",
       "                True        894.000000   1.163402e+59  20.500000\n",
       "(3, 1, 4, 2, 5) False         0.000000   9.666460e+69  23.000000\n",
       "                True       5724.333333  9.765522e+157  20.500000\n",
       "(3, 2, 1, 4, 5) True       2454.333333   3.042773e+77  20.666667\n",
       "(3, 2, 4, 1, 5) True       1089.166667   9.720889e+04  19.000000\n",
       "(3, 4, 1, 2, 5) False         0.000000   4.437111e+19  20.000000\n",
       "                True       4695.285714   2.527464e+99  20.285714\n",
       "(3, 4, 2, 1, 5) False         0.000000   2.518244e+21  25.000000\n",
       "                True       3385.666667   3.187479e+35  19.777778\n",
       "(4, 1, 2, 3, 5) False         0.000000  1.331295e+102  16.000000\n",
       "                True       2807.500000   8.599064e+04  18.750000\n",
       "(4, 1, 3, 2, 5) True       2962.428571  9.671359e+131  18.571429\n",
       "(4, 2, 1, 3, 5) False         0.000000  6.130370e+267  16.000000\n",
       "                True       5061.833333  2.046535e+214  18.333333\n",
       "(4, 2, 3, 1, 5) True       3584.800000  1.103518e+266  19.000000\n",
       "(4, 3, 1, 2, 5) False         0.000000  1.585746e+223  18.000000\n",
       "                True       1687.500000   1.277967e+09  18.666667\n",
       "(4, 3, 2, 1, 5) False         0.000000   2.368785e+07  20.000000\n",
       "                True       4690.000000  3.599086e+186  19.000000"
      ]
     },
     "execution_count": 24,
     "metadata": {},
     "output_type": "execute_result"
    }
   ],
   "source": [
    "gdf = diff_vals_df.groupby([\"values\", \"max_count\"]).mean()\n",
    "gdf"
   ]
  },
  {
   "cell_type": "code",
   "execution_count": 25,
   "metadata": {},
   "outputs": [],
   "source": [
    "gdf = gdf.reset_index().sort_values(\"Equals\")"
   ]
  },
  {
   "cell_type": "code",
   "execution_count": 26,
   "metadata": {},
   "outputs": [
    {
     "data": {
      "text/html": [
       "<div>\n",
       "<style scoped>\n",
       "    .dataframe tbody tr th:only-of-type {\n",
       "        vertical-align: middle;\n",
       "    }\n",
       "\n",
       "    .dataframe tbody tr th {\n",
       "        vertical-align: top;\n",
       "    }\n",
       "\n",
       "    .dataframe thead th {\n",
       "        text-align: right;\n",
       "    }\n",
       "</style>\n",
       "<table border=\"1\" class=\"dataframe\">\n",
       "  <thead>\n",
       "    <tr style=\"text-align: right;\">\n",
       "      <th></th>\n",
       "      <th>values</th>\n",
       "      <th>max_count</th>\n",
       "      <th>Equals</th>\n",
       "      <th>Fit</th>\n",
       "      <th>index</th>\n",
       "    </tr>\n",
       "  </thead>\n",
       "  <tbody>\n",
       "    <tr>\n",
       "      <th>12</th>\n",
       "      <td>(1, 2, 4, 3, 5)</td>\n",
       "      <td>False</td>\n",
       "      <td>0.00</td>\n",
       "      <td>7.504320e+191</td>\n",
       "      <td>19.750000</td>\n",
       "    </tr>\n",
       "    <tr>\n",
       "      <th>23</th>\n",
       "      <td>(2, 1, 4, 3, 5)</td>\n",
       "      <td>False</td>\n",
       "      <td>0.00</td>\n",
       "      <td>1.164531e+40</td>\n",
       "      <td>16.000000</td>\n",
       "    </tr>\n",
       "    <tr>\n",
       "      <th>41</th>\n",
       "      <td>(3, 4, 2, 1, 5)</td>\n",
       "      <td>False</td>\n",
       "      <td>0.00</td>\n",
       "      <td>2.518244e+21</td>\n",
       "      <td>25.000000</td>\n",
       "    </tr>\n",
       "    <tr>\n",
       "      <th>21</th>\n",
       "      <td>(2, 1, 3, 4, 5)</td>\n",
       "      <td>False</td>\n",
       "      <td>0.00</td>\n",
       "      <td>8.635653e+264</td>\n",
       "      <td>18.000000</td>\n",
       "    </tr>\n",
       "    <tr>\n",
       "      <th>51</th>\n",
       "      <td>(4, 3, 2, 1, 5)</td>\n",
       "      <td>False</td>\n",
       "      <td>0.00</td>\n",
       "      <td>2.368785e+07</td>\n",
       "      <td>20.000000</td>\n",
       "    </tr>\n",
       "    <tr>\n",
       "      <th>27</th>\n",
       "      <td>(2, 3, 4, 1, 5)</td>\n",
       "      <td>False</td>\n",
       "      <td>0.00</td>\n",
       "      <td>4.321074e+27</td>\n",
       "      <td>16.000000</td>\n",
       "    </tr>\n",
       "    <tr>\n",
       "      <th>33</th>\n",
       "      <td>(3, 1, 2, 4, 5)</td>\n",
       "      <td>False</td>\n",
       "      <td>0.00</td>\n",
       "      <td>5.319570e+266</td>\n",
       "      <td>21.000000</td>\n",
       "    </tr>\n",
       "    <tr>\n",
       "      <th>16</th>\n",
       "      <td>(1, 3, 4, 2, 5)</td>\n",
       "      <td>False</td>\n",
       "      <td>0.00</td>\n",
       "      <td>8.357887e+172</td>\n",
       "      <td>21.000000</td>\n",
       "    </tr>\n",
       "    <tr>\n",
       "      <th>43</th>\n",
       "      <td>(4, 1, 2, 3, 5)</td>\n",
       "      <td>False</td>\n",
       "      <td>0.00</td>\n",
       "      <td>1.331295e+102</td>\n",
       "      <td>16.000000</td>\n",
       "    </tr>\n",
       "    <tr>\n",
       "      <th>14</th>\n",
       "      <td>(1, 3, 2, 4, 5)</td>\n",
       "      <td>False</td>\n",
       "      <td>0.00</td>\n",
       "      <td>5.420650e+274</td>\n",
       "      <td>21.000000</td>\n",
       "    </tr>\n",
       "    <tr>\n",
       "      <th>46</th>\n",
       "      <td>(4, 2, 1, 3, 5)</td>\n",
       "      <td>False</td>\n",
       "      <td>0.00</td>\n",
       "      <td>6.130370e+267</td>\n",
       "      <td>16.000000</td>\n",
       "    </tr>\n",
       "    <tr>\n",
       "      <th>39</th>\n",
       "      <td>(3, 4, 1, 2, 5)</td>\n",
       "      <td>False</td>\n",
       "      <td>0.00</td>\n",
       "      <td>4.437111e+19</td>\n",
       "      <td>20.000000</td>\n",
       "    </tr>\n",
       "    <tr>\n",
       "      <th>25</th>\n",
       "      <td>(2, 3, 1, 4, 5)</td>\n",
       "      <td>False</td>\n",
       "      <td>0.00</td>\n",
       "      <td>4.060554e+186</td>\n",
       "      <td>21.500000</td>\n",
       "    </tr>\n",
       "    <tr>\n",
       "      <th>10</th>\n",
       "      <td>(1, 2, 3, 4, 6)</td>\n",
       "      <td>False</td>\n",
       "      <td>0.00</td>\n",
       "      <td>2.248926e+14</td>\n",
       "      <td>16.000000</td>\n",
       "    </tr>\n",
       "    <tr>\n",
       "      <th>29</th>\n",
       "      <td>(2, 4, 1, 3, 5)</td>\n",
       "      <td>False</td>\n",
       "      <td>0.00</td>\n",
       "      <td>1.324736e+294</td>\n",
       "      <td>22.333333</td>\n",
       "    </tr>\n",
       "    <tr>\n",
       "      <th>35</th>\n",
       "      <td>(3, 1, 4, 2, 5)</td>\n",
       "      <td>False</td>\n",
       "      <td>0.00</td>\n",
       "      <td>9.666460e+69</td>\n",
       "      <td>23.000000</td>\n",
       "    </tr>\n",
       "    <tr>\n",
       "      <th>31</th>\n",
       "      <td>(2, 4, 3, 1, 5)</td>\n",
       "      <td>False</td>\n",
       "      <td>0.00</td>\n",
       "      <td>2.110377e+86</td>\n",
       "      <td>24.000000</td>\n",
       "    </tr>\n",
       "    <tr>\n",
       "      <th>4</th>\n",
       "      <td>(1, 2, 3, 4, 3)</td>\n",
       "      <td>False</td>\n",
       "      <td>0.00</td>\n",
       "      <td>7.392640e+249</td>\n",
       "      <td>20.000000</td>\n",
       "    </tr>\n",
       "    <tr>\n",
       "      <th>2</th>\n",
       "      <td>(1, 2, 3, 4, 2)</td>\n",
       "      <td>False</td>\n",
       "      <td>0.00</td>\n",
       "      <td>2.580365e+144</td>\n",
       "      <td>19.500000</td>\n",
       "    </tr>\n",
       "    <tr>\n",
       "      <th>49</th>\n",
       "      <td>(4, 3, 1, 2, 5)</td>\n",
       "      <td>False</td>\n",
       "      <td>0.00</td>\n",
       "      <td>1.585746e+223</td>\n",
       "      <td>18.000000</td>\n",
       "    </tr>\n",
       "    <tr>\n",
       "      <th>8</th>\n",
       "      <td>(1, 2, 3, 4, 5)</td>\n",
       "      <td>False</td>\n",
       "      <td>0.25</td>\n",
       "      <td>3.639272e+203</td>\n",
       "      <td>20.000000</td>\n",
       "    </tr>\n",
       "    <tr>\n",
       "      <th>0</th>\n",
       "      <td>(1, 2, 3, 4, 1)</td>\n",
       "      <td>False</td>\n",
       "      <td>0.25</td>\n",
       "      <td>2.073168e+108</td>\n",
       "      <td>18.000000</td>\n",
       "    </tr>\n",
       "    <tr>\n",
       "      <th>6</th>\n",
       "      <td>(1, 2, 3, 4, 4)</td>\n",
       "      <td>False</td>\n",
       "      <td>97.00</td>\n",
       "      <td>2.742304e+119</td>\n",
       "      <td>16.500000</td>\n",
       "    </tr>\n",
       "    <tr>\n",
       "      <th>18</th>\n",
       "      <td>(1, 4, 2, 3, 5)</td>\n",
       "      <td>False</td>\n",
       "      <td>1400.00</td>\n",
       "      <td>1.886180e+251</td>\n",
       "      <td>23.000000</td>\n",
       "    </tr>\n",
       "  </tbody>\n",
       "</table>\n",
       "</div>"
      ],
      "text/plain": [
       "             values  max_count   Equals            Fit      index\n",
       "12  (1, 2, 4, 3, 5)      False     0.00  7.504320e+191  19.750000\n",
       "23  (2, 1, 4, 3, 5)      False     0.00   1.164531e+40  16.000000\n",
       "41  (3, 4, 2, 1, 5)      False     0.00   2.518244e+21  25.000000\n",
       "21  (2, 1, 3, 4, 5)      False     0.00  8.635653e+264  18.000000\n",
       "51  (4, 3, 2, 1, 5)      False     0.00   2.368785e+07  20.000000\n",
       "27  (2, 3, 4, 1, 5)      False     0.00   4.321074e+27  16.000000\n",
       "33  (3, 1, 2, 4, 5)      False     0.00  5.319570e+266  21.000000\n",
       "16  (1, 3, 4, 2, 5)      False     0.00  8.357887e+172  21.000000\n",
       "43  (4, 1, 2, 3, 5)      False     0.00  1.331295e+102  16.000000\n",
       "14  (1, 3, 2, 4, 5)      False     0.00  5.420650e+274  21.000000\n",
       "46  (4, 2, 1, 3, 5)      False     0.00  6.130370e+267  16.000000\n",
       "39  (3, 4, 1, 2, 5)      False     0.00   4.437111e+19  20.000000\n",
       "25  (2, 3, 1, 4, 5)      False     0.00  4.060554e+186  21.500000\n",
       "10  (1, 2, 3, 4, 6)      False     0.00   2.248926e+14  16.000000\n",
       "29  (2, 4, 1, 3, 5)      False     0.00  1.324736e+294  22.333333\n",
       "35  (3, 1, 4, 2, 5)      False     0.00   9.666460e+69  23.000000\n",
       "31  (2, 4, 3, 1, 5)      False     0.00   2.110377e+86  24.000000\n",
       "4   (1, 2, 3, 4, 3)      False     0.00  7.392640e+249  20.000000\n",
       "2   (1, 2, 3, 4, 2)      False     0.00  2.580365e+144  19.500000\n",
       "49  (4, 3, 1, 2, 5)      False     0.00  1.585746e+223  18.000000\n",
       "8   (1, 2, 3, 4, 5)      False     0.25  3.639272e+203  20.000000\n",
       "0   (1, 2, 3, 4, 1)      False     0.25  2.073168e+108  18.000000\n",
       "6   (1, 2, 3, 4, 4)      False    97.00  2.742304e+119  16.500000\n",
       "18  (1, 4, 2, 3, 5)      False  1400.00  1.886180e+251  23.000000"
      ]
     },
     "execution_count": 26,
     "metadata": {},
     "output_type": "execute_result"
    }
   ],
   "source": [
    "gdf[gdf[\"max_count\"] == False]"
   ]
  },
  {
   "cell_type": "code",
   "execution_count": 27,
   "metadata": {},
   "outputs": [
    {
     "data": {
      "text/html": [
       "<div>\n",
       "<style scoped>\n",
       "    .dataframe tbody tr th:only-of-type {\n",
       "        vertical-align: middle;\n",
       "    }\n",
       "\n",
       "    .dataframe tbody tr th {\n",
       "        vertical-align: top;\n",
       "    }\n",
       "\n",
       "    .dataframe thead th {\n",
       "        text-align: right;\n",
       "    }\n",
       "</style>\n",
       "<table border=\"1\" class=\"dataframe\">\n",
       "  <thead>\n",
       "    <tr style=\"text-align: right;\">\n",
       "      <th></th>\n",
       "      <th>values</th>\n",
       "      <th>max_count</th>\n",
       "      <th>Equals</th>\n",
       "      <th>Fit</th>\n",
       "      <th>index</th>\n",
       "    </tr>\n",
       "  </thead>\n",
       "  <tbody>\n",
       "    <tr>\n",
       "      <th>19</th>\n",
       "      <td>(1, 4, 2, 3, 5)</td>\n",
       "      <td>True</td>\n",
       "      <td>2.000000</td>\n",
       "      <td>1.384294e+04</td>\n",
       "      <td>18.666667</td>\n",
       "    </tr>\n",
       "    <tr>\n",
       "      <th>1</th>\n",
       "      <td>(1, 2, 3, 4, 1)</td>\n",
       "      <td>True</td>\n",
       "      <td>2.090909</td>\n",
       "      <td>4.265361e+04</td>\n",
       "      <td>19.727273</td>\n",
       "    </tr>\n",
       "    <tr>\n",
       "      <th>3</th>\n",
       "      <td>(1, 2, 3, 4, 2)</td>\n",
       "      <td>True</td>\n",
       "      <td>122.200000</td>\n",
       "      <td>3.499869e+04</td>\n",
       "      <td>19.300000</td>\n",
       "    </tr>\n",
       "    <tr>\n",
       "      <th>34</th>\n",
       "      <td>(3, 1, 2, 4, 5)</td>\n",
       "      <td>True</td>\n",
       "      <td>894.000000</td>\n",
       "      <td>1.163402e+59</td>\n",
       "      <td>20.500000</td>\n",
       "    </tr>\n",
       "    <tr>\n",
       "      <th>7</th>\n",
       "      <td>(1, 2, 3, 4, 4)</td>\n",
       "      <td>True</td>\n",
       "      <td>958.500000</td>\n",
       "      <td>1.873431e+37</td>\n",
       "      <td>19.300000</td>\n",
       "    </tr>\n",
       "    <tr>\n",
       "      <th>38</th>\n",
       "      <td>(3, 2, 4, 1, 5)</td>\n",
       "      <td>True</td>\n",
       "      <td>1089.166667</td>\n",
       "      <td>9.720889e+04</td>\n",
       "      <td>19.000000</td>\n",
       "    </tr>\n",
       "    <tr>\n",
       "      <th>32</th>\n",
       "      <td>(2, 4, 3, 1, 5)</td>\n",
       "      <td>True</td>\n",
       "      <td>1222.571429</td>\n",
       "      <td>4.279266e+05</td>\n",
       "      <td>19.285714</td>\n",
       "    </tr>\n",
       "    <tr>\n",
       "      <th>20</th>\n",
       "      <td>(1, 4, 3, 2, 5)</td>\n",
       "      <td>True</td>\n",
       "      <td>1523.375000</td>\n",
       "      <td>1.993654e+125</td>\n",
       "      <td>19.375000</td>\n",
       "    </tr>\n",
       "    <tr>\n",
       "      <th>50</th>\n",
       "      <td>(4, 3, 1, 2, 5)</td>\n",
       "      <td>True</td>\n",
       "      <td>1687.500000</td>\n",
       "      <td>1.277967e+09</td>\n",
       "      <td>18.666667</td>\n",
       "    </tr>\n",
       "    <tr>\n",
       "      <th>9</th>\n",
       "      <td>(1, 2, 3, 4, 5)</td>\n",
       "      <td>True</td>\n",
       "      <td>1820.333333</td>\n",
       "      <td>3.466783e+20</td>\n",
       "      <td>21.500000</td>\n",
       "    </tr>\n",
       "    <tr>\n",
       "      <th>17</th>\n",
       "      <td>(1, 3, 4, 2, 5)</td>\n",
       "      <td>True</td>\n",
       "      <td>1827.500000</td>\n",
       "      <td>7.501531e+04</td>\n",
       "      <td>19.500000</td>\n",
       "    </tr>\n",
       "    <tr>\n",
       "      <th>26</th>\n",
       "      <td>(2, 3, 1, 4, 5)</td>\n",
       "      <td>True</td>\n",
       "      <td>1943.222222</td>\n",
       "      <td>5.211554e+18</td>\n",
       "      <td>19.888889</td>\n",
       "    </tr>\n",
       "    <tr>\n",
       "      <th>22</th>\n",
       "      <td>(2, 1, 3, 4, 5)</td>\n",
       "      <td>True</td>\n",
       "      <td>2097.800000</td>\n",
       "      <td>3.681372e+111</td>\n",
       "      <td>22.400000</td>\n",
       "    </tr>\n",
       "    <tr>\n",
       "      <th>37</th>\n",
       "      <td>(3, 2, 1, 4, 5)</td>\n",
       "      <td>True</td>\n",
       "      <td>2454.333333</td>\n",
       "      <td>3.042773e+77</td>\n",
       "      <td>20.666667</td>\n",
       "    </tr>\n",
       "    <tr>\n",
       "      <th>11</th>\n",
       "      <td>(1, 2, 3, 4, 6)</td>\n",
       "      <td>True</td>\n",
       "      <td>2550.333333</td>\n",
       "      <td>2.488017e+122</td>\n",
       "      <td>20.166667</td>\n",
       "    </tr>\n",
       "    <tr>\n",
       "      <th>44</th>\n",
       "      <td>(4, 1, 2, 3, 5)</td>\n",
       "      <td>True</td>\n",
       "      <td>2807.500000</td>\n",
       "      <td>8.599064e+04</td>\n",
       "      <td>18.750000</td>\n",
       "    </tr>\n",
       "    <tr>\n",
       "      <th>45</th>\n",
       "      <td>(4, 1, 3, 2, 5)</td>\n",
       "      <td>True</td>\n",
       "      <td>2962.428571</td>\n",
       "      <td>9.671359e+131</td>\n",
       "      <td>18.571429</td>\n",
       "    </tr>\n",
       "    <tr>\n",
       "      <th>28</th>\n",
       "      <td>(2, 3, 4, 1, 5)</td>\n",
       "      <td>True</td>\n",
       "      <td>3064.000000</td>\n",
       "      <td>1.003080e+116</td>\n",
       "      <td>20.000000</td>\n",
       "    </tr>\n",
       "    <tr>\n",
       "      <th>42</th>\n",
       "      <td>(3, 4, 2, 1, 5)</td>\n",
       "      <td>True</td>\n",
       "      <td>3385.666667</td>\n",
       "      <td>3.187479e+35</td>\n",
       "      <td>19.777778</td>\n",
       "    </tr>\n",
       "    <tr>\n",
       "      <th>5</th>\n",
       "      <td>(1, 2, 3, 4, 3)</td>\n",
       "      <td>True</td>\n",
       "      <td>3584.625000</td>\n",
       "      <td>1.585436e+06</td>\n",
       "      <td>20.750000</td>\n",
       "    </tr>\n",
       "    <tr>\n",
       "      <th>48</th>\n",
       "      <td>(4, 2, 3, 1, 5)</td>\n",
       "      <td>True</td>\n",
       "      <td>3584.800000</td>\n",
       "      <td>1.103518e+266</td>\n",
       "      <td>19.000000</td>\n",
       "    </tr>\n",
       "    <tr>\n",
       "      <th>15</th>\n",
       "      <td>(1, 3, 2, 4, 5)</td>\n",
       "      <td>True</td>\n",
       "      <td>3629.800000</td>\n",
       "      <td>1.864469e+161</td>\n",
       "      <td>19.400000</td>\n",
       "    </tr>\n",
       "    <tr>\n",
       "      <th>13</th>\n",
       "      <td>(1, 2, 4, 3, 5)</td>\n",
       "      <td>True</td>\n",
       "      <td>3804.500000</td>\n",
       "      <td>6.770731e+182</td>\n",
       "      <td>20.875000</td>\n",
       "    </tr>\n",
       "    <tr>\n",
       "      <th>52</th>\n",
       "      <td>(4, 3, 2, 1, 5)</td>\n",
       "      <td>True</td>\n",
       "      <td>4690.000000</td>\n",
       "      <td>3.599086e+186</td>\n",
       "      <td>19.000000</td>\n",
       "    </tr>\n",
       "    <tr>\n",
       "      <th>40</th>\n",
       "      <td>(3, 4, 1, 2, 5)</td>\n",
       "      <td>True</td>\n",
       "      <td>4695.285714</td>\n",
       "      <td>2.527464e+99</td>\n",
       "      <td>20.285714</td>\n",
       "    </tr>\n",
       "    <tr>\n",
       "      <th>30</th>\n",
       "      <td>(2, 4, 1, 3, 5)</td>\n",
       "      <td>True</td>\n",
       "      <td>4917.375000</td>\n",
       "      <td>2.710946e+241</td>\n",
       "      <td>19.000000</td>\n",
       "    </tr>\n",
       "    <tr>\n",
       "      <th>47</th>\n",
       "      <td>(4, 2, 1, 3, 5)</td>\n",
       "      <td>True</td>\n",
       "      <td>5061.833333</td>\n",
       "      <td>2.046535e+214</td>\n",
       "      <td>18.333333</td>\n",
       "    </tr>\n",
       "    <tr>\n",
       "      <th>24</th>\n",
       "      <td>(2, 1, 4, 3, 5)</td>\n",
       "      <td>True</td>\n",
       "      <td>5123.750000</td>\n",
       "      <td>8.951434e+227</td>\n",
       "      <td>19.750000</td>\n",
       "    </tr>\n",
       "    <tr>\n",
       "      <th>36</th>\n",
       "      <td>(3, 1, 4, 2, 5)</td>\n",
       "      <td>True</td>\n",
       "      <td>5724.333333</td>\n",
       "      <td>9.765522e+157</td>\n",
       "      <td>20.500000</td>\n",
       "    </tr>\n",
       "  </tbody>\n",
       "</table>\n",
       "</div>"
      ],
      "text/plain": [
       "             values  max_count       Equals            Fit      index\n",
       "19  (1, 4, 2, 3, 5)       True     2.000000   1.384294e+04  18.666667\n",
       "1   (1, 2, 3, 4, 1)       True     2.090909   4.265361e+04  19.727273\n",
       "3   (1, 2, 3, 4, 2)       True   122.200000   3.499869e+04  19.300000\n",
       "34  (3, 1, 2, 4, 5)       True   894.000000   1.163402e+59  20.500000\n",
       "7   (1, 2, 3, 4, 4)       True   958.500000   1.873431e+37  19.300000\n",
       "38  (3, 2, 4, 1, 5)       True  1089.166667   9.720889e+04  19.000000\n",
       "32  (2, 4, 3, 1, 5)       True  1222.571429   4.279266e+05  19.285714\n",
       "20  (1, 4, 3, 2, 5)       True  1523.375000  1.993654e+125  19.375000\n",
       "50  (4, 3, 1, 2, 5)       True  1687.500000   1.277967e+09  18.666667\n",
       "9   (1, 2, 3, 4, 5)       True  1820.333333   3.466783e+20  21.500000\n",
       "17  (1, 3, 4, 2, 5)       True  1827.500000   7.501531e+04  19.500000\n",
       "26  (2, 3, 1, 4, 5)       True  1943.222222   5.211554e+18  19.888889\n",
       "22  (2, 1, 3, 4, 5)       True  2097.800000  3.681372e+111  22.400000\n",
       "37  (3, 2, 1, 4, 5)       True  2454.333333   3.042773e+77  20.666667\n",
       "11  (1, 2, 3, 4, 6)       True  2550.333333  2.488017e+122  20.166667\n",
       "44  (4, 1, 2, 3, 5)       True  2807.500000   8.599064e+04  18.750000\n",
       "45  (4, 1, 3, 2, 5)       True  2962.428571  9.671359e+131  18.571429\n",
       "28  (2, 3, 4, 1, 5)       True  3064.000000  1.003080e+116  20.000000\n",
       "42  (3, 4, 2, 1, 5)       True  3385.666667   3.187479e+35  19.777778\n",
       "5   (1, 2, 3, 4, 3)       True  3584.625000   1.585436e+06  20.750000\n",
       "48  (4, 2, 3, 1, 5)       True  3584.800000  1.103518e+266  19.000000\n",
       "15  (1, 3, 2, 4, 5)       True  3629.800000  1.864469e+161  19.400000\n",
       "13  (1, 2, 4, 3, 5)       True  3804.500000  6.770731e+182  20.875000\n",
       "52  (4, 3, 2, 1, 5)       True  4690.000000  3.599086e+186  19.000000\n",
       "40  (3, 4, 1, 2, 5)       True  4695.285714   2.527464e+99  20.285714\n",
       "30  (2, 4, 1, 3, 5)       True  4917.375000  2.710946e+241  19.000000\n",
       "47  (4, 2, 1, 3, 5)       True  5061.833333  2.046535e+214  18.333333\n",
       "24  (2, 1, 4, 3, 5)       True  5123.750000  8.951434e+227  19.750000\n",
       "36  (3, 1, 4, 2, 5)       True  5724.333333  9.765522e+157  20.500000"
      ]
     },
     "execution_count": 27,
     "metadata": {},
     "output_type": "execute_result"
    }
   ],
   "source": [
    "gdf[gdf[\"max_count\"] == True]"
   ]
  },
  {
   "cell_type": "code",
   "execution_count": 28,
   "metadata": {},
   "outputs": [
    {
     "data": {
      "text/html": [
       "<div>\n",
       "<style scoped>\n",
       "    .dataframe tbody tr th:only-of-type {\n",
       "        vertical-align: middle;\n",
       "    }\n",
       "\n",
       "    .dataframe tbody tr th {\n",
       "        vertical-align: top;\n",
       "    }\n",
       "\n",
       "    .dataframe thead th {\n",
       "        text-align: right;\n",
       "    }\n",
       "</style>\n",
       "<table border=\"1\" class=\"dataframe\">\n",
       "  <thead>\n",
       "    <tr style=\"text-align: right;\">\n",
       "      <th></th>\n",
       "      <th>values</th>\n",
       "      <th>max_count</th>\n",
       "      <th>Equals</th>\n",
       "      <th>Fit</th>\n",
       "      <th>index</th>\n",
       "    </tr>\n",
       "  </thead>\n",
       "  <tbody>\n",
       "    <tr>\n",
       "      <th>19</th>\n",
       "      <td>(1, 4, 2, 3, 5)</td>\n",
       "      <td>True</td>\n",
       "      <td>2.000000</td>\n",
       "      <td>1.384294e+04</td>\n",
       "      <td>18.666667</td>\n",
       "    </tr>\n",
       "    <tr>\n",
       "      <th>1</th>\n",
       "      <td>(1, 2, 3, 4, 1)</td>\n",
       "      <td>True</td>\n",
       "      <td>2.090909</td>\n",
       "      <td>4.265361e+04</td>\n",
       "      <td>19.727273</td>\n",
       "    </tr>\n",
       "    <tr>\n",
       "      <th>3</th>\n",
       "      <td>(1, 2, 3, 4, 2)</td>\n",
       "      <td>True</td>\n",
       "      <td>122.200000</td>\n",
       "      <td>3.499869e+04</td>\n",
       "      <td>19.300000</td>\n",
       "    </tr>\n",
       "    <tr>\n",
       "      <th>7</th>\n",
       "      <td>(1, 2, 3, 4, 4)</td>\n",
       "      <td>True</td>\n",
       "      <td>958.500000</td>\n",
       "      <td>1.873431e+37</td>\n",
       "      <td>19.300000</td>\n",
       "    </tr>\n",
       "    <tr>\n",
       "      <th>20</th>\n",
       "      <td>(1, 4, 3, 2, 5)</td>\n",
       "      <td>True</td>\n",
       "      <td>1523.375000</td>\n",
       "      <td>1.993654e+125</td>\n",
       "      <td>19.375000</td>\n",
       "    </tr>\n",
       "    <tr>\n",
       "      <th>9</th>\n",
       "      <td>(1, 2, 3, 4, 5)</td>\n",
       "      <td>True</td>\n",
       "      <td>1820.333333</td>\n",
       "      <td>3.466783e+20</td>\n",
       "      <td>21.500000</td>\n",
       "    </tr>\n",
       "    <tr>\n",
       "      <th>17</th>\n",
       "      <td>(1, 3, 4, 2, 5)</td>\n",
       "      <td>True</td>\n",
       "      <td>1827.500000</td>\n",
       "      <td>7.501531e+04</td>\n",
       "      <td>19.500000</td>\n",
       "    </tr>\n",
       "    <tr>\n",
       "      <th>11</th>\n",
       "      <td>(1, 2, 3, 4, 6)</td>\n",
       "      <td>True</td>\n",
       "      <td>2550.333333</td>\n",
       "      <td>2.488017e+122</td>\n",
       "      <td>20.166667</td>\n",
       "    </tr>\n",
       "    <tr>\n",
       "      <th>5</th>\n",
       "      <td>(1, 2, 3, 4, 3)</td>\n",
       "      <td>True</td>\n",
       "      <td>3584.625000</td>\n",
       "      <td>1.585436e+06</td>\n",
       "      <td>20.750000</td>\n",
       "    </tr>\n",
       "    <tr>\n",
       "      <th>15</th>\n",
       "      <td>(1, 3, 2, 4, 5)</td>\n",
       "      <td>True</td>\n",
       "      <td>3629.800000</td>\n",
       "      <td>1.864469e+161</td>\n",
       "      <td>19.400000</td>\n",
       "    </tr>\n",
       "    <tr>\n",
       "      <th>13</th>\n",
       "      <td>(1, 2, 4, 3, 5)</td>\n",
       "      <td>True</td>\n",
       "      <td>3804.500000</td>\n",
       "      <td>6.770731e+182</td>\n",
       "      <td>20.875000</td>\n",
       "    </tr>\n",
       "  </tbody>\n",
       "</table>\n",
       "</div>"
      ],
      "text/plain": [
       "             values  max_count       Equals            Fit      index\n",
       "19  (1, 4, 2, 3, 5)       True     2.000000   1.384294e+04  18.666667\n",
       "1   (1, 2, 3, 4, 1)       True     2.090909   4.265361e+04  19.727273\n",
       "3   (1, 2, 3, 4, 2)       True   122.200000   3.499869e+04  19.300000\n",
       "7   (1, 2, 3, 4, 4)       True   958.500000   1.873431e+37  19.300000\n",
       "20  (1, 4, 3, 2, 5)       True  1523.375000  1.993654e+125  19.375000\n",
       "9   (1, 2, 3, 4, 5)       True  1820.333333   3.466783e+20  21.500000\n",
       "17  (1, 3, 4, 2, 5)       True  1827.500000   7.501531e+04  19.500000\n",
       "11  (1, 2, 3, 4, 6)       True  2550.333333  2.488017e+122  20.166667\n",
       "5   (1, 2, 3, 4, 3)       True  3584.625000   1.585436e+06  20.750000\n",
       "15  (1, 3, 2, 4, 5)       True  3629.800000  1.864469e+161  19.400000\n",
       "13  (1, 2, 4, 3, 5)       True  3804.500000  6.770731e+182  20.875000"
      ]
     },
     "execution_count": 28,
     "metadata": {},
     "output_type": "execute_result"
    }
   ],
   "source": [
    "gdf[(gdf[\"max_count\"] == True) & (gdf['values'].apply(lambda tup: tup[0] == 1))]"
   ]
  },
  {
   "cell_type": "code",
   "execution_count": 29,
   "metadata": {},
   "outputs": [
    {
     "data": {
      "text/html": [
       "<div>\n",
       "<style scoped>\n",
       "    .dataframe tbody tr th:only-of-type {\n",
       "        vertical-align: middle;\n",
       "    }\n",
       "\n",
       "    .dataframe tbody tr th {\n",
       "        vertical-align: top;\n",
       "    }\n",
       "\n",
       "    .dataframe thead th {\n",
       "        text-align: right;\n",
       "    }\n",
       "</style>\n",
       "<table border=\"1\" class=\"dataframe\">\n",
       "  <thead>\n",
       "    <tr style=\"text-align: right;\">\n",
       "      <th></th>\n",
       "      <th>values</th>\n",
       "      <th>max_count</th>\n",
       "      <th>Equals</th>\n",
       "      <th>Fit</th>\n",
       "      <th>index</th>\n",
       "    </tr>\n",
       "  </thead>\n",
       "  <tbody>\n",
       "    <tr>\n",
       "      <th>50</th>\n",
       "      <td>(4, 3, 1, 2, 5)</td>\n",
       "      <td>True</td>\n",
       "      <td>1687.500000</td>\n",
       "      <td>1.277967e+09</td>\n",
       "      <td>18.666667</td>\n",
       "    </tr>\n",
       "    <tr>\n",
       "      <th>44</th>\n",
       "      <td>(4, 1, 2, 3, 5)</td>\n",
       "      <td>True</td>\n",
       "      <td>2807.500000</td>\n",
       "      <td>8.599064e+04</td>\n",
       "      <td>18.750000</td>\n",
       "    </tr>\n",
       "    <tr>\n",
       "      <th>45</th>\n",
       "      <td>(4, 1, 3, 2, 5)</td>\n",
       "      <td>True</td>\n",
       "      <td>2962.428571</td>\n",
       "      <td>9.671359e+131</td>\n",
       "      <td>18.571429</td>\n",
       "    </tr>\n",
       "    <tr>\n",
       "      <th>48</th>\n",
       "      <td>(4, 2, 3, 1, 5)</td>\n",
       "      <td>True</td>\n",
       "      <td>3584.800000</td>\n",
       "      <td>1.103518e+266</td>\n",
       "      <td>19.000000</td>\n",
       "    </tr>\n",
       "    <tr>\n",
       "      <th>52</th>\n",
       "      <td>(4, 3, 2, 1, 5)</td>\n",
       "      <td>True</td>\n",
       "      <td>4690.000000</td>\n",
       "      <td>3.599086e+186</td>\n",
       "      <td>19.000000</td>\n",
       "    </tr>\n",
       "    <tr>\n",
       "      <th>47</th>\n",
       "      <td>(4, 2, 1, 3, 5)</td>\n",
       "      <td>True</td>\n",
       "      <td>5061.833333</td>\n",
       "      <td>2.046535e+214</td>\n",
       "      <td>18.333333</td>\n",
       "    </tr>\n",
       "  </tbody>\n",
       "</table>\n",
       "</div>"
      ],
      "text/plain": [
       "             values  max_count       Equals            Fit      index\n",
       "50  (4, 3, 1, 2, 5)       True  1687.500000   1.277967e+09  18.666667\n",
       "44  (4, 1, 2, 3, 5)       True  2807.500000   8.599064e+04  18.750000\n",
       "45  (4, 1, 3, 2, 5)       True  2962.428571  9.671359e+131  18.571429\n",
       "48  (4, 2, 3, 1, 5)       True  3584.800000  1.103518e+266  19.000000\n",
       "52  (4, 3, 2, 1, 5)       True  4690.000000  3.599086e+186  19.000000\n",
       "47  (4, 2, 1, 3, 5)       True  5061.833333  2.046535e+214  18.333333"
      ]
     },
     "execution_count": 29,
     "metadata": {},
     "output_type": "execute_result"
    }
   ],
   "source": [
    "gdf[(gdf[\"max_count\"] == True) & (gdf['values'].apply(lambda tup: tup[0] == 4))]"
   ]
  },
  {
   "cell_type": "code",
   "execution_count": 30,
   "metadata": {},
   "outputs": [
    {
     "data": {
      "text/html": [
       "<div>\n",
       "<style scoped>\n",
       "    .dataframe tbody tr th:only-of-type {\n",
       "        vertical-align: middle;\n",
       "    }\n",
       "\n",
       "    .dataframe tbody tr th {\n",
       "        vertical-align: top;\n",
       "    }\n",
       "\n",
       "    .dataframe thead th {\n",
       "        text-align: right;\n",
       "    }\n",
       "</style>\n",
       "<table border=\"1\" class=\"dataframe\">\n",
       "  <thead>\n",
       "    <tr style=\"text-align: right;\">\n",
       "      <th></th>\n",
       "      <th>values</th>\n",
       "      <th>max_count</th>\n",
       "      <th>Equals</th>\n",
       "      <th>Fit</th>\n",
       "      <th>index</th>\n",
       "      <th>filename</th>\n",
       "    </tr>\n",
       "  </thead>\n",
       "  <tbody>\n",
       "    <tr>\n",
       "      <th>577</th>\n",
       "      <td>(4, 1, 2, 3, 5)</td>\n",
       "      <td>True</td>\n",
       "      <td>0</td>\n",
       "      <td>2.624929e+04</td>\n",
       "      <td>14</td>\n",
       "      <td>14_mxc_0_[4, 1, 2, 3, 5]_date_04-18_03-42-57_x...</td>\n",
       "    </tr>\n",
       "    <tr>\n",
       "      <th>134</th>\n",
       "      <td>(4, 1, 2, 3, 5)</td>\n",
       "      <td>True</td>\n",
       "      <td>0</td>\n",
       "      <td>8.989186e+03</td>\n",
       "      <td>20</td>\n",
       "      <td>20_mxc_0_[4, 1, 2, 3, 5]_date_04-21_19-08-19_x...</td>\n",
       "    </tr>\n",
       "    <tr>\n",
       "      <th>353</th>\n",
       "      <td>(4, 1, 2, 3, 5)</td>\n",
       "      <td>True</td>\n",
       "      <td>11230</td>\n",
       "      <td>1.299495e+05</td>\n",
       "      <td>19</td>\n",
       "      <td>19_mxc_0_[4, 1, 2, 3, 5]_date_04-21_01-28-48_x...</td>\n",
       "    </tr>\n",
       "    <tr>\n",
       "      <th>145</th>\n",
       "      <td>(4, 1, 2, 3, 5)</td>\n",
       "      <td>True</td>\n",
       "      <td>0</td>\n",
       "      <td>1.787746e+05</td>\n",
       "      <td>22</td>\n",
       "      <td>22_mxc_0_[4, 1, 2, 3, 5]_date_04-23_07-12-08_x...</td>\n",
       "    </tr>\n",
       "    <tr>\n",
       "      <th>337</th>\n",
       "      <td>(4, 1, 2, 3, 5)</td>\n",
       "      <td>False</td>\n",
       "      <td>0</td>\n",
       "      <td>1.331295e+102</td>\n",
       "      <td>16</td>\n",
       "      <td>16_mxc_-1_[4, 1, 2, 3, 5]_date_04-19_08-42-57_...</td>\n",
       "    </tr>\n",
       "  </tbody>\n",
       "</table>\n",
       "</div>"
      ],
      "text/plain": [
       "              values  max_count  Equals            Fit  index  \\\n",
       "577  (4, 1, 2, 3, 5)       True       0   2.624929e+04     14   \n",
       "134  (4, 1, 2, 3, 5)       True       0   8.989186e+03     20   \n",
       "353  (4, 1, 2, 3, 5)       True   11230   1.299495e+05     19   \n",
       "145  (4, 1, 2, 3, 5)       True       0   1.787746e+05     22   \n",
       "337  (4, 1, 2, 3, 5)      False       0  1.331295e+102     16   \n",
       "\n",
       "                                              filename  \n",
       "577  14_mxc_0_[4, 1, 2, 3, 5]_date_04-18_03-42-57_x...  \n",
       "134  20_mxc_0_[4, 1, 2, 3, 5]_date_04-21_19-08-19_x...  \n",
       "353  19_mxc_0_[4, 1, 2, 3, 5]_date_04-21_01-28-48_x...  \n",
       "145  22_mxc_0_[4, 1, 2, 3, 5]_date_04-23_07-12-08_x...  \n",
       "337  16_mxc_-1_[4, 1, 2, 3, 5]_date_04-19_08-42-57_...  "
      ]
     },
     "execution_count": 30,
     "metadata": {},
     "output_type": "execute_result"
    }
   ],
   "source": [
    "fdf[fdf[\"values\"] == (4, 1, 2, 3, 5)]"
   ]
  },
  {
   "cell_type": "code",
   "execution_count": 31,
   "metadata": {},
   "outputs": [],
   "source": [
    "fname = fdf[fdf[\"values\"] == (4, 1, 2, 3, 5)][\"filename\"].iloc[0]"
   ]
  },
  {
   "cell_type": "code",
   "execution_count": 32,
   "metadata": {},
   "outputs": [
    {
     "data": {
      "application/vnd.plotly.v1+json": {
       "config": {
        "plotlyServerURL": "https://plot.ly"
       },
       "data": [
        {
         "mode": "lines",
         "name": "Fit",
         "type": "scatter",
         "x": [
          0,
          100,
          200,
          300,
          400,
          500,
          600,
          700,
          800,
          900,
          1000,
          1100,
          1200,
          1300,
          1400,
          1500,
          1600,
          1700,
          1800,
          1900,
          2000,
          2100,
          2200,
          2300,
          2400,
          2500,
          2600,
          2700,
          2800,
          2900,
          3000,
          3100,
          3200,
          3300,
          3400,
          3500,
          3600,
          3700,
          3800,
          3900,
          4000,
          4100,
          4200,
          4300,
          4400,
          4500,
          4600,
          4700,
          4800,
          4900,
          5000,
          5100,
          5200,
          5300,
          5400,
          5500,
          5600,
          5700,
          5800,
          5900,
          6000,
          6100,
          6200,
          6300,
          6400,
          6500,
          6600,
          6700,
          6800,
          6900,
          7000,
          7100,
          7200,
          7300,
          7400,
          7500,
          7600,
          7700,
          7800,
          7900,
          8000,
          8100,
          8200,
          8300,
          8400,
          8500,
          8600,
          8700,
          8800,
          8900,
          9000,
          9100,
          9200,
          9300,
          9400,
          9500,
          9600,
          9700,
          9800,
          9900,
          10000
         ],
         "y": [
          0,
          0.2502702,
          0.2470117,
          0.2468773,
          0.2463832,
          0.8326384,
          2.386783,
          22.56082,
          32.27998,
          38.01755,
          41.34615,
          44.95771,
          49.90608,
          58.00781,
          72.20067,
          86.72576,
          105.8545,
          123.6313,
          137.2594,
          157.613,
          170.9692,
          182.1156,
          194.4011,
          213.914,
          246.9487,
          295.9598,
          381.3087,
          463.4714,
          569.6348,
          683.5718,
          806.9821,
          930.2891,
          1151.368,
          1481.75,
          1954.414,
          2401.628,
          2731.472,
          3130.023,
          3500.029,
          3900.225,
          4344.508,
          4754.604,
          5261.459,
          5644.388,
          6032.731,
          6546.785,
          6922.697,
          7219.156,
          7723.158,
          7882.315,
          8365.835,
          8684.815,
          8796.019,
          9037.636,
          9299.656,
          9580.043,
          9686.554,
          9804.352,
          10018.6,
          10227.47,
          10219.34,
          10482.25,
          10644.01,
          10609.86,
          10791.34,
          10667.72,
          10848.76,
          10973.7,
          11064.87,
          11174.86,
          11386.65,
          11285.04,
          11560.6,
          11927.5,
          12146.65,
          12583.08,
          12894.77,
          13224.32,
          13611.66,
          14315,
          15068.51,
          15369.41,
          16198.02,
          16930.24,
          17542.31,
          18083.41,
          18991.91,
          19685.4,
          20714.34,
          21179.24,
          21791.82,
          22998.83,
          23297.44,
          23792.05,
          24329.53,
          25065.31,
          25340.32,
          25433.44,
          26177.4,
          25997.6,
          26249.29
         ]
        }
       ],
       "layout": {
        "autosize": false,
        "height": 600,
        "margin": {
         "b": 20,
         "l": 20,
         "r": 20,
         "t": 40
        },
        "template": {
         "data": {
          "bar": [
           {
            "error_x": {
             "color": "#2a3f5f"
            },
            "error_y": {
             "color": "#2a3f5f"
            },
            "marker": {
             "line": {
              "color": "#E5ECF6",
              "width": 0.5
             },
             "pattern": {
              "fillmode": "overlay",
              "size": 10,
              "solidity": 0.2
             }
            },
            "type": "bar"
           }
          ],
          "barpolar": [
           {
            "marker": {
             "line": {
              "color": "#E5ECF6",
              "width": 0.5
             },
             "pattern": {
              "fillmode": "overlay",
              "size": 10,
              "solidity": 0.2
             }
            },
            "type": "barpolar"
           }
          ],
          "carpet": [
           {
            "aaxis": {
             "endlinecolor": "#2a3f5f",
             "gridcolor": "white",
             "linecolor": "white",
             "minorgridcolor": "white",
             "startlinecolor": "#2a3f5f"
            },
            "baxis": {
             "endlinecolor": "#2a3f5f",
             "gridcolor": "white",
             "linecolor": "white",
             "minorgridcolor": "white",
             "startlinecolor": "#2a3f5f"
            },
            "type": "carpet"
           }
          ],
          "choropleth": [
           {
            "colorbar": {
             "outlinewidth": 0,
             "ticks": ""
            },
            "type": "choropleth"
           }
          ],
          "contour": [
           {
            "colorbar": {
             "outlinewidth": 0,
             "ticks": ""
            },
            "colorscale": [
             [
              0,
              "#0d0887"
             ],
             [
              0.1111111111111111,
              "#46039f"
             ],
             [
              0.2222222222222222,
              "#7201a8"
             ],
             [
              0.3333333333333333,
              "#9c179e"
             ],
             [
              0.4444444444444444,
              "#bd3786"
             ],
             [
              0.5555555555555556,
              "#d8576b"
             ],
             [
              0.6666666666666666,
              "#ed7953"
             ],
             [
              0.7777777777777778,
              "#fb9f3a"
             ],
             [
              0.8888888888888888,
              "#fdca26"
             ],
             [
              1,
              "#f0f921"
             ]
            ],
            "type": "contour"
           }
          ],
          "contourcarpet": [
           {
            "colorbar": {
             "outlinewidth": 0,
             "ticks": ""
            },
            "type": "contourcarpet"
           }
          ],
          "heatmap": [
           {
            "colorbar": {
             "outlinewidth": 0,
             "ticks": ""
            },
            "colorscale": [
             [
              0,
              "#0d0887"
             ],
             [
              0.1111111111111111,
              "#46039f"
             ],
             [
              0.2222222222222222,
              "#7201a8"
             ],
             [
              0.3333333333333333,
              "#9c179e"
             ],
             [
              0.4444444444444444,
              "#bd3786"
             ],
             [
              0.5555555555555556,
              "#d8576b"
             ],
             [
              0.6666666666666666,
              "#ed7953"
             ],
             [
              0.7777777777777778,
              "#fb9f3a"
             ],
             [
              0.8888888888888888,
              "#fdca26"
             ],
             [
              1,
              "#f0f921"
             ]
            ],
            "type": "heatmap"
           }
          ],
          "heatmapgl": [
           {
            "colorbar": {
             "outlinewidth": 0,
             "ticks": ""
            },
            "colorscale": [
             [
              0,
              "#0d0887"
             ],
             [
              0.1111111111111111,
              "#46039f"
             ],
             [
              0.2222222222222222,
              "#7201a8"
             ],
             [
              0.3333333333333333,
              "#9c179e"
             ],
             [
              0.4444444444444444,
              "#bd3786"
             ],
             [
              0.5555555555555556,
              "#d8576b"
             ],
             [
              0.6666666666666666,
              "#ed7953"
             ],
             [
              0.7777777777777778,
              "#fb9f3a"
             ],
             [
              0.8888888888888888,
              "#fdca26"
             ],
             [
              1,
              "#f0f921"
             ]
            ],
            "type": "heatmapgl"
           }
          ],
          "histogram": [
           {
            "marker": {
             "pattern": {
              "fillmode": "overlay",
              "size": 10,
              "solidity": 0.2
             }
            },
            "type": "histogram"
           }
          ],
          "histogram2d": [
           {
            "colorbar": {
             "outlinewidth": 0,
             "ticks": ""
            },
            "colorscale": [
             [
              0,
              "#0d0887"
             ],
             [
              0.1111111111111111,
              "#46039f"
             ],
             [
              0.2222222222222222,
              "#7201a8"
             ],
             [
              0.3333333333333333,
              "#9c179e"
             ],
             [
              0.4444444444444444,
              "#bd3786"
             ],
             [
              0.5555555555555556,
              "#d8576b"
             ],
             [
              0.6666666666666666,
              "#ed7953"
             ],
             [
              0.7777777777777778,
              "#fb9f3a"
             ],
             [
              0.8888888888888888,
              "#fdca26"
             ],
             [
              1,
              "#f0f921"
             ]
            ],
            "type": "histogram2d"
           }
          ],
          "histogram2dcontour": [
           {
            "colorbar": {
             "outlinewidth": 0,
             "ticks": ""
            },
            "colorscale": [
             [
              0,
              "#0d0887"
             ],
             [
              0.1111111111111111,
              "#46039f"
             ],
             [
              0.2222222222222222,
              "#7201a8"
             ],
             [
              0.3333333333333333,
              "#9c179e"
             ],
             [
              0.4444444444444444,
              "#bd3786"
             ],
             [
              0.5555555555555556,
              "#d8576b"
             ],
             [
              0.6666666666666666,
              "#ed7953"
             ],
             [
              0.7777777777777778,
              "#fb9f3a"
             ],
             [
              0.8888888888888888,
              "#fdca26"
             ],
             [
              1,
              "#f0f921"
             ]
            ],
            "type": "histogram2dcontour"
           }
          ],
          "mesh3d": [
           {
            "colorbar": {
             "outlinewidth": 0,
             "ticks": ""
            },
            "type": "mesh3d"
           }
          ],
          "parcoords": [
           {
            "line": {
             "colorbar": {
              "outlinewidth": 0,
              "ticks": ""
             }
            },
            "type": "parcoords"
           }
          ],
          "pie": [
           {
            "automargin": true,
            "type": "pie"
           }
          ],
          "scatter": [
           {
            "fillpattern": {
             "fillmode": "overlay",
             "size": 10,
             "solidity": 0.2
            },
            "type": "scatter"
           }
          ],
          "scatter3d": [
           {
            "line": {
             "colorbar": {
              "outlinewidth": 0,
              "ticks": ""
             }
            },
            "marker": {
             "colorbar": {
              "outlinewidth": 0,
              "ticks": ""
             }
            },
            "type": "scatter3d"
           }
          ],
          "scattercarpet": [
           {
            "marker": {
             "colorbar": {
              "outlinewidth": 0,
              "ticks": ""
             }
            },
            "type": "scattercarpet"
           }
          ],
          "scattergeo": [
           {
            "marker": {
             "colorbar": {
              "outlinewidth": 0,
              "ticks": ""
             }
            },
            "type": "scattergeo"
           }
          ],
          "scattergl": [
           {
            "marker": {
             "colorbar": {
              "outlinewidth": 0,
              "ticks": ""
             }
            },
            "type": "scattergl"
           }
          ],
          "scattermapbox": [
           {
            "marker": {
             "colorbar": {
              "outlinewidth": 0,
              "ticks": ""
             }
            },
            "type": "scattermapbox"
           }
          ],
          "scatterpolar": [
           {
            "marker": {
             "colorbar": {
              "outlinewidth": 0,
              "ticks": ""
             }
            },
            "type": "scatterpolar"
           }
          ],
          "scatterpolargl": [
           {
            "marker": {
             "colorbar": {
              "outlinewidth": 0,
              "ticks": ""
             }
            },
            "type": "scatterpolargl"
           }
          ],
          "scatterternary": [
           {
            "marker": {
             "colorbar": {
              "outlinewidth": 0,
              "ticks": ""
             }
            },
            "type": "scatterternary"
           }
          ],
          "surface": [
           {
            "colorbar": {
             "outlinewidth": 0,
             "ticks": ""
            },
            "colorscale": [
             [
              0,
              "#0d0887"
             ],
             [
              0.1111111111111111,
              "#46039f"
             ],
             [
              0.2222222222222222,
              "#7201a8"
             ],
             [
              0.3333333333333333,
              "#9c179e"
             ],
             [
              0.4444444444444444,
              "#bd3786"
             ],
             [
              0.5555555555555556,
              "#d8576b"
             ],
             [
              0.6666666666666666,
              "#ed7953"
             ],
             [
              0.7777777777777778,
              "#fb9f3a"
             ],
             [
              0.8888888888888888,
              "#fdca26"
             ],
             [
              1,
              "#f0f921"
             ]
            ],
            "type": "surface"
           }
          ],
          "table": [
           {
            "cells": {
             "fill": {
              "color": "#EBF0F8"
             },
             "line": {
              "color": "white"
             }
            },
            "header": {
             "fill": {
              "color": "#C8D4E3"
             },
             "line": {
              "color": "white"
             }
            },
            "type": "table"
           }
          ]
         },
         "layout": {
          "annotationdefaults": {
           "arrowcolor": "#2a3f5f",
           "arrowhead": 0,
           "arrowwidth": 1
          },
          "autotypenumbers": "strict",
          "coloraxis": {
           "colorbar": {
            "outlinewidth": 0,
            "ticks": ""
           }
          },
          "colorscale": {
           "diverging": [
            [
             0,
             "#8e0152"
            ],
            [
             0.1,
             "#c51b7d"
            ],
            [
             0.2,
             "#de77ae"
            ],
            [
             0.3,
             "#f1b6da"
            ],
            [
             0.4,
             "#fde0ef"
            ],
            [
             0.5,
             "#f7f7f7"
            ],
            [
             0.6,
             "#e6f5d0"
            ],
            [
             0.7,
             "#b8e186"
            ],
            [
             0.8,
             "#7fbc41"
            ],
            [
             0.9,
             "#4d9221"
            ],
            [
             1,
             "#276419"
            ]
           ],
           "sequential": [
            [
             0,
             "#0d0887"
            ],
            [
             0.1111111111111111,
             "#46039f"
            ],
            [
             0.2222222222222222,
             "#7201a8"
            ],
            [
             0.3333333333333333,
             "#9c179e"
            ],
            [
             0.4444444444444444,
             "#bd3786"
            ],
            [
             0.5555555555555556,
             "#d8576b"
            ],
            [
             0.6666666666666666,
             "#ed7953"
            ],
            [
             0.7777777777777778,
             "#fb9f3a"
            ],
            [
             0.8888888888888888,
             "#fdca26"
            ],
            [
             1,
             "#f0f921"
            ]
           ],
           "sequentialminus": [
            [
             0,
             "#0d0887"
            ],
            [
             0.1111111111111111,
             "#46039f"
            ],
            [
             0.2222222222222222,
             "#7201a8"
            ],
            [
             0.3333333333333333,
             "#9c179e"
            ],
            [
             0.4444444444444444,
             "#bd3786"
            ],
            [
             0.5555555555555556,
             "#d8576b"
            ],
            [
             0.6666666666666666,
             "#ed7953"
            ],
            [
             0.7777777777777778,
             "#fb9f3a"
            ],
            [
             0.8888888888888888,
             "#fdca26"
            ],
            [
             1,
             "#f0f921"
            ]
           ]
          },
          "colorway": [
           "#636efa",
           "#EF553B",
           "#00cc96",
           "#ab63fa",
           "#FFA15A",
           "#19d3f3",
           "#FF6692",
           "#B6E880",
           "#FF97FF",
           "#FECB52"
          ],
          "font": {
           "color": "#2a3f5f"
          },
          "geo": {
           "bgcolor": "white",
           "lakecolor": "white",
           "landcolor": "#E5ECF6",
           "showlakes": true,
           "showland": true,
           "subunitcolor": "white"
          },
          "hoverlabel": {
           "align": "left"
          },
          "hovermode": "closest",
          "mapbox": {
           "style": "light"
          },
          "paper_bgcolor": "white",
          "plot_bgcolor": "#E5ECF6",
          "polar": {
           "angularaxis": {
            "gridcolor": "white",
            "linecolor": "white",
            "ticks": ""
           },
           "bgcolor": "#E5ECF6",
           "radialaxis": {
            "gridcolor": "white",
            "linecolor": "white",
            "ticks": ""
           }
          },
          "scene": {
           "xaxis": {
            "backgroundcolor": "#E5ECF6",
            "gridcolor": "white",
            "gridwidth": 2,
            "linecolor": "white",
            "showbackground": true,
            "ticks": "",
            "zerolinecolor": "white"
           },
           "yaxis": {
            "backgroundcolor": "#E5ECF6",
            "gridcolor": "white",
            "gridwidth": 2,
            "linecolor": "white",
            "showbackground": true,
            "ticks": "",
            "zerolinecolor": "white"
           },
           "zaxis": {
            "backgroundcolor": "#E5ECF6",
            "gridcolor": "white",
            "gridwidth": 2,
            "linecolor": "white",
            "showbackground": true,
            "ticks": "",
            "zerolinecolor": "white"
           }
          },
          "shapedefaults": {
           "line": {
            "color": "#2a3f5f"
           }
          },
          "ternary": {
           "aaxis": {
            "gridcolor": "white",
            "linecolor": "white",
            "ticks": ""
           },
           "baxis": {
            "gridcolor": "white",
            "linecolor": "white",
            "ticks": ""
           },
           "bgcolor": "#E5ECF6",
           "caxis": {
            "gridcolor": "white",
            "linecolor": "white",
            "ticks": ""
           }
          },
          "title": {
           "x": 0.05
          },
          "xaxis": {
           "automargin": true,
           "gridcolor": "white",
           "linecolor": "white",
           "ticks": "",
           "title": {
            "standoff": 15
           },
           "zerolinecolor": "white",
           "zerolinewidth": 2
          },
          "yaxis": {
           "automargin": true,
           "gridcolor": "white",
           "linecolor": "white",
           "ticks": "",
           "title": {
            "standoff": 15
           },
           "zerolinecolor": "white",
           "zerolinewidth": 2
          }
         }
        },
        "title": {
         "text": "Average Fitness over Time"
        },
        "width": 800,
        "xaxis": {
         "title": {
          "text": "# of updates"
         }
        },
        "yaxis": {
         "title": {
          "text": "average fitness"
         },
         "type": "log"
        }
       }
      }
     },
     "metadata": {},
     "output_type": "display_data"
    }
   ],
   "source": [
    "plot_graph(file_name=dir_path + \"/\" + fname)"
   ]
  },
  {
   "cell_type": "code",
   "execution_count": 33,
   "metadata": {},
   "outputs": [],
   "source": [
    "def plot_vals(vals, max_count, log_y = True, i = 0):\n",
    "    fname = fdf[(fdf[\"values\"] == vals) & (fdf[\"max_count\"] == max_count)][\"filename\"].iloc[i]\n",
    "    plot_graph(file_name=dir_path + \"/\" + fname, title=f\"\"\"Average Fitness over Time for Reward Configuration {vals} with Max-Count {'On' if max_count else 'Off'}\"\"\", log_y=log_y)"
   ]
  },
  {
   "cell_type": "code",
   "execution_count": 34,
   "metadata": {},
   "outputs": [
    {
     "data": {
      "application/vnd.plotly.v1+json": {
       "config": {
        "plotlyServerURL": "https://plot.ly"
       },
       "data": [
        {
         "mode": "lines",
         "name": "Fit",
         "type": "scatter",
         "x": [
          0,
          100,
          200,
          300,
          400,
          500,
          600,
          700,
          800,
          900,
          1000,
          1100,
          1200,
          1300,
          1400,
          1500,
          1600,
          1700,
          1800,
          1900,
          2000,
          2100,
          2200,
          2300,
          2400,
          2500,
          2600,
          2700,
          2800,
          2900,
          3000,
          3100,
          3200,
          3300,
          3400,
          3500,
          3600,
          3700,
          3800,
          3900,
          4000,
          4100,
          4200,
          4300,
          4400,
          4500,
          4600,
          4700,
          4800,
          4900,
          5000,
          5100,
          5200,
          5300,
          5400,
          5500,
          5600,
          5700,
          5800,
          5900,
          6000,
          6100,
          6200,
          6300,
          6400,
          6500,
          6600,
          6700,
          6800,
          6900,
          7000,
          7100,
          7200,
          7300,
          7400,
          7500,
          7600,
          7700,
          7800,
          7900,
          8000,
          8100,
          8200,
          8300,
          8400,
          8500,
          8600,
          8700,
          8800,
          8900,
          9000,
          9100,
          9200,
          9300,
          9400,
          9500,
          9600,
          9700,
          9800,
          9900,
          10000
         ],
         "y": [
          0,
          0.2406465,
          0.2410075,
          0.2413069,
          0.2435274,
          0.2457916,
          0.2484257,
          0.2494749,
          0.2518432,
          0.2602645,
          0.3403542,
          0.6796658,
          2.007809,
          5.502728,
          10.46282,
          25.65746,
          370.3248,
          757.3005,
          1099.883,
          1417.368,
          1702.318,
          1964.162,
          2198.296,
          2313.564,
          2456.882,
          2488.39,
          2604.517,
          2700.648,
          2722.133,
          2727.459,
          2773.532,
          2737.004,
          2749.098,
          2764.129,
          2738.531,
          2763.858,
          2779.324,
          2810.62,
          2827.669,
          2761.278,
          2834.241,
          2986.04,
          3210.41,
          3611.15,
          4047.46,
          4561.57,
          5194.687,
          5713.594,
          6199.633,
          6733.736,
          7439.081,
          7855.029,
          8501.824,
          8739.275,
          9325.378,
          9734.719,
          9928.59,
          9938.77,
          10167.42,
          10394.65,
          10494.22,
          10597.2,
          10459.23,
          10674.27,
          10716.1,
          10813.61,
          10763.94,
          10843.39,
          10833.06,
          10928.12,
          10989.36,
          10965.32,
          11124.19,
          11236.09,
          11204.21,
          11395.09,
          11505.16,
          11637.77,
          11778.23,
          12082.9,
          11900.24,
          12138.27,
          12545.91,
          12606.68,
          12713.12,
          12669.33,
          12929.61,
          12930.86,
          13197.09,
          13102.46,
          13534.76,
          13592.08,
          13490.31,
          13521.5,
          13626.25,
          13858.45,
          14093.85,
          14253.44,
          14161.68,
          14354.7,
          14368.27
         ]
        }
       ],
       "layout": {
        "autosize": false,
        "height": 600,
        "margin": {
         "b": 20,
         "l": 20,
         "r": 20,
         "t": 40
        },
        "template": {
         "data": {
          "bar": [
           {
            "error_x": {
             "color": "#2a3f5f"
            },
            "error_y": {
             "color": "#2a3f5f"
            },
            "marker": {
             "line": {
              "color": "#E5ECF6",
              "width": 0.5
             },
             "pattern": {
              "fillmode": "overlay",
              "size": 10,
              "solidity": 0.2
             }
            },
            "type": "bar"
           }
          ],
          "barpolar": [
           {
            "marker": {
             "line": {
              "color": "#E5ECF6",
              "width": 0.5
             },
             "pattern": {
              "fillmode": "overlay",
              "size": 10,
              "solidity": 0.2
             }
            },
            "type": "barpolar"
           }
          ],
          "carpet": [
           {
            "aaxis": {
             "endlinecolor": "#2a3f5f",
             "gridcolor": "white",
             "linecolor": "white",
             "minorgridcolor": "white",
             "startlinecolor": "#2a3f5f"
            },
            "baxis": {
             "endlinecolor": "#2a3f5f",
             "gridcolor": "white",
             "linecolor": "white",
             "minorgridcolor": "white",
             "startlinecolor": "#2a3f5f"
            },
            "type": "carpet"
           }
          ],
          "choropleth": [
           {
            "colorbar": {
             "outlinewidth": 0,
             "ticks": ""
            },
            "type": "choropleth"
           }
          ],
          "contour": [
           {
            "colorbar": {
             "outlinewidth": 0,
             "ticks": ""
            },
            "colorscale": [
             [
              0,
              "#0d0887"
             ],
             [
              0.1111111111111111,
              "#46039f"
             ],
             [
              0.2222222222222222,
              "#7201a8"
             ],
             [
              0.3333333333333333,
              "#9c179e"
             ],
             [
              0.4444444444444444,
              "#bd3786"
             ],
             [
              0.5555555555555556,
              "#d8576b"
             ],
             [
              0.6666666666666666,
              "#ed7953"
             ],
             [
              0.7777777777777778,
              "#fb9f3a"
             ],
             [
              0.8888888888888888,
              "#fdca26"
             ],
             [
              1,
              "#f0f921"
             ]
            ],
            "type": "contour"
           }
          ],
          "contourcarpet": [
           {
            "colorbar": {
             "outlinewidth": 0,
             "ticks": ""
            },
            "type": "contourcarpet"
           }
          ],
          "heatmap": [
           {
            "colorbar": {
             "outlinewidth": 0,
             "ticks": ""
            },
            "colorscale": [
             [
              0,
              "#0d0887"
             ],
             [
              0.1111111111111111,
              "#46039f"
             ],
             [
              0.2222222222222222,
              "#7201a8"
             ],
             [
              0.3333333333333333,
              "#9c179e"
             ],
             [
              0.4444444444444444,
              "#bd3786"
             ],
             [
              0.5555555555555556,
              "#d8576b"
             ],
             [
              0.6666666666666666,
              "#ed7953"
             ],
             [
              0.7777777777777778,
              "#fb9f3a"
             ],
             [
              0.8888888888888888,
              "#fdca26"
             ],
             [
              1,
              "#f0f921"
             ]
            ],
            "type": "heatmap"
           }
          ],
          "heatmapgl": [
           {
            "colorbar": {
             "outlinewidth": 0,
             "ticks": ""
            },
            "colorscale": [
             [
              0,
              "#0d0887"
             ],
             [
              0.1111111111111111,
              "#46039f"
             ],
             [
              0.2222222222222222,
              "#7201a8"
             ],
             [
              0.3333333333333333,
              "#9c179e"
             ],
             [
              0.4444444444444444,
              "#bd3786"
             ],
             [
              0.5555555555555556,
              "#d8576b"
             ],
             [
              0.6666666666666666,
              "#ed7953"
             ],
             [
              0.7777777777777778,
              "#fb9f3a"
             ],
             [
              0.8888888888888888,
              "#fdca26"
             ],
             [
              1,
              "#f0f921"
             ]
            ],
            "type": "heatmapgl"
           }
          ],
          "histogram": [
           {
            "marker": {
             "pattern": {
              "fillmode": "overlay",
              "size": 10,
              "solidity": 0.2
             }
            },
            "type": "histogram"
           }
          ],
          "histogram2d": [
           {
            "colorbar": {
             "outlinewidth": 0,
             "ticks": ""
            },
            "colorscale": [
             [
              0,
              "#0d0887"
             ],
             [
              0.1111111111111111,
              "#46039f"
             ],
             [
              0.2222222222222222,
              "#7201a8"
             ],
             [
              0.3333333333333333,
              "#9c179e"
             ],
             [
              0.4444444444444444,
              "#bd3786"
             ],
             [
              0.5555555555555556,
              "#d8576b"
             ],
             [
              0.6666666666666666,
              "#ed7953"
             ],
             [
              0.7777777777777778,
              "#fb9f3a"
             ],
             [
              0.8888888888888888,
              "#fdca26"
             ],
             [
              1,
              "#f0f921"
             ]
            ],
            "type": "histogram2d"
           }
          ],
          "histogram2dcontour": [
           {
            "colorbar": {
             "outlinewidth": 0,
             "ticks": ""
            },
            "colorscale": [
             [
              0,
              "#0d0887"
             ],
             [
              0.1111111111111111,
              "#46039f"
             ],
             [
              0.2222222222222222,
              "#7201a8"
             ],
             [
              0.3333333333333333,
              "#9c179e"
             ],
             [
              0.4444444444444444,
              "#bd3786"
             ],
             [
              0.5555555555555556,
              "#d8576b"
             ],
             [
              0.6666666666666666,
              "#ed7953"
             ],
             [
              0.7777777777777778,
              "#fb9f3a"
             ],
             [
              0.8888888888888888,
              "#fdca26"
             ],
             [
              1,
              "#f0f921"
             ]
            ],
            "type": "histogram2dcontour"
           }
          ],
          "mesh3d": [
           {
            "colorbar": {
             "outlinewidth": 0,
             "ticks": ""
            },
            "type": "mesh3d"
           }
          ],
          "parcoords": [
           {
            "line": {
             "colorbar": {
              "outlinewidth": 0,
              "ticks": ""
             }
            },
            "type": "parcoords"
           }
          ],
          "pie": [
           {
            "automargin": true,
            "type": "pie"
           }
          ],
          "scatter": [
           {
            "fillpattern": {
             "fillmode": "overlay",
             "size": 10,
             "solidity": 0.2
            },
            "type": "scatter"
           }
          ],
          "scatter3d": [
           {
            "line": {
             "colorbar": {
              "outlinewidth": 0,
              "ticks": ""
             }
            },
            "marker": {
             "colorbar": {
              "outlinewidth": 0,
              "ticks": ""
             }
            },
            "type": "scatter3d"
           }
          ],
          "scattercarpet": [
           {
            "marker": {
             "colorbar": {
              "outlinewidth": 0,
              "ticks": ""
             }
            },
            "type": "scattercarpet"
           }
          ],
          "scattergeo": [
           {
            "marker": {
             "colorbar": {
              "outlinewidth": 0,
              "ticks": ""
             }
            },
            "type": "scattergeo"
           }
          ],
          "scattergl": [
           {
            "marker": {
             "colorbar": {
              "outlinewidth": 0,
              "ticks": ""
             }
            },
            "type": "scattergl"
           }
          ],
          "scattermapbox": [
           {
            "marker": {
             "colorbar": {
              "outlinewidth": 0,
              "ticks": ""
             }
            },
            "type": "scattermapbox"
           }
          ],
          "scatterpolar": [
           {
            "marker": {
             "colorbar": {
              "outlinewidth": 0,
              "ticks": ""
             }
            },
            "type": "scatterpolar"
           }
          ],
          "scatterpolargl": [
           {
            "marker": {
             "colorbar": {
              "outlinewidth": 0,
              "ticks": ""
             }
            },
            "type": "scatterpolargl"
           }
          ],
          "scatterternary": [
           {
            "marker": {
             "colorbar": {
              "outlinewidth": 0,
              "ticks": ""
             }
            },
            "type": "scatterternary"
           }
          ],
          "surface": [
           {
            "colorbar": {
             "outlinewidth": 0,
             "ticks": ""
            },
            "colorscale": [
             [
              0,
              "#0d0887"
             ],
             [
              0.1111111111111111,
              "#46039f"
             ],
             [
              0.2222222222222222,
              "#7201a8"
             ],
             [
              0.3333333333333333,
              "#9c179e"
             ],
             [
              0.4444444444444444,
              "#bd3786"
             ],
             [
              0.5555555555555556,
              "#d8576b"
             ],
             [
              0.6666666666666666,
              "#ed7953"
             ],
             [
              0.7777777777777778,
              "#fb9f3a"
             ],
             [
              0.8888888888888888,
              "#fdca26"
             ],
             [
              1,
              "#f0f921"
             ]
            ],
            "type": "surface"
           }
          ],
          "table": [
           {
            "cells": {
             "fill": {
              "color": "#EBF0F8"
             },
             "line": {
              "color": "white"
             }
            },
            "header": {
             "fill": {
              "color": "#C8D4E3"
             },
             "line": {
              "color": "white"
             }
            },
            "type": "table"
           }
          ]
         },
         "layout": {
          "annotationdefaults": {
           "arrowcolor": "#2a3f5f",
           "arrowhead": 0,
           "arrowwidth": 1
          },
          "autotypenumbers": "strict",
          "coloraxis": {
           "colorbar": {
            "outlinewidth": 0,
            "ticks": ""
           }
          },
          "colorscale": {
           "diverging": [
            [
             0,
             "#8e0152"
            ],
            [
             0.1,
             "#c51b7d"
            ],
            [
             0.2,
             "#de77ae"
            ],
            [
             0.3,
             "#f1b6da"
            ],
            [
             0.4,
             "#fde0ef"
            ],
            [
             0.5,
             "#f7f7f7"
            ],
            [
             0.6,
             "#e6f5d0"
            ],
            [
             0.7,
             "#b8e186"
            ],
            [
             0.8,
             "#7fbc41"
            ],
            [
             0.9,
             "#4d9221"
            ],
            [
             1,
             "#276419"
            ]
           ],
           "sequential": [
            [
             0,
             "#0d0887"
            ],
            [
             0.1111111111111111,
             "#46039f"
            ],
            [
             0.2222222222222222,
             "#7201a8"
            ],
            [
             0.3333333333333333,
             "#9c179e"
            ],
            [
             0.4444444444444444,
             "#bd3786"
            ],
            [
             0.5555555555555556,
             "#d8576b"
            ],
            [
             0.6666666666666666,
             "#ed7953"
            ],
            [
             0.7777777777777778,
             "#fb9f3a"
            ],
            [
             0.8888888888888888,
             "#fdca26"
            ],
            [
             1,
             "#f0f921"
            ]
           ],
           "sequentialminus": [
            [
             0,
             "#0d0887"
            ],
            [
             0.1111111111111111,
             "#46039f"
            ],
            [
             0.2222222222222222,
             "#7201a8"
            ],
            [
             0.3333333333333333,
             "#9c179e"
            ],
            [
             0.4444444444444444,
             "#bd3786"
            ],
            [
             0.5555555555555556,
             "#d8576b"
            ],
            [
             0.6666666666666666,
             "#ed7953"
            ],
            [
             0.7777777777777778,
             "#fb9f3a"
            ],
            [
             0.8888888888888888,
             "#fdca26"
            ],
            [
             1,
             "#f0f921"
            ]
           ]
          },
          "colorway": [
           "#636efa",
           "#EF553B",
           "#00cc96",
           "#ab63fa",
           "#FFA15A",
           "#19d3f3",
           "#FF6692",
           "#B6E880",
           "#FF97FF",
           "#FECB52"
          ],
          "font": {
           "color": "#2a3f5f"
          },
          "geo": {
           "bgcolor": "white",
           "lakecolor": "white",
           "landcolor": "#E5ECF6",
           "showlakes": true,
           "showland": true,
           "subunitcolor": "white"
          },
          "hoverlabel": {
           "align": "left"
          },
          "hovermode": "closest",
          "mapbox": {
           "style": "light"
          },
          "paper_bgcolor": "white",
          "plot_bgcolor": "#E5ECF6",
          "polar": {
           "angularaxis": {
            "gridcolor": "white",
            "linecolor": "white",
            "ticks": ""
           },
           "bgcolor": "#E5ECF6",
           "radialaxis": {
            "gridcolor": "white",
            "linecolor": "white",
            "ticks": ""
           }
          },
          "scene": {
           "xaxis": {
            "backgroundcolor": "#E5ECF6",
            "gridcolor": "white",
            "gridwidth": 2,
            "linecolor": "white",
            "showbackground": true,
            "ticks": "",
            "zerolinecolor": "white"
           },
           "yaxis": {
            "backgroundcolor": "#E5ECF6",
            "gridcolor": "white",
            "gridwidth": 2,
            "linecolor": "white",
            "showbackground": true,
            "ticks": "",
            "zerolinecolor": "white"
           },
           "zaxis": {
            "backgroundcolor": "#E5ECF6",
            "gridcolor": "white",
            "gridwidth": 2,
            "linecolor": "white",
            "showbackground": true,
            "ticks": "",
            "zerolinecolor": "white"
           }
          },
          "shapedefaults": {
           "line": {
            "color": "#2a3f5f"
           }
          },
          "ternary": {
           "aaxis": {
            "gridcolor": "white",
            "linecolor": "white",
            "ticks": ""
           },
           "baxis": {
            "gridcolor": "white",
            "linecolor": "white",
            "ticks": ""
           },
           "bgcolor": "#E5ECF6",
           "caxis": {
            "gridcolor": "white",
            "linecolor": "white",
            "ticks": ""
           }
          },
          "title": {
           "x": 0.05
          },
          "xaxis": {
           "automargin": true,
           "gridcolor": "white",
           "linecolor": "white",
           "ticks": "",
           "title": {
            "standoff": 15
           },
           "zerolinecolor": "white",
           "zerolinewidth": 2
          },
          "yaxis": {
           "automargin": true,
           "gridcolor": "white",
           "linecolor": "white",
           "ticks": "",
           "title": {
            "standoff": 15
           },
           "zerolinecolor": "white",
           "zerolinewidth": 2
          }
         }
        },
        "title": {
         "text": "Average Fitness over Time for Reward Configuration (1, 2, 3, 4, 5) with Max-Count On"
        },
        "width": 800,
        "xaxis": {
         "title": {
          "text": "# of updates"
         }
        },
        "yaxis": {
         "title": {
          "text": "average fitness"
         },
         "type": "log"
        }
       }
      }
     },
     "metadata": {},
     "output_type": "display_data"
    }
   ],
   "source": [
    "plot_vals((1, 2, 3, 4, 5), max_count=True, i=2)"
   ]
  },
  {
   "cell_type": "code",
   "execution_count": 35,
   "metadata": {},
   "outputs": [
    {
     "data": {
      "application/vnd.plotly.v1+json": {
       "config": {
        "plotlyServerURL": "https://plot.ly"
       },
       "data": [
        {
         "mode": "lines",
         "name": "Fit",
         "type": "scatter",
         "x": [
          0,
          100,
          200,
          300,
          400,
          500,
          600,
          700,
          800,
          900,
          1000,
          1100,
          1200,
          1300,
          1400,
          1500,
          1600,
          1700,
          1800,
          1900,
          2000,
          2100,
          2200,
          2300,
          2400,
          2500,
          2600,
          2700,
          2800,
          2900,
          3000,
          3100,
          3200,
          3300,
          3400,
          3500,
          3600,
          3700,
          3800,
          3900,
          4000,
          4100,
          4200,
          4300,
          4400,
          4500,
          4600,
          4700,
          4800,
          4900,
          5000,
          5100,
          5200,
          5300,
          5400,
          5500,
          5600,
          5700,
          5800,
          5900,
          6000,
          6100,
          6200,
          6300,
          6400,
          6500,
          6600,
          6700,
          6800,
          6900,
          7000,
          7100,
          7200,
          7300,
          7400,
          7500,
          7600,
          7700,
          7800,
          7900,
          8000,
          8100,
          8200,
          8300,
          8400,
          8500,
          8600,
          8700,
          8800,
          8900,
          9000,
          9100,
          9200,
          9300,
          9400,
          9500,
          9600,
          9700,
          9800,
          9900,
          10000
         ],
         "y": [
          0,
          0.2507423,
          0.2458226,
          0.247467,
          0.2465988,
          0.2483973,
          0.2503663,
          0.2507032,
          0.252139,
          0.253634,
          0.2583252,
          0.2691841,
          0.3869009,
          9.881288e+43,
          2.465016e+55,
          2.887244e+56,
          1.843786e+58,
          5.268561e+58,
          5.292224e+58,
          4.080957e+58,
          8.807758e+82,
          2.690326e+86,
          9.661481e+86,
          1.761799e+103,
          3.980289e+104,
          2.632892e+104,
          1.256521e+105,
          6.964752e+107,
          2.161996e+108,
          3.911751e+108,
          9.298367e+108,
          9.343424e+110,
          9.188563e+108,
          9.701328e+108,
          3.264551e+109,
          3.855716e+111,
          4.104443e+109,
          6.277467e+109,
          1.065018e+110,
          5.965504e+112,
          2.780053e+114,
          1.007554e+115,
          1.387018e+116,
          7.126812e+115,
          1.356825e+116,
          1.493132e+115,
          1.919847e+117,
          3.46485e+117,
          1.026025e+118,
          1.432085e+118,
          2.468163e+118,
          4.875817e+118,
          7.96193e+118,
          2.037286e+119,
          1.057969e+119,
          3.328038e+119,
          3.759688e+119,
          1.313289e+119,
          3.108523e+119,
          3.071912e+119,
          4.321645e+119,
          1.084949e+122,
          3.549307e+124,
          9.211112e+122,
          3.467853e+122,
          4.389426e+122,
          6.357154e+122,
          1.198637e+123,
          1.184363e+123,
          1.099959e+123,
          1.372867e+123,
          1.329532e+123,
          1.914361e+123,
          2.288641e+123,
          2.63099e+123,
          1.468196e+125,
          1.611108e+125,
          2.033303e+125,
          3.009155e+125,
          1.931238e+125,
          3.193167e+125,
          1.906879e+125,
          1.353306e+125,
          2.550486e+125,
          1.869232e+128,
          3.873901e+128,
          3.711109e+130,
          4.466863e+130,
          8.496053e+130,
          1.261606e+131,
          1.412409e+131,
          1.541114e+131,
          1.70278e+131,
          1.839951e+131,
          1.910086e+131,
          2.016855e+131,
          2.356088e+131,
          2.693452e+131,
          3.005071e+131,
          3.410875e+131,
          3.509935e+131
         ]
        }
       ],
       "layout": {
        "autosize": false,
        "height": 600,
        "margin": {
         "b": 20,
         "l": 20,
         "r": 20,
         "t": 40
        },
        "template": {
         "data": {
          "bar": [
           {
            "error_x": {
             "color": "#2a3f5f"
            },
            "error_y": {
             "color": "#2a3f5f"
            },
            "marker": {
             "line": {
              "color": "#E5ECF6",
              "width": 0.5
             },
             "pattern": {
              "fillmode": "overlay",
              "size": 10,
              "solidity": 0.2
             }
            },
            "type": "bar"
           }
          ],
          "barpolar": [
           {
            "marker": {
             "line": {
              "color": "#E5ECF6",
              "width": 0.5
             },
             "pattern": {
              "fillmode": "overlay",
              "size": 10,
              "solidity": 0.2
             }
            },
            "type": "barpolar"
           }
          ],
          "carpet": [
           {
            "aaxis": {
             "endlinecolor": "#2a3f5f",
             "gridcolor": "white",
             "linecolor": "white",
             "minorgridcolor": "white",
             "startlinecolor": "#2a3f5f"
            },
            "baxis": {
             "endlinecolor": "#2a3f5f",
             "gridcolor": "white",
             "linecolor": "white",
             "minorgridcolor": "white",
             "startlinecolor": "#2a3f5f"
            },
            "type": "carpet"
           }
          ],
          "choropleth": [
           {
            "colorbar": {
             "outlinewidth": 0,
             "ticks": ""
            },
            "type": "choropleth"
           }
          ],
          "contour": [
           {
            "colorbar": {
             "outlinewidth": 0,
             "ticks": ""
            },
            "colorscale": [
             [
              0,
              "#0d0887"
             ],
             [
              0.1111111111111111,
              "#46039f"
             ],
             [
              0.2222222222222222,
              "#7201a8"
             ],
             [
              0.3333333333333333,
              "#9c179e"
             ],
             [
              0.4444444444444444,
              "#bd3786"
             ],
             [
              0.5555555555555556,
              "#d8576b"
             ],
             [
              0.6666666666666666,
              "#ed7953"
             ],
             [
              0.7777777777777778,
              "#fb9f3a"
             ],
             [
              0.8888888888888888,
              "#fdca26"
             ],
             [
              1,
              "#f0f921"
             ]
            ],
            "type": "contour"
           }
          ],
          "contourcarpet": [
           {
            "colorbar": {
             "outlinewidth": 0,
             "ticks": ""
            },
            "type": "contourcarpet"
           }
          ],
          "heatmap": [
           {
            "colorbar": {
             "outlinewidth": 0,
             "ticks": ""
            },
            "colorscale": [
             [
              0,
              "#0d0887"
             ],
             [
              0.1111111111111111,
              "#46039f"
             ],
             [
              0.2222222222222222,
              "#7201a8"
             ],
             [
              0.3333333333333333,
              "#9c179e"
             ],
             [
              0.4444444444444444,
              "#bd3786"
             ],
             [
              0.5555555555555556,
              "#d8576b"
             ],
             [
              0.6666666666666666,
              "#ed7953"
             ],
             [
              0.7777777777777778,
              "#fb9f3a"
             ],
             [
              0.8888888888888888,
              "#fdca26"
             ],
             [
              1,
              "#f0f921"
             ]
            ],
            "type": "heatmap"
           }
          ],
          "heatmapgl": [
           {
            "colorbar": {
             "outlinewidth": 0,
             "ticks": ""
            },
            "colorscale": [
             [
              0,
              "#0d0887"
             ],
             [
              0.1111111111111111,
              "#46039f"
             ],
             [
              0.2222222222222222,
              "#7201a8"
             ],
             [
              0.3333333333333333,
              "#9c179e"
             ],
             [
              0.4444444444444444,
              "#bd3786"
             ],
             [
              0.5555555555555556,
              "#d8576b"
             ],
             [
              0.6666666666666666,
              "#ed7953"
             ],
             [
              0.7777777777777778,
              "#fb9f3a"
             ],
             [
              0.8888888888888888,
              "#fdca26"
             ],
             [
              1,
              "#f0f921"
             ]
            ],
            "type": "heatmapgl"
           }
          ],
          "histogram": [
           {
            "marker": {
             "pattern": {
              "fillmode": "overlay",
              "size": 10,
              "solidity": 0.2
             }
            },
            "type": "histogram"
           }
          ],
          "histogram2d": [
           {
            "colorbar": {
             "outlinewidth": 0,
             "ticks": ""
            },
            "colorscale": [
             [
              0,
              "#0d0887"
             ],
             [
              0.1111111111111111,
              "#46039f"
             ],
             [
              0.2222222222222222,
              "#7201a8"
             ],
             [
              0.3333333333333333,
              "#9c179e"
             ],
             [
              0.4444444444444444,
              "#bd3786"
             ],
             [
              0.5555555555555556,
              "#d8576b"
             ],
             [
              0.6666666666666666,
              "#ed7953"
             ],
             [
              0.7777777777777778,
              "#fb9f3a"
             ],
             [
              0.8888888888888888,
              "#fdca26"
             ],
             [
              1,
              "#f0f921"
             ]
            ],
            "type": "histogram2d"
           }
          ],
          "histogram2dcontour": [
           {
            "colorbar": {
             "outlinewidth": 0,
             "ticks": ""
            },
            "colorscale": [
             [
              0,
              "#0d0887"
             ],
             [
              0.1111111111111111,
              "#46039f"
             ],
             [
              0.2222222222222222,
              "#7201a8"
             ],
             [
              0.3333333333333333,
              "#9c179e"
             ],
             [
              0.4444444444444444,
              "#bd3786"
             ],
             [
              0.5555555555555556,
              "#d8576b"
             ],
             [
              0.6666666666666666,
              "#ed7953"
             ],
             [
              0.7777777777777778,
              "#fb9f3a"
             ],
             [
              0.8888888888888888,
              "#fdca26"
             ],
             [
              1,
              "#f0f921"
             ]
            ],
            "type": "histogram2dcontour"
           }
          ],
          "mesh3d": [
           {
            "colorbar": {
             "outlinewidth": 0,
             "ticks": ""
            },
            "type": "mesh3d"
           }
          ],
          "parcoords": [
           {
            "line": {
             "colorbar": {
              "outlinewidth": 0,
              "ticks": ""
             }
            },
            "type": "parcoords"
           }
          ],
          "pie": [
           {
            "automargin": true,
            "type": "pie"
           }
          ],
          "scatter": [
           {
            "fillpattern": {
             "fillmode": "overlay",
             "size": 10,
             "solidity": 0.2
            },
            "type": "scatter"
           }
          ],
          "scatter3d": [
           {
            "line": {
             "colorbar": {
              "outlinewidth": 0,
              "ticks": ""
             }
            },
            "marker": {
             "colorbar": {
              "outlinewidth": 0,
              "ticks": ""
             }
            },
            "type": "scatter3d"
           }
          ],
          "scattercarpet": [
           {
            "marker": {
             "colorbar": {
              "outlinewidth": 0,
              "ticks": ""
             }
            },
            "type": "scattercarpet"
           }
          ],
          "scattergeo": [
           {
            "marker": {
             "colorbar": {
              "outlinewidth": 0,
              "ticks": ""
             }
            },
            "type": "scattergeo"
           }
          ],
          "scattergl": [
           {
            "marker": {
             "colorbar": {
              "outlinewidth": 0,
              "ticks": ""
             }
            },
            "type": "scattergl"
           }
          ],
          "scattermapbox": [
           {
            "marker": {
             "colorbar": {
              "outlinewidth": 0,
              "ticks": ""
             }
            },
            "type": "scattermapbox"
           }
          ],
          "scatterpolar": [
           {
            "marker": {
             "colorbar": {
              "outlinewidth": 0,
              "ticks": ""
             }
            },
            "type": "scatterpolar"
           }
          ],
          "scatterpolargl": [
           {
            "marker": {
             "colorbar": {
              "outlinewidth": 0,
              "ticks": ""
             }
            },
            "type": "scatterpolargl"
           }
          ],
          "scatterternary": [
           {
            "marker": {
             "colorbar": {
              "outlinewidth": 0,
              "ticks": ""
             }
            },
            "type": "scatterternary"
           }
          ],
          "surface": [
           {
            "colorbar": {
             "outlinewidth": 0,
             "ticks": ""
            },
            "colorscale": [
             [
              0,
              "#0d0887"
             ],
             [
              0.1111111111111111,
              "#46039f"
             ],
             [
              0.2222222222222222,
              "#7201a8"
             ],
             [
              0.3333333333333333,
              "#9c179e"
             ],
             [
              0.4444444444444444,
              "#bd3786"
             ],
             [
              0.5555555555555556,
              "#d8576b"
             ],
             [
              0.6666666666666666,
              "#ed7953"
             ],
             [
              0.7777777777777778,
              "#fb9f3a"
             ],
             [
              0.8888888888888888,
              "#fdca26"
             ],
             [
              1,
              "#f0f921"
             ]
            ],
            "type": "surface"
           }
          ],
          "table": [
           {
            "cells": {
             "fill": {
              "color": "#EBF0F8"
             },
             "line": {
              "color": "white"
             }
            },
            "header": {
             "fill": {
              "color": "#C8D4E3"
             },
             "line": {
              "color": "white"
             }
            },
            "type": "table"
           }
          ]
         },
         "layout": {
          "annotationdefaults": {
           "arrowcolor": "#2a3f5f",
           "arrowhead": 0,
           "arrowwidth": 1
          },
          "autotypenumbers": "strict",
          "coloraxis": {
           "colorbar": {
            "outlinewidth": 0,
            "ticks": ""
           }
          },
          "colorscale": {
           "diverging": [
            [
             0,
             "#8e0152"
            ],
            [
             0.1,
             "#c51b7d"
            ],
            [
             0.2,
             "#de77ae"
            ],
            [
             0.3,
             "#f1b6da"
            ],
            [
             0.4,
             "#fde0ef"
            ],
            [
             0.5,
             "#f7f7f7"
            ],
            [
             0.6,
             "#e6f5d0"
            ],
            [
             0.7,
             "#b8e186"
            ],
            [
             0.8,
             "#7fbc41"
            ],
            [
             0.9,
             "#4d9221"
            ],
            [
             1,
             "#276419"
            ]
           ],
           "sequential": [
            [
             0,
             "#0d0887"
            ],
            [
             0.1111111111111111,
             "#46039f"
            ],
            [
             0.2222222222222222,
             "#7201a8"
            ],
            [
             0.3333333333333333,
             "#9c179e"
            ],
            [
             0.4444444444444444,
             "#bd3786"
            ],
            [
             0.5555555555555556,
             "#d8576b"
            ],
            [
             0.6666666666666666,
             "#ed7953"
            ],
            [
             0.7777777777777778,
             "#fb9f3a"
            ],
            [
             0.8888888888888888,
             "#fdca26"
            ],
            [
             1,
             "#f0f921"
            ]
           ],
           "sequentialminus": [
            [
             0,
             "#0d0887"
            ],
            [
             0.1111111111111111,
             "#46039f"
            ],
            [
             0.2222222222222222,
             "#7201a8"
            ],
            [
             0.3333333333333333,
             "#9c179e"
            ],
            [
             0.4444444444444444,
             "#bd3786"
            ],
            [
             0.5555555555555556,
             "#d8576b"
            ],
            [
             0.6666666666666666,
             "#ed7953"
            ],
            [
             0.7777777777777778,
             "#fb9f3a"
            ],
            [
             0.8888888888888888,
             "#fdca26"
            ],
            [
             1,
             "#f0f921"
            ]
           ]
          },
          "colorway": [
           "#636efa",
           "#EF553B",
           "#00cc96",
           "#ab63fa",
           "#FFA15A",
           "#19d3f3",
           "#FF6692",
           "#B6E880",
           "#FF97FF",
           "#FECB52"
          ],
          "font": {
           "color": "#2a3f5f"
          },
          "geo": {
           "bgcolor": "white",
           "lakecolor": "white",
           "landcolor": "#E5ECF6",
           "showlakes": true,
           "showland": true,
           "subunitcolor": "white"
          },
          "hoverlabel": {
           "align": "left"
          },
          "hovermode": "closest",
          "mapbox": {
           "style": "light"
          },
          "paper_bgcolor": "white",
          "plot_bgcolor": "#E5ECF6",
          "polar": {
           "angularaxis": {
            "gridcolor": "white",
            "linecolor": "white",
            "ticks": ""
           },
           "bgcolor": "#E5ECF6",
           "radialaxis": {
            "gridcolor": "white",
            "linecolor": "white",
            "ticks": ""
           }
          },
          "scene": {
           "xaxis": {
            "backgroundcolor": "#E5ECF6",
            "gridcolor": "white",
            "gridwidth": 2,
            "linecolor": "white",
            "showbackground": true,
            "ticks": "",
            "zerolinecolor": "white"
           },
           "yaxis": {
            "backgroundcolor": "#E5ECF6",
            "gridcolor": "white",
            "gridwidth": 2,
            "linecolor": "white",
            "showbackground": true,
            "ticks": "",
            "zerolinecolor": "white"
           },
           "zaxis": {
            "backgroundcolor": "#E5ECF6",
            "gridcolor": "white",
            "gridwidth": 2,
            "linecolor": "white",
            "showbackground": true,
            "ticks": "",
            "zerolinecolor": "white"
           }
          },
          "shapedefaults": {
           "line": {
            "color": "#2a3f5f"
           }
          },
          "ternary": {
           "aaxis": {
            "gridcolor": "white",
            "linecolor": "white",
            "ticks": ""
           },
           "baxis": {
            "gridcolor": "white",
            "linecolor": "white",
            "ticks": ""
           },
           "bgcolor": "#E5ECF6",
           "caxis": {
            "gridcolor": "white",
            "linecolor": "white",
            "ticks": ""
           }
          },
          "title": {
           "x": 0.05
          },
          "xaxis": {
           "automargin": true,
           "gridcolor": "white",
           "linecolor": "white",
           "ticks": "",
           "title": {
            "standoff": 15
           },
           "zerolinecolor": "white",
           "zerolinewidth": 2
          },
          "yaxis": {
           "automargin": true,
           "gridcolor": "white",
           "linecolor": "white",
           "ticks": "",
           "title": {
            "standoff": 15
           },
           "zerolinecolor": "white",
           "zerolinewidth": 2
          }
         }
        },
        "title": {
         "text": "Average Fitness over Time for Reward Configuration (1, 2, 3, 4, 5) with Max-Count Off"
        },
        "width": 800,
        "xaxis": {
         "title": {
          "text": "# of updates"
         }
        },
        "yaxis": {
         "title": {
          "text": "average fitness"
         },
         "type": "log"
        }
       }
      }
     },
     "metadata": {},
     "output_type": "display_data"
    }
   ],
   "source": [
    "plot_vals((1, 2, 3, 4, 5), max_count=False, i=2)"
   ]
  },
  {
   "cell_type": "code",
   "execution_count": 36,
   "metadata": {},
   "outputs": [
    {
     "data": {
      "application/vnd.plotly.v1+json": {
       "config": {
        "plotlyServerURL": "https://plot.ly"
       },
       "data": [
        {
         "mode": "lines",
         "name": "Fit",
         "type": "scatter",
         "x": [
          0,
          100,
          200,
          300,
          400,
          500,
          600,
          700,
          800,
          900,
          1000,
          1100,
          1200,
          1300,
          1400,
          1500,
          1600,
          1700,
          1800,
          1900,
          2000,
          2100,
          2200,
          2300,
          2400,
          2500,
          2600,
          2700,
          2800,
          2900,
          3000,
          3100,
          3200,
          3300,
          3400,
          3500,
          3600,
          3700,
          3800,
          3900,
          4000,
          4100,
          4200,
          4300,
          4400,
          4500,
          4600,
          4700,
          4800,
          4900,
          5000,
          5100,
          5200,
          5300,
          5400,
          5500,
          5600,
          5700,
          5800,
          5900,
          6000,
          6100,
          6200,
          6300,
          6400,
          6500,
          6600,
          6700,
          6800,
          6900,
          7000,
          7100,
          7200,
          7300,
          7400,
          7500,
          7600,
          7700,
          7800,
          7900,
          8000,
          8100,
          8200,
          8300,
          8400,
          8500,
          8600,
          8700,
          8800,
          8900,
          9000,
          9100,
          9200,
          9300,
          9400,
          9500,
          9600,
          9700,
          9800,
          9900,
          10000
         ],
         "y": [
          0,
          0.2462758,
          0.2448212,
          0.2451497,
          0.2456386,
          0.2469956,
          1.290485,
          6.459972,
          39.46789,
          89.74393,
          156.7884,
          216.9419,
          269.2619,
          323.9614,
          648.0237,
          2004.53,
          3741.136,
          5366.273,
          6754.684,
          8427.116,
          9556.515,
          10663.02,
          11607.26,
          12434.63,
          12752.37,
          13416.63,
          13612.93,
          14825.12,
          16990.39,
          19202.12,
          22558.36,
          25312.26,
          27502.64,
          29805.35,
          32801.36,
          35223.16,
          38509.36,
          40343.59,
          42344.96,
          43953.41,
          45579.51,
          45797.05,
          47354.86,
          48226.41,
          49301.69,
          50173.92,
          43212570000,
          19800040000000000,
          1.797099e+21,
          2.550637e+40,
          1.796e+95,
          7.976981e+95,
          2.148037e+148,
          4.008193e+148,
          5.886242e+148,
          7.387811e+148,
          9.046708e+148,
          9.992359e+148,
          1.122089e+149,
          1.275139e+149,
          1.383429e+149,
          1.482118e+149,
          1.575238e+149,
          3.623949e+149,
          1.044367e+150,
          1.531493e+150,
          9.719652e+152,
          1.583686e+153,
          1.110251e+161,
          1.165606e+186,
          1.406122e+187,
          4.039331e+187,
          6.419638e+187,
          2.542303e+188,
          4.344306e+188,
          5.799081e+188,
          7.252085e+188,
          8.480931e+188,
          9.947601e+188,
          3.940798e+192,
          2.207966e+193,
          3.710915e+193,
          5.041362e+193,
          1.557217e+202,
          5.514662e+203,
          3.191697e+219,
          9.815028e+221,
          1.671908e+222,
          2.031156e+222,
          3.143094e+226,
          8.042778e+252,
          1.174727e+261,
          3.838011e+264,
          7.096291e+264,
          9.202112e+265,
          2.112415e+266,
          3.097359e+266,
          3.69276e+266,
          4.276283e+266,
          4.981541e+266,
          5.517592e+266
         ]
        }
       ],
       "layout": {
        "autosize": false,
        "height": 600,
        "margin": {
         "b": 20,
         "l": 20,
         "r": 20,
         "t": 40
        },
        "template": {
         "data": {
          "bar": [
           {
            "error_x": {
             "color": "#2a3f5f"
            },
            "error_y": {
             "color": "#2a3f5f"
            },
            "marker": {
             "line": {
              "color": "#E5ECF6",
              "width": 0.5
             },
             "pattern": {
              "fillmode": "overlay",
              "size": 10,
              "solidity": 0.2
             }
            },
            "type": "bar"
           }
          ],
          "barpolar": [
           {
            "marker": {
             "line": {
              "color": "#E5ECF6",
              "width": 0.5
             },
             "pattern": {
              "fillmode": "overlay",
              "size": 10,
              "solidity": 0.2
             }
            },
            "type": "barpolar"
           }
          ],
          "carpet": [
           {
            "aaxis": {
             "endlinecolor": "#2a3f5f",
             "gridcolor": "white",
             "linecolor": "white",
             "minorgridcolor": "white",
             "startlinecolor": "#2a3f5f"
            },
            "baxis": {
             "endlinecolor": "#2a3f5f",
             "gridcolor": "white",
             "linecolor": "white",
             "minorgridcolor": "white",
             "startlinecolor": "#2a3f5f"
            },
            "type": "carpet"
           }
          ],
          "choropleth": [
           {
            "colorbar": {
             "outlinewidth": 0,
             "ticks": ""
            },
            "type": "choropleth"
           }
          ],
          "contour": [
           {
            "colorbar": {
             "outlinewidth": 0,
             "ticks": ""
            },
            "colorscale": [
             [
              0,
              "#0d0887"
             ],
             [
              0.1111111111111111,
              "#46039f"
             ],
             [
              0.2222222222222222,
              "#7201a8"
             ],
             [
              0.3333333333333333,
              "#9c179e"
             ],
             [
              0.4444444444444444,
              "#bd3786"
             ],
             [
              0.5555555555555556,
              "#d8576b"
             ],
             [
              0.6666666666666666,
              "#ed7953"
             ],
             [
              0.7777777777777778,
              "#fb9f3a"
             ],
             [
              0.8888888888888888,
              "#fdca26"
             ],
             [
              1,
              "#f0f921"
             ]
            ],
            "type": "contour"
           }
          ],
          "contourcarpet": [
           {
            "colorbar": {
             "outlinewidth": 0,
             "ticks": ""
            },
            "type": "contourcarpet"
           }
          ],
          "heatmap": [
           {
            "colorbar": {
             "outlinewidth": 0,
             "ticks": ""
            },
            "colorscale": [
             [
              0,
              "#0d0887"
             ],
             [
              0.1111111111111111,
              "#46039f"
             ],
             [
              0.2222222222222222,
              "#7201a8"
             ],
             [
              0.3333333333333333,
              "#9c179e"
             ],
             [
              0.4444444444444444,
              "#bd3786"
             ],
             [
              0.5555555555555556,
              "#d8576b"
             ],
             [
              0.6666666666666666,
              "#ed7953"
             ],
             [
              0.7777777777777778,
              "#fb9f3a"
             ],
             [
              0.8888888888888888,
              "#fdca26"
             ],
             [
              1,
              "#f0f921"
             ]
            ],
            "type": "heatmap"
           }
          ],
          "heatmapgl": [
           {
            "colorbar": {
             "outlinewidth": 0,
             "ticks": ""
            },
            "colorscale": [
             [
              0,
              "#0d0887"
             ],
             [
              0.1111111111111111,
              "#46039f"
             ],
             [
              0.2222222222222222,
              "#7201a8"
             ],
             [
              0.3333333333333333,
              "#9c179e"
             ],
             [
              0.4444444444444444,
              "#bd3786"
             ],
             [
              0.5555555555555556,
              "#d8576b"
             ],
             [
              0.6666666666666666,
              "#ed7953"
             ],
             [
              0.7777777777777778,
              "#fb9f3a"
             ],
             [
              0.8888888888888888,
              "#fdca26"
             ],
             [
              1,
              "#f0f921"
             ]
            ],
            "type": "heatmapgl"
           }
          ],
          "histogram": [
           {
            "marker": {
             "pattern": {
              "fillmode": "overlay",
              "size": 10,
              "solidity": 0.2
             }
            },
            "type": "histogram"
           }
          ],
          "histogram2d": [
           {
            "colorbar": {
             "outlinewidth": 0,
             "ticks": ""
            },
            "colorscale": [
             [
              0,
              "#0d0887"
             ],
             [
              0.1111111111111111,
              "#46039f"
             ],
             [
              0.2222222222222222,
              "#7201a8"
             ],
             [
              0.3333333333333333,
              "#9c179e"
             ],
             [
              0.4444444444444444,
              "#bd3786"
             ],
             [
              0.5555555555555556,
              "#d8576b"
             ],
             [
              0.6666666666666666,
              "#ed7953"
             ],
             [
              0.7777777777777778,
              "#fb9f3a"
             ],
             [
              0.8888888888888888,
              "#fdca26"
             ],
             [
              1,
              "#f0f921"
             ]
            ],
            "type": "histogram2d"
           }
          ],
          "histogram2dcontour": [
           {
            "colorbar": {
             "outlinewidth": 0,
             "ticks": ""
            },
            "colorscale": [
             [
              0,
              "#0d0887"
             ],
             [
              0.1111111111111111,
              "#46039f"
             ],
             [
              0.2222222222222222,
              "#7201a8"
             ],
             [
              0.3333333333333333,
              "#9c179e"
             ],
             [
              0.4444444444444444,
              "#bd3786"
             ],
             [
              0.5555555555555556,
              "#d8576b"
             ],
             [
              0.6666666666666666,
              "#ed7953"
             ],
             [
              0.7777777777777778,
              "#fb9f3a"
             ],
             [
              0.8888888888888888,
              "#fdca26"
             ],
             [
              1,
              "#f0f921"
             ]
            ],
            "type": "histogram2dcontour"
           }
          ],
          "mesh3d": [
           {
            "colorbar": {
             "outlinewidth": 0,
             "ticks": ""
            },
            "type": "mesh3d"
           }
          ],
          "parcoords": [
           {
            "line": {
             "colorbar": {
              "outlinewidth": 0,
              "ticks": ""
             }
            },
            "type": "parcoords"
           }
          ],
          "pie": [
           {
            "automargin": true,
            "type": "pie"
           }
          ],
          "scatter": [
           {
            "fillpattern": {
             "fillmode": "overlay",
             "size": 10,
             "solidity": 0.2
            },
            "type": "scatter"
           }
          ],
          "scatter3d": [
           {
            "line": {
             "colorbar": {
              "outlinewidth": 0,
              "ticks": ""
             }
            },
            "marker": {
             "colorbar": {
              "outlinewidth": 0,
              "ticks": ""
             }
            },
            "type": "scatter3d"
           }
          ],
          "scattercarpet": [
           {
            "marker": {
             "colorbar": {
              "outlinewidth": 0,
              "ticks": ""
             }
            },
            "type": "scattercarpet"
           }
          ],
          "scattergeo": [
           {
            "marker": {
             "colorbar": {
              "outlinewidth": 0,
              "ticks": ""
             }
            },
            "type": "scattergeo"
           }
          ],
          "scattergl": [
           {
            "marker": {
             "colorbar": {
              "outlinewidth": 0,
              "ticks": ""
             }
            },
            "type": "scattergl"
           }
          ],
          "scattermapbox": [
           {
            "marker": {
             "colorbar": {
              "outlinewidth": 0,
              "ticks": ""
             }
            },
            "type": "scattermapbox"
           }
          ],
          "scatterpolar": [
           {
            "marker": {
             "colorbar": {
              "outlinewidth": 0,
              "ticks": ""
             }
            },
            "type": "scatterpolar"
           }
          ],
          "scatterpolargl": [
           {
            "marker": {
             "colorbar": {
              "outlinewidth": 0,
              "ticks": ""
             }
            },
            "type": "scatterpolargl"
           }
          ],
          "scatterternary": [
           {
            "marker": {
             "colorbar": {
              "outlinewidth": 0,
              "ticks": ""
             }
            },
            "type": "scatterternary"
           }
          ],
          "surface": [
           {
            "colorbar": {
             "outlinewidth": 0,
             "ticks": ""
            },
            "colorscale": [
             [
              0,
              "#0d0887"
             ],
             [
              0.1111111111111111,
              "#46039f"
             ],
             [
              0.2222222222222222,
              "#7201a8"
             ],
             [
              0.3333333333333333,
              "#9c179e"
             ],
             [
              0.4444444444444444,
              "#bd3786"
             ],
             [
              0.5555555555555556,
              "#d8576b"
             ],
             [
              0.6666666666666666,
              "#ed7953"
             ],
             [
              0.7777777777777778,
              "#fb9f3a"
             ],
             [
              0.8888888888888888,
              "#fdca26"
             ],
             [
              1,
              "#f0f921"
             ]
            ],
            "type": "surface"
           }
          ],
          "table": [
           {
            "cells": {
             "fill": {
              "color": "#EBF0F8"
             },
             "line": {
              "color": "white"
             }
            },
            "header": {
             "fill": {
              "color": "#C8D4E3"
             },
             "line": {
              "color": "white"
             }
            },
            "type": "table"
           }
          ]
         },
         "layout": {
          "annotationdefaults": {
           "arrowcolor": "#2a3f5f",
           "arrowhead": 0,
           "arrowwidth": 1
          },
          "autotypenumbers": "strict",
          "coloraxis": {
           "colorbar": {
            "outlinewidth": 0,
            "ticks": ""
           }
          },
          "colorscale": {
           "diverging": [
            [
             0,
             "#8e0152"
            ],
            [
             0.1,
             "#c51b7d"
            ],
            [
             0.2,
             "#de77ae"
            ],
            [
             0.3,
             "#f1b6da"
            ],
            [
             0.4,
             "#fde0ef"
            ],
            [
             0.5,
             "#f7f7f7"
            ],
            [
             0.6,
             "#e6f5d0"
            ],
            [
             0.7,
             "#b8e186"
            ],
            [
             0.8,
             "#7fbc41"
            ],
            [
             0.9,
             "#4d9221"
            ],
            [
             1,
             "#276419"
            ]
           ],
           "sequential": [
            [
             0,
             "#0d0887"
            ],
            [
             0.1111111111111111,
             "#46039f"
            ],
            [
             0.2222222222222222,
             "#7201a8"
            ],
            [
             0.3333333333333333,
             "#9c179e"
            ],
            [
             0.4444444444444444,
             "#bd3786"
            ],
            [
             0.5555555555555556,
             "#d8576b"
            ],
            [
             0.6666666666666666,
             "#ed7953"
            ],
            [
             0.7777777777777778,
             "#fb9f3a"
            ],
            [
             0.8888888888888888,
             "#fdca26"
            ],
            [
             1,
             "#f0f921"
            ]
           ],
           "sequentialminus": [
            [
             0,
             "#0d0887"
            ],
            [
             0.1111111111111111,
             "#46039f"
            ],
            [
             0.2222222222222222,
             "#7201a8"
            ],
            [
             0.3333333333333333,
             "#9c179e"
            ],
            [
             0.4444444444444444,
             "#bd3786"
            ],
            [
             0.5555555555555556,
             "#d8576b"
            ],
            [
             0.6666666666666666,
             "#ed7953"
            ],
            [
             0.7777777777777778,
             "#fb9f3a"
            ],
            [
             0.8888888888888888,
             "#fdca26"
            ],
            [
             1,
             "#f0f921"
            ]
           ]
          },
          "colorway": [
           "#636efa",
           "#EF553B",
           "#00cc96",
           "#ab63fa",
           "#FFA15A",
           "#19d3f3",
           "#FF6692",
           "#B6E880",
           "#FF97FF",
           "#FECB52"
          ],
          "font": {
           "color": "#2a3f5f"
          },
          "geo": {
           "bgcolor": "white",
           "lakecolor": "white",
           "landcolor": "#E5ECF6",
           "showlakes": true,
           "showland": true,
           "subunitcolor": "white"
          },
          "hoverlabel": {
           "align": "left"
          },
          "hovermode": "closest",
          "mapbox": {
           "style": "light"
          },
          "paper_bgcolor": "white",
          "plot_bgcolor": "#E5ECF6",
          "polar": {
           "angularaxis": {
            "gridcolor": "white",
            "linecolor": "white",
            "ticks": ""
           },
           "bgcolor": "#E5ECF6",
           "radialaxis": {
            "gridcolor": "white",
            "linecolor": "white",
            "ticks": ""
           }
          },
          "scene": {
           "xaxis": {
            "backgroundcolor": "#E5ECF6",
            "gridcolor": "white",
            "gridwidth": 2,
            "linecolor": "white",
            "showbackground": true,
            "ticks": "",
            "zerolinecolor": "white"
           },
           "yaxis": {
            "backgroundcolor": "#E5ECF6",
            "gridcolor": "white",
            "gridwidth": 2,
            "linecolor": "white",
            "showbackground": true,
            "ticks": "",
            "zerolinecolor": "white"
           },
           "zaxis": {
            "backgroundcolor": "#E5ECF6",
            "gridcolor": "white",
            "gridwidth": 2,
            "linecolor": "white",
            "showbackground": true,
            "ticks": "",
            "zerolinecolor": "white"
           }
          },
          "shapedefaults": {
           "line": {
            "color": "#2a3f5f"
           }
          },
          "ternary": {
           "aaxis": {
            "gridcolor": "white",
            "linecolor": "white",
            "ticks": ""
           },
           "baxis": {
            "gridcolor": "white",
            "linecolor": "white",
            "ticks": ""
           },
           "bgcolor": "#E5ECF6",
           "caxis": {
            "gridcolor": "white",
            "linecolor": "white",
            "ticks": ""
           }
          },
          "title": {
           "x": 0.05
          },
          "xaxis": {
           "automargin": true,
           "gridcolor": "white",
           "linecolor": "white",
           "ticks": "",
           "title": {
            "standoff": 15
           },
           "zerolinecolor": "white",
           "zerolinewidth": 2
          },
          "yaxis": {
           "automargin": true,
           "gridcolor": "white",
           "linecolor": "white",
           "ticks": "",
           "title": {
            "standoff": 15
           },
           "zerolinecolor": "white",
           "zerolinewidth": 2
          }
         }
        },
        "title": {
         "text": "Average Fitness over Time for Reward Configuration (4, 2, 3, 1, 5) with Max-Count On"
        },
        "width": 800,
        "xaxis": {
         "title": {
          "text": "# of updates"
         }
        },
        "yaxis": {
         "title": {
          "text": "average fitness"
         },
         "type": "log"
        }
       }
      }
     },
     "metadata": {},
     "output_type": "display_data"
    }
   ],
   "source": [
    "plot_vals((4, 2, 3, 1, 5), max_count=True, log_y=True, i=0)"
   ]
  },
  {
   "cell_type": "code",
   "execution_count": 37,
   "metadata": {},
   "outputs": [
    {
     "ename": "IndexError",
     "evalue": "single positional indexer is out-of-bounds",
     "output_type": "error",
     "traceback": [
      "\u001b[0;31m---------------------------------------------------------------------------\u001b[0m",
      "\u001b[0;31mIndexError\u001b[0m                                Traceback (most recent call last)",
      "\u001b[0;32m/var/folders/nk/6df909tn2f726qntp17fzj600000gn/T/ipykernel_1044/3577364799.py\u001b[0m in \u001b[0;36m<module>\u001b[0;34m\u001b[0m\n\u001b[0;32m----> 1\u001b[0;31m \u001b[0mplot_vals\u001b[0m\u001b[0;34m(\u001b[0m\u001b[0;34m(\u001b[0m\u001b[0;36m4\u001b[0m\u001b[0;34m,\u001b[0m \u001b[0;36m2\u001b[0m\u001b[0;34m,\u001b[0m \u001b[0;36m3\u001b[0m\u001b[0;34m,\u001b[0m \u001b[0;36m1\u001b[0m\u001b[0;34m,\u001b[0m \u001b[0;36m5\u001b[0m\u001b[0;34m)\u001b[0m\u001b[0;34m,\u001b[0m \u001b[0mmax_count\u001b[0m\u001b[0;34m=\u001b[0m\u001b[0;32mFalse\u001b[0m\u001b[0;34m,\u001b[0m \u001b[0mlog_y\u001b[0m\u001b[0;34m=\u001b[0m\u001b[0;32mTrue\u001b[0m\u001b[0;34m,\u001b[0m \u001b[0mi\u001b[0m\u001b[0;34m=\u001b[0m\u001b[0;36m1\u001b[0m\u001b[0;34m)\u001b[0m\u001b[0;34m\u001b[0m\u001b[0;34m\u001b[0m\u001b[0m\n\u001b[0m",
      "\u001b[0;32m/var/folders/nk/6df909tn2f726qntp17fzj600000gn/T/ipykernel_1044/4178655245.py\u001b[0m in \u001b[0;36mplot_vals\u001b[0;34m(vals, max_count, log_y, i)\u001b[0m\n\u001b[1;32m      1\u001b[0m \u001b[0;32mdef\u001b[0m \u001b[0mplot_vals\u001b[0m\u001b[0;34m(\u001b[0m\u001b[0mvals\u001b[0m\u001b[0;34m,\u001b[0m \u001b[0mmax_count\u001b[0m\u001b[0;34m,\u001b[0m \u001b[0mlog_y\u001b[0m \u001b[0;34m=\u001b[0m \u001b[0;32mTrue\u001b[0m\u001b[0;34m,\u001b[0m \u001b[0mi\u001b[0m \u001b[0;34m=\u001b[0m \u001b[0;36m0\u001b[0m\u001b[0;34m)\u001b[0m\u001b[0;34m:\u001b[0m\u001b[0;34m\u001b[0m\u001b[0;34m\u001b[0m\u001b[0m\n\u001b[0;32m----> 2\u001b[0;31m     \u001b[0mfname\u001b[0m \u001b[0;34m=\u001b[0m \u001b[0mfdf\u001b[0m\u001b[0;34m[\u001b[0m\u001b[0;34m(\u001b[0m\u001b[0mfdf\u001b[0m\u001b[0;34m[\u001b[0m\u001b[0;34m\"values\"\u001b[0m\u001b[0;34m]\u001b[0m \u001b[0;34m==\u001b[0m \u001b[0mvals\u001b[0m\u001b[0;34m)\u001b[0m \u001b[0;34m&\u001b[0m \u001b[0;34m(\u001b[0m\u001b[0mfdf\u001b[0m\u001b[0;34m[\u001b[0m\u001b[0;34m\"max_count\"\u001b[0m\u001b[0;34m]\u001b[0m \u001b[0;34m==\u001b[0m \u001b[0mmax_count\u001b[0m\u001b[0;34m)\u001b[0m\u001b[0;34m]\u001b[0m\u001b[0;34m[\u001b[0m\u001b[0;34m\"filename\"\u001b[0m\u001b[0;34m]\u001b[0m\u001b[0;34m.\u001b[0m\u001b[0miloc\u001b[0m\u001b[0;34m[\u001b[0m\u001b[0mi\u001b[0m\u001b[0;34m]\u001b[0m\u001b[0;34m\u001b[0m\u001b[0;34m\u001b[0m\u001b[0m\n\u001b[0m\u001b[1;32m      3\u001b[0m     \u001b[0mplot_graph\u001b[0m\u001b[0;34m(\u001b[0m\u001b[0mfile_name\u001b[0m\u001b[0;34m=\u001b[0m\u001b[0mdir_path\u001b[0m \u001b[0;34m+\u001b[0m \u001b[0;34m\"/\"\u001b[0m \u001b[0;34m+\u001b[0m \u001b[0mfname\u001b[0m\u001b[0;34m,\u001b[0m \u001b[0mtitle\u001b[0m\u001b[0;34m=\u001b[0m\u001b[0;34mf\"\"\"Average Fitness over Time for Reward Configuration {vals} with Max-Count {'On' if max_count else 'Off'}\"\"\"\u001b[0m\u001b[0;34m,\u001b[0m \u001b[0mlog_y\u001b[0m\u001b[0;34m=\u001b[0m\u001b[0mlog_y\u001b[0m\u001b[0;34m)\u001b[0m\u001b[0;34m\u001b[0m\u001b[0;34m\u001b[0m\u001b[0m\n",
      "\u001b[0;32m~/opt/anaconda3/lib/python3.9/site-packages/pandas/core/indexing.py\u001b[0m in \u001b[0;36m__getitem__\u001b[0;34m(self, key)\u001b[0m\n\u001b[1;32m    965\u001b[0m \u001b[0;34m\u001b[0m\u001b[0m\n\u001b[1;32m    966\u001b[0m             \u001b[0mmaybe_callable\u001b[0m \u001b[0;34m=\u001b[0m \u001b[0mcom\u001b[0m\u001b[0;34m.\u001b[0m\u001b[0mapply_if_callable\u001b[0m\u001b[0;34m(\u001b[0m\u001b[0mkey\u001b[0m\u001b[0;34m,\u001b[0m \u001b[0mself\u001b[0m\u001b[0;34m.\u001b[0m\u001b[0mobj\u001b[0m\u001b[0;34m)\u001b[0m\u001b[0;34m\u001b[0m\u001b[0;34m\u001b[0m\u001b[0m\n\u001b[0;32m--> 967\u001b[0;31m             \u001b[0;32mreturn\u001b[0m \u001b[0mself\u001b[0m\u001b[0;34m.\u001b[0m\u001b[0m_getitem_axis\u001b[0m\u001b[0;34m(\u001b[0m\u001b[0mmaybe_callable\u001b[0m\u001b[0;34m,\u001b[0m \u001b[0maxis\u001b[0m\u001b[0;34m=\u001b[0m\u001b[0maxis\u001b[0m\u001b[0;34m)\u001b[0m\u001b[0;34m\u001b[0m\u001b[0;34m\u001b[0m\u001b[0m\n\u001b[0m\u001b[1;32m    968\u001b[0m \u001b[0;34m\u001b[0m\u001b[0m\n\u001b[1;32m    969\u001b[0m     \u001b[0;32mdef\u001b[0m \u001b[0m_is_scalar_access\u001b[0m\u001b[0;34m(\u001b[0m\u001b[0mself\u001b[0m\u001b[0;34m,\u001b[0m \u001b[0mkey\u001b[0m\u001b[0;34m:\u001b[0m \u001b[0mtuple\u001b[0m\u001b[0;34m)\u001b[0m\u001b[0;34m:\u001b[0m\u001b[0;34m\u001b[0m\u001b[0;34m\u001b[0m\u001b[0m\n",
      "\u001b[0;32m~/opt/anaconda3/lib/python3.9/site-packages/pandas/core/indexing.py\u001b[0m in \u001b[0;36m_getitem_axis\u001b[0;34m(self, key, axis)\u001b[0m\n\u001b[1;32m   1521\u001b[0m \u001b[0;34m\u001b[0m\u001b[0m\n\u001b[1;32m   1522\u001b[0m             \u001b[0;31m# validate the location\u001b[0m\u001b[0;34m\u001b[0m\u001b[0;34m\u001b[0m\u001b[0m\n\u001b[0;32m-> 1523\u001b[0;31m             \u001b[0mself\u001b[0m\u001b[0;34m.\u001b[0m\u001b[0m_validate_integer\u001b[0m\u001b[0;34m(\u001b[0m\u001b[0mkey\u001b[0m\u001b[0;34m,\u001b[0m \u001b[0maxis\u001b[0m\u001b[0;34m)\u001b[0m\u001b[0;34m\u001b[0m\u001b[0;34m\u001b[0m\u001b[0m\n\u001b[0m\u001b[1;32m   1524\u001b[0m \u001b[0;34m\u001b[0m\u001b[0m\n\u001b[1;32m   1525\u001b[0m             \u001b[0;32mreturn\u001b[0m \u001b[0mself\u001b[0m\u001b[0;34m.\u001b[0m\u001b[0mobj\u001b[0m\u001b[0;34m.\u001b[0m\u001b[0m_ixs\u001b[0m\u001b[0;34m(\u001b[0m\u001b[0mkey\u001b[0m\u001b[0;34m,\u001b[0m \u001b[0maxis\u001b[0m\u001b[0;34m=\u001b[0m\u001b[0maxis\u001b[0m\u001b[0;34m)\u001b[0m\u001b[0;34m\u001b[0m\u001b[0;34m\u001b[0m\u001b[0m\n",
      "\u001b[0;32m~/opt/anaconda3/lib/python3.9/site-packages/pandas/core/indexing.py\u001b[0m in \u001b[0;36m_validate_integer\u001b[0;34m(self, key, axis)\u001b[0m\n\u001b[1;32m   1453\u001b[0m         \u001b[0mlen_axis\u001b[0m \u001b[0;34m=\u001b[0m \u001b[0mlen\u001b[0m\u001b[0;34m(\u001b[0m\u001b[0mself\u001b[0m\u001b[0;34m.\u001b[0m\u001b[0mobj\u001b[0m\u001b[0;34m.\u001b[0m\u001b[0m_get_axis\u001b[0m\u001b[0;34m(\u001b[0m\u001b[0maxis\u001b[0m\u001b[0;34m)\u001b[0m\u001b[0;34m)\u001b[0m\u001b[0;34m\u001b[0m\u001b[0;34m\u001b[0m\u001b[0m\n\u001b[1;32m   1454\u001b[0m         \u001b[0;32mif\u001b[0m \u001b[0mkey\u001b[0m \u001b[0;34m>=\u001b[0m \u001b[0mlen_axis\u001b[0m \u001b[0;32mor\u001b[0m \u001b[0mkey\u001b[0m \u001b[0;34m<\u001b[0m \u001b[0;34m-\u001b[0m\u001b[0mlen_axis\u001b[0m\u001b[0;34m:\u001b[0m\u001b[0;34m\u001b[0m\u001b[0;34m\u001b[0m\u001b[0m\n\u001b[0;32m-> 1455\u001b[0;31m             \u001b[0;32mraise\u001b[0m \u001b[0mIndexError\u001b[0m\u001b[0;34m(\u001b[0m\u001b[0;34m\"single positional indexer is out-of-bounds\"\u001b[0m\u001b[0;34m)\u001b[0m\u001b[0;34m\u001b[0m\u001b[0;34m\u001b[0m\u001b[0m\n\u001b[0m\u001b[1;32m   1456\u001b[0m \u001b[0;34m\u001b[0m\u001b[0m\n\u001b[1;32m   1457\u001b[0m     \u001b[0;31m# -------------------------------------------------------------------\u001b[0m\u001b[0;34m\u001b[0m\u001b[0;34m\u001b[0m\u001b[0m\n",
      "\u001b[0;31mIndexError\u001b[0m: single positional indexer is out-of-bounds"
     ]
    }
   ],
   "source": [
    "plot_vals((4, 2, 3, 1, 5), max_count=False, log_y=True, i=1)"
   ]
  },
  {
   "cell_type": "code",
   "execution_count": null,
   "metadata": {},
   "outputs": [],
   "source": []
  }
 ],
 "metadata": {
  "kernelspec": {
   "display_name": "base",
   "language": "python",
   "name": "python3"
  },
  "language_info": {
   "codemirror_mode": {
    "name": "ipython",
    "version": 3
   },
   "file_extension": ".py",
   "mimetype": "text/x-python",
   "name": "python",
   "nbconvert_exporter": "python",
   "pygments_lexer": "ipython3",
   "version": "3.9.13"
  },
  "orig_nbformat": 4,
  "vscode": {
   "interpreter": {
    "hash": "cf41f9f6e5ebc9bc907dc86349423643935ffbb6232c1977132c28683456eead"
   }
  }
 },
 "nbformat": 4,
 "nbformat_minor": 2
}
