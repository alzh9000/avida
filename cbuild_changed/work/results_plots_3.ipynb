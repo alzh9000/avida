{
 "cells": [
  {
   "cell_type": "code",
   "execution_count": 2,
   "metadata": {},
   "outputs": [],
   "source": [
    "\n",
    "\n",
    "# Directory containing the files\n",
    "dir_path = '229r/all1'\n",
    "\n",
    "# Directory containing the files\n",
    "dat_dir_path = 'data/229r/all1'\n"
   ]
  },
  {
   "cell_type": "code",
   "execution_count": 3,
   "metadata": {},
   "outputs": [],
   "source": [
    "import pandas as pd\n",
    "import plotly.graph_objs as go\n",
    "import plotly.io as pio\n",
    "file_name = \"\"\"229r/task_date_{'x': 10, 'y': 10}_{'NOT': 1.0, 'NAND': 1.0, 'AND': 2.0, 'ORN': 2.0, 'OR': 3.0, 'ANDN': 3.0, 'NOR': 4.0, 'XOR': 4.0, 'EQU': 5.0}_03-06_20-38-48.txt\"\"\"\n",
    "\n",
    "def plot_graph(file_name=\"\"\"229r/task_date_{'x': 10, 'y': 10}_{'NOT': 1.0, 'NAND': 1.0, 'AND': 2.0, 'ORN': 2.0, 'OR': 3.0, 'ANDN': 3.0, 'NOR': 4.0, 'XOR': 4.0, 'EQU': 5.0}_03-06_20-38-48.txt\"\"\", title='Average Fitness over Time', width = 800,    height = 600, log_y=True):\n",
    "\n",
    "    # Read data from file into a list of strings\n",
    "    with open(file_name, 'r') as f:\n",
    "        lines = f.readlines()\n",
    "\n",
    "    # Parse the lines to create a list of dictionaries, where each dictionary contains values for each column\n",
    "    data = []\n",
    "    for line in lines:\n",
    "        if line.startswith('UD:'):\n",
    "            values = line.strip().split()\n",
    "            # print(values)\n",
    "\n",
    "            data.append({\n",
    "                'UD': int(values[1]),\n",
    "                'Gen': float(values[3]),\n",
    "                'Fit': float(values[5]),\n",
    "                'Orgs': int(values[7])\n",
    "            })\n",
    "\n",
    "    # Create dataframe from list of dictionaries\n",
    "    df = pd.DataFrame(data)\n",
    "        \n",
    "\n",
    "    # Define x and y data\n",
    "    x_data = df.iloc[:, 0] # First column as x-axis\n",
    "    y_data = df[[\"Fit\"]]\n",
    "    # y_data = df.iloc[:, 1:] # Every other column as y-axis\n",
    "\n",
    "    # Create plotly trace for each column\n",
    "    data = []\n",
    "    for column in y_data.columns:\n",
    "        trace = go.Scatter(x=x_data, y=y_data[column], mode='lines', name=column)\n",
    "        data.append(trace)\n",
    "\n",
    "    # Define plot layout\n",
    "    layout = go.Layout(title=title, xaxis=dict(title='# of updates'), yaxis=dict(title='average fitness'), margin=dict(t=40, b=20, l=20, r=20), autosize=False, width=width, height=height, yaxis_type='log' if log_y else 'linear')\n",
    "\n",
    "    # Create plotly figure\n",
    "    fig = go.Figure(data=data, layout=layout)\n",
    "\n",
    "    # Display plot\n",
    "    file_parts = file_name.split('/')\n",
    "    fig.show()\n",
    "    pio.write_image(fig, file_parts[0]+'/plots/'+file_parts[1].split('.')[0]+'.png', width=width, height=height, scale=2)\n"
   ]
  },
  {
   "cell_type": "code",
   "execution_count": 4,
   "metadata": {},
   "outputs": [
    {
     "name": "stdout",
     "output_type": "stream",
     "text": [
      "Last line does not start with UD: 13_mxc_True_[1, 2, 4, 3, 5]_date_04-17_10-49-22_xydict_values([120, 120]).txt\n"
     ]
    },
    {
     "data": {
      "text/html": [
       "<div>\n",
       "<style scoped>\n",
       "    .dataframe tbody tr th:only-of-type {\n",
       "        vertical-align: middle;\n",
       "    }\n",
       "\n",
       "    .dataframe tbody tr th {\n",
       "        vertical-align: top;\n",
       "    }\n",
       "\n",
       "    .dataframe thead th {\n",
       "        text-align: right;\n",
       "    }\n",
       "</style>\n",
       "<table border=\"1\" class=\"dataframe\">\n",
       "  <thead>\n",
       "    <tr style=\"text-align: right;\">\n",
       "      <th></th>\n",
       "      <th>Equals</th>\n",
       "      <th>max_count</th>\n",
       "      <th>values</th>\n",
       "      <th>last_line_string</th>\n",
       "      <th>experiment_start_time_string</th>\n",
       "      <th>xy_values</th>\n",
       "      <th>Last_UD</th>\n",
       "      <th>Gen</th>\n",
       "      <th>Fit</th>\n",
       "      <th>Orgs</th>\n",
       "      <th>...</th>\n",
       "      <th>filename</th>\n",
       "      <th>Update</th>\n",
       "      <th>Not</th>\n",
       "      <th>Nand</th>\n",
       "      <th>And</th>\n",
       "      <th>OrNot</th>\n",
       "      <th>Or</th>\n",
       "      <th>AndNot</th>\n",
       "      <th>Nor</th>\n",
       "      <th>Xor</th>\n",
       "    </tr>\n",
       "  </thead>\n",
       "  <tbody>\n",
       "    <tr>\n",
       "      <th>0</th>\n",
       "      <td>1826</td>\n",
       "      <td>0</td>\n",
       "      <td>(2, 3, 1, 4, 5)</td>\n",
       "      <td>[UD:, 4400, Gen:, 1017.648, Fit:, 5.304728e+72...</td>\n",
       "      <td>04-13_20-35-15</td>\n",
       "      <td>(120, 120)</td>\n",
       "      <td>4400</td>\n",
       "      <td>1017.6480</td>\n",
       "      <td>5.304728e+72</td>\n",
       "      <td>14345</td>\n",
       "      <td>...</td>\n",
       "      <td>0_mxc_True_[2, 3, 1, 4, 5]_date_04-13_20-35-15...</td>\n",
       "      <td>4400</td>\n",
       "      <td>12397</td>\n",
       "      <td>13294</td>\n",
       "      <td>11875</td>\n",
       "      <td>13104</td>\n",
       "      <td>49</td>\n",
       "      <td>542</td>\n",
       "      <td>9074</td>\n",
       "      <td>0</td>\n",
       "    </tr>\n",
       "    <tr>\n",
       "      <th>1</th>\n",
       "      <td>2</td>\n",
       "      <td>1</td>\n",
       "      <td>(2, 4, 3, 1, 5)</td>\n",
       "      <td>[UD:, 10000, Gen:, 3025.315, Fit:, 75508.13, O...</td>\n",
       "      <td>04-18_00-00-52</td>\n",
       "      <td>(120, 120)</td>\n",
       "      <td>10000</td>\n",
       "      <td>3025.3150</td>\n",
       "      <td>7.550813e+04</td>\n",
       "      <td>14379</td>\n",
       "      <td>...</td>\n",
       "      <td>14_mxc_1_[2, 4, 3, 1, 5]_date_04-18_00-00-52_x...</td>\n",
       "      <td>10000</td>\n",
       "      <td>13663</td>\n",
       "      <td>13027</td>\n",
       "      <td>12022</td>\n",
       "      <td>12789</td>\n",
       "      <td>12783</td>\n",
       "      <td>11770</td>\n",
       "      <td>7</td>\n",
       "      <td>0</td>\n",
       "    </tr>\n",
       "    <tr>\n",
       "      <th>2</th>\n",
       "      <td>0</td>\n",
       "      <td>-1</td>\n",
       "      <td>(1, 3, 2, 4, 5)</td>\n",
       "      <td>[UD:, 10000, Gen:, 9906.699, Fit:, 1.068264e+9...</td>\n",
       "      <td>04-17_16-23-01</td>\n",
       "      <td>(120, 120)</td>\n",
       "      <td>10000</td>\n",
       "      <td>9906.6990</td>\n",
       "      <td>1.068264e+90</td>\n",
       "      <td>11072</td>\n",
       "      <td>...</td>\n",
       "      <td>14_mxc_-1_[1, 3, 2, 4, 5]_date_04-17_16-23-01_...</td>\n",
       "      <td>10000</td>\n",
       "      <td>2681</td>\n",
       "      <td>2130</td>\n",
       "      <td>546</td>\n",
       "      <td>4806</td>\n",
       "      <td>16</td>\n",
       "      <td>5</td>\n",
       "      <td>0</td>\n",
       "      <td>0</td>\n",
       "    </tr>\n",
       "    <tr>\n",
       "      <th>3</th>\n",
       "      <td>3389</td>\n",
       "      <td>0</td>\n",
       "      <td>(4, 1, 2, 3, 5)</td>\n",
       "      <td>[UD:, 3100, Gen:, 792.0930, Fit:, 9.769858e+44...</td>\n",
       "      <td>04-15_03-32-04</td>\n",
       "      <td>(120, 120)</td>\n",
       "      <td>3100</td>\n",
       "      <td>792.0930</td>\n",
       "      <td>9.769858e+44</td>\n",
       "      <td>14360</td>\n",
       "      <td>...</td>\n",
       "      <td>3_mxc_True_[4, 1, 2, 3, 5]_date_04-15_03-32-04...</td>\n",
       "      <td>3100</td>\n",
       "      <td>12099</td>\n",
       "      <td>12937</td>\n",
       "      <td>315</td>\n",
       "      <td>11570</td>\n",
       "      <td>2853</td>\n",
       "      <td>10150</td>\n",
       "      <td>4093</td>\n",
       "      <td>7</td>\n",
       "    </tr>\n",
       "    <tr>\n",
       "      <th>4</th>\n",
       "      <td>9140</td>\n",
       "      <td>0</td>\n",
       "      <td>(1, 4, 2, 3, 5)</td>\n",
       "      <td>[UD:, 6200, Gen:, 1636.221, Fit:, 1.244618e+22...</td>\n",
       "      <td>04-16_03-30-29</td>\n",
       "      <td>(120, 120)</td>\n",
       "      <td>6200</td>\n",
       "      <td>1636.2210</td>\n",
       "      <td>1.244618e+220</td>\n",
       "      <td>14310</td>\n",
       "      <td>...</td>\n",
       "      <td>8_mxc_True_[1, 4, 2, 3, 5]_date_04-16_03-30-29...</td>\n",
       "      <td>6200</td>\n",
       "      <td>12429</td>\n",
       "      <td>13096</td>\n",
       "      <td>12429</td>\n",
       "      <td>13473</td>\n",
       "      <td>11883</td>\n",
       "      <td>12242</td>\n",
       "      <td>407</td>\n",
       "      <td>0</td>\n",
       "    </tr>\n",
       "    <tr>\n",
       "      <th>...</th>\n",
       "      <td>...</td>\n",
       "      <td>...</td>\n",
       "      <td>...</td>\n",
       "      <td>...</td>\n",
       "      <td>...</td>\n",
       "      <td>...</td>\n",
       "      <td>...</td>\n",
       "      <td>...</td>\n",
       "      <td>...</td>\n",
       "      <td>...</td>\n",
       "      <td>...</td>\n",
       "      <td>...</td>\n",
       "      <td>...</td>\n",
       "      <td>...</td>\n",
       "      <td>...</td>\n",
       "      <td>...</td>\n",
       "      <td>...</td>\n",
       "      <td>...</td>\n",
       "      <td>...</td>\n",
       "      <td>...</td>\n",
       "      <td>...</td>\n",
       "    </tr>\n",
       "    <tr>\n",
       "      <th>1469</th>\n",
       "      <td>0</td>\n",
       "      <td>-1</td>\n",
       "      <td>(1, 2, 3, 4, 4)</td>\n",
       "      <td>[UD:, 10000, Gen:, 379.9630, Fit:, 5.925234e+1...</td>\n",
       "      <td>04-17_02-04-23</td>\n",
       "      <td>(120, 120)</td>\n",
       "      <td>10000</td>\n",
       "      <td>379.9630</td>\n",
       "      <td>5.925234e+163</td>\n",
       "      <td>12514</td>\n",
       "      <td>...</td>\n",
       "      <td>12_mxc_False_[1, 2, 3, 4, 4]_date_04-17_02-04-...</td>\n",
       "      <td>10000</td>\n",
       "      <td>696</td>\n",
       "      <td>890</td>\n",
       "      <td>467</td>\n",
       "      <td>3541</td>\n",
       "      <td>3621</td>\n",
       "      <td>640</td>\n",
       "      <td>1589</td>\n",
       "      <td>0</td>\n",
       "    </tr>\n",
       "    <tr>\n",
       "      <th>1470</th>\n",
       "      <td>0</td>\n",
       "      <td>0</td>\n",
       "      <td>(1, 2, 3, 4, 1)</td>\n",
       "      <td>[UD:, 10000, Gen:, 2267.469, Fit:, 4658.941, O...</td>\n",
       "      <td>04-22_01-04-11</td>\n",
       "      <td>(120, 120)</td>\n",
       "      <td>10000</td>\n",
       "      <td>2267.4690</td>\n",
       "      <td>4.658941e+03</td>\n",
       "      <td>14386</td>\n",
       "      <td>...</td>\n",
       "      <td>21_mxc_0_[1, 2, 3, 4, 1]_date_04-22_01-04-11_x...</td>\n",
       "      <td>10000</td>\n",
       "      <td>13584</td>\n",
       "      <td>13493</td>\n",
       "      <td>145</td>\n",
       "      <td>13380</td>\n",
       "      <td>13002</td>\n",
       "      <td>13042</td>\n",
       "      <td>13036</td>\n",
       "      <td>0</td>\n",
       "    </tr>\n",
       "    <tr>\n",
       "      <th>1471</th>\n",
       "      <td>0</td>\n",
       "      <td>-1</td>\n",
       "      <td>(1, 2, 4, 3, 5)</td>\n",
       "      <td>[UD:, 9400, Gen:, 3559.430, Fit:, 5.733812e+25...</td>\n",
       "      <td>04-18_10-25-05</td>\n",
       "      <td>(120, 120)</td>\n",
       "      <td>9400</td>\n",
       "      <td>3559.4300</td>\n",
       "      <td>5.733812e+254</td>\n",
       "      <td>14199</td>\n",
       "      <td>...</td>\n",
       "      <td>15_mxc_-1_[1, 2, 4, 3, 5]_date_04-18_10-25-05_...</td>\n",
       "      <td>9400</td>\n",
       "      <td>399</td>\n",
       "      <td>11795</td>\n",
       "      <td>151</td>\n",
       "      <td>174</td>\n",
       "      <td>7093</td>\n",
       "      <td>11153</td>\n",
       "      <td>0</td>\n",
       "      <td>3</td>\n",
       "    </tr>\n",
       "    <tr>\n",
       "      <th>1472</th>\n",
       "      <td>0</td>\n",
       "      <td>0</td>\n",
       "      <td>(4, 1, 2, 3, 5)</td>\n",
       "      <td>[UD:, 10000, Gen:, 2650.036, Fit:, 26249.29, O...</td>\n",
       "      <td>04-18_03-42-57</td>\n",
       "      <td>(120, 120)</td>\n",
       "      <td>10000</td>\n",
       "      <td>2650.0360</td>\n",
       "      <td>2.624929e+04</td>\n",
       "      <td>14367</td>\n",
       "      <td>...</td>\n",
       "      <td>14_mxc_0_[4, 1, 2, 3, 5]_date_04-18_03-42-57_x...</td>\n",
       "      <td>10000</td>\n",
       "      <td>13013</td>\n",
       "      <td>11787</td>\n",
       "      <td>8818</td>\n",
       "      <td>12283</td>\n",
       "      <td>12266</td>\n",
       "      <td>11097</td>\n",
       "      <td>12046</td>\n",
       "      <td>0</td>\n",
       "    </tr>\n",
       "    <tr>\n",
       "      <th>1473</th>\n",
       "      <td>967</td>\n",
       "      <td>0</td>\n",
       "      <td>(1, 3, 2, 4, 5)</td>\n",
       "      <td>[UD:, 2600, Gen:, 863.4258, Fit:, 714.1025, Or...</td>\n",
       "      <td>04-14_10-10-09</td>\n",
       "      <td>(120, 120)</td>\n",
       "      <td>2600</td>\n",
       "      <td>863.4258</td>\n",
       "      <td>7.141025e+02</td>\n",
       "      <td>14361</td>\n",
       "      <td>...</td>\n",
       "      <td>2_mxc_True_[1, 3, 2, 4, 5]_date_04-14_10-10-09...</td>\n",
       "      <td>2600</td>\n",
       "      <td>2567</td>\n",
       "      <td>944</td>\n",
       "      <td>9277</td>\n",
       "      <td>9928</td>\n",
       "      <td>21</td>\n",
       "      <td>9222</td>\n",
       "      <td>7192</td>\n",
       "      <td>0</td>\n",
       "    </tr>\n",
       "  </tbody>\n",
       "</table>\n",
       "<p>1474 rows × 21 columns</p>\n",
       "</div>"
      ],
      "text/plain": [
       "      Equals  max_count           values  \\\n",
       "0       1826          0  (2, 3, 1, 4, 5)   \n",
       "1          2          1  (2, 4, 3, 1, 5)   \n",
       "2          0         -1  (1, 3, 2, 4, 5)   \n",
       "3       3389          0  (4, 1, 2, 3, 5)   \n",
       "4       9140          0  (1, 4, 2, 3, 5)   \n",
       "...      ...        ...              ...   \n",
       "1469       0         -1  (1, 2, 3, 4, 4)   \n",
       "1470       0          0  (1, 2, 3, 4, 1)   \n",
       "1471       0         -1  (1, 2, 4, 3, 5)   \n",
       "1472       0          0  (4, 1, 2, 3, 5)   \n",
       "1473     967          0  (1, 3, 2, 4, 5)   \n",
       "\n",
       "                                       last_line_string  \\\n",
       "0     [UD:, 4400, Gen:, 1017.648, Fit:, 5.304728e+72...   \n",
       "1     [UD:, 10000, Gen:, 3025.315, Fit:, 75508.13, O...   \n",
       "2     [UD:, 10000, Gen:, 9906.699, Fit:, 1.068264e+9...   \n",
       "3     [UD:, 3100, Gen:, 792.0930, Fit:, 9.769858e+44...   \n",
       "4     [UD:, 6200, Gen:, 1636.221, Fit:, 1.244618e+22...   \n",
       "...                                                 ...   \n",
       "1469  [UD:, 10000, Gen:, 379.9630, Fit:, 5.925234e+1...   \n",
       "1470  [UD:, 10000, Gen:, 2267.469, Fit:, 4658.941, O...   \n",
       "1471  [UD:, 9400, Gen:, 3559.430, Fit:, 5.733812e+25...   \n",
       "1472  [UD:, 10000, Gen:, 2650.036, Fit:, 26249.29, O...   \n",
       "1473  [UD:, 2600, Gen:, 863.4258, Fit:, 714.1025, Or...   \n",
       "\n",
       "     experiment_start_time_string   xy_values  Last_UD        Gen  \\\n",
       "0                  04-13_20-35-15  (120, 120)     4400  1017.6480   \n",
       "1                  04-18_00-00-52  (120, 120)    10000  3025.3150   \n",
       "2                  04-17_16-23-01  (120, 120)    10000  9906.6990   \n",
       "3                  04-15_03-32-04  (120, 120)     3100   792.0930   \n",
       "4                  04-16_03-30-29  (120, 120)     6200  1636.2210   \n",
       "...                           ...         ...      ...        ...   \n",
       "1469               04-17_02-04-23  (120, 120)    10000   379.9630   \n",
       "1470               04-22_01-04-11  (120, 120)    10000  2267.4690   \n",
       "1471               04-18_10-25-05  (120, 120)     9400  3559.4300   \n",
       "1472               04-18_03-42-57  (120, 120)    10000  2650.0360   \n",
       "1473               04-14_10-10-09  (120, 120)     2600   863.4258   \n",
       "\n",
       "                Fit   Orgs  ...  \\\n",
       "0      5.304728e+72  14345  ...   \n",
       "1      7.550813e+04  14379  ...   \n",
       "2      1.068264e+90  11072  ...   \n",
       "3      9.769858e+44  14360  ...   \n",
       "4     1.244618e+220  14310  ...   \n",
       "...             ...    ...  ...   \n",
       "1469  5.925234e+163  12514  ...   \n",
       "1470   4.658941e+03  14386  ...   \n",
       "1471  5.733812e+254  14199  ...   \n",
       "1472   2.624929e+04  14367  ...   \n",
       "1473   7.141025e+02  14361  ...   \n",
       "\n",
       "                                               filename Update    Not   Nand  \\\n",
       "0     0_mxc_True_[2, 3, 1, 4, 5]_date_04-13_20-35-15...   4400  12397  13294   \n",
       "1     14_mxc_1_[2, 4, 3, 1, 5]_date_04-18_00-00-52_x...  10000  13663  13027   \n",
       "2     14_mxc_-1_[1, 3, 2, 4, 5]_date_04-17_16-23-01_...  10000   2681   2130   \n",
       "3     3_mxc_True_[4, 1, 2, 3, 5]_date_04-15_03-32-04...   3100  12099  12937   \n",
       "4     8_mxc_True_[1, 4, 2, 3, 5]_date_04-16_03-30-29...   6200  12429  13096   \n",
       "...                                                 ...    ...    ...    ...   \n",
       "1469  12_mxc_False_[1, 2, 3, 4, 4]_date_04-17_02-04-...  10000    696    890   \n",
       "1470  21_mxc_0_[1, 2, 3, 4, 1]_date_04-22_01-04-11_x...  10000  13584  13493   \n",
       "1471  15_mxc_-1_[1, 2, 4, 3, 5]_date_04-18_10-25-05_...   9400    399  11795   \n",
       "1472  14_mxc_0_[4, 1, 2, 3, 5]_date_04-18_03-42-57_x...  10000  13013  11787   \n",
       "1473  2_mxc_True_[1, 3, 2, 4, 5]_date_04-14_10-10-09...   2600   2567    944   \n",
       "\n",
       "        And  OrNot     Or  AndNot    Nor  Xor  \n",
       "0     11875  13104     49     542   9074    0  \n",
       "1     12022  12789  12783   11770      7    0  \n",
       "2       546   4806     16       5      0    0  \n",
       "3       315  11570   2853   10150   4093    7  \n",
       "4     12429  13473  11883   12242    407    0  \n",
       "...     ...    ...    ...     ...    ...  ...  \n",
       "1469    467   3541   3621     640   1589    0  \n",
       "1470    145  13380  13002   13042  13036    0  \n",
       "1471    151    174   7093   11153      0    3  \n",
       "1472   8818  12283  12266   11097  12046    0  \n",
       "1473   9277   9928     21    9222   7192    0  \n",
       "\n",
       "[1474 rows x 21 columns]"
      ]
     },
     "execution_count": 4,
     "metadata": {},
     "output_type": "execute_result"
    }
   ],
   "source": [
    "import os\n",
    "import pandas as pd\n",
    "import re\n",
    "# List to store the file names and last lines\n",
    "file_data = []\n",
    "\n",
    "# Regular expression pattern\n",
    "pattern = r\"(\\d+)_mxc_([\\w-]+)_(\\[.*\\])_date_(\\d{2}-\\d{2})_(\\d{2}-\\d{2}-\\d{2})_xydict_values\\((\\[.*\\])\\)\\.txt\"\n",
    "# Create an empty DataFrame with the required columns\n",
    "column_names = ['index', 'max_count', 'values', 'experiment_start_time_string', 'xy_values', 'Last_UD', 'Gen', 'Fit', 'Orgs']\n",
    "df = pd.DataFrame(columns=column_names)\n",
    "\n",
    "# Create an empty list to store the data\n",
    "data_list = []\n",
    "\n",
    "# Loop through all the files in the directory\n",
    "for filename in os.listdir(dir_path):\n",
    "    # Check if the file is a text file\n",
    "    if filename.endswith('.txt'):\n",
    "        # Open the file and read the last line\n",
    "        with open(os.path.join(dir_path, filename), 'r') as f:\n",
    "            # Search for pattern in the log_file_name\n",
    "            match = re.search(pattern, filename)\n",
    "            if not match:\n",
    "                raise Exception(\"No match found for pattern in file name: {}\".format(filename))\n",
    "            index = int(match.group(1))\n",
    "            max_count = match.group(2)\n",
    "            if max_count == 'False':\n",
    "                max_count = -1\n",
    "            elif max_count == 'True':\n",
    "                max_count = 0\n",
    "            else:\n",
    "                max_count = int(match.group(2))\n",
    "                # continue\n",
    "            \n",
    "            values = tuple(int(i) for i in match.group(3).strip('[]').split(', '))\n",
    "            experiment_start_time_string = match.group(4) + \"_\" + match.group(5)\n",
    "            xy_values = tuple(int(i) for i in match.group(6).strip('[]').split(', '))\n",
    "            \n",
    "            lines = f.readlines()\n",
    "            last_line = lines[-1].strip()\n",
    "            \n",
    "            with open(os.path.join(dat_dir_path, filename), 'r') as fdat: \n",
    "                lines_dat = fdat.readlines()\n",
    "                last_line_dat = lines_dat[-1].strip()\n",
    "                numbers = last_line_dat.split()\n",
    "\n",
    "                dictionary = {\n",
    "                    \"Update\": int(numbers[0]),\n",
    "                    \"Not\": int(numbers[1]),\n",
    "                    \"Nand\": int(numbers[2]),\n",
    "                    \"And\": int(numbers[3]),\n",
    "                    \"OrNot\": int(numbers[4]),\n",
    "                    \"Or\": int(numbers[5]),\n",
    "                    \"AndNot\": int(numbers[6]),\n",
    "                    \"Nor\": int(numbers[7]),\n",
    "                    \"Xor\": int(numbers[8])\n",
    "                }\n",
    "                EQU_dict = {\n",
    "                    \"Equals\": int(numbers[9])}\n",
    "\n",
    "            \n",
    "            if last_line.startswith('UD:'):\n",
    "                last_line_string = last_line.strip().split()\n",
    "\n",
    "                data = {\n",
    "                'max_count': max_count,\n",
    "                'values': values,\n",
    "                'last_line_string': last_line_string,\n",
    "                'experiment_start_time_string': experiment_start_time_string,\n",
    "                'xy_values': xy_values,\n",
    "                'Last_UD': int(last_line_string[1]),\n",
    "                'Gen': float(last_line_string[3]),\n",
    "                'Fit': float(last_line_string[5]),\n",
    "                'Orgs': int(last_line_string[7]),\n",
    "                'index': index,\n",
    "                'filename': filename,\n",
    "                }\n",
    "                data.update(dictionary)\n",
    "                EQU_dict.update(data)\n",
    "\n",
    "                # Append the data to the list\n",
    "                data_list.append(EQU_dict)\n",
    "            else: \n",
    "                print(\"Last line does not start with UD: {}\".format(filename))\n",
    "                continue \n",
    "\n",
    "# Create the DataFrame from the data list\n",
    "df = pd.DataFrame(data_list)\n",
    "\n",
    "# Print the dataframe\n",
    "df\n"
   ]
  },
  {
   "cell_type": "code",
   "execution_count": 5,
   "metadata": {},
   "outputs": [],
   "source": [
    "import pandas as pd\n",
    "import pickle\n",
    "\n",
    "# Pickle the dataframe to a file\n",
    "with open('229r/results/all1_rp3_fitness_and_counts_df.pickle', 'wb') as f:\n",
    "    pickle.dump(df, f)\n"
   ]
  },
  {
   "cell_type": "code",
   "execution_count": 6,
   "metadata": {},
   "outputs": [
    {
     "data": {
      "text/html": [
       "<div>\n",
       "<style scoped>\n",
       "    .dataframe tbody tr th:only-of-type {\n",
       "        vertical-align: middle;\n",
       "    }\n",
       "\n",
       "    .dataframe tbody tr th {\n",
       "        vertical-align: top;\n",
       "    }\n",
       "\n",
       "    .dataframe thead th {\n",
       "        text-align: right;\n",
       "    }\n",
       "</style>\n",
       "<table border=\"1\" class=\"dataframe\">\n",
       "  <thead>\n",
       "    <tr style=\"text-align: right;\">\n",
       "      <th></th>\n",
       "      <th>Equals</th>\n",
       "      <th>max_count</th>\n",
       "      <th>values</th>\n",
       "      <th>last_line_string</th>\n",
       "      <th>experiment_start_time_string</th>\n",
       "      <th>xy_values</th>\n",
       "      <th>Last_UD</th>\n",
       "      <th>Gen</th>\n",
       "      <th>Fit</th>\n",
       "      <th>Orgs</th>\n",
       "      <th>...</th>\n",
       "      <th>filename</th>\n",
       "      <th>Update</th>\n",
       "      <th>Not</th>\n",
       "      <th>Nand</th>\n",
       "      <th>And</th>\n",
       "      <th>OrNot</th>\n",
       "      <th>Or</th>\n",
       "      <th>AndNot</th>\n",
       "      <th>Nor</th>\n",
       "      <th>Xor</th>\n",
       "    </tr>\n",
       "  </thead>\n",
       "  <tbody>\n",
       "    <tr>\n",
       "      <th>0</th>\n",
       "      <td>1826</td>\n",
       "      <td>0</td>\n",
       "      <td>(2, 3, 1, 4, 5)</td>\n",
       "      <td>[UD:, 4400, Gen:, 1017.648, Fit:, 5.304728e+72...</td>\n",
       "      <td>04-13_20-35-15</td>\n",
       "      <td>(120, 120)</td>\n",
       "      <td>4400</td>\n",
       "      <td>1017.6480</td>\n",
       "      <td>5.304728e+72</td>\n",
       "      <td>14345</td>\n",
       "      <td>...</td>\n",
       "      <td>0_mxc_True_[2, 3, 1, 4, 5]_date_04-13_20-35-15...</td>\n",
       "      <td>4400</td>\n",
       "      <td>12397</td>\n",
       "      <td>13294</td>\n",
       "      <td>11875</td>\n",
       "      <td>13104</td>\n",
       "      <td>49</td>\n",
       "      <td>542</td>\n",
       "      <td>9074</td>\n",
       "      <td>0</td>\n",
       "    </tr>\n",
       "    <tr>\n",
       "      <th>1</th>\n",
       "      <td>2</td>\n",
       "      <td>1</td>\n",
       "      <td>(2, 4, 3, 1, 5)</td>\n",
       "      <td>[UD:, 10000, Gen:, 3025.315, Fit:, 75508.13, O...</td>\n",
       "      <td>04-18_00-00-52</td>\n",
       "      <td>(120, 120)</td>\n",
       "      <td>10000</td>\n",
       "      <td>3025.3150</td>\n",
       "      <td>7.550813e+04</td>\n",
       "      <td>14379</td>\n",
       "      <td>...</td>\n",
       "      <td>14_mxc_1_[2, 4, 3, 1, 5]_date_04-18_00-00-52_x...</td>\n",
       "      <td>10000</td>\n",
       "      <td>13663</td>\n",
       "      <td>13027</td>\n",
       "      <td>12022</td>\n",
       "      <td>12789</td>\n",
       "      <td>12783</td>\n",
       "      <td>11770</td>\n",
       "      <td>7</td>\n",
       "      <td>0</td>\n",
       "    </tr>\n",
       "    <tr>\n",
       "      <th>2</th>\n",
       "      <td>0</td>\n",
       "      <td>-1</td>\n",
       "      <td>(1, 3, 2, 4, 5)</td>\n",
       "      <td>[UD:, 10000, Gen:, 9906.699, Fit:, 1.068264e+9...</td>\n",
       "      <td>04-17_16-23-01</td>\n",
       "      <td>(120, 120)</td>\n",
       "      <td>10000</td>\n",
       "      <td>9906.6990</td>\n",
       "      <td>1.068264e+90</td>\n",
       "      <td>11072</td>\n",
       "      <td>...</td>\n",
       "      <td>14_mxc_-1_[1, 3, 2, 4, 5]_date_04-17_16-23-01_...</td>\n",
       "      <td>10000</td>\n",
       "      <td>2681</td>\n",
       "      <td>2130</td>\n",
       "      <td>546</td>\n",
       "      <td>4806</td>\n",
       "      <td>16</td>\n",
       "      <td>5</td>\n",
       "      <td>0</td>\n",
       "      <td>0</td>\n",
       "    </tr>\n",
       "    <tr>\n",
       "      <th>3</th>\n",
       "      <td>3389</td>\n",
       "      <td>0</td>\n",
       "      <td>(4, 1, 2, 3, 5)</td>\n",
       "      <td>[UD:, 3100, Gen:, 792.0930, Fit:, 9.769858e+44...</td>\n",
       "      <td>04-15_03-32-04</td>\n",
       "      <td>(120, 120)</td>\n",
       "      <td>3100</td>\n",
       "      <td>792.0930</td>\n",
       "      <td>9.769858e+44</td>\n",
       "      <td>14360</td>\n",
       "      <td>...</td>\n",
       "      <td>3_mxc_True_[4, 1, 2, 3, 5]_date_04-15_03-32-04...</td>\n",
       "      <td>3100</td>\n",
       "      <td>12099</td>\n",
       "      <td>12937</td>\n",
       "      <td>315</td>\n",
       "      <td>11570</td>\n",
       "      <td>2853</td>\n",
       "      <td>10150</td>\n",
       "      <td>4093</td>\n",
       "      <td>7</td>\n",
       "    </tr>\n",
       "    <tr>\n",
       "      <th>4</th>\n",
       "      <td>9140</td>\n",
       "      <td>0</td>\n",
       "      <td>(1, 4, 2, 3, 5)</td>\n",
       "      <td>[UD:, 6200, Gen:, 1636.221, Fit:, 1.244618e+22...</td>\n",
       "      <td>04-16_03-30-29</td>\n",
       "      <td>(120, 120)</td>\n",
       "      <td>6200</td>\n",
       "      <td>1636.2210</td>\n",
       "      <td>1.244618e+220</td>\n",
       "      <td>14310</td>\n",
       "      <td>...</td>\n",
       "      <td>8_mxc_True_[1, 4, 2, 3, 5]_date_04-16_03-30-29...</td>\n",
       "      <td>6200</td>\n",
       "      <td>12429</td>\n",
       "      <td>13096</td>\n",
       "      <td>12429</td>\n",
       "      <td>13473</td>\n",
       "      <td>11883</td>\n",
       "      <td>12242</td>\n",
       "      <td>407</td>\n",
       "      <td>0</td>\n",
       "    </tr>\n",
       "    <tr>\n",
       "      <th>...</th>\n",
       "      <td>...</td>\n",
       "      <td>...</td>\n",
       "      <td>...</td>\n",
       "      <td>...</td>\n",
       "      <td>...</td>\n",
       "      <td>...</td>\n",
       "      <td>...</td>\n",
       "      <td>...</td>\n",
       "      <td>...</td>\n",
       "      <td>...</td>\n",
       "      <td>...</td>\n",
       "      <td>...</td>\n",
       "      <td>...</td>\n",
       "      <td>...</td>\n",
       "      <td>...</td>\n",
       "      <td>...</td>\n",
       "      <td>...</td>\n",
       "      <td>...</td>\n",
       "      <td>...</td>\n",
       "      <td>...</td>\n",
       "      <td>...</td>\n",
       "    </tr>\n",
       "    <tr>\n",
       "      <th>1469</th>\n",
       "      <td>0</td>\n",
       "      <td>-1</td>\n",
       "      <td>(1, 2, 3, 4, 4)</td>\n",
       "      <td>[UD:, 10000, Gen:, 379.9630, Fit:, 5.925234e+1...</td>\n",
       "      <td>04-17_02-04-23</td>\n",
       "      <td>(120, 120)</td>\n",
       "      <td>10000</td>\n",
       "      <td>379.9630</td>\n",
       "      <td>5.925234e+163</td>\n",
       "      <td>12514</td>\n",
       "      <td>...</td>\n",
       "      <td>12_mxc_False_[1, 2, 3, 4, 4]_date_04-17_02-04-...</td>\n",
       "      <td>10000</td>\n",
       "      <td>696</td>\n",
       "      <td>890</td>\n",
       "      <td>467</td>\n",
       "      <td>3541</td>\n",
       "      <td>3621</td>\n",
       "      <td>640</td>\n",
       "      <td>1589</td>\n",
       "      <td>0</td>\n",
       "    </tr>\n",
       "    <tr>\n",
       "      <th>1470</th>\n",
       "      <td>0</td>\n",
       "      <td>0</td>\n",
       "      <td>(1, 2, 3, 4, 1)</td>\n",
       "      <td>[UD:, 10000, Gen:, 2267.469, Fit:, 4658.941, O...</td>\n",
       "      <td>04-22_01-04-11</td>\n",
       "      <td>(120, 120)</td>\n",
       "      <td>10000</td>\n",
       "      <td>2267.4690</td>\n",
       "      <td>4.658941e+03</td>\n",
       "      <td>14386</td>\n",
       "      <td>...</td>\n",
       "      <td>21_mxc_0_[1, 2, 3, 4, 1]_date_04-22_01-04-11_x...</td>\n",
       "      <td>10000</td>\n",
       "      <td>13584</td>\n",
       "      <td>13493</td>\n",
       "      <td>145</td>\n",
       "      <td>13380</td>\n",
       "      <td>13002</td>\n",
       "      <td>13042</td>\n",
       "      <td>13036</td>\n",
       "      <td>0</td>\n",
       "    </tr>\n",
       "    <tr>\n",
       "      <th>1471</th>\n",
       "      <td>0</td>\n",
       "      <td>-1</td>\n",
       "      <td>(1, 2, 4, 3, 5)</td>\n",
       "      <td>[UD:, 9400, Gen:, 3559.430, Fit:, 5.733812e+25...</td>\n",
       "      <td>04-18_10-25-05</td>\n",
       "      <td>(120, 120)</td>\n",
       "      <td>9400</td>\n",
       "      <td>3559.4300</td>\n",
       "      <td>5.733812e+254</td>\n",
       "      <td>14199</td>\n",
       "      <td>...</td>\n",
       "      <td>15_mxc_-1_[1, 2, 4, 3, 5]_date_04-18_10-25-05_...</td>\n",
       "      <td>9400</td>\n",
       "      <td>399</td>\n",
       "      <td>11795</td>\n",
       "      <td>151</td>\n",
       "      <td>174</td>\n",
       "      <td>7093</td>\n",
       "      <td>11153</td>\n",
       "      <td>0</td>\n",
       "      <td>3</td>\n",
       "    </tr>\n",
       "    <tr>\n",
       "      <th>1472</th>\n",
       "      <td>0</td>\n",
       "      <td>0</td>\n",
       "      <td>(4, 1, 2, 3, 5)</td>\n",
       "      <td>[UD:, 10000, Gen:, 2650.036, Fit:, 26249.29, O...</td>\n",
       "      <td>04-18_03-42-57</td>\n",
       "      <td>(120, 120)</td>\n",
       "      <td>10000</td>\n",
       "      <td>2650.0360</td>\n",
       "      <td>2.624929e+04</td>\n",
       "      <td>14367</td>\n",
       "      <td>...</td>\n",
       "      <td>14_mxc_0_[4, 1, 2, 3, 5]_date_04-18_03-42-57_x...</td>\n",
       "      <td>10000</td>\n",
       "      <td>13013</td>\n",
       "      <td>11787</td>\n",
       "      <td>8818</td>\n",
       "      <td>12283</td>\n",
       "      <td>12266</td>\n",
       "      <td>11097</td>\n",
       "      <td>12046</td>\n",
       "      <td>0</td>\n",
       "    </tr>\n",
       "    <tr>\n",
       "      <th>1473</th>\n",
       "      <td>967</td>\n",
       "      <td>0</td>\n",
       "      <td>(1, 3, 2, 4, 5)</td>\n",
       "      <td>[UD:, 2600, Gen:, 863.4258, Fit:, 714.1025, Or...</td>\n",
       "      <td>04-14_10-10-09</td>\n",
       "      <td>(120, 120)</td>\n",
       "      <td>2600</td>\n",
       "      <td>863.4258</td>\n",
       "      <td>7.141025e+02</td>\n",
       "      <td>14361</td>\n",
       "      <td>...</td>\n",
       "      <td>2_mxc_True_[1, 3, 2, 4, 5]_date_04-14_10-10-09...</td>\n",
       "      <td>2600</td>\n",
       "      <td>2567</td>\n",
       "      <td>944</td>\n",
       "      <td>9277</td>\n",
       "      <td>9928</td>\n",
       "      <td>21</td>\n",
       "      <td>9222</td>\n",
       "      <td>7192</td>\n",
       "      <td>0</td>\n",
       "    </tr>\n",
       "  </tbody>\n",
       "</table>\n",
       "<p>1474 rows × 21 columns</p>\n",
       "</div>"
      ],
      "text/plain": [
       "      Equals  max_count           values  \\\n",
       "0       1826          0  (2, 3, 1, 4, 5)   \n",
       "1          2          1  (2, 4, 3, 1, 5)   \n",
       "2          0         -1  (1, 3, 2, 4, 5)   \n",
       "3       3389          0  (4, 1, 2, 3, 5)   \n",
       "4       9140          0  (1, 4, 2, 3, 5)   \n",
       "...      ...        ...              ...   \n",
       "1469       0         -1  (1, 2, 3, 4, 4)   \n",
       "1470       0          0  (1, 2, 3, 4, 1)   \n",
       "1471       0         -1  (1, 2, 4, 3, 5)   \n",
       "1472       0          0  (4, 1, 2, 3, 5)   \n",
       "1473     967          0  (1, 3, 2, 4, 5)   \n",
       "\n",
       "                                       last_line_string  \\\n",
       "0     [UD:, 4400, Gen:, 1017.648, Fit:, 5.304728e+72...   \n",
       "1     [UD:, 10000, Gen:, 3025.315, Fit:, 75508.13, O...   \n",
       "2     [UD:, 10000, Gen:, 9906.699, Fit:, 1.068264e+9...   \n",
       "3     [UD:, 3100, Gen:, 792.0930, Fit:, 9.769858e+44...   \n",
       "4     [UD:, 6200, Gen:, 1636.221, Fit:, 1.244618e+22...   \n",
       "...                                                 ...   \n",
       "1469  [UD:, 10000, Gen:, 379.9630, Fit:, 5.925234e+1...   \n",
       "1470  [UD:, 10000, Gen:, 2267.469, Fit:, 4658.941, O...   \n",
       "1471  [UD:, 9400, Gen:, 3559.430, Fit:, 5.733812e+25...   \n",
       "1472  [UD:, 10000, Gen:, 2650.036, Fit:, 26249.29, O...   \n",
       "1473  [UD:, 2600, Gen:, 863.4258, Fit:, 714.1025, Or...   \n",
       "\n",
       "     experiment_start_time_string   xy_values  Last_UD        Gen  \\\n",
       "0                  04-13_20-35-15  (120, 120)     4400  1017.6480   \n",
       "1                  04-18_00-00-52  (120, 120)    10000  3025.3150   \n",
       "2                  04-17_16-23-01  (120, 120)    10000  9906.6990   \n",
       "3                  04-15_03-32-04  (120, 120)     3100   792.0930   \n",
       "4                  04-16_03-30-29  (120, 120)     6200  1636.2210   \n",
       "...                           ...         ...      ...        ...   \n",
       "1469               04-17_02-04-23  (120, 120)    10000   379.9630   \n",
       "1470               04-22_01-04-11  (120, 120)    10000  2267.4690   \n",
       "1471               04-18_10-25-05  (120, 120)     9400  3559.4300   \n",
       "1472               04-18_03-42-57  (120, 120)    10000  2650.0360   \n",
       "1473               04-14_10-10-09  (120, 120)     2600   863.4258   \n",
       "\n",
       "                Fit   Orgs  ...  \\\n",
       "0      5.304728e+72  14345  ...   \n",
       "1      7.550813e+04  14379  ...   \n",
       "2      1.068264e+90  11072  ...   \n",
       "3      9.769858e+44  14360  ...   \n",
       "4     1.244618e+220  14310  ...   \n",
       "...             ...    ...  ...   \n",
       "1469  5.925234e+163  12514  ...   \n",
       "1470   4.658941e+03  14386  ...   \n",
       "1471  5.733812e+254  14199  ...   \n",
       "1472   2.624929e+04  14367  ...   \n",
       "1473   7.141025e+02  14361  ...   \n",
       "\n",
       "                                               filename Update    Not   Nand  \\\n",
       "0     0_mxc_True_[2, 3, 1, 4, 5]_date_04-13_20-35-15...   4400  12397  13294   \n",
       "1     14_mxc_1_[2, 4, 3, 1, 5]_date_04-18_00-00-52_x...  10000  13663  13027   \n",
       "2     14_mxc_-1_[1, 3, 2, 4, 5]_date_04-17_16-23-01_...  10000   2681   2130   \n",
       "3     3_mxc_True_[4, 1, 2, 3, 5]_date_04-15_03-32-04...   3100  12099  12937   \n",
       "4     8_mxc_True_[1, 4, 2, 3, 5]_date_04-16_03-30-29...   6200  12429  13096   \n",
       "...                                                 ...    ...    ...    ...   \n",
       "1469  12_mxc_False_[1, 2, 3, 4, 4]_date_04-17_02-04-...  10000    696    890   \n",
       "1470  21_mxc_0_[1, 2, 3, 4, 1]_date_04-22_01-04-11_x...  10000  13584  13493   \n",
       "1471  15_mxc_-1_[1, 2, 4, 3, 5]_date_04-18_10-25-05_...   9400    399  11795   \n",
       "1472  14_mxc_0_[4, 1, 2, 3, 5]_date_04-18_03-42-57_x...  10000  13013  11787   \n",
       "1473  2_mxc_True_[1, 3, 2, 4, 5]_date_04-14_10-10-09...   2600   2567    944   \n",
       "\n",
       "        And  OrNot     Or  AndNot    Nor  Xor  \n",
       "0     11875  13104     49     542   9074    0  \n",
       "1     12022  12789  12783   11770      7    0  \n",
       "2       546   4806     16       5      0    0  \n",
       "3       315  11570   2853   10150   4093    7  \n",
       "4     12429  13473  11883   12242    407    0  \n",
       "...     ...    ...    ...     ...    ...  ...  \n",
       "1469    467   3541   3621     640   1589    0  \n",
       "1470    145  13380  13002   13042  13036    0  \n",
       "1471    151    174   7093   11153      0    3  \n",
       "1472   8818  12283  12266   11097  12046    0  \n",
       "1473   9277   9928     21    9222   7192    0  \n",
       "\n",
       "[1474 rows x 21 columns]"
      ]
     },
     "metadata": {},
     "output_type": "display_data"
    }
   ],
   "source": [
    "import pandas as pd\n",
    "import pickle\n",
    "\n",
    "# Load the pickled dataframe from the file\n",
    "with open('229r/results/all1_rp3_fitness_and_counts_df.pickle', 'rb') as f:\n",
    "    df = pickle.load(f)\n",
    "\n",
    "# Print the dataframe\n",
    "display(df)\n"
   ]
  },
  {
   "cell_type": "code",
   "execution_count": 7,
   "metadata": {},
   "outputs": [
    {
     "data": {
      "text/html": [
       "<div>\n",
       "<style scoped>\n",
       "    .dataframe tbody tr th:only-of-type {\n",
       "        vertical-align: middle;\n",
       "    }\n",
       "\n",
       "    .dataframe tbody tr th {\n",
       "        vertical-align: top;\n",
       "    }\n",
       "\n",
       "    .dataframe thead th {\n",
       "        text-align: right;\n",
       "    }\n",
       "</style>\n",
       "<table border=\"1\" class=\"dataframe\">\n",
       "  <thead>\n",
       "    <tr style=\"text-align: right;\">\n",
       "      <th></th>\n",
       "      <th>Equals</th>\n",
       "      <th>max_count</th>\n",
       "      <th>Last_UD</th>\n",
       "      <th>Gen</th>\n",
       "      <th>Fit</th>\n",
       "      <th>Orgs</th>\n",
       "      <th>index</th>\n",
       "      <th>Update</th>\n",
       "      <th>Not</th>\n",
       "      <th>Nand</th>\n",
       "      <th>And</th>\n",
       "      <th>OrNot</th>\n",
       "      <th>Or</th>\n",
       "      <th>AndNot</th>\n",
       "      <th>Nor</th>\n",
       "      <th>Xor</th>\n",
       "    </tr>\n",
       "  </thead>\n",
       "  <tbody>\n",
       "    <tr>\n",
       "      <th>count</th>\n",
       "      <td>1474.000000</td>\n",
       "      <td>1474.000000</td>\n",
       "      <td>1474.000000</td>\n",
       "      <td>1474.000000</td>\n",
       "      <td>1.474000e+03</td>\n",
       "      <td>1474.00000</td>\n",
       "      <td>1474.000000</td>\n",
       "      <td>1474.000000</td>\n",
       "      <td>1474.000000</td>\n",
       "      <td>1474.000000</td>\n",
       "      <td>1474.000000</td>\n",
       "      <td>1474.000000</td>\n",
       "      <td>1474.000000</td>\n",
       "      <td>1474.000000</td>\n",
       "      <td>1474.000000</td>\n",
       "      <td>1474.000000</td>\n",
       "    </tr>\n",
       "    <tr>\n",
       "      <th>mean</th>\n",
       "      <td>2480.545455</td>\n",
       "      <td>-0.199457</td>\n",
       "      <td>7225.283582</td>\n",
       "      <td>1782.403663</td>\n",
       "      <td>1.024477e+298</td>\n",
       "      <td>13280.76730</td>\n",
       "      <td>13.983718</td>\n",
       "      <td>7224.898236</td>\n",
       "      <td>9322.046811</td>\n",
       "      <td>9027.867028</td>\n",
       "      <td>4944.209634</td>\n",
       "      <td>8809.550204</td>\n",
       "      <td>6472.417910</td>\n",
       "      <td>6654.879240</td>\n",
       "      <td>5010.907056</td>\n",
       "      <td>1033.529851</td>\n",
       "    </tr>\n",
       "    <tr>\n",
       "      <th>std</th>\n",
       "      <td>4164.771254</td>\n",
       "      <td>0.746733</td>\n",
       "      <td>3661.041560</td>\n",
       "      <td>1287.324373</td>\n",
       "      <td>inf</td>\n",
       "      <td>2191.07722</td>\n",
       "      <td>7.767917</td>\n",
       "      <td>3661.429597</td>\n",
       "      <td>4897.565581</td>\n",
       "      <td>5100.204814</td>\n",
       "      <td>5563.291859</td>\n",
       "      <td>5066.926424</td>\n",
       "      <td>5522.346182</td>\n",
       "      <td>5712.628087</td>\n",
       "      <td>5413.803579</td>\n",
       "      <td>2985.921577</td>\n",
       "    </tr>\n",
       "    <tr>\n",
       "      <th>min</th>\n",
       "      <td>0.000000</td>\n",
       "      <td>-1.000000</td>\n",
       "      <td>500.000000</td>\n",
       "      <td>45.979350</td>\n",
       "      <td>2.501915e-01</td>\n",
       "      <td>3370.00000</td>\n",
       "      <td>0.000000</td>\n",
       "      <td>500.000000</td>\n",
       "      <td>5.000000</td>\n",
       "      <td>0.000000</td>\n",
       "      <td>0.000000</td>\n",
       "      <td>0.000000</td>\n",
       "      <td>0.000000</td>\n",
       "      <td>0.000000</td>\n",
       "      <td>0.000000</td>\n",
       "      <td>0.000000</td>\n",
       "    </tr>\n",
       "    <tr>\n",
       "      <th>25%</th>\n",
       "      <td>0.000000</td>\n",
       "      <td>-1.000000</td>\n",
       "      <td>3100.000000</td>\n",
       "      <td>633.130075</td>\n",
       "      <td>3.178987e+04</td>\n",
       "      <td>13734.25000</td>\n",
       "      <td>8.000000</td>\n",
       "      <td>3100.000000</td>\n",
       "      <td>4505.250000</td>\n",
       "      <td>3946.000000</td>\n",
       "      <td>12.000000</td>\n",
       "      <td>3496.750000</td>\n",
       "      <td>29.000000</td>\n",
       "      <td>43.500000</td>\n",
       "      <td>1.250000</td>\n",
       "      <td>0.000000</td>\n",
       "    </tr>\n",
       "    <tr>\n",
       "      <th>50%</th>\n",
       "      <td>0.000000</td>\n",
       "      <td>0.000000</td>\n",
       "      <td>10000.000000</td>\n",
       "      <td>1960.112500</td>\n",
       "      <td>1.123414e+08</td>\n",
       "      <td>14322.00000</td>\n",
       "      <td>15.000000</td>\n",
       "      <td>10000.000000</td>\n",
       "      <td>12413.000000</td>\n",
       "      <td>12148.500000</td>\n",
       "      <td>652.000000</td>\n",
       "      <td>11898.000000</td>\n",
       "      <td>8359.500000</td>\n",
       "      <td>9249.000000</td>\n",
       "      <td>1247.500000</td>\n",
       "      <td>0.000000</td>\n",
       "    </tr>\n",
       "    <tr>\n",
       "      <th>75%</th>\n",
       "      <td>4049.750000</td>\n",
       "      <td>0.000000</td>\n",
       "      <td>10000.000000</td>\n",
       "      <td>2421.019000</td>\n",
       "      <td>7.803228e+132</td>\n",
       "      <td>14367.00000</td>\n",
       "      <td>21.000000</td>\n",
       "      <td>10000.000000</td>\n",
       "      <td>13229.750000</td>\n",
       "      <td>13262.750000</td>\n",
       "      <td>11533.750000</td>\n",
       "      <td>12893.750000</td>\n",
       "      <td>11914.500000</td>\n",
       "      <td>12230.000000</td>\n",
       "      <td>11345.000000</td>\n",
       "      <td>2.000000</td>\n",
       "    </tr>\n",
       "    <tr>\n",
       "      <th>max</th>\n",
       "      <td>13372.000000</td>\n",
       "      <td>1.000000</td>\n",
       "      <td>10000.000000</td>\n",
       "      <td>13914.040000</td>\n",
       "      <td>5.375361e+300</td>\n",
       "      <td>14392.00000</td>\n",
       "      <td>25.000000</td>\n",
       "      <td>10000.000000</td>\n",
       "      <td>14061.000000</td>\n",
       "      <td>14174.000000</td>\n",
       "      <td>13452.000000</td>\n",
       "      <td>14077.000000</td>\n",
       "      <td>13722.000000</td>\n",
       "      <td>13855.000000</td>\n",
       "      <td>13380.000000</td>\n",
       "      <td>12445.000000</td>\n",
       "    </tr>\n",
       "  </tbody>\n",
       "</table>\n",
       "</div>"
      ],
      "text/plain": [
       "             Equals    max_count       Last_UD           Gen            Fit  \\\n",
       "count   1474.000000  1474.000000   1474.000000   1474.000000   1.474000e+03   \n",
       "mean    2480.545455    -0.199457   7225.283582   1782.403663  1.024477e+298   \n",
       "std     4164.771254     0.746733   3661.041560   1287.324373            inf   \n",
       "min        0.000000    -1.000000    500.000000     45.979350   2.501915e-01   \n",
       "25%        0.000000    -1.000000   3100.000000    633.130075   3.178987e+04   \n",
       "50%        0.000000     0.000000  10000.000000   1960.112500   1.123414e+08   \n",
       "75%     4049.750000     0.000000  10000.000000   2421.019000  7.803228e+132   \n",
       "max    13372.000000     1.000000  10000.000000  13914.040000  5.375361e+300   \n",
       "\n",
       "              Orgs        index        Update           Not          Nand  \\\n",
       "count   1474.00000  1474.000000   1474.000000   1474.000000   1474.000000   \n",
       "mean   13280.76730    13.983718   7224.898236   9322.046811   9027.867028   \n",
       "std     2191.07722     7.767917   3661.429597   4897.565581   5100.204814   \n",
       "min     3370.00000     0.000000    500.000000      5.000000      0.000000   \n",
       "25%    13734.25000     8.000000   3100.000000   4505.250000   3946.000000   \n",
       "50%    14322.00000    15.000000  10000.000000  12413.000000  12148.500000   \n",
       "75%    14367.00000    21.000000  10000.000000  13229.750000  13262.750000   \n",
       "max    14392.00000    25.000000  10000.000000  14061.000000  14174.000000   \n",
       "\n",
       "                And         OrNot            Or        AndNot           Nor  \\\n",
       "count   1474.000000   1474.000000   1474.000000   1474.000000   1474.000000   \n",
       "mean    4944.209634   8809.550204   6472.417910   6654.879240   5010.907056   \n",
       "std     5563.291859   5066.926424   5522.346182   5712.628087   5413.803579   \n",
       "min        0.000000      0.000000      0.000000      0.000000      0.000000   \n",
       "25%       12.000000   3496.750000     29.000000     43.500000      1.250000   \n",
       "50%      652.000000  11898.000000   8359.500000   9249.000000   1247.500000   \n",
       "75%    11533.750000  12893.750000  11914.500000  12230.000000  11345.000000   \n",
       "max    13452.000000  14077.000000  13722.000000  13855.000000  13380.000000   \n",
       "\n",
       "                Xor  \n",
       "count   1474.000000  \n",
       "mean    1033.529851  \n",
       "std     2985.921577  \n",
       "min        0.000000  \n",
       "25%        0.000000  \n",
       "50%        0.000000  \n",
       "75%        2.000000  \n",
       "max    12445.000000  "
      ]
     },
     "execution_count": 7,
     "metadata": {},
     "output_type": "execute_result"
    }
   ],
   "source": [
    "df.describe()"
   ]
  },
  {
   "cell_type": "code",
   "execution_count": 8,
   "metadata": {},
   "outputs": [
    {
     "data": {
      "text/plain": [
       "Index(['Equals', 'max_count', 'values', 'last_line_string',\n",
       "       'experiment_start_time_string', 'xy_values', 'Last_UD', 'Gen', 'Fit',\n",
       "       'Orgs', 'index', 'filename', 'Update', 'Not', 'Nand', 'And', 'OrNot',\n",
       "       'Or', 'AndNot', 'Nor', 'Xor'],\n",
       "      dtype='object')"
      ]
     },
     "execution_count": 8,
     "metadata": {},
     "output_type": "execute_result"
    }
   ],
   "source": [
    "df.columns"
   ]
  },
  {
   "cell_type": "code",
   "execution_count": 9,
   "metadata": {},
   "outputs": [],
   "source": [
    "# Get all the rows with max_count = False and Last_UD = 10000\n",
    "filtered_df = df[(df['max_count'] == False) & (df['Last_UD'] == 10000)]"
   ]
  },
  {
   "cell_type": "code",
   "execution_count": 10,
   "metadata": {},
   "outputs": [
    {
     "data": {
      "text/html": [
       "<div>\n",
       "<style scoped>\n",
       "    .dataframe tbody tr th:only-of-type {\n",
       "        vertical-align: middle;\n",
       "    }\n",
       "\n",
       "    .dataframe tbody tr th {\n",
       "        vertical-align: top;\n",
       "    }\n",
       "\n",
       "    .dataframe thead th {\n",
       "        text-align: right;\n",
       "    }\n",
       "</style>\n",
       "<table border=\"1\" class=\"dataframe\">\n",
       "  <thead>\n",
       "    <tr style=\"text-align: right;\">\n",
       "      <th></th>\n",
       "      <th>Equals</th>\n",
       "      <th>max_count</th>\n",
       "      <th>values</th>\n",
       "      <th>last_line_string</th>\n",
       "      <th>experiment_start_time_string</th>\n",
       "      <th>xy_values</th>\n",
       "      <th>Last_UD</th>\n",
       "      <th>Gen</th>\n",
       "      <th>Fit</th>\n",
       "      <th>Orgs</th>\n",
       "      <th>...</th>\n",
       "      <th>filename</th>\n",
       "      <th>Update</th>\n",
       "      <th>Not</th>\n",
       "      <th>Nand</th>\n",
       "      <th>And</th>\n",
       "      <th>OrNot</th>\n",
       "      <th>Or</th>\n",
       "      <th>AndNot</th>\n",
       "      <th>Nor</th>\n",
       "      <th>Xor</th>\n",
       "    </tr>\n",
       "  </thead>\n",
       "  <tbody>\n",
       "    <tr>\n",
       "      <th>5</th>\n",
       "      <td>0</td>\n",
       "      <td>0</td>\n",
       "      <td>(3, 2, 1, 4, 5)</td>\n",
       "      <td>[UD:, 10000, Gen:, 2466.994, Fit:, 16702.16, O...</td>\n",
       "      <td>04-16_23-19-10</td>\n",
       "      <td>(120, 120)</td>\n",
       "      <td>10000</td>\n",
       "      <td>2466.994</td>\n",
       "      <td>1.670216e+04</td>\n",
       "      <td>14378</td>\n",
       "      <td>...</td>\n",
       "      <td>11_mxc_True_[3, 2, 1, 4, 5]_date_04-16_23-19-1...</td>\n",
       "      <td>10000</td>\n",
       "      <td>13563</td>\n",
       "      <td>13626</td>\n",
       "      <td>12277</td>\n",
       "      <td>13049</td>\n",
       "      <td>12517</td>\n",
       "      <td>12754</td>\n",
       "      <td>12807</td>\n",
       "      <td>3</td>\n",
       "    </tr>\n",
       "    <tr>\n",
       "      <th>6</th>\n",
       "      <td>3641</td>\n",
       "      <td>0</td>\n",
       "      <td>(1, 2, 3, 4, 6)</td>\n",
       "      <td>[UD:, 10000, Gen:, 2538.028, Fit:, 4.369271e+1...</td>\n",
       "      <td>04-15_05-00-46</td>\n",
       "      <td>(120, 120)</td>\n",
       "      <td>10000</td>\n",
       "      <td>2538.028</td>\n",
       "      <td>4.369271e+110</td>\n",
       "      <td>14248</td>\n",
       "      <td>...</td>\n",
       "      <td>4_mxc_True_[1, 2, 3, 4, 6]_date_04-15_05-00-46...</td>\n",
       "      <td>10000</td>\n",
       "      <td>12988</td>\n",
       "      <td>10536</td>\n",
       "      <td>7502</td>\n",
       "      <td>12010</td>\n",
       "      <td>12113</td>\n",
       "      <td>12095</td>\n",
       "      <td>11874</td>\n",
       "      <td>8</td>\n",
       "    </tr>\n",
       "    <tr>\n",
       "      <th>7</th>\n",
       "      <td>0</td>\n",
       "      <td>0</td>\n",
       "      <td>(2, 4, 3, 1, 5)</td>\n",
       "      <td>[UD:, 10000, Gen:, 2327.617, Fit:, 108411.5, O...</td>\n",
       "      <td>04-16_14-03-18</td>\n",
       "      <td>(120, 120)</td>\n",
       "      <td>10000</td>\n",
       "      <td>2327.617</td>\n",
       "      <td>1.084115e+05</td>\n",
       "      <td>14362</td>\n",
       "      <td>...</td>\n",
       "      <td>9_mxc_True_[2, 4, 3, 1, 5]_date_04-16_14-03-18...</td>\n",
       "      <td>10000</td>\n",
       "      <td>13598</td>\n",
       "      <td>13432</td>\n",
       "      <td>12474</td>\n",
       "      <td>12575</td>\n",
       "      <td>12249</td>\n",
       "      <td>12949</td>\n",
       "      <td>9098</td>\n",
       "      <td>0</td>\n",
       "    </tr>\n",
       "    <tr>\n",
       "      <th>12</th>\n",
       "      <td>0</td>\n",
       "      <td>0</td>\n",
       "      <td>(1, 4, 2, 3, 5)</td>\n",
       "      <td>[UD:, 10000, Gen:, 2139.232, Fit:, 6436.750, O...</td>\n",
       "      <td>04-19_01-01-47</td>\n",
       "      <td>(120, 120)</td>\n",
       "      <td>10000</td>\n",
       "      <td>2139.232</td>\n",
       "      <td>6.436750e+03</td>\n",
       "      <td>14381</td>\n",
       "      <td>...</td>\n",
       "      <td>16_mxc_0_[1, 4, 2, 3, 5]_date_04-19_01-01-47_x...</td>\n",
       "      <td>10000</td>\n",
       "      <td>13292</td>\n",
       "      <td>13071</td>\n",
       "      <td>11925</td>\n",
       "      <td>12860</td>\n",
       "      <td>12380</td>\n",
       "      <td>4427</td>\n",
       "      <td>8338</td>\n",
       "      <td>0</td>\n",
       "    </tr>\n",
       "    <tr>\n",
       "      <th>16</th>\n",
       "      <td>0</td>\n",
       "      <td>0</td>\n",
       "      <td>(2, 4, 1, 3, 5)</td>\n",
       "      <td>[UD:, 10000, Gen:, 1971.971, Fit:, 8111.602, O...</td>\n",
       "      <td>04-20_20-27-19</td>\n",
       "      <td>(120, 120)</td>\n",
       "      <td>10000</td>\n",
       "      <td>1971.971</td>\n",
       "      <td>8.111602e+03</td>\n",
       "      <td>14372</td>\n",
       "      <td>...</td>\n",
       "      <td>19_mxc_0_[2, 4, 1, 3, 5]_date_04-20_20-27-19_x...</td>\n",
       "      <td>10000</td>\n",
       "      <td>13089</td>\n",
       "      <td>12615</td>\n",
       "      <td>13266</td>\n",
       "      <td>12265</td>\n",
       "      <td>32</td>\n",
       "      <td>157</td>\n",
       "      <td>11552</td>\n",
       "      <td>0</td>\n",
       "    </tr>\n",
       "    <tr>\n",
       "      <th>...</th>\n",
       "      <td>...</td>\n",
       "      <td>...</td>\n",
       "      <td>...</td>\n",
       "      <td>...</td>\n",
       "      <td>...</td>\n",
       "      <td>...</td>\n",
       "      <td>...</td>\n",
       "      <td>...</td>\n",
       "      <td>...</td>\n",
       "      <td>...</td>\n",
       "      <td>...</td>\n",
       "      <td>...</td>\n",
       "      <td>...</td>\n",
       "      <td>...</td>\n",
       "      <td>...</td>\n",
       "      <td>...</td>\n",
       "      <td>...</td>\n",
       "      <td>...</td>\n",
       "      <td>...</td>\n",
       "      <td>...</td>\n",
       "      <td>...</td>\n",
       "    </tr>\n",
       "    <tr>\n",
       "      <th>1462</th>\n",
       "      <td>0</td>\n",
       "      <td>0</td>\n",
       "      <td>(4, 3, 2, 1, 5)</td>\n",
       "      <td>[UD:, 10000, Gen:, 2374.591, Fit:, 66773.51, O...</td>\n",
       "      <td>04-16_17-34-59</td>\n",
       "      <td>(120, 120)</td>\n",
       "      <td>10000</td>\n",
       "      <td>2374.591</td>\n",
       "      <td>6.677351e+04</td>\n",
       "      <td>14369</td>\n",
       "      <td>...</td>\n",
       "      <td>9_mxc_True_[4, 3, 2, 1, 5]_date_04-16_17-34-59...</td>\n",
       "      <td>10000</td>\n",
       "      <td>13459</td>\n",
       "      <td>12430</td>\n",
       "      <td>11210</td>\n",
       "      <td>11714</td>\n",
       "      <td>10932</td>\n",
       "      <td>13153</td>\n",
       "      <td>28</td>\n",
       "      <td>0</td>\n",
       "    </tr>\n",
       "    <tr>\n",
       "      <th>1464</th>\n",
       "      <td>3512</td>\n",
       "      <td>0</td>\n",
       "      <td>(2, 3, 1, 4, 5)</td>\n",
       "      <td>[UD:, 10000, Gen:, 1133.529, Fit:, 4.690366e+1...</td>\n",
       "      <td>04-21_11-55-14</td>\n",
       "      <td>(120, 120)</td>\n",
       "      <td>10000</td>\n",
       "      <td>1133.529</td>\n",
       "      <td>4.690366e+19</td>\n",
       "      <td>14373</td>\n",
       "      <td>...</td>\n",
       "      <td>20_mxc_0_[2, 3, 1, 4, 5]_date_04-21_11-55-14_x...</td>\n",
       "      <td>10000</td>\n",
       "      <td>11353</td>\n",
       "      <td>12723</td>\n",
       "      <td>4559</td>\n",
       "      <td>12986</td>\n",
       "      <td>4171</td>\n",
       "      <td>209</td>\n",
       "      <td>4151</td>\n",
       "      <td>0</td>\n",
       "    </tr>\n",
       "    <tr>\n",
       "      <th>1467</th>\n",
       "      <td>0</td>\n",
       "      <td>0</td>\n",
       "      <td>(3, 1, 4, 2, 5)</td>\n",
       "      <td>[UD:, 10000, Gen:, 2230.110, Fit:, 39000.65, O...</td>\n",
       "      <td>04-14_13-33-19</td>\n",
       "      <td>(120, 120)</td>\n",
       "      <td>10000</td>\n",
       "      <td>2230.110</td>\n",
       "      <td>3.900065e+04</td>\n",
       "      <td>14347</td>\n",
       "      <td>...</td>\n",
       "      <td>2_mxc_True_[3, 1, 4, 2, 5]_date_04-14_13-33-19...</td>\n",
       "      <td>10000</td>\n",
       "      <td>13569</td>\n",
       "      <td>12583</td>\n",
       "      <td>10077</td>\n",
       "      <td>11806</td>\n",
       "      <td>13063</td>\n",
       "      <td>11254</td>\n",
       "      <td>12363</td>\n",
       "      <td>0</td>\n",
       "    </tr>\n",
       "    <tr>\n",
       "      <th>1470</th>\n",
       "      <td>0</td>\n",
       "      <td>0</td>\n",
       "      <td>(1, 2, 3, 4, 1)</td>\n",
       "      <td>[UD:, 10000, Gen:, 2267.469, Fit:, 4658.941, O...</td>\n",
       "      <td>04-22_01-04-11</td>\n",
       "      <td>(120, 120)</td>\n",
       "      <td>10000</td>\n",
       "      <td>2267.469</td>\n",
       "      <td>4.658941e+03</td>\n",
       "      <td>14386</td>\n",
       "      <td>...</td>\n",
       "      <td>21_mxc_0_[1, 2, 3, 4, 1]_date_04-22_01-04-11_x...</td>\n",
       "      <td>10000</td>\n",
       "      <td>13584</td>\n",
       "      <td>13493</td>\n",
       "      <td>145</td>\n",
       "      <td>13380</td>\n",
       "      <td>13002</td>\n",
       "      <td>13042</td>\n",
       "      <td>13036</td>\n",
       "      <td>0</td>\n",
       "    </tr>\n",
       "    <tr>\n",
       "      <th>1472</th>\n",
       "      <td>0</td>\n",
       "      <td>0</td>\n",
       "      <td>(4, 1, 2, 3, 5)</td>\n",
       "      <td>[UD:, 10000, Gen:, 2650.036, Fit:, 26249.29, O...</td>\n",
       "      <td>04-18_03-42-57</td>\n",
       "      <td>(120, 120)</td>\n",
       "      <td>10000</td>\n",
       "      <td>2650.036</td>\n",
       "      <td>2.624929e+04</td>\n",
       "      <td>14367</td>\n",
       "      <td>...</td>\n",
       "      <td>14_mxc_0_[4, 1, 2, 3, 5]_date_04-18_03-42-57_x...</td>\n",
       "      <td>10000</td>\n",
       "      <td>13013</td>\n",
       "      <td>11787</td>\n",
       "      <td>8818</td>\n",
       "      <td>12283</td>\n",
       "      <td>12266</td>\n",
       "      <td>11097</td>\n",
       "      <td>12046</td>\n",
       "      <td>0</td>\n",
       "    </tr>\n",
       "  </tbody>\n",
       "</table>\n",
       "<p>429 rows × 21 columns</p>\n",
       "</div>"
      ],
      "text/plain": [
       "      Equals  max_count           values  \\\n",
       "5          0          0  (3, 2, 1, 4, 5)   \n",
       "6       3641          0  (1, 2, 3, 4, 6)   \n",
       "7          0          0  (2, 4, 3, 1, 5)   \n",
       "12         0          0  (1, 4, 2, 3, 5)   \n",
       "16         0          0  (2, 4, 1, 3, 5)   \n",
       "...      ...        ...              ...   \n",
       "1462       0          0  (4, 3, 2, 1, 5)   \n",
       "1464    3512          0  (2, 3, 1, 4, 5)   \n",
       "1467       0          0  (3, 1, 4, 2, 5)   \n",
       "1470       0          0  (1, 2, 3, 4, 1)   \n",
       "1472       0          0  (4, 1, 2, 3, 5)   \n",
       "\n",
       "                                       last_line_string  \\\n",
       "5     [UD:, 10000, Gen:, 2466.994, Fit:, 16702.16, O...   \n",
       "6     [UD:, 10000, Gen:, 2538.028, Fit:, 4.369271e+1...   \n",
       "7     [UD:, 10000, Gen:, 2327.617, Fit:, 108411.5, O...   \n",
       "12    [UD:, 10000, Gen:, 2139.232, Fit:, 6436.750, O...   \n",
       "16    [UD:, 10000, Gen:, 1971.971, Fit:, 8111.602, O...   \n",
       "...                                                 ...   \n",
       "1462  [UD:, 10000, Gen:, 2374.591, Fit:, 66773.51, O...   \n",
       "1464  [UD:, 10000, Gen:, 1133.529, Fit:, 4.690366e+1...   \n",
       "1467  [UD:, 10000, Gen:, 2230.110, Fit:, 39000.65, O...   \n",
       "1470  [UD:, 10000, Gen:, 2267.469, Fit:, 4658.941, O...   \n",
       "1472  [UD:, 10000, Gen:, 2650.036, Fit:, 26249.29, O...   \n",
       "\n",
       "     experiment_start_time_string   xy_values  Last_UD       Gen  \\\n",
       "5                  04-16_23-19-10  (120, 120)    10000  2466.994   \n",
       "6                  04-15_05-00-46  (120, 120)    10000  2538.028   \n",
       "7                  04-16_14-03-18  (120, 120)    10000  2327.617   \n",
       "12                 04-19_01-01-47  (120, 120)    10000  2139.232   \n",
       "16                 04-20_20-27-19  (120, 120)    10000  1971.971   \n",
       "...                           ...         ...      ...       ...   \n",
       "1462               04-16_17-34-59  (120, 120)    10000  2374.591   \n",
       "1464               04-21_11-55-14  (120, 120)    10000  1133.529   \n",
       "1467               04-14_13-33-19  (120, 120)    10000  2230.110   \n",
       "1470               04-22_01-04-11  (120, 120)    10000  2267.469   \n",
       "1472               04-18_03-42-57  (120, 120)    10000  2650.036   \n",
       "\n",
       "                Fit   Orgs  ...  \\\n",
       "5      1.670216e+04  14378  ...   \n",
       "6     4.369271e+110  14248  ...   \n",
       "7      1.084115e+05  14362  ...   \n",
       "12     6.436750e+03  14381  ...   \n",
       "16     8.111602e+03  14372  ...   \n",
       "...             ...    ...  ...   \n",
       "1462   6.677351e+04  14369  ...   \n",
       "1464   4.690366e+19  14373  ...   \n",
       "1467   3.900065e+04  14347  ...   \n",
       "1470   4.658941e+03  14386  ...   \n",
       "1472   2.624929e+04  14367  ...   \n",
       "\n",
       "                                               filename Update    Not   Nand  \\\n",
       "5     11_mxc_True_[3, 2, 1, 4, 5]_date_04-16_23-19-1...  10000  13563  13626   \n",
       "6     4_mxc_True_[1, 2, 3, 4, 6]_date_04-15_05-00-46...  10000  12988  10536   \n",
       "7     9_mxc_True_[2, 4, 3, 1, 5]_date_04-16_14-03-18...  10000  13598  13432   \n",
       "12    16_mxc_0_[1, 4, 2, 3, 5]_date_04-19_01-01-47_x...  10000  13292  13071   \n",
       "16    19_mxc_0_[2, 4, 1, 3, 5]_date_04-20_20-27-19_x...  10000  13089  12615   \n",
       "...                                                 ...    ...    ...    ...   \n",
       "1462  9_mxc_True_[4, 3, 2, 1, 5]_date_04-16_17-34-59...  10000  13459  12430   \n",
       "1464  20_mxc_0_[2, 3, 1, 4, 5]_date_04-21_11-55-14_x...  10000  11353  12723   \n",
       "1467  2_mxc_True_[3, 1, 4, 2, 5]_date_04-14_13-33-19...  10000  13569  12583   \n",
       "1470  21_mxc_0_[1, 2, 3, 4, 1]_date_04-22_01-04-11_x...  10000  13584  13493   \n",
       "1472  14_mxc_0_[4, 1, 2, 3, 5]_date_04-18_03-42-57_x...  10000  13013  11787   \n",
       "\n",
       "        And  OrNot     Or  AndNot    Nor  Xor  \n",
       "5     12277  13049  12517   12754  12807    3  \n",
       "6      7502  12010  12113   12095  11874    8  \n",
       "7     12474  12575  12249   12949   9098    0  \n",
       "12    11925  12860  12380    4427   8338    0  \n",
       "16    13266  12265     32     157  11552    0  \n",
       "...     ...    ...    ...     ...    ...  ...  \n",
       "1462  11210  11714  10932   13153     28    0  \n",
       "1464   4559  12986   4171     209   4151    0  \n",
       "1467  10077  11806  13063   11254  12363    0  \n",
       "1470    145  13380  13002   13042  13036    0  \n",
       "1472   8818  12283  12266   11097  12046    0  \n",
       "\n",
       "[429 rows x 21 columns]"
      ]
     },
     "execution_count": 10,
     "metadata": {},
     "output_type": "execute_result"
    }
   ],
   "source": [
    "filtered_df"
   ]
  },
  {
   "cell_type": "code",
   "execution_count": 11,
   "metadata": {},
   "outputs": [],
   "source": [
    "sorted_EQU_df = df.sort_values(\"Equals\", ascending=False)"
   ]
  },
  {
   "cell_type": "code",
   "execution_count": 12,
   "metadata": {},
   "outputs": [
    {
     "data": {
      "text/html": [
       "<div>\n",
       "<style scoped>\n",
       "    .dataframe tbody tr th:only-of-type {\n",
       "        vertical-align: middle;\n",
       "    }\n",
       "\n",
       "    .dataframe tbody tr th {\n",
       "        vertical-align: top;\n",
       "    }\n",
       "\n",
       "    .dataframe thead th {\n",
       "        text-align: right;\n",
       "    }\n",
       "</style>\n",
       "<table border=\"1\" class=\"dataframe\">\n",
       "  <thead>\n",
       "    <tr style=\"text-align: right;\">\n",
       "      <th></th>\n",
       "      <th>Equals</th>\n",
       "      <th>max_count</th>\n",
       "      <th>values</th>\n",
       "      <th>last_line_string</th>\n",
       "      <th>experiment_start_time_string</th>\n",
       "      <th>xy_values</th>\n",
       "      <th>Last_UD</th>\n",
       "      <th>Gen</th>\n",
       "      <th>Fit</th>\n",
       "      <th>Orgs</th>\n",
       "      <th>...</th>\n",
       "      <th>filename</th>\n",
       "      <th>Update</th>\n",
       "      <th>Not</th>\n",
       "      <th>Nand</th>\n",
       "      <th>And</th>\n",
       "      <th>OrNot</th>\n",
       "      <th>Or</th>\n",
       "      <th>AndNot</th>\n",
       "      <th>Nor</th>\n",
       "      <th>Xor</th>\n",
       "    </tr>\n",
       "  </thead>\n",
       "  <tbody>\n",
       "    <tr>\n",
       "      <th>1310</th>\n",
       "      <td>13372</td>\n",
       "      <td>0</td>\n",
       "      <td>(1, 3, 2, 4, 5)</td>\n",
       "      <td>[UD:, 10000, Gen:, 3333.767, Fit:, 9.435327e+0...</td>\n",
       "      <td>04-17_16-05-58</td>\n",
       "      <td>(120, 120)</td>\n",
       "      <td>10000</td>\n",
       "      <td>3333.7670</td>\n",
       "      <td>9.435327e+09</td>\n",
       "      <td>14234</td>\n",
       "      <td>...</td>\n",
       "      <td>14_mxc_0_[1, 3, 2, 4, 5]_date_04-17_16-05-58_x...</td>\n",
       "      <td>10000</td>\n",
       "      <td>14009</td>\n",
       "      <td>13303</td>\n",
       "      <td>12028</td>\n",
       "      <td>13068</td>\n",
       "      <td>12673</td>\n",
       "      <td>13388</td>\n",
       "      <td>13349</td>\n",
       "      <td>16</td>\n",
       "    </tr>\n",
       "    <tr>\n",
       "      <th>1440</th>\n",
       "      <td>12723</td>\n",
       "      <td>0</td>\n",
       "      <td>(4, 1, 2, 3, 5)</td>\n",
       "      <td>[UD:, 10000, Gen:, 2169.567, Fit:, 5.271931e+2...</td>\n",
       "      <td>04-14_15-15-07</td>\n",
       "      <td>(120, 120)</td>\n",
       "      <td>10000</td>\n",
       "      <td>2169.5670</td>\n",
       "      <td>5.271931e+27</td>\n",
       "      <td>14260</td>\n",
       "      <td>...</td>\n",
       "      <td>2_mxc_True_[4, 1, 2, 3, 5]_date_04-14_15-15-07...</td>\n",
       "      <td>10000</td>\n",
       "      <td>13532</td>\n",
       "      <td>13302</td>\n",
       "      <td>649</td>\n",
       "      <td>13460</td>\n",
       "      <td>13100</td>\n",
       "      <td>5681</td>\n",
       "      <td>11592</td>\n",
       "      <td>12445</td>\n",
       "    </tr>\n",
       "    <tr>\n",
       "      <th>298</th>\n",
       "      <td>12262</td>\n",
       "      <td>0</td>\n",
       "      <td>(4, 3, 2, 1, 5)</td>\n",
       "      <td>[UD:, 10000, Gen:, 3144.089, Fit:, 2.497056e+1...</td>\n",
       "      <td>04-23_09-52-11</td>\n",
       "      <td>(120, 120)</td>\n",
       "      <td>10000</td>\n",
       "      <td>3144.0890</td>\n",
       "      <td>2.497056e+18</td>\n",
       "      <td>14134</td>\n",
       "      <td>...</td>\n",
       "      <td>22_mxc_0_[4, 3, 2, 1, 5]_date_04-23_09-52-11_x...</td>\n",
       "      <td>10000</td>\n",
       "      <td>13364</td>\n",
       "      <td>13083</td>\n",
       "      <td>12682</td>\n",
       "      <td>13388</td>\n",
       "      <td>9921</td>\n",
       "      <td>12503</td>\n",
       "      <td>850</td>\n",
       "      <td>1</td>\n",
       "    </tr>\n",
       "    <tr>\n",
       "      <th>264</th>\n",
       "      <td>12187</td>\n",
       "      <td>1</td>\n",
       "      <td>(1, 3, 2, 4, 5)</td>\n",
       "      <td>[UD:, 10000, Gen:, 2762.624, Fit:, 124135.0, O...</td>\n",
       "      <td>04-25_02-22-08</td>\n",
       "      <td>(120, 120)</td>\n",
       "      <td>10000</td>\n",
       "      <td>2762.6240</td>\n",
       "      <td>1.241350e+05</td>\n",
       "      <td>14369</td>\n",
       "      <td>...</td>\n",
       "      <td>25_mxc_1_[1, 3, 2, 4, 5]_date_04-25_02-22-08_x...</td>\n",
       "      <td>10000</td>\n",
       "      <td>12914</td>\n",
       "      <td>13143</td>\n",
       "      <td>12848</td>\n",
       "      <td>13082</td>\n",
       "      <td>12850</td>\n",
       "      <td>656</td>\n",
       "      <td>12517</td>\n",
       "      <td>1</td>\n",
       "    </tr>\n",
       "    <tr>\n",
       "      <th>743</th>\n",
       "      <td>12167</td>\n",
       "      <td>1</td>\n",
       "      <td>(4, 3, 2, 1, 5)</td>\n",
       "      <td>[UD:, 10000, Gen:, 2783.730, Fit:, 2285600., O...</td>\n",
       "      <td>04-20_08-44-03</td>\n",
       "      <td>(120, 120)</td>\n",
       "      <td>10000</td>\n",
       "      <td>2783.7300</td>\n",
       "      <td>2.285600e+06</td>\n",
       "      <td>14361</td>\n",
       "      <td>...</td>\n",
       "      <td>18_mxc_1_[4, 3, 2, 1, 5]_date_04-20_08-44-03_x...</td>\n",
       "      <td>10000</td>\n",
       "      <td>13511</td>\n",
       "      <td>12969</td>\n",
       "      <td>12071</td>\n",
       "      <td>13206</td>\n",
       "      <td>13103</td>\n",
       "      <td>12795</td>\n",
       "      <td>2379</td>\n",
       "      <td>14</td>\n",
       "    </tr>\n",
       "    <tr>\n",
       "      <th>...</th>\n",
       "      <td>...</td>\n",
       "      <td>...</td>\n",
       "      <td>...</td>\n",
       "      <td>...</td>\n",
       "      <td>...</td>\n",
       "      <td>...</td>\n",
       "      <td>...</td>\n",
       "      <td>...</td>\n",
       "      <td>...</td>\n",
       "      <td>...</td>\n",
       "      <td>...</td>\n",
       "      <td>...</td>\n",
       "      <td>...</td>\n",
       "      <td>...</td>\n",
       "      <td>...</td>\n",
       "      <td>...</td>\n",
       "      <td>...</td>\n",
       "      <td>...</td>\n",
       "      <td>...</td>\n",
       "      <td>...</td>\n",
       "      <td>...</td>\n",
       "    </tr>\n",
       "    <tr>\n",
       "      <th>250</th>\n",
       "      <td>0</td>\n",
       "      <td>0</td>\n",
       "      <td>(3, 4, 1, 2, 5)</td>\n",
       "      <td>[UD:, 10000, Gen:, 2303.425, Fit:, 17465.97, O...</td>\n",
       "      <td>04-17_07-14-46</td>\n",
       "      <td>(120, 120)</td>\n",
       "      <td>10000</td>\n",
       "      <td>2303.4250</td>\n",
       "      <td>1.746597e+04</td>\n",
       "      <td>14385</td>\n",
       "      <td>...</td>\n",
       "      <td>12_mxc_True_[3, 4, 1, 2, 5]_date_04-17_07-14-4...</td>\n",
       "      <td>10000</td>\n",
       "      <td>13346</td>\n",
       "      <td>13268</td>\n",
       "      <td>12277</td>\n",
       "      <td>13410</td>\n",
       "      <td>12148</td>\n",
       "      <td>11607</td>\n",
       "      <td>1</td>\n",
       "      <td>0</td>\n",
       "    </tr>\n",
       "    <tr>\n",
       "      <th>810</th>\n",
       "      <td>0</td>\n",
       "      <td>1</td>\n",
       "      <td>(1, 2, 3, 4, 4)</td>\n",
       "      <td>[UD:, 10000, Gen:, 2656.523, Fit:, 13392.74, O...</td>\n",
       "      <td>04-24_22-48-42</td>\n",
       "      <td>(120, 120)</td>\n",
       "      <td>10000</td>\n",
       "      <td>2656.5230</td>\n",
       "      <td>1.339274e+04</td>\n",
       "      <td>14355</td>\n",
       "      <td>...</td>\n",
       "      <td>25_mxc_1_[1, 2, 3, 4, 4]_date_04-24_22-48-42_x...</td>\n",
       "      <td>10000</td>\n",
       "      <td>13107</td>\n",
       "      <td>13144</td>\n",
       "      <td>11786</td>\n",
       "      <td>11820</td>\n",
       "      <td>11390</td>\n",
       "      <td>13016</td>\n",
       "      <td>11470</td>\n",
       "      <td>0</td>\n",
       "    </tr>\n",
       "    <tr>\n",
       "      <th>249</th>\n",
       "      <td>0</td>\n",
       "      <td>1</td>\n",
       "      <td>(1, 2, 3, 4, 3)</td>\n",
       "      <td>[UD:, 10000, Gen:, 2039.397, Fit:, 7632.924, O...</td>\n",
       "      <td>04-18_19-45-38</td>\n",
       "      <td>(120, 120)</td>\n",
       "      <td>10000</td>\n",
       "      <td>2039.3970</td>\n",
       "      <td>7.632924e+03</td>\n",
       "      <td>14334</td>\n",
       "      <td>...</td>\n",
       "      <td>16_mxc_1_[1, 2, 3, 4, 3]_date_04-18_19-45-38_x...</td>\n",
       "      <td>10000</td>\n",
       "      <td>11183</td>\n",
       "      <td>11167</td>\n",
       "      <td>10122</td>\n",
       "      <td>10732</td>\n",
       "      <td>10409</td>\n",
       "      <td>12291</td>\n",
       "      <td>10426</td>\n",
       "      <td>2</td>\n",
       "    </tr>\n",
       "    <tr>\n",
       "      <th>247</th>\n",
       "      <td>0</td>\n",
       "      <td>1</td>\n",
       "      <td>(1, 2, 3, 4, 1)</td>\n",
       "      <td>[UD:, 10000, Gen:, 2036.659, Fit:, 4523.619, O...</td>\n",
       "      <td>04-22_17-01-25</td>\n",
       "      <td>(120, 120)</td>\n",
       "      <td>10000</td>\n",
       "      <td>2036.6590</td>\n",
       "      <td>4.523619e+03</td>\n",
       "      <td>14389</td>\n",
       "      <td>...</td>\n",
       "      <td>22_mxc_1_[1, 2, 3, 4, 1]_date_04-22_17-01-25_x...</td>\n",
       "      <td>10000</td>\n",
       "      <td>13682</td>\n",
       "      <td>13318</td>\n",
       "      <td>103</td>\n",
       "      <td>12850</td>\n",
       "      <td>11421</td>\n",
       "      <td>11947</td>\n",
       "      <td>12719</td>\n",
       "      <td>0</td>\n",
       "    </tr>\n",
       "    <tr>\n",
       "      <th>737</th>\n",
       "      <td>0</td>\n",
       "      <td>-1</td>\n",
       "      <td>(1, 3, 2, 4, 5)</td>\n",
       "      <td>[UD:, 1500, Gen:, 339.6679, Fit:, 3.493308e+13...</td>\n",
       "      <td>04-14_03-02-00</td>\n",
       "      <td>(120, 120)</td>\n",
       "      <td>1500</td>\n",
       "      <td>339.6679</td>\n",
       "      <td>3.493308e+13</td>\n",
       "      <td>13185</td>\n",
       "      <td>...</td>\n",
       "      <td>1_mxc_False_[1, 3, 2, 4, 5]_date_04-14_03-02-0...</td>\n",
       "      <td>1500</td>\n",
       "      <td>1306</td>\n",
       "      <td>4105</td>\n",
       "      <td>2</td>\n",
       "      <td>4587</td>\n",
       "      <td>1768</td>\n",
       "      <td>2</td>\n",
       "      <td>197</td>\n",
       "      <td>0</td>\n",
       "    </tr>\n",
       "  </tbody>\n",
       "</table>\n",
       "<p>1474 rows × 21 columns</p>\n",
       "</div>"
      ],
      "text/plain": [
       "      Equals  max_count           values  \\\n",
       "1310   13372          0  (1, 3, 2, 4, 5)   \n",
       "1440   12723          0  (4, 1, 2, 3, 5)   \n",
       "298    12262          0  (4, 3, 2, 1, 5)   \n",
       "264    12187          1  (1, 3, 2, 4, 5)   \n",
       "743    12167          1  (4, 3, 2, 1, 5)   \n",
       "...      ...        ...              ...   \n",
       "250        0          0  (3, 4, 1, 2, 5)   \n",
       "810        0          1  (1, 2, 3, 4, 4)   \n",
       "249        0          1  (1, 2, 3, 4, 3)   \n",
       "247        0          1  (1, 2, 3, 4, 1)   \n",
       "737        0         -1  (1, 3, 2, 4, 5)   \n",
       "\n",
       "                                       last_line_string  \\\n",
       "1310  [UD:, 10000, Gen:, 3333.767, Fit:, 9.435327e+0...   \n",
       "1440  [UD:, 10000, Gen:, 2169.567, Fit:, 5.271931e+2...   \n",
       "298   [UD:, 10000, Gen:, 3144.089, Fit:, 2.497056e+1...   \n",
       "264   [UD:, 10000, Gen:, 2762.624, Fit:, 124135.0, O...   \n",
       "743   [UD:, 10000, Gen:, 2783.730, Fit:, 2285600., O...   \n",
       "...                                                 ...   \n",
       "250   [UD:, 10000, Gen:, 2303.425, Fit:, 17465.97, O...   \n",
       "810   [UD:, 10000, Gen:, 2656.523, Fit:, 13392.74, O...   \n",
       "249   [UD:, 10000, Gen:, 2039.397, Fit:, 7632.924, O...   \n",
       "247   [UD:, 10000, Gen:, 2036.659, Fit:, 4523.619, O...   \n",
       "737   [UD:, 1500, Gen:, 339.6679, Fit:, 3.493308e+13...   \n",
       "\n",
       "     experiment_start_time_string   xy_values  Last_UD        Gen  \\\n",
       "1310               04-17_16-05-58  (120, 120)    10000  3333.7670   \n",
       "1440               04-14_15-15-07  (120, 120)    10000  2169.5670   \n",
       "298                04-23_09-52-11  (120, 120)    10000  3144.0890   \n",
       "264                04-25_02-22-08  (120, 120)    10000  2762.6240   \n",
       "743                04-20_08-44-03  (120, 120)    10000  2783.7300   \n",
       "...                           ...         ...      ...        ...   \n",
       "250                04-17_07-14-46  (120, 120)    10000  2303.4250   \n",
       "810                04-24_22-48-42  (120, 120)    10000  2656.5230   \n",
       "249                04-18_19-45-38  (120, 120)    10000  2039.3970   \n",
       "247                04-22_17-01-25  (120, 120)    10000  2036.6590   \n",
       "737                04-14_03-02-00  (120, 120)     1500   339.6679   \n",
       "\n",
       "               Fit   Orgs  ...  \\\n",
       "1310  9.435327e+09  14234  ...   \n",
       "1440  5.271931e+27  14260  ...   \n",
       "298   2.497056e+18  14134  ...   \n",
       "264   1.241350e+05  14369  ...   \n",
       "743   2.285600e+06  14361  ...   \n",
       "...            ...    ...  ...   \n",
       "250   1.746597e+04  14385  ...   \n",
       "810   1.339274e+04  14355  ...   \n",
       "249   7.632924e+03  14334  ...   \n",
       "247   4.523619e+03  14389  ...   \n",
       "737   3.493308e+13  13185  ...   \n",
       "\n",
       "                                               filename Update    Not   Nand  \\\n",
       "1310  14_mxc_0_[1, 3, 2, 4, 5]_date_04-17_16-05-58_x...  10000  14009  13303   \n",
       "1440  2_mxc_True_[4, 1, 2, 3, 5]_date_04-14_15-15-07...  10000  13532  13302   \n",
       "298   22_mxc_0_[4, 3, 2, 1, 5]_date_04-23_09-52-11_x...  10000  13364  13083   \n",
       "264   25_mxc_1_[1, 3, 2, 4, 5]_date_04-25_02-22-08_x...  10000  12914  13143   \n",
       "743   18_mxc_1_[4, 3, 2, 1, 5]_date_04-20_08-44-03_x...  10000  13511  12969   \n",
       "...                                                 ...    ...    ...    ...   \n",
       "250   12_mxc_True_[3, 4, 1, 2, 5]_date_04-17_07-14-4...  10000  13346  13268   \n",
       "810   25_mxc_1_[1, 2, 3, 4, 4]_date_04-24_22-48-42_x...  10000  13107  13144   \n",
       "249   16_mxc_1_[1, 2, 3, 4, 3]_date_04-18_19-45-38_x...  10000  11183  11167   \n",
       "247   22_mxc_1_[1, 2, 3, 4, 1]_date_04-22_17-01-25_x...  10000  13682  13318   \n",
       "737   1_mxc_False_[1, 3, 2, 4, 5]_date_04-14_03-02-0...   1500   1306   4105   \n",
       "\n",
       "        And  OrNot     Or  AndNot    Nor    Xor  \n",
       "1310  12028  13068  12673   13388  13349     16  \n",
       "1440    649  13460  13100    5681  11592  12445  \n",
       "298   12682  13388   9921   12503    850      1  \n",
       "264   12848  13082  12850     656  12517      1  \n",
       "743   12071  13206  13103   12795   2379     14  \n",
       "...     ...    ...    ...     ...    ...    ...  \n",
       "250   12277  13410  12148   11607      1      0  \n",
       "810   11786  11820  11390   13016  11470      0  \n",
       "249   10122  10732  10409   12291  10426      2  \n",
       "247     103  12850  11421   11947  12719      0  \n",
       "737       2   4587   1768       2    197      0  \n",
       "\n",
       "[1474 rows x 21 columns]"
      ]
     },
     "execution_count": 12,
     "metadata": {},
     "output_type": "execute_result"
    }
   ],
   "source": [
    "sorted_EQU_df"
   ]
  },
  {
   "cell_type": "code",
   "execution_count": null,
   "metadata": {},
   "outputs": [],
   "source": []
  },
  {
   "cell_type": "code",
   "execution_count": 13,
   "metadata": {},
   "outputs": [
    {
     "data": {
      "text/html": [
       "<div>\n",
       "<style scoped>\n",
       "    .dataframe tbody tr th:only-of-type {\n",
       "        vertical-align: middle;\n",
       "    }\n",
       "\n",
       "    .dataframe tbody tr th {\n",
       "        vertical-align: top;\n",
       "    }\n",
       "\n",
       "    .dataframe thead th {\n",
       "        text-align: right;\n",
       "    }\n",
       "</style>\n",
       "<table border=\"1\" class=\"dataframe\">\n",
       "  <thead>\n",
       "    <tr style=\"text-align: right;\">\n",
       "      <th></th>\n",
       "      <th>Equals</th>\n",
       "      <th>max_count</th>\n",
       "      <th>values</th>\n",
       "      <th>last_line_string</th>\n",
       "      <th>experiment_start_time_string</th>\n",
       "      <th>xy_values</th>\n",
       "      <th>Last_UD</th>\n",
       "      <th>Gen</th>\n",
       "      <th>Fit</th>\n",
       "      <th>Orgs</th>\n",
       "      <th>...</th>\n",
       "      <th>filename</th>\n",
       "      <th>Update</th>\n",
       "      <th>Not</th>\n",
       "      <th>Nand</th>\n",
       "      <th>And</th>\n",
       "      <th>OrNot</th>\n",
       "      <th>Or</th>\n",
       "      <th>AndNot</th>\n",
       "      <th>Nor</th>\n",
       "      <th>Xor</th>\n",
       "    </tr>\n",
       "  </thead>\n",
       "  <tbody>\n",
       "    <tr>\n",
       "      <th>1310</th>\n",
       "      <td>13372</td>\n",
       "      <td>0</td>\n",
       "      <td>(1, 3, 2, 4, 5)</td>\n",
       "      <td>[UD:, 10000, Gen:, 3333.767, Fit:, 9.435327e+0...</td>\n",
       "      <td>04-17_16-05-58</td>\n",
       "      <td>(120, 120)</td>\n",
       "      <td>10000</td>\n",
       "      <td>3333.767</td>\n",
       "      <td>9.435327e+09</td>\n",
       "      <td>14234</td>\n",
       "      <td>...</td>\n",
       "      <td>14_mxc_0_[1, 3, 2, 4, 5]_date_04-17_16-05-58_x...</td>\n",
       "      <td>10000</td>\n",
       "      <td>14009</td>\n",
       "      <td>13303</td>\n",
       "      <td>12028</td>\n",
       "      <td>13068</td>\n",
       "      <td>12673</td>\n",
       "      <td>13388</td>\n",
       "      <td>13349</td>\n",
       "      <td>16</td>\n",
       "    </tr>\n",
       "    <tr>\n",
       "      <th>1440</th>\n",
       "      <td>12723</td>\n",
       "      <td>0</td>\n",
       "      <td>(4, 1, 2, 3, 5)</td>\n",
       "      <td>[UD:, 10000, Gen:, 2169.567, Fit:, 5.271931e+2...</td>\n",
       "      <td>04-14_15-15-07</td>\n",
       "      <td>(120, 120)</td>\n",
       "      <td>10000</td>\n",
       "      <td>2169.567</td>\n",
       "      <td>5.271931e+27</td>\n",
       "      <td>14260</td>\n",
       "      <td>...</td>\n",
       "      <td>2_mxc_True_[4, 1, 2, 3, 5]_date_04-14_15-15-07...</td>\n",
       "      <td>10000</td>\n",
       "      <td>13532</td>\n",
       "      <td>13302</td>\n",
       "      <td>649</td>\n",
       "      <td>13460</td>\n",
       "      <td>13100</td>\n",
       "      <td>5681</td>\n",
       "      <td>11592</td>\n",
       "      <td>12445</td>\n",
       "    </tr>\n",
       "    <tr>\n",
       "      <th>298</th>\n",
       "      <td>12262</td>\n",
       "      <td>0</td>\n",
       "      <td>(4, 3, 2, 1, 5)</td>\n",
       "      <td>[UD:, 10000, Gen:, 3144.089, Fit:, 2.497056e+1...</td>\n",
       "      <td>04-23_09-52-11</td>\n",
       "      <td>(120, 120)</td>\n",
       "      <td>10000</td>\n",
       "      <td>3144.089</td>\n",
       "      <td>2.497056e+18</td>\n",
       "      <td>14134</td>\n",
       "      <td>...</td>\n",
       "      <td>22_mxc_0_[4, 3, 2, 1, 5]_date_04-23_09-52-11_x...</td>\n",
       "      <td>10000</td>\n",
       "      <td>13364</td>\n",
       "      <td>13083</td>\n",
       "      <td>12682</td>\n",
       "      <td>13388</td>\n",
       "      <td>9921</td>\n",
       "      <td>12503</td>\n",
       "      <td>850</td>\n",
       "      <td>1</td>\n",
       "    </tr>\n",
       "    <tr>\n",
       "      <th>264</th>\n",
       "      <td>12187</td>\n",
       "      <td>1</td>\n",
       "      <td>(1, 3, 2, 4, 5)</td>\n",
       "      <td>[UD:, 10000, Gen:, 2762.624, Fit:, 124135.0, O...</td>\n",
       "      <td>04-25_02-22-08</td>\n",
       "      <td>(120, 120)</td>\n",
       "      <td>10000</td>\n",
       "      <td>2762.624</td>\n",
       "      <td>1.241350e+05</td>\n",
       "      <td>14369</td>\n",
       "      <td>...</td>\n",
       "      <td>25_mxc_1_[1, 3, 2, 4, 5]_date_04-25_02-22-08_x...</td>\n",
       "      <td>10000</td>\n",
       "      <td>12914</td>\n",
       "      <td>13143</td>\n",
       "      <td>12848</td>\n",
       "      <td>13082</td>\n",
       "      <td>12850</td>\n",
       "      <td>656</td>\n",
       "      <td>12517</td>\n",
       "      <td>1</td>\n",
       "    </tr>\n",
       "    <tr>\n",
       "      <th>743</th>\n",
       "      <td>12167</td>\n",
       "      <td>1</td>\n",
       "      <td>(4, 3, 2, 1, 5)</td>\n",
       "      <td>[UD:, 10000, Gen:, 2783.730, Fit:, 2285600., O...</td>\n",
       "      <td>04-20_08-44-03</td>\n",
       "      <td>(120, 120)</td>\n",
       "      <td>10000</td>\n",
       "      <td>2783.730</td>\n",
       "      <td>2.285600e+06</td>\n",
       "      <td>14361</td>\n",
       "      <td>...</td>\n",
       "      <td>18_mxc_1_[4, 3, 2, 1, 5]_date_04-20_08-44-03_x...</td>\n",
       "      <td>10000</td>\n",
       "      <td>13511</td>\n",
       "      <td>12969</td>\n",
       "      <td>12071</td>\n",
       "      <td>13206</td>\n",
       "      <td>13103</td>\n",
       "      <td>12795</td>\n",
       "      <td>2379</td>\n",
       "      <td>14</td>\n",
       "    </tr>\n",
       "    <tr>\n",
       "      <th>...</th>\n",
       "      <td>...</td>\n",
       "      <td>...</td>\n",
       "      <td>...</td>\n",
       "      <td>...</td>\n",
       "      <td>...</td>\n",
       "      <td>...</td>\n",
       "      <td>...</td>\n",
       "      <td>...</td>\n",
       "      <td>...</td>\n",
       "      <td>...</td>\n",
       "      <td>...</td>\n",
       "      <td>...</td>\n",
       "      <td>...</td>\n",
       "      <td>...</td>\n",
       "      <td>...</td>\n",
       "      <td>...</td>\n",
       "      <td>...</td>\n",
       "      <td>...</td>\n",
       "      <td>...</td>\n",
       "      <td>...</td>\n",
       "      <td>...</td>\n",
       "    </tr>\n",
       "    <tr>\n",
       "      <th>808</th>\n",
       "      <td>0</td>\n",
       "      <td>0</td>\n",
       "      <td>(4, 2, 1, 3, 5)</td>\n",
       "      <td>[UD:, 10000, Gen:, 1740.318, Fit:, 20971.63, O...</td>\n",
       "      <td>04-15_16-42-37</td>\n",
       "      <td>(120, 120)</td>\n",
       "      <td>10000</td>\n",
       "      <td>1740.318</td>\n",
       "      <td>2.097163e+04</td>\n",
       "      <td>14362</td>\n",
       "      <td>...</td>\n",
       "      <td>5_mxc_True_[4, 2, 1, 3, 5]_date_04-15_16-42-37...</td>\n",
       "      <td>10000</td>\n",
       "      <td>12886</td>\n",
       "      <td>13753</td>\n",
       "      <td>12154</td>\n",
       "      <td>13208</td>\n",
       "      <td>11850</td>\n",
       "      <td>10836</td>\n",
       "      <td>10961</td>\n",
       "      <td>2</td>\n",
       "    </tr>\n",
       "    <tr>\n",
       "      <th>250</th>\n",
       "      <td>0</td>\n",
       "      <td>0</td>\n",
       "      <td>(3, 4, 1, 2, 5)</td>\n",
       "      <td>[UD:, 10000, Gen:, 2303.425, Fit:, 17465.97, O...</td>\n",
       "      <td>04-17_07-14-46</td>\n",
       "      <td>(120, 120)</td>\n",
       "      <td>10000</td>\n",
       "      <td>2303.425</td>\n",
       "      <td>1.746597e+04</td>\n",
       "      <td>14385</td>\n",
       "      <td>...</td>\n",
       "      <td>12_mxc_True_[3, 4, 1, 2, 5]_date_04-17_07-14-4...</td>\n",
       "      <td>10000</td>\n",
       "      <td>13346</td>\n",
       "      <td>13268</td>\n",
       "      <td>12277</td>\n",
       "      <td>13410</td>\n",
       "      <td>12148</td>\n",
       "      <td>11607</td>\n",
       "      <td>1</td>\n",
       "      <td>0</td>\n",
       "    </tr>\n",
       "    <tr>\n",
       "      <th>810</th>\n",
       "      <td>0</td>\n",
       "      <td>1</td>\n",
       "      <td>(1, 2, 3, 4, 4)</td>\n",
       "      <td>[UD:, 10000, Gen:, 2656.523, Fit:, 13392.74, O...</td>\n",
       "      <td>04-24_22-48-42</td>\n",
       "      <td>(120, 120)</td>\n",
       "      <td>10000</td>\n",
       "      <td>2656.523</td>\n",
       "      <td>1.339274e+04</td>\n",
       "      <td>14355</td>\n",
       "      <td>...</td>\n",
       "      <td>25_mxc_1_[1, 2, 3, 4, 4]_date_04-24_22-48-42_x...</td>\n",
       "      <td>10000</td>\n",
       "      <td>13107</td>\n",
       "      <td>13144</td>\n",
       "      <td>11786</td>\n",
       "      <td>11820</td>\n",
       "      <td>11390</td>\n",
       "      <td>13016</td>\n",
       "      <td>11470</td>\n",
       "      <td>0</td>\n",
       "    </tr>\n",
       "    <tr>\n",
       "      <th>249</th>\n",
       "      <td>0</td>\n",
       "      <td>1</td>\n",
       "      <td>(1, 2, 3, 4, 3)</td>\n",
       "      <td>[UD:, 10000, Gen:, 2039.397, Fit:, 7632.924, O...</td>\n",
       "      <td>04-18_19-45-38</td>\n",
       "      <td>(120, 120)</td>\n",
       "      <td>10000</td>\n",
       "      <td>2039.397</td>\n",
       "      <td>7.632924e+03</td>\n",
       "      <td>14334</td>\n",
       "      <td>...</td>\n",
       "      <td>16_mxc_1_[1, 2, 3, 4, 3]_date_04-18_19-45-38_x...</td>\n",
       "      <td>10000</td>\n",
       "      <td>11183</td>\n",
       "      <td>11167</td>\n",
       "      <td>10122</td>\n",
       "      <td>10732</td>\n",
       "      <td>10409</td>\n",
       "      <td>12291</td>\n",
       "      <td>10426</td>\n",
       "      <td>2</td>\n",
       "    </tr>\n",
       "    <tr>\n",
       "      <th>247</th>\n",
       "      <td>0</td>\n",
       "      <td>1</td>\n",
       "      <td>(1, 2, 3, 4, 1)</td>\n",
       "      <td>[UD:, 10000, Gen:, 2036.659, Fit:, 4523.619, O...</td>\n",
       "      <td>04-22_17-01-25</td>\n",
       "      <td>(120, 120)</td>\n",
       "      <td>10000</td>\n",
       "      <td>2036.659</td>\n",
       "      <td>4.523619e+03</td>\n",
       "      <td>14389</td>\n",
       "      <td>...</td>\n",
       "      <td>22_mxc_1_[1, 2, 3, 4, 1]_date_04-22_17-01-25_x...</td>\n",
       "      <td>10000</td>\n",
       "      <td>13682</td>\n",
       "      <td>13318</td>\n",
       "      <td>103</td>\n",
       "      <td>12850</td>\n",
       "      <td>11421</td>\n",
       "      <td>11947</td>\n",
       "      <td>12719</td>\n",
       "      <td>0</td>\n",
       "    </tr>\n",
       "  </tbody>\n",
       "</table>\n",
       "<p>850 rows × 21 columns</p>\n",
       "</div>"
      ],
      "text/plain": [
       "      Equals  max_count           values  \\\n",
       "1310   13372          0  (1, 3, 2, 4, 5)   \n",
       "1440   12723          0  (4, 1, 2, 3, 5)   \n",
       "298    12262          0  (4, 3, 2, 1, 5)   \n",
       "264    12187          1  (1, 3, 2, 4, 5)   \n",
       "743    12167          1  (4, 3, 2, 1, 5)   \n",
       "...      ...        ...              ...   \n",
       "808        0          0  (4, 2, 1, 3, 5)   \n",
       "250        0          0  (3, 4, 1, 2, 5)   \n",
       "810        0          1  (1, 2, 3, 4, 4)   \n",
       "249        0          1  (1, 2, 3, 4, 3)   \n",
       "247        0          1  (1, 2, 3, 4, 1)   \n",
       "\n",
       "                                       last_line_string  \\\n",
       "1310  [UD:, 10000, Gen:, 3333.767, Fit:, 9.435327e+0...   \n",
       "1440  [UD:, 10000, Gen:, 2169.567, Fit:, 5.271931e+2...   \n",
       "298   [UD:, 10000, Gen:, 3144.089, Fit:, 2.497056e+1...   \n",
       "264   [UD:, 10000, Gen:, 2762.624, Fit:, 124135.0, O...   \n",
       "743   [UD:, 10000, Gen:, 2783.730, Fit:, 2285600., O...   \n",
       "...                                                 ...   \n",
       "808   [UD:, 10000, Gen:, 1740.318, Fit:, 20971.63, O...   \n",
       "250   [UD:, 10000, Gen:, 2303.425, Fit:, 17465.97, O...   \n",
       "810   [UD:, 10000, Gen:, 2656.523, Fit:, 13392.74, O...   \n",
       "249   [UD:, 10000, Gen:, 2039.397, Fit:, 7632.924, O...   \n",
       "247   [UD:, 10000, Gen:, 2036.659, Fit:, 4523.619, O...   \n",
       "\n",
       "     experiment_start_time_string   xy_values  Last_UD       Gen  \\\n",
       "1310               04-17_16-05-58  (120, 120)    10000  3333.767   \n",
       "1440               04-14_15-15-07  (120, 120)    10000  2169.567   \n",
       "298                04-23_09-52-11  (120, 120)    10000  3144.089   \n",
       "264                04-25_02-22-08  (120, 120)    10000  2762.624   \n",
       "743                04-20_08-44-03  (120, 120)    10000  2783.730   \n",
       "...                           ...         ...      ...       ...   \n",
       "808                04-15_16-42-37  (120, 120)    10000  1740.318   \n",
       "250                04-17_07-14-46  (120, 120)    10000  2303.425   \n",
       "810                04-24_22-48-42  (120, 120)    10000  2656.523   \n",
       "249                04-18_19-45-38  (120, 120)    10000  2039.397   \n",
       "247                04-22_17-01-25  (120, 120)    10000  2036.659   \n",
       "\n",
       "               Fit   Orgs  ...  \\\n",
       "1310  9.435327e+09  14234  ...   \n",
       "1440  5.271931e+27  14260  ...   \n",
       "298   2.497056e+18  14134  ...   \n",
       "264   1.241350e+05  14369  ...   \n",
       "743   2.285600e+06  14361  ...   \n",
       "...            ...    ...  ...   \n",
       "808   2.097163e+04  14362  ...   \n",
       "250   1.746597e+04  14385  ...   \n",
       "810   1.339274e+04  14355  ...   \n",
       "249   7.632924e+03  14334  ...   \n",
       "247   4.523619e+03  14389  ...   \n",
       "\n",
       "                                               filename Update    Not   Nand  \\\n",
       "1310  14_mxc_0_[1, 3, 2, 4, 5]_date_04-17_16-05-58_x...  10000  14009  13303   \n",
       "1440  2_mxc_True_[4, 1, 2, 3, 5]_date_04-14_15-15-07...  10000  13532  13302   \n",
       "298   22_mxc_0_[4, 3, 2, 1, 5]_date_04-23_09-52-11_x...  10000  13364  13083   \n",
       "264   25_mxc_1_[1, 3, 2, 4, 5]_date_04-25_02-22-08_x...  10000  12914  13143   \n",
       "743   18_mxc_1_[4, 3, 2, 1, 5]_date_04-20_08-44-03_x...  10000  13511  12969   \n",
       "...                                                 ...    ...    ...    ...   \n",
       "808   5_mxc_True_[4, 2, 1, 3, 5]_date_04-15_16-42-37...  10000  12886  13753   \n",
       "250   12_mxc_True_[3, 4, 1, 2, 5]_date_04-17_07-14-4...  10000  13346  13268   \n",
       "810   25_mxc_1_[1, 2, 3, 4, 4]_date_04-24_22-48-42_x...  10000  13107  13144   \n",
       "249   16_mxc_1_[1, 2, 3, 4, 3]_date_04-18_19-45-38_x...  10000  11183  11167   \n",
       "247   22_mxc_1_[1, 2, 3, 4, 1]_date_04-22_17-01-25_x...  10000  13682  13318   \n",
       "\n",
       "        And  OrNot     Or  AndNot    Nor    Xor  \n",
       "1310  12028  13068  12673   13388  13349     16  \n",
       "1440    649  13460  13100    5681  11592  12445  \n",
       "298   12682  13388   9921   12503    850      1  \n",
       "264   12848  13082  12850     656  12517      1  \n",
       "743   12071  13206  13103   12795   2379     14  \n",
       "...     ...    ...    ...     ...    ...    ...  \n",
       "808   12154  13208  11850   10836  10961      2  \n",
       "250   12277  13410  12148   11607      1      0  \n",
       "810   11786  11820  11390   13016  11470      0  \n",
       "249   10122  10732  10409   12291  10426      2  \n",
       "247     103  12850  11421   11947  12719      0  \n",
       "\n",
       "[850 rows x 21 columns]"
      ]
     },
     "metadata": {},
     "output_type": "display_data"
    }
   ],
   "source": [
    "cleaned_df = sorted_EQU_df[sorted_EQU_df['Last_UD'] == 10000]\n",
    "display(cleaned_df)"
   ]
  },
  {
   "cell_type": "code",
   "execution_count": 14,
   "metadata": {},
   "outputs": [
    {
     "name": "stdout",
     "output_type": "stream",
     "text": [
      "\\begin{tabular}{lrr}\n",
      "\\toprule\n",
      "{} &        Equals &            Fit \\\\\n",
      "\\midrule\n",
      "mean &   2755.153846 &  9.253921e+295 \\\\\n",
      "min  &      0.000000 &   6.751146e+01 \\\\\n",
      "25\\%  &      0.000000 &   1.445213e+04 \\\\\n",
      "50\\%  &      0.000000 &   4.964901e+04 \\\\\n",
      "75\\%  &   6435.000000 &   1.252362e+07 \\\\\n",
      "max  &  13372.000000 &  3.969932e+298 \\\\\n",
      "\\bottomrule\n",
      "\\end{tabular}\n",
      "\n"
     ]
    },
    {
     "name": "stderr",
     "output_type": "stream",
     "text": [
      "/var/folders/nk/6df909tn2f726qntp17fzj600000gn/T/ipykernel_45608/426925932.py:6: FutureWarning: In future versions `DataFrame.to_latex` is expected to utilise the base implementation of `Styler.to_latex` for formatting and rendering. The arguments signature may therefore change. It is recommended instead to use `DataFrame.style.to_latex` which also contains additional functionality.\n",
      "  print(d1.to_latex(index=True))\n"
     ]
    }
   ],
   "source": [
    "# cleaned_df[cleaned_df[\"max_count\"]].describe().to_latex(index=False)\n",
    "d1 = cleaned_df[cleaned_df[\"max_count\"] == 0]\n",
    "d1 = d1[[\"Equals\", \"Fit\"]]\n",
    "d1 = d1.describe()\n",
    "d1 = d1.drop([\"count\", \"std\"])\n",
    "print(d1.to_latex(index=True))"
   ]
  },
  {
   "cell_type": "code",
   "execution_count": 15,
   "metadata": {},
   "outputs": [
    {
     "name": "stdout",
     "output_type": "stream",
     "text": [
      "\\begin{tabular}{lrr}\n",
      "\\toprule\n",
      "{} &       Equals &            Fit \\\\\n",
      "\\midrule\n",
      "mean &    23.130769 &  4.504708e+292 \\\\\n",
      "min  &     0.000000 &   7.534021e+03 \\\\\n",
      "25\\%  &     0.000000 &   2.031529e+58 \\\\\n",
      "50\\%  &     0.000000 &  5.661669e+102 \\\\\n",
      "75\\%  &     0.000000 &  4.443928e+163 \\\\\n",
      "max  &  2799.000000 &  3.974209e+294 \\\\\n",
      "\\bottomrule\n",
      "\\end{tabular}\n",
      "\n"
     ]
    },
    {
     "name": "stderr",
     "output_type": "stream",
     "text": [
      "/var/folders/nk/6df909tn2f726qntp17fzj600000gn/T/ipykernel_45608/980696805.py:7: FutureWarning: In future versions `DataFrame.to_latex` is expected to utilise the base implementation of `Styler.to_latex` for formatting and rendering. The arguments signature may therefore change. It is recommended instead to use `DataFrame.style.to_latex` which also contains additional functionality.\n",
      "  print(d1.to_latex(index=True))\n"
     ]
    }
   ],
   "source": [
    "# display(cleaned_df[~cleaned_df[\"max_count\"]].describe())\n",
    "# cleaned_df[cleaned_df[\"max_count\"]].describe().to_latex(index=False)\n",
    "d1 = cleaned_df[cleaned_df[\"max_count\"] == -1]\n",
    "d1 = d1[[\"Equals\", \"Fit\", \"filename\"]]\n",
    "d1 = d1.describe()\n",
    "d1 = d1.drop([\"count\", \"std\"])\n",
    "print(d1.to_latex(index=True))"
   ]
  },
  {
   "cell_type": "code",
   "execution_count": 16,
   "metadata": {},
   "outputs": [
    {
     "name": "stdout",
     "output_type": "stream",
     "text": [
      "\\begin{tabular}{lrr}\n",
      "\\toprule\n",
      "{} &        Equals &           Fit \\\\\n",
      "\\midrule\n",
      "mean &   4965.955326 &  7.864197e+05 \\\\\n",
      "min  &      0.000000 &  4.085866e+02 \\\\\n",
      "25\\%  &      0.000000 &  1.611197e+04 \\\\\n",
      "50\\%  &     43.000000 &  7.550813e+04 \\\\\n",
      "75\\%  &  10634.500000 &  8.140241e+05 \\\\\n",
      "max  &  12187.000000 &  9.594949e+06 \\\\\n",
      "\\bottomrule\n",
      "\\end{tabular}\n",
      "\n"
     ]
    },
    {
     "name": "stderr",
     "output_type": "stream",
     "text": [
      "/var/folders/nk/6df909tn2f726qntp17fzj600000gn/T/ipykernel_45608/2692458926.py:7: FutureWarning: In future versions `DataFrame.to_latex` is expected to utilise the base implementation of `Styler.to_latex` for formatting and rendering. The arguments signature may therefore change. It is recommended instead to use `DataFrame.style.to_latex` which also contains additional functionality.\n",
      "  print(d1.to_latex(index=True))\n"
     ]
    }
   ],
   "source": [
    "# display(cleaned_df[~cleaned_df[\"max_count\"]].describe())\n",
    "# cleaned_df[cleaned_df[\"max_count\"]].describe().to_latex(index=False)\n",
    "d1 = cleaned_df[cleaned_df[\"max_count\"] == 1]\n",
    "d1 = d1[[\"Equals\", \"Fit\", \"filename\"]]\n",
    "d1 = d1.describe()\n",
    "d1 = d1.drop([\"count\", \"std\"])\n",
    "print(d1.to_latex(index=True))"
   ]
  },
  {
   "cell_type": "code",
   "execution_count": 17,
   "metadata": {},
   "outputs": [],
   "source": [
    "cleaned_df = cleaned_df[[\"values\", \"max_count\", \"Equals\", \"Fit\", \"index\", \"filename\"]]"
   ]
  },
  {
   "cell_type": "code",
   "execution_count": 18,
   "metadata": {},
   "outputs": [],
   "source": [
    "diff_vals_df = cleaned_df.sort_values(\"values\")"
   ]
  },
  {
   "cell_type": "code",
   "execution_count": 19,
   "metadata": {},
   "outputs": [
    {
     "name": "stderr",
     "output_type": "stream",
     "text": [
      "/var/folders/nk/6df909tn2f726qntp17fzj600000gn/T/ipykernel_45608/128294827.py:1: FutureWarning: In future versions `DataFrame.to_latex` is expected to utilise the base implementation of `Styler.to_latex` for formatting and rendering. The arguments signature may therefore change. It is recommended instead to use `DataFrame.style.to_latex` which also contains additional functionality.\n",
      "  print(diff_vals_df.to_latex(index=False))\n"
     ]
    },
    {
     "name": "stdout",
     "output_type": "stream",
     "text": [
      "\\begin{tabular}{lrrrrl}\n",
      "\\toprule\n",
      "         values &  max\\_count &  Equals &           Fit &  index &                                           filename \\\\\n",
      "\\midrule\n",
      "(1, 2, 3, 4, 1) &          1 &       0 &  4.523619e+03 &     22 & 22\\_mxc\\_1\\_[1, 2, 3, 4, 1]\\_date\\_04-22\\_17-01-25\\_xy... \\\\\n",
      "(1, 2, 3, 4, 1) &         -1 &       0 & 8.290687e+108 &     16 & 16\\_mxc\\_-1\\_[1, 2, 3, 4, 1]\\_date\\_04-18\\_21-36-55\\_x... \\\\\n",
      "(1, 2, 3, 4, 1) &          0 &       0 &  1.650670e+04 &     14 & 14\\_mxc\\_0\\_[1, 2, 3, 4, 1]\\_date\\_04-17\\_14-09-43\\_xy... \\\\\n",
      "(1, 2, 3, 4, 1) &          0 &       0 &  1.468369e+04 &     16 & 16\\_mxc\\_0\\_[1, 2, 3, 4, 1]\\_date\\_04-18\\_21-21-11\\_xy... \\\\\n",
      "(1, 2, 3, 4, 1) &         -1 &       0 &  9.591164e+12 &      5 & 5\\_mxc\\_False\\_[1, 2, 3, 4, 1]\\_date\\_04-15\\_10-56-28... \\\\\n",
      "(1, 2, 3, 4, 1) &          1 &       0 &  1.548548e+04 &     23 & 23\\_mxc\\_1\\_[1, 2, 3, 4, 1]\\_date\\_04-23\\_12-22-14\\_xy... \\\\\n",
      "(1, 2, 3, 4, 1) &          0 &       0 &  1.741281e+04 &      8 & 8\\_mxc\\_True\\_[1, 2, 3, 4, 1]\\_date\\_04-16\\_02-08-36\\_... \\\\\n",
      "(1, 2, 3, 4, 1) &          1 &       0 &  1.366724e+04 &     19 & 19\\_mxc\\_1\\_[1, 2, 3, 4, 1]\\_date\\_04-20\\_13-01-33\\_xy... \\\\\n",
      "(1, 2, 3, 4, 1) &          0 &       0 &  2.651487e+03 &     11 & 11\\_mxc\\_True\\_[1, 2, 3, 4, 1]\\_date\\_04-16\\_19-21-09... \\\\\n",
      "(1, 2, 3, 4, 1) &         -1 &       0 & 2.487801e+154 &     11 & 11\\_mxc\\_False\\_[1, 2, 3, 4, 1]\\_date\\_04-16\\_19-38-5... \\\\\n",
      "(1, 2, 3, 4, 1) &         -1 &       0 & 1.983902e+105 &     23 & 23\\_mxc\\_-1\\_[1, 2, 3, 4, 1]\\_date\\_04-23\\_12-55-48\\_x... \\\\\n",
      "(1, 2, 3, 4, 1) &          1 &       0 &  5.576755e+04 &     15 & 15\\_mxc\\_1\\_[1, 2, 3, 4, 1]\\_date\\_04-18\\_08-51-09\\_xy... \\\\\n",
      "(1, 2, 3, 4, 1) &          0 &       0 &  4.515025e+03 &      4 & 4\\_mxc\\_True\\_[1, 2, 3, 4, 1]\\_date\\_04-15\\_06-26-03\\_... \\\\\n",
      "(1, 2, 3, 4, 1) &          0 &       0 &  9.568449e+03 &      3 & 3\\_mxc\\_True\\_[1, 2, 3, 4, 1]\\_date\\_04-14\\_21-09-37\\_... \\\\\n",
      "(1, 2, 3, 4, 1) &          1 &       0 &  4.388805e+03 &     24 & 24\\_mxc\\_1\\_[1, 2, 3, 4, 1]\\_date\\_04-24\\_02-56-18\\_xy... \\\\\n",
      "(1, 2, 3, 4, 1) &          0 &       0 &  2.875752e+03 &     25 & 25\\_mxc\\_0\\_[1, 2, 3, 4, 1]\\_date\\_04-25\\_00-51-17\\_xy... \\\\\n",
      "(1, 2, 3, 4, 1) &          0 &       0 &  1.712264e+04 &     20 & 20\\_mxc\\_0\\_[1, 2, 3, 4, 1]\\_date\\_04-21\\_06-33-46\\_xy... \\\\\n",
      "(1, 2, 3, 4, 1) &          0 &       0 &  4.658941e+03 &     21 & 21\\_mxc\\_0\\_[1, 2, 3, 4, 1]\\_date\\_04-22\\_01-04-11\\_xy... \\\\\n",
      "(1, 2, 3, 4, 1) &          0 &       0 &  3.653363e+03 &      2 & 2\\_mxc\\_True\\_[1, 2, 3, 4, 1]\\_date\\_04-14\\_09-01-14\\_... \\\\\n",
      "(1, 2, 3, 4, 1) &          0 &       0 &  1.051585e+04 &     18 & 18\\_mxc\\_0\\_[1, 2, 3, 4, 1]\\_date\\_04-19\\_20-18-53\\_xy... \\\\\n",
      "(1, 2, 3, 4, 1) &          1 &       0 &  1.564498e+04 &     18 & 18\\_mxc\\_1\\_[1, 2, 3, 4, 1]\\_date\\_04-19\\_17-51-08\\_xy... \\\\\n",
      "(1, 2, 3, 4, 1) &          0 &       0 &  1.595555e+04 &     23 & 23\\_mxc\\_0\\_[1, 2, 3, 4, 1]\\_date\\_04-23\\_12-39-18\\_xy... \\\\\n",
      "(1, 2, 3, 4, 1) &          0 &       0 &  1.572282e+04 &      5 & 5\\_mxc\\_True\\_[1, 2, 3, 4, 1]\\_date\\_04-15\\_10-38-25\\_... \\\\\n",
      "(1, 2, 3, 4, 1) &          1 &       0 &  1.154480e+04 &     20 & 20\\_mxc\\_1\\_[1, 2, 3, 4, 1]\\_date\\_04-21\\_06-17-42\\_xy... \\\\\n",
      "(1, 2, 3, 4, 1) &         -1 &       0 &  5.570365e+47 &     14 & 14\\_mxc\\_-1\\_[1, 2, 3, 4, 1]\\_date\\_04-17\\_14-25-59\\_x... \\\\\n",
      "(1, 2, 3, 4, 1) &          1 &       0 &  1.423853e+04 &     21 & 21\\_mxc\\_1\\_[1, 2, 3, 4, 1]\\_date\\_04-22\\_00-48-19\\_xy... \\\\\n",
      "(1, 2, 3, 4, 1) &         -1 &       1 &  3.358075e+97 &     19 & 19\\_mxc\\_-1\\_[1, 2, 3, 4, 1]\\_date\\_04-20\\_13-36-09\\_x... \\\\\n",
      "(1, 2, 3, 4, 1) &          0 &       0 &  3.825357e+03 &     24 & 24\\_mxc\\_0\\_[1, 2, 3, 4, 1]\\_date\\_04-24\\_03-12-28\\_xy... \\\\\n",
      "(1, 2, 3, 4, 1) &          1 &       0 &  4.477831e+03 &     25 & 25\\_mxc\\_1\\_[1, 2, 3, 4, 1]\\_date\\_04-25\\_00-36-16\\_xy... \\\\\n",
      "(1, 2, 3, 4, 1) &          0 &      19 &  1.712673e+04 &      0 & 0\\_mxc\\_True\\_[1, 2, 3, 4, 1]\\_date\\_04-13\\_16-25-48\\_... \\\\\n",
      "(1, 2, 3, 4, 1) &          0 &    3817 &  2.957503e+19 &     12 & 12\\_mxc\\_True\\_[1, 2, 3, 4, 1]\\_date\\_04-17\\_02-51-30... \\\\\n",
      "(1, 2, 3, 4, 1) &          0 &       2 &  1.485689e+04 &      6 & 6\\_mxc\\_True\\_[1, 2, 3, 4, 1]\\_date\\_04-15\\_19-37-12\\_... \\\\\n",
      "(1, 2, 3, 4, 1) &          0 &       0 &  3.881085e+03 &      1 & 1\\_mxc\\_True\\_[1, 2, 3, 4, 1]\\_date\\_04-14\\_01-56-53\\_... \\\\\n",
      "(1, 2, 3, 4, 1) &          1 &      27 &  1.518217e+05 &     16 & 16\\_mxc\\_1\\_[1, 2, 3, 4, 1]\\_date\\_04-18\\_21-05-23\\_xy... \\\\\n",
      "(1, 2, 3, 4, 1) &          0 &       2 &  1.302774e+04 &     13 & 13\\_mxc\\_True\\_[1, 2, 3, 4, 1]\\_date\\_04-17\\_10-11-00... \\\\\n",
      "(1, 2, 3, 4, 1) &          0 &       0 &  1.304462e+04 &     15 & 15\\_mxc\\_0\\_[1, 2, 3, 4, 1]\\_date\\_04-18\\_09-06-23\\_xy... \\\\\n",
      "(1, 2, 3, 4, 1) &          0 &       9 &  2.043470e+05 &     22 & 22\\_mxc\\_0\\_[1, 2, 3, 4, 1]\\_date\\_04-22\\_17-19-10\\_xy... \\\\\n",
      "(1, 2, 3, 4, 1) &          0 &      14 &  1.656536e+05 &     19 & 19\\_mxc\\_0\\_[1, 2, 3, 4, 1]\\_date\\_04-20\\_13-19-50\\_xy... \\\\\n",
      "(1, 2, 3, 4, 1) &          0 &       0 &  9.028558e+03 &      9 & 9\\_mxc\\_True\\_[1, 2, 3, 4, 1]\\_date\\_04-16\\_09-28-49\\_... \\\\\n",
      "(1, 2, 3, 4, 1) &          1 &       2 &  1.830272e+04 &     14 & 14\\_mxc\\_1\\_[1, 2, 3, 4, 1]\\_date\\_04-17\\_13-52-43\\_xy... \\\\\n",
      "(1, 2, 3, 4, 2) &          0 &       0 &  9.923114e+03 &      6 & 6\\_mxc\\_True\\_[1, 2, 3, 4, 2]\\_date\\_04-15\\_19-06-27\\_... \\\\\n",
      "(1, 2, 3, 4, 2) &          1 &       0 &  3.824067e+03 &     22 & 22\\_mxc\\_1\\_[1, 2, 3, 4, 2]\\_date\\_04-22\\_16-31-05\\_xy... \\\\\n",
      "(1, 2, 3, 4, 2) &          0 &       0 &  3.205441e+03 &      4 & 4\\_mxc\\_True\\_[1, 2, 3, 4, 2]\\_date\\_04-15\\_06-08-55\\_... \\\\\n",
      "(1, 2, 3, 4, 2) &          0 &       0 &  2.833900e+04 &     20 & 20\\_mxc\\_0\\_[1, 2, 3, 4, 2]\\_date\\_04-21\\_05-53-19\\_xy... \\\\\n",
      "(1, 2, 3, 4, 2) &          0 &       0 &  3.826289e+03 &      5 & 5\\_mxc\\_True\\_[1, 2, 3, 4, 2]\\_date\\_04-15\\_10-18-06\\_... \\\\\n",
      "(1, 2, 3, 4, 2) &          0 &       2 &  1.533196e+04 &      1 & 1\\_mxc\\_True\\_[1, 2, 3, 4, 2]\\_date\\_04-14\\_01-37-42\\_... \\\\\n",
      "(1, 2, 3, 4, 2) &          0 &   11751 &  8.326058e+05 &     11 & 11\\_mxc\\_True\\_[1, 2, 3, 4, 2]\\_date\\_04-16\\_19-03-00... \\\\\n",
      "(1, 2, 3, 4, 2) &          0 &       0 &  4.294697e+03 &     13 & 13\\_mxc\\_True\\_[1, 2, 3, 4, 2]\\_date\\_04-17\\_09-54-23... \\\\\n",
      "(1, 2, 3, 4, 2) &          1 &       0 &  2.727421e+03 &     23 & 23\\_mxc\\_1\\_[1, 2, 3, 4, 2]\\_date\\_04-23\\_11-47-22\\_xy... \\\\\n",
      "(1, 2, 3, 4, 2) &          1 &    5491 &  3.565899e+05 &     24 & 24\\_mxc\\_1\\_[1, 2, 3, 4, 2]\\_date\\_04-24\\_02-33-06\\_xy... \\\\\n",
      "(1, 2, 3, 4, 2) &          1 &       0 &  2.780710e+03 &     16 & 16\\_mxc\\_1\\_[1, 2, 3, 4, 2]\\_date\\_04-18\\_20-25-28\\_xy... \\\\\n",
      "(1, 2, 3, 4, 2) &          0 &       0 &  3.632233e+03 &     12 & 12\\_mxc\\_True\\_[1, 2, 3, 4, 2]\\_date\\_04-17\\_02-27-23... \\\\\n",
      "(1, 2, 3, 4, 2) &          0 &       0 &  1.431112e+04 &     18 & 18\\_mxc\\_0\\_[1, 2, 3, 4, 2]\\_date\\_04-19\\_17-19-42\\_xy... \\\\\n",
      "(1, 2, 3, 4, 2) &          1 &   10314 &  1.202663e+05 &     14 & 14\\_mxc\\_1\\_[1, 2, 3, 4, 2]\\_date\\_04-17\\_13-17-04\\_xy... \\\\\n",
      "(1, 2, 3, 4, 2) &          1 &       0 &  1.447077e+04 &     19 & 19\\_mxc\\_1\\_[1, 2, 3, 4, 2]\\_date\\_04-20\\_12-15-38\\_xy... \\\\\n",
      "(1, 2, 3, 4, 2) &          0 &       0 &  3.535986e+03 &     25 & 25\\_mxc\\_0\\_[1, 2, 3, 4, 2]\\_date\\_04-25\\_00-10-56\\_xy... \\\\\n",
      "(1, 2, 3, 4, 2) &          0 &       0 &  1.487709e+04 &      0 & 0\\_mxc\\_True\\_[1, 2, 3, 4, 2]\\_date\\_04-13\\_16-03-43\\_... \\\\\n",
      "(1, 2, 3, 4, 2) &          0 &    6255 &  1.341911e+28 &      9 & 9\\_mxc\\_True\\_[1, 2, 3, 4, 2]\\_date\\_04-16\\_09-11-07\\_... \\\\\n",
      "(1, 2, 3, 4, 2) &          1 &      17 &  1.744304e+04 &     15 & 15\\_mxc\\_1\\_[1, 2, 3, 4, 2]\\_date\\_04-18\\_08-11-35\\_xy... \\\\\n",
      "(1, 2, 3, 4, 2) &          1 &    1496 &  1.616888e+05 &     25 & 25\\_mxc\\_1\\_[1, 2, 3, 4, 2]\\_date\\_04-24\\_23-55-25\\_xy... \\\\\n",
      "(1, 2, 3, 4, 2) &         -1 &       0 &  2.763625e+45 &     25 & 25\\_mxc\\_-1\\_[1, 2, 3, 4, 2]\\_date\\_04-25\\_00-26-30\\_x... \\\\\n",
      "(1, 2, 3, 4, 2) &          1 &       0 &  1.359575e+04 &     21 & 21\\_mxc\\_1\\_[1, 2, 3, 4, 2]\\_date\\_04-22\\_00-12-09\\_xy... \\\\\n",
      "(1, 2, 3, 4, 2) &          0 &       0 &  1.141723e+04 &     14 & 14\\_mxc\\_0\\_[1, 2, 3, 4, 2]\\_date\\_04-17\\_13-35-05\\_xy... \\\\\n",
      "(1, 2, 3, 4, 2) &          0 &       2 &  1.163079e+04 &     15 & 15\\_mxc\\_0\\_[1, 2, 3, 4, 2]\\_date\\_04-18\\_08-27-56\\_xy... \\\\\n",
      "(1, 2, 3, 4, 2) &          0 &    1220 &  2.431615e+05 &     21 & 21\\_mxc\\_0\\_[1, 2, 3, 4, 2]\\_date\\_04-22\\_00-30-25\\_xy... \\\\\n",
      "(1, 2, 3, 4, 2) &          0 &       0 &  4.505530e+03 &     16 & 16\\_mxc\\_0\\_[1, 2, 3, 4, 2]\\_date\\_04-18\\_20-40-54\\_xy... \\\\\n",
      "(1, 2, 3, 4, 2) &         -1 &       0 &  5.802276e+35 &     15 & 15\\_mxc\\_-1\\_[1, 2, 3, 4, 2]\\_date\\_04-18\\_08-43-31\\_x... \\\\\n",
      "(1, 2, 3, 4, 2) &          0 &       0 &  1.765941e+04 &     19 & 19\\_mxc\\_0\\_[1, 2, 3, 4, 2]\\_date\\_04-20\\_12-33-22\\_xy... \\\\\n",
      "(1, 2, 3, 4, 2) &         -1 &       0 & 1.032146e+145 &     18 & 18\\_mxc\\_-1\\_[1, 2, 3, 4, 2]\\_date\\_04-19\\_17-37-45\\_x... \\\\\n",
      "(1, 2, 3, 4, 2) &          0 &       0 &  1.135985e+04 &     23 & 23\\_mxc\\_0\\_[1, 2, 3, 4, 2]\\_date\\_04-23\\_12-03-45\\_xy... \\\\\n",
      "(1, 2, 3, 4, 2) &          1 &       0 &  3.637242e+03 &     18 & 18\\_mxc\\_1\\_[1, 2, 3, 4, 2]\\_date\\_04-19\\_17-01-29\\_xy... \\\\\n",
      "(1, 2, 3, 4, 2) &          0 &       0 &  4.066495e+03 &     22 & 22\\_mxc\\_0\\_[1, 2, 3, 4, 2]\\_date\\_04-22\\_16-46-59\\_xy... \\\\\n",
      "(1, 2, 3, 4, 2) &          0 &       0 &  1.514848e+04 &      8 & 8\\_mxc\\_True\\_[1, 2, 3, 4, 2]\\_date\\_04-16\\_01-50-15\\_... \\\\\n",
      "(1, 2, 3, 4, 2) &          0 &    8806 &  9.394750e+72 &      3 & 3\\_mxc\\_True\\_[1, 2, 3, 4, 2]\\_date\\_04-14\\_20-54-10\\_... \\\\\n",
      "(1, 2, 3, 4, 2) &          1 &       0 &  2.727322e+03 &     20 & 20\\_mxc\\_1\\_[1, 2, 3, 4, 2]\\_date\\_04-21\\_05-38-56\\_xy... \\\\\n",
      "(1, 2, 3, 4, 2) &         -1 &       0 &  1.747155e+85 &     20 & 20\\_mxc\\_-1\\_[1, 2, 3, 4, 2]\\_date\\_04-21\\_06-08-45\\_x... \\\\\n",
      "(1, 2, 3, 4, 2) &         -1 &       0 &  1.693078e+76 &      6 & 6\\_mxc\\_False\\_[1, 2, 3, 4, 2]\\_date\\_04-15\\_19-23-03... \\\\\n",
      "(1, 2, 3, 4, 2) &          0 &       0 &  1.602652e+04 &      2 & 2\\_mxc\\_True\\_[1, 2, 3, 4, 2]\\_date\\_04-14\\_08-42-30\\_... \\\\\n",
      "(1, 2, 3, 4, 3) &          0 &       0 &  1.012576e+04 &     11 & 11\\_mxc\\_True\\_[1, 2, 3, 4, 3]\\_date\\_04-16\\_18-44-52... \\\\\n",
      "(1, 2, 3, 4, 3) &          0 &   10419 &  8.829428e+21 &      0 & 0\\_mxc\\_True\\_[1, 2, 3, 4, 3]\\_date\\_04-13\\_15-39-28\\_... \\\\\n",
      "(1, 2, 3, 4, 3) &          0 &       0 &  1.415521e+04 &      1 & 1\\_mxc\\_True\\_[1, 2, 3, 4, 3]\\_date\\_04-14\\_01-22-04\\_... \\\\\n",
      "(1, 2, 3, 4, 3) &          0 &       0 &  1.052765e+03 &     25 & 25\\_mxc\\_0\\_[1, 2, 3, 4, 3]\\_date\\_04-24\\_23-38-02\\_xy... \\\\\n",
      "(1, 2, 3, 4, 3) &         -1 &       0 &  6.680532e+73 &     16 & 16\\_mxc\\_-1\\_[1, 2, 3, 4, 3]\\_date\\_04-18\\_20-18-24\\_x... \\\\\n",
      "(1, 2, 3, 4, 3) &          0 &    7222 &  1.930860e+05 &      5 & 5\\_mxc\\_True\\_[1, 2, 3, 4, 3]\\_date\\_04-15\\_10-03-40\\_... \\\\\n",
      "(1, 2, 3, 4, 3) &          1 &       0 &  5.650630e+02 &     14 & 14\\_mxc\\_1\\_[1, 2, 3, 4, 3]\\_date\\_04-17\\_12-47-43\\_xy... \\\\\n",
      "(1, 2, 3, 4, 3) &          0 &       2 &  1.548303e+04 &      9 & 9\\_mxc\\_True\\_[1, 2, 3, 4, 3]\\_date\\_04-16\\_08-54-22\\_... \\\\\n",
      "(1, 2, 3, 4, 3) &          1 &    7852 &  2.607845e+05 &     23 & 23\\_mxc\\_1\\_[1, 2, 3, 4, 3]\\_date\\_04-23\\_11-14-25\\_xy... \\\\\n",
      "(1, 2, 3, 4, 3) &          0 &    7896 &  2.741109e+05 &     23 & 23\\_mxc\\_0\\_[1, 2, 3, 4, 3]\\_date\\_04-23\\_11-29-32\\_xy... \\\\\n",
      "(1, 2, 3, 4, 3) &          0 &       0 &  1.445213e+04 &      6 & 6\\_mxc\\_True\\_[1, 2, 3, 4, 3]\\_date\\_04-15\\_18-45-40\\_... \\\\\n",
      "(1, 2, 3, 4, 3) &         -1 &       0 & 3.754598e+177 &      0 & 0\\_mxc\\_False\\_[1, 2, 3, 4, 3]\\_date\\_04-13\\_15-54-35... \\\\\n",
      "(1, 2, 3, 4, 3) &          0 &    8441 &  2.891149e+71 &      3 & 3\\_mxc\\_True\\_[1, 2, 3, 4, 3]\\_date\\_04-14\\_20-38-25\\_... \\\\\n",
      "(1, 2, 3, 4, 3) &          1 &       0 &  1.115793e+04 &     15 & 15\\_mxc\\_1\\_[1, 2, 3, 4, 3]\\_date\\_04-18\\_07-39-09\\_xy... \\\\\n",
      "(1, 2, 3, 4, 3) &          0 &       0 &  4.114673e+03 &     19 & 19\\_mxc\\_0\\_[1, 2, 3, 4, 3]\\_date\\_04-20\\_11-33-19\\_xy... \\\\\n",
      "(1, 2, 3, 4, 3) &          1 &    9327 &  7.008263e+04 &     19 & 19\\_mxc\\_1\\_[1, 2, 3, 4, 3]\\_date\\_04-20\\_11-16-56\\_xy... \\\\\n",
      "(1, 2, 3, 4, 3) &          1 &    9463 &  1.234687e+06 &     20 & 20\\_mxc\\_1\\_[1, 2, 3, 4, 3]\\_date\\_04-21\\_05-06-59\\_xy... \\\\\n",
      "(1, 2, 3, 4, 3) &          1 &       0 &  7.632924e+03 &     16 & 16\\_mxc\\_1\\_[1, 2, 3, 4, 3]\\_date\\_04-18\\_19-45-38\\_xy... \\\\\n",
      "(1, 2, 3, 4, 3) &          1 &    9627 &  7.765486e+04 &     24 & 24\\_mxc\\_1\\_[1, 2, 3, 4, 3]\\_date\\_04-24\\_01-54-31\\_xy... \\\\\n",
      "(1, 2, 3, 4, 3) &          1 &       0 &  4.648076e+03 &     25 & 25\\_mxc\\_1\\_[1, 2, 3, 4, 3]\\_date\\_04-24\\_23-20-53\\_xy... \\\\\n",
      "(1, 2, 3, 4, 3) &          1 &       6 &  1.610634e+04 &     18 & 18\\_mxc\\_1\\_[1, 2, 3, 4, 3]\\_date\\_04-19\\_16-17-41\\_xy... \\\\\n",
      "(1, 2, 3, 4, 3) &          0 &   10048 &  2.778531e+04 &     21 & 21\\_mxc\\_0\\_[1, 2, 3, 4, 3]\\_date\\_04-21\\_23-52-54\\_xy... \\\\\n",
      "(1, 2, 3, 4, 3) &          0 &       7 &  1.558949e+04 &      8 & 8\\_mxc\\_True\\_[1, 2, 3, 4, 3]\\_date\\_04-16\\_01-34-12\\_... \\\\\n",
      "(1, 2, 3, 4, 3) &          0 &       0 &  1.488276e+04 &     20 & 20\\_mxc\\_0\\_[1, 2, 3, 4, 3]\\_date\\_04-21\\_05-22-10\\_xy... \\\\\n",
      "(1, 2, 3, 4, 3) &          0 &       0 &  1.410390e+04 &     12 & 12\\_mxc\\_True\\_[1, 2, 3, 4, 3]\\_date\\_04-17\\_02-11-35... \\\\\n",
      "(1, 2, 3, 4, 3) &          0 &    2207 & 3.969932e+298 &      4 & 4\\_mxc\\_True\\_[1, 2, 3, 4, 3]\\_date\\_04-15\\_05-45-58\\_... \\\\\n",
      "(1, 2, 3, 4, 3) &          0 &       0 &  1.548997e+04 &     13 & 13\\_mxc\\_True\\_[1, 2, 3, 4, 3]\\_date\\_04-17\\_09-36-02... \\\\\n",
      "(1, 2, 3, 4, 3) &         -1 &       0 & 1.704421e+157 &      4 & 4\\_mxc\\_False\\_[1, 2, 3, 4, 3]\\_date\\_04-15\\_06-01-11... \\\\\n",
      "(1, 2, 3, 4, 3) &          1 &       0 &  1.753716e+04 &     21 & 21\\_mxc\\_1\\_[1, 2, 3, 4, 3]\\_date\\_04-21\\_23-34-34\\_xy... \\\\\n",
      "(1, 2, 3, 4, 3) &          0 &       0 &  3.950506e+03 &      2 & 2\\_mxc\\_True\\_[1, 2, 3, 4, 3]\\_date\\_04-14\\_08-13-03\\_... \\\\\n",
      "(1, 2, 3, 4, 3) &          1 &       0 &  4.025629e+03 &     22 & 22\\_mxc\\_1\\_[1, 2, 3, 4, 3]\\_date\\_04-22\\_15-59-25\\_xy... \\\\\n",
      "(1, 2, 3, 4, 3) &          0 &   10733 &  1.234024e+07 &     16 & 16\\_mxc\\_0\\_[1, 2, 3, 4, 3]\\_date\\_04-18\\_20-01-51\\_xy... \\\\\n",
      "(1, 2, 3, 4, 3) &          0 &       0 &  2.777271e+03 &     24 & 24\\_mxc\\_0\\_[1, 2, 3, 4, 3]\\_date\\_04-24\\_02-10-12\\_xy... \\\\\n",
      "(1, 2, 3, 4, 3) &         -1 &       0 & 1.478528e+250 &     24 & 24\\_mxc\\_-1\\_[1, 2, 3, 4, 3]\\_date\\_04-24\\_02-24-47\\_x... \\\\\n",
      "(1, 2, 3, 4, 3) &          0 &       0 &  1.852283e+04 &     18 & 18\\_mxc\\_0\\_[1, 2, 3, 4, 3]\\_date\\_04-19\\_16-35-43\\_xy... \\\\\n",
      "(1, 2, 3, 4, 3) &         -1 &       0 & 3.019758e+282 &      2 & 2\\_mxc\\_False\\_[1, 2, 3, 4, 3]\\_date\\_04-14\\_08-28-00... \\\\\n",
      "(1, 2, 3, 4, 4) &          0 &       0 &  3.729066e+03 &     21 & 21\\_mxc\\_0\\_[1, 2, 3, 4, 4]\\_date\\_04-21\\_23-15-32\\_xy... \\\\\n",
      "(1, 2, 3, 4, 4) &          1 &    9705 &  1.935013e+06 &     22 & 22\\_mxc\\_1\\_[1, 2, 3, 4, 4]\\_date\\_04-22\\_15-26-04\\_xy... \\\\\n",
      "(1, 2, 3, 4, 4) &          0 &       0 &  1.624876e+04 &     20 & 20\\_mxc\\_0\\_[1, 2, 3, 4, 4]\\_date\\_04-21\\_04-50-19\\_xy... \\\\\n",
      "(1, 2, 3, 4, 4) &          1 &    9062 &  1.896528e+06 &     20 & 20\\_mxc\\_1\\_[1, 2, 3, 4, 4]\\_date\\_04-21\\_04-34-54\\_xy... \\\\\n",
      "(1, 2, 3, 4, 4) &          0 &    9583 &  1.873431e+38 &     22 & 22\\_mxc\\_0\\_[1, 2, 3, 4, 4]\\_date\\_04-22\\_15-44-41\\_xy... \\\\\n",
      "(1, 2, 3, 4, 4) &          0 &       0 &  1.686523e+04 &      5 & 5\\_mxc\\_True\\_[1, 2, 3, 4, 4]\\_date\\_04-15\\_09-44-50\\_... \\\\\n",
      "(1, 2, 3, 4, 4) &          0 &   11050 &  3.903534e+09 &      3 & 3\\_mxc\\_True\\_[1, 2, 3, 4, 4]\\_date\\_04-14\\_17-44-27\\_... \\\\\n",
      "(1, 2, 3, 4, 4) &          1 &       0 &  1.785791e+03 &     19 & 19\\_mxc\\_1\\_[1, 2, 3, 4, 4]\\_date\\_04-20\\_09-37-45\\_xy... \\\\\n",
      "(1, 2, 3, 4, 4) &          0 &       0 &  1.458197e+04 &     14 & 14\\_mxc\\_0\\_[1, 2, 3, 4, 4]\\_date\\_04-17\\_12-18-08\\_xy... \\\\\n",
      "(1, 2, 3, 4, 4) &         -1 &       0 & 2.082889e+199 &      4 & 4\\_mxc\\_False\\_[1, 2, 3, 4, 4]\\_date\\_04-15\\_05-37-26... \\\\\n",
      "(1, 2, 3, 4, 4) &          0 &       0 &  1.190770e+04 &      9 & 9\\_mxc\\_True\\_[1, 2, 3, 4, 4]\\_date\\_04-16\\_08-37-09\\_... \\\\\n",
      "(1, 2, 3, 4, 4) &         -1 &       0 & 1.508958e+135 &      1 & 1\\_mxc\\_False\\_[1, 2, 3, 4, 4]\\_date\\_04-14\\_01-08-45... \\\\\n",
      "(1, 2, 3, 4, 4) &          0 &       0 &  1.607880e+04 &     18 & 18\\_mxc\\_0\\_[1, 2, 3, 4, 4]\\_date\\_04-19\\_15-58-10\\_xy... \\\\\n",
      "(1, 2, 3, 4, 4) &          1 &   11273 &  7.777379e+05 &     14 & 14\\_mxc\\_1\\_[1, 2, 3, 4, 4]\\_date\\_04-17\\_11-35-30\\_xy... \\\\\n",
      "(1, 2, 3, 4, 4) &          0 &       0 &  1.273218e+04 &      8 & 8\\_mxc\\_True\\_[1, 2, 3, 4, 4]\\_date\\_04-16\\_01-16-47\\_... \\\\\n",
      "(1, 2, 3, 4, 4) &          1 &       0 &  8.281408e+03 &     16 & 16\\_mxc\\_1\\_[1, 2, 3, 4, 4]\\_date\\_04-18\\_19-10-59\\_xy... \\\\\n",
      "(1, 2, 3, 4, 4) &          0 &       0 &  4.400842e+03 &     16 & 16\\_mxc\\_0\\_[1, 2, 3, 4, 4]\\_date\\_04-18\\_19-26-38\\_xy... \\\\\n",
      "(1, 2, 3, 4, 4) &          0 &       0 &  3.798482e+03 &     25 & 25\\_mxc\\_0\\_[1, 2, 3, 4, 4]\\_date\\_04-24\\_23-04-55\\_xy... \\\\\n",
      "(1, 2, 3, 4, 4) &          0 &       0 &  4.479074e+03 &     15 & 15\\_mxc\\_0\\_[1, 2, 3, 4, 4]\\_date\\_04-18\\_07-22-44\\_xy... \\\\\n",
      "(1, 2, 3, 4, 4) &          0 &       1 &  1.006989e+05 &      1 & 1\\_mxc\\_True\\_[1, 2, 3, 4, 4]\\_date\\_04-14\\_00-52-25\\_... \\\\\n",
      "(1, 2, 3, 4, 4) &          0 &       2 &  4.300917e+04 &     19 & 19\\_mxc\\_0\\_[1, 2, 3, 4, 4]\\_date\\_04-20\\_10-00-20\\_xy... \\\\\n",
      "(1, 2, 3, 4, 4) &          1 &   11720 &  1.423970e+06 &     18 & 18\\_mxc\\_1\\_[1, 2, 3, 4, 4]\\_date\\_04-19\\_14-39-40\\_xy... \\\\\n",
      "(1, 2, 3, 4, 4) &          1 &       7 &  1.147770e+05 &     15 & 15\\_mxc\\_1\\_[1, 2, 3, 4, 4]\\_date\\_04-18\\_07-08-04\\_xy... \\\\\n",
      "(1, 2, 3, 4, 4) &          0 &      27 &  1.634850e+05 &     13 & 13\\_mxc\\_True\\_[1, 2, 3, 4, 4]\\_date\\_04-17\\_09-19-16... \\\\\n",
      "(1, 2, 3, 4, 4) &         -1 &     194 & 5.484608e+119 &     19 & 19\\_mxc\\_-1\\_[1, 2, 3, 4, 4]\\_date\\_04-20\\_11-00-51\\_x... \\\\\n",
      "(1, 2, 3, 4, 4) &          1 &     896 &  1.323919e+04 &     21 & 21\\_mxc\\_1\\_[1, 2, 3, 4, 4]\\_date\\_04-21\\_22-58-34\\_xy... \\\\\n",
      "(1, 2, 3, 4, 4) &          1 &       0 &  1.339274e+04 &     25 & 25\\_mxc\\_1\\_[1, 2, 3, 4, 4]\\_date\\_04-24\\_22-48-42\\_xy... \\\\\n",
      "(1, 2, 3, 4, 4) &         -1 &       0 &  9.112436e+72 &      3 & 3\\_mxc\\_False\\_[1, 2, 3, 4, 4]\\_date\\_04-14\\_20-22-47... \\\\\n",
      "(1, 2, 3, 4, 4) &         -1 &       0 & 5.925234e+163 &     12 & 12\\_mxc\\_False\\_[1, 2, 3, 4, 4]\\_date\\_04-17\\_02-04-2... \\\\\n",
      "(1, 2, 3, 4, 4) &          1 &   10673 &  2.190902e+05 &     24 & 24\\_mxc\\_1\\_[1, 2, 3, 4, 4]\\_date\\_04-24\\_01-32-43\\_xy... \\\\\n",
      "(1, 2, 3, 4, 4) &          0 &       0 &  2.488451e+04 &      0 & 0\\_mxc\\_True\\_[1, 2, 3, 4, 4]\\_date\\_04-13\\_15-19-26\\_... \\\\\n",
      "(1, 2, 3, 4, 4) &          0 &   10681 &  2.889303e+07 &      4 & 4\\_mxc\\_True\\_[1, 2, 3, 4, 4]\\_date\\_04-15\\_05-22-26\\_... \\\\\n",
      "(1, 2, 3, 4, 4) &         -1 &       0 &  1.414460e+74 &     14 & 14\\_mxc\\_-1\\_[1, 2, 3, 4, 4]\\_date\\_04-17\\_12-36-47\\_x... \\\\\n",
      "(1, 2, 3, 4, 4) &          0 &    2057 &  1.103311e+34 &      2 & 2\\_mxc\\_True\\_[1, 2, 3, 4, 4]\\_date\\_04-14\\_08-02-17\\_... \\\\\n",
      "(1, 2, 3, 4, 4) &          0 &       0 &  1.323002e+04 &     23 & 23\\_mxc\\_0\\_[1, 2, 3, 4, 4]\\_date\\_04-23\\_10-52-53\\_xy... \\\\\n",
      "(1, 2, 3, 4, 4) &          1 &       0 &  1.329187e+04 &     23 & 23\\_mxc\\_1\\_[1, 2, 3, 4, 4]\\_date\\_04-23\\_10-36-43\\_xy... \\\\\n",
      "(1, 2, 3, 4, 4) &         -1 &       0 &  5.507752e+71 &     11 & 11\\_mxc\\_False\\_[1, 2, 3, 4, 4]\\_date\\_04-16\\_18-36-5... \\\\\n",
      "(1, 2, 3, 4, 5) &          0 &       2 &  1.383939e+04 &     23 & 23\\_mxc\\_0\\_[1, 2, 3, 4, 5]\\_date\\_04-23\\_13-19-46\\_xy... \\\\\n",
      "(1, 2, 3, 4, 5) &          0 &       0 &  4.226605e+03 &     11 & 11\\_mxc\\_True\\_[1, 2, 3, 4, 5]\\_date\\_04-16\\_19-51-52... \\\\\n",
      "(1, 2, 3, 4, 5) &         -1 &       1 & 1.455709e+204 &     25 & 25\\_mxc\\_-1\\_[1, 2, 3, 4, 5]\\_date\\_04-25\\_01-38-00\\_x... \\\\\n",
      "(1, 2, 3, 4, 5) &          0 &       0 &  4.387937e+03 &      9 & 9\\_mxc\\_True\\_[1, 2, 3, 4, 5]\\_date\\_04-16\\_09-49-25\\_... \\\\\n",
      "(1, 2, 3, 4, 5) &          1 &   11475 &  5.009468e+06 &     22 & 22\\_mxc\\_1\\_[1, 2, 3, 4, 5]\\_date\\_04-22\\_20-06-31\\_xy... \\\\\n",
      "(1, 2, 3, 4, 5) &          0 &       0 &  1.436827e+04 &     21 & 21\\_mxc\\_0\\_[1, 2, 3, 4, 5]\\_date\\_04-22\\_01-39-27\\_xy... \\\\\n",
      "(1, 2, 3, 4, 5) &          0 &       0 &  1.443128e+04 &      3 & 3\\_mxc\\_True\\_[1, 2, 3, 4, 5]\\_date\\_04-14\\_21-26-56\\_... \\\\\n",
      "(1, 2, 3, 4, 5) &          1 &   11385 &  6.205006e+05 &     24 & 24\\_mxc\\_1\\_[1, 2, 3, 4, 5]\\_date\\_04-24\\_03-29-21\\_xy... \\\\\n",
      "(1, 2, 3, 4, 5) &          1 &       0 &  1.282276e+04 &     16 & 16\\_mxc\\_1\\_[1, 2, 3, 4, 5]\\_date\\_04-18\\_21-46-33\\_xy... \\\\\n",
      "(1, 2, 3, 4, 5) &          0 &       0 &  4.635980e+03 &      2 & 2\\_mxc\\_True\\_[1, 2, 3, 4, 5]\\_date\\_04-14\\_09-26-28\\_... \\\\\n",
      "(1, 2, 3, 4, 5) &          0 &       0 &  3.777295e+03 &     16 & 16\\_mxc\\_0\\_[1, 2, 3, 4, 5]\\_date\\_04-18\\_22-04-46\\_xy... \\\\\n",
      "(1, 2, 3, 4, 5) &         -1 &       0 & 5.880404e+120 &      9 & 9\\_mxc\\_False\\_[1, 2, 3, 4, 5]\\_date\\_04-16\\_10-05-01... \\\\\n",
      "(1, 2, 3, 4, 5) &          0 &       0 &  2.884656e+03 &     25 & 25\\_mxc\\_0\\_[1, 2, 3, 4, 5]\\_date\\_04-25\\_01-23-07\\_xy... \\\\\n",
      "(1, 2, 3, 4, 5) &          0 &    9176 &  4.808713e+24 &      8 & 8\\_mxc\\_True\\_[1, 2, 3, 4, 5]\\_date\\_04-16\\_02-26-08\\_... \\\\\n",
      "(1, 2, 3, 4, 5) &          1 &       0 &  1.804373e+04 &     19 & 19\\_mxc\\_1\\_[1, 2, 3, 4, 5]\\_date\\_04-20\\_13-44-09\\_xy... \\\\\n",
      "(1, 2, 3, 4, 5) &         -1 &       0 &  7.492482e+73 &     20 & 20\\_mxc\\_-1\\_[1, 2, 3, 4, 5]\\_date\\_04-21\\_07-25-11\\_x... \\\\\n",
      "(1, 2, 3, 4, 5) &          1 &       0 &  1.675167e+04 &     15 & 15\\_mxc\\_1\\_[1, 2, 3, 4, 5]\\_date\\_04-18\\_09-31-19\\_xy... \\\\\n",
      "(1, 2, 3, 4, 5) &         -1 &       0 &  2.603604e+75 &      0 & 0\\_mxc\\_False\\_[1, 2, 3, 4, 5]\\_date\\_04-13\\_16-59-10... \\\\\n",
      "(1, 2, 3, 4, 5) &         -1 &       0 &  1.932565e+40 &      2 & 2\\_mxc\\_False\\_[1, 2, 3, 4, 5]\\_date\\_04-14\\_09-42-13... \\\\\n",
      "(1, 2, 3, 4, 5) &          1 &    9828 &  4.075878e+06 &     18 & 18\\_mxc\\_1\\_[1, 2, 3, 4, 5]\\_date\\_04-19\\_20-40-36\\_xy... \\\\\n",
      "(1, 2, 3, 4, 5) &          1 &   11628 &  2.783616e+06 &     21 & 21\\_mxc\\_1\\_[1, 2, 3, 4, 5]\\_date\\_04-22\\_01-24-15\\_xy... \\\\\n",
      "(1, 2, 3, 4, 5) &         -1 &       0 &  2.681245e+87 &     21 & 21\\_mxc\\_-1\\_[1, 2, 3, 4, 5]\\_date\\_04-22\\_01-55-22\\_x... \\\\\n",
      "(1, 2, 3, 4, 5) &          0 &   10915 &  2.080070e+21 &     24 & 24\\_mxc\\_0\\_[1, 2, 3, 4, 5]\\_date\\_04-24\\_03-45-21\\_xy... \\\\\n",
      "(1, 2, 3, 4, 5) &         -1 &       0 & 3.509935e+131 &     14 & 14\\_mxc\\_-1\\_[1, 2, 3, 4, 5]\\_date\\_04-17\\_15-01-04\\_x... \\\\\n",
      "(1, 2, 3, 4, 5) &          1 &       0 &  1.717445e+04 &     14 & 14\\_mxc\\_1\\_[1, 2, 3, 4, 5]\\_date\\_04-17\\_14-34-46\\_xy... \\\\\n",
      "(1, 2, 3, 4, 5) &          0 &    3362 & 1.001721e+285 &      5 & 5\\_mxc\\_True\\_[1, 2, 3, 4, 5]\\_date\\_04-15\\_11-04-38\\_... \\\\\n",
      "(1, 2, 3, 4, 5) &          1 &   10639 &  1.139709e+05 &     23 & 23\\_mxc\\_1\\_[1, 2, 3, 4, 5]\\_date\\_04-23\\_13-02-49\\_xy... \\\\\n",
      "(1, 2, 3, 4, 5) &          1 &   11866 &  7.487211e+06 &     20 & 20\\_mxc\\_1\\_[1, 2, 3, 4, 5]\\_date\\_04-21\\_06-53-17\\_xy... \\\\\n",
      "(1, 2, 3, 4, 5) &         -1 &       0 & 1.425104e+245 &      6 & 6\\_mxc\\_False\\_[1, 2, 3, 4, 5]\\_date\\_04-15\\_20-07-03... \\\\\n",
      "(1, 2, 3, 4, 5) &          0 &       0 &  1.595359e+04 &      4 & 4\\_mxc\\_True\\_[1, 2, 3, 4, 5]\\_date\\_04-15\\_06-42-57\\_... \\\\\n",
      "(1, 2, 3, 4, 5) &         -1 &       0 &  1.228076e+14 &     13 & 13\\_mxc\\_False\\_[1, 2, 3, 4, 5]\\_date\\_04-17\\_10-42-3... \\\\\n",
      "(1, 2, 3, 4, 5) &          0 &    8829 &  1.762643e+39 &      6 & 6\\_mxc\\_True\\_[1, 2, 3, 4, 5]\\_date\\_04-15\\_19-55-48\\_... \\\\\n",
      "(1, 2, 3, 4, 5) &          0 &       5 &  1.484297e+04 &     20 & 20\\_mxc\\_0\\_[1, 2, 3, 4, 5]\\_date\\_04-21\\_07-09-32\\_xy... \\\\\n",
      "(1, 2, 3, 4, 5) &          0 &    9916 &  6.450240e+04 &      0 & 0\\_mxc\\_True\\_[1, 2, 3, 4, 5]\\_date\\_04-13\\_16-44-01\\_... \\\\\n",
      "(1, 2, 3, 4, 5) &          1 &       0 &  4.200728e+03 &     25 & 25\\_mxc\\_1\\_[1, 2, 3, 4, 5]\\_date\\_04-25\\_01-07-12\\_xy... \\\\\n",
      "(1, 2, 3, 4, 5) &         -1 &       0 &  5.971620e+28 &      3 & 3\\_mxc\\_False\\_[1, 2, 3, 4, 5]\\_date\\_04-14\\_21-42-20... \\\\\n",
      "(1, 2, 3, 4, 5) &          0 &       5 &  1.913161e+05 &     12 & 12\\_mxc\\_True\\_[1, 2, 3, 4, 5]\\_date\\_04-17\\_03-07-20... \\\\\n",
      "(1, 2, 3, 4, 5) &         -1 &       0 & 3.183076e+118 &      5 & 5\\_mxc\\_False\\_[1, 2, 3, 4, 5]\\_date\\_04-15\\_11-20-36... \\\\\n",
      "(1, 2, 3, 4, 6) &          0 &    5828 & 1.492810e+123 &     24 & 24\\_mxc\\_0\\_[1, 2, 3, 4, 6]\\_date\\_04-24\\_01-13-25\\_xy... \\\\\n",
      "(1, 2, 3, 4, 6) &          0 &       0 &  4.324354e+03 &     13 & 13\\_mxc\\_True\\_[1, 2, 3, 4, 6]\\_date\\_04-17\\_09-03-27... \\\\\n",
      "(1, 2, 3, 4, 6) &          0 &       2 &  5.098617e+04 &     14 & 14\\_mxc\\_0\\_[1, 2, 3, 4, 6]\\_date\\_04-17\\_11-13-02\\_xy... \\\\\n",
      "(1, 2, 3, 4, 6) &          0 &    3641 & 4.369271e+110 &      4 & 4\\_mxc\\_True\\_[1, 2, 3, 4, 6]\\_date\\_04-15\\_05-00-46\\_... \\\\\n",
      "(1, 2, 3, 4, 6) &          1 &   10635 &  6.223534e+05 &     22 & 22\\_mxc\\_1\\_[1, 2, 3, 4, 6]\\_date\\_04-22\\_14-55-23\\_xy... \\\\\n",
      "(1, 2, 3, 4, 6) &          1 &   10547 &  8.609017e+05 &     15 & 15\\_mxc\\_1\\_[1, 2, 3, 4, 6]\\_date\\_04-18\\_06-40-29\\_xy... \\\\\n",
      "(1, 2, 3, 4, 6) &          0 &       0 &  2.060942e+03 &     22 & 22\\_mxc\\_0\\_[1, 2, 3, 4, 6]\\_date\\_04-22\\_15-11-33\\_xy... \\\\\n",
      "(1, 2, 3, 4, 6) &         -1 &       0 & 1.715377e+123 &      4 & 4\\_mxc\\_False\\_[1, 2, 3, 4, 6]\\_date\\_04-15\\_05-14-25... \\\\\n",
      "(1, 2, 3, 4, 6) &         -1 &       1 & 2.021980e+271 &      1 & 1\\_mxc\\_False\\_[1, 2, 3, 4, 6]\\_date\\_04-14\\_00-38-55... \\\\\n",
      "(1, 2, 3, 4, 6) &          0 &       0 &  4.055289e+03 &     20 & 20\\_mxc\\_0\\_[1, 2, 3, 4, 6]\\_date\\_04-21\\_04-18-29\\_xy... \\\\\n",
      "(1, 2, 3, 4, 6) &          0 &    3722 &  1.336144e+11 &      0 & 0\\_mxc\\_True\\_[1, 2, 3, 4, 6]\\_date\\_04-13\\_15-01-31\\_... \\\\\n",
      "(1, 2, 3, 4, 6) &          1 &       0 &  1.611760e+04 &     24 & 24\\_mxc\\_1\\_[1, 2, 3, 4, 6]\\_date\\_04-24\\_00-57-09\\_xy... \\\\\n",
      "(1, 2, 3, 4, 6) &         -1 &       0 &  2.248926e+14 &     16 & 16\\_mxc\\_-1\\_[1, 2, 3, 4, 6]\\_date\\_04-18\\_19-07-03\\_x... \\\\\n",
      "(1, 2, 3, 4, 6) &          0 &    9939 &  7.684664e+07 &      9 & 9\\_mxc\\_True\\_[1, 2, 3, 4, 6]\\_date\\_04-16\\_08-23-01\\_... \\\\\n",
      "(1, 2, 3, 4, 6) &          1 &   10298 &  6.630808e+05 &     21 & 21\\_mxc\\_1\\_[1, 2, 3, 4, 6]\\_date\\_04-21\\_22-33-37\\_xy... \\\\\n",
      "(1, 2, 3, 4, 6) &         -1 &       0 & 1.073964e+158 &      0 & 0\\_mxc\\_False\\_[1, 2, 3, 4, 6]\\_date\\_04-13\\_15-10-40... \\\\\n",
      "(1, 2, 3, 4, 6) &          1 &       0 &  4.253529e+03 &     25 & 25\\_mxc\\_1\\_[1, 2, 3, 4, 6]\\_date\\_04-24\\_22-14-34\\_xy... \\\\\n",
      "(1, 2, 3, 4, 6) &          1 &   10392 &  4.005337e+05 &     23 & 23\\_mxc\\_1\\_[1, 2, 3, 4, 6]\\_date\\_04-23\\_10-09-12\\_xy... \\\\\n",
      "(1, 2, 3, 4, 6) &          0 &   10391 &  1.213448e+94 &     12 & 12\\_mxc\\_True\\_[1, 2, 3, 4, 6]\\_date\\_04-17\\_01-35-16... \\\\\n",
      "(1, 2, 3, 4, 6) &          0 &       0 &  1.051572e+04 &     25 & 25\\_mxc\\_0\\_[1, 2, 3, 4, 6]\\_date\\_04-24\\_22-30-27\\_xy... \\\\\n",
      "(1, 2, 3, 4, 6) &          0 &    9472 &  8.258462e+08 &     16 & 16\\_mxc\\_0\\_[1, 2, 3, 4, 6]\\_date\\_04-18\\_18-49-02\\_xy... \\\\\n",
      "(1, 2, 3, 4, 6) &          1 &       0 &  1.696794e+04 &     18 & 18\\_mxc\\_1\\_[1, 2, 3, 4, 6]\\_date\\_04-19\\_14-03-32\\_xy... \\\\\n",
      "(1, 2, 3, 4, 6) &          0 &   10301 &  6.059081e+82 &      3 & 3\\_mxc\\_True\\_[1, 2, 3, 4, 6]\\_date\\_04-14\\_17-29-09\\_... \\\\\n",
      "(1, 2, 3, 4, 6) &          1 &    9115 &  2.447246e+06 &     16 & 16\\_mxc\\_1\\_[1, 2, 3, 4, 6]\\_date\\_04-18\\_18-31-58\\_xy... \\\\\n",
      "(1, 2, 3, 4, 6) &          1 &    9707 &  8.174798e+05 &     19 & 19\\_mxc\\_1\\_[1, 2, 3, 4, 6]\\_date\\_04-20\\_09-16-53\\_xy... \\\\\n",
      "(1, 2, 3, 4, 6) &          1 &   10484 &  9.594949e+06 &     14 & 14\\_mxc\\_1\\_[1, 2, 3, 4, 6]\\_date\\_04-17\\_10-56-20\\_xy... \\\\\n",
      "(1, 2, 3, 4, 6) &          1 &       0 &  4.537989e+03 &     20 & 20\\_mxc\\_1\\_[1, 2, 3, 4, 6]\\_date\\_04-21\\_04-02-16\\_xy... \\\\\n",
      "(1, 2, 3, 4, 6) &          1 &       0 &  1.415751e+04 &     17 & 17\\_mxc\\_1\\_[1, 2, 3, 4, 6]\\_date\\_04-19\\_12-56-15\\_xy... \\\\\n",
      "(1, 2, 4, 3, 5) &         -1 &       0 &  1.650562e+92 &     14 & 14\\_mxc\\_-1\\_[1, 2, 4, 3, 5]\\_date\\_04-17\\_15-39-35\\_x... \\\\\n",
      "(1, 2, 4, 3, 5) &          0 &       0 &  7.580204e+03 &     25 & 25\\_mxc\\_0\\_[1, 2, 4, 3, 5]\\_date\\_04-25\\_02-06-57\\_xy... \\\\\n",
      "(1, 2, 4, 3, 5) &         -1 &       2 &  7.271464e+42 &      1 & 1\\_mxc\\_False\\_[1, 2, 4, 3, 5]\\_date\\_04-14\\_02-37-03... \\\\\n",
      "(1, 2, 4, 3, 5) &          0 &       0 &  3.267665e+04 &      0 & 0\\_mxc\\_True\\_[1, 2, 4, 3, 5]\\_date\\_04-13\\_17-01-37\\_... \\\\\n",
      "(1, 2, 4, 3, 5) &          0 &       0 &  1.046582e+03 &      1 & 1\\_mxc\\_True\\_[1, 2, 4, 3, 5]\\_date\\_04-14\\_02-22-04\\_... \\\\\n",
      "(1, 2, 4, 3, 5) &          1 &    9378 &  5.313389e+05 &     22 & 22\\_mxc\\_1\\_[1, 2, 4, 3, 5]\\_date\\_04-22\\_21-46-59\\_xy... \\\\\n",
      "(1, 2, 4, 3, 5) &          1 &   11973 &  6.064442e+06 &     24 & 24\\_mxc\\_1\\_[1, 2, 4, 3, 5]\\_date\\_04-24\\_04-00-45\\_xy... \\\\\n",
      "(1, 2, 4, 3, 5) &          0 &   10013 &  1.646424e+10 &      9 & 9\\_mxc\\_True\\_[1, 2, 4, 3, 5]\\_date\\_04-16\\_10-18-22\\_... \\\\\n",
      "(1, 2, 4, 3, 5) &         -1 &       0 &  1.806121e+24 &     22 & 22\\_mxc\\_-1\\_[1, 2, 4, 3, 5]\\_date\\_04-22\\_22-16-04\\_x... \\\\\n",
      "(1, 2, 4, 3, 5) &         -1 &       0 & 5.298670e+293 &     12 & 12\\_mxc\\_False\\_[1, 2, 4, 3, 5]\\_date\\_04-17\\_03-34-0... \\\\\n",
      "(1, 2, 4, 3, 5) &          0 &       0 &  2.835658e+04 &     16 & 16\\_mxc\\_0\\_[1, 2, 4, 3, 5]\\_date\\_04-18\\_22-39-10\\_xy... \\\\\n",
      "(1, 2, 4, 3, 5) &          0 &   10630 &  6.645112e+75 &     19 & 19\\_mxc\\_0\\_[1, 2, 4, 3, 5]\\_date\\_04-20\\_14-26-24\\_xy... \\\\\n",
      "(1, 2, 4, 3, 5) &          0 &      11 &  3.474932e+04 &     20 & 20\\_mxc\\_0\\_[1, 2, 4, 3, 5]\\_date\\_04-21\\_07-48-44\\_xy... \\\\\n",
      "(1, 2, 4, 3, 5) &          1 &   10370 &  8.861698e+05 &     18 & 18\\_mxc\\_1\\_[1, 2, 4, 3, 5]\\_date\\_04-19\\_21-08-03\\_xy... \\\\\n",
      "(1, 2, 4, 3, 5) &          1 &       2 &  3.423603e+04 &     14 & 14\\_mxc\\_1\\_[1, 2, 4, 3, 5]\\_date\\_04-17\\_15-09-53\\_xy... \\\\\n",
      "(1, 2, 4, 3, 5) &          0 &    4538 & 8.292892e+150 &     12 & 12\\_mxc\\_True\\_[1, 2, 4, 3, 5]\\_date\\_04-17\\_03-24-09... \\\\\n",
      "(1, 2, 4, 3, 5) &         -1 &       0 &  8.355300e+05 &      3 & 3\\_mxc\\_False\\_[1, 2, 4, 3, 5]\\_date\\_04-14\\_22-26-54... \\\\\n",
      "(1, 2, 4, 3, 5) &          0 &    1714 &  1.711896e+06 &      5 & 5\\_mxc\\_True\\_[1, 2, 4, 3, 5]\\_date\\_04-15\\_11-29-59\\_... \\\\\n",
      "(1, 2, 4, 3, 5) &          1 &    8733 &  1.205780e+06 &     15 & 15\\_mxc\\_1\\_[1, 2, 4, 3, 5]\\_date\\_04-18\\_09-56-41\\_xy... \\\\\n",
      "(1, 2, 4, 3, 5) &          1 &   10888 &  4.367208e+06 &     25 & 25\\_mxc\\_1\\_[1, 2, 4, 3, 5]\\_date\\_04-25\\_01-51-32\\_xy... \\\\\n",
      "(1, 2, 4, 3, 5) &         -1 &       0 &  1.585506e+73 &     20 & 20\\_mxc\\_-1\\_[1, 2, 4, 3, 5]\\_date\\_04-21\\_08-05-21\\_x... \\\\\n",
      "(1, 2, 4, 3, 5) &          0 &    9238 & 6.837520e+215 &      3 & 3\\_mxc\\_True\\_[1, 2, 4, 3, 5]\\_date\\_04-14\\_21-50-58\\_... \\\\\n",
      "(1, 2, 4, 3, 5) &          0 &    8435 & 5.416585e+183 &     23 & 23\\_mxc\\_0\\_[1, 2, 4, 3, 5]\\_date\\_04-23\\_13-57-28\\_xy... \\\\\n",
      "(1, 2, 4, 3, 5) &          1 &       0 &  2.617572e+04 &     16 & 16\\_mxc\\_1\\_[1, 2, 4, 3, 5]\\_date\\_04-18\\_22-22-34\\_xy... \\\\\n",
      "(1, 2, 4, 3, 5) &          0 &       0 &  3.198911e+04 &      2 & 2\\_mxc\\_True\\_[1, 2, 4, 3, 5]\\_date\\_04-14\\_09-51-23\\_... \\\\\n",
      "(1, 2, 4, 3, 5) &          0 &   11359 &  2.969108e+16 &     22 & 22\\_mxc\\_0\\_[1, 2, 4, 3, 5]\\_date\\_04-22\\_22-05-40\\_xy... \\\\\n",
      "(1, 2, 4, 3, 5) &         -1 &       0 & 3.001728e+192 &     23 & 23\\_mxc\\_-1\\_[1, 2, 4, 3, 5]\\_date\\_04-23\\_14-12-09\\_x... \\\\\n",
      "(1, 2, 4, 3, 5) &          1 &   11106 &  4.028398e+04 &     19 & 19\\_mxc\\_1\\_[1, 2, 4, 3, 5]\\_date\\_04-20\\_14-07-41\\_xy... \\\\\n",
      "(1, 2, 4, 3, 5) &         -1 &       0 &  1.415827e+11 &      8 & 8\\_mxc\\_False\\_[1, 2, 4, 3, 5]\\_date\\_04-16\\_02-52-49... \\\\\n",
      "(1, 2, 4, 3, 5) &          1 &       0 &  5.053771e+03 &     21 & 21\\_mxc\\_1\\_[1, 2, 4, 3, 5]\\_date\\_04-22\\_02-08-35\\_xy... \\\\\n",
      "(1, 2, 4, 3, 5) &          1 &   10557 &  3.109211e+06 &     20 & 20\\_mxc\\_1\\_[1, 2, 4, 3, 5]\\_date\\_04-21\\_07-31-52\\_xy... \\\\\n",
      "(1, 2, 4, 3, 5) &          1 &       0 &  3.286257e+04 &     23 & 23\\_mxc\\_1\\_[1, 2, 4, 3, 5]\\_date\\_04-23\\_13-38-54\\_xy... \\\\\n",
      "(1, 2, 4, 3, 5) &          0 &   10851 &  5.960544e+55 &      6 & 6\\_mxc\\_True\\_[1, 2, 4, 3, 5]\\_date\\_04-15\\_20-24-37\\_... \\\\\n",
      "(1, 2, 4, 3, 5) &          0 &       0 &  2.710852e+04 &      8 & 8\\_mxc\\_True\\_[1, 2, 4, 3, 5]\\_date\\_04-16\\_02-37-04\\_... \\\\\n",
      "(1, 2, 4, 3, 5) &          0 &       1 &  2.896731e+04 &     18 & 18\\_mxc\\_0\\_[1, 2, 4, 3, 5]\\_date\\_04-19\\_21-29-46\\_xy... \\\\\n",
      "(1, 2, 4, 3, 5) &          0 &       0 &  3.176208e+04 &     24 & 24\\_mxc\\_0\\_[1, 2, 4, 3, 5]\\_date\\_04-24\\_04-15-32\\_xy... \\\\\n",
      "(1, 3, 2, 4, 5) &         -1 &       0 &  1.068264e+90 &     14 & 14\\_mxc\\_-1\\_[1, 3, 2, 4, 5]\\_date\\_04-17\\_16-23-01\\_x... \\\\\n",
      "(1, 3, 2, 4, 5) &         -1 &       0 & 1.626195e+275 &     24 & 24\\_mxc\\_-1\\_[1, 3, 2, 4, 5]\\_date\\_04-24\\_05-01-36\\_x... \\\\\n",
      "(1, 3, 2, 4, 5) &          1 &      43 &  5.262012e+03 &     23 & 23\\_mxc\\_1\\_[1, 3, 2, 4, 5]\\_date\\_04-23\\_14-17-20\\_xy... \\\\\n",
      "(1, 3, 2, 4, 5) &          0 &      36 &  2.029010e+05 &     21 & 21\\_mxc\\_0\\_[1, 3, 2, 4, 5]\\_date\\_04-22\\_02-45-48\\_xy... \\\\\n",
      "(1, 3, 2, 4, 5) &         -1 &       0 &  7.534021e+03 &     11 & 11\\_mxc\\_False\\_[1, 3, 2, 4, 5]\\_date\\_04-16\\_20-24-3... \\\\\n",
      "(1, 3, 2, 4, 5) &          0 &       0 &  1.197819e+04 &      5 & 5\\_mxc\\_True\\_[1, 3, 2, 4, 5]\\_date\\_04-15\\_11-52-41\\_... \\\\\n",
      "(1, 3, 2, 4, 5) &          0 &       2 &  1.423235e+04 &     20 & 20\\_mxc\\_0\\_[1, 3, 2, 4, 5]\\_date\\_04-21\\_08-34-07\\_xy... \\\\\n",
      "(1, 3, 2, 4, 5) &          0 &       0 &  1.691641e+04 &     25 & 25\\_mxc\\_0\\_[1, 3, 2, 4, 5]\\_date\\_04-25\\_02-37-42\\_xy... \\\\\n",
      "(1, 3, 2, 4, 5) &          0 &       0 &  6.974641e+04 &     22 & 22\\_mxc\\_0\\_[1, 3, 2, 4, 5]\\_date\\_04-22\\_22-38-46\\_xy... \\\\\n",
      "(1, 3, 2, 4, 5) &          0 &       0 &  1.572743e+02 &      4 & 4\\_mxc\\_True\\_[1, 3, 2, 4, 5]\\_date\\_04-15\\_07-11-34\\_... \\\\\n",
      "(1, 3, 2, 4, 5) &          0 &       1 &  7.024203e+04 &     19 & 19\\_mxc\\_0\\_[1, 3, 2, 4, 5]\\_date\\_04-20\\_14-57-53\\_xy... \\\\\n",
      "(1, 3, 2, 4, 5) &          0 &       1 &  1.526079e+04 &     18 & 18\\_mxc\\_0\\_[1, 3, 2, 4, 5]\\_date\\_04-19\\_22-03-41\\_xy... \\\\\n",
      "(1, 3, 2, 4, 5) &          0 &       0 &  1.363858e+04 &     12 & 12\\_mxc\\_True\\_[1, 3, 2, 4, 5]\\_date\\_04-17\\_03-48-33... \\\\\n",
      "(1, 3, 2, 4, 5) &          1 &       0 &  1.546729e+04 &     15 & 15\\_mxc\\_1\\_[1, 3, 2, 4, 5]\\_date\\_04-18\\_10-37-45\\_xy... \\\\\n",
      "(1, 3, 2, 4, 5) &          0 &       0 &  4.339925e+03 &      3 & 3\\_mxc\\_True\\_[1, 3, 2, 4, 5]\\_date\\_04-14\\_22-34-21\\_... \\\\\n",
      "(1, 3, 2, 4, 5) &          0 &       0 &  1.524547e+04 &     16 & 16\\_mxc\\_0\\_[1, 3, 2, 4, 5]\\_date\\_04-18\\_23-45-30\\_xy... \\\\\n",
      "(1, 3, 2, 4, 5) &          0 &       0 &  5.066457e+03 &      8 & 8\\_mxc\\_True\\_[1, 3, 2, 4, 5]\\_date\\_04-16\\_02-57-25\\_... \\\\\n",
      "(1, 3, 2, 4, 5) &          1 &       0 &  4.072434e+04 &     19 & 19\\_mxc\\_1\\_[1, 3, 2, 4, 5]\\_date\\_04-20\\_14-41-52\\_xy... \\\\\n",
      "(1, 3, 2, 4, 5) &          0 &       0 &  1.326621e+04 &      1 & 1\\_mxc\\_True\\_[1, 3, 2, 4, 5]\\_date\\_04-14\\_02-47-35\\_... \\\\\n",
      "(1, 3, 2, 4, 5) &         -1 &       0 & 1.952524e+207 &     25 & 25\\_mxc\\_-1\\_[1, 3, 2, 4, 5]\\_date\\_04-25\\_02-53-54\\_x... \\\\\n",
      "(1, 3, 2, 4, 5) &          0 &   13372 &  9.435327e+09 &     14 & 14\\_mxc\\_0\\_[1, 3, 2, 4, 5]\\_date\\_04-17\\_16-05-58\\_xy... \\\\\n",
      "(1, 3, 2, 4, 5) &          1 &   10424 &  1.366635e+06 &     20 & 20\\_mxc\\_1\\_[1, 3, 2, 4, 5]\\_date\\_04-21\\_08-19-32\\_xy... \\\\\n",
      "(1, 3, 2, 4, 5) &          1 &   10354 &  4.319282e+05 &     21 & 21\\_mxc\\_1\\_[1, 3, 2, 4, 5]\\_date\\_04-22\\_02-29-36\\_xy... \\\\\n",
      "(1, 3, 2, 4, 5) &          1 &   11413 &  1.380115e+05 &     18 & 18\\_mxc\\_1\\_[1, 3, 2, 4, 5]\\_date\\_04-19\\_21-47-50\\_xy... \\\\\n",
      "(1, 3, 2, 4, 5) &          0 &   11712 & 1.864469e+162 &     15 & 15\\_mxc\\_0\\_[1, 3, 2, 4, 5]\\_date\\_04-18\\_10-54-13\\_xy... \\\\\n",
      "(1, 3, 2, 4, 5) &          1 &   11303 &  5.280093e+06 &     24 & 24\\_mxc\\_1\\_[1, 3, 2, 4, 5]\\_date\\_04-24\\_04-32-12\\_xy... \\\\\n",
      "(1, 3, 2, 4, 5) &          0 &    9973 &  5.600511e+06 &      6 & 6\\_mxc\\_True\\_[1, 3, 2, 4, 5]\\_date\\_04-15\\_20-42-33\\_... \\\\\n",
      "(1, 3, 2, 4, 5) &          1 &   10634 &  8.729365e+05 &     16 & 16\\_mxc\\_1\\_[1, 3, 2, 4, 5]\\_date\\_04-18\\_23-18-02\\_xy... \\\\\n",
      "(1, 3, 2, 4, 5) &          1 &   10656 &  2.465461e+06 &     14 & 14\\_mxc\\_1\\_[1, 3, 2, 4, 5]\\_date\\_04-17\\_15-48-33\\_xy... \\\\\n",
      "(1, 3, 2, 4, 5) &          1 &    9538 &  3.761979e+06 &     22 & 22\\_mxc\\_1\\_[1, 3, 2, 4, 5]\\_date\\_04-22\\_22-23-07\\_xy... \\\\\n",
      "(1, 3, 2, 4, 5) &          0 &   11174 &  5.257314e+37 &     24 & 24\\_mxc\\_0\\_[1, 3, 2, 4, 5]\\_date\\_04-24\\_04-46-43\\_xy... \\\\\n",
      "(1, 3, 2, 4, 5) &          1 &   12187 &  1.241350e+05 &     25 & 25\\_mxc\\_1\\_[1, 3, 2, 4, 5]\\_date\\_04-25\\_02-22-08\\_xy... \\\\\n",
      "(1, 3, 4, 2, 5) &          1 &   10831 &  1.276347e+06 &     23 & 23\\_mxc\\_1\\_[1, 3, 4, 2, 5]\\_date\\_04-23\\_14-40-39\\_xy... \\\\\n",
      "(1, 3, 4, 2, 5) &          1 &   10859 &  1.752796e+05 &     16 & 16\\_mxc\\_1\\_[1, 3, 4, 2, 5]\\_date\\_04-19\\_00-04-00\\_xy... \\\\\n",
      "(1, 3, 4, 2, 5) &         -1 &       0 &  2.342660e+95 &     23 & 23\\_mxc\\_-1\\_[1, 3, 4, 2, 5]\\_date\\_04-23\\_15-16-53\\_x... \\\\\n",
      "(1, 3, 4, 2, 5) &          0 &   10964 &  2.660420e+05 &     16 & 16\\_mxc\\_0\\_[1, 3, 4, 2, 5]\\_date\\_04-19\\_00-21-56\\_xy... \\\\\n",
      "(1, 3, 4, 2, 5) &          0 &       0 &  3.510385e+04 &     19 & 19\\_mxc\\_0\\_[1, 3, 4, 2, 5]\\_date\\_04-20\\_15-32-25\\_xy... \\\\\n",
      "(1, 3, 4, 2, 5) &          1 &   10568 &  5.050162e+06 &     22 & 22\\_mxc\\_1\\_[1, 3, 4, 2, 5]\\_date\\_04-22\\_22-53-17\\_xy... \\\\\n",
      "(1, 3, 4, 2, 5) &          0 &       3 &  5.919252e+04 &      8 & 8\\_mxc\\_True\\_[1, 3, 4, 2, 5]\\_date\\_04-16\\_03-13-25\\_... \\\\\n",
      "(1, 3, 4, 2, 5) &         -1 &       0 &  4.667285e+85 &     18 & 18\\_mxc\\_-1\\_[1, 3, 4, 2, 5]\\_date\\_04-19\\_22-58-22\\_x... \\\\\n",
      "(1, 3, 4, 2, 5) &          1 &   10983 &  2.540891e+05 &     18 & 18\\_mxc\\_1\\_[1, 3, 4, 2, 5]\\_date\\_04-19\\_22-25-13\\_xy... \\\\\n",
      "(1, 3, 4, 2, 5) &          0 &    7154 &  2.591966e+37 &      6 & 6\\_mxc\\_True\\_[1, 3, 4, 2, 5]\\_date\\_04-15\\_20-59-12\\_... \\\\\n",
      "(1, 3, 4, 2, 5) &          0 &       1 &  6.365400e+04 &     20 & 20\\_mxc\\_0\\_[1, 3, 4, 2, 5]\\_date\\_04-21\\_09-06-14\\_xy... \\\\\n",
      "(1, 3, 4, 2, 5) &          1 &       0 &  6.396087e+04 &     20 & 20\\_mxc\\_1\\_[1, 3, 4, 2, 5]\\_date\\_04-21\\_08-50-40\\_xy... \\\\\n",
      "(1, 3, 4, 2, 5) &          0 &       0 &  4.041388e+04 &     11 & 11\\_mxc\\_True\\_[1, 3, 4, 2, 5]\\_date\\_04-16\\_20-30-05... \\\\\n",
      "(1, 3, 4, 2, 5) &          0 &       0 &  2.014637e+04 &     23 & 23\\_mxc\\_0\\_[1, 3, 4, 2, 5]\\_date\\_04-23\\_14-57-28\\_xy... \\\\\n",
      "(1, 3, 4, 2, 5) &         -1 &       0 & 2.507366e+173 &     22 & 22\\_mxc\\_-1\\_[1, 3, 4, 2, 5]\\_date\\_04-22\\_23-22-49\\_x... \\\\\n",
      "(1, 3, 4, 2, 5) &          1 &       0 &  2.048671e+04 &     25 & 25\\_mxc\\_1\\_[1, 3, 4, 2, 5]\\_date\\_04-25\\_03-04-49\\_xy... \\\\\n",
      "(1, 3, 4, 2, 5) &          0 &       0 &  1.549664e+04 &     18 & 18\\_mxc\\_0\\_[1, 3, 4, 2, 5]\\_date\\_04-19\\_22-42-03\\_xy... \\\\\n",
      "(1, 3, 4, 2, 5) &          0 &       0 &  2.363606e+04 &     12 & 12\\_mxc\\_True\\_[1, 3, 4, 2, 5]\\_date\\_04-17\\_04-05-31... \\\\\n",
      "(1, 3, 4, 2, 5) &          1 &   10545 &  4.097179e+05 &     19 & 19\\_mxc\\_1\\_[1, 3, 4, 2, 5]\\_date\\_04-20\\_15-16-24\\_xy... \\\\\n",
      "(1, 3, 4, 2, 5) &          0 &       8 &  6.810362e+04 &      5 & 5\\_mxc\\_True\\_[1, 3, 4, 2, 5]\\_date\\_04-15\\_12-09-59\\_... \\\\\n",
      "(1, 3, 4, 2, 5) &         -1 &       0 &  3.954544e+99 &      0 & 0\\_mxc\\_False\\_[1, 3, 4, 2, 5]\\_date\\_04-13\\_17-38-50... \\\\\n",
      "(1, 3, 4, 2, 5) &          1 &       0 &  1.274829e+04 &     21 & 21\\_mxc\\_1\\_[1, 3, 4, 2, 5]\\_date\\_04-22\\_03-01-32\\_xy... \\\\\n",
      "(1, 3, 4, 2, 5) &          0 &       0 &  2.969671e+04 &      1 & 1\\_mxc\\_True\\_[1, 3, 4, 2, 5]\\_date\\_04-14\\_03-02-57\\_... \\\\\n",
      "(1, 3, 4, 2, 5) &          1 &       0 &  5.830363e+04 &     14 & 14\\_mxc\\_1\\_[1, 3, 4, 2, 5]\\_date\\_04-17\\_16-29-15\\_xy... \\\\\n",
      "(1, 3, 4, 2, 5) &          0 &       0 &  1.115830e+04 &      0 & 0\\_mxc\\_True\\_[1, 3, 4, 2, 5]\\_date\\_04-13\\_17-24-37\\_... \\\\\n",
      "(1, 3, 4, 2, 5) &          1 &   11701 &  5.590282e+06 &     24 & 24\\_mxc\\_1\\_[1, 3, 4, 2, 5]\\_date\\_04-24\\_05-13-30\\_xy... \\\\\n",
      "(1, 3, 4, 2, 5) &          0 &   11215 &  2.024988e+09 &      4 & 4\\_mxc\\_True\\_[1, 3, 4, 2, 5]\\_date\\_04-15\\_07-26-45\\_... \\\\\n",
      "(1, 3, 4, 2, 5) &         -1 &       0 & 4.911400e+268 &      3 & 3\\_mxc\\_False\\_[1, 3, 4, 2, 5]\\_date\\_04-14\\_23-16-04... \\\\\n",
      "(1, 3, 4, 2, 5) &          0 &    4880 &  2.333938e+05 &      2 & 2\\_mxc\\_True\\_[1, 3, 4, 2, 5]\\_date\\_04-14\\_10-13-41\\_... \\\\\n",
      "(1, 3, 4, 2, 5) &          0 &       0 &  4.964901e+04 &     21 & 21\\_mxc\\_0\\_[1, 3, 4, 2, 5]\\_date\\_04-22\\_03-18-35\\_xy... \\\\\n",
      "(1, 3, 4, 2, 5) &          1 &   11091 &  7.217436e+06 &     15 & 15\\_mxc\\_1\\_[1, 3, 4, 2, 5]\\_date\\_04-18\\_11-07-24\\_xy... \\\\\n",
      "(1, 4, 2, 3, 5) &          0 &    9525 &  1.939449e+27 &      0 & 0\\_mxc\\_True\\_[1, 4, 2, 3, 5]\\_date\\_04-13\\_18-17-53\\_... \\\\\n",
      "(1, 4, 2, 3, 5) &          0 &       0 &  2.966316e+04 &     20 & 20\\_mxc\\_0\\_[1, 4, 2, 3, 5]\\_date\\_04-21\\_09-40-51\\_xy... \\\\\n",
      "(1, 4, 2, 3, 5) &          1 &    8123 &  2.595506e+05 &     22 & 22\\_mxc\\_1\\_[1, 4, 2, 3, 5]\\_date\\_04-23\\_00-00-36\\_xy... \\\\\n",
      "(1, 4, 2, 3, 5) &          0 &       0 &  6.436750e+03 &     16 & 16\\_mxc\\_0\\_[1, 4, 2, 3, 5]\\_date\\_04-19\\_01-01-47\\_xy... \\\\\n",
      "(1, 4, 2, 3, 5) &          1 &       2 &  1.608709e+05 &     15 & 15\\_mxc\\_1\\_[1, 4, 2, 3, 5]\\_date\\_04-18\\_12-06-39\\_xy... \\\\\n",
      "(1, 4, 2, 3, 5) &          0 &    8411 &  1.186135e+26 &     11 & 11\\_mxc\\_True\\_[1, 4, 2, 3, 5]\\_date\\_04-16\\_20-47-31... \\\\\n",
      "(1, 4, 2, 3, 5) &          0 &   10173 &  7.069383e+37 &      6 & 6\\_mxc\\_True\\_[1, 4, 2, 3, 5]\\_date\\_04-15\\_21-15-58\\_... \\\\\n",
      "(1, 4, 2, 3, 5) &          0 &    2485 &  2.862199e+04 &      3 & 3\\_mxc\\_True\\_[1, 4, 2, 3, 5]\\_date\\_04-14\\_23-28-29\\_... \\\\\n",
      "(1, 4, 2, 3, 5) &         -1 &       0 &  3.357075e+94 &      2 & 2\\_mxc\\_False\\_[1, 4, 2, 3, 5]\\_date\\_04-14\\_10-35-02... \\\\\n",
      "(1, 4, 2, 3, 5) &         -1 &       1 &  1.658858e+77 &     24 & 24\\_mxc\\_-1\\_[1, 4, 2, 3, 5]\\_date\\_04-24\\_06-07-52\\_x... \\\\\n",
      "(1, 4, 2, 3, 5) &          0 &       0 &  7.404245e+03 &      4 & 4\\_mxc\\_True\\_[1, 4, 2, 3, 5]\\_date\\_04-15\\_07-38-25\\_... \\\\\n",
      "(1, 4, 2, 3, 5) &          1 &       0 &  7.135416e+03 &     18 & 18\\_mxc\\_1\\_[1, 4, 2, 3, 5]\\_date\\_04-19\\_23-07-03\\_xy... \\\\\n",
      "(1, 4, 2, 3, 5) &          0 &       0 &  9.830949e+03 &      1 & 1\\_mxc\\_True\\_[1, 4, 2, 3, 5]\\_date\\_04-14\\_03-18-04\\_... \\\\\n",
      "(1, 4, 2, 3, 5) &         -1 &    2799 & 3.772360e+251 &     22 & 22\\_mxc\\_-1\\_[1, 4, 2, 3, 5]\\_date\\_04-23\\_00-31-37\\_x... \\\\\n",
      "(1, 4, 2, 3, 5) &          0 &    1947 & 2.242170e+239 &     12 & 12\\_mxc\\_True\\_[1, 4, 2, 3, 5]\\_date\\_04-17\\_04-20-35... \\\\\n",
      "(1, 4, 2, 3, 5) &          0 &       0 &  2.358924e+04 &     24 & 24\\_mxc\\_0\\_[1, 4, 2, 3, 5]\\_date\\_04-24\\_05-53-10\\_xy... \\\\\n",
      "(1, 4, 2, 3, 5) &          0 &       8 &  6.271810e+03 &     15 & 15\\_mxc\\_0\\_[1, 4, 2, 3, 5]\\_date\\_04-18\\_12-59-18\\_xy... \\\\\n",
      "(1, 4, 2, 3, 5) &         -1 &       0 & 5.228897e+145 &     11 & 11\\_mxc\\_False\\_[1, 4, 2, 3, 5]\\_date\\_04-16\\_21-04-3... \\\\\n",
      "(1, 4, 2, 3, 5) &          1 &       0 &  3.165329e+04 &     20 & 20\\_mxc\\_1\\_[1, 4, 2, 3, 5]\\_date\\_04-21\\_09-24-34\\_xy... \\\\\n",
      "(1, 4, 2, 3, 5) &          0 &       4 &  1.324898e+04 &     23 & 23\\_mxc\\_0\\_[1, 4, 2, 3, 5]\\_date\\_04-23\\_15-41-51\\_xy... \\\\\n",
      "(1, 4, 2, 3, 5) &          1 &   11171 &  1.152904e+05 &     19 & 19\\_mxc\\_1\\_[1, 4, 2, 3, 5]\\_date\\_04-20\\_15-54-07\\_xy... \\\\\n",
      "(1, 4, 2, 3, 5) &          1 &       0 &  3.466127e+04 &     16 & 16\\_mxc\\_1\\_[1, 4, 2, 3, 5]\\_date\\_04-19\\_00-42-40\\_xy... \\\\\n",
      "(1, 4, 2, 3, 5) &          1 &   11522 &  5.686187e+06 &     23 & 23\\_mxc\\_1\\_[1, 4, 2, 3, 5]\\_date\\_04-23\\_15-26-03\\_xy... \\\\\n",
      "(1, 4, 2, 3, 5) &          1 &   10839 &  8.279054e+05 &     25 & 25\\_mxc\\_1\\_[1, 4, 2, 3, 5]\\_date\\_04-25\\_03-32-27\\_xy... \\\\\n",
      "(1, 4, 2, 3, 5) &          1 &    6415 &  5.284803e+04 &     21 & 21\\_mxc\\_1\\_[1, 4, 2, 3, 5]\\_date\\_04-22\\_03-48-52\\_xy... \\\\\n",
      "(1, 4, 2, 3, 5) &          1 &   11075 &  5.404086e+06 &     24 & 24\\_mxc\\_1\\_[1, 4, 2, 3, 5]\\_date\\_04-24\\_05-37-16\\_xy... \\\\\n",
      "(1, 4, 2, 3, 5) &          1 &   10497 &  7.799001e+05 &     14 & 14\\_mxc\\_1\\_[1, 4, 2, 3, 5]\\_date\\_04-17\\_17-03-01\\_xy... \\\\\n",
      "(1, 4, 2, 3, 5) &         -1 &       0 & 1.625998e+166 &      4 & 4\\_mxc\\_False\\_[1, 4, 2, 3, 5]\\_date\\_04-15\\_07-53-50... \\\\\n",
      "(1, 4, 2, 3, 5) &          0 &       0 &  3.847693e+03 &     14 & 14\\_mxc\\_0\\_[1, 4, 2, 3, 5]\\_date\\_04-17\\_17-20-19\\_xy... \\\\\n",
      "(1, 4, 3, 2, 5) &          0 &    8569 & 1.594923e+126 &     18 & 18\\_mxc\\_0\\_[1, 4, 3, 2, 5]\\_date\\_04-19\\_23-50-27\\_xy... \\\\\n",
      "(1, 4, 3, 2, 5) &          0 &       0 &  6.386752e+04 &     24 & 24\\_mxc\\_0\\_[1, 4, 3, 2, 5]\\_date\\_04-24\\_06-33-53\\_xy... \\\\\n",
      "(1, 4, 3, 2, 5) &          1 &   10999 &  1.432095e+06 &     14 & 14\\_mxc\\_1\\_[1, 4, 3, 2, 5]\\_date\\_04-17\\_17-37-17\\_xy... \\\\\n",
      "(1, 4, 3, 2, 5) &          0 &       0 &  3.536101e+04 &     14 & 14\\_mxc\\_0\\_[1, 4, 3, 2, 5]\\_date\\_04-17\\_17-53-11\\_xy... \\\\\n",
      "(1, 4, 3, 2, 5) &          1 &       0 &  2.132716e+04 &     23 & 23\\_mxc\\_1\\_[1, 4, 3, 2, 5]\\_date\\_04-23\\_16-03-47\\_xy... \\\\\n",
      "(1, 4, 3, 2, 5) &          1 &   12118 &  1.556394e+06 &     18 & 18\\_mxc\\_1\\_[1, 4, 3, 2, 5]\\_date\\_04-19\\_23-34-39\\_xy... \\\\\n",
      "(1, 4, 3, 2, 5) &          0 &       0 &  6.070030e+04 &     15 & 15\\_mxc\\_0\\_[1, 4, 3, 2, 5]\\_date\\_04-18\\_13-32-57\\_xy... \\\\\n",
      "(1, 4, 3, 2, 5) &          1 &   10456 &  4.965653e+06 &     25 & 25\\_mxc\\_1\\_[1, 4, 3, 2, 5]\\_date\\_04-25\\_04-00-07\\_xy... \\\\\n",
      "(1, 4, 3, 2, 5) &          1 &   10809 &  4.603696e+06 &     15 & 15\\_mxc\\_1\\_[1, 4, 3, 2, 5]\\_date\\_04-18\\_13-16-19\\_xy... \\\\\n",
      "(1, 4, 3, 2, 5) &          1 &       0 &  4.578437e+04 &     24 & 24\\_mxc\\_1\\_[1, 4, 3, 2, 5]\\_date\\_04-24\\_06-16-22\\_xy... \\\\\n",
      "(1, 4, 3, 2, 5) &         -1 &       0 & 1.466622e+130 &      0 & 0\\_mxc\\_False\\_[1, 4, 3, 2, 5]\\_date\\_04-13\\_19-03-03... \\\\\n",
      "(1, 4, 3, 2, 5) &          0 &       0 &  5.723722e+04 &     20 & 20\\_mxc\\_0\\_[1, 4, 3, 2, 5]\\_date\\_04-21\\_10-13-59\\_xy... \\\\\n",
      "(1, 4, 3, 2, 5) &          0 &    8365 & 5.205517e+124 &      1 & 1\\_mxc\\_True\\_[1, 4, 3, 2, 5]\\_date\\_04-14\\_03-32-51\\_... \\\\\n",
      "(1, 4, 3, 2, 5) &         -1 &       0 &  5.934237e+79 &      4 & 4\\_mxc\\_False\\_[1, 4, 3, 2, 5]\\_date\\_04-15\\_08-15-58... \\\\\n",
      "(1, 4, 3, 2, 5) &          1 &   11359 &  2.341754e+05 &     16 & 16\\_mxc\\_1\\_[1, 4, 3, 2, 5]\\_date\\_04-19\\_01-29-16\\_xy... \\\\\n",
      "(1, 4, 3, 2, 5) &          0 &       0 &  1.963155e+04 &     11 & 11\\_mxc\\_True\\_[1, 4, 3, 2, 5]\\_date\\_04-16\\_21-08-36... \\\\\n",
      "(1, 4, 3, 2, 5) &          0 &       0 &  5.937389e+04 &     22 & 22\\_mxc\\_0\\_[1, 4, 3, 2, 5]\\_date\\_04-23\\_00-59-04\\_xy... \\\\\n",
      "(1, 4, 3, 2, 5) &          1 &   10534 &  1.876962e+06 &     20 & 20\\_mxc\\_1\\_[1, 4, 3, 2, 5]\\_date\\_04-21\\_09-58-18\\_xy... \\\\\n",
      "(1, 4, 3, 2, 5) &          1 &       0 &  1.933278e+04 &     22 & 22\\_mxc\\_1\\_[1, 4, 3, 2, 5]\\_date\\_04-23\\_00-43-13\\_xy... \\\\\n",
      "(1, 4, 3, 2, 5) &          1 &       0 &  1.606133e+04 &     19 & 19\\_mxc\\_1\\_[1, 4, 3, 2, 5]\\_date\\_04-20\\_16-18-05\\_xy... \\\\\n",
      "(1, 4, 3, 2, 5) &          0 &       0 &  1.183484e+04 &      2 & 2\\_mxc\\_True\\_[1, 4, 3, 2, 5]\\_date\\_04-14\\_10-47-40\\_... \\\\\n",
      "(1, 4, 3, 2, 5) &          0 &    2345 &  1.257333e+05 &      3 & 3\\_mxc\\_True\\_[1, 4, 3, 2, 5]\\_date\\_04-14\\_23-44-04\\_... \\\\\n",
      "(1, 4, 3, 2, 5) &          0 &    7000 &  6.227459e+22 &      6 & 6\\_mxc\\_True\\_[1, 4, 3, 2, 5]\\_date\\_04-15\\_21-30-04\\_... \\\\\n",
      "(1, 4, 3, 2, 5) &          0 &    2669 &  1.500274e+06 &      4 & 4\\_mxc\\_True\\_[1, 4, 3, 2, 5]\\_date\\_04-15\\_08-00-28\\_... \\\\\n",
      "(1, 4, 3, 2, 5) &          0 &       4 &  5.957971e+04 &     23 & 23\\_mxc\\_0\\_[1, 4, 3, 2, 5]\\_date\\_04-23\\_16-20-59\\_xy... \\\\\n",
      "(1, 4, 3, 2, 5) &          0 &    3614 &  1.645250e+20 &     19 & 19\\_mxc\\_0\\_[1, 4, 3, 2, 5]\\_date\\_04-20\\_16-34-44\\_xy... \\\\\n",
      "(1, 4, 3, 2, 5) &         -1 &       1 & 3.806336e+105 &      6 & 6\\_mxc\\_False\\_[1, 4, 3, 2, 5]\\_date\\_04-15\\_21-44-21... \\\\\n",
      "(1, 4, 3, 2, 5) &          0 &       2 &  6.144532e+04 &      8 & 8\\_mxc\\_True\\_[1, 4, 3, 2, 5]\\_date\\_04-16\\_03-39-30\\_... \\\\\n",
      "(1, 4, 3, 2, 5) &          0 &    6437 &  8.284210e+06 &     12 & 12\\_mxc\\_True\\_[1, 4, 3, 2, 5]\\_date\\_04-17\\_04-31-00... \\\\\n",
      "(1, 4, 3, 2, 5) &          0 &    3460 & 2.399133e+218 &      5 & 5\\_mxc\\_True\\_[1, 4, 3, 2, 5]\\_date\\_04-15\\_12-31-21\\_... \\\\\n",
      "(1, 4, 3, 2, 5) &          1 &     218 &  2.838532e+04 &     21 & 21\\_mxc\\_1\\_[1, 4, 3, 2, 5]\\_date\\_04-22\\_04-09-14\\_xy... \\\\\n",
      "(2, 1, 3, 4, 5) &          0 &       2 &  6.367895e+03 &      9 & 9\\_mxc\\_True\\_[2, 1, 3, 4, 5]\\_date\\_04-16\\_11-11-19\\_... \\\\\n",
      "(2, 1, 3, 4, 5) &          1 &   11075 &  4.581349e+05 &     25 & 25\\_mxc\\_1\\_[2, 1, 3, 4, 5]\\_date\\_04-25\\_04-23-02\\_xy... \\\\\n",
      "(2, 1, 3, 4, 5) &          0 &    5402 &  1.121031e+06 &      5 & 5\\_mxc\\_True\\_[2, 1, 3, 4, 5]\\_date\\_04-15\\_12-49-57\\_... \\\\\n",
      "(2, 1, 3, 4, 5) &          0 &       0 &  1.186340e+04 &     23 & 23\\_mxc\\_0\\_[2, 1, 3, 4, 5]\\_date\\_04-23\\_16-56-50\\_xy... \\\\\n",
      "(2, 1, 3, 4, 5) &          0 &       0 &  8.363363e+03 &     24 & 24\\_mxc\\_0\\_[2, 1, 3, 4, 5]\\_date\\_04-24\\_07-05-01\\_xy... \\\\\n",
      "(2, 1, 3, 4, 5) &          1 &       0 &  8.856315e+03 &     20 & 20\\_mxc\\_1\\_[2, 1, 3, 4, 5]\\_date\\_04-21\\_10-33-04\\_xy... \\\\\n",
      "(2, 1, 3, 4, 5) &          1 &   10949 &  7.717338e+05 &     14 & 14\\_mxc\\_1\\_[2, 1, 3, 4, 5]\\_date\\_04-17\\_18-09-48\\_xy... \\\\\n",
      "(2, 1, 3, 4, 5) &          1 &       3 &  7.842016e+03 &     23 & 23\\_mxc\\_1\\_[2, 1, 3, 4, 5]\\_date\\_04-23\\_16-39-20\\_xy... \\\\\n",
      "(2, 1, 3, 4, 5) &         -1 &       0 &  3.646448e+72 &      9 & 9\\_mxc\\_False\\_[2, 1, 3, 4, 5]\\_date\\_04-16\\_11-25-54... \\\\\n",
      "(2, 1, 3, 4, 5) &          1 &   10891 &  2.365437e+05 &     16 & 16\\_mxc\\_1\\_[2, 1, 3, 4, 5]\\_date\\_04-19\\_02-01-54\\_xy... \\\\\n",
      "(2, 1, 3, 4, 5) &         -1 &       0 & 2.590696e+265 &     20 & 20\\_mxc\\_-1\\_[2, 1, 3, 4, 5]\\_date\\_04-21\\_11-02-49\\_x... \\\\\n",
      "(2, 1, 3, 4, 5) &          0 &       0 &  1.176559e+04 &     19 & 19\\_mxc\\_0\\_[2, 1, 3, 4, 5]\\_date\\_04-20\\_17-11-52\\_xy... \\\\\n",
      "(2, 1, 3, 4, 5) &          1 &   10847 &  2.050845e+05 &     19 & 19\\_mxc\\_1\\_[2, 1, 3, 4, 5]\\_date\\_04-20\\_16-55-43\\_xy... \\\\\n",
      "(2, 1, 3, 4, 5) &          0 &       0 &  6.751146e+01 &      0 & 0\\_mxc\\_True\\_[2, 1, 3, 4, 5]\\_date\\_04-13\\_19-29-28\\_... \\\\\n",
      "(2, 1, 3, 4, 5) &          1 &   10595 &  3.323445e+05 &     21 & 21\\_mxc\\_1\\_[2, 1, 3, 4, 5]\\_date\\_04-22\\_04-36-31\\_xy... \\\\\n",
      "(2, 1, 3, 4, 5) &          0 &   10489 & 1.840686e+112 &     25 & 25\\_mxc\\_0\\_[2, 1, 3, 4, 5]\\_date\\_04-25\\_04-39-35\\_xy... \\\\\n",
      "(2, 1, 3, 4, 5) &          1 &    8737 &  1.899871e+06 &     18 & 18\\_mxc\\_1\\_[2, 1, 3, 4, 5]\\_date\\_04-20\\_00-13-05\\_xy... \\\\\n",
      "(2, 1, 3, 4, 5) &          0 &    7839 &  1.455857e+10 &      1 & 1\\_mxc\\_True\\_[2, 1, 3, 4, 5]\\_date\\_04-14\\_03-43-03\\_... \\\\\n",
      "(2, 1, 3, 4, 5) &          0 &       0 &  1.508415e+04 &      2 & 2\\_mxc\\_True\\_[2, 1, 3, 4, 5]\\_date\\_04-14\\_11-05-24\\_... \\\\\n",
      "(2, 1, 3, 4, 5) &          0 &    2744 &  4.669574e+78 &      4 & 4\\_mxc\\_True\\_[2, 1, 3, 4, 5]\\_date\\_04-15\\_08-42-33\\_... \\\\\n",
      "(2, 1, 3, 4, 5) &         -1 &       0 &  4.338411e+24 &     12 & 12\\_mxc\\_False\\_[2, 1, 3, 4, 5]\\_date\\_04-17\\_04-54-4... \\\\\n",
      "(2, 1, 3, 4, 5) &          0 &       0 &  2.021250e+05 &     21 & 21\\_mxc\\_0\\_[2, 1, 3, 4, 5]\\_date\\_04-22\\_04-52-26\\_xy... \\\\\n",
      "(2, 1, 3, 4, 5) &         -1 &       0 & 7.043458e+116 &      0 & 0\\_mxc\\_False\\_[2, 1, 3, 4, 5]\\_date\\_04-13\\_19-45-47... \\\\\n",
      "(2, 1, 3, 4, 5) &          1 &   11713 &  3.834249e+06 &     15 & 15\\_mxc\\_1\\_[2, 1, 3, 4, 5]\\_date\\_04-18\\_13-51-01\\_xy... \\\\\n",
      "(2, 1, 3, 4, 5) &          1 &       0 &  8.438255e+03 &     22 & 22\\_mxc\\_1\\_[2, 1, 3, 4, 5]\\_date\\_04-23\\_01-14-45\\_xy... \\\\\n",
      "(2, 1, 3, 4, 5) &          1 &       0 &  7.903652e+03 &     24 & 24\\_mxc\\_1\\_[2, 1, 3, 4, 5]\\_date\\_04-24\\_06-49-40\\_xy... \\\\\n",
      "(2, 1, 3, 4, 5) &          0 &       0 &  1.273600e+04 &      8 & 8\\_mxc\\_True\\_[2, 1, 3, 4, 5]\\_date\\_04-16\\_03-54-57\\_... \\\\\n",
      "(2, 1, 3, 4, 5) &         -1 &       0 &  3.975777e+76 &     15 & 15\\_mxc\\_-1\\_[2, 1, 3, 4, 5]\\_date\\_04-18\\_14-44-37\\_x... \\\\\n",
      "(2, 1, 3, 4, 5) &         -1 &       0 & 2.225637e+251 &     19 & 19\\_mxc\\_-1\\_[2, 1, 3, 4, 5]\\_date\\_04-20\\_17-28-43\\_x... \\\\\n",
      "(2, 1, 4, 3, 5) &          0 &       2 &  2.237517e+04 &      6 & 6\\_mxc\\_True\\_[2, 1, 4, 3, 5]\\_date\\_04-15\\_22-07-35\\_... \\\\\n",
      "(2, 1, 4, 3, 5) &          1 &   10649 &  6.302113e+05 &     16 & 16\\_mxc\\_1\\_[2, 1, 4, 3, 5]\\_date\\_04-19\\_02-32-48\\_xy... \\\\\n",
      "(2, 1, 4, 3, 5) &          1 &       0 &  4.232150e+03 &     22 & 22\\_mxc\\_1\\_[2, 1, 4, 3, 5]\\_date\\_04-23\\_01-46-01\\_xy... \\\\\n",
      "(2, 1, 4, 3, 5) &          0 &       0 &  1.325657e+04 &     21 & 21\\_mxc\\_0\\_[2, 1, 4, 3, 5]\\_date\\_04-22\\_05-29-01\\_xy... \\\\\n",
      "(2, 1, 4, 3, 5) &          1 &       0 &  2.054062e+04 &     20 & 20\\_mxc\\_1\\_[2, 1, 4, 3, 5]\\_date\\_04-21\\_11-09-45\\_xy... \\\\\n",
      "(2, 1, 4, 3, 5) &          0 &    9984 & 5.187652e+145 &     14 & 14\\_mxc\\_0\\_[2, 1, 4, 3, 5]\\_date\\_04-17\\_21-46-58\\_xy... \\\\\n",
      "(2, 1, 4, 3, 5) &          1 &    7586 &  1.836378e+06 &     25 & 25\\_mxc\\_1\\_[2, 1, 4, 3, 5]\\_date\\_04-25\\_04-58-52\\_xy... \\\\\n",
      "(2, 1, 4, 3, 5) &          0 &    2438 &  3.032010e+36 &     23 & 23\\_mxc\\_0\\_[2, 1, 4, 3, 5]\\_date\\_04-23\\_17-31-53\\_xy... \\\\\n",
      "(2, 1, 4, 3, 5) &          1 &   10284 &  3.947800e+05 &     21 & 21\\_mxc\\_1\\_[2, 1, 4, 3, 5]\\_date\\_04-22\\_05-13-20\\_xy... \\\\\n",
      "(2, 1, 4, 3, 5) &          0 &       0 &  2.750208e+04 &     18 & 18\\_mxc\\_0\\_[2, 1, 4, 3, 5]\\_date\\_04-20\\_00-49-21\\_xy... \\\\\n",
      "(2, 1, 4, 3, 5) &          0 &       0 &  1.636707e+04 &      1 & 1\\_mxc\\_True\\_[2, 1, 4, 3, 5]\\_date\\_04-14\\_03-56-46\\_... \\\\\n",
      "(2, 1, 4, 3, 5) &          0 &    5908 & 4.365284e+146 &      8 & 8\\_mxc\\_True\\_[2, 1, 4, 3, 5]\\_date\\_04-16\\_04-11-29\\_... \\\\\n",
      "(2, 1, 4, 3, 5) &          0 &   10364 &  2.718199e+12 &     12 & 12\\_mxc\\_True\\_[2, 1, 4, 3, 5]\\_date\\_04-17\\_04-57-43... \\\\\n",
      "(2, 1, 4, 3, 5) &          0 &    9899 &  3.364163e+05 &      3 & 3\\_mxc\\_True\\_[2, 1, 4, 3, 5]\\_date\\_04-15\\_00-20-27\\_... \\\\\n",
      "(2, 1, 4, 3, 5) &          0 &    6435 &  4.155781e+33 &      2 & 2\\_mxc\\_True\\_[2, 1, 4, 3, 5]\\_date\\_04-14\\_11-30-49\\_... \\\\\n",
      "(2, 1, 4, 3, 5) &          1 &   10185 &  3.260399e+05 &     24 & 24\\_mxc\\_1\\_[2, 1, 4, 3, 5]\\_date\\_04-24\\_07-21-23\\_xy... \\\\\n",
      "(2, 1, 4, 3, 5) &          1 &       0 &  1.520366e+04 &     15 & 15\\_mxc\\_1\\_[2, 1, 4, 3, 5]\\_date\\_04-18\\_14-57-13\\_xy... \\\\\n",
      "(2, 1, 4, 3, 5) &          1 &   10581 &  2.390836e+05 &     14 & 14\\_mxc\\_1\\_[2, 1, 4, 3, 5]\\_date\\_04-17\\_21-30-14\\_xy... \\\\\n",
      "(2, 1, 4, 3, 5) &          0 &       4 &  2.526692e+04 &     19 & 19\\_mxc\\_0\\_[2, 1, 4, 3, 5]\\_date\\_04-20\\_17-58-39\\_xy... \\\\\n",
      "(2, 1, 4, 3, 5) &          0 &    9040 &  9.409181e+07 &     16 & 16\\_mxc\\_0\\_[2, 1, 4, 3, 5]\\_date\\_04-19\\_02-50-41\\_xy... \\\\\n",
      "(2, 1, 4, 3, 5) &          0 &   11401 & 7.161147e+228 &     25 & 25\\_mxc\\_0\\_[2, 1, 4, 3, 5]\\_date\\_04-25\\_05-12-30\\_xy... \\\\\n",
      "(2, 1, 4, 3, 5) &          0 &       0 &  1.676264e+04 &      0 & 0\\_mxc\\_True\\_[2, 1, 4, 3, 5]\\_date\\_04-13\\_20-04-19\\_... \\\\\n",
      "(2, 1, 4, 3, 5) &         -1 &       0 &  3.493592e+40 &     14 & 14\\_mxc\\_-1\\_[2, 1, 4, 3, 5]\\_date\\_04-17\\_22-21-16\\_x... \\\\\n",
      "(2, 1, 4, 3, 5) &          1 &   11265 &  4.882298e+05 &     23 & 23\\_mxc\\_1\\_[2, 1, 4, 3, 5]\\_date\\_04-23\\_17-16-08\\_xy... \\\\\n",
      "(2, 1, 4, 3, 5) &         -1 &       0 &  2.660972e+07 &     15 & 15\\_mxc\\_-1\\_[2, 1, 4, 3, 5]\\_date\\_04-18\\_15-24-13\\_x... \\\\\n",
      "(2, 1, 4, 3, 5) &          1 &       0 &  1.588580e+04 &     19 & 19\\_mxc\\_1\\_[2, 1, 4, 3, 5]\\_date\\_04-20\\_17-42-12\\_xy... \\\\\n",
      "(2, 1, 4, 3, 5) &          0 &       0 &  4.098070e+03 &     11 & 11\\_mxc\\_True\\_[2, 1, 4, 3, 5]\\_date\\_04-16\\_21-34-41... \\\\\n",
      "(2, 1, 4, 3, 5) &          1 &       0 &  2.156719e+03 &     18 & 18\\_mxc\\_1\\_[2, 1, 4, 3, 5]\\_date\\_04-20\\_00-33-23\\_xy... \\\\\n",
      "(2, 1, 4, 3, 5) &         -1 &       0 &  5.366316e+27 &     19 & 19\\_mxc\\_-1\\_[2, 1, 4, 3, 5]\\_date\\_04-20\\_19-00-18\\_x... \\\\\n",
      "(2, 1, 4, 3, 5) &         -1 &       0 &  1.174972e+45 &      3 & 3\\_mxc\\_False\\_[2, 1, 4, 3, 5]\\_date\\_04-15\\_00-34-45... \\\\\n",
      "(2, 1, 4, 3, 5) &          0 &    8123 &  5.886855e+42 &     22 & 22\\_mxc\\_0\\_[2, 1, 4, 3, 5]\\_date\\_04-23\\_02-01-41\\_xy... \\\\\n",
      "(2, 3, 1, 4, 5) &          0 &       0 &  6.553771e+03 &     11 & 11\\_mxc\\_True\\_[2, 3, 1, 4, 5]\\_date\\_04-16\\_21-52-15... \\\\\n",
      "(2, 3, 1, 4, 5) &          1 &    1286 &  9.043982e+04 &     24 & 24\\_mxc\\_1\\_[2, 3, 1, 4, 5]\\_date\\_04-24\\_07-48-37\\_xy... \\\\\n",
      "(2, 3, 1, 4, 5) &          1 &   11567 &  2.473977e+05 &     25 & 25\\_mxc\\_1\\_[2, 3, 1, 4, 5]\\_date\\_04-25\\_05-28-52\\_xy... \\\\\n",
      "(2, 3, 1, 4, 5) &          1 &   10237 &  5.804068e+04 &     15 & 15\\_mxc\\_1\\_[2, 3, 1, 4, 5]\\_date\\_04-18\\_15-27-53\\_xy... \\\\\n",
      "(2, 3, 1, 4, 5) &          0 &    3512 &  4.690366e+19 &     20 & 20\\_mxc\\_0\\_[2, 3, 1, 4, 5]\\_date\\_04-21\\_11-55-14\\_xy... \\\\\n",
      "(2, 3, 1, 4, 5) &          1 &   11361 &  3.546228e+06 &     22 & 22\\_mxc\\_1\\_[2, 3, 1, 4, 5]\\_date\\_04-23\\_02-15-18\\_xy... \\\\\n",
      "(2, 3, 1, 4, 5) &          0 &       0 &  1.694987e+04 &     18 & 18\\_mxc\\_0\\_[2, 3, 1, 4, 5]\\_date\\_04-20\\_01-24-31\\_xy... \\\\\n",
      "(2, 3, 1, 4, 5) &          0 &    6463 &  1.020756e+06 &     22 & 22\\_mxc\\_0\\_[2, 3, 1, 4, 5]\\_date\\_04-23\\_02-31-02\\_xy... \\\\\n",
      "(2, 3, 1, 4, 5) &         -1 &       0 & 9.692172e+180 &      2 & 2\\_mxc\\_False\\_[2, 3, 1, 4, 5]\\_date\\_04-14\\_12-04-29... \\\\\n",
      "(2, 3, 1, 4, 5) &          0 &       0 &  9.099825e+03 &     24 & 24\\_mxc\\_0\\_[2, 3, 1, 4, 5]\\_date\\_04-24\\_08-04-29\\_xy... \\\\\n",
      "(2, 3, 1, 4, 5) &         -1 &       0 &  1.111935e+70 &     20 & 20\\_mxc\\_-1\\_[2, 3, 1, 4, 5]\\_date\\_04-21\\_12-03-29\\_x... \\\\\n",
      "(2, 3, 1, 4, 5) &          0 &       0 &  7.829793e+03 &      8 & 8\\_mxc\\_True\\_[2, 3, 1, 4, 5]\\_date\\_04-16\\_04-25-28\\_... \\\\\n",
      "(2, 3, 1, 4, 5) &          0 &       0 &  1.509900e+04 &     19 & 19\\_mxc\\_0\\_[2, 3, 1, 4, 5]\\_date\\_04-20\\_19-26-07\\_xy... \\\\\n",
      "(2, 3, 1, 4, 5) &          0 &       4 &  1.280658e+04 &     14 & 14\\_mxc\\_0\\_[2, 3, 1, 4, 5]\\_date\\_04-17\\_22-43-39\\_xy... \\\\\n",
      "(2, 3, 1, 4, 5) &         -1 &       0 & 8.121109e+186 &     23 & 23\\_mxc\\_-1\\_[2, 3, 1, 4, 5]\\_date\\_04-23\\_18-33-39\\_x... \\\\\n",
      "(2, 3, 1, 4, 5) &          1 &       0 &  9.060660e+03 &     18 & 18\\_mxc\\_1\\_[2, 3, 1, 4, 5]\\_date\\_04-20\\_01-06-23\\_xy... \\\\\n",
      "(2, 3, 1, 4, 5) &          1 &   10870 &  4.982542e+05 &     21 & 21\\_mxc\\_1\\_[2, 3, 1, 4, 5]\\_date\\_04-22\\_05-48-38\\_xy... \\\\\n",
      "(2, 3, 1, 4, 5) &          1 &       0 &  1.440632e+04 &     14 & 14\\_mxc\\_1\\_[2, 3, 1, 4, 5]\\_date\\_04-17\\_22-27-56\\_xy... \\\\\n",
      "(2, 3, 1, 4, 5) &          1 &   10971 &  3.388827e+06 &     16 & 16\\_mxc\\_1\\_[2, 3, 1, 4, 5]\\_date\\_04-19\\_03-08-02\\_xy... \\\\\n",
      "(2, 3, 1, 4, 5) &          0 &       0 &  5.952877e+02 &     16 & 16\\_mxc\\_0\\_[2, 3, 1, 4, 5]\\_date\\_04-19\\_03-26-18\\_xy... \\\\\n",
      "(2, 3, 1, 4, 5) &          1 &   10469 &  2.967843e+05 &     20 & 20\\_mxc\\_1\\_[2, 3, 1, 4, 5]\\_date\\_04-21\\_11-37-08\\_xy... \\\\\n",
      "(2, 3, 1, 4, 5) &          0 &       0 &  6.659522e+03 &      2 & 2\\_mxc\\_True\\_[2, 3, 1, 4, 5]\\_date\\_04-14\\_11-47-58\\_... \\\\\n",
      "(2, 3, 1, 4, 5) &          0 &   10685 &  5.964605e+55 &      1 & 1\\_mxc\\_True\\_[2, 3, 1, 4, 5]\\_date\\_04-14\\_04-12-06\\_... \\\\\n",
      "(2, 3, 1, 4, 5) &          0 &       0 &  1.101883e+04 &      3 & 3\\_mxc\\_True\\_[2, 3, 1, 4, 5]\\_date\\_04-15\\_00-44-10\\_... \\\\\n",
      "(2, 3, 1, 4, 5) &          0 &    7509 &  3.273722e+14 &     21 & 21\\_mxc\\_0\\_[2, 3, 1, 4, 5]\\_date\\_04-22\\_06-04-52\\_xy... \\\\\n",
      "(2, 3, 1, 4, 5) &          1 &   10840 &  5.674820e+04 &     19 & 19\\_mxc\\_1\\_[2, 3, 1, 4, 5]\\_date\\_04-20\\_19-09-01\\_xy... \\\\\n",
      "(2, 3, 1, 4, 5) &          0 &       1 &  1.505182e+05 &     25 & 25\\_mxc\\_0\\_[2, 3, 1, 4, 5]\\_date\\_04-25\\_05-45-05\\_xy... \\\\\n",
      "(2, 3, 1, 4, 5) &          1 &       1 &  7.353882e+04 &     23 & 23\\_mxc\\_1\\_[2, 3, 1, 4, 5]\\_date\\_04-23\\_17-44-57\\_xy... \\\\\n",
      "(2, 3, 1, 4, 5) &         -1 &       1 &  7.995238e+90 &      1 & 1\\_mxc\\_False\\_[2, 3, 1, 4, 5]\\_date\\_04-14\\_04-26-24... \\\\\n",
      "(2, 3, 1, 4, 5) &          0 &       0 &  8.996090e+03 &      5 & 5\\_mxc\\_True\\_[2, 3, 1, 4, 5]\\_date\\_04-15\\_13-26-10\\_... \\\\\n",
      "(2, 3, 4, 1, 5) &          0 &       0 &  1.942675e+04 &      5 & 5\\_mxc\\_True\\_[2, 3, 4, 1, 5]\\_date\\_04-15\\_13-43-25\\_... \\\\\n",
      "(2, 3, 4, 1, 5) &          0 &       0 &  7.715497e+04 &      8 & 8\\_mxc\\_True\\_[2, 3, 4, 1, 5]\\_date\\_04-16\\_04-41-37\\_... \\\\\n",
      "(2, 3, 4, 1, 5) &          0 &       0 &  6.559193e+04 &     12 & 12\\_mxc\\_True\\_[2, 3, 4, 1, 5]\\_date\\_04-17\\_05-16-55... \\\\\n",
      "(2, 3, 4, 1, 5) &          1 &       0 &  4.050898e+04 &     14 & 14\\_mxc\\_1\\_[2, 3, 4, 1, 5]\\_date\\_04-17\\_22-59-38\\_xy... \\\\\n",
      "(2, 3, 4, 1, 5) &          0 &    9515 & 9.027716e+116 &     22 & 22\\_mxc\\_0\\_[2, 3, 4, 1, 5]\\_date\\_04-23\\_02-59-48\\_xy... \\\\\n",
      "(2, 3, 4, 1, 5) &          0 &       0 &  4.648417e+04 &      3 & 3\\_mxc\\_True\\_[2, 3, 4, 1, 5]\\_date\\_04-15\\_01-00-16\\_... \\\\\n",
      "(2, 3, 4, 1, 5) &          0 &       0 &  7.649753e+04 &      1 & 1\\_mxc\\_True\\_[2, 3, 4, 1, 5]\\_date\\_04-14\\_04-33-15\\_... \\\\\n",
      "(2, 3, 4, 1, 5) &          0 &       0 &  9.569502e+03 &     25 & 25\\_mxc\\_0\\_[2, 3, 4, 1, 5]\\_date\\_04-25\\_06-16-21\\_xy... \\\\\n",
      "(2, 3, 4, 1, 5) &          1 &       0 &  8.150037e+04 &     24 & 24\\_mxc\\_1\\_[2, 3, 4, 1, 5]\\_date\\_04-24\\_08-20-49\\_xy... \\\\\n",
      "(2, 3, 4, 1, 5) &          1 &    9781 &  2.151277e+06 &     20 & 20\\_mxc\\_1\\_[2, 3, 4, 1, 5]\\_date\\_04-21\\_12-10-06\\_xy... \\\\\n",
      "(2, 3, 4, 1, 5) &          1 &    9953 &  9.692262e+05 &     16 & 16\\_mxc\\_1\\_[2, 3, 4, 1, 5]\\_date\\_04-19\\_03-45-26\\_xy... \\\\\n",
      "(2, 3, 4, 1, 5) &          1 &       0 &  7.711498e+04 &     19 & 19\\_mxc\\_1\\_[2, 3, 4, 1, 5]\\_date\\_04-20\\_19-46-48\\_xy... \\\\\n",
      "(2, 3, 4, 1, 5) &          0 &       0 &  1.782554e+04 &     11 & 11\\_mxc\\_True\\_[2, 3, 4, 1, 5]\\_date\\_04-16\\_22-08-49... \\\\\n",
      "(2, 3, 4, 1, 5) &          0 &       0 &  6.227009e+04 &     21 & 21\\_mxc\\_0\\_[2, 3, 4, 1, 5]\\_date\\_04-22\\_06-33-08\\_xy... \\\\\n",
      "(2, 3, 4, 1, 5) &          1 &       0 &  7.356860e+04 &     15 & 15\\_mxc\\_1\\_[2, 3, 4, 1, 5]\\_date\\_04-18\\_15-52-58\\_xy... \\\\\n",
      "(2, 3, 4, 1, 5) &          0 &      27 &  1.270444e+05 &     24 & 24\\_mxc\\_0\\_[2, 3, 4, 1, 5]\\_date\\_04-24\\_08-36-28\\_xy... \\\\\n",
      "(2, 3, 4, 1, 5) &          0 &       0 &  4.985571e+04 &      0 & 0\\_mxc\\_True\\_[2, 3, 4, 1, 5]\\_date\\_04-13\\_20-57-59\\_... \\\\\n",
      "(2, 3, 4, 1, 5) &         -1 &       0 &  4.321074e+27 &     16 & 16\\_mxc\\_-1\\_[2, 3, 4, 1, 5]\\_date\\_04-19\\_04-19-42\\_x... \\\\\n",
      "(2, 3, 4, 1, 5) &          1 &       0 &  8.914457e+04 &     23 & 23\\_mxc\\_1\\_[2, 3, 4, 1, 5]\\_date\\_04-23\\_18-41-06\\_xy... \\\\\n",
      "(2, 3, 4, 1, 5) &          0 &    8121 &  5.507209e+22 &     16 & 16\\_mxc\\_0\\_[2, 3, 4, 1, 5]\\_date\\_04-19\\_04-02-58\\_xy... \\\\\n",
      "(2, 3, 4, 1, 5) &          1 &   11797 &  1.786838e+06 &     25 & 25\\_mxc\\_1\\_[2, 3, 4, 1, 5]\\_date\\_04-25\\_06-00-37\\_xy... \\\\\n",
      "(2, 3, 4, 1, 5) &          0 &       0 &  8.302947e+03 &      2 & 2\\_mxc\\_True\\_[2, 3, 4, 1, 5]\\_date\\_04-14\\_12-15-51\\_... \\\\\n",
      "(2, 3, 4, 1, 5) &          1 &       0 &  8.772034e+04 &     22 & 22\\_mxc\\_1\\_[2, 3, 4, 1, 5]\\_date\\_04-23\\_02-44-42\\_xy... \\\\\n",
      "(2, 3, 4, 1, 5) &          0 &       0 &  6.264482e+04 &     14 & 14\\_mxc\\_0\\_[2, 3, 4, 1, 5]\\_date\\_04-17\\_23-12-25\\_xy... \\\\\n",
      "(2, 3, 4, 1, 5) &          1 &       0 &  7.388561e+04 &     18 & 18\\_mxc\\_1\\_[2, 3, 4, 1, 5]\\_date\\_04-20\\_01-44-35\\_xy... \\\\\n",
      "(2, 3, 4, 1, 5) &          1 &       0 &  1.085846e+05 &     21 & 21\\_mxc\\_1\\_[2, 3, 4, 1, 5]\\_date\\_04-22\\_06-17-39\\_xy... \\\\\n",
      "(2, 3, 4, 1, 5) &          0 &    9913 &  1.252362e+07 &     23 & 23\\_mxc\\_0\\_[2, 3, 4, 1, 5]\\_date\\_04-23\\_18-57-26\\_xy... \\\\\n",
      "(2, 3, 4, 1, 5) &          0 &       0 &  6.287750e+04 &      6 & 6\\_mxc\\_True\\_[2, 3, 4, 1, 5]\\_date\\_04-15\\_22-36-41\\_... \\\\\n",
      "(2, 3, 4, 1, 5) &          0 &       0 &  7.714699e+04 &     15 & 15\\_mxc\\_0\\_[2, 3, 4, 1, 5]\\_date\\_04-18\\_16-11-00\\_xy... \\\\\n",
      "(2, 3, 4, 1, 5) &         -1 &       0 &  9.685311e+40 &      2 & 2\\_mxc\\_False\\_[2, 3, 4, 1, 5]\\_date\\_04-14\\_12-30-32... \\\\\n",
      "(2, 3, 4, 1, 5) &          0 &       0 &  6.127508e+04 &     20 & 20\\_mxc\\_0\\_[2, 3, 4, 1, 5]\\_date\\_04-21\\_12-26-01\\_xy... \\\\\n",
      "(2, 4, 1, 3, 5) &          1 &       0 &  2.150035e+04 &     16 & 16\\_mxc\\_1\\_[2, 4, 1, 3, 5]\\_date\\_04-19\\_04-22-41\\_xy... \\\\\n",
      "(2, 4, 1, 3, 5) &          1 &      10 &  1.041200e+05 &     15 & 15\\_mxc\\_1\\_[2, 4, 1, 3, 5]\\_date\\_04-18\\_16-29-14\\_xy... \\\\\n",
      "(2, 4, 1, 3, 5) &          0 &       0 &  8.111602e+03 &     19 & 19\\_mxc\\_0\\_[2, 4, 1, 3, 5]\\_date\\_04-20\\_20-27-19\\_xy... \\\\\n",
      "(2, 4, 1, 3, 5) &          1 &       0 &  2.126760e+04 &     18 & 18\\_mxc\\_1\\_[2, 4, 1, 3, 5]\\_date\\_04-20\\_02-08-59\\_xy... \\\\\n",
      "(2, 4, 1, 3, 5) &          0 &   10987 &  7.562258e+18 &     15 & 15\\_mxc\\_0\\_[2, 4, 1, 3, 5]\\_date\\_04-18\\_16-47-03\\_xy... \\\\\n",
      "(2, 4, 1, 3, 5) &         -1 &       6 & 1.116889e+165 &      3 & 3\\_mxc\\_False\\_[2, 4, 1, 3, 5]\\_date\\_04-15\\_01-33-31... \\\\\n",
      "(2, 4, 1, 3, 5) &          0 &    7716 & 2.168757e+242 &     18 & 18\\_mxc\\_0\\_[2, 4, 1, 3, 5]\\_date\\_04-20\\_02-23-52\\_xy... \\\\\n",
      "(2, 4, 1, 3, 5) &          0 &    7091 & 2.089998e+114 &     21 & 21\\_mxc\\_0\\_[2, 4, 1, 3, 5]\\_date\\_04-22\\_07-07-15\\_xy... \\\\\n",
      "(2, 4, 1, 3, 5) &         -1 &       0 & 4.517058e+123 &      2 & 2\\_mxc\\_False\\_[2, 4, 1, 3, 5]\\_date\\_04-14\\_12-47-23... \\\\\n",
      "(2, 4, 1, 3, 5) &          0 &       0 &  1.492760e+05 &      3 & 3\\_mxc\\_True\\_[2, 4, 1, 3, 5]\\_date\\_04-15\\_01-18-22\\_... \\\\\n",
      "(2, 4, 1, 3, 5) &          0 &   10528 &  3.070970e+05 &      1 & 1\\_mxc\\_True\\_[2, 4, 1, 3, 5]\\_date\\_04-14\\_04-49-08\\_... \\\\\n",
      "(2, 4, 1, 3, 5) &          0 &    9342 &  1.880655e+05 &     12 & 12\\_mxc\\_True\\_[2, 4, 1, 3, 5]\\_date\\_04-17\\_05-38-24... \\\\\n",
      "(2, 4, 1, 3, 5) &          1 &    6310 &  1.477478e+05 &     22 & 22\\_mxc\\_1\\_[2, 4, 1, 3, 5]\\_date\\_04-23\\_03-12-39\\_xy... \\\\\n",
      "(2, 4, 1, 3, 5) &          1 &    9506 &  8.105683e+05 &     21 & 21\\_mxc\\_1\\_[2, 4, 1, 3, 5]\\_date\\_04-22\\_06-51-32\\_xy... \\\\\n",
      "(2, 4, 1, 3, 5) &         -1 &       0 & 3.623644e+264 &     23 & 23\\_mxc\\_-1\\_[2, 4, 1, 3, 5]\\_date\\_04-23\\_19-42-21\\_x... \\\\\n",
      "(2, 4, 1, 3, 5) &         -1 &       0 & 1.415883e+136 &     25 & 25\\_mxc\\_-1\\_[2, 4, 1, 3, 5]\\_date\\_04-25\\_07-02-52\\_x... \\\\\n",
      "(2, 4, 1, 3, 5) &          1 &       0 &  3.275775e+04 &     23 & 23\\_mxc\\_1\\_[2, 4, 1, 3, 5]\\_date\\_04-23\\_19-14-00\\_xy... \\\\\n",
      "(2, 4, 1, 3, 5) &          0 &       0 &  3.790094e+04 &     24 & 24\\_mxc\\_0\\_[2, 4, 1, 3, 5]\\_date\\_04-24\\_09-07-35\\_xy... \\\\\n",
      "(2, 4, 1, 3, 5) &          1 &       0 &  3.073666e+03 &     25 & 25\\_mxc\\_1\\_[2, 4, 1, 3, 5]\\_date\\_04-25\\_06-31-58\\_xy... \\\\\n",
      "(2, 4, 1, 3, 5) &          1 &       0 &  8.134080e+03 &     24 & 24\\_mxc\\_1\\_[2, 4, 1, 3, 5]\\_date\\_04-24\\_08-54-29\\_xy... \\\\\n",
      "(2, 4, 1, 3, 5) &          0 &    3215 &  4.734905e+26 &     14 & 14\\_mxc\\_0\\_[2, 4, 1, 3, 5]\\_date\\_04-17\\_23-44-26\\_xy... \\\\\n",
      "(2, 4, 1, 3, 5) &          0 &    2893 &  6.151615e+13 &      0 & 0\\_mxc\\_True\\_[2, 4, 1, 3, 5]\\_date\\_04-13\\_21-14-02\\_... \\\\\n",
      "(2, 4, 1, 3, 5) &          0 &   10330 &  6.688169e+09 &     25 & 25\\_mxc\\_0\\_[2, 4, 1, 3, 5]\\_date\\_04-25\\_06-47-41\\_xy... \\\\\n",
      "(2, 4, 1, 3, 5) &          0 &   10260 &  3.910615e+05 &      8 & 8\\_mxc\\_True\\_[2, 4, 1, 3, 5]\\_date\\_04-16\\_05-00-32\\_... \\\\\n",
      "(2, 4, 1, 3, 5) &          1 &       0 &  1.241929e+05 &     20 & 20\\_mxc\\_1\\_[2, 4, 1, 3, 5]\\_date\\_04-21\\_12-43-22\\_xy... \\\\\n",
      "(2, 4, 1, 3, 5) &         -1 &       0 & 3.974209e+294 &     19 & 19\\_mxc\\_-1\\_[2, 4, 1, 3, 5]\\_date\\_04-20\\_20-44-37\\_x... \\\\\n",
      "(2, 4, 1, 3, 5) &         -1 &       0 & 4.464949e+185 &      9 & 9\\_mxc\\_False\\_[2, 4, 1, 3, 5]\\_date\\_04-16\\_12-09-27... \\\\\n",
      "(2, 4, 1, 3, 5) &          1 &       0 &  2.551716e+04 &     14 & 14\\_mxc\\_1\\_[2, 4, 1, 3, 5]\\_date\\_04-17\\_23-28-47\\_xy... \\\\\n",
      "(2, 4, 1, 3, 5) &          0 &       0 &  1.587648e+04 &     16 & 16\\_mxc\\_0\\_[2, 4, 1, 3, 5]\\_date\\_04-19\\_04-41-30\\_xy... \\\\\n",
      "(2, 4, 1, 3, 5) &          1 &       0 &  2.644422e+04 &     19 & 19\\_mxc\\_1\\_[2, 4, 1, 3, 5]\\_date\\_04-20\\_20-10-37\\_xy... \\\\\n",
      "(2, 4, 3, 1, 5) &          0 &       0 &  9.728739e+04 &      1 & 1\\_mxc\\_True\\_[2, 4, 3, 1, 5]\\_date\\_04-14\\_05-04-15\\_... \\\\\n",
      "(2, 4, 3, 1, 5) &          0 &       0 &  1.046834e+05 &     14 & 14\\_mxc\\_0\\_[2, 4, 3, 1, 5]\\_date\\_04-18\\_00-17-33\\_xy... \\\\\n",
      "(2, 4, 3, 1, 5) &          0 &       0 &  6.196807e+04 &      2 & 2\\_mxc\\_True\\_[2, 4, 3, 1, 5]\\_date\\_04-14\\_12-59-46\\_... \\\\\n",
      "(2, 4, 3, 1, 5) &          0 &    8558 &  2.654276e+06 &     25 & 25\\_mxc\\_0\\_[2, 4, 3, 1, 5]\\_date\\_04-25\\_07-28-17\\_xy... \\\\\n",
      "(2, 4, 3, 1, 5) &          1 &       3 &  1.678898e+05 &     21 & 21\\_mxc\\_1\\_[2, 4, 3, 1, 5]\\_date\\_04-22\\_07-20-27\\_xy... \\\\\n",
      "(2, 4, 3, 1, 5) &          0 &       0 &  6.755006e+04 &      3 & 3\\_mxc\\_True\\_[2, 4, 3, 1, 5]\\_date\\_04-15\\_01-40-49\\_... \\\\\n",
      "(2, 4, 3, 1, 5) &          1 &   10653 &  3.541276e+06 &     19 & 19\\_mxc\\_1\\_[2, 4, 3, 1, 5]\\_date\\_04-20\\_20-55-00\\_xy... \\\\\n",
      "(2, 4, 3, 1, 5) &          0 &       0 &  3.651437e+04 &     16 & 16\\_mxc\\_0\\_[2, 4, 3, 1, 5]\\_date\\_04-19\\_05-17-38\\_xy... \\\\\n",
      "(2, 4, 3, 1, 5) &          1 &       0 &  7.077673e+04 &     20 & 20\\_mxc\\_1\\_[2, 4, 3, 1, 5]\\_date\\_04-21\\_13-12-00\\_xy... \\\\\n",
      "(2, 4, 3, 1, 5) &          0 &    5023 & 2.719827e+253 &     12 & 12\\_mxc\\_True\\_[2, 4, 3, 1, 5]\\_date\\_04-17\\_05-52-09... \\\\\n",
      "(2, 4, 3, 1, 5) &         -1 &       0 & 1.352044e+294 &      5 & 5\\_mxc\\_False\\_[2, 4, 3, 1, 5]\\_date\\_04-15\\_14-30-30... \\\\\n",
      "(2, 4, 3, 1, 5) &          1 &   10712 &  1.387827e+06 &     25 & 25\\_mxc\\_1\\_[2, 4, 3, 1, 5]\\_date\\_04-25\\_07-13-09\\_xy... \\\\\n",
      "(2, 4, 3, 1, 5) &          1 &       0 &  2.537747e+04 &     22 & 22\\_mxc\\_1\\_[2, 4, 3, 1, 5]\\_date\\_04-23\\_03-43-05\\_xy... \\\\\n",
      "(2, 4, 3, 1, 5) &          0 &       0 &  6.675143e+04 &     19 & 19\\_mxc\\_0\\_[2, 4, 3, 1, 5]\\_date\\_04-20\\_21-13-25\\_xy... \\\\\n",
      "(2, 4, 3, 1, 5) &          1 &       0 &  9.771088e+03 &     24 & 24\\_mxc\\_1\\_[2, 4, 3, 1, 5]\\_date\\_04-24\\_09-23-42\\_xy... \\\\\n",
      "(2, 4, 3, 1, 5) &          0 &    8628 &  6.343807e+24 &     11 & 11\\_mxc\\_True\\_[2, 4, 3, 1, 5]\\_date\\_04-16\\_22-40-01... \\\\\n",
      "(2, 4, 3, 1, 5) &          1 &   10879 &  1.570381e+06 &     18 & 18\\_mxc\\_1\\_[2, 4, 3, 1, 5]\\_date\\_04-20\\_02-35-10\\_xy... \\\\\n",
      "(2, 4, 3, 1, 5) &          0 &    9077 & 2.818841e+191 &      0 & 0\\_mxc\\_True\\_[2, 4, 3, 1, 5]\\_date\\_04-13\\_21-28-23\\_... \\\\\n",
      "(2, 4, 3, 1, 5) &          0 &       0 &  5.486248e+04 &     23 & 23\\_mxc\\_0\\_[2, 4, 3, 1, 5]\\_date\\_04-23\\_20-07-36\\_xy... \\\\\n",
      "(2, 4, 3, 1, 5) &          1 &   11237 &  2.202136e+06 &     15 & 15\\_mxc\\_1\\_[2, 4, 3, 1, 5]\\_date\\_04-18\\_17-10-04\\_xy... \\\\\n",
      "(2, 4, 3, 1, 5) &          1 &   10574 &  2.098479e+06 &     16 & 16\\_mxc\\_1\\_[2, 4, 3, 1, 5]\\_date\\_04-19\\_05-01-43\\_xy... \\\\\n",
      "(2, 4, 3, 1, 5) &          0 &    4016 &  1.809640e+73 &      6 & 6\\_mxc\\_True\\_[2, 4, 3, 1, 5]\\_date\\_04-15\\_22-55-04\\_... \\\\\n",
      "(2, 4, 3, 1, 5) &         -1 &       0 & 3.459283e+200 &      8 & 8\\_mxc\\_False\\_[2, 4, 3, 1, 5]\\_date\\_04-16\\_05-27-03... \\\\\n",
      "(2, 4, 3, 1, 5) &          0 &       0 &  1.285359e+04 &     20 & 20\\_mxc\\_0\\_[2, 4, 3, 1, 5]\\_date\\_04-21\\_13-30-10\\_xy... \\\\\n",
      "(2, 4, 3, 1, 5) &          0 &       0 &  6.554478e+04 &     18 & 18\\_mxc\\_0\\_[2, 4, 3, 1, 5]\\_date\\_04-20\\_02-50-28\\_xy... \\\\\n",
      "(2, 4, 3, 1, 5) &          0 &       0 &  6.910149e+04 &      5 & 5\\_mxc\\_True\\_[2, 4, 3, 1, 5]\\_date\\_04-15\\_14-13-38\\_... \\\\\n",
      "(2, 4, 3, 1, 5) &         -1 &       0 &  1.612656e+12 &     25 & 25\\_mxc\\_-1\\_[2, 4, 3, 1, 5]\\_date\\_04-25\\_07-44-40\\_x... \\\\\n",
      "(2, 4, 3, 1, 5) &          0 &       0 &  1.084115e+05 &      9 & 9\\_mxc\\_True\\_[2, 4, 3, 1, 5]\\_date\\_04-16\\_14-03-18\\_... \\\\\n",
      "(2, 4, 3, 1, 5) &         -1 &       0 &  4.220755e+86 &     23 & 23\\_mxc\\_-1\\_[2, 4, 3, 1, 5]\\_date\\_04-23\\_20-26-03\\_x... \\\\\n",
      "(2, 4, 3, 1, 5) &          1 &   10369 &  1.370939e+06 &     23 & 23\\_mxc\\_1\\_[2, 4, 3, 1, 5]\\_date\\_04-23\\_19-52-44\\_xy... \\\\\n",
      "(2, 4, 3, 1, 5) &          1 &       2 &  7.550813e+04 &     14 & 14\\_mxc\\_1\\_[2, 4, 3, 1, 5]\\_date\\_04-18\\_00-00-52\\_xy... \\\\\n",
      "(3, 1, 2, 4, 5) &          0 &       4 &  1.081931e+05 &      6 & 6\\_mxc\\_True\\_[3, 1, 2, 4, 5]\\_date\\_04-15\\_23-11-24\\_... \\\\\n",
      "(3, 1, 2, 4, 5) &          0 &       0 &  4.606883e+04 &     19 & 19\\_mxc\\_0\\_[3, 1, 2, 4, 5]\\_date\\_04-20\\_21-47-10\\_xy... \\\\\n",
      "(3, 1, 2, 4, 5) &         -1 &       0 & 5.570465e+120 &     20 & 20\\_mxc\\_-1\\_[3, 1, 2, 4, 5]\\_date\\_04-21\\_14-12-48\\_x... \\\\\n",
      "(3, 1, 2, 4, 5) &          1 &       0 &  6.851841e+03 &     23 & 23\\_mxc\\_1\\_[3, 1, 2, 4, 5]\\_date\\_04-23\\_20-32-38\\_xy... \\\\\n",
      "(3, 1, 2, 4, 5) &          1 &    9828 &  2.714044e+06 &     19 & 19\\_mxc\\_1\\_[3, 1, 2, 4, 5]\\_date\\_04-20\\_21-31-31\\_xy... \\\\\n",
      "(3, 1, 2, 4, 5) &          0 &       0 &  8.029094e+03 &     25 & 25\\_mxc\\_0\\_[3, 1, 2, 4, 5]\\_date\\_04-25\\_08-03-10\\_xy... \\\\\n",
      "(3, 1, 2, 4, 5) &          1 &       0 &  4.085866e+02 &     14 & 14\\_mxc\\_1\\_[3, 1, 2, 4, 5]\\_date\\_04-18\\_00-32-35\\_xy... \\\\\n",
      "(3, 1, 2, 4, 5) &          1 &   10678 &  7.197881e+05 &     24 & 24\\_mxc\\_1\\_[3, 1, 2, 4, 5]\\_date\\_04-24\\_09-51-24\\_xy... \\\\\n",
      "(3, 1, 2, 4, 5) &          0 &       2 &  1.216669e+05 &     16 & 16\\_mxc\\_0\\_[3, 1, 2, 4, 5]\\_date\\_04-19\\_05-46-52\\_xy... \\\\\n",
      "(3, 1, 2, 4, 5) &          1 &   10498 &  1.265840e+05 &     22 & 22\\_mxc\\_1\\_[3, 1, 2, 4, 5]\\_date\\_04-23\\_04-03-06\\_xy... \\\\\n",
      "(3, 1, 2, 4, 5) &          1 &       0 &  6.129953e+03 &     16 & 16\\_mxc\\_1\\_[3, 1, 2, 4, 5]\\_date\\_04-19\\_05-31-43\\_xy... \\\\\n",
      "(3, 1, 2, 4, 5) &         -1 &       0 &  4.261628e+21 &      1 & 1\\_mxc\\_False\\_[3, 1, 2, 4, 5]\\_date\\_04-14\\_05-26-29... \\\\\n",
      "(3, 1, 2, 4, 5) &          1 &       0 &  4.872950e+03 &     25 & 25\\_mxc\\_1\\_[3, 1, 2, 4, 5]\\_date\\_04-25\\_07-47-46\\_xy... \\\\\n",
      "(3, 1, 2, 4, 5) &         -1 &       0 &  4.033093e+14 &      8 & 8\\_mxc\\_False\\_[3, 1, 2, 4, 5]\\_date\\_04-16\\_05-42-06... \\\\\n",
      "(3, 1, 2, 4, 5) &         -1 &       0 & 6.305763e+125 &      9 & 9\\_mxc\\_False\\_[3, 1, 2, 4, 5]\\_date\\_04-16\\_14-36-40... \\\\\n",
      "(3, 1, 2, 4, 5) &          0 &    5362 &  6.980413e+59 &     22 & 22\\_mxc\\_0\\_[3, 1, 2, 4, 5]\\_date\\_04-23\\_04-18-16\\_xy... \\\\\n",
      "(3, 1, 2, 4, 5) &          1 &       0 &  8.833181e+03 &     21 & 21\\_mxc\\_1\\_[3, 1, 2, 4, 5]\\_date\\_04-22\\_07-47-44\\_xy... \\\\\n",
      "(3, 1, 2, 4, 5) &         -1 &       0 & 1.595871e+267 &     24 & 24\\_mxc\\_-1\\_[3, 1, 2, 4, 5]\\_date\\_04-24\\_10-13-45\\_x... \\\\\n",
      "(3, 1, 2, 4, 5) &          0 &       0 &  7.483392e+03 &     21 & 21\\_mxc\\_0\\_[3, 1, 2, 4, 5]\\_date\\_04-22\\_08-04-47\\_xy... \\\\\n",
      "(3, 1, 2, 4, 5) &          1 &   10946 &  4.348450e+03 &     18 & 18\\_mxc\\_1\\_[3, 1, 2, 4, 5]\\_date\\_04-20\\_03-07-32\\_xy... \\\\\n",
      "(3, 1, 2, 4, 5) &          0 &       0 &  1.466938e+04 &      9 & 9\\_mxc\\_True\\_[3, 1, 2, 4, 5]\\_date\\_04-16\\_14-20-41\\_... \\\\\n",
      "(3, 1, 2, 4, 5) &         -1 &       0 &  5.938781e+76 &     19 & 19\\_mxc\\_-1\\_[3, 1, 2, 4, 5]\\_date\\_04-20\\_22-04-35\\_x... \\\\\n",
      "(3, 1, 2, 4, 5) &          0 &       0 &  1.268071e+03 &     20 & 20\\_mxc\\_0\\_[3, 1, 2, 4, 5]\\_date\\_04-21\\_13-56-59\\_xy... \\\\\n",
      "(3, 1, 2, 4, 5) &          1 &   10917 &  1.668386e+05 &     20 & 20\\_mxc\\_1\\_[3, 1, 2, 4, 5]\\_date\\_04-21\\_13-40-38\\_xy... \\\\\n",
      "(3, 1, 2, 4, 5) &          0 &    8379 &  8.500257e+10 &      5 & 5\\_mxc\\_True\\_[3, 1, 2, 4, 5]\\_date\\_04-15\\_14-45-11\\_... \\\\\n",
      "(3, 1, 2, 4, 5) &          0 &   10977 &  1.193213e+09 &     12 & 12\\_mxc\\_True\\_[3, 1, 2, 4, 5]\\_date\\_04-17\\_06-07-39... \\\\\n",
      "(3, 1, 4, 2, 5) &          0 &   10878 &  3.654990e+48 &     20 & 20\\_mxc\\_0\\_[3, 1, 4, 2, 5]\\_date\\_04-21\\_14-41-54\\_xy... \\\\\n",
      "(3, 1, 4, 2, 5) &          0 &    5804 &  2.703374e+29 &     11 & 11\\_mxc\\_True\\_[3, 1, 4, 2, 5]\\_date\\_04-16\\_22-59-12... \\\\\n",
      "(3, 1, 4, 2, 5) &          0 &    6804 & 7.588929e+116 &     21 & 21\\_mxc\\_0\\_[3, 1, 4, 2, 5]\\_date\\_04-22\\_08-37-00\\_xy... \\\\\n",
      "(3, 1, 4, 2, 5) &         -1 &       0 &  1.933292e+70 &     22 & 22\\_mxc\\_-1\\_[3, 1, 4, 2, 5]\\_date\\_04-23\\_04-53-30\\_x... \\\\\n",
      "(3, 1, 4, 2, 5) &          1 &       0 &  6.932438e+04 &     25 & 25\\_mxc\\_1\\_[3, 1, 4, 2, 5]\\_date\\_04-25\\_08-19-49\\_xy... \\\\\n",
      "(3, 1, 4, 2, 5) &          0 &       0 &  1.003996e+04 &      3 & 3\\_mxc\\_True\\_[3, 1, 4, 2, 5]\\_date\\_04-15\\_02-07-01\\_... \\\\\n",
      "(3, 1, 4, 2, 5) &          0 &       0 &  3.027777e+04 &      0 & 0\\_mxc\\_True\\_[3, 1, 4, 2, 5]\\_date\\_04-13\\_21-46-48\\_... \\\\\n",
      "(3, 1, 4, 2, 5) &          0 &    7657 &  3.236722e+23 &      5 & 5\\_mxc\\_True\\_[3, 1, 4, 2, 5]\\_date\\_04-15\\_14-58-47\\_... \\\\\n",
      "(3, 1, 4, 2, 5) &          1 &       0 &  5.243748e+04 &     23 & 23\\_mxc\\_1\\_[3, 1, 4, 2, 5]\\_date\\_04-23\\_21-02-18\\_xy... \\\\\n",
      "(3, 1, 4, 2, 5) &          1 &   10482 &  1.323979e+06 &     22 & 22\\_mxc\\_1\\_[3, 1, 4, 2, 5]\\_date\\_04-23\\_04-33-15\\_xy... \\\\\n",
      "(3, 1, 4, 2, 5) &          0 &       0 &  3.021767e+04 &      6 & 6\\_mxc\\_True\\_[3, 1, 4, 2, 5]\\_date\\_04-15\\_23-26-24\\_... \\\\\n",
      "(3, 1, 4, 2, 5) &          0 &    5277 &  5.798977e+58 &      1 & 1\\_mxc\\_True\\_[3, 1, 4, 2, 5]\\_date\\_04-14\\_05-31-26\\_... \\\\\n",
      "(3, 1, 4, 2, 5) &          1 &       0 &  4.092506e+04 &     20 & 20\\_mxc\\_1\\_[3, 1, 4, 2, 5]\\_date\\_04-21\\_14-25-04\\_xy... \\\\\n",
      "(3, 1, 4, 2, 5) &          0 &    5838 & 5.859313e+158 &     16 & 16\\_mxc\\_0\\_[3, 1, 4, 2, 5]\\_date\\_04-19\\_06-19-23\\_xy... \\\\\n",
      "(3, 1, 4, 2, 5) &         -1 &       0 &  2.153963e+34 &      8 & 8\\_mxc\\_False\\_[3, 1, 4, 2, 5]\\_date\\_04-16\\_06-02-13... \\\\\n",
      "(3, 1, 4, 2, 5) &         -1 &       0 &  8.126117e+58 &     24 & 24\\_mxc\\_-1\\_[3, 1, 4, 2, 5]\\_date\\_04-24\\_11-47-07\\_x... \\\\\n",
      "(3, 1, 4, 2, 5) &          0 &   10826 &  5.170754e+11 &     24 & 24\\_mxc\\_0\\_[3, 1, 4, 2, 5]\\_date\\_04-24\\_11-27-49\\_xy... \\\\\n",
      "(3, 1, 4, 2, 5) &          1 &   10959 &  1.258198e+06 &     16 & 16\\_mxc\\_1\\_[3, 1, 4, 2, 5]\\_date\\_04-19\\_06-04-34\\_xy... \\\\\n",
      "(3, 1, 4, 2, 5) &          1 &   10606 &  7.076247e+05 &     18 & 18\\_mxc\\_1\\_[3, 1, 4, 2, 5]\\_date\\_04-20\\_03-33-07\\_xy... \\\\\n",
      "(3, 1, 4, 2, 5) &          1 &   11583 &  9.339930e+05 &     14 & 14\\_mxc\\_1\\_[3, 1, 4, 2, 5]\\_date\\_04-18\\_00-59-01\\_xy... \\\\\n",
      "(3, 1, 4, 2, 5) &          1 &   10791 &  1.881148e+05 &     24 & 24\\_mxc\\_1\\_[3, 1, 4, 2, 5]\\_date\\_04-24\\_10-25-46\\_xy... \\\\\n",
      "(3, 1, 4, 2, 5) &         -1 &       0 &  1.980030e+29 &     12 & 12\\_mxc\\_False\\_[3, 1, 4, 2, 5]\\_date\\_04-17\\_06-36-2... \\\\\n",
      "(3, 1, 4, 2, 5) &          0 &       0 &  1.434248e+04 &     12 & 12\\_mxc\\_True\\_[3, 1, 4, 2, 5]\\_date\\_04-17\\_06-21-12... \\\\\n",
      "(3, 1, 4, 2, 5) &         -1 &       0 & 2.312183e+117 &     11 & 11\\_mxc\\_False\\_[3, 1, 4, 2, 5]\\_date\\_04-16\\_23-08-2... \\\\\n",
      "(3, 1, 4, 2, 5) &          0 &       0 &  5.848215e+04 &     23 & 23\\_mxc\\_0\\_[3, 1, 4, 2, 5]\\_date\\_04-23\\_21-18-31\\_xy... \\\\\n",
      "(3, 1, 4, 2, 5) &          1 &     178 &  1.690647e+04 &     19 & 19\\_mxc\\_1\\_[3, 1, 4, 2, 5]\\_date\\_04-20\\_22-14-06\\_xy... \\\\\n",
      "(3, 1, 4, 2, 5) &          1 &     483 &  8.158002e+03 &     21 & 21\\_mxc\\_1\\_[3, 1, 4, 2, 5]\\_date\\_04-22\\_08-21-23\\_xy... \\\\\n",
      "(3, 1, 4, 2, 5) &          0 &       0 &  3.900065e+04 &      2 & 2\\_mxc\\_True\\_[3, 1, 4, 2, 5]\\_date\\_04-14\\_13-33-19\\_... \\\\\n",
      "(3, 1, 4, 2, 5) &          0 &   11662 &  2.483190e+07 &      8 & 8\\_mxc\\_True\\_[3, 1, 4, 2, 5]\\_date\\_04-16\\_05-48-35\\_... \\\\\n",
      "(3, 1, 4, 2, 5) &         -1 &       0 &  5.792382e+34 &      9 & 9\\_mxc\\_False\\_[3, 1, 4, 2, 5]\\_date\\_04-16\\_14-56-22... \\\\\n",
      "(3, 1, 4, 2, 5) &          0 &       0 &  3.666597e+04 &     19 & 19\\_mxc\\_0\\_[3, 1, 4, 2, 5]\\_date\\_04-20\\_22-30-23\\_xy... \\\\\n",
      "(3, 2, 1, 4, 5) &          0 &   11634 & 8.147654e+132 &     12 & 12\\_mxc\\_True\\_[3, 2, 1, 4, 5]\\_date\\_04-17\\_06-43-11... \\\\\n",
      "(3, 2, 1, 4, 5) &          1 &   10085 &  1.410859e+05 &     24 & 24\\_mxc\\_1\\_[3, 2, 1, 4, 5]\\_date\\_04-24\\_11-56-48\\_xy... \\\\\n",
      "(3, 2, 1, 4, 5) &          1 &       0 &  8.460837e+02 &     23 & 23\\_mxc\\_1\\_[3, 2, 1, 4, 5]\\_date\\_04-23\\_21-41-12\\_xy... \\\\\n",
      "(3, 2, 1, 4, 5) &          0 &    3891 &  1.825664e+78 &     24 & 24\\_mxc\\_0\\_[3, 2, 1, 4, 5]\\_date\\_04-24\\_12-13-12\\_xy... \\\\\n",
      "(3, 2, 1, 4, 5) &          1 &   11308 &  3.634986e+05 &     25 & 25\\_mxc\\_1\\_[3, 2, 1, 4, 5]\\_date\\_04-25\\_08-42-52\\_xy... \\\\\n",
      "(3, 2, 1, 4, 5) &          0 &   10881 &  1.444145e+09 &      1 & 1\\_mxc\\_True\\_[3, 2, 1, 4, 5]\\_date\\_04-14\\_05-44-38\\_... \\\\\n",
      "(3, 2, 1, 4, 5) &          0 &    1599 &  1.566750e+04 &     22 & 22\\_mxc\\_0\\_[3, 2, 1, 4, 5]\\_date\\_04-23\\_05-10-59\\_xy... \\\\\n",
      "(3, 2, 1, 4, 5) &          1 &   11009 &  5.418647e+06 &     20 & 20\\_mxc\\_1\\_[3, 2, 1, 4, 5]\\_date\\_04-21\\_15-01-10\\_xy... \\\\\n",
      "(3, 2, 1, 4, 5) &          0 &    6985 &  1.094650e+05 &      2 & 2\\_mxc\\_True\\_[3, 2, 1, 4, 5]\\_date\\_04-14\\_13-55-07\\_... \\\\\n",
      "(3, 2, 1, 4, 5) &          1 &       0 &  4.901398e+03 &     14 & 14\\_mxc\\_1\\_[3, 2, 1, 4, 5]\\_date\\_04-18\\_01-28-27\\_xy... \\\\\n",
      "(3, 2, 1, 4, 5) &          0 &       8 &  4.698796e+04 &      5 & 5\\_mxc\\_True\\_[3, 2, 1, 4, 5]\\_date\\_04-15\\_15-14-02\\_... \\\\\n",
      "(3, 2, 1, 4, 5) &          1 &       0 &  8.587806e+03 &     16 & 16\\_mxc\\_1\\_[3, 2, 1, 4, 5]\\_date\\_04-19\\_06-30-08\\_xy... \\\\\n",
      "(3, 2, 1, 4, 5) &          0 &       0 &  1.670216e+04 &     11 & 11\\_mxc\\_True\\_[3, 2, 1, 4, 5]\\_date\\_04-16\\_23-19-10... \\\\\n",
      "(3, 2, 1, 4, 5) &          0 &   11115 &  3.152505e+07 &      8 & 8\\_mxc\\_True\\_[3, 2, 1, 4, 5]\\_date\\_04-16\\_06-09-32\\_... \\\\\n",
      "(3, 2, 1, 4, 5) &          0 &       0 &  1.521609e+04 &     16 & 16\\_mxc\\_0\\_[3, 2, 1, 4, 5]\\_date\\_04-19\\_06-46-12\\_xy... \\\\\n",
      "(3, 2, 1, 4, 5) &          0 &       0 &  9.738797e+03 &     19 & 19\\_mxc\\_0\\_[3, 2, 1, 4, 5]\\_date\\_04-20\\_23-09-36\\_xy... \\\\\n",
      "(3, 2, 1, 4, 5) &         -1 &       0 & 1.596592e+136 &      3 & 3\\_mxc\\_False\\_[3, 2, 1, 4, 5]\\_date\\_04-15\\_02-31-58... \\\\\n",
      "(3, 2, 1, 4, 5) &          1 &       3 &  7.434296e+03 &     19 & 19\\_mxc\\_1\\_[3, 2, 1, 4, 5]\\_date\\_04-20\\_22-52-30\\_xy... \\\\\n",
      "(3, 2, 1, 4, 5) &          1 &      17 &  1.849371e+04 &     21 & 21\\_mxc\\_1\\_[3, 2, 1, 4, 5]\\_date\\_04-22\\_08-53-10\\_xy... \\\\\n",
      "(3, 2, 1, 4, 5) &          1 &   10092 &  2.226014e+05 &     18 & 18\\_mxc\\_1\\_[3, 2, 1, 4, 5]\\_date\\_04-20\\_04-00-02\\_xy... \\\\\n",
      "(3, 2, 1, 4, 5) &         -1 &       0 & 4.606764e+147 &      9 & 9\\_mxc\\_False\\_[3, 2, 1, 4, 5]\\_date\\_04-16\\_15-02-04... \\\\\n",
      "(3, 2, 1, 4, 5) &         -1 &       0 & 2.540483e+157 &      5 & 5\\_mxc\\_False\\_[3, 2, 1, 4, 5]\\_date\\_04-15\\_15-29-54... \\\\\n",
      "(3, 2, 1, 4, 5) &          0 &    9236 &  2.864466e+54 &     23 & 23\\_mxc\\_0\\_[3, 2, 1, 4, 5]\\_date\\_04-23\\_21-55-49\\_xy... \\\\\n",
      "(3, 2, 1, 4, 5) &          0 &       0 &  1.241343e+04 &     20 & 20\\_mxc\\_0\\_[3, 2, 1, 4, 5]\\_date\\_04-21\\_15-19-32\\_xy... \\\\\n",
      "(3, 2, 1, 4, 5) &          1 &       0 &  1.525416e+03 &     22 & 22\\_mxc\\_1\\_[3, 2, 1, 4, 5]\\_date\\_04-23\\_04-57-11\\_xy... \\\\\n",
      "(3, 2, 1, 4, 5) &         -1 &       0 & 4.651467e+166 &      2 & 2\\_mxc\\_False\\_[3, 2, 1, 4, 5]\\_date\\_04-14\\_14-11-05... \\\\\n",
      "(3, 2, 4, 1, 5) &          1 &       0 &  1.707848e+04 &     22 & 22\\_mxc\\_1\\_[3, 2, 4, 1, 5]\\_date\\_04-23\\_05-27-49\\_xy... \\\\\n",
      "(3, 2, 4, 1, 5) &          1 &   10309 &  1.386921e+06 &     18 & 18\\_mxc\\_1\\_[3, 2, 4, 1, 5]\\_date\\_04-20\\_04-28-19\\_xy... \\\\\n",
      "(3, 2, 4, 1, 5) &          1 &   11245 &  2.941749e+06 &     20 & 20\\_mxc\\_1\\_[3, 2, 4, 1, 5]\\_date\\_04-21\\_15-37-11\\_xy... \\\\\n",
      "(3, 2, 4, 1, 5) &          0 &       0 &  7.733996e+04 &     14 & 14\\_mxc\\_0\\_[3, 2, 4, 1, 5]\\_date\\_04-18\\_02-04-18\\_xy... \\\\\n",
      "(3, 2, 4, 1, 5) &          0 &    6535 &  1.871128e+05 &     16 & 16\\_mxc\\_0\\_[3, 2, 4, 1, 5]\\_date\\_04-19\\_07-14-22\\_xy... \\\\\n",
      "(3, 2, 4, 1, 5) &          0 &       0 &  4.872999e+04 &     19 & 19\\_mxc\\_0\\_[3, 2, 4, 1, 5]\\_date\\_04-20\\_23-48-12\\_xy... \\\\\n",
      "(3, 2, 4, 1, 5) &          1 &       0 &  5.988383e+04 &     16 & 16\\_mxc\\_1\\_[3, 2, 4, 1, 5]\\_date\\_04-19\\_07-02-11\\_xy... \\\\\n",
      "(3, 2, 4, 1, 5) &          0 &       0 &  8.570287e+04 &      2 & 2\\_mxc\\_True\\_[3, 2, 4, 1, 5]\\_date\\_04-14\\_14-15-42\\_... \\\\\n",
      "(3, 2, 4, 1, 5) &          0 &       0 &  5.680718e+04 &     12 & 12\\_mxc\\_True\\_[3, 2, 4, 1, 5]\\_date\\_04-17\\_06-53-55... \\\\\n",
      "(3, 2, 4, 1, 5) &          0 &       0 &  4.746156e+04 &     11 & 11\\_mxc\\_True\\_[3, 2, 4, 1, 5]\\_date\\_04-16\\_23-35-56... \\\\\n",
      "(3, 2, 4, 1, 5) &          0 &       0 &  1.130304e+05 &     22 & 22\\_mxc\\_0\\_[3, 2, 4, 1, 5]\\_date\\_04-23\\_05-42-37\\_xy... \\\\\n",
      "(3, 2, 4, 1, 5) &          1 &   11537 &  4.799056e+05 &     14 & 14\\_mxc\\_1\\_[3, 2, 4, 1, 5]\\_date\\_04-18\\_01-48-32\\_xy... \\\\\n",
      "(3, 2, 4, 1, 5) &          1 &   11142 &  5.510389e+05 &     24 & 24\\_mxc\\_1\\_[3, 2, 4, 1, 5]\\_date\\_04-24\\_12-29-15\\_xy... \\\\\n",
      "(3, 2, 4, 1, 5) &          0 &       0 &  1.884139e+04 &     25 & 25\\_mxc\\_0\\_[3, 2, 4, 1, 5]\\_date\\_04-25\\_09-22-51\\_xy... \\\\\n",
      "(3, 2, 4, 1, 5) &          0 &       0 &  7.514589e+04 &      5 & 5\\_mxc\\_True\\_[3, 2, 4, 1, 5]\\_date\\_04-15\\_15-44-43\\_... \\\\\n",
      "(3, 2, 4, 1, 5) &         -1 &       0 &  1.098699e+89 &      8 & 8\\_mxc\\_False\\_[3, 2, 4, 1, 5]\\_date\\_04-16\\_06-36-28... \\\\\n",
      "(3, 2, 4, 1, 5) &          0 &    8123 & 1.808241e+171 &      0 & 0\\_mxc\\_True\\_[3, 2, 4, 1, 5]\\_date\\_04-13\\_22-16-15\\_... \\\\\n",
      "(3, 2, 4, 1, 5) &          0 &       0 &  1.381988e+05 &     18 & 18\\_mxc\\_0\\_[3, 2, 4, 1, 5]\\_date\\_04-20\\_04-43-40\\_xy... \\\\\n",
      "(3, 2, 4, 1, 5) &         -1 &       0 &  6.083815e+66 &     11 & 11\\_mxc\\_False\\_[3, 2, 4, 1, 5]\\_date\\_04-16\\_23-51-1... \\\\\n",
      "(3, 2, 4, 1, 5) &          0 &   10856 & 5.582985e+139 &      1 & 1\\_mxc\\_True\\_[3, 2, 4, 1, 5]\\_date\\_04-14\\_05-59-34\\_... \\\\\n",
      "(3, 2, 4, 1, 5) &          1 &       0 &  1.657860e+04 &     19 & 19\\_mxc\\_1\\_[3, 2, 4, 1, 5]\\_date\\_04-20\\_23-27-57\\_xy... \\\\\n",
      "(3, 2, 4, 1, 5) &          1 &       0 &  1.238350e+05 &     23 & 23\\_mxc\\_1\\_[3, 2, 4, 1, 5]\\_date\\_04-23\\_22-10-04\\_xy... \\\\\n",
      "(3, 2, 4, 1, 5) &         -1 &       0 & 5.579337e+119 &      1 & 1\\_mxc\\_False\\_[3, 2, 4, 1, 5]\\_date\\_04-14\\_06-14-08... \\\\\n",
      "(3, 2, 4, 1, 5) &         -1 &       0 & 9.992043e+102 &      9 & 9\\_mxc\\_False\\_[3, 2, 4, 1, 5]\\_date\\_04-16\\_15-24-44... \\\\\n",
      "(3, 2, 4, 1, 5) &          1 &       2 &  7.254613e+04 &     25 & 25\\_mxc\\_1\\_[3, 2, 4, 1, 5]\\_date\\_04-25\\_09-06-30\\_xy... \\\\\n",
      "(3, 2, 4, 1, 5) &          0 &       0 &  5.344361e+04 &      9 & 9\\_mxc\\_True\\_[3, 2, 4, 1, 5]\\_date\\_04-16\\_15-09-42\\_... \\\\\n",
      "(3, 2, 4, 1, 5) &          1 &   10546 &  9.220302e+05 &     21 & 21\\_mxc\\_1\\_[3, 2, 4, 1, 5]\\_date\\_04-22\\_09-20-03\\_xy... \\\\\n",
      "(3, 2, 4, 1, 5) &          0 &   10621 &  1.745899e+06 &      3 & 3\\_mxc\\_True\\_[3, 2, 4, 1, 5]\\_date\\_04-15\\_02-44-08\\_... \\\\\n",
      "(3, 4, 1, 2, 5) &          0 &   11631 &  1.299638e+06 &     18 & 18\\_mxc\\_0\\_[3, 4, 1, 2, 5]\\_date\\_04-20\\_05-14-45\\_xy... \\\\\n",
      "(3, 4, 1, 2, 5) &          1 &       0 &  3.229458e+04 &     22 & 22\\_mxc\\_1\\_[3, 4, 1, 2, 5]\\_date\\_04-23\\_05-56-59\\_xy... \\\\\n",
      "(3, 4, 1, 2, 5) &          0 &       0 &  1.746597e+04 &     12 & 12\\_mxc\\_True\\_[3, 4, 1, 2, 5]\\_date\\_04-17\\_07-14-46... \\\\\n",
      "(3, 4, 1, 2, 5) &          1 &    5865 &  2.360362e+05 &     25 & 25\\_mxc\\_1\\_[3, 4, 1, 2, 5]\\_date\\_04-25\\_09-40-32\\_xy... \\\\\n",
      "(3, 4, 1, 2, 5) &          0 &   10858 &  1.467239e+52 &     21 & 21\\_mxc\\_0\\_[3, 4, 1, 2, 5]\\_date\\_04-22\\_10-02-29\\_xy... \\\\\n",
      "(3, 4, 1, 2, 5) &          0 &    7807 &  1.221726e+82 &     11 & 11\\_mxc\\_True\\_[3, 4, 1, 2, 5]\\_date\\_04-16\\_23-57-27... \\\\\n",
      "(3, 4, 1, 2, 5) &          0 &       0 &  6.353406e+03 &     22 & 22\\_mxc\\_0\\_[3, 4, 1, 2, 5]\\_date\\_04-23\\_06-12-39\\_xy... \\\\\n",
      "(3, 4, 1, 2, 5) &          0 &   10378 & 1.769225e+100 &     23 & 23\\_mxc\\_0\\_[3, 4, 1, 2, 5]\\_date\\_04-23\\_22-55-28\\_xy... \\\\\n",
      "(3, 4, 1, 2, 5) &         -1 &       0 &  3.558401e+47 &     11 & 11\\_mxc\\_False\\_[3, 4, 1, 2, 5]\\_date\\_04-17\\_00-09-0... \\\\\n",
      "(3, 4, 1, 2, 5) &          0 &       0 &  9.032465e+03 &      2 & 2\\_mxc\\_True\\_[3, 4, 1, 2, 5]\\_date\\_04-14\\_14-32-54\\_... \\\\\n",
      "(3, 4, 1, 2, 5) &          0 &       0 &  2.729868e+04 &      0 & 0\\_mxc\\_True\\_[3, 4, 1, 2, 5]\\_date\\_04-13\\_22-33-40\\_... \\\\\n",
      "(3, 4, 1, 2, 5) &          0 &    9147 &  9.649045e+54 &      9 & 9\\_mxc\\_True\\_[3, 4, 1, 2, 5]\\_date\\_04-16\\_15-35-37\\_... \\\\\n",
      "(3, 4, 1, 2, 5) &         -1 &       0 &  4.437111e+19 &     20 & 20\\_mxc\\_-1\\_[3, 4, 1, 2, 5]\\_date\\_04-21\\_16-35-36\\_x... \\\\\n",
      "(3, 4, 1, 2, 5) &         -1 &       0 &  7.214520e+35 &      2 & 2\\_mxc\\_False\\_[3, 4, 1, 2, 5]\\_date\\_04-14\\_14-50-55... \\\\\n",
      "(3, 4, 1, 2, 5) &          0 &       0 &  8.842117e+03 &     19 & 19\\_mxc\\_0\\_[3, 4, 1, 2, 5]\\_date\\_04-21\\_00-21-46\\_xy... \\\\\n",
      "(3, 4, 1, 2, 5) &          1 &       0 &  1.485898e+04 &     20 & 20\\_mxc\\_1\\_[3, 4, 1, 2, 5]\\_date\\_04-21\\_16-04-22\\_xy... \\\\\n",
      "(3, 4, 1, 2, 5) &          0 &       0 &  1.657116e+04 &      3 & 3\\_mxc\\_True\\_[3, 4, 1, 2, 5]\\_date\\_04-15\\_03-00-08\\_... \\\\\n",
      "(3, 4, 1, 2, 5) &          0 &       0 &  6.535882e+03 &      1 & 1\\_mxc\\_True\\_[3, 4, 1, 2, 5]\\_date\\_04-14\\_06-21-20\\_... \\\\\n",
      "(3, 4, 1, 2, 5) &          1 &       0 &  7.821565e+03 &     14 & 14\\_mxc\\_1\\_[3, 4, 1, 2, 5]\\_date\\_04-18\\_02-21-25\\_xy... \\\\\n",
      "(3, 4, 1, 2, 5) &          1 &       0 &  5.615121e+04 &     21 & 21\\_mxc\\_1\\_[3, 4, 1, 2, 5]\\_date\\_04-22\\_09-46-58\\_xy... \\\\\n",
      "(3, 4, 1, 2, 5) &          0 &       0 &  3.126774e+04 &     25 & 25\\_mxc\\_0\\_[3, 4, 1, 2, 5]\\_date\\_04-25\\_09-53-09\\_xy... \\\\\n",
      "(3, 4, 1, 2, 5) &          1 &   10121 &  2.834025e+05 &     19 & 19\\_mxc\\_1\\_[3, 4, 1, 2, 5]\\_date\\_04-21\\_00-06-44\\_xy... \\\\\n",
      "(3, 4, 1, 2, 5) &          1 &    9864 &  4.438410e+06 &     18 & 18\\_mxc\\_1\\_[3, 4, 1, 2, 5]\\_date\\_04-20\\_04-59-59\\_xy... \\\\\n",
      "(3, 4, 1, 2, 5) &          1 &    9640 &  6.081735e+05 &     16 & 16\\_mxc\\_1\\_[3, 4, 1, 2, 5]\\_date\\_04-19\\_07-30-10\\_xy... \\\\\n",
      "(3, 4, 1, 2, 5) &          1 &       0 &  5.781790e+04 &     24 & 24\\_mxc\\_1\\_[3, 4, 1, 2, 5]\\_date\\_04-24\\_13-10-44\\_xy... \\\\\n",
      "(3, 4, 1, 2, 5) &          1 &       0 &  1.195663e+04 &     23 & 23\\_mxc\\_1\\_[3, 4, 1, 2, 5]\\_date\\_04-23\\_22-39-43\\_xy... \\\\\n",
      "(3, 4, 1, 2, 5) &          0 &       0 &  3.075454e+04 &     14 & 14\\_mxc\\_0\\_[3, 4, 1, 2, 5]\\_date\\_04-18\\_02-35-35\\_xy... \\\\\n",
      "(3, 4, 2, 1, 5) &          1 &       0 &  6.841376e+04 &     16 & 16\\_mxc\\_1\\_[3, 4, 2, 1, 5]\\_date\\_04-19\\_07-52-53\\_xy... \\\\\n",
      "(3, 4, 2, 1, 5) &          1 &       0 &  6.567288e+04 &     14 & 14\\_mxc\\_1\\_[3, 4, 2, 1, 5]\\_date\\_04-18\\_02-50-59\\_xy... \\\\\n",
      "(3, 4, 2, 1, 5) &          0 &       0 &  6.047860e+04 &      3 & 3\\_mxc\\_True\\_[3, 4, 2, 1, 5]\\_date\\_04-15\\_03-15-45\\_... \\\\\n",
      "(3, 4, 2, 1, 5) &          0 &       0 &  1.076290e+05 &     11 & 11\\_mxc\\_True\\_[3, 4, 2, 1, 5]\\_date\\_04-17\\_00-12-47... \\\\\n",
      "(3, 4, 2, 1, 5) &          1 &   11441 &  2.194196e+06 &     22 & 22\\_mxc\\_1\\_[3, 4, 2, 1, 5]\\_date\\_04-23\\_06-26-40\\_xy... \\\\\n",
      "(3, 4, 2, 1, 5) &          0 &       0 &  7.050628e+04 &     22 & 22\\_mxc\\_0\\_[3, 4, 2, 1, 5]\\_date\\_04-23\\_06-41-33\\_xy... \\\\\n",
      "(3, 4, 2, 1, 5) &          0 &       0 &  7.437747e+04 &      2 & 2\\_mxc\\_True\\_[3, 4, 2, 1, 5]\\_date\\_04-14\\_14-56-15\\_... \\\\\n",
      "(3, 4, 2, 1, 5) &          0 &       0 &  2.363545e+04 &     16 & 16\\_mxc\\_0\\_[3, 4, 2, 1, 5]\\_date\\_04-19\\_08-09-02\\_xy... \\\\\n",
      "(3, 4, 2, 1, 5) &          0 &       0 &  3.307935e+02 &     20 & 20\\_mxc\\_0\\_[3, 4, 2, 1, 5]\\_date\\_04-21\\_16-54-21\\_xy... \\\\\n",
      "(3, 4, 2, 1, 5) &          0 &       0 &  6.338738e+04 &     19 & 19\\_mxc\\_0\\_[3, 4, 2, 1, 5]\\_date\\_04-21\\_00-54-17\\_xy... \\\\\n",
      "(3, 4, 2, 1, 5) &          0 &       0 &  6.237970e+04 &     12 & 12\\_mxc\\_True\\_[3, 4, 2, 1, 5]\\_date\\_04-17\\_07-31-00... \\\\\n",
      "(3, 4, 2, 1, 5) &          0 &   10773 &  2.868731e+36 &     18 & 18\\_mxc\\_0\\_[3, 4, 2, 1, 5]\\_date\\_04-20\\_05-44-39\\_xy... \\\\\n",
      "(3, 4, 2, 1, 5) &          1 &   11448 &  5.049082e+05 &     18 & 18\\_mxc\\_1\\_[3, 4, 2, 1, 5]\\_date\\_04-20\\_05-28-50\\_xy... \\\\\n",
      "(3, 4, 2, 1, 5) &          1 &   10417 &  1.934386e+06 &     19 & 19\\_mxc\\_1\\_[3, 4, 2, 1, 5]\\_date\\_04-21\\_00-38-58\\_xy... \\\\\n",
      "(3, 4, 2, 1, 5) &          1 &       0 &  6.067134e+04 &     20 & 20\\_mxc\\_1\\_[3, 4, 2, 1, 5]\\_date\\_04-21\\_16-37-19\\_xy... \\\\\n",
      "(3, 4, 2, 1, 5) &          0 &    9649 &  7.959359e+05 &      8 & 8\\_mxc\\_True\\_[3, 4, 2, 1, 5]\\_date\\_04-16\\_06-40-06\\_... \\\\\n",
      "(3, 4, 2, 1, 5) &          1 &       0 &  1.789069e+04 &     23 & 23\\_mxc\\_1\\_[3, 4, 2, 1, 5]\\_date\\_04-23\\_23-12-18\\_xy... \\\\\n",
      "(3, 4, 2, 1, 5) &          0 &   10699 &  8.455817e+20 &     25 & 25\\_mxc\\_0\\_[3, 4, 2, 1, 5]\\_date\\_04-25\\_11-17-19\\_xy... \\\\\n",
      "(3, 4, 2, 1, 5) &          0 &       0 &  9.230728e+04 &     23 & 23\\_mxc\\_0\\_[3, 4, 2, 1, 5]\\_date\\_04-23\\_23-28-06\\_xy... \\\\\n",
      "(3, 4, 2, 1, 5) &          0 &    8999 &  2.262207e+06 &     21 & 21\\_mxc\\_0\\_[3, 4, 2, 1, 5]\\_date\\_04-22\\_10-30-56\\_xy... \\\\\n",
      "(3, 4, 2, 1, 5) &          1 &   11816 &  2.096774e+06 &     21 & 21\\_mxc\\_1\\_[3, 4, 2, 1, 5]\\_date\\_04-22\\_10-14-45\\_xy... \\\\\n",
      "(3, 4, 2, 1, 5) &          1 &       0 &  6.222390e+04 &     25 & 25\\_mxc\\_1\\_[3, 4, 2, 1, 5]\\_date\\_04-25\\_10-09-51\\_xy... \\\\\n",
      "(3, 4, 2, 1, 5) &          0 &       0 &  8.847174e+04 &     14 & 14\\_mxc\\_0\\_[3, 4, 2, 1, 5]\\_date\\_04-18\\_03-06-17\\_xy... \\\\\n",
      "(3, 4, 2, 1, 5) &          0 &       0 &  6.588870e+04 &      9 & 9\\_mxc\\_True\\_[3, 4, 2, 1, 5]\\_date\\_04-16\\_15-50-49\\_... \\\\\n",
      "(3, 4, 2, 1, 5) &         -1 &       0 &  2.518244e+21 &     25 & 25\\_mxc\\_-1\\_[3, 4, 2, 1, 5]\\_date\\_04-25\\_12-35-21\\_x... \\\\\n",
      "(4, 1, 2, 3, 5) &          0 &       0 &  2.624929e+04 &     14 & 14\\_mxc\\_0\\_[4, 1, 2, 3, 5]\\_date\\_04-18\\_03-42-57\\_xy... \\\\\n",
      "(4, 1, 2, 3, 5) &         -1 &       0 & 1.307566e+126 &     11 & 11\\_mxc\\_False\\_[4, 1, 2, 3, 5]\\_date\\_04-17\\_00-32-5... \\\\\n",
      "(4, 1, 2, 3, 5) &          0 &   11356 & 7.820336e+173 &      8 & 8\\_mxc\\_True\\_[4, 1, 2, 3, 5]\\_date\\_04-16\\_06-55-43\\_... \\\\\n",
      "(4, 1, 2, 3, 5) &          1 &      62 &  1.553304e+04 &     18 & 18\\_mxc\\_1\\_[4, 1, 2, 3, 5]\\_date\\_04-20\\_05-55-51\\_xy... \\\\\n",
      "(4, 1, 2, 3, 5) &          1 &   11765 &  1.385306e+05 &     20 & 20\\_mxc\\_1\\_[4, 1, 2, 3, 5]\\_date\\_04-21\\_17-11-15\\_xy... \\\\\n",
      "(4, 1, 2, 3, 5) &          0 &   11230 &  1.299495e+05 &     19 & 19\\_mxc\\_0\\_[4, 1, 2, 3, 5]\\_date\\_04-21\\_01-28-48\\_xy... \\\\\n",
      "(4, 1, 2, 3, 5) &          1 &       0 &  2.244936e+03 &     21 & 21\\_mxc\\_1\\_[4, 1, 2, 3, 5]\\_date\\_04-22\\_10-47-24\\_xy... \\\\\n",
      "(4, 1, 2, 3, 5) &          1 &       0 &  3.782427e+03 &     22 & 22\\_mxc\\_1\\_[4, 1, 2, 3, 5]\\_date\\_04-23\\_06-57-24\\_xy... \\\\\n",
      "(4, 1, 2, 3, 5) &          0 &       0 &  4.212910e+03 &      9 & 9\\_mxc\\_True\\_[4, 1, 2, 3, 5]\\_date\\_04-16\\_16-06-50\\_... \\\\\n",
      "(4, 1, 2, 3, 5) &         -1 &       0 &  3.594581e+49 &      5 & 5\\_mxc\\_False\\_[4, 1, 2, 3, 5]\\_date\\_04-15\\_16-30-40... \\\\\n",
      "(4, 1, 2, 3, 5) &         -1 &       0 &  1.775644e+93 &      2 & 2\\_mxc\\_False\\_[4, 1, 2, 3, 5]\\_date\\_04-14\\_15-33-46... \\\\\n",
      "(4, 1, 2, 3, 5) &          0 &       0 &  8.989186e+03 &     20 & 20\\_mxc\\_0\\_[4, 1, 2, 3, 5]\\_date\\_04-21\\_19-08-19\\_xy... \\\\\n",
      "(4, 1, 2, 3, 5) &         -1 &       0 & 1.331295e+102 &     16 & 16\\_mxc\\_-1\\_[4, 1, 2, 3, 5]\\_date\\_04-19\\_08-42-57\\_x... \\\\\n",
      "(4, 1, 2, 3, 5) &          1 &   11170 &  2.481029e+05 &     16 & 16\\_mxc\\_1\\_[4, 1, 2, 3, 5]\\_date\\_04-19\\_08-23-35\\_xy... \\\\\n",
      "(4, 1, 2, 3, 5) &          1 &       0 &  3.709044e+03 &     23 & 23\\_mxc\\_1\\_[4, 1, 2, 3, 5]\\_date\\_04-23\\_23-44-03\\_xy... \\\\\n",
      "(4, 1, 2, 3, 5) &          1 &   10943 &  7.789552e+05 &     19 & 19\\_mxc\\_1\\_[4, 1, 2, 3, 5]\\_date\\_04-21\\_01-11-54\\_xy... \\\\\n",
      "(4, 1, 2, 3, 5) &          0 &   12723 &  5.271931e+27 &      2 & 2\\_mxc\\_True\\_[4, 1, 2, 3, 5]\\_date\\_04-14\\_15-15-07\\_... \\\\\n",
      "(4, 1, 2, 3, 5) &          1 &   11527 &  3.798887e+04 &     14 & 14\\_mxc\\_1\\_[4, 1, 2, 3, 5]\\_date\\_04-18\\_03-28-23\\_xy... \\\\\n",
      "(4, 1, 2, 3, 5) &          0 &       0 &  1.787746e+05 &     22 & 22\\_mxc\\_0\\_[4, 1, 2, 3, 5]\\_date\\_04-23\\_07-12-08\\_xy... \\\\\n",
      "(4, 1, 3, 2, 5) &          0 &   10253 &  8.670837e+05 &     14 & 14\\_mxc\\_0\\_[4, 1, 3, 2, 5]\\_date\\_04-18\\_04-14-37\\_xy... \\\\\n",
      "(4, 1, 3, 2, 5) &          1 &    7283 &  3.360271e+06 &     16 & 16\\_mxc\\_1\\_[4, 1, 3, 2, 5]\\_date\\_04-19\\_08-49-31\\_xy... \\\\\n",
      "(4, 1, 3, 2, 5) &          0 &    2787 & 6.769951e+132 &     21 & 21\\_mxc\\_0\\_[4, 1, 3, 2, 5]\\_date\\_04-22\\_12-13-24\\_xy... \\\\\n",
      "(4, 1, 3, 2, 5) &          1 &    8233 &  2.374291e+05 &     19 & 19\\_mxc\\_1\\_[4, 1, 3, 2, 5]\\_date\\_04-21\\_01-45-04\\_xy... \\\\\n",
      "(4, 1, 3, 2, 5) &          0 &       0 &  3.219037e+04 &      8 & 8\\_mxc\\_True\\_[4, 1, 3, 2, 5]\\_date\\_04-16\\_07-10-58\\_... \\\\\n",
      "(4, 1, 3, 2, 5) &         -1 &       0 & 2.673233e+221 &      8 & 8\\_mxc\\_False\\_[4, 1, 3, 2, 5]\\_date\\_04-16\\_07-26-04... \\\\\n",
      "(4, 1, 3, 2, 5) &         -1 &       0 & 8.617252e+117 &      9 & 9\\_mxc\\_False\\_[4, 1, 3, 2, 5]\\_date\\_04-16\\_16-40-04... \\\\\n",
      "(4, 1, 3, 2, 5) &          0 &       0 &  2.708080e+04 &     19 & 19\\_mxc\\_0\\_[4, 1, 3, 2, 5]\\_date\\_04-21\\_01-59-34\\_xy... \\\\\n",
      "(4, 1, 3, 2, 5) &          0 &       0 &  7.627867e+03 &     16 & 16\\_mxc\\_0\\_[4, 1, 3, 2, 5]\\_date\\_04-19\\_09-03-54\\_xy... \\\\\n",
      "(4, 1, 3, 2, 5) &          1 &       0 &  2.787951e+04 &     18 & 18\\_mxc\\_1\\_[4, 1, 3, 2, 5]\\_date\\_04-20\\_06-24-28\\_xy... \\\\\n",
      "(4, 1, 3, 2, 5) &          0 &       0 &  1.863701e+04 &      3 & 3\\_mxc\\_True\\_[4, 1, 3, 2, 5]\\_date\\_04-15\\_03-35-57\\_... \\\\\n",
      "(4, 1, 3, 2, 5) &          0 &       0 &  6.027997e+04 &     18 & 18\\_mxc\\_0\\_[4, 1, 3, 2, 5]\\_date\\_04-20\\_06-38-18\\_xy... \\\\\n",
      "(4, 1, 3, 2, 5) &          1 &       0 &  3.969564e+04 &     22 & 22\\_mxc\\_1\\_[4, 1, 3, 2, 5]\\_date\\_04-23\\_07-28-27\\_xy... \\\\\n",
      "(4, 1, 3, 2, 5) &          0 &       0 &  1.089552e+04 &      1 & 1\\_mxc\\_True\\_[4, 1, 3, 2, 5]\\_date\\_04-14\\_07-00-47\\_... \\\\\n",
      "(4, 1, 3, 2, 5) &          1 &       0 &  4.424422e+04 &     23 & 23\\_mxc\\_1\\_[4, 1, 3, 2, 5]\\_date\\_04-24\\_00-17-45\\_xy... \\\\\n",
      "(4, 1, 3, 2, 5) &          1 &   11858 &  1.935872e+06 &     21 & 21\\_mxc\\_1\\_[4, 1, 3, 2, 5]\\_date\\_04-22\\_11-18-41\\_xy... \\\\\n",
      "(4, 1, 3, 2, 5) &          0 &       0 &  3.690206e+04 &      0 & 0\\_mxc\\_True\\_[4, 1, 3, 2, 5]\\_date\\_04-13\\_23-15-42\\_... \\\\\n",
      "(4, 1, 3, 2, 5) &          0 &   11343 &  2.116421e+14 &      2 & 2\\_mxc\\_True\\_[4, 1, 3, 2, 5]\\_date\\_04-14\\_15-42-47\\_... \\\\\n",
      "(4, 1, 3, 2, 5) &          1 &   11091 &  1.858779e+06 &     20 & 20\\_mxc\\_1\\_[4, 1, 3, 2, 5]\\_date\\_04-21\\_19-24-20\\_xy... \\\\\n",
      "(4, 1, 3, 2, 5) &          0 &    7697 &  3.485526e+29 &     20 & 20\\_mxc\\_0\\_[4, 1, 3, 2, 5]\\_date\\_04-21\\_19-41-01\\_xy... \\\\\n",
      "(4, 1, 3, 2, 5) &          0 &       0 &  2.936052e+04 &     22 & 22\\_mxc\\_0\\_[4, 1, 3, 2, 5]\\_date\\_04-23\\_07-43-39\\_xy... \\\\\n",
      "(4, 1, 3, 2, 5) &          1 &   10869 &  1.088002e+06 &     14 & 14\\_mxc\\_1\\_[4, 1, 3, 2, 5]\\_date\\_04-18\\_03-58-29\\_xy... \\\\\n",
      "(4, 2, 1, 3, 5) &          0 &       0 &  1.254804e+04 &     14 & 14\\_mxc\\_0\\_[4, 2, 1, 3, 5]\\_date\\_04-18\\_04-49-33\\_xy... \\\\\n",
      "(4, 2, 1, 3, 5) &         -1 &       0 & 1.226074e+268 &     18 & 18\\_mxc\\_-1\\_[4, 2, 1, 3, 5]\\_date\\_04-20\\_07-28-30\\_x... \\\\\n",
      "(4, 2, 1, 3, 5) &          1 &   11849 &  3.305186e+06 &     20 & 20\\_mxc\\_1\\_[4, 2, 1, 3, 5]\\_date\\_04-21\\_19-55-22\\_xy... \\\\\n",
      "(4, 2, 1, 3, 5) &          1 &       0 &  6.114902e+03 &     16 & 16\\_mxc\\_1\\_[4, 2, 1, 3, 5]\\_date\\_04-19\\_09-21-38\\_xy... \\\\\n",
      "(4, 2, 1, 3, 5) &          1 &       0 &  1.649481e+04 &     21 & 21\\_mxc\\_1\\_[4, 2, 1, 3, 5]\\_date\\_04-22\\_12-31-34\\_xy... \\\\\n",
      "(4, 2, 1, 3, 5) &          1 &       0 &  8.818417e+03 &     22 & 22\\_mxc\\_1\\_[4, 2, 1, 3, 5]\\_date\\_04-23\\_08-01-41\\_xy... \\\\\n",
      "(4, 2, 1, 3, 5) &          1 &       0 &  2.300842e+03 &     14 & 14\\_mxc\\_1\\_[4, 2, 1, 3, 5]\\_date\\_04-18\\_04-34-42\\_xy... \\\\\n",
      "(4, 2, 1, 3, 5) &          0 &       0 &  2.339675e+03 &     19 & 19\\_mxc\\_0\\_[4, 2, 1, 3, 5]\\_date\\_04-21\\_02-30-49\\_xy... \\\\\n",
      "(4, 2, 1, 3, 5) &          0 &       0 &  1.139705e+04 &      3 & 3\\_mxc\\_True\\_[4, 2, 1, 3, 5]\\_date\\_04-15\\_03-52-15\\_... \\\\\n",
      "(4, 2, 1, 3, 5) &         -1 &       0 & 1.657975e+125 &     14 & 14\\_mxc\\_-1\\_[4, 2, 1, 3, 5]\\_date\\_04-18\\_05-04-03\\_x... \\\\\n",
      "(4, 2, 1, 3, 5) &          0 &    9094 &  2.026143e+36 &      0 & 0\\_mxc\\_True\\_[4, 2, 1, 3, 5]\\_date\\_04-13\\_23-30-40\\_... \\\\\n",
      "(4, 2, 1, 3, 5) &          0 &   10648 & 1.227921e+215 &     16 & 16\\_mxc\\_0\\_[4, 2, 1, 3, 5]\\_date\\_04-19\\_09-40-41\\_xy... \\\\\n",
      "(4, 2, 1, 3, 5) &          0 &       0 &  2.097163e+04 &      5 & 5\\_mxc\\_True\\_[4, 2, 1, 3, 5]\\_date\\_04-15\\_16-42-37\\_... \\\\\n",
      "(4, 2, 1, 3, 5) &          1 &   10383 &  3.966827e+05 &     18 & 18\\_mxc\\_1\\_[4, 2, 1, 3, 5]\\_date\\_04-20\\_06-58-25\\_xy... \\\\\n",
      "(4, 2, 1, 3, 5) &          1 &   10170 &  4.683271e+04 &     19 & 19\\_mxc\\_1\\_[4, 2, 1, 3, 5]\\_date\\_04-21\\_02-15-23\\_xy... \\\\\n",
      "(4, 2, 1, 3, 5) &          0 &    7985 &  2.732023e+47 &     22 & 22\\_mxc\\_0\\_[4, 2, 1, 3, 5]\\_date\\_04-23\\_08-17-09\\_xy... \\\\\n",
      "(4, 2, 1, 3, 5) &          0 &   10413 &  3.967853e+14 &     12 & 12\\_mxc\\_True\\_[4, 2, 1, 3, 5]\\_date\\_04-17\\_08-04-23... \\\\\n",
      "(4, 2, 1, 3, 5) &          0 &   11738 &  4.246673e+04 &     18 & 18\\_mxc\\_0\\_[4, 2, 1, 3, 5]\\_date\\_04-20\\_07-13-26\\_xy... \\\\\n",
      "(4, 2, 1, 3, 5) &          0 &       0 &  2.115629e+04 &     21 & 21\\_mxc\\_0\\_[4, 2, 1, 3, 5]\\_date\\_04-22\\_12-48-51\\_xy... \\\\\n",
      "(4, 2, 1, 3, 5) &          0 &       0 &  1.961998e+04 &      2 & 2\\_mxc\\_True\\_[4, 2, 1, 3, 5]\\_date\\_04-14\\_15-58-53\\_... \\\\\n",
      "(4, 2, 3, 1, 5) &          0 &       0 &  6.360903e+04 &      9 & 9\\_mxc\\_True\\_[4, 2, 3, 1, 5]\\_date\\_04-16\\_16-58-09\\_... \\\\\n",
      "(4, 2, 3, 1, 5) &          1 &       0 &  3.759022e+04 &     20 & 20\\_mxc\\_1\\_[4, 2, 3, 1, 5]\\_date\\_04-21\\_20-21-53\\_xy... \\\\\n",
      "(4, 2, 3, 1, 5) &          1 &   11447 &  2.302569e+06 &     21 & 21\\_mxc\\_1\\_[4, 2, 3, 1, 5]\\_date\\_04-22\\_13-08-28\\_xy... \\\\\n",
      "(4, 2, 3, 1, 5) &          0 &       0 &  1.676153e+04 &      0 & 0\\_mxc\\_True\\_[4, 2, 3, 1, 5]\\_date\\_04-13\\_23-42-20\\_... \\\\\n",
      "(4, 2, 3, 1, 5) &         -1 &       0 &  9.229126e+69 &      3 & 3\\_mxc\\_False\\_[4, 2, 3, 1, 5]\\_date\\_04-15\\_04-21-05... \\\\\n",
      "(4, 2, 3, 1, 5) &          0 &       0 &  8.085838e+04 &     21 & 21\\_mxc\\_0\\_[4, 2, 3, 1, 5]\\_date\\_04-22\\_13-27-06\\_xy... \\\\\n",
      "(4, 2, 3, 1, 5) &          0 &       0 &  6.385378e+04 &     12 & 12\\_mxc\\_True\\_[4, 2, 3, 1, 5]\\_date\\_04-17\\_08-17-28... \\\\\n",
      "(4, 2, 3, 1, 5) &          0 &   10928 &  2.399166e+05 &      5 & 5\\_mxc\\_True\\_[4, 2, 3, 1, 5]\\_date\\_04-15\\_17-00-30\\_... \\\\\n",
      "(4, 2, 3, 1, 5) &          0 &       0 &  7.880634e+04 &      8 & 8\\_mxc\\_True\\_[4, 2, 3, 1, 5]\\_date\\_04-16\\_07-34-52\\_... \\\\\n",
      "(4, 2, 3, 1, 5) &          1 &       0 &  7.394677e+04 &     18 & 18\\_mxc\\_1\\_[4, 2, 3, 1, 5]\\_date\\_04-20\\_07-41-43\\_xy... \\\\\n",
      "(4, 2, 3, 1, 5) &          1 &       0 &  6.390555e+04 &     22 & 22\\_mxc\\_1\\_[4, 2, 3, 1, 5]\\_date\\_04-23\\_08-29-25\\_xy... \\\\\n",
      "(4, 2, 3, 1, 5) &          0 &       0 &  1.795439e+04 &     22 & 22\\_mxc\\_0\\_[4, 2, 3, 1, 5]\\_date\\_04-23\\_08-45-13\\_xy... \\\\\n",
      "(4, 2, 3, 1, 5) &          0 &       0 &  1.893215e+04 &      2 & 2\\_mxc\\_True\\_[4, 2, 3, 1, 5]\\_date\\_04-14\\_16-17-13\\_... \\\\\n",
      "(4, 2, 3, 1, 5) &          0 &       0 &  4.585068e+04 &     11 & 11\\_mxc\\_True\\_[4, 2, 3, 1, 5]\\_date\\_04-17\\_00-49-38... \\\\\n",
      "(4, 2, 3, 1, 5) &          1 &       0 &  3.668822e+04 &     16 & 16\\_mxc\\_1\\_[4, 2, 3, 1, 5]\\_date\\_04-19\\_10-34-22\\_xy... \\\\\n",
      "(4, 2, 3, 1, 5) &         -1 &       0 &  1.642477e+28 &     12 & 12\\_mxc\\_False\\_[4, 2, 3, 1, 5]\\_date\\_04-17\\_08-33-2... \\\\\n",
      "(4, 2, 3, 1, 5) &          1 &       0 &  6.419170e+04 &     19 & 19\\_mxc\\_1\\_[4, 2, 3, 1, 5]\\_date\\_04-21\\_02-46-19\\_xy... \\\\\n",
      "(4, 2, 3, 1, 5) &          0 &    8631 & 5.517592e+266 &     14 & 14\\_mxc\\_0\\_[4, 2, 3, 1, 5]\\_date\\_04-18\\_05-26-12\\_xy... \\\\\n",
      "(4, 2, 3, 1, 5) &          0 &       0 &  6.630062e+04 &     18 & 18\\_mxc\\_0\\_[4, 2, 3, 1, 5]\\_date\\_04-20\\_07-57-00\\_xy... \\\\\n",
      "(4, 2, 3, 1, 5) &         -1 &       0 & 4.977952e+116 &      2 & 2\\_mxc\\_False\\_[4, 2, 3, 1, 5]\\_date\\_04-14\\_16-34-43... \\\\\n",
      "(4, 2, 3, 1, 5) &          0 &    9293 &  1.433591e+06 &     20 & 20\\_mxc\\_0\\_[4, 2, 3, 1, 5]\\_date\\_04-21\\_20-40-29\\_xy... \\\\\n",
      "(4, 2, 3, 1, 5) &          1 &    9565 &  9.538420e+05 &     14 & 14\\_mxc\\_1\\_[4, 2, 3, 1, 5]\\_date\\_04-18\\_05-11-30\\_xy... \\\\\n",
      "(4, 2, 3, 1, 5) &          0 &       3 &  6.315114e+04 &      3 & 3\\_mxc\\_True\\_[4, 2, 3, 1, 5]\\_date\\_04-15\\_04-06-42\\_... \\\\\n",
      "(4, 3, 1, 2, 5) &          0 &       0 &  4.222300e+04 &     21 & 21\\_mxc\\_0\\_[4, 3, 1, 2, 5]\\_date\\_04-22\\_14-04-01\\_xy... \\\\\n",
      "(4, 3, 1, 2, 5) &         -1 &       0 & 2.376676e+123 &      5 & 5\\_mxc\\_False\\_[4, 3, 1, 2, 5]\\_date\\_04-15\\_17-46-19... \\\\\n",
      "(4, 3, 1, 2, 5) &          1 &       0 &  1.553820e+04 &     14 & 14\\_mxc\\_1\\_[4, 3, 1, 2, 5]\\_date\\_04-18\\_05-40-10\\_xy... \\\\\n",
      "(4, 3, 1, 2, 5) &          1 &   10551 &  1.805478e+06 &     19 & 19\\_mxc\\_1\\_[4, 3, 1, 2, 5]\\_date\\_04-21\\_03-06-22\\_xy... \\\\\n",
      "(4, 3, 1, 2, 5) &          1 &    2045 &  7.745754e+04 &     20 & 20\\_mxc\\_1\\_[4, 3, 1, 2, 5]\\_date\\_04-21\\_20-57-00\\_xy... \\\\\n",
      "(4, 3, 1, 2, 5) &          0 &   11855 &  1.185905e+06 &      0 & 0\\_mxc\\_True\\_[4, 3, 1, 2, 5]\\_date\\_04-14\\_00-00-48\\_... \\\\\n",
      "(4, 3, 1, 2, 5) &          0 &       0 &  3.055558e+04 &      9 & 9\\_mxc\\_True\\_[4, 3, 1, 2, 5]\\_date\\_04-16\\_17-16-53\\_... \\\\\n",
      "(4, 3, 1, 2, 5) &          0 &       0 &  3.283751e+04 &     22 & 22\\_mxc\\_0\\_[4, 3, 1, 2, 5]\\_date\\_04-23\\_09-18-33\\_xy... \\\\\n",
      "(4, 3, 1, 2, 5) &          0 &   10125 &  7.667632e+09 &     20 & 20\\_mxc\\_0\\_[4, 3, 1, 2, 5]\\_date\\_04-21\\_21-21-12\\_xy... \\\\\n",
      "(4, 3, 1, 2, 5) &         -1 &       0 & 9.178811e+170 &      2 & 2\\_mxc\\_False\\_[4, 3, 1, 2, 5]\\_date\\_04-14\\_17-00-35... \\\\\n",
      "(4, 3, 1, 2, 5) &          0 &       0 &  1.793310e+04 &     19 & 19\\_mxc\\_0\\_[4, 3, 1, 2, 5]\\_date\\_04-21\\_03-21-57\\_xy... \\\\\n",
      "(4, 3, 1, 2, 5) &         -1 &       0 & 1.585746e+223 &     18 & 18\\_mxc\\_-1\\_[4, 3, 1, 2, 5]\\_date\\_04-20\\_08-33-12\\_x... \\\\\n",
      "(4, 3, 1, 2, 5) &          1 &   10908 &  8.908818e+05 &     18 & 18\\_mxc\\_1\\_[4, 3, 1, 2, 5]\\_date\\_04-20\\_08-13-11\\_xy... \\\\\n",
      "(4, 3, 1, 2, 5) &         -1 &       0 & 4.929832e+263 &      8 & 8\\_mxc\\_False\\_[4, 3, 1, 2, 5]\\_date\\_04-16\\_07-58-01... \\\\\n",
      "(4, 3, 1, 2, 5) &          1 &       0 &  5.422804e+04 &     21 & 21\\_mxc\\_1\\_[4, 3, 1, 2, 5]\\_date\\_04-22\\_13-46-35\\_xy... \\\\\n",
      "(4, 3, 1, 2, 5) &         -1 &       0 & 1.032054e+137 &      0 & 0\\_mxc\\_False\\_[4, 3, 1, 2, 5]\\_date\\_04-14\\_00-15-28... \\\\\n",
      "(4, 3, 1, 2, 5) &          1 &       0 &  3.187324e+04 &     22 & 22\\_mxc\\_1\\_[4, 3, 1, 2, 5]\\_date\\_04-23\\_09-03-22\\_xy... \\\\\n",
      "(4, 3, 1, 2, 5) &          0 &       0 &  3.316339e+04 &      2 & 2\\_mxc\\_True\\_[4, 3, 1, 2, 5]\\_date\\_04-14\\_16-43-16\\_... \\\\\n",
      "(4, 3, 1, 2, 5) &          0 &    1101 & 4.414434e+162 &     11 & 11\\_mxc\\_True\\_[4, 3, 1, 2, 5]\\_date\\_04-17\\_01-04-52... \\\\\n",
      "(4, 3, 1, 2, 5) &          0 &       0 &  4.571283e+04 &      3 & 3\\_mxc\\_True\\_[4, 3, 1, 2, 5]\\_date\\_04-15\\_04-29-04\\_... \\\\\n",
      "(4, 3, 1, 2, 5) &          0 &       0 &  3.542786e+04 &     16 & 16\\_mxc\\_0\\_[4, 3, 1, 2, 5]\\_date\\_04-19\\_11-51-57\\_xy... \\\\\n",
      "(4, 3, 1, 2, 5) &          0 &    8563 &  1.879161e+05 &      5 & 5\\_mxc\\_True\\_[4, 3, 1, 2, 5]\\_date\\_04-15\\_17-19-27\\_... \\\\\n",
      "(4, 3, 1, 2, 5) &          1 &      13 &  3.278668e+04 &     16 & 16\\_mxc\\_1\\_[4, 3, 1, 2, 5]\\_date\\_04-19\\_11-30-33\\_xy... \\\\\n",
      "(4, 3, 1, 2, 5) &          0 &       0 &  4.368712e+04 &     14 & 14\\_mxc\\_0\\_[4, 3, 1, 2, 5]\\_date\\_04-18\\_05-55-16\\_xy... \\\\\n",
      "(4, 3, 2, 1, 5) &          0 &       0 &  9.515335e+04 &      2 & 2\\_mxc\\_True\\_[4, 3, 2, 1, 5]\\_date\\_04-14\\_17-11-02\\_... \\\\\n",
      "(4, 3, 2, 1, 5) &          0 &       0 &  6.075512e+04 &      8 & 8\\_mxc\\_True\\_[4, 3, 2, 1, 5]\\_date\\_04-16\\_08-07-18\\_... \\\\\n",
      "(4, 3, 2, 1, 5) &          0 &   12262 &  2.497056e+18 &     22 & 22\\_mxc\\_0\\_[4, 3, 2, 1, 5]\\_date\\_04-23\\_09-52-11\\_xy... \\\\\n",
      "(4, 3, 2, 1, 5) &          1 &   11602 &  2.994298e+06 &     14 & 14\\_mxc\\_1\\_[4, 3, 2, 1, 5]\\_date\\_04-18\\_06-10-47\\_xy... \\\\\n",
      "(4, 3, 2, 1, 5) &          0 &    5651 &  2.196628e+07 &     11 & 11\\_mxc\\_True\\_[4, 3, 2, 1, 5]\\_date\\_04-17\\_01-19-27... \\\\\n",
      "(4, 3, 2, 1, 5) &         -1 &       0 &  2.368785e+07 &     20 & 20\\_mxc\\_-1\\_[4, 3, 2, 1, 5]\\_date\\_04-21\\_22-28-55\\_x... \\\\\n",
      "(4, 3, 2, 1, 5) &          0 &       2 &  1.254238e+05 &      0 & 0\\_mxc\\_True\\_[4, 3, 2, 1, 5]\\_date\\_04-14\\_00-21-26\\_... \\\\\n",
      "(4, 3, 2, 1, 5) &          1 &       0 &  5.594710e+04 &     19 & 19\\_mxc\\_1\\_[4, 3, 2, 1, 5]\\_date\\_04-21\\_03-38-20\\_xy... \\\\\n",
      "(4, 3, 2, 1, 5) &          1 &   12167 &  2.285600e+06 &     18 & 18\\_mxc\\_1\\_[4, 3, 2, 1, 5]\\_date\\_04-20\\_08-44-03\\_xy... \\\\\n",
      "(4, 3, 2, 1, 5) &          0 &       0 &  4.886765e+04 &     20 & 20\\_mxc\\_0\\_[4, 3, 2, 1, 5]\\_date\\_04-21\\_22-10-55\\_xy... \\\\\n",
      "(4, 3, 2, 1, 5) &          0 &     624 &  4.214766e+04 &     12 & 12\\_mxc\\_True\\_[4, 3, 2, 1, 5]\\_date\\_04-17\\_08-53-07... \\\\\n",
      "(4, 3, 2, 1, 5) &          0 &       0 &  6.677351e+04 &      9 & 9\\_mxc\\_True\\_[4, 3, 2, 1, 5]\\_date\\_04-16\\_17-34-59\\_... \\\\\n",
      "(4, 3, 2, 1, 5) &          1 &   11166 &  4.802453e+06 &     22 & 22\\_mxc\\_1\\_[4, 3, 2, 1, 5]\\_date\\_04-23\\_09-36-45\\_xy... \\\\\n",
      "(4, 3, 2, 1, 5) &          0 &   11188 & 1.799543e+187 &     21 & 21\\_mxc\\_0\\_[4, 3, 2, 1, 5]\\_date\\_04-22\\_14-42-45\\_xy... \\\\\n",
      "(4, 3, 2, 1, 5) &          0 &       0 &  1.022214e+05 &      1 & 1\\_mxc\\_True\\_[4, 3, 2, 1, 5]\\_date\\_04-14\\_07-38-08\\_... \\\\\n",
      "(4, 3, 2, 1, 5) &          0 &       0 &  6.561429e+04 &      3 & 3\\_mxc\\_True\\_[4, 3, 2, 1, 5]\\_date\\_04-15\\_04-44-48\\_... \\\\\n",
      "(4, 3, 2, 1, 5) &          1 &       0 &  1.076603e+05 &     20 & 20\\_mxc\\_1\\_[4, 3, 2, 1, 5]\\_date\\_04-21\\_21-51-23\\_xy... \\\\\n",
      "(4, 3, 2, 1, 5) &          1 &   10591 &  1.367154e+06 &     16 & 16\\_mxc\\_1\\_[4, 3, 2, 1, 5]\\_date\\_04-19\\_12-20-25\\_xy... \\\\\n",
      "(4, 3, 2, 1, 5) &          1 &       0 &  6.449041e+04 &     21 & 21\\_mxc\\_1\\_[4, 3, 2, 1, 5]\\_date\\_04-22\\_14-24-17\\_xy... \\\\\n",
      "(4, 3, 2, 1, 5) &          0 &       0 &  7.765631e+04 &     18 & 18\\_mxc\\_0\\_[4, 3, 2, 1, 5]\\_date\\_04-20\\_08-59-32\\_xy... \\\\\n",
      "(4, 3, 2, 1, 5) &          0 &       0 &  1.243730e+04 &     14 & 14\\_mxc\\_0\\_[4, 3, 2, 1, 5]\\_date\\_04-18\\_06-26-07\\_xy... \\\\\n",
      "\\bottomrule\n",
      "\\end{tabular}\n",
      "\n"
     ]
    }
   ],
   "source": [
    "print(diff_vals_df.to_latex(index=False))"
   ]
  },
  {
   "cell_type": "code",
   "execution_count": 20,
   "metadata": {},
   "outputs": [
    {
     "data": {
      "text/html": [
       "<div>\n",
       "<style scoped>\n",
       "    .dataframe tbody tr th:only-of-type {\n",
       "        vertical-align: middle;\n",
       "    }\n",
       "\n",
       "    .dataframe tbody tr th {\n",
       "        vertical-align: top;\n",
       "    }\n",
       "\n",
       "    .dataframe thead th {\n",
       "        text-align: right;\n",
       "    }\n",
       "</style>\n",
       "<table border=\"1\" class=\"dataframe\">\n",
       "  <thead>\n",
       "    <tr style=\"text-align: right;\">\n",
       "      <th></th>\n",
       "      <th>values</th>\n",
       "      <th>max_count</th>\n",
       "      <th>Equals</th>\n",
       "      <th>Fit</th>\n",
       "      <th>index</th>\n",
       "      <th>filename</th>\n",
       "    </tr>\n",
       "  </thead>\n",
       "  <tbody>\n",
       "    <tr>\n",
       "      <th>247</th>\n",
       "      <td>(1, 2, 3, 4, 1)</td>\n",
       "      <td>1</td>\n",
       "      <td>0</td>\n",
       "      <td>4.523619e+03</td>\n",
       "      <td>22</td>\n",
       "      <td>22_mxc_1_[1, 2, 3, 4, 1]_date_04-22_17-01-25_x...</td>\n",
       "    </tr>\n",
       "    <tr>\n",
       "      <th>201</th>\n",
       "      <td>(1, 2, 3, 4, 1)</td>\n",
       "      <td>-1</td>\n",
       "      <td>0</td>\n",
       "      <td>8.290687e+108</td>\n",
       "      <td>16</td>\n",
       "      <td>16_mxc_-1_[1, 2, 3, 4, 1]_date_04-18_21-36-55_...</td>\n",
       "    </tr>\n",
       "    <tr>\n",
       "      <th>877</th>\n",
       "      <td>(1, 2, 3, 4, 1)</td>\n",
       "      <td>0</td>\n",
       "      <td>0</td>\n",
       "      <td>1.650670e+04</td>\n",
       "      <td>14</td>\n",
       "      <td>14_mxc_0_[1, 2, 3, 4, 1]_date_04-17_14-09-43_x...</td>\n",
       "    </tr>\n",
       "    <tr>\n",
       "      <th>1188</th>\n",
       "      <td>(1, 2, 3, 4, 1)</td>\n",
       "      <td>0</td>\n",
       "      <td>0</td>\n",
       "      <td>1.468369e+04</td>\n",
       "      <td>16</td>\n",
       "      <td>16_mxc_0_[1, 2, 3, 4, 1]_date_04-18_21-21-11_x...</td>\n",
       "    </tr>\n",
       "    <tr>\n",
       "      <th>1185</th>\n",
       "      <td>(1, 2, 3, 4, 1)</td>\n",
       "      <td>-1</td>\n",
       "      <td>0</td>\n",
       "      <td>9.591164e+12</td>\n",
       "      <td>5</td>\n",
       "      <td>5_mxc_False_[1, 2, 3, 4, 1]_date_04-15_10-56-2...</td>\n",
       "    </tr>\n",
       "    <tr>\n",
       "      <th>...</th>\n",
       "      <td>...</td>\n",
       "      <td>...</td>\n",
       "      <td>...</td>\n",
       "      <td>...</td>\n",
       "      <td>...</td>\n",
       "      <td>...</td>\n",
       "    </tr>\n",
       "    <tr>\n",
       "      <th>434</th>\n",
       "      <td>(4, 3, 2, 1, 5)</td>\n",
       "      <td>1</td>\n",
       "      <td>0</td>\n",
       "      <td>1.076603e+05</td>\n",
       "      <td>20</td>\n",
       "      <td>20_mxc_1_[4, 3, 2, 1, 5]_date_04-21_21-51-23_x...</td>\n",
       "    </tr>\n",
       "    <tr>\n",
       "      <th>1292</th>\n",
       "      <td>(4, 3, 2, 1, 5)</td>\n",
       "      <td>1</td>\n",
       "      <td>10591</td>\n",
       "      <td>1.367154e+06</td>\n",
       "      <td>16</td>\n",
       "      <td>16_mxc_1_[4, 3, 2, 1, 5]_date_04-19_12-20-25_x...</td>\n",
       "    </tr>\n",
       "    <tr>\n",
       "      <th>460</th>\n",
       "      <td>(4, 3, 2, 1, 5)</td>\n",
       "      <td>1</td>\n",
       "      <td>0</td>\n",
       "      <td>6.449041e+04</td>\n",
       "      <td>21</td>\n",
       "      <td>21_mxc_1_[4, 3, 2, 1, 5]_date_04-22_14-24-17_x...</td>\n",
       "    </tr>\n",
       "    <tr>\n",
       "      <th>563</th>\n",
       "      <td>(4, 3, 2, 1, 5)</td>\n",
       "      <td>0</td>\n",
       "      <td>0</td>\n",
       "      <td>7.765631e+04</td>\n",
       "      <td>18</td>\n",
       "      <td>18_mxc_0_[4, 3, 2, 1, 5]_date_04-20_08-59-32_x...</td>\n",
       "    </tr>\n",
       "    <tr>\n",
       "      <th>1021</th>\n",
       "      <td>(4, 3, 2, 1, 5)</td>\n",
       "      <td>0</td>\n",
       "      <td>0</td>\n",
       "      <td>1.243730e+04</td>\n",
       "      <td>14</td>\n",
       "      <td>14_mxc_0_[4, 3, 2, 1, 5]_date_04-18_06-26-07_x...</td>\n",
       "    </tr>\n",
       "  </tbody>\n",
       "</table>\n",
       "<p>850 rows × 6 columns</p>\n",
       "</div>"
      ],
      "text/plain": [
       "               values  max_count  Equals            Fit  index  \\\n",
       "247   (1, 2, 3, 4, 1)          1       0   4.523619e+03     22   \n",
       "201   (1, 2, 3, 4, 1)         -1       0  8.290687e+108     16   \n",
       "877   (1, 2, 3, 4, 1)          0       0   1.650670e+04     14   \n",
       "1188  (1, 2, 3, 4, 1)          0       0   1.468369e+04     16   \n",
       "1185  (1, 2, 3, 4, 1)         -1       0   9.591164e+12      5   \n",
       "...               ...        ...     ...            ...    ...   \n",
       "434   (4, 3, 2, 1, 5)          1       0   1.076603e+05     20   \n",
       "1292  (4, 3, 2, 1, 5)          1   10591   1.367154e+06     16   \n",
       "460   (4, 3, 2, 1, 5)          1       0   6.449041e+04     21   \n",
       "563   (4, 3, 2, 1, 5)          0       0   7.765631e+04     18   \n",
       "1021  (4, 3, 2, 1, 5)          0       0   1.243730e+04     14   \n",
       "\n",
       "                                               filename  \n",
       "247   22_mxc_1_[1, 2, 3, 4, 1]_date_04-22_17-01-25_x...  \n",
       "201   16_mxc_-1_[1, 2, 3, 4, 1]_date_04-18_21-36-55_...  \n",
       "877   14_mxc_0_[1, 2, 3, 4, 1]_date_04-17_14-09-43_x...  \n",
       "1188  16_mxc_0_[1, 2, 3, 4, 1]_date_04-18_21-21-11_x...  \n",
       "1185  5_mxc_False_[1, 2, 3, 4, 1]_date_04-15_10-56-2...  \n",
       "...                                                 ...  \n",
       "434   20_mxc_1_[4, 3, 2, 1, 5]_date_04-21_21-51-23_x...  \n",
       "1292  16_mxc_1_[4, 3, 2, 1, 5]_date_04-19_12-20-25_x...  \n",
       "460   21_mxc_1_[4, 3, 2, 1, 5]_date_04-22_14-24-17_x...  \n",
       "563   18_mxc_0_[4, 3, 2, 1, 5]_date_04-20_08-59-32_x...  \n",
       "1021  14_mxc_0_[4, 3, 2, 1, 5]_date_04-18_06-26-07_x...  \n",
       "\n",
       "[850 rows x 6 columns]"
      ]
     },
     "metadata": {},
     "output_type": "display_data"
    }
   ],
   "source": [
    "display(diff_vals_df)"
   ]
  },
  {
   "cell_type": "code",
   "execution_count": 21,
   "metadata": {},
   "outputs": [],
   "source": [
    "fdf = diff_vals_df "
   ]
  },
  {
   "cell_type": "code",
   "execution_count": 22,
   "metadata": {},
   "outputs": [
    {
     "data": {
      "text/html": [
       "<div>\n",
       "<style scoped>\n",
       "    .dataframe tbody tr th:only-of-type {\n",
       "        vertical-align: middle;\n",
       "    }\n",
       "\n",
       "    .dataframe tbody tr th {\n",
       "        vertical-align: top;\n",
       "    }\n",
       "\n",
       "    .dataframe thead th {\n",
       "        text-align: right;\n",
       "    }\n",
       "</style>\n",
       "<table border=\"1\" class=\"dataframe\">\n",
       "  <thead>\n",
       "    <tr style=\"text-align: right;\">\n",
       "      <th></th>\n",
       "      <th>values</th>\n",
       "      <th>max_count</th>\n",
       "      <th>Equals</th>\n",
       "      <th>Fit</th>\n",
       "      <th>index</th>\n",
       "      <th>filename</th>\n",
       "    </tr>\n",
       "  </thead>\n",
       "  <tbody>\n",
       "    <tr>\n",
       "      <th>247</th>\n",
       "      <td>(1, 2, 3, 4, 1)</td>\n",
       "      <td>1</td>\n",
       "      <td>0</td>\n",
       "      <td>4.523619e+03</td>\n",
       "      <td>22</td>\n",
       "      <td>22_mxc_1_[1, 2, 3, 4, 1]_date_04-22_17-01-25_x...</td>\n",
       "    </tr>\n",
       "    <tr>\n",
       "      <th>201</th>\n",
       "      <td>(1, 2, 3, 4, 1)</td>\n",
       "      <td>-1</td>\n",
       "      <td>0</td>\n",
       "      <td>8.290687e+108</td>\n",
       "      <td>16</td>\n",
       "      <td>16_mxc_-1_[1, 2, 3, 4, 1]_date_04-18_21-36-55_...</td>\n",
       "    </tr>\n",
       "    <tr>\n",
       "      <th>877</th>\n",
       "      <td>(1, 2, 3, 4, 1)</td>\n",
       "      <td>0</td>\n",
       "      <td>0</td>\n",
       "      <td>1.650670e+04</td>\n",
       "      <td>14</td>\n",
       "      <td>14_mxc_0_[1, 2, 3, 4, 1]_date_04-17_14-09-43_x...</td>\n",
       "    </tr>\n",
       "    <tr>\n",
       "      <th>1188</th>\n",
       "      <td>(1, 2, 3, 4, 1)</td>\n",
       "      <td>0</td>\n",
       "      <td>0</td>\n",
       "      <td>1.468369e+04</td>\n",
       "      <td>16</td>\n",
       "      <td>16_mxc_0_[1, 2, 3, 4, 1]_date_04-18_21-21-11_x...</td>\n",
       "    </tr>\n",
       "    <tr>\n",
       "      <th>1185</th>\n",
       "      <td>(1, 2, 3, 4, 1)</td>\n",
       "      <td>-1</td>\n",
       "      <td>0</td>\n",
       "      <td>9.591164e+12</td>\n",
       "      <td>5</td>\n",
       "      <td>5_mxc_False_[1, 2, 3, 4, 1]_date_04-15_10-56-2...</td>\n",
       "    </tr>\n",
       "    <tr>\n",
       "      <th>...</th>\n",
       "      <td>...</td>\n",
       "      <td>...</td>\n",
       "      <td>...</td>\n",
       "      <td>...</td>\n",
       "      <td>...</td>\n",
       "      <td>...</td>\n",
       "    </tr>\n",
       "    <tr>\n",
       "      <th>434</th>\n",
       "      <td>(4, 3, 2, 1, 5)</td>\n",
       "      <td>1</td>\n",
       "      <td>0</td>\n",
       "      <td>1.076603e+05</td>\n",
       "      <td>20</td>\n",
       "      <td>20_mxc_1_[4, 3, 2, 1, 5]_date_04-21_21-51-23_x...</td>\n",
       "    </tr>\n",
       "    <tr>\n",
       "      <th>1292</th>\n",
       "      <td>(4, 3, 2, 1, 5)</td>\n",
       "      <td>1</td>\n",
       "      <td>10591</td>\n",
       "      <td>1.367154e+06</td>\n",
       "      <td>16</td>\n",
       "      <td>16_mxc_1_[4, 3, 2, 1, 5]_date_04-19_12-20-25_x...</td>\n",
       "    </tr>\n",
       "    <tr>\n",
       "      <th>460</th>\n",
       "      <td>(4, 3, 2, 1, 5)</td>\n",
       "      <td>1</td>\n",
       "      <td>0</td>\n",
       "      <td>6.449041e+04</td>\n",
       "      <td>21</td>\n",
       "      <td>21_mxc_1_[4, 3, 2, 1, 5]_date_04-22_14-24-17_x...</td>\n",
       "    </tr>\n",
       "    <tr>\n",
       "      <th>563</th>\n",
       "      <td>(4, 3, 2, 1, 5)</td>\n",
       "      <td>0</td>\n",
       "      <td>0</td>\n",
       "      <td>7.765631e+04</td>\n",
       "      <td>18</td>\n",
       "      <td>18_mxc_0_[4, 3, 2, 1, 5]_date_04-20_08-59-32_x...</td>\n",
       "    </tr>\n",
       "    <tr>\n",
       "      <th>1021</th>\n",
       "      <td>(4, 3, 2, 1, 5)</td>\n",
       "      <td>0</td>\n",
       "      <td>0</td>\n",
       "      <td>1.243730e+04</td>\n",
       "      <td>14</td>\n",
       "      <td>14_mxc_0_[4, 3, 2, 1, 5]_date_04-18_06-26-07_x...</td>\n",
       "    </tr>\n",
       "  </tbody>\n",
       "</table>\n",
       "<p>850 rows × 6 columns</p>\n",
       "</div>"
      ],
      "text/plain": [
       "               values  max_count  Equals            Fit  index  \\\n",
       "247   (1, 2, 3, 4, 1)          1       0   4.523619e+03     22   \n",
       "201   (1, 2, 3, 4, 1)         -1       0  8.290687e+108     16   \n",
       "877   (1, 2, 3, 4, 1)          0       0   1.650670e+04     14   \n",
       "1188  (1, 2, 3, 4, 1)          0       0   1.468369e+04     16   \n",
       "1185  (1, 2, 3, 4, 1)         -1       0   9.591164e+12      5   \n",
       "...               ...        ...     ...            ...    ...   \n",
       "434   (4, 3, 2, 1, 5)          1       0   1.076603e+05     20   \n",
       "1292  (4, 3, 2, 1, 5)          1   10591   1.367154e+06     16   \n",
       "460   (4, 3, 2, 1, 5)          1       0   6.449041e+04     21   \n",
       "563   (4, 3, 2, 1, 5)          0       0   7.765631e+04     18   \n",
       "1021  (4, 3, 2, 1, 5)          0       0   1.243730e+04     14   \n",
       "\n",
       "                                               filename  \n",
       "247   22_mxc_1_[1, 2, 3, 4, 1]_date_04-22_17-01-25_x...  \n",
       "201   16_mxc_-1_[1, 2, 3, 4, 1]_date_04-18_21-36-55_...  \n",
       "877   14_mxc_0_[1, 2, 3, 4, 1]_date_04-17_14-09-43_x...  \n",
       "1188  16_mxc_0_[1, 2, 3, 4, 1]_date_04-18_21-21-11_x...  \n",
       "1185  5_mxc_False_[1, 2, 3, 4, 1]_date_04-15_10-56-2...  \n",
       "...                                                 ...  \n",
       "434   20_mxc_1_[4, 3, 2, 1, 5]_date_04-21_21-51-23_x...  \n",
       "1292  16_mxc_1_[4, 3, 2, 1, 5]_date_04-19_12-20-25_x...  \n",
       "460   21_mxc_1_[4, 3, 2, 1, 5]_date_04-22_14-24-17_x...  \n",
       "563   18_mxc_0_[4, 3, 2, 1, 5]_date_04-20_08-59-32_x...  \n",
       "1021  14_mxc_0_[4, 3, 2, 1, 5]_date_04-18_06-26-07_x...  \n",
       "\n",
       "[850 rows x 6 columns]"
      ]
     },
     "execution_count": 22,
     "metadata": {},
     "output_type": "execute_result"
    }
   ],
   "source": [
    "fdf"
   ]
  },
  {
   "cell_type": "code",
   "execution_count": 23,
   "metadata": {},
   "outputs": [
    {
     "data": {
      "text/html": [
       "<div>\n",
       "<style scoped>\n",
       "    .dataframe tbody tr th:only-of-type {\n",
       "        vertical-align: middle;\n",
       "    }\n",
       "\n",
       "    .dataframe tbody tr th {\n",
       "        vertical-align: top;\n",
       "    }\n",
       "\n",
       "    .dataframe thead th {\n",
       "        text-align: right;\n",
       "    }\n",
       "</style>\n",
       "<table border=\"1\" class=\"dataframe\">\n",
       "  <thead>\n",
       "    <tr style=\"text-align: right;\">\n",
       "      <th></th>\n",
       "      <th></th>\n",
       "      <th>Equals</th>\n",
       "      <th>Fit</th>\n",
       "      <th>index</th>\n",
       "    </tr>\n",
       "    <tr>\n",
       "      <th>values</th>\n",
       "      <th>max_count</th>\n",
       "      <th></th>\n",
       "      <th></th>\n",
       "      <th></th>\n",
       "    </tr>\n",
       "  </thead>\n",
       "  <tbody>\n",
       "    <tr>\n",
       "      <th rowspan=\"3\" valign=\"top\">(1, 2, 3, 4, 1)</th>\n",
       "      <th>-1</th>\n",
       "      <td>0.166667</td>\n",
       "      <td>4.146335e+153</td>\n",
       "      <td>14.666667</td>\n",
       "    </tr>\n",
       "    <tr>\n",
       "      <th>0</th>\n",
       "      <td>167.956522</td>\n",
       "      <td>1.285871e+18</td>\n",
       "      <td>12.652174</td>\n",
       "    </tr>\n",
       "    <tr>\n",
       "      <th>1</th>\n",
       "      <td>2.636364</td>\n",
       "      <td>2.816939e+04</td>\n",
       "      <td>19.727273</td>\n",
       "    </tr>\n",
       "    <tr>\n",
       "      <th rowspan=\"2\" valign=\"top\">(1, 2, 3, 4, 2)</th>\n",
       "      <th>-1</th>\n",
       "      <td>0.000000</td>\n",
       "      <td>2.064292e+144</td>\n",
       "      <td>16.800000</td>\n",
       "    </tr>\n",
       "    <tr>\n",
       "      <th>0</th>\n",
       "      <td>1274.363636</td>\n",
       "      <td>4.270341e+71</td>\n",
       "      <td>12.136364</td>\n",
       "    </tr>\n",
       "    <tr>\n",
       "      <th>...</th>\n",
       "      <th>...</th>\n",
       "      <td>...</td>\n",
       "      <td>...</td>\n",
       "      <td>...</td>\n",
       "    </tr>\n",
       "    <tr>\n",
       "      <th rowspan=\"2\" valign=\"top\">(4, 3, 1, 2, 5)</th>\n",
       "      <th>0</th>\n",
       "      <td>2637.000000</td>\n",
       "      <td>3.678695e+161</td>\n",
       "      <td>11.833333</td>\n",
       "    </tr>\n",
       "    <tr>\n",
       "      <th>1</th>\n",
       "      <td>3359.571429</td>\n",
       "      <td>4.154634e+05</td>\n",
       "      <td>18.571429</td>\n",
       "    </tr>\n",
       "    <tr>\n",
       "      <th rowspan=\"3\" valign=\"top\">(4, 3, 2, 1, 5)</th>\n",
       "      <th>-1</th>\n",
       "      <td>0.000000</td>\n",
       "      <td>2.368785e+07</td>\n",
       "      <td>20.000000</td>\n",
       "    </tr>\n",
       "    <tr>\n",
       "      <th>0</th>\n",
       "      <td>2286.692308</td>\n",
       "      <td>1.384264e+186</td>\n",
       "      <td>10.846154</td>\n",
       "    </tr>\n",
       "    <tr>\n",
       "      <th>1</th>\n",
       "      <td>6503.714286</td>\n",
       "      <td>1.668229e+06</td>\n",
       "      <td>18.571429</td>\n",
       "    </tr>\n",
       "  </tbody>\n",
       "</table>\n",
       "<p>87 rows × 3 columns</p>\n",
       "</div>"
      ],
      "text/plain": [
       "                                Equals            Fit      index\n",
       "values          max_count                                       \n",
       "(1, 2, 3, 4, 1) -1            0.166667  4.146335e+153  14.666667\n",
       "                 0          167.956522   1.285871e+18  12.652174\n",
       "                 1            2.636364   2.816939e+04  19.727273\n",
       "(1, 2, 3, 4, 2) -1            0.000000  2.064292e+144  16.800000\n",
       "                 0         1274.363636   4.270341e+71  12.136364\n",
       "...                                ...            ...        ...\n",
       "(4, 3, 1, 2, 5)  0         2637.000000  3.678695e+161  11.833333\n",
       "                 1         3359.571429   4.154634e+05  18.571429\n",
       "(4, 3, 2, 1, 5) -1            0.000000   2.368785e+07  20.000000\n",
       "                 0         2286.692308  1.384264e+186  10.846154\n",
       "                 1         6503.714286   1.668229e+06  18.571429\n",
       "\n",
       "[87 rows x 3 columns]"
      ]
     },
     "execution_count": 23,
     "metadata": {},
     "output_type": "execute_result"
    }
   ],
   "source": [
    "gdf = diff_vals_df.groupby([\"values\", \"max_count\"]).mean()\n",
    "gdf"
   ]
  },
  {
   "cell_type": "code",
   "execution_count": 24,
   "metadata": {},
   "outputs": [],
   "source": [
    "gdf = gdf.reset_index().sort_values(\"Equals\")"
   ]
  },
  {
   "cell_type": "code",
   "execution_count": 25,
   "metadata": {},
   "outputs": [
    {
     "data": {
      "text/html": [
       "<div>\n",
       "<style scoped>\n",
       "    .dataframe tbody tr th:only-of-type {\n",
       "        vertical-align: middle;\n",
       "    }\n",
       "\n",
       "    .dataframe tbody tr th {\n",
       "        vertical-align: top;\n",
       "    }\n",
       "\n",
       "    .dataframe thead th {\n",
       "        text-align: right;\n",
       "    }\n",
       "</style>\n",
       "<table border=\"1\" class=\"dataframe\">\n",
       "  <thead>\n",
       "    <tr style=\"text-align: right;\">\n",
       "      <th></th>\n",
       "      <th>values</th>\n",
       "      <th>max_count</th>\n",
       "      <th>Equals</th>\n",
       "      <th>Fit</th>\n",
       "      <th>index</th>\n",
       "    </tr>\n",
       "  </thead>\n",
       "  <tbody>\n",
       "    <tr>\n",
       "      <th>1</th>\n",
       "      <td>(1, 2, 3, 4, 1)</td>\n",
       "      <td>0</td>\n",
       "      <td>167.956522</td>\n",
       "      <td>1.285871e+18</td>\n",
       "      <td>12.652174</td>\n",
       "    </tr>\n",
       "    <tr>\n",
       "      <th>4</th>\n",
       "      <td>(1, 2, 3, 4, 2)</td>\n",
       "      <td>0</td>\n",
       "      <td>1274.363636</td>\n",
       "      <td>4.270341e+71</td>\n",
       "      <td>12.136364</td>\n",
       "    </tr>\n",
       "    <tr>\n",
       "      <th>43</th>\n",
       "      <td>(2, 3, 4, 1, 5)</td>\n",
       "      <td>0</td>\n",
       "      <td>1532.000000</td>\n",
       "      <td>5.015398e+115</td>\n",
       "      <td>12.666667</td>\n",
       "    </tr>\n",
       "    <tr>\n",
       "      <th>10</th>\n",
       "      <td>(1, 2, 3, 4, 4)</td>\n",
       "      <td>0</td>\n",
       "      <td>1757.947368</td>\n",
       "      <td>9.860744e+36</td>\n",
       "      <td>12.526316</td>\n",
       "    </tr>\n",
       "    <tr>\n",
       "      <th>40</th>\n",
       "      <td>(2, 3, 1, 4, 5)</td>\n",
       "      <td>0</td>\n",
       "      <td>1878.266667</td>\n",
       "      <td>3.976403e+54</td>\n",
       "      <td>13.933333</td>\n",
       "    </tr>\n",
       "    <tr>\n",
       "      <th>34</th>\n",
       "      <td>(2, 1, 3, 4, 5)</td>\n",
       "      <td>0</td>\n",
       "      <td>2206.333333</td>\n",
       "      <td>1.533905e+111</td>\n",
       "      <td>11.750000</td>\n",
       "    </tr>\n",
       "    <tr>\n",
       "      <th>49</th>\n",
       "      <td>(2, 4, 3, 1, 5)</td>\n",
       "      <td>0</td>\n",
       "      <td>2206.375000</td>\n",
       "      <td>1.699892e+252</td>\n",
       "      <td>11.500000</td>\n",
       "    </tr>\n",
       "    <tr>\n",
       "      <th>79</th>\n",
       "      <td>(4, 2, 3, 1, 5)</td>\n",
       "      <td>0</td>\n",
       "      <td>2219.615385</td>\n",
       "      <td>4.244302e+265</td>\n",
       "      <td>11.153846</td>\n",
       "    </tr>\n",
       "    <tr>\n",
       "      <th>25</th>\n",
       "      <td>(1, 3, 4, 2, 5)</td>\n",
       "      <td>0</td>\n",
       "      <td>2281.666667</td>\n",
       "      <td>1.727977e+36</td>\n",
       "      <td>11.066667</td>\n",
       "    </tr>\n",
       "    <tr>\n",
       "      <th>85</th>\n",
       "      <td>(4, 3, 2, 1, 5)</td>\n",
       "      <td>0</td>\n",
       "      <td>2286.692308</td>\n",
       "      <td>1.384264e+186</td>\n",
       "      <td>10.846154</td>\n",
       "    </tr>\n",
       "    <tr>\n",
       "      <th>52</th>\n",
       "      <td>(3, 1, 2, 4, 5)</td>\n",
       "      <td>0</td>\n",
       "      <td>2472.400000</td>\n",
       "      <td>6.980413e+58</td>\n",
       "      <td>15.500000</td>\n",
       "    </tr>\n",
       "    <tr>\n",
       "      <th>31</th>\n",
       "      <td>(1, 4, 3, 2, 5)</td>\n",
       "      <td>0</td>\n",
       "      <td>2497.941176</td>\n",
       "      <td>1.411255e+217</td>\n",
       "      <td>12.176471</td>\n",
       "    </tr>\n",
       "    <tr>\n",
       "      <th>28</th>\n",
       "      <td>(1, 4, 2, 3, 5)</td>\n",
       "      <td>0</td>\n",
       "      <td>2504.076923</td>\n",
       "      <td>1.724746e+238</td>\n",
       "      <td>11.461538</td>\n",
       "    </tr>\n",
       "    <tr>\n",
       "      <th>61</th>\n",
       "      <td>(3, 2, 4, 1, 5)</td>\n",
       "      <td>0</td>\n",
       "      <td>2581.071429</td>\n",
       "      <td>1.291601e+170</td>\n",
       "      <td>11.214286</td>\n",
       "    </tr>\n",
       "    <tr>\n",
       "      <th>82</th>\n",
       "      <td>(4, 3, 1, 2, 5)</td>\n",
       "      <td>0</td>\n",
       "      <td>2637.000000</td>\n",
       "      <td>3.678695e+161</td>\n",
       "      <td>11.833333</td>\n",
       "    </tr>\n",
       "    <tr>\n",
       "      <th>13</th>\n",
       "      <td>(1, 2, 3, 4, 5)</td>\n",
       "      <td>0</td>\n",
       "      <td>2638.125000</td>\n",
       "      <td>6.260756e+283</td>\n",
       "      <td>11.812500</td>\n",
       "    </tr>\n",
       "    <tr>\n",
       "      <th>73</th>\n",
       "      <td>(4, 1, 3, 2, 5)</td>\n",
       "      <td>0</td>\n",
       "      <td>2673.333333</td>\n",
       "      <td>5.641626e+131</td>\n",
       "      <td>12.000000</td>\n",
       "    </tr>\n",
       "    <tr>\n",
       "      <th>67</th>\n",
       "      <td>(3, 4, 2, 1, 5)</td>\n",
       "      <td>0</td>\n",
       "      <td>2674.666667</td>\n",
       "      <td>1.912487e+35</td>\n",
       "      <td>14.866667</td>\n",
       "    </tr>\n",
       "    <tr>\n",
       "      <th>22</th>\n",
       "      <td>(1, 3, 2, 4, 5)</td>\n",
       "      <td>0</td>\n",
       "      <td>2721.823529</td>\n",
       "      <td>1.096746e+161</td>\n",
       "      <td>13.705882</td>\n",
       "    </tr>\n",
       "    <tr>\n",
       "      <th>7</th>\n",
       "      <td>(1, 2, 3, 4, 3)</td>\n",
       "      <td>0</td>\n",
       "      <td>2848.750000</td>\n",
       "      <td>1.984966e+297</td>\n",
       "      <td>12.000000</td>\n",
       "    </tr>\n",
       "    <tr>\n",
       "      <th>64</th>\n",
       "      <td>(3, 4, 1, 2, 5)</td>\n",
       "      <td>0</td>\n",
       "      <td>3558.642857</td>\n",
       "      <td>1.263732e+99</td>\n",
       "      <td>12.857143</td>\n",
       "    </tr>\n",
       "    <tr>\n",
       "      <th>19</th>\n",
       "      <td>(1, 2, 4, 3, 5)</td>\n",
       "      <td>0</td>\n",
       "      <td>3928.823529</td>\n",
       "      <td>4.022071e+214</td>\n",
       "      <td>12.529412</td>\n",
       "    </tr>\n",
       "    <tr>\n",
       "      <th>55</th>\n",
       "      <td>(3, 1, 4, 2, 5)</td>\n",
       "      <td>0</td>\n",
       "      <td>4316.400000</td>\n",
       "      <td>3.906209e+157</td>\n",
       "      <td>11.400000</td>\n",
       "    </tr>\n",
       "    <tr>\n",
       "      <th>16</th>\n",
       "      <td>(1, 2, 3, 4, 6)</td>\n",
       "      <td>0</td>\n",
       "      <td>4441.333333</td>\n",
       "      <td>1.244008e+122</td>\n",
       "      <td>13.500000</td>\n",
       "    </tr>\n",
       "    <tr>\n",
       "      <th>76</th>\n",
       "      <td>(4, 2, 1, 3, 5)</td>\n",
       "      <td>0</td>\n",
       "      <td>4534.363636</td>\n",
       "      <td>1.116292e+214</td>\n",
       "      <td>12.000000</td>\n",
       "    </tr>\n",
       "    <tr>\n",
       "      <th>37</th>\n",
       "      <td>(2, 1, 4, 3, 5)</td>\n",
       "      <td>0</td>\n",
       "      <td>4599.875000</td>\n",
       "      <td>4.475717e+227</td>\n",
       "      <td>12.562500</td>\n",
       "    </tr>\n",
       "    <tr>\n",
       "      <th>58</th>\n",
       "      <td>(3, 2, 1, 4, 5)</td>\n",
       "      <td>0</td>\n",
       "      <td>4612.416667</td>\n",
       "      <td>6.789712e+131</td>\n",
       "      <td>13.583333</td>\n",
       "    </tr>\n",
       "    <tr>\n",
       "      <th>70</th>\n",
       "      <td>(4, 1, 2, 3, 5)</td>\n",
       "      <td>0</td>\n",
       "      <td>5044.142857</td>\n",
       "      <td>1.117191e+173</td>\n",
       "      <td>13.428571</td>\n",
       "    </tr>\n",
       "    <tr>\n",
       "      <th>46</th>\n",
       "      <td>(2, 4, 1, 3, 5)</td>\n",
       "      <td>0</td>\n",
       "      <td>5566.307692</td>\n",
       "      <td>1.668275e+241</td>\n",
       "      <td>13.538462</td>\n",
       "    </tr>\n",
       "  </tbody>\n",
       "</table>\n",
       "</div>"
      ],
      "text/plain": [
       "             values  max_count       Equals            Fit      index\n",
       "1   (1, 2, 3, 4, 1)          0   167.956522   1.285871e+18  12.652174\n",
       "4   (1, 2, 3, 4, 2)          0  1274.363636   4.270341e+71  12.136364\n",
       "43  (2, 3, 4, 1, 5)          0  1532.000000  5.015398e+115  12.666667\n",
       "10  (1, 2, 3, 4, 4)          0  1757.947368   9.860744e+36  12.526316\n",
       "40  (2, 3, 1, 4, 5)          0  1878.266667   3.976403e+54  13.933333\n",
       "34  (2, 1, 3, 4, 5)          0  2206.333333  1.533905e+111  11.750000\n",
       "49  (2, 4, 3, 1, 5)          0  2206.375000  1.699892e+252  11.500000\n",
       "79  (4, 2, 3, 1, 5)          0  2219.615385  4.244302e+265  11.153846\n",
       "25  (1, 3, 4, 2, 5)          0  2281.666667   1.727977e+36  11.066667\n",
       "85  (4, 3, 2, 1, 5)          0  2286.692308  1.384264e+186  10.846154\n",
       "52  (3, 1, 2, 4, 5)          0  2472.400000   6.980413e+58  15.500000\n",
       "31  (1, 4, 3, 2, 5)          0  2497.941176  1.411255e+217  12.176471\n",
       "28  (1, 4, 2, 3, 5)          0  2504.076923  1.724746e+238  11.461538\n",
       "61  (3, 2, 4, 1, 5)          0  2581.071429  1.291601e+170  11.214286\n",
       "82  (4, 3, 1, 2, 5)          0  2637.000000  3.678695e+161  11.833333\n",
       "13  (1, 2, 3, 4, 5)          0  2638.125000  6.260756e+283  11.812500\n",
       "73  (4, 1, 3, 2, 5)          0  2673.333333  5.641626e+131  12.000000\n",
       "67  (3, 4, 2, 1, 5)          0  2674.666667   1.912487e+35  14.866667\n",
       "22  (1, 3, 2, 4, 5)          0  2721.823529  1.096746e+161  13.705882\n",
       "7   (1, 2, 3, 4, 3)          0  2848.750000  1.984966e+297  12.000000\n",
       "64  (3, 4, 1, 2, 5)          0  3558.642857   1.263732e+99  12.857143\n",
       "19  (1, 2, 4, 3, 5)          0  3928.823529  4.022071e+214  12.529412\n",
       "55  (3, 1, 4, 2, 5)          0  4316.400000  3.906209e+157  11.400000\n",
       "16  (1, 2, 3, 4, 6)          0  4441.333333  1.244008e+122  13.500000\n",
       "76  (4, 2, 1, 3, 5)          0  4534.363636  1.116292e+214  12.000000\n",
       "37  (2, 1, 4, 3, 5)          0  4599.875000  4.475717e+227  12.562500\n",
       "58  (3, 2, 1, 4, 5)          0  4612.416667  6.789712e+131  13.583333\n",
       "70  (4, 1, 2, 3, 5)          0  5044.142857  1.117191e+173  13.428571\n",
       "46  (2, 4, 1, 3, 5)          0  5566.307692  1.668275e+241  13.538462"
      ]
     },
     "execution_count": 25,
     "metadata": {},
     "output_type": "execute_result"
    }
   ],
   "source": [
    "gdf[gdf[\"max_count\"] == 0]"
   ]
  },
  {
   "cell_type": "code",
   "execution_count": 40,
   "metadata": {},
   "outputs": [],
   "source": [
    "pl1 = gdf[gdf[\"max_count\"] == 1].reset_index(drop=True)"
   ]
  },
  {
   "cell_type": "code",
   "execution_count": 42,
   "metadata": {},
   "outputs": [
    {
     "name": "stdout",
     "output_type": "stream",
     "text": [
      "\\begin{tabular}{llrrrr}\n",
      "\\toprule\n",
      "{} &           values &  max\\_count &       Equals &           Fit &      index \\\\\n",
      "\\midrule\n",
      "0  &  (1, 2, 3, 4, 1) &          1 &     2.636364 &  2.816939e+04 &  19.727273 \\\\\n",
      "1  &  (2, 4, 1, 3, 5) &          1 &  1438.727273 &  1.204840e+05 &  19.727273 \\\\\n",
      "2  &  (1, 2, 3, 4, 2) &          1 &  1574.363636 &  6.361376e+04 &  19.727273 \\\\\n",
      "3  &  (2, 3, 4, 1, 5) &          1 &  2866.454545 &  5.035790e+05 &  19.727273 \\\\\n",
      "4  &  (4, 2, 3, 1, 5) &          1 &  3001.714286 &  5.046762e+05 &  18.571429 \\\\\n",
      "5  &  (1, 2, 3, 4, 3) &          1 &  3297.727273 &  1.549893e+05 &  19.727273 \\\\\n",
      "6  &  (4, 3, 1, 2, 5) &          1 &  3359.571429 &  4.154634e+05 &  18.571429 \\\\\n",
      "7  &  (3, 4, 1, 2, 5) &          1 &  3549.000000 &  5.746923e+05 &  20.200000 \\\\\n",
      "8  &  (3, 2, 1, 4, 5) &          1 &  4251.400000 &  6.187622e+05 &  20.200000 \\\\\n",
      "9  &  (4, 2, 1, 3, 5) &          1 &  4628.857143 &  5.403472e+05 &  18.571429 \\\\\n",
      "10 &  (1, 2, 3, 4, 4) &          1 &  4848.727273 &  5.833734e+05 &  19.727273 \\\\\n",
      "11 &  (3, 4, 2, 1, 5) &          1 &  5013.555556 &  7.783485e+05 &  19.777778 \\\\\n",
      "12 &  (3, 1, 2, 4, 5) &          1 &  5286.700000 &  3.758700e+05 &  20.200000 \\\\\n",
      "13 &  (3, 2, 4, 1, 5) &          1 &  5478.100000 &  6.571567e+05 &  20.200000 \\\\\n",
      "14 &  (2, 1, 4, 3, 5) &          1 &  5504.545455 &  3.611583e+05 &  19.727273 \\\\\n",
      "15 &  (3, 1, 4, 2, 5) &          1 &  5508.200000 &  4.599661e+05 &  20.200000 \\\\\n",
      "16 &  (4, 1, 2, 3, 5) &          1 &  5683.375000 &  1.536059e+05 &  19.125000 \\\\\n",
      "17 &  (2, 4, 3, 1, 5) &          1 &  5857.181818 &  1.138215e+06 &  19.727273 \\\\\n",
      "18 &  (1, 2, 3, 4, 6) &          1 &  5931.500000 &  1.288548e+06 &  19.500000 \\\\\n",
      "19 &  (1, 4, 3, 2, 5) &          1 &  6044.818182 &  1.345442e+06 &  19.727273 \\\\\n",
      "20 &  (1, 2, 3, 4, 5) &          1 &  6074.636364 &  1.832694e+06 &  19.727273 \\\\\n",
      "21 &  (4, 1, 3, 2, 5) &          1 &  6166.750000 &  1.074022e+06 &  19.125000 \\\\\n",
      "22 &  (1, 4, 2, 3, 5) &          1 &  6331.272727 &  1.214553e+06 &  19.727273 \\\\\n",
      "23 &  (4, 3, 2, 1, 5) &          1 &  6503.714286 &  1.668229e+06 &  18.571429 \\\\\n",
      "24 &  (1, 2, 4, 3, 5) &          1 &  6637.000000 &  1.482069e+06 &  19.727273 \\\\\n",
      "25 &  (2, 1, 3, 4, 5) &          1 &  6800.909091 &  7.064547e+05 &  19.727273 \\\\\n",
      "26 &  (1, 3, 4, 2, 5) &          1 &  6961.636364 &  1.829892e+06 &  19.727273 \\\\\n",
      "27 &  (2, 3, 1, 4, 5) &          1 &  7054.727273 &  7.527023e+05 &  19.727273 \\\\\n",
      "28 &  (1, 3, 2, 4, 5) &          1 &  7868.363636 &  1.318421e+06 &  19.727273 \\\\\n",
      "\\bottomrule\n",
      "\\end{tabular}\n",
      "\n"
     ]
    },
    {
     "name": "stderr",
     "output_type": "stream",
     "text": [
      "/var/folders/nk/6df909tn2f726qntp17fzj600000gn/T/ipykernel_45608/454812560.py:1: FutureWarning:\n",
      "\n",
      "In future versions `DataFrame.to_latex` is expected to utilise the base implementation of `Styler.to_latex` for formatting and rendering. The arguments signature may therefore change. It is recommended instead to use `DataFrame.style.to_latex` which also contains additional functionality.\n",
      "\n"
     ]
    }
   ],
   "source": [
    "print(pl1.to_latex())"
   ]
  },
  {
   "cell_type": "code",
   "execution_count": 27,
   "metadata": {},
   "outputs": [
    {
     "data": {
      "text/html": [
       "<div>\n",
       "<style scoped>\n",
       "    .dataframe tbody tr th:only-of-type {\n",
       "        vertical-align: middle;\n",
       "    }\n",
       "\n",
       "    .dataframe tbody tr th {\n",
       "        vertical-align: top;\n",
       "    }\n",
       "\n",
       "    .dataframe thead th {\n",
       "        text-align: right;\n",
       "    }\n",
       "</style>\n",
       "<table border=\"1\" class=\"dataframe\">\n",
       "  <thead>\n",
       "    <tr style=\"text-align: right;\">\n",
       "      <th></th>\n",
       "      <th>values</th>\n",
       "      <th>max_count</th>\n",
       "      <th>Equals</th>\n",
       "      <th>Fit</th>\n",
       "      <th>index</th>\n",
       "    </tr>\n",
       "  </thead>\n",
       "  <tbody>\n",
       "    <tr>\n",
       "      <th>63</th>\n",
       "      <td>(3, 4, 1, 2, 5)</td>\n",
       "      <td>-1</td>\n",
       "      <td>0.000000</td>\n",
       "      <td>1.186134e+47</td>\n",
       "      <td>11.000000</td>\n",
       "    </tr>\n",
       "    <tr>\n",
       "      <th>42</th>\n",
       "      <td>(2, 3, 4, 1, 5)</td>\n",
       "      <td>-1</td>\n",
       "      <td>0.000000</td>\n",
       "      <td>4.842656e+40</td>\n",
       "      <td>9.000000</td>\n",
       "    </tr>\n",
       "    <tr>\n",
       "      <th>24</th>\n",
       "      <td>(1, 3, 4, 2, 5)</td>\n",
       "      <td>-1</td>\n",
       "      <td>0.000000</td>\n",
       "      <td>9.822800e+267</td>\n",
       "      <td>13.200000</td>\n",
       "    </tr>\n",
       "    <tr>\n",
       "      <th>48</th>\n",
       "      <td>(2, 4, 3, 1, 5)</td>\n",
       "      <td>-1</td>\n",
       "      <td>0.000000</td>\n",
       "      <td>3.380110e+293</td>\n",
       "      <td>15.250000</td>\n",
       "    </tr>\n",
       "    <tr>\n",
       "      <th>51</th>\n",
       "      <td>(3, 1, 2, 4, 5)</td>\n",
       "      <td>-1</td>\n",
       "      <td>0.000000</td>\n",
       "      <td>2.659785e+266</td>\n",
       "      <td>13.500000</td>\n",
       "    </tr>\n",
       "    <tr>\n",
       "      <th>21</th>\n",
       "      <td>(1, 3, 2, 4, 5)</td>\n",
       "      <td>-1</td>\n",
       "      <td>0.000000</td>\n",
       "      <td>4.065488e+274</td>\n",
       "      <td>18.500000</td>\n",
       "    </tr>\n",
       "    <tr>\n",
       "      <th>54</th>\n",
       "      <td>(3, 1, 4, 2, 5)</td>\n",
       "      <td>-1</td>\n",
       "      <td>0.000000</td>\n",
       "      <td>3.853638e+116</td>\n",
       "      <td>14.333333</td>\n",
       "    </tr>\n",
       "    <tr>\n",
       "      <th>57</th>\n",
       "      <td>(3, 2, 1, 4, 5)</td>\n",
       "      <td>-1</td>\n",
       "      <td>0.000000</td>\n",
       "      <td>1.162867e+166</td>\n",
       "      <td>4.750000</td>\n",
       "    </tr>\n",
       "    <tr>\n",
       "      <th>60</th>\n",
       "      <td>(3, 2, 4, 1, 5)</td>\n",
       "      <td>-1</td>\n",
       "      <td>0.000000</td>\n",
       "      <td>1.394834e+119</td>\n",
       "      <td>7.250000</td>\n",
       "    </tr>\n",
       "    <tr>\n",
       "      <th>36</th>\n",
       "      <td>(2, 1, 4, 3, 5)</td>\n",
       "      <td>-1</td>\n",
       "      <td>0.000000</td>\n",
       "      <td>2.937517e+44</td>\n",
       "      <td>12.750000</td>\n",
       "    </tr>\n",
       "    <tr>\n",
       "      <th>66</th>\n",
       "      <td>(3, 4, 2, 1, 5)</td>\n",
       "      <td>-1</td>\n",
       "      <td>0.000000</td>\n",
       "      <td>2.518244e+21</td>\n",
       "      <td>25.000000</td>\n",
       "    </tr>\n",
       "    <tr>\n",
       "      <th>69</th>\n",
       "      <td>(4, 1, 2, 3, 5)</td>\n",
       "      <td>-1</td>\n",
       "      <td>0.000000</td>\n",
       "      <td>3.268915e+125</td>\n",
       "      <td>8.500000</td>\n",
       "    </tr>\n",
       "    <tr>\n",
       "      <th>33</th>\n",
       "      <td>(2, 1, 3, 4, 5)</td>\n",
       "      <td>-1</td>\n",
       "      <td>0.000000</td>\n",
       "      <td>4.317827e+264</td>\n",
       "      <td>12.500000</td>\n",
       "    </tr>\n",
       "    <tr>\n",
       "      <th>72</th>\n",
       "      <td>(4, 1, 3, 2, 5)</td>\n",
       "      <td>-1</td>\n",
       "      <td>0.000000</td>\n",
       "      <td>1.336617e+221</td>\n",
       "      <td>8.500000</td>\n",
       "    </tr>\n",
       "    <tr>\n",
       "      <th>75</th>\n",
       "      <td>(4, 2, 1, 3, 5)</td>\n",
       "      <td>-1</td>\n",
       "      <td>0.000000</td>\n",
       "      <td>6.130370e+267</td>\n",
       "      <td>16.000000</td>\n",
       "    </tr>\n",
       "    <tr>\n",
       "      <th>3</th>\n",
       "      <td>(1, 2, 3, 4, 2)</td>\n",
       "      <td>-1</td>\n",
       "      <td>0.000000</td>\n",
       "      <td>2.064292e+144</td>\n",
       "      <td>16.800000</td>\n",
       "    </tr>\n",
       "    <tr>\n",
       "      <th>78</th>\n",
       "      <td>(4, 2, 3, 1, 5)</td>\n",
       "      <td>-1</td>\n",
       "      <td>0.000000</td>\n",
       "      <td>1.659317e+116</td>\n",
       "      <td>5.666667</td>\n",
       "    </tr>\n",
       "    <tr>\n",
       "      <th>84</th>\n",
       "      <td>(4, 3, 2, 1, 5)</td>\n",
       "      <td>-1</td>\n",
       "      <td>0.000000</td>\n",
       "      <td>2.368785e+07</td>\n",
       "      <td>20.000000</td>\n",
       "    </tr>\n",
       "    <tr>\n",
       "      <th>81</th>\n",
       "      <td>(4, 3, 1, 2, 5)</td>\n",
       "      <td>-1</td>\n",
       "      <td>0.000000</td>\n",
       "      <td>9.859664e+262</td>\n",
       "      <td>6.600000</td>\n",
       "    </tr>\n",
       "    <tr>\n",
       "      <th>6</th>\n",
       "      <td>(1, 2, 3, 4, 3)</td>\n",
       "      <td>-1</td>\n",
       "      <td>0.000000</td>\n",
       "      <td>6.039516e+281</td>\n",
       "      <td>9.200000</td>\n",
       "    </tr>\n",
       "    <tr>\n",
       "      <th>12</th>\n",
       "      <td>(1, 2, 3, 4, 5)</td>\n",
       "      <td>-1</td>\n",
       "      <td>0.090909</td>\n",
       "      <td>1.295549e+244</td>\n",
       "      <td>10.727273</td>\n",
       "    </tr>\n",
       "    <tr>\n",
       "      <th>0</th>\n",
       "      <td>(1, 2, 3, 4, 1)</td>\n",
       "      <td>-1</td>\n",
       "      <td>0.166667</td>\n",
       "      <td>4.146335e+153</td>\n",
       "      <td>14.666667</td>\n",
       "    </tr>\n",
       "    <tr>\n",
       "      <th>15</th>\n",
       "      <td>(1, 2, 3, 4, 6)</td>\n",
       "      <td>-1</td>\n",
       "      <td>0.250000</td>\n",
       "      <td>5.054950e+270</td>\n",
       "      <td>5.250000</td>\n",
       "    </tr>\n",
       "    <tr>\n",
       "      <th>39</th>\n",
       "      <td>(2, 3, 1, 4, 5)</td>\n",
       "      <td>-1</td>\n",
       "      <td>0.250000</td>\n",
       "      <td>2.030280e+186</td>\n",
       "      <td>11.500000</td>\n",
       "    </tr>\n",
       "    <tr>\n",
       "      <th>18</th>\n",
       "      <td>(1, 2, 4, 3, 5)</td>\n",
       "      <td>-1</td>\n",
       "      <td>0.250000</td>\n",
       "      <td>6.623338e+292</td>\n",
       "      <td>12.875000</td>\n",
       "    </tr>\n",
       "    <tr>\n",
       "      <th>30</th>\n",
       "      <td>(1, 4, 3, 2, 5)</td>\n",
       "      <td>-1</td>\n",
       "      <td>0.333333</td>\n",
       "      <td>4.888740e+129</td>\n",
       "      <td>3.333333</td>\n",
       "    </tr>\n",
       "    <tr>\n",
       "      <th>45</th>\n",
       "      <td>(2, 4, 1, 3, 5)</td>\n",
       "      <td>-1</td>\n",
       "      <td>1.000000</td>\n",
       "      <td>6.623682e+293</td>\n",
       "      <td>13.500000</td>\n",
       "    </tr>\n",
       "    <tr>\n",
       "      <th>9</th>\n",
       "      <td>(1, 2, 3, 4, 4)</td>\n",
       "      <td>-1</td>\n",
       "      <td>27.714286</td>\n",
       "      <td>2.975556e+198</td>\n",
       "      <td>9.142857</td>\n",
       "    </tr>\n",
       "    <tr>\n",
       "      <th>27</th>\n",
       "      <td>(1, 4, 2, 3, 5)</td>\n",
       "      <td>-1</td>\n",
       "      <td>560.000000</td>\n",
       "      <td>7.544720e+250</td>\n",
       "      <td>12.600000</td>\n",
       "    </tr>\n",
       "  </tbody>\n",
       "</table>\n",
       "</div>"
      ],
      "text/plain": [
       "             values  max_count      Equals            Fit      index\n",
       "63  (3, 4, 1, 2, 5)         -1    0.000000   1.186134e+47  11.000000\n",
       "42  (2, 3, 4, 1, 5)         -1    0.000000   4.842656e+40   9.000000\n",
       "24  (1, 3, 4, 2, 5)         -1    0.000000  9.822800e+267  13.200000\n",
       "48  (2, 4, 3, 1, 5)         -1    0.000000  3.380110e+293  15.250000\n",
       "51  (3, 1, 2, 4, 5)         -1    0.000000  2.659785e+266  13.500000\n",
       "21  (1, 3, 2, 4, 5)         -1    0.000000  4.065488e+274  18.500000\n",
       "54  (3, 1, 4, 2, 5)         -1    0.000000  3.853638e+116  14.333333\n",
       "57  (3, 2, 1, 4, 5)         -1    0.000000  1.162867e+166   4.750000\n",
       "60  (3, 2, 4, 1, 5)         -1    0.000000  1.394834e+119   7.250000\n",
       "36  (2, 1, 4, 3, 5)         -1    0.000000   2.937517e+44  12.750000\n",
       "66  (3, 4, 2, 1, 5)         -1    0.000000   2.518244e+21  25.000000\n",
       "69  (4, 1, 2, 3, 5)         -1    0.000000  3.268915e+125   8.500000\n",
       "33  (2, 1, 3, 4, 5)         -1    0.000000  4.317827e+264  12.500000\n",
       "72  (4, 1, 3, 2, 5)         -1    0.000000  1.336617e+221   8.500000\n",
       "75  (4, 2, 1, 3, 5)         -1    0.000000  6.130370e+267  16.000000\n",
       "3   (1, 2, 3, 4, 2)         -1    0.000000  2.064292e+144  16.800000\n",
       "78  (4, 2, 3, 1, 5)         -1    0.000000  1.659317e+116   5.666667\n",
       "84  (4, 3, 2, 1, 5)         -1    0.000000   2.368785e+07  20.000000\n",
       "81  (4, 3, 1, 2, 5)         -1    0.000000  9.859664e+262   6.600000\n",
       "6   (1, 2, 3, 4, 3)         -1    0.000000  6.039516e+281   9.200000\n",
       "12  (1, 2, 3, 4, 5)         -1    0.090909  1.295549e+244  10.727273\n",
       "0   (1, 2, 3, 4, 1)         -1    0.166667  4.146335e+153  14.666667\n",
       "15  (1, 2, 3, 4, 6)         -1    0.250000  5.054950e+270   5.250000\n",
       "39  (2, 3, 1, 4, 5)         -1    0.250000  2.030280e+186  11.500000\n",
       "18  (1, 2, 4, 3, 5)         -1    0.250000  6.623338e+292  12.875000\n",
       "30  (1, 4, 3, 2, 5)         -1    0.333333  4.888740e+129   3.333333\n",
       "45  (2, 4, 1, 3, 5)         -1    1.000000  6.623682e+293  13.500000\n",
       "9   (1, 2, 3, 4, 4)         -1   27.714286  2.975556e+198   9.142857\n",
       "27  (1, 4, 2, 3, 5)         -1  560.000000  7.544720e+250  12.600000"
      ]
     },
     "execution_count": 27,
     "metadata": {},
     "output_type": "execute_result"
    }
   ],
   "source": [
    "gdf[gdf[\"max_count\"] == -1]"
   ]
  },
  {
   "cell_type": "code",
   "execution_count": 28,
   "metadata": {},
   "outputs": [
    {
     "data": {
      "text/html": [
       "<div>\n",
       "<style scoped>\n",
       "    .dataframe tbody tr th:only-of-type {\n",
       "        vertical-align: middle;\n",
       "    }\n",
       "\n",
       "    .dataframe tbody tr th {\n",
       "        vertical-align: top;\n",
       "    }\n",
       "\n",
       "    .dataframe thead th {\n",
       "        text-align: right;\n",
       "    }\n",
       "</style>\n",
       "<table border=\"1\" class=\"dataframe\">\n",
       "  <thead>\n",
       "    <tr style=\"text-align: right;\">\n",
       "      <th></th>\n",
       "      <th>values</th>\n",
       "      <th>max_count</th>\n",
       "      <th>Equals</th>\n",
       "      <th>Fit</th>\n",
       "      <th>index</th>\n",
       "    </tr>\n",
       "  </thead>\n",
       "  <tbody>\n",
       "    <tr>\n",
       "      <th>2</th>\n",
       "      <td>(1, 2, 3, 4, 1)</td>\n",
       "      <td>1</td>\n",
       "      <td>2.636364</td>\n",
       "      <td>2.816939e+04</td>\n",
       "      <td>19.727273</td>\n",
       "    </tr>\n",
       "    <tr>\n",
       "      <th>5</th>\n",
       "      <td>(1, 2, 3, 4, 2)</td>\n",
       "      <td>1</td>\n",
       "      <td>1574.363636</td>\n",
       "      <td>6.361376e+04</td>\n",
       "      <td>19.727273</td>\n",
       "    </tr>\n",
       "    <tr>\n",
       "      <th>8</th>\n",
       "      <td>(1, 2, 3, 4, 3)</td>\n",
       "      <td>1</td>\n",
       "      <td>3297.727273</td>\n",
       "      <td>1.549893e+05</td>\n",
       "      <td>19.727273</td>\n",
       "    </tr>\n",
       "    <tr>\n",
       "      <th>11</th>\n",
       "      <td>(1, 2, 3, 4, 4)</td>\n",
       "      <td>1</td>\n",
       "      <td>4848.727273</td>\n",
       "      <td>5.833734e+05</td>\n",
       "      <td>19.727273</td>\n",
       "    </tr>\n",
       "    <tr>\n",
       "      <th>17</th>\n",
       "      <td>(1, 2, 3, 4, 6)</td>\n",
       "      <td>1</td>\n",
       "      <td>5931.500000</td>\n",
       "      <td>1.288548e+06</td>\n",
       "      <td>19.500000</td>\n",
       "    </tr>\n",
       "    <tr>\n",
       "      <th>32</th>\n",
       "      <td>(1, 4, 3, 2, 5)</td>\n",
       "      <td>1</td>\n",
       "      <td>6044.818182</td>\n",
       "      <td>1.345442e+06</td>\n",
       "      <td>19.727273</td>\n",
       "    </tr>\n",
       "    <tr>\n",
       "      <th>14</th>\n",
       "      <td>(1, 2, 3, 4, 5)</td>\n",
       "      <td>1</td>\n",
       "      <td>6074.636364</td>\n",
       "      <td>1.832694e+06</td>\n",
       "      <td>19.727273</td>\n",
       "    </tr>\n",
       "    <tr>\n",
       "      <th>29</th>\n",
       "      <td>(1, 4, 2, 3, 5)</td>\n",
       "      <td>1</td>\n",
       "      <td>6331.272727</td>\n",
       "      <td>1.214553e+06</td>\n",
       "      <td>19.727273</td>\n",
       "    </tr>\n",
       "    <tr>\n",
       "      <th>20</th>\n",
       "      <td>(1, 2, 4, 3, 5)</td>\n",
       "      <td>1</td>\n",
       "      <td>6637.000000</td>\n",
       "      <td>1.482069e+06</td>\n",
       "      <td>19.727273</td>\n",
       "    </tr>\n",
       "    <tr>\n",
       "      <th>26</th>\n",
       "      <td>(1, 3, 4, 2, 5)</td>\n",
       "      <td>1</td>\n",
       "      <td>6961.636364</td>\n",
       "      <td>1.829892e+06</td>\n",
       "      <td>19.727273</td>\n",
       "    </tr>\n",
       "    <tr>\n",
       "      <th>23</th>\n",
       "      <td>(1, 3, 2, 4, 5)</td>\n",
       "      <td>1</td>\n",
       "      <td>7868.363636</td>\n",
       "      <td>1.318421e+06</td>\n",
       "      <td>19.727273</td>\n",
       "    </tr>\n",
       "  </tbody>\n",
       "</table>\n",
       "</div>"
      ],
      "text/plain": [
       "             values  max_count       Equals           Fit      index\n",
       "2   (1, 2, 3, 4, 1)          1     2.636364  2.816939e+04  19.727273\n",
       "5   (1, 2, 3, 4, 2)          1  1574.363636  6.361376e+04  19.727273\n",
       "8   (1, 2, 3, 4, 3)          1  3297.727273  1.549893e+05  19.727273\n",
       "11  (1, 2, 3, 4, 4)          1  4848.727273  5.833734e+05  19.727273\n",
       "17  (1, 2, 3, 4, 6)          1  5931.500000  1.288548e+06  19.500000\n",
       "32  (1, 4, 3, 2, 5)          1  6044.818182  1.345442e+06  19.727273\n",
       "14  (1, 2, 3, 4, 5)          1  6074.636364  1.832694e+06  19.727273\n",
       "29  (1, 4, 2, 3, 5)          1  6331.272727  1.214553e+06  19.727273\n",
       "20  (1, 2, 4, 3, 5)          1  6637.000000  1.482069e+06  19.727273\n",
       "26  (1, 3, 4, 2, 5)          1  6961.636364  1.829892e+06  19.727273\n",
       "23  (1, 3, 2, 4, 5)          1  7868.363636  1.318421e+06  19.727273"
      ]
     },
     "execution_count": 28,
     "metadata": {},
     "output_type": "execute_result"
    }
   ],
   "source": [
    "gdf[(gdf[\"max_count\"] == True) & (gdf['values'].apply(lambda tup: tup[0] == 1))]"
   ]
  },
  {
   "cell_type": "code",
   "execution_count": 29,
   "metadata": {},
   "outputs": [
    {
     "data": {
      "text/html": [
       "<div>\n",
       "<style scoped>\n",
       "    .dataframe tbody tr th:only-of-type {\n",
       "        vertical-align: middle;\n",
       "    }\n",
       "\n",
       "    .dataframe tbody tr th {\n",
       "        vertical-align: top;\n",
       "    }\n",
       "\n",
       "    .dataframe thead th {\n",
       "        text-align: right;\n",
       "    }\n",
       "</style>\n",
       "<table border=\"1\" class=\"dataframe\">\n",
       "  <thead>\n",
       "    <tr style=\"text-align: right;\">\n",
       "      <th></th>\n",
       "      <th>values</th>\n",
       "      <th>max_count</th>\n",
       "      <th>Equals</th>\n",
       "      <th>Fit</th>\n",
       "      <th>index</th>\n",
       "    </tr>\n",
       "  </thead>\n",
       "  <tbody>\n",
       "    <tr>\n",
       "      <th>80</th>\n",
       "      <td>(4, 2, 3, 1, 5)</td>\n",
       "      <td>1</td>\n",
       "      <td>3001.714286</td>\n",
       "      <td>5.046762e+05</td>\n",
       "      <td>18.571429</td>\n",
       "    </tr>\n",
       "    <tr>\n",
       "      <th>83</th>\n",
       "      <td>(4, 3, 1, 2, 5)</td>\n",
       "      <td>1</td>\n",
       "      <td>3359.571429</td>\n",
       "      <td>4.154634e+05</td>\n",
       "      <td>18.571429</td>\n",
       "    </tr>\n",
       "    <tr>\n",
       "      <th>77</th>\n",
       "      <td>(4, 2, 1, 3, 5)</td>\n",
       "      <td>1</td>\n",
       "      <td>4628.857143</td>\n",
       "      <td>5.403472e+05</td>\n",
       "      <td>18.571429</td>\n",
       "    </tr>\n",
       "    <tr>\n",
       "      <th>71</th>\n",
       "      <td>(4, 1, 2, 3, 5)</td>\n",
       "      <td>1</td>\n",
       "      <td>5683.375000</td>\n",
       "      <td>1.536059e+05</td>\n",
       "      <td>19.125000</td>\n",
       "    </tr>\n",
       "    <tr>\n",
       "      <th>74</th>\n",
       "      <td>(4, 1, 3, 2, 5)</td>\n",
       "      <td>1</td>\n",
       "      <td>6166.750000</td>\n",
       "      <td>1.074022e+06</td>\n",
       "      <td>19.125000</td>\n",
       "    </tr>\n",
       "    <tr>\n",
       "      <th>86</th>\n",
       "      <td>(4, 3, 2, 1, 5)</td>\n",
       "      <td>1</td>\n",
       "      <td>6503.714286</td>\n",
       "      <td>1.668229e+06</td>\n",
       "      <td>18.571429</td>\n",
       "    </tr>\n",
       "  </tbody>\n",
       "</table>\n",
       "</div>"
      ],
      "text/plain": [
       "             values  max_count       Equals           Fit      index\n",
       "80  (4, 2, 3, 1, 5)          1  3001.714286  5.046762e+05  18.571429\n",
       "83  (4, 3, 1, 2, 5)          1  3359.571429  4.154634e+05  18.571429\n",
       "77  (4, 2, 1, 3, 5)          1  4628.857143  5.403472e+05  18.571429\n",
       "71  (4, 1, 2, 3, 5)          1  5683.375000  1.536059e+05  19.125000\n",
       "74  (4, 1, 3, 2, 5)          1  6166.750000  1.074022e+06  19.125000\n",
       "86  (4, 3, 2, 1, 5)          1  6503.714286  1.668229e+06  18.571429"
      ]
     },
     "execution_count": 29,
     "metadata": {},
     "output_type": "execute_result"
    }
   ],
   "source": [
    "gdf[(gdf[\"max_count\"] == True) & (gdf['values'].apply(lambda tup: tup[0] == 4))]"
   ]
  },
  {
   "cell_type": "code",
   "execution_count": 30,
   "metadata": {},
   "outputs": [
    {
     "data": {
      "text/html": [
       "<div>\n",
       "<style scoped>\n",
       "    .dataframe tbody tr th:only-of-type {\n",
       "        vertical-align: middle;\n",
       "    }\n",
       "\n",
       "    .dataframe tbody tr th {\n",
       "        vertical-align: top;\n",
       "    }\n",
       "\n",
       "    .dataframe thead th {\n",
       "        text-align: right;\n",
       "    }\n",
       "</style>\n",
       "<table border=\"1\" class=\"dataframe\">\n",
       "  <thead>\n",
       "    <tr style=\"text-align: right;\">\n",
       "      <th></th>\n",
       "      <th>values</th>\n",
       "      <th>max_count</th>\n",
       "      <th>Equals</th>\n",
       "      <th>Fit</th>\n",
       "      <th>index</th>\n",
       "      <th>filename</th>\n",
       "    </tr>\n",
       "  </thead>\n",
       "  <tbody>\n",
       "    <tr>\n",
       "      <th>1472</th>\n",
       "      <td>(4, 1, 2, 3, 5)</td>\n",
       "      <td>0</td>\n",
       "      <td>0</td>\n",
       "      <td>2.624929e+04</td>\n",
       "      <td>14</td>\n",
       "      <td>14_mxc_0_[4, 1, 2, 3, 5]_date_04-18_03-42-57_x...</td>\n",
       "    </tr>\n",
       "    <tr>\n",
       "      <th>863</th>\n",
       "      <td>(4, 1, 2, 3, 5)</td>\n",
       "      <td>-1</td>\n",
       "      <td>0</td>\n",
       "      <td>1.307566e+126</td>\n",
       "      <td>11</td>\n",
       "      <td>11_mxc_False_[4, 1, 2, 3, 5]_date_04-17_00-32-...</td>\n",
       "    </tr>\n",
       "    <tr>\n",
       "      <th>116</th>\n",
       "      <td>(4, 1, 2, 3, 5)</td>\n",
       "      <td>0</td>\n",
       "      <td>11356</td>\n",
       "      <td>7.820336e+173</td>\n",
       "      <td>8</td>\n",
       "      <td>8_mxc_True_[4, 1, 2, 3, 5]_date_04-16_06-55-43...</td>\n",
       "    </tr>\n",
       "    <tr>\n",
       "      <th>515</th>\n",
       "      <td>(4, 1, 2, 3, 5)</td>\n",
       "      <td>1</td>\n",
       "      <td>62</td>\n",
       "      <td>1.553304e+04</td>\n",
       "      <td>18</td>\n",
       "      <td>18_mxc_1_[4, 1, 2, 3, 5]_date_04-20_05-55-51_x...</td>\n",
       "    </tr>\n",
       "    <tr>\n",
       "      <th>954</th>\n",
       "      <td>(4, 1, 2, 3, 5)</td>\n",
       "      <td>1</td>\n",
       "      <td>11765</td>\n",
       "      <td>1.385306e+05</td>\n",
       "      <td>20</td>\n",
       "      <td>20_mxc_1_[4, 1, 2, 3, 5]_date_04-21_17-11-15_x...</td>\n",
       "    </tr>\n",
       "    <tr>\n",
       "      <th>958</th>\n",
       "      <td>(4, 1, 2, 3, 5)</td>\n",
       "      <td>0</td>\n",
       "      <td>11230</td>\n",
       "      <td>1.299495e+05</td>\n",
       "      <td>19</td>\n",
       "      <td>19_mxc_0_[4, 1, 2, 3, 5]_date_04-21_01-28-48_x...</td>\n",
       "    </tr>\n",
       "    <tr>\n",
       "      <th>156</th>\n",
       "      <td>(4, 1, 2, 3, 5)</td>\n",
       "      <td>1</td>\n",
       "      <td>0</td>\n",
       "      <td>2.244936e+03</td>\n",
       "      <td>21</td>\n",
       "      <td>21_mxc_1_[4, 1, 2, 3, 5]_date_04-22_10-47-24_x...</td>\n",
       "    </tr>\n",
       "    <tr>\n",
       "      <th>763</th>\n",
       "      <td>(4, 1, 2, 3, 5)</td>\n",
       "      <td>1</td>\n",
       "      <td>0</td>\n",
       "      <td>3.782427e+03</td>\n",
       "      <td>22</td>\n",
       "      <td>22_mxc_1_[4, 1, 2, 3, 5]_date_04-23_06-57-24_x...</td>\n",
       "    </tr>\n",
       "    <tr>\n",
       "      <th>1100</th>\n",
       "      <td>(4, 1, 2, 3, 5)</td>\n",
       "      <td>0</td>\n",
       "      <td>0</td>\n",
       "      <td>4.212910e+03</td>\n",
       "      <td>9</td>\n",
       "      <td>9_mxc_True_[4, 1, 2, 3, 5]_date_04-16_16-06-50...</td>\n",
       "    </tr>\n",
       "    <tr>\n",
       "      <th>602</th>\n",
       "      <td>(4, 1, 2, 3, 5)</td>\n",
       "      <td>-1</td>\n",
       "      <td>0</td>\n",
       "      <td>3.594581e+49</td>\n",
       "      <td>5</td>\n",
       "      <td>5_mxc_False_[4, 1, 2, 3, 5]_date_04-15_16-30-4...</td>\n",
       "    </tr>\n",
       "    <tr>\n",
       "      <th>604</th>\n",
       "      <td>(4, 1, 2, 3, 5)</td>\n",
       "      <td>-1</td>\n",
       "      <td>0</td>\n",
       "      <td>1.775644e+93</td>\n",
       "      <td>2</td>\n",
       "      <td>2_mxc_False_[4, 1, 2, 3, 5]_date_04-14_15-33-4...</td>\n",
       "    </tr>\n",
       "    <tr>\n",
       "      <th>363</th>\n",
       "      <td>(4, 1, 2, 3, 5)</td>\n",
       "      <td>0</td>\n",
       "      <td>0</td>\n",
       "      <td>8.989186e+03</td>\n",
       "      <td>20</td>\n",
       "      <td>20_mxc_0_[4, 1, 2, 3, 5]_date_04-21_19-08-19_x...</td>\n",
       "    </tr>\n",
       "    <tr>\n",
       "      <th>915</th>\n",
       "      <td>(4, 1, 2, 3, 5)</td>\n",
       "      <td>-1</td>\n",
       "      <td>0</td>\n",
       "      <td>1.331295e+102</td>\n",
       "      <td>16</td>\n",
       "      <td>16_mxc_-1_[4, 1, 2, 3, 5]_date_04-19_08-42-57_...</td>\n",
       "    </tr>\n",
       "    <tr>\n",
       "      <th>1035</th>\n",
       "      <td>(4, 1, 2, 3, 5)</td>\n",
       "      <td>1</td>\n",
       "      <td>11170</td>\n",
       "      <td>2.481029e+05</td>\n",
       "      <td>16</td>\n",
       "      <td>16_mxc_1_[4, 1, 2, 3, 5]_date_04-19_08-23-35_x...</td>\n",
       "    </tr>\n",
       "    <tr>\n",
       "      <th>336</th>\n",
       "      <td>(4, 1, 2, 3, 5)</td>\n",
       "      <td>1</td>\n",
       "      <td>0</td>\n",
       "      <td>3.709044e+03</td>\n",
       "      <td>23</td>\n",
       "      <td>23_mxc_1_[4, 1, 2, 3, 5]_date_04-23_23-44-03_x...</td>\n",
       "    </tr>\n",
       "    <tr>\n",
       "      <th>962</th>\n",
       "      <td>(4, 1, 2, 3, 5)</td>\n",
       "      <td>1</td>\n",
       "      <td>10943</td>\n",
       "      <td>7.789552e+05</td>\n",
       "      <td>19</td>\n",
       "      <td>19_mxc_1_[4, 1, 2, 3, 5]_date_04-21_01-11-54_x...</td>\n",
       "    </tr>\n",
       "    <tr>\n",
       "      <th>1440</th>\n",
       "      <td>(4, 1, 2, 3, 5)</td>\n",
       "      <td>0</td>\n",
       "      <td>12723</td>\n",
       "      <td>5.271931e+27</td>\n",
       "      <td>2</td>\n",
       "      <td>2_mxc_True_[4, 1, 2, 3, 5]_date_04-14_15-15-07...</td>\n",
       "    </tr>\n",
       "    <tr>\n",
       "      <th>238</th>\n",
       "      <td>(4, 1, 2, 3, 5)</td>\n",
       "      <td>1</td>\n",
       "      <td>11527</td>\n",
       "      <td>3.798887e+04</td>\n",
       "      <td>14</td>\n",
       "      <td>14_mxc_1_[4, 1, 2, 3, 5]_date_04-18_03-28-23_x...</td>\n",
       "    </tr>\n",
       "    <tr>\n",
       "      <th>393</th>\n",
       "      <td>(4, 1, 2, 3, 5)</td>\n",
       "      <td>0</td>\n",
       "      <td>0</td>\n",
       "      <td>1.787746e+05</td>\n",
       "      <td>22</td>\n",
       "      <td>22_mxc_0_[4, 1, 2, 3, 5]_date_04-23_07-12-08_x...</td>\n",
       "    </tr>\n",
       "  </tbody>\n",
       "</table>\n",
       "</div>"
      ],
      "text/plain": [
       "               values  max_count  Equals            Fit  index  \\\n",
       "1472  (4, 1, 2, 3, 5)          0       0   2.624929e+04     14   \n",
       "863   (4, 1, 2, 3, 5)         -1       0  1.307566e+126     11   \n",
       "116   (4, 1, 2, 3, 5)          0   11356  7.820336e+173      8   \n",
       "515   (4, 1, 2, 3, 5)          1      62   1.553304e+04     18   \n",
       "954   (4, 1, 2, 3, 5)          1   11765   1.385306e+05     20   \n",
       "958   (4, 1, 2, 3, 5)          0   11230   1.299495e+05     19   \n",
       "156   (4, 1, 2, 3, 5)          1       0   2.244936e+03     21   \n",
       "763   (4, 1, 2, 3, 5)          1       0   3.782427e+03     22   \n",
       "1100  (4, 1, 2, 3, 5)          0       0   4.212910e+03      9   \n",
       "602   (4, 1, 2, 3, 5)         -1       0   3.594581e+49      5   \n",
       "604   (4, 1, 2, 3, 5)         -1       0   1.775644e+93      2   \n",
       "363   (4, 1, 2, 3, 5)          0       0   8.989186e+03     20   \n",
       "915   (4, 1, 2, 3, 5)         -1       0  1.331295e+102     16   \n",
       "1035  (4, 1, 2, 3, 5)          1   11170   2.481029e+05     16   \n",
       "336   (4, 1, 2, 3, 5)          1       0   3.709044e+03     23   \n",
       "962   (4, 1, 2, 3, 5)          1   10943   7.789552e+05     19   \n",
       "1440  (4, 1, 2, 3, 5)          0   12723   5.271931e+27      2   \n",
       "238   (4, 1, 2, 3, 5)          1   11527   3.798887e+04     14   \n",
       "393   (4, 1, 2, 3, 5)          0       0   1.787746e+05     22   \n",
       "\n",
       "                                               filename  \n",
       "1472  14_mxc_0_[4, 1, 2, 3, 5]_date_04-18_03-42-57_x...  \n",
       "863   11_mxc_False_[4, 1, 2, 3, 5]_date_04-17_00-32-...  \n",
       "116   8_mxc_True_[4, 1, 2, 3, 5]_date_04-16_06-55-43...  \n",
       "515   18_mxc_1_[4, 1, 2, 3, 5]_date_04-20_05-55-51_x...  \n",
       "954   20_mxc_1_[4, 1, 2, 3, 5]_date_04-21_17-11-15_x...  \n",
       "958   19_mxc_0_[4, 1, 2, 3, 5]_date_04-21_01-28-48_x...  \n",
       "156   21_mxc_1_[4, 1, 2, 3, 5]_date_04-22_10-47-24_x...  \n",
       "763   22_mxc_1_[4, 1, 2, 3, 5]_date_04-23_06-57-24_x...  \n",
       "1100  9_mxc_True_[4, 1, 2, 3, 5]_date_04-16_16-06-50...  \n",
       "602   5_mxc_False_[4, 1, 2, 3, 5]_date_04-15_16-30-4...  \n",
       "604   2_mxc_False_[4, 1, 2, 3, 5]_date_04-14_15-33-4...  \n",
       "363   20_mxc_0_[4, 1, 2, 3, 5]_date_04-21_19-08-19_x...  \n",
       "915   16_mxc_-1_[4, 1, 2, 3, 5]_date_04-19_08-42-57_...  \n",
       "1035  16_mxc_1_[4, 1, 2, 3, 5]_date_04-19_08-23-35_x...  \n",
       "336   23_mxc_1_[4, 1, 2, 3, 5]_date_04-23_23-44-03_x...  \n",
       "962   19_mxc_1_[4, 1, 2, 3, 5]_date_04-21_01-11-54_x...  \n",
       "1440  2_mxc_True_[4, 1, 2, 3, 5]_date_04-14_15-15-07...  \n",
       "238   14_mxc_1_[4, 1, 2, 3, 5]_date_04-18_03-28-23_x...  \n",
       "393   22_mxc_0_[4, 1, 2, 3, 5]_date_04-23_07-12-08_x...  "
      ]
     },
     "execution_count": 30,
     "metadata": {},
     "output_type": "execute_result"
    }
   ],
   "source": [
    "fdf[fdf[\"values\"] == (4, 1, 2, 3, 5)]"
   ]
  },
  {
   "cell_type": "code",
   "execution_count": 31,
   "metadata": {},
   "outputs": [],
   "source": [
    "fname = fdf[fdf[\"values\"] == (4, 1, 2, 3, 5)][\"filename\"].iloc[0]"
   ]
  },
  {
   "cell_type": "code",
   "execution_count": 32,
   "metadata": {},
   "outputs": [
    {
     "data": {
      "application/vnd.plotly.v1+json": {
       "config": {
        "plotlyServerURL": "https://plot.ly"
       },
       "data": [
        {
         "mode": "lines",
         "name": "Fit",
         "type": "scatter",
         "x": [
          0,
          100,
          200,
          300,
          400,
          500,
          600,
          700,
          800,
          900,
          1000,
          1100,
          1200,
          1300,
          1400,
          1500,
          1600,
          1700,
          1800,
          1900,
          2000,
          2100,
          2200,
          2300,
          2400,
          2500,
          2600,
          2700,
          2800,
          2900,
          3000,
          3100,
          3200,
          3300,
          3400,
          3500,
          3600,
          3700,
          3800,
          3900,
          4000,
          4100,
          4200,
          4300,
          4400,
          4500,
          4600,
          4700,
          4800,
          4900,
          5000,
          5100,
          5200,
          5300,
          5400,
          5500,
          5600,
          5700,
          5800,
          5900,
          6000,
          6100,
          6200,
          6300,
          6400,
          6500,
          6600,
          6700,
          6800,
          6900,
          7000,
          7100,
          7200,
          7300,
          7400,
          7500,
          7600,
          7700,
          7800,
          7900,
          8000,
          8100,
          8200,
          8300,
          8400,
          8500,
          8600,
          8700,
          8800,
          8900,
          9000,
          9100,
          9200,
          9300,
          9400,
          9500,
          9600,
          9700,
          9800,
          9900,
          10000
         ],
         "y": [
          0,
          0.2502702,
          0.2470117,
          0.2468773,
          0.2463832,
          0.8326384,
          2.386783,
          22.56082,
          32.27998,
          38.01755,
          41.34615,
          44.95771,
          49.90608,
          58.00781,
          72.20067,
          86.72576,
          105.8545,
          123.6313,
          137.2594,
          157.613,
          170.9692,
          182.1156,
          194.4011,
          213.914,
          246.9487,
          295.9598,
          381.3087,
          463.4714,
          569.6348,
          683.5718,
          806.9821,
          930.2891,
          1151.368,
          1481.75,
          1954.414,
          2401.628,
          2731.472,
          3130.023,
          3500.029,
          3900.225,
          4344.508,
          4754.604,
          5261.459,
          5644.388,
          6032.731,
          6546.785,
          6922.697,
          7219.156,
          7723.158,
          7882.315,
          8365.835,
          8684.815,
          8796.019,
          9037.636,
          9299.656,
          9580.043,
          9686.554,
          9804.352,
          10018.6,
          10227.47,
          10219.34,
          10482.25,
          10644.01,
          10609.86,
          10791.34,
          10667.72,
          10848.76,
          10973.7,
          11064.87,
          11174.86,
          11386.65,
          11285.04,
          11560.6,
          11927.5,
          12146.65,
          12583.08,
          12894.77,
          13224.32,
          13611.66,
          14315,
          15068.51,
          15369.41,
          16198.02,
          16930.24,
          17542.31,
          18083.41,
          18991.91,
          19685.4,
          20714.34,
          21179.24,
          21791.82,
          22998.83,
          23297.44,
          23792.05,
          24329.53,
          25065.31,
          25340.32,
          25433.44,
          26177.4,
          25997.6,
          26249.29
         ]
        }
       ],
       "layout": {
        "autosize": false,
        "height": 600,
        "margin": {
         "b": 20,
         "l": 20,
         "r": 20,
         "t": 40
        },
        "template": {
         "data": {
          "bar": [
           {
            "error_x": {
             "color": "#2a3f5f"
            },
            "error_y": {
             "color": "#2a3f5f"
            },
            "marker": {
             "line": {
              "color": "#E5ECF6",
              "width": 0.5
             },
             "pattern": {
              "fillmode": "overlay",
              "size": 10,
              "solidity": 0.2
             }
            },
            "type": "bar"
           }
          ],
          "barpolar": [
           {
            "marker": {
             "line": {
              "color": "#E5ECF6",
              "width": 0.5
             },
             "pattern": {
              "fillmode": "overlay",
              "size": 10,
              "solidity": 0.2
             }
            },
            "type": "barpolar"
           }
          ],
          "carpet": [
           {
            "aaxis": {
             "endlinecolor": "#2a3f5f",
             "gridcolor": "white",
             "linecolor": "white",
             "minorgridcolor": "white",
             "startlinecolor": "#2a3f5f"
            },
            "baxis": {
             "endlinecolor": "#2a3f5f",
             "gridcolor": "white",
             "linecolor": "white",
             "minorgridcolor": "white",
             "startlinecolor": "#2a3f5f"
            },
            "type": "carpet"
           }
          ],
          "choropleth": [
           {
            "colorbar": {
             "outlinewidth": 0,
             "ticks": ""
            },
            "type": "choropleth"
           }
          ],
          "contour": [
           {
            "colorbar": {
             "outlinewidth": 0,
             "ticks": ""
            },
            "colorscale": [
             [
              0,
              "#0d0887"
             ],
             [
              0.1111111111111111,
              "#46039f"
             ],
             [
              0.2222222222222222,
              "#7201a8"
             ],
             [
              0.3333333333333333,
              "#9c179e"
             ],
             [
              0.4444444444444444,
              "#bd3786"
             ],
             [
              0.5555555555555556,
              "#d8576b"
             ],
             [
              0.6666666666666666,
              "#ed7953"
             ],
             [
              0.7777777777777778,
              "#fb9f3a"
             ],
             [
              0.8888888888888888,
              "#fdca26"
             ],
             [
              1,
              "#f0f921"
             ]
            ],
            "type": "contour"
           }
          ],
          "contourcarpet": [
           {
            "colorbar": {
             "outlinewidth": 0,
             "ticks": ""
            },
            "type": "contourcarpet"
           }
          ],
          "heatmap": [
           {
            "colorbar": {
             "outlinewidth": 0,
             "ticks": ""
            },
            "colorscale": [
             [
              0,
              "#0d0887"
             ],
             [
              0.1111111111111111,
              "#46039f"
             ],
             [
              0.2222222222222222,
              "#7201a8"
             ],
             [
              0.3333333333333333,
              "#9c179e"
             ],
             [
              0.4444444444444444,
              "#bd3786"
             ],
             [
              0.5555555555555556,
              "#d8576b"
             ],
             [
              0.6666666666666666,
              "#ed7953"
             ],
             [
              0.7777777777777778,
              "#fb9f3a"
             ],
             [
              0.8888888888888888,
              "#fdca26"
             ],
             [
              1,
              "#f0f921"
             ]
            ],
            "type": "heatmap"
           }
          ],
          "heatmapgl": [
           {
            "colorbar": {
             "outlinewidth": 0,
             "ticks": ""
            },
            "colorscale": [
             [
              0,
              "#0d0887"
             ],
             [
              0.1111111111111111,
              "#46039f"
             ],
             [
              0.2222222222222222,
              "#7201a8"
             ],
             [
              0.3333333333333333,
              "#9c179e"
             ],
             [
              0.4444444444444444,
              "#bd3786"
             ],
             [
              0.5555555555555556,
              "#d8576b"
             ],
             [
              0.6666666666666666,
              "#ed7953"
             ],
             [
              0.7777777777777778,
              "#fb9f3a"
             ],
             [
              0.8888888888888888,
              "#fdca26"
             ],
             [
              1,
              "#f0f921"
             ]
            ],
            "type": "heatmapgl"
           }
          ],
          "histogram": [
           {
            "marker": {
             "pattern": {
              "fillmode": "overlay",
              "size": 10,
              "solidity": 0.2
             }
            },
            "type": "histogram"
           }
          ],
          "histogram2d": [
           {
            "colorbar": {
             "outlinewidth": 0,
             "ticks": ""
            },
            "colorscale": [
             [
              0,
              "#0d0887"
             ],
             [
              0.1111111111111111,
              "#46039f"
             ],
             [
              0.2222222222222222,
              "#7201a8"
             ],
             [
              0.3333333333333333,
              "#9c179e"
             ],
             [
              0.4444444444444444,
              "#bd3786"
             ],
             [
              0.5555555555555556,
              "#d8576b"
             ],
             [
              0.6666666666666666,
              "#ed7953"
             ],
             [
              0.7777777777777778,
              "#fb9f3a"
             ],
             [
              0.8888888888888888,
              "#fdca26"
             ],
             [
              1,
              "#f0f921"
             ]
            ],
            "type": "histogram2d"
           }
          ],
          "histogram2dcontour": [
           {
            "colorbar": {
             "outlinewidth": 0,
             "ticks": ""
            },
            "colorscale": [
             [
              0,
              "#0d0887"
             ],
             [
              0.1111111111111111,
              "#46039f"
             ],
             [
              0.2222222222222222,
              "#7201a8"
             ],
             [
              0.3333333333333333,
              "#9c179e"
             ],
             [
              0.4444444444444444,
              "#bd3786"
             ],
             [
              0.5555555555555556,
              "#d8576b"
             ],
             [
              0.6666666666666666,
              "#ed7953"
             ],
             [
              0.7777777777777778,
              "#fb9f3a"
             ],
             [
              0.8888888888888888,
              "#fdca26"
             ],
             [
              1,
              "#f0f921"
             ]
            ],
            "type": "histogram2dcontour"
           }
          ],
          "mesh3d": [
           {
            "colorbar": {
             "outlinewidth": 0,
             "ticks": ""
            },
            "type": "mesh3d"
           }
          ],
          "parcoords": [
           {
            "line": {
             "colorbar": {
              "outlinewidth": 0,
              "ticks": ""
             }
            },
            "type": "parcoords"
           }
          ],
          "pie": [
           {
            "automargin": true,
            "type": "pie"
           }
          ],
          "scatter": [
           {
            "fillpattern": {
             "fillmode": "overlay",
             "size": 10,
             "solidity": 0.2
            },
            "type": "scatter"
           }
          ],
          "scatter3d": [
           {
            "line": {
             "colorbar": {
              "outlinewidth": 0,
              "ticks": ""
             }
            },
            "marker": {
             "colorbar": {
              "outlinewidth": 0,
              "ticks": ""
             }
            },
            "type": "scatter3d"
           }
          ],
          "scattercarpet": [
           {
            "marker": {
             "colorbar": {
              "outlinewidth": 0,
              "ticks": ""
             }
            },
            "type": "scattercarpet"
           }
          ],
          "scattergeo": [
           {
            "marker": {
             "colorbar": {
              "outlinewidth": 0,
              "ticks": ""
             }
            },
            "type": "scattergeo"
           }
          ],
          "scattergl": [
           {
            "marker": {
             "colorbar": {
              "outlinewidth": 0,
              "ticks": ""
             }
            },
            "type": "scattergl"
           }
          ],
          "scattermapbox": [
           {
            "marker": {
             "colorbar": {
              "outlinewidth": 0,
              "ticks": ""
             }
            },
            "type": "scattermapbox"
           }
          ],
          "scatterpolar": [
           {
            "marker": {
             "colorbar": {
              "outlinewidth": 0,
              "ticks": ""
             }
            },
            "type": "scatterpolar"
           }
          ],
          "scatterpolargl": [
           {
            "marker": {
             "colorbar": {
              "outlinewidth": 0,
              "ticks": ""
             }
            },
            "type": "scatterpolargl"
           }
          ],
          "scatterternary": [
           {
            "marker": {
             "colorbar": {
              "outlinewidth": 0,
              "ticks": ""
             }
            },
            "type": "scatterternary"
           }
          ],
          "surface": [
           {
            "colorbar": {
             "outlinewidth": 0,
             "ticks": ""
            },
            "colorscale": [
             [
              0,
              "#0d0887"
             ],
             [
              0.1111111111111111,
              "#46039f"
             ],
             [
              0.2222222222222222,
              "#7201a8"
             ],
             [
              0.3333333333333333,
              "#9c179e"
             ],
             [
              0.4444444444444444,
              "#bd3786"
             ],
             [
              0.5555555555555556,
              "#d8576b"
             ],
             [
              0.6666666666666666,
              "#ed7953"
             ],
             [
              0.7777777777777778,
              "#fb9f3a"
             ],
             [
              0.8888888888888888,
              "#fdca26"
             ],
             [
              1,
              "#f0f921"
             ]
            ],
            "type": "surface"
           }
          ],
          "table": [
           {
            "cells": {
             "fill": {
              "color": "#EBF0F8"
             },
             "line": {
              "color": "white"
             }
            },
            "header": {
             "fill": {
              "color": "#C8D4E3"
             },
             "line": {
              "color": "white"
             }
            },
            "type": "table"
           }
          ]
         },
         "layout": {
          "annotationdefaults": {
           "arrowcolor": "#2a3f5f",
           "arrowhead": 0,
           "arrowwidth": 1
          },
          "autotypenumbers": "strict",
          "coloraxis": {
           "colorbar": {
            "outlinewidth": 0,
            "ticks": ""
           }
          },
          "colorscale": {
           "diverging": [
            [
             0,
             "#8e0152"
            ],
            [
             0.1,
             "#c51b7d"
            ],
            [
             0.2,
             "#de77ae"
            ],
            [
             0.3,
             "#f1b6da"
            ],
            [
             0.4,
             "#fde0ef"
            ],
            [
             0.5,
             "#f7f7f7"
            ],
            [
             0.6,
             "#e6f5d0"
            ],
            [
             0.7,
             "#b8e186"
            ],
            [
             0.8,
             "#7fbc41"
            ],
            [
             0.9,
             "#4d9221"
            ],
            [
             1,
             "#276419"
            ]
           ],
           "sequential": [
            [
             0,
             "#0d0887"
            ],
            [
             0.1111111111111111,
             "#46039f"
            ],
            [
             0.2222222222222222,
             "#7201a8"
            ],
            [
             0.3333333333333333,
             "#9c179e"
            ],
            [
             0.4444444444444444,
             "#bd3786"
            ],
            [
             0.5555555555555556,
             "#d8576b"
            ],
            [
             0.6666666666666666,
             "#ed7953"
            ],
            [
             0.7777777777777778,
             "#fb9f3a"
            ],
            [
             0.8888888888888888,
             "#fdca26"
            ],
            [
             1,
             "#f0f921"
            ]
           ],
           "sequentialminus": [
            [
             0,
             "#0d0887"
            ],
            [
             0.1111111111111111,
             "#46039f"
            ],
            [
             0.2222222222222222,
             "#7201a8"
            ],
            [
             0.3333333333333333,
             "#9c179e"
            ],
            [
             0.4444444444444444,
             "#bd3786"
            ],
            [
             0.5555555555555556,
             "#d8576b"
            ],
            [
             0.6666666666666666,
             "#ed7953"
            ],
            [
             0.7777777777777778,
             "#fb9f3a"
            ],
            [
             0.8888888888888888,
             "#fdca26"
            ],
            [
             1,
             "#f0f921"
            ]
           ]
          },
          "colorway": [
           "#636efa",
           "#EF553B",
           "#00cc96",
           "#ab63fa",
           "#FFA15A",
           "#19d3f3",
           "#FF6692",
           "#B6E880",
           "#FF97FF",
           "#FECB52"
          ],
          "font": {
           "color": "#2a3f5f"
          },
          "geo": {
           "bgcolor": "white",
           "lakecolor": "white",
           "landcolor": "#E5ECF6",
           "showlakes": true,
           "showland": true,
           "subunitcolor": "white"
          },
          "hoverlabel": {
           "align": "left"
          },
          "hovermode": "closest",
          "mapbox": {
           "style": "light"
          },
          "paper_bgcolor": "white",
          "plot_bgcolor": "#E5ECF6",
          "polar": {
           "angularaxis": {
            "gridcolor": "white",
            "linecolor": "white",
            "ticks": ""
           },
           "bgcolor": "#E5ECF6",
           "radialaxis": {
            "gridcolor": "white",
            "linecolor": "white",
            "ticks": ""
           }
          },
          "scene": {
           "xaxis": {
            "backgroundcolor": "#E5ECF6",
            "gridcolor": "white",
            "gridwidth": 2,
            "linecolor": "white",
            "showbackground": true,
            "ticks": "",
            "zerolinecolor": "white"
           },
           "yaxis": {
            "backgroundcolor": "#E5ECF6",
            "gridcolor": "white",
            "gridwidth": 2,
            "linecolor": "white",
            "showbackground": true,
            "ticks": "",
            "zerolinecolor": "white"
           },
           "zaxis": {
            "backgroundcolor": "#E5ECF6",
            "gridcolor": "white",
            "gridwidth": 2,
            "linecolor": "white",
            "showbackground": true,
            "ticks": "",
            "zerolinecolor": "white"
           }
          },
          "shapedefaults": {
           "line": {
            "color": "#2a3f5f"
           }
          },
          "ternary": {
           "aaxis": {
            "gridcolor": "white",
            "linecolor": "white",
            "ticks": ""
           },
           "baxis": {
            "gridcolor": "white",
            "linecolor": "white",
            "ticks": ""
           },
           "bgcolor": "#E5ECF6",
           "caxis": {
            "gridcolor": "white",
            "linecolor": "white",
            "ticks": ""
           }
          },
          "title": {
           "x": 0.05
          },
          "xaxis": {
           "automargin": true,
           "gridcolor": "white",
           "linecolor": "white",
           "ticks": "",
           "title": {
            "standoff": 15
           },
           "zerolinecolor": "white",
           "zerolinewidth": 2
          },
          "yaxis": {
           "automargin": true,
           "gridcolor": "white",
           "linecolor": "white",
           "ticks": "",
           "title": {
            "standoff": 15
           },
           "zerolinecolor": "white",
           "zerolinewidth": 2
          }
         }
        },
        "title": {
         "text": "Average Fitness over Time"
        },
        "width": 800,
        "xaxis": {
         "title": {
          "text": "# of updates"
         }
        },
        "yaxis": {
         "title": {
          "text": "average fitness"
         },
         "type": "log"
        }
       }
      }
     },
     "metadata": {},
     "output_type": "display_data"
    }
   ],
   "source": [
    "plot_graph(file_name=dir_path + \"/\" + fname)"
   ]
  },
  {
   "cell_type": "code",
   "execution_count": 33,
   "metadata": {},
   "outputs": [],
   "source": [
    "def plot_vals(vals, max_count, log_y = True, i = 0):\n",
    "    fname = fdf[(fdf[\"values\"] == vals) & (fdf[\"max_count\"] == max_count)][\"filename\"].iloc[i]\n",
    "    plot_graph(file_name=dir_path + \"/\" + fname, title=f\"\"\"Average Fitness over Time for Reward Configuration {vals} with Max-Count {'On' if max_count else 'Off'}\"\"\", log_y=log_y)"
   ]
  },
  {
   "cell_type": "code",
   "execution_count": 34,
   "metadata": {},
   "outputs": [
    {
     "data": {
      "application/vnd.plotly.v1+json": {
       "config": {
        "plotlyServerURL": "https://plot.ly"
       },
       "data": [
        {
         "mode": "lines",
         "name": "Fit",
         "type": "scatter",
         "x": [
          0,
          100,
          200,
          300,
          400,
          500,
          600,
          700,
          800,
          900,
          1000,
          1100,
          1200,
          1300,
          1400,
          1500,
          1600,
          1700,
          1800,
          1900,
          2000,
          2100,
          2200,
          2300,
          2400,
          2500,
          2600,
          2700,
          2800,
          2900,
          3000,
          3100,
          3200,
          3300,
          3400,
          3500,
          3600,
          3700,
          3800,
          3900,
          4000,
          4100,
          4200,
          4300,
          4400,
          4500,
          4600,
          4700,
          4800,
          4900,
          5000,
          5100,
          5200,
          5300,
          5400,
          5500,
          5600,
          5700,
          5800,
          5900,
          6000,
          6100,
          6200,
          6300,
          6400,
          6500,
          6600,
          6700,
          6800,
          6900,
          7000,
          7100,
          7200,
          7300,
          7400,
          7500,
          7600,
          7700,
          7800,
          7900,
          8000,
          8100,
          8200,
          8300,
          8400,
          8500,
          8600,
          8700,
          8800,
          8900,
          9000,
          9100,
          9200,
          9300,
          9400,
          9500,
          9600,
          9700,
          9800,
          9900,
          10000
         ],
         "y": [
          0,
          0.2455222,
          0.2464349,
          0.2464522,
          0.246595,
          0.2476034,
          0.2487639,
          0.264879,
          2.90004,
          5.893011,
          7.674678,
          9.110721,
          10.49091,
          11.7092,
          12.98656,
          14.30919,
          15.48582,
          17.41849,
          18.77758,
          21.05101,
          55.73044,
          100.8935,
          146.5733,
          181.7501,
          220.7896,
          461.9801,
          799.6598,
          1089.228,
          1382.626,
          1634.532,
          1904.852,
          2088.49,
          2281.488,
          2470.478,
          2791.637,
          3252.792,
          3777.978,
          4257.723,
          4786.912,
          5257.777,
          5759.89,
          6248.259,
          6634.307,
          7057.358,
          7444.353,
          7831.695,
          8220.536,
          8502.811,
          8833.967,
          8982.273,
          9118.874,
          9271.895,
          9475.733,
          9622.151,
          9616.471,
          9687.356,
          9753.394,
          10056.88,
          10031.08,
          10171.97,
          10114.22,
          10068.62,
          10205.01,
          10278.4,
          10203.86,
          10324.2,
          10389.26,
          10467.92,
          10391.05,
          10606.24,
          10600,
          10711.88,
          10743.13,
          10724.04,
          10698.51,
          10851.17,
          10851.72,
          11128.39,
          11110.87,
          11050.97,
          11188.03,
          11232.98,
          11457.34,
          11561.43,
          11570.6,
          11542.25,
          11616.24,
          11667.45,
          11791.78,
          11733.95,
          11970.36,
          12011.57,
          12135.31,
          12092.99,
          12144.5,
          12164.62,
          12310.28,
          12538.08,
          12576.55,
          12581.25,
          12822.76
         ]
        }
       ],
       "layout": {
        "autosize": false,
        "height": 600,
        "margin": {
         "b": 20,
         "l": 20,
         "r": 20,
         "t": 40
        },
        "template": {
         "data": {
          "bar": [
           {
            "error_x": {
             "color": "#2a3f5f"
            },
            "error_y": {
             "color": "#2a3f5f"
            },
            "marker": {
             "line": {
              "color": "#E5ECF6",
              "width": 0.5
             },
             "pattern": {
              "fillmode": "overlay",
              "size": 10,
              "solidity": 0.2
             }
            },
            "type": "bar"
           }
          ],
          "barpolar": [
           {
            "marker": {
             "line": {
              "color": "#E5ECF6",
              "width": 0.5
             },
             "pattern": {
              "fillmode": "overlay",
              "size": 10,
              "solidity": 0.2
             }
            },
            "type": "barpolar"
           }
          ],
          "carpet": [
           {
            "aaxis": {
             "endlinecolor": "#2a3f5f",
             "gridcolor": "white",
             "linecolor": "white",
             "minorgridcolor": "white",
             "startlinecolor": "#2a3f5f"
            },
            "baxis": {
             "endlinecolor": "#2a3f5f",
             "gridcolor": "white",
             "linecolor": "white",
             "minorgridcolor": "white",
             "startlinecolor": "#2a3f5f"
            },
            "type": "carpet"
           }
          ],
          "choropleth": [
           {
            "colorbar": {
             "outlinewidth": 0,
             "ticks": ""
            },
            "type": "choropleth"
           }
          ],
          "contour": [
           {
            "colorbar": {
             "outlinewidth": 0,
             "ticks": ""
            },
            "colorscale": [
             [
              0,
              "#0d0887"
             ],
             [
              0.1111111111111111,
              "#46039f"
             ],
             [
              0.2222222222222222,
              "#7201a8"
             ],
             [
              0.3333333333333333,
              "#9c179e"
             ],
             [
              0.4444444444444444,
              "#bd3786"
             ],
             [
              0.5555555555555556,
              "#d8576b"
             ],
             [
              0.6666666666666666,
              "#ed7953"
             ],
             [
              0.7777777777777778,
              "#fb9f3a"
             ],
             [
              0.8888888888888888,
              "#fdca26"
             ],
             [
              1,
              "#f0f921"
             ]
            ],
            "type": "contour"
           }
          ],
          "contourcarpet": [
           {
            "colorbar": {
             "outlinewidth": 0,
             "ticks": ""
            },
            "type": "contourcarpet"
           }
          ],
          "heatmap": [
           {
            "colorbar": {
             "outlinewidth": 0,
             "ticks": ""
            },
            "colorscale": [
             [
              0,
              "#0d0887"
             ],
             [
              0.1111111111111111,
              "#46039f"
             ],
             [
              0.2222222222222222,
              "#7201a8"
             ],
             [
              0.3333333333333333,
              "#9c179e"
             ],
             [
              0.4444444444444444,
              "#bd3786"
             ],
             [
              0.5555555555555556,
              "#d8576b"
             ],
             [
              0.6666666666666666,
              "#ed7953"
             ],
             [
              0.7777777777777778,
              "#fb9f3a"
             ],
             [
              0.8888888888888888,
              "#fdca26"
             ],
             [
              1,
              "#f0f921"
             ]
            ],
            "type": "heatmap"
           }
          ],
          "heatmapgl": [
           {
            "colorbar": {
             "outlinewidth": 0,
             "ticks": ""
            },
            "colorscale": [
             [
              0,
              "#0d0887"
             ],
             [
              0.1111111111111111,
              "#46039f"
             ],
             [
              0.2222222222222222,
              "#7201a8"
             ],
             [
              0.3333333333333333,
              "#9c179e"
             ],
             [
              0.4444444444444444,
              "#bd3786"
             ],
             [
              0.5555555555555556,
              "#d8576b"
             ],
             [
              0.6666666666666666,
              "#ed7953"
             ],
             [
              0.7777777777777778,
              "#fb9f3a"
             ],
             [
              0.8888888888888888,
              "#fdca26"
             ],
             [
              1,
              "#f0f921"
             ]
            ],
            "type": "heatmapgl"
           }
          ],
          "histogram": [
           {
            "marker": {
             "pattern": {
              "fillmode": "overlay",
              "size": 10,
              "solidity": 0.2
             }
            },
            "type": "histogram"
           }
          ],
          "histogram2d": [
           {
            "colorbar": {
             "outlinewidth": 0,
             "ticks": ""
            },
            "colorscale": [
             [
              0,
              "#0d0887"
             ],
             [
              0.1111111111111111,
              "#46039f"
             ],
             [
              0.2222222222222222,
              "#7201a8"
             ],
             [
              0.3333333333333333,
              "#9c179e"
             ],
             [
              0.4444444444444444,
              "#bd3786"
             ],
             [
              0.5555555555555556,
              "#d8576b"
             ],
             [
              0.6666666666666666,
              "#ed7953"
             ],
             [
              0.7777777777777778,
              "#fb9f3a"
             ],
             [
              0.8888888888888888,
              "#fdca26"
             ],
             [
              1,
              "#f0f921"
             ]
            ],
            "type": "histogram2d"
           }
          ],
          "histogram2dcontour": [
           {
            "colorbar": {
             "outlinewidth": 0,
             "ticks": ""
            },
            "colorscale": [
             [
              0,
              "#0d0887"
             ],
             [
              0.1111111111111111,
              "#46039f"
             ],
             [
              0.2222222222222222,
              "#7201a8"
             ],
             [
              0.3333333333333333,
              "#9c179e"
             ],
             [
              0.4444444444444444,
              "#bd3786"
             ],
             [
              0.5555555555555556,
              "#d8576b"
             ],
             [
              0.6666666666666666,
              "#ed7953"
             ],
             [
              0.7777777777777778,
              "#fb9f3a"
             ],
             [
              0.8888888888888888,
              "#fdca26"
             ],
             [
              1,
              "#f0f921"
             ]
            ],
            "type": "histogram2dcontour"
           }
          ],
          "mesh3d": [
           {
            "colorbar": {
             "outlinewidth": 0,
             "ticks": ""
            },
            "type": "mesh3d"
           }
          ],
          "parcoords": [
           {
            "line": {
             "colorbar": {
              "outlinewidth": 0,
              "ticks": ""
             }
            },
            "type": "parcoords"
           }
          ],
          "pie": [
           {
            "automargin": true,
            "type": "pie"
           }
          ],
          "scatter": [
           {
            "fillpattern": {
             "fillmode": "overlay",
             "size": 10,
             "solidity": 0.2
            },
            "type": "scatter"
           }
          ],
          "scatter3d": [
           {
            "line": {
             "colorbar": {
              "outlinewidth": 0,
              "ticks": ""
             }
            },
            "marker": {
             "colorbar": {
              "outlinewidth": 0,
              "ticks": ""
             }
            },
            "type": "scatter3d"
           }
          ],
          "scattercarpet": [
           {
            "marker": {
             "colorbar": {
              "outlinewidth": 0,
              "ticks": ""
             }
            },
            "type": "scattercarpet"
           }
          ],
          "scattergeo": [
           {
            "marker": {
             "colorbar": {
              "outlinewidth": 0,
              "ticks": ""
             }
            },
            "type": "scattergeo"
           }
          ],
          "scattergl": [
           {
            "marker": {
             "colorbar": {
              "outlinewidth": 0,
              "ticks": ""
             }
            },
            "type": "scattergl"
           }
          ],
          "scattermapbox": [
           {
            "marker": {
             "colorbar": {
              "outlinewidth": 0,
              "ticks": ""
             }
            },
            "type": "scattermapbox"
           }
          ],
          "scatterpolar": [
           {
            "marker": {
             "colorbar": {
              "outlinewidth": 0,
              "ticks": ""
             }
            },
            "type": "scatterpolar"
           }
          ],
          "scatterpolargl": [
           {
            "marker": {
             "colorbar": {
              "outlinewidth": 0,
              "ticks": ""
             }
            },
            "type": "scatterpolargl"
           }
          ],
          "scatterternary": [
           {
            "marker": {
             "colorbar": {
              "outlinewidth": 0,
              "ticks": ""
             }
            },
            "type": "scatterternary"
           }
          ],
          "surface": [
           {
            "colorbar": {
             "outlinewidth": 0,
             "ticks": ""
            },
            "colorscale": [
             [
              0,
              "#0d0887"
             ],
             [
              0.1111111111111111,
              "#46039f"
             ],
             [
              0.2222222222222222,
              "#7201a8"
             ],
             [
              0.3333333333333333,
              "#9c179e"
             ],
             [
              0.4444444444444444,
              "#bd3786"
             ],
             [
              0.5555555555555556,
              "#d8576b"
             ],
             [
              0.6666666666666666,
              "#ed7953"
             ],
             [
              0.7777777777777778,
              "#fb9f3a"
             ],
             [
              0.8888888888888888,
              "#fdca26"
             ],
             [
              1,
              "#f0f921"
             ]
            ],
            "type": "surface"
           }
          ],
          "table": [
           {
            "cells": {
             "fill": {
              "color": "#EBF0F8"
             },
             "line": {
              "color": "white"
             }
            },
            "header": {
             "fill": {
              "color": "#C8D4E3"
             },
             "line": {
              "color": "white"
             }
            },
            "type": "table"
           }
          ]
         },
         "layout": {
          "annotationdefaults": {
           "arrowcolor": "#2a3f5f",
           "arrowhead": 0,
           "arrowwidth": 1
          },
          "autotypenumbers": "strict",
          "coloraxis": {
           "colorbar": {
            "outlinewidth": 0,
            "ticks": ""
           }
          },
          "colorscale": {
           "diverging": [
            [
             0,
             "#8e0152"
            ],
            [
             0.1,
             "#c51b7d"
            ],
            [
             0.2,
             "#de77ae"
            ],
            [
             0.3,
             "#f1b6da"
            ],
            [
             0.4,
             "#fde0ef"
            ],
            [
             0.5,
             "#f7f7f7"
            ],
            [
             0.6,
             "#e6f5d0"
            ],
            [
             0.7,
             "#b8e186"
            ],
            [
             0.8,
             "#7fbc41"
            ],
            [
             0.9,
             "#4d9221"
            ],
            [
             1,
             "#276419"
            ]
           ],
           "sequential": [
            [
             0,
             "#0d0887"
            ],
            [
             0.1111111111111111,
             "#46039f"
            ],
            [
             0.2222222222222222,
             "#7201a8"
            ],
            [
             0.3333333333333333,
             "#9c179e"
            ],
            [
             0.4444444444444444,
             "#bd3786"
            ],
            [
             0.5555555555555556,
             "#d8576b"
            ],
            [
             0.6666666666666666,
             "#ed7953"
            ],
            [
             0.7777777777777778,
             "#fb9f3a"
            ],
            [
             0.8888888888888888,
             "#fdca26"
            ],
            [
             1,
             "#f0f921"
            ]
           ],
           "sequentialminus": [
            [
             0,
             "#0d0887"
            ],
            [
             0.1111111111111111,
             "#46039f"
            ],
            [
             0.2222222222222222,
             "#7201a8"
            ],
            [
             0.3333333333333333,
             "#9c179e"
            ],
            [
             0.4444444444444444,
             "#bd3786"
            ],
            [
             0.5555555555555556,
             "#d8576b"
            ],
            [
             0.6666666666666666,
             "#ed7953"
            ],
            [
             0.7777777777777778,
             "#fb9f3a"
            ],
            [
             0.8888888888888888,
             "#fdca26"
            ],
            [
             1,
             "#f0f921"
            ]
           ]
          },
          "colorway": [
           "#636efa",
           "#EF553B",
           "#00cc96",
           "#ab63fa",
           "#FFA15A",
           "#19d3f3",
           "#FF6692",
           "#B6E880",
           "#FF97FF",
           "#FECB52"
          ],
          "font": {
           "color": "#2a3f5f"
          },
          "geo": {
           "bgcolor": "white",
           "lakecolor": "white",
           "landcolor": "#E5ECF6",
           "showlakes": true,
           "showland": true,
           "subunitcolor": "white"
          },
          "hoverlabel": {
           "align": "left"
          },
          "hovermode": "closest",
          "mapbox": {
           "style": "light"
          },
          "paper_bgcolor": "white",
          "plot_bgcolor": "#E5ECF6",
          "polar": {
           "angularaxis": {
            "gridcolor": "white",
            "linecolor": "white",
            "ticks": ""
           },
           "bgcolor": "#E5ECF6",
           "radialaxis": {
            "gridcolor": "white",
            "linecolor": "white",
            "ticks": ""
           }
          },
          "scene": {
           "xaxis": {
            "backgroundcolor": "#E5ECF6",
            "gridcolor": "white",
            "gridwidth": 2,
            "linecolor": "white",
            "showbackground": true,
            "ticks": "",
            "zerolinecolor": "white"
           },
           "yaxis": {
            "backgroundcolor": "#E5ECF6",
            "gridcolor": "white",
            "gridwidth": 2,
            "linecolor": "white",
            "showbackground": true,
            "ticks": "",
            "zerolinecolor": "white"
           },
           "zaxis": {
            "backgroundcolor": "#E5ECF6",
            "gridcolor": "white",
            "gridwidth": 2,
            "linecolor": "white",
            "showbackground": true,
            "ticks": "",
            "zerolinecolor": "white"
           }
          },
          "shapedefaults": {
           "line": {
            "color": "#2a3f5f"
           }
          },
          "ternary": {
           "aaxis": {
            "gridcolor": "white",
            "linecolor": "white",
            "ticks": ""
           },
           "baxis": {
            "gridcolor": "white",
            "linecolor": "white",
            "ticks": ""
           },
           "bgcolor": "#E5ECF6",
           "caxis": {
            "gridcolor": "white",
            "linecolor": "white",
            "ticks": ""
           }
          },
          "title": {
           "x": 0.05
          },
          "xaxis": {
           "automargin": true,
           "gridcolor": "white",
           "linecolor": "white",
           "ticks": "",
           "title": {
            "standoff": 15
           },
           "zerolinecolor": "white",
           "zerolinewidth": 2
          },
          "yaxis": {
           "automargin": true,
           "gridcolor": "white",
           "linecolor": "white",
           "ticks": "",
           "title": {
            "standoff": 15
           },
           "zerolinecolor": "white",
           "zerolinewidth": 2
          }
         }
        },
        "title": {
         "text": "Average Fitness over Time for Reward Configuration (1, 2, 3, 4, 5) with Max-Count On"
        },
        "width": 800,
        "xaxis": {
         "title": {
          "text": "# of updates"
         }
        },
        "yaxis": {
         "title": {
          "text": "average fitness"
         },
         "type": "log"
        }
       }
      }
     },
     "metadata": {},
     "output_type": "display_data"
    }
   ],
   "source": [
    "plot_vals((1, 2, 3, 4, 5), max_count=True, i=2)"
   ]
  },
  {
   "cell_type": "code",
   "execution_count": 35,
   "metadata": {},
   "outputs": [
    {
     "data": {
      "application/vnd.plotly.v1+json": {
       "config": {
        "plotlyServerURL": "https://plot.ly"
       },
       "data": [
        {
         "mode": "lines",
         "name": "Fit",
         "type": "scatter",
         "x": [
          0,
          100,
          200,
          300,
          400,
          500,
          600,
          700,
          800,
          900,
          1000,
          1100,
          1200,
          1300,
          1400,
          1500,
          1600,
          1700,
          1800,
          1900,
          2000,
          2100,
          2200,
          2300,
          2400,
          2500,
          2600,
          2700,
          2800,
          2900,
          3000,
          3100,
          3200,
          3300,
          3400,
          3500,
          3600,
          3700,
          3800,
          3900,
          4000,
          4100,
          4200,
          4300,
          4400,
          4500,
          4600,
          4700,
          4800,
          4900,
          5000,
          5100,
          5200,
          5300,
          5400,
          5500,
          5600,
          5700,
          5800,
          5900,
          6000,
          6100,
          6200,
          6300,
          6400,
          6500,
          6600,
          6700,
          6800,
          6900,
          7000,
          7100,
          7200,
          7300,
          7400,
          7500,
          7600,
          7700,
          7800,
          7900,
          8000,
          8100,
          8200,
          8300,
          8400,
          8500,
          8600,
          8700,
          8800,
          8900,
          9000,
          9100,
          9200,
          9300,
          9400,
          9500,
          9600,
          9700,
          9800,
          9900,
          10000
         ],
         "y": [
          0,
          0.2496427,
          0.2447916,
          0.2449136,
          0.2445549,
          0.2463257,
          0.2482061,
          0.2538598,
          0.2611179,
          0.2707637,
          0.2908124,
          0.426204,
          10.41073,
          51.55853,
          112.115,
          172.145,
          228.3284,
          276.3035,
          321.4429,
          346.1747,
          385.2039,
          400.7753,
          416.0609,
          422.2342,
          451.2547,
          746.9072,
          1121.045,
          1532.603,
          1916.608,
          2233.014,
          2601.936,
          2881.585,
          3134.884,
          3336.782,
          3448.783,
          3576.475,
          3555.049,
          3656.687,
          3732.691,
          3691.486,
          3765.729,
          3701.137,
          3735.79,
          3782.946,
          3766.673,
          3771.872,
          3756.145,
          3769.385,
          3734.957,
          3746.657,
          3833.893,
          3764.873,
          3797.752,
          3862.174,
          3820.559,
          3803.115,
          3845.533,
          3876.87,
          3906.031,
          3832.13,
          3939.024,
          3937.151,
          3895.075,
          3929.862,
          3947.554,
          4058.152,
          4060.331,
          4078.305,
          4049.197,
          4109.109,
          4145.884,
          4174.128,
          4096.563,
          4131.506,
          4189.316,
          4190.288,
          4265.869,
          4229.609,
          4318.22,
          4351.159,
          4325.372,
          4254.422,
          4355.96,
          4309.581,
          4401.509,
          4358.159,
          4344.318,
          4346.254,
          4357.446,
          4457.999,
          4355.133,
          4433.555,
          4420.039,
          4402.993,
          4408.429,
          4413.586,
          4459.739,
          4461.128,
          4444.66,
          4435.269,
          4387.937
         ]
        }
       ],
       "layout": {
        "autosize": false,
        "height": 600,
        "margin": {
         "b": 20,
         "l": 20,
         "r": 20,
         "t": 40
        },
        "template": {
         "data": {
          "bar": [
           {
            "error_x": {
             "color": "#2a3f5f"
            },
            "error_y": {
             "color": "#2a3f5f"
            },
            "marker": {
             "line": {
              "color": "#E5ECF6",
              "width": 0.5
             },
             "pattern": {
              "fillmode": "overlay",
              "size": 10,
              "solidity": 0.2
             }
            },
            "type": "bar"
           }
          ],
          "barpolar": [
           {
            "marker": {
             "line": {
              "color": "#E5ECF6",
              "width": 0.5
             },
             "pattern": {
              "fillmode": "overlay",
              "size": 10,
              "solidity": 0.2
             }
            },
            "type": "barpolar"
           }
          ],
          "carpet": [
           {
            "aaxis": {
             "endlinecolor": "#2a3f5f",
             "gridcolor": "white",
             "linecolor": "white",
             "minorgridcolor": "white",
             "startlinecolor": "#2a3f5f"
            },
            "baxis": {
             "endlinecolor": "#2a3f5f",
             "gridcolor": "white",
             "linecolor": "white",
             "minorgridcolor": "white",
             "startlinecolor": "#2a3f5f"
            },
            "type": "carpet"
           }
          ],
          "choropleth": [
           {
            "colorbar": {
             "outlinewidth": 0,
             "ticks": ""
            },
            "type": "choropleth"
           }
          ],
          "contour": [
           {
            "colorbar": {
             "outlinewidth": 0,
             "ticks": ""
            },
            "colorscale": [
             [
              0,
              "#0d0887"
             ],
             [
              0.1111111111111111,
              "#46039f"
             ],
             [
              0.2222222222222222,
              "#7201a8"
             ],
             [
              0.3333333333333333,
              "#9c179e"
             ],
             [
              0.4444444444444444,
              "#bd3786"
             ],
             [
              0.5555555555555556,
              "#d8576b"
             ],
             [
              0.6666666666666666,
              "#ed7953"
             ],
             [
              0.7777777777777778,
              "#fb9f3a"
             ],
             [
              0.8888888888888888,
              "#fdca26"
             ],
             [
              1,
              "#f0f921"
             ]
            ],
            "type": "contour"
           }
          ],
          "contourcarpet": [
           {
            "colorbar": {
             "outlinewidth": 0,
             "ticks": ""
            },
            "type": "contourcarpet"
           }
          ],
          "heatmap": [
           {
            "colorbar": {
             "outlinewidth": 0,
             "ticks": ""
            },
            "colorscale": [
             [
              0,
              "#0d0887"
             ],
             [
              0.1111111111111111,
              "#46039f"
             ],
             [
              0.2222222222222222,
              "#7201a8"
             ],
             [
              0.3333333333333333,
              "#9c179e"
             ],
             [
              0.4444444444444444,
              "#bd3786"
             ],
             [
              0.5555555555555556,
              "#d8576b"
             ],
             [
              0.6666666666666666,
              "#ed7953"
             ],
             [
              0.7777777777777778,
              "#fb9f3a"
             ],
             [
              0.8888888888888888,
              "#fdca26"
             ],
             [
              1,
              "#f0f921"
             ]
            ],
            "type": "heatmap"
           }
          ],
          "heatmapgl": [
           {
            "colorbar": {
             "outlinewidth": 0,
             "ticks": ""
            },
            "colorscale": [
             [
              0,
              "#0d0887"
             ],
             [
              0.1111111111111111,
              "#46039f"
             ],
             [
              0.2222222222222222,
              "#7201a8"
             ],
             [
              0.3333333333333333,
              "#9c179e"
             ],
             [
              0.4444444444444444,
              "#bd3786"
             ],
             [
              0.5555555555555556,
              "#d8576b"
             ],
             [
              0.6666666666666666,
              "#ed7953"
             ],
             [
              0.7777777777777778,
              "#fb9f3a"
             ],
             [
              0.8888888888888888,
              "#fdca26"
             ],
             [
              1,
              "#f0f921"
             ]
            ],
            "type": "heatmapgl"
           }
          ],
          "histogram": [
           {
            "marker": {
             "pattern": {
              "fillmode": "overlay",
              "size": 10,
              "solidity": 0.2
             }
            },
            "type": "histogram"
           }
          ],
          "histogram2d": [
           {
            "colorbar": {
             "outlinewidth": 0,
             "ticks": ""
            },
            "colorscale": [
             [
              0,
              "#0d0887"
             ],
             [
              0.1111111111111111,
              "#46039f"
             ],
             [
              0.2222222222222222,
              "#7201a8"
             ],
             [
              0.3333333333333333,
              "#9c179e"
             ],
             [
              0.4444444444444444,
              "#bd3786"
             ],
             [
              0.5555555555555556,
              "#d8576b"
             ],
             [
              0.6666666666666666,
              "#ed7953"
             ],
             [
              0.7777777777777778,
              "#fb9f3a"
             ],
             [
              0.8888888888888888,
              "#fdca26"
             ],
             [
              1,
              "#f0f921"
             ]
            ],
            "type": "histogram2d"
           }
          ],
          "histogram2dcontour": [
           {
            "colorbar": {
             "outlinewidth": 0,
             "ticks": ""
            },
            "colorscale": [
             [
              0,
              "#0d0887"
             ],
             [
              0.1111111111111111,
              "#46039f"
             ],
             [
              0.2222222222222222,
              "#7201a8"
             ],
             [
              0.3333333333333333,
              "#9c179e"
             ],
             [
              0.4444444444444444,
              "#bd3786"
             ],
             [
              0.5555555555555556,
              "#d8576b"
             ],
             [
              0.6666666666666666,
              "#ed7953"
             ],
             [
              0.7777777777777778,
              "#fb9f3a"
             ],
             [
              0.8888888888888888,
              "#fdca26"
             ],
             [
              1,
              "#f0f921"
             ]
            ],
            "type": "histogram2dcontour"
           }
          ],
          "mesh3d": [
           {
            "colorbar": {
             "outlinewidth": 0,
             "ticks": ""
            },
            "type": "mesh3d"
           }
          ],
          "parcoords": [
           {
            "line": {
             "colorbar": {
              "outlinewidth": 0,
              "ticks": ""
             }
            },
            "type": "parcoords"
           }
          ],
          "pie": [
           {
            "automargin": true,
            "type": "pie"
           }
          ],
          "scatter": [
           {
            "fillpattern": {
             "fillmode": "overlay",
             "size": 10,
             "solidity": 0.2
            },
            "type": "scatter"
           }
          ],
          "scatter3d": [
           {
            "line": {
             "colorbar": {
              "outlinewidth": 0,
              "ticks": ""
             }
            },
            "marker": {
             "colorbar": {
              "outlinewidth": 0,
              "ticks": ""
             }
            },
            "type": "scatter3d"
           }
          ],
          "scattercarpet": [
           {
            "marker": {
             "colorbar": {
              "outlinewidth": 0,
              "ticks": ""
             }
            },
            "type": "scattercarpet"
           }
          ],
          "scattergeo": [
           {
            "marker": {
             "colorbar": {
              "outlinewidth": 0,
              "ticks": ""
             }
            },
            "type": "scattergeo"
           }
          ],
          "scattergl": [
           {
            "marker": {
             "colorbar": {
              "outlinewidth": 0,
              "ticks": ""
             }
            },
            "type": "scattergl"
           }
          ],
          "scattermapbox": [
           {
            "marker": {
             "colorbar": {
              "outlinewidth": 0,
              "ticks": ""
             }
            },
            "type": "scattermapbox"
           }
          ],
          "scatterpolar": [
           {
            "marker": {
             "colorbar": {
              "outlinewidth": 0,
              "ticks": ""
             }
            },
            "type": "scatterpolar"
           }
          ],
          "scatterpolargl": [
           {
            "marker": {
             "colorbar": {
              "outlinewidth": 0,
              "ticks": ""
             }
            },
            "type": "scatterpolargl"
           }
          ],
          "scatterternary": [
           {
            "marker": {
             "colorbar": {
              "outlinewidth": 0,
              "ticks": ""
             }
            },
            "type": "scatterternary"
           }
          ],
          "surface": [
           {
            "colorbar": {
             "outlinewidth": 0,
             "ticks": ""
            },
            "colorscale": [
             [
              0,
              "#0d0887"
             ],
             [
              0.1111111111111111,
              "#46039f"
             ],
             [
              0.2222222222222222,
              "#7201a8"
             ],
             [
              0.3333333333333333,
              "#9c179e"
             ],
             [
              0.4444444444444444,
              "#bd3786"
             ],
             [
              0.5555555555555556,
              "#d8576b"
             ],
             [
              0.6666666666666666,
              "#ed7953"
             ],
             [
              0.7777777777777778,
              "#fb9f3a"
             ],
             [
              0.8888888888888888,
              "#fdca26"
             ],
             [
              1,
              "#f0f921"
             ]
            ],
            "type": "surface"
           }
          ],
          "table": [
           {
            "cells": {
             "fill": {
              "color": "#EBF0F8"
             },
             "line": {
              "color": "white"
             }
            },
            "header": {
             "fill": {
              "color": "#C8D4E3"
             },
             "line": {
              "color": "white"
             }
            },
            "type": "table"
           }
          ]
         },
         "layout": {
          "annotationdefaults": {
           "arrowcolor": "#2a3f5f",
           "arrowhead": 0,
           "arrowwidth": 1
          },
          "autotypenumbers": "strict",
          "coloraxis": {
           "colorbar": {
            "outlinewidth": 0,
            "ticks": ""
           }
          },
          "colorscale": {
           "diverging": [
            [
             0,
             "#8e0152"
            ],
            [
             0.1,
             "#c51b7d"
            ],
            [
             0.2,
             "#de77ae"
            ],
            [
             0.3,
             "#f1b6da"
            ],
            [
             0.4,
             "#fde0ef"
            ],
            [
             0.5,
             "#f7f7f7"
            ],
            [
             0.6,
             "#e6f5d0"
            ],
            [
             0.7,
             "#b8e186"
            ],
            [
             0.8,
             "#7fbc41"
            ],
            [
             0.9,
             "#4d9221"
            ],
            [
             1,
             "#276419"
            ]
           ],
           "sequential": [
            [
             0,
             "#0d0887"
            ],
            [
             0.1111111111111111,
             "#46039f"
            ],
            [
             0.2222222222222222,
             "#7201a8"
            ],
            [
             0.3333333333333333,
             "#9c179e"
            ],
            [
             0.4444444444444444,
             "#bd3786"
            ],
            [
             0.5555555555555556,
             "#d8576b"
            ],
            [
             0.6666666666666666,
             "#ed7953"
            ],
            [
             0.7777777777777778,
             "#fb9f3a"
            ],
            [
             0.8888888888888888,
             "#fdca26"
            ],
            [
             1,
             "#f0f921"
            ]
           ],
           "sequentialminus": [
            [
             0,
             "#0d0887"
            ],
            [
             0.1111111111111111,
             "#46039f"
            ],
            [
             0.2222222222222222,
             "#7201a8"
            ],
            [
             0.3333333333333333,
             "#9c179e"
            ],
            [
             0.4444444444444444,
             "#bd3786"
            ],
            [
             0.5555555555555556,
             "#d8576b"
            ],
            [
             0.6666666666666666,
             "#ed7953"
            ],
            [
             0.7777777777777778,
             "#fb9f3a"
            ],
            [
             0.8888888888888888,
             "#fdca26"
            ],
            [
             1,
             "#f0f921"
            ]
           ]
          },
          "colorway": [
           "#636efa",
           "#EF553B",
           "#00cc96",
           "#ab63fa",
           "#FFA15A",
           "#19d3f3",
           "#FF6692",
           "#B6E880",
           "#FF97FF",
           "#FECB52"
          ],
          "font": {
           "color": "#2a3f5f"
          },
          "geo": {
           "bgcolor": "white",
           "lakecolor": "white",
           "landcolor": "#E5ECF6",
           "showlakes": true,
           "showland": true,
           "subunitcolor": "white"
          },
          "hoverlabel": {
           "align": "left"
          },
          "hovermode": "closest",
          "mapbox": {
           "style": "light"
          },
          "paper_bgcolor": "white",
          "plot_bgcolor": "#E5ECF6",
          "polar": {
           "angularaxis": {
            "gridcolor": "white",
            "linecolor": "white",
            "ticks": ""
           },
           "bgcolor": "#E5ECF6",
           "radialaxis": {
            "gridcolor": "white",
            "linecolor": "white",
            "ticks": ""
           }
          },
          "scene": {
           "xaxis": {
            "backgroundcolor": "#E5ECF6",
            "gridcolor": "white",
            "gridwidth": 2,
            "linecolor": "white",
            "showbackground": true,
            "ticks": "",
            "zerolinecolor": "white"
           },
           "yaxis": {
            "backgroundcolor": "#E5ECF6",
            "gridcolor": "white",
            "gridwidth": 2,
            "linecolor": "white",
            "showbackground": true,
            "ticks": "",
            "zerolinecolor": "white"
           },
           "zaxis": {
            "backgroundcolor": "#E5ECF6",
            "gridcolor": "white",
            "gridwidth": 2,
            "linecolor": "white",
            "showbackground": true,
            "ticks": "",
            "zerolinecolor": "white"
           }
          },
          "shapedefaults": {
           "line": {
            "color": "#2a3f5f"
           }
          },
          "ternary": {
           "aaxis": {
            "gridcolor": "white",
            "linecolor": "white",
            "ticks": ""
           },
           "baxis": {
            "gridcolor": "white",
            "linecolor": "white",
            "ticks": ""
           },
           "bgcolor": "#E5ECF6",
           "caxis": {
            "gridcolor": "white",
            "linecolor": "white",
            "ticks": ""
           }
          },
          "title": {
           "x": 0.05
          },
          "xaxis": {
           "automargin": true,
           "gridcolor": "white",
           "linecolor": "white",
           "ticks": "",
           "title": {
            "standoff": 15
           },
           "zerolinecolor": "white",
           "zerolinewidth": 2
          },
          "yaxis": {
           "automargin": true,
           "gridcolor": "white",
           "linecolor": "white",
           "ticks": "",
           "title": {
            "standoff": 15
           },
           "zerolinecolor": "white",
           "zerolinewidth": 2
          }
         }
        },
        "title": {
         "text": "Average Fitness over Time for Reward Configuration (1, 2, 3, 4, 5) with Max-Count Off"
        },
        "width": 800,
        "xaxis": {
         "title": {
          "text": "# of updates"
         }
        },
        "yaxis": {
         "title": {
          "text": "average fitness"
         },
         "type": "log"
        }
       }
      }
     },
     "metadata": {},
     "output_type": "display_data"
    }
   ],
   "source": [
    "plot_vals((1, 2, 3, 4, 5), max_count=False, i=2)"
   ]
  },
  {
   "cell_type": "code",
   "execution_count": 36,
   "metadata": {},
   "outputs": [
    {
     "data": {
      "application/vnd.plotly.v1+json": {
       "config": {
        "plotlyServerURL": "https://plot.ly"
       },
       "data": [
        {
         "mode": "lines",
         "name": "Fit",
         "type": "scatter",
         "x": [
          0,
          100,
          200,
          300,
          400,
          500,
          600,
          700,
          800,
          900,
          1000,
          1100,
          1200,
          1300,
          1400,
          1500,
          1600,
          1700,
          1800,
          1900,
          2000,
          2100,
          2200,
          2300,
          2400,
          2500,
          2600,
          2700,
          2800,
          2900,
          3000,
          3100,
          3200,
          3300,
          3400,
          3500,
          3600,
          3700,
          3800,
          3900,
          4000,
          4100,
          4200,
          4300,
          4400,
          4500,
          4600,
          4700,
          4800,
          4900,
          5000,
          5100,
          5200,
          5300,
          5400,
          5500,
          5600,
          5700,
          5800,
          5900,
          6000,
          6100,
          6200,
          6300,
          6400,
          6500,
          6600,
          6700,
          6800,
          6900,
          7000,
          7100,
          7200,
          7300,
          7400,
          7500,
          7600,
          7700,
          7800,
          7900,
          8000,
          8100,
          8200,
          8300,
          8400,
          8500,
          8600,
          8700,
          8800,
          8900,
          9000,
          9100,
          9200,
          9300,
          9400,
          9500,
          9600,
          9700,
          9800,
          9900,
          10000
         ],
         "y": [
          0,
          0.2431785,
          0.2401934,
          0.2424824,
          0.2441111,
          0.2458437,
          0.2872673,
          20.28487,
          736.0468,
          1418.032,
          1797.307,
          2099.69,
          2299.538,
          2485.11,
          2937.773,
          3678.074,
          4545.858,
          5461.569,
          6312.751,
          7404.461,
          8191.286,
          9170.205,
          9894.293,
          10390.67,
          11010.13,
          11476.81,
          11712.16,
          12009.04,
          12406.76,
          12652.69,
          12730.87,
          12812.19,
          12908.59,
          13266.56,
          13205.36,
          13276.34,
          13677.78,
          13840.3,
          13807.5,
          14037.45,
          14243.55,
          14493.36,
          14712.03,
          14774.45,
          14885.51,
          15231.35,
          15383.86,
          15377.59,
          15377.2,
          15589.84,
          15804.26,
          15940.42,
          15973.2,
          16273.85,
          16495.15,
          16259.62,
          16431.12,
          16770.3,
          16340.37,
          16556.07,
          16535.91,
          16963.89,
          16844.27,
          16890.13,
          17064.14,
          16737.49,
          16952.52,
          16794.95,
          17071.09,
          17419.84,
          17770.01,
          18578.85,
          19382.43,
          20239.05,
          21333.82,
          22946.6,
          24170.9,
          25760.47,
          26696.73,
          28294.3,
          29493.93,
          31234.45,
          32469.99,
          33097.93,
          34342.64,
          35818.03,
          36463.87,
          37209.26,
          37206.32,
          37188.11,
          37445.98,
          37190.01,
          37835.07,
          37889.44,
          38312.23,
          37746.92,
          37694.13,
          37859.92,
          38054.63,
          38289.5,
          37590.22
         ]
        }
       ],
       "layout": {
        "autosize": false,
        "height": 600,
        "margin": {
         "b": 20,
         "l": 20,
         "r": 20,
         "t": 40
        },
        "template": {
         "data": {
          "bar": [
           {
            "error_x": {
             "color": "#2a3f5f"
            },
            "error_y": {
             "color": "#2a3f5f"
            },
            "marker": {
             "line": {
              "color": "#E5ECF6",
              "width": 0.5
             },
             "pattern": {
              "fillmode": "overlay",
              "size": 10,
              "solidity": 0.2
             }
            },
            "type": "bar"
           }
          ],
          "barpolar": [
           {
            "marker": {
             "line": {
              "color": "#E5ECF6",
              "width": 0.5
             },
             "pattern": {
              "fillmode": "overlay",
              "size": 10,
              "solidity": 0.2
             }
            },
            "type": "barpolar"
           }
          ],
          "carpet": [
           {
            "aaxis": {
             "endlinecolor": "#2a3f5f",
             "gridcolor": "white",
             "linecolor": "white",
             "minorgridcolor": "white",
             "startlinecolor": "#2a3f5f"
            },
            "baxis": {
             "endlinecolor": "#2a3f5f",
             "gridcolor": "white",
             "linecolor": "white",
             "minorgridcolor": "white",
             "startlinecolor": "#2a3f5f"
            },
            "type": "carpet"
           }
          ],
          "choropleth": [
           {
            "colorbar": {
             "outlinewidth": 0,
             "ticks": ""
            },
            "type": "choropleth"
           }
          ],
          "contour": [
           {
            "colorbar": {
             "outlinewidth": 0,
             "ticks": ""
            },
            "colorscale": [
             [
              0,
              "#0d0887"
             ],
             [
              0.1111111111111111,
              "#46039f"
             ],
             [
              0.2222222222222222,
              "#7201a8"
             ],
             [
              0.3333333333333333,
              "#9c179e"
             ],
             [
              0.4444444444444444,
              "#bd3786"
             ],
             [
              0.5555555555555556,
              "#d8576b"
             ],
             [
              0.6666666666666666,
              "#ed7953"
             ],
             [
              0.7777777777777778,
              "#fb9f3a"
             ],
             [
              0.8888888888888888,
              "#fdca26"
             ],
             [
              1,
              "#f0f921"
             ]
            ],
            "type": "contour"
           }
          ],
          "contourcarpet": [
           {
            "colorbar": {
             "outlinewidth": 0,
             "ticks": ""
            },
            "type": "contourcarpet"
           }
          ],
          "heatmap": [
           {
            "colorbar": {
             "outlinewidth": 0,
             "ticks": ""
            },
            "colorscale": [
             [
              0,
              "#0d0887"
             ],
             [
              0.1111111111111111,
              "#46039f"
             ],
             [
              0.2222222222222222,
              "#7201a8"
             ],
             [
              0.3333333333333333,
              "#9c179e"
             ],
             [
              0.4444444444444444,
              "#bd3786"
             ],
             [
              0.5555555555555556,
              "#d8576b"
             ],
             [
              0.6666666666666666,
              "#ed7953"
             ],
             [
              0.7777777777777778,
              "#fb9f3a"
             ],
             [
              0.8888888888888888,
              "#fdca26"
             ],
             [
              1,
              "#f0f921"
             ]
            ],
            "type": "heatmap"
           }
          ],
          "heatmapgl": [
           {
            "colorbar": {
             "outlinewidth": 0,
             "ticks": ""
            },
            "colorscale": [
             [
              0,
              "#0d0887"
             ],
             [
              0.1111111111111111,
              "#46039f"
             ],
             [
              0.2222222222222222,
              "#7201a8"
             ],
             [
              0.3333333333333333,
              "#9c179e"
             ],
             [
              0.4444444444444444,
              "#bd3786"
             ],
             [
              0.5555555555555556,
              "#d8576b"
             ],
             [
              0.6666666666666666,
              "#ed7953"
             ],
             [
              0.7777777777777778,
              "#fb9f3a"
             ],
             [
              0.8888888888888888,
              "#fdca26"
             ],
             [
              1,
              "#f0f921"
             ]
            ],
            "type": "heatmapgl"
           }
          ],
          "histogram": [
           {
            "marker": {
             "pattern": {
              "fillmode": "overlay",
              "size": 10,
              "solidity": 0.2
             }
            },
            "type": "histogram"
           }
          ],
          "histogram2d": [
           {
            "colorbar": {
             "outlinewidth": 0,
             "ticks": ""
            },
            "colorscale": [
             [
              0,
              "#0d0887"
             ],
             [
              0.1111111111111111,
              "#46039f"
             ],
             [
              0.2222222222222222,
              "#7201a8"
             ],
             [
              0.3333333333333333,
              "#9c179e"
             ],
             [
              0.4444444444444444,
              "#bd3786"
             ],
             [
              0.5555555555555556,
              "#d8576b"
             ],
             [
              0.6666666666666666,
              "#ed7953"
             ],
             [
              0.7777777777777778,
              "#fb9f3a"
             ],
             [
              0.8888888888888888,
              "#fdca26"
             ],
             [
              1,
              "#f0f921"
             ]
            ],
            "type": "histogram2d"
           }
          ],
          "histogram2dcontour": [
           {
            "colorbar": {
             "outlinewidth": 0,
             "ticks": ""
            },
            "colorscale": [
             [
              0,
              "#0d0887"
             ],
             [
              0.1111111111111111,
              "#46039f"
             ],
             [
              0.2222222222222222,
              "#7201a8"
             ],
             [
              0.3333333333333333,
              "#9c179e"
             ],
             [
              0.4444444444444444,
              "#bd3786"
             ],
             [
              0.5555555555555556,
              "#d8576b"
             ],
             [
              0.6666666666666666,
              "#ed7953"
             ],
             [
              0.7777777777777778,
              "#fb9f3a"
             ],
             [
              0.8888888888888888,
              "#fdca26"
             ],
             [
              1,
              "#f0f921"
             ]
            ],
            "type": "histogram2dcontour"
           }
          ],
          "mesh3d": [
           {
            "colorbar": {
             "outlinewidth": 0,
             "ticks": ""
            },
            "type": "mesh3d"
           }
          ],
          "parcoords": [
           {
            "line": {
             "colorbar": {
              "outlinewidth": 0,
              "ticks": ""
             }
            },
            "type": "parcoords"
           }
          ],
          "pie": [
           {
            "automargin": true,
            "type": "pie"
           }
          ],
          "scatter": [
           {
            "fillpattern": {
             "fillmode": "overlay",
             "size": 10,
             "solidity": 0.2
            },
            "type": "scatter"
           }
          ],
          "scatter3d": [
           {
            "line": {
             "colorbar": {
              "outlinewidth": 0,
              "ticks": ""
             }
            },
            "marker": {
             "colorbar": {
              "outlinewidth": 0,
              "ticks": ""
             }
            },
            "type": "scatter3d"
           }
          ],
          "scattercarpet": [
           {
            "marker": {
             "colorbar": {
              "outlinewidth": 0,
              "ticks": ""
             }
            },
            "type": "scattercarpet"
           }
          ],
          "scattergeo": [
           {
            "marker": {
             "colorbar": {
              "outlinewidth": 0,
              "ticks": ""
             }
            },
            "type": "scattergeo"
           }
          ],
          "scattergl": [
           {
            "marker": {
             "colorbar": {
              "outlinewidth": 0,
              "ticks": ""
             }
            },
            "type": "scattergl"
           }
          ],
          "scattermapbox": [
           {
            "marker": {
             "colorbar": {
              "outlinewidth": 0,
              "ticks": ""
             }
            },
            "type": "scattermapbox"
           }
          ],
          "scatterpolar": [
           {
            "marker": {
             "colorbar": {
              "outlinewidth": 0,
              "ticks": ""
             }
            },
            "type": "scatterpolar"
           }
          ],
          "scatterpolargl": [
           {
            "marker": {
             "colorbar": {
              "outlinewidth": 0,
              "ticks": ""
             }
            },
            "type": "scatterpolargl"
           }
          ],
          "scatterternary": [
           {
            "marker": {
             "colorbar": {
              "outlinewidth": 0,
              "ticks": ""
             }
            },
            "type": "scatterternary"
           }
          ],
          "surface": [
           {
            "colorbar": {
             "outlinewidth": 0,
             "ticks": ""
            },
            "colorscale": [
             [
              0,
              "#0d0887"
             ],
             [
              0.1111111111111111,
              "#46039f"
             ],
             [
              0.2222222222222222,
              "#7201a8"
             ],
             [
              0.3333333333333333,
              "#9c179e"
             ],
             [
              0.4444444444444444,
              "#bd3786"
             ],
             [
              0.5555555555555556,
              "#d8576b"
             ],
             [
              0.6666666666666666,
              "#ed7953"
             ],
             [
              0.7777777777777778,
              "#fb9f3a"
             ],
             [
              0.8888888888888888,
              "#fdca26"
             ],
             [
              1,
              "#f0f921"
             ]
            ],
            "type": "surface"
           }
          ],
          "table": [
           {
            "cells": {
             "fill": {
              "color": "#EBF0F8"
             },
             "line": {
              "color": "white"
             }
            },
            "header": {
             "fill": {
              "color": "#C8D4E3"
             },
             "line": {
              "color": "white"
             }
            },
            "type": "table"
           }
          ]
         },
         "layout": {
          "annotationdefaults": {
           "arrowcolor": "#2a3f5f",
           "arrowhead": 0,
           "arrowwidth": 1
          },
          "autotypenumbers": "strict",
          "coloraxis": {
           "colorbar": {
            "outlinewidth": 0,
            "ticks": ""
           }
          },
          "colorscale": {
           "diverging": [
            [
             0,
             "#8e0152"
            ],
            [
             0.1,
             "#c51b7d"
            ],
            [
             0.2,
             "#de77ae"
            ],
            [
             0.3,
             "#f1b6da"
            ],
            [
             0.4,
             "#fde0ef"
            ],
            [
             0.5,
             "#f7f7f7"
            ],
            [
             0.6,
             "#e6f5d0"
            ],
            [
             0.7,
             "#b8e186"
            ],
            [
             0.8,
             "#7fbc41"
            ],
            [
             0.9,
             "#4d9221"
            ],
            [
             1,
             "#276419"
            ]
           ],
           "sequential": [
            [
             0,
             "#0d0887"
            ],
            [
             0.1111111111111111,
             "#46039f"
            ],
            [
             0.2222222222222222,
             "#7201a8"
            ],
            [
             0.3333333333333333,
             "#9c179e"
            ],
            [
             0.4444444444444444,
             "#bd3786"
            ],
            [
             0.5555555555555556,
             "#d8576b"
            ],
            [
             0.6666666666666666,
             "#ed7953"
            ],
            [
             0.7777777777777778,
             "#fb9f3a"
            ],
            [
             0.8888888888888888,
             "#fdca26"
            ],
            [
             1,
             "#f0f921"
            ]
           ],
           "sequentialminus": [
            [
             0,
             "#0d0887"
            ],
            [
             0.1111111111111111,
             "#46039f"
            ],
            [
             0.2222222222222222,
             "#7201a8"
            ],
            [
             0.3333333333333333,
             "#9c179e"
            ],
            [
             0.4444444444444444,
             "#bd3786"
            ],
            [
             0.5555555555555556,
             "#d8576b"
            ],
            [
             0.6666666666666666,
             "#ed7953"
            ],
            [
             0.7777777777777778,
             "#fb9f3a"
            ],
            [
             0.8888888888888888,
             "#fdca26"
            ],
            [
             1,
             "#f0f921"
            ]
           ]
          },
          "colorway": [
           "#636efa",
           "#EF553B",
           "#00cc96",
           "#ab63fa",
           "#FFA15A",
           "#19d3f3",
           "#FF6692",
           "#B6E880",
           "#FF97FF",
           "#FECB52"
          ],
          "font": {
           "color": "#2a3f5f"
          },
          "geo": {
           "bgcolor": "white",
           "lakecolor": "white",
           "landcolor": "#E5ECF6",
           "showlakes": true,
           "showland": true,
           "subunitcolor": "white"
          },
          "hoverlabel": {
           "align": "left"
          },
          "hovermode": "closest",
          "mapbox": {
           "style": "light"
          },
          "paper_bgcolor": "white",
          "plot_bgcolor": "#E5ECF6",
          "polar": {
           "angularaxis": {
            "gridcolor": "white",
            "linecolor": "white",
            "ticks": ""
           },
           "bgcolor": "#E5ECF6",
           "radialaxis": {
            "gridcolor": "white",
            "linecolor": "white",
            "ticks": ""
           }
          },
          "scene": {
           "xaxis": {
            "backgroundcolor": "#E5ECF6",
            "gridcolor": "white",
            "gridwidth": 2,
            "linecolor": "white",
            "showbackground": true,
            "ticks": "",
            "zerolinecolor": "white"
           },
           "yaxis": {
            "backgroundcolor": "#E5ECF6",
            "gridcolor": "white",
            "gridwidth": 2,
            "linecolor": "white",
            "showbackground": true,
            "ticks": "",
            "zerolinecolor": "white"
           },
           "zaxis": {
            "backgroundcolor": "#E5ECF6",
            "gridcolor": "white",
            "gridwidth": 2,
            "linecolor": "white",
            "showbackground": true,
            "ticks": "",
            "zerolinecolor": "white"
           }
          },
          "shapedefaults": {
           "line": {
            "color": "#2a3f5f"
           }
          },
          "ternary": {
           "aaxis": {
            "gridcolor": "white",
            "linecolor": "white",
            "ticks": ""
           },
           "baxis": {
            "gridcolor": "white",
            "linecolor": "white",
            "ticks": ""
           },
           "bgcolor": "#E5ECF6",
           "caxis": {
            "gridcolor": "white",
            "linecolor": "white",
            "ticks": ""
           }
          },
          "title": {
           "x": 0.05
          },
          "xaxis": {
           "automargin": true,
           "gridcolor": "white",
           "linecolor": "white",
           "ticks": "",
           "title": {
            "standoff": 15
           },
           "zerolinecolor": "white",
           "zerolinewidth": 2
          },
          "yaxis": {
           "automargin": true,
           "gridcolor": "white",
           "linecolor": "white",
           "ticks": "",
           "title": {
            "standoff": 15
           },
           "zerolinecolor": "white",
           "zerolinewidth": 2
          }
         }
        },
        "title": {
         "text": "Average Fitness over Time for Reward Configuration (4, 2, 3, 1, 5) with Max-Count On"
        },
        "width": 800,
        "xaxis": {
         "title": {
          "text": "# of updates"
         }
        },
        "yaxis": {
         "title": {
          "text": "average fitness"
         },
         "type": "log"
        }
       }
      }
     },
     "metadata": {},
     "output_type": "display_data"
    }
   ],
   "source": [
    "plot_vals((4, 2, 3, 1, 5), max_count=True, log_y=True, i=0)"
   ]
  },
  {
   "cell_type": "code",
   "execution_count": 37,
   "metadata": {},
   "outputs": [
    {
     "data": {
      "application/vnd.plotly.v1+json": {
       "config": {
        "plotlyServerURL": "https://plot.ly"
       },
       "data": [
        {
         "mode": "lines",
         "name": "Fit",
         "type": "scatter",
         "x": [
          0,
          100,
          200,
          300,
          400,
          500,
          600,
          700,
          800,
          900,
          1000,
          1100,
          1200,
          1300,
          1400,
          1500,
          1600,
          1700,
          1800,
          1900,
          2000,
          2100,
          2200,
          2300,
          2400,
          2500,
          2600,
          2700,
          2800,
          2900,
          3000,
          3100,
          3200,
          3300,
          3400,
          3500,
          3600,
          3700,
          3800,
          3900,
          4000,
          4100,
          4200,
          4300,
          4400,
          4500,
          4600,
          4700,
          4800,
          4900,
          5000,
          5100,
          5200,
          5300,
          5400,
          5500,
          5600,
          5700,
          5800,
          5900,
          6000,
          6100,
          6200,
          6300,
          6400,
          6500,
          6600,
          6700,
          6800,
          6900,
          7000,
          7100,
          7200,
          7300,
          7400,
          7500,
          7600,
          7700,
          7800,
          7900,
          8000,
          8100,
          8200,
          8300,
          8400,
          8500,
          8600,
          8700,
          8800,
          8900,
          9000,
          9100,
          9200,
          9300,
          9400,
          9500,
          9600,
          9700,
          9800,
          9900,
          10000
         ],
         "y": [
          0,
          0.2434607,
          0.2427885,
          0.2434738,
          0.2473214,
          0.2482693,
          0.668482,
          3.072944,
          137.3392,
          282.6827,
          422.089,
          517.8893,
          592.1763,
          675.4843,
          765.5326,
          842.1823,
          903.9632,
          976.2929,
          1057.982,
          1133.055,
          1208.644,
          1270.976,
          1315.738,
          1369.289,
          1406.525,
          1429.986,
          1454.619,
          1469.476,
          1474.689,
          1501.838,
          1518.458,
          1516.348,
          1502.781,
          1513.747,
          1536.413,
          1619.77,
          2582.611,
          3849.471,
          5114.171,
          6021.803,
          7102.051,
          7817.234,
          8825.512,
          9679.406,
          10315.88,
          10869.95,
          11234.96,
          11522.62,
          11791.91,
          11686.83,
          11835.74,
          12082.29,
          12019.23,
          12278.1,
          12261.09,
          12275.58,
          12398.79,
          12372.23,
          12432.4,
          12458.58,
          12514.26,
          12655.01,
          12696.06,
          13090.94,
          13104.78,
          12992.36,
          13093.65,
          13216.53,
          13270.61,
          13648.42,
          13721.34,
          13705.22,
          13978.25,
          14130.33,
          14198.89,
          14298.35,
          14630.89,
          14922.12,
          14999.35,
          14948.91,
          15102.5,
          15171.91,
          15489.78,
          15276.17,
          15396.36,
          15675.59,
          15517.12,
          15889.49,
          16036.77,
          15948.99,
          16133.85,
          16405.13,
          16329.12,
          16119.62,
          16285.41,
          16475.7,
          16440.59,
          16702.91,
          16349.99,
          16697.76,
          16761.53
         ]
        }
       ],
       "layout": {
        "autosize": false,
        "height": 600,
        "margin": {
         "b": 20,
         "l": 20,
         "r": 20,
         "t": 40
        },
        "template": {
         "data": {
          "bar": [
           {
            "error_x": {
             "color": "#2a3f5f"
            },
            "error_y": {
             "color": "#2a3f5f"
            },
            "marker": {
             "line": {
              "color": "#E5ECF6",
              "width": 0.5
             },
             "pattern": {
              "fillmode": "overlay",
              "size": 10,
              "solidity": 0.2
             }
            },
            "type": "bar"
           }
          ],
          "barpolar": [
           {
            "marker": {
             "line": {
              "color": "#E5ECF6",
              "width": 0.5
             },
             "pattern": {
              "fillmode": "overlay",
              "size": 10,
              "solidity": 0.2
             }
            },
            "type": "barpolar"
           }
          ],
          "carpet": [
           {
            "aaxis": {
             "endlinecolor": "#2a3f5f",
             "gridcolor": "white",
             "linecolor": "white",
             "minorgridcolor": "white",
             "startlinecolor": "#2a3f5f"
            },
            "baxis": {
             "endlinecolor": "#2a3f5f",
             "gridcolor": "white",
             "linecolor": "white",
             "minorgridcolor": "white",
             "startlinecolor": "#2a3f5f"
            },
            "type": "carpet"
           }
          ],
          "choropleth": [
           {
            "colorbar": {
             "outlinewidth": 0,
             "ticks": ""
            },
            "type": "choropleth"
           }
          ],
          "contour": [
           {
            "colorbar": {
             "outlinewidth": 0,
             "ticks": ""
            },
            "colorscale": [
             [
              0,
              "#0d0887"
             ],
             [
              0.1111111111111111,
              "#46039f"
             ],
             [
              0.2222222222222222,
              "#7201a8"
             ],
             [
              0.3333333333333333,
              "#9c179e"
             ],
             [
              0.4444444444444444,
              "#bd3786"
             ],
             [
              0.5555555555555556,
              "#d8576b"
             ],
             [
              0.6666666666666666,
              "#ed7953"
             ],
             [
              0.7777777777777778,
              "#fb9f3a"
             ],
             [
              0.8888888888888888,
              "#fdca26"
             ],
             [
              1,
              "#f0f921"
             ]
            ],
            "type": "contour"
           }
          ],
          "contourcarpet": [
           {
            "colorbar": {
             "outlinewidth": 0,
             "ticks": ""
            },
            "type": "contourcarpet"
           }
          ],
          "heatmap": [
           {
            "colorbar": {
             "outlinewidth": 0,
             "ticks": ""
            },
            "colorscale": [
             [
              0,
              "#0d0887"
             ],
             [
              0.1111111111111111,
              "#46039f"
             ],
             [
              0.2222222222222222,
              "#7201a8"
             ],
             [
              0.3333333333333333,
              "#9c179e"
             ],
             [
              0.4444444444444444,
              "#bd3786"
             ],
             [
              0.5555555555555556,
              "#d8576b"
             ],
             [
              0.6666666666666666,
              "#ed7953"
             ],
             [
              0.7777777777777778,
              "#fb9f3a"
             ],
             [
              0.8888888888888888,
              "#fdca26"
             ],
             [
              1,
              "#f0f921"
             ]
            ],
            "type": "heatmap"
           }
          ],
          "heatmapgl": [
           {
            "colorbar": {
             "outlinewidth": 0,
             "ticks": ""
            },
            "colorscale": [
             [
              0,
              "#0d0887"
             ],
             [
              0.1111111111111111,
              "#46039f"
             ],
             [
              0.2222222222222222,
              "#7201a8"
             ],
             [
              0.3333333333333333,
              "#9c179e"
             ],
             [
              0.4444444444444444,
              "#bd3786"
             ],
             [
              0.5555555555555556,
              "#d8576b"
             ],
             [
              0.6666666666666666,
              "#ed7953"
             ],
             [
              0.7777777777777778,
              "#fb9f3a"
             ],
             [
              0.8888888888888888,
              "#fdca26"
             ],
             [
              1,
              "#f0f921"
             ]
            ],
            "type": "heatmapgl"
           }
          ],
          "histogram": [
           {
            "marker": {
             "pattern": {
              "fillmode": "overlay",
              "size": 10,
              "solidity": 0.2
             }
            },
            "type": "histogram"
           }
          ],
          "histogram2d": [
           {
            "colorbar": {
             "outlinewidth": 0,
             "ticks": ""
            },
            "colorscale": [
             [
              0,
              "#0d0887"
             ],
             [
              0.1111111111111111,
              "#46039f"
             ],
             [
              0.2222222222222222,
              "#7201a8"
             ],
             [
              0.3333333333333333,
              "#9c179e"
             ],
             [
              0.4444444444444444,
              "#bd3786"
             ],
             [
              0.5555555555555556,
              "#d8576b"
             ],
             [
              0.6666666666666666,
              "#ed7953"
             ],
             [
              0.7777777777777778,
              "#fb9f3a"
             ],
             [
              0.8888888888888888,
              "#fdca26"
             ],
             [
              1,
              "#f0f921"
             ]
            ],
            "type": "histogram2d"
           }
          ],
          "histogram2dcontour": [
           {
            "colorbar": {
             "outlinewidth": 0,
             "ticks": ""
            },
            "colorscale": [
             [
              0,
              "#0d0887"
             ],
             [
              0.1111111111111111,
              "#46039f"
             ],
             [
              0.2222222222222222,
              "#7201a8"
             ],
             [
              0.3333333333333333,
              "#9c179e"
             ],
             [
              0.4444444444444444,
              "#bd3786"
             ],
             [
              0.5555555555555556,
              "#d8576b"
             ],
             [
              0.6666666666666666,
              "#ed7953"
             ],
             [
              0.7777777777777778,
              "#fb9f3a"
             ],
             [
              0.8888888888888888,
              "#fdca26"
             ],
             [
              1,
              "#f0f921"
             ]
            ],
            "type": "histogram2dcontour"
           }
          ],
          "mesh3d": [
           {
            "colorbar": {
             "outlinewidth": 0,
             "ticks": ""
            },
            "type": "mesh3d"
           }
          ],
          "parcoords": [
           {
            "line": {
             "colorbar": {
              "outlinewidth": 0,
              "ticks": ""
             }
            },
            "type": "parcoords"
           }
          ],
          "pie": [
           {
            "automargin": true,
            "type": "pie"
           }
          ],
          "scatter": [
           {
            "fillpattern": {
             "fillmode": "overlay",
             "size": 10,
             "solidity": 0.2
            },
            "type": "scatter"
           }
          ],
          "scatter3d": [
           {
            "line": {
             "colorbar": {
              "outlinewidth": 0,
              "ticks": ""
             }
            },
            "marker": {
             "colorbar": {
              "outlinewidth": 0,
              "ticks": ""
             }
            },
            "type": "scatter3d"
           }
          ],
          "scattercarpet": [
           {
            "marker": {
             "colorbar": {
              "outlinewidth": 0,
              "ticks": ""
             }
            },
            "type": "scattercarpet"
           }
          ],
          "scattergeo": [
           {
            "marker": {
             "colorbar": {
              "outlinewidth": 0,
              "ticks": ""
             }
            },
            "type": "scattergeo"
           }
          ],
          "scattergl": [
           {
            "marker": {
             "colorbar": {
              "outlinewidth": 0,
              "ticks": ""
             }
            },
            "type": "scattergl"
           }
          ],
          "scattermapbox": [
           {
            "marker": {
             "colorbar": {
              "outlinewidth": 0,
              "ticks": ""
             }
            },
            "type": "scattermapbox"
           }
          ],
          "scatterpolar": [
           {
            "marker": {
             "colorbar": {
              "outlinewidth": 0,
              "ticks": ""
             }
            },
            "type": "scatterpolar"
           }
          ],
          "scatterpolargl": [
           {
            "marker": {
             "colorbar": {
              "outlinewidth": 0,
              "ticks": ""
             }
            },
            "type": "scatterpolargl"
           }
          ],
          "scatterternary": [
           {
            "marker": {
             "colorbar": {
              "outlinewidth": 0,
              "ticks": ""
             }
            },
            "type": "scatterternary"
           }
          ],
          "surface": [
           {
            "colorbar": {
             "outlinewidth": 0,
             "ticks": ""
            },
            "colorscale": [
             [
              0,
              "#0d0887"
             ],
             [
              0.1111111111111111,
              "#46039f"
             ],
             [
              0.2222222222222222,
              "#7201a8"
             ],
             [
              0.3333333333333333,
              "#9c179e"
             ],
             [
              0.4444444444444444,
              "#bd3786"
             ],
             [
              0.5555555555555556,
              "#d8576b"
             ],
             [
              0.6666666666666666,
              "#ed7953"
             ],
             [
              0.7777777777777778,
              "#fb9f3a"
             ],
             [
              0.8888888888888888,
              "#fdca26"
             ],
             [
              1,
              "#f0f921"
             ]
            ],
            "type": "surface"
           }
          ],
          "table": [
           {
            "cells": {
             "fill": {
              "color": "#EBF0F8"
             },
             "line": {
              "color": "white"
             }
            },
            "header": {
             "fill": {
              "color": "#C8D4E3"
             },
             "line": {
              "color": "white"
             }
            },
            "type": "table"
           }
          ]
         },
         "layout": {
          "annotationdefaults": {
           "arrowcolor": "#2a3f5f",
           "arrowhead": 0,
           "arrowwidth": 1
          },
          "autotypenumbers": "strict",
          "coloraxis": {
           "colorbar": {
            "outlinewidth": 0,
            "ticks": ""
           }
          },
          "colorscale": {
           "diverging": [
            [
             0,
             "#8e0152"
            ],
            [
             0.1,
             "#c51b7d"
            ],
            [
             0.2,
             "#de77ae"
            ],
            [
             0.3,
             "#f1b6da"
            ],
            [
             0.4,
             "#fde0ef"
            ],
            [
             0.5,
             "#f7f7f7"
            ],
            [
             0.6,
             "#e6f5d0"
            ],
            [
             0.7,
             "#b8e186"
            ],
            [
             0.8,
             "#7fbc41"
            ],
            [
             0.9,
             "#4d9221"
            ],
            [
             1,
             "#276419"
            ]
           ],
           "sequential": [
            [
             0,
             "#0d0887"
            ],
            [
             0.1111111111111111,
             "#46039f"
            ],
            [
             0.2222222222222222,
             "#7201a8"
            ],
            [
             0.3333333333333333,
             "#9c179e"
            ],
            [
             0.4444444444444444,
             "#bd3786"
            ],
            [
             0.5555555555555556,
             "#d8576b"
            ],
            [
             0.6666666666666666,
             "#ed7953"
            ],
            [
             0.7777777777777778,
             "#fb9f3a"
            ],
            [
             0.8888888888888888,
             "#fdca26"
            ],
            [
             1,
             "#f0f921"
            ]
           ],
           "sequentialminus": [
            [
             0,
             "#0d0887"
            ],
            [
             0.1111111111111111,
             "#46039f"
            ],
            [
             0.2222222222222222,
             "#7201a8"
            ],
            [
             0.3333333333333333,
             "#9c179e"
            ],
            [
             0.4444444444444444,
             "#bd3786"
            ],
            [
             0.5555555555555556,
             "#d8576b"
            ],
            [
             0.6666666666666666,
             "#ed7953"
            ],
            [
             0.7777777777777778,
             "#fb9f3a"
            ],
            [
             0.8888888888888888,
             "#fdca26"
            ],
            [
             1,
             "#f0f921"
            ]
           ]
          },
          "colorway": [
           "#636efa",
           "#EF553B",
           "#00cc96",
           "#ab63fa",
           "#FFA15A",
           "#19d3f3",
           "#FF6692",
           "#B6E880",
           "#FF97FF",
           "#FECB52"
          ],
          "font": {
           "color": "#2a3f5f"
          },
          "geo": {
           "bgcolor": "white",
           "lakecolor": "white",
           "landcolor": "#E5ECF6",
           "showlakes": true,
           "showland": true,
           "subunitcolor": "white"
          },
          "hoverlabel": {
           "align": "left"
          },
          "hovermode": "closest",
          "mapbox": {
           "style": "light"
          },
          "paper_bgcolor": "white",
          "plot_bgcolor": "#E5ECF6",
          "polar": {
           "angularaxis": {
            "gridcolor": "white",
            "linecolor": "white",
            "ticks": ""
           },
           "bgcolor": "#E5ECF6",
           "radialaxis": {
            "gridcolor": "white",
            "linecolor": "white",
            "ticks": ""
           }
          },
          "scene": {
           "xaxis": {
            "backgroundcolor": "#E5ECF6",
            "gridcolor": "white",
            "gridwidth": 2,
            "linecolor": "white",
            "showbackground": true,
            "ticks": "",
            "zerolinecolor": "white"
           },
           "yaxis": {
            "backgroundcolor": "#E5ECF6",
            "gridcolor": "white",
            "gridwidth": 2,
            "linecolor": "white",
            "showbackground": true,
            "ticks": "",
            "zerolinecolor": "white"
           },
           "zaxis": {
            "backgroundcolor": "#E5ECF6",
            "gridcolor": "white",
            "gridwidth": 2,
            "linecolor": "white",
            "showbackground": true,
            "ticks": "",
            "zerolinecolor": "white"
           }
          },
          "shapedefaults": {
           "line": {
            "color": "#2a3f5f"
           }
          },
          "ternary": {
           "aaxis": {
            "gridcolor": "white",
            "linecolor": "white",
            "ticks": ""
           },
           "baxis": {
            "gridcolor": "white",
            "linecolor": "white",
            "ticks": ""
           },
           "bgcolor": "#E5ECF6",
           "caxis": {
            "gridcolor": "white",
            "linecolor": "white",
            "ticks": ""
           }
          },
          "title": {
           "x": 0.05
          },
          "xaxis": {
           "automargin": true,
           "gridcolor": "white",
           "linecolor": "white",
           "ticks": "",
           "title": {
            "standoff": 15
           },
           "zerolinecolor": "white",
           "zerolinewidth": 2
          },
          "yaxis": {
           "automargin": true,
           "gridcolor": "white",
           "linecolor": "white",
           "ticks": "",
           "title": {
            "standoff": 15
           },
           "zerolinecolor": "white",
           "zerolinewidth": 2
          }
         }
        },
        "title": {
         "text": "Average Fitness over Time for Reward Configuration (4, 2, 3, 1, 5) with Max-Count Off"
        },
        "width": 800,
        "xaxis": {
         "title": {
          "text": "# of updates"
         }
        },
        "yaxis": {
         "title": {
          "text": "average fitness"
         },
         "type": "log"
        }
       }
      }
     },
     "metadata": {},
     "output_type": "display_data"
    }
   ],
   "source": [
    "plot_vals((4, 2, 3, 1, 5), max_count=False, log_y=True, i=1)"
   ]
  },
  {
   "cell_type": "code",
   "execution_count": null,
   "metadata": {},
   "outputs": [],
   "source": []
  }
 ],
 "metadata": {
  "kernelspec": {
   "display_name": "base",
   "language": "python",
   "name": "python3"
  },
  "language_info": {
   "codemirror_mode": {
    "name": "ipython",
    "version": 3
   },
   "file_extension": ".py",
   "mimetype": "text/x-python",
   "name": "python",
   "nbconvert_exporter": "python",
   "pygments_lexer": "ipython3",
   "version": "3.9.13"
  },
  "orig_nbformat": 4,
  "vscode": {
   "interpreter": {
    "hash": "cf41f9f6e5ebc9bc907dc86349423643935ffbb6232c1977132c28683456eead"
   }
  }
 },
 "nbformat": 4,
 "nbformat_minor": 2
}
