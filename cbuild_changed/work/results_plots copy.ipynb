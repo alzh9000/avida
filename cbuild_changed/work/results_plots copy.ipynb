{
 "cells": [
  {
   "cell_type": "code",
   "execution_count": 3,
   "metadata": {},
   "outputs": [],
   "source": [
    "import pandas as pd\n",
    "import plotly.graph_objs as go\n",
    "import plotly.io as pio\n",
    "file_name = \"\"\"229r/task_date_{'x': 10, 'y': 10}_{'NOT': 1.0, 'NAND': 1.0, 'AND': 2.0, 'ORN': 2.0, 'OR': 3.0, 'ANDN': 3.0, 'NOR': 4.0, 'XOR': 4.0, 'EQU': 5.0}_03-06_20-38-48.txt\"\"\"\n",
    "\n",
    "def plot_graph(file_name=\"\"\"229r/task_date_{'x': 10, 'y': 10}_{'NOT': 1.0, 'NAND': 1.0, 'AND': 2.0, 'ORN': 2.0, 'OR': 3.0, 'ANDN': 3.0, 'NOR': 4.0, 'XOR': 4.0, 'EQU': 5.0}_03-06_20-38-48.txt\"\"\", title='Average Fitness over Time', width = 800,    height = 600):\n",
    "\n",
    "    # Read data from file into a list of strings\n",
    "    with open(file_name, 'r') as f:\n",
    "        lines = f.readlines()\n",
    "\n",
    "    # Parse the lines to create a list of dictionaries, where each dictionary contains values for each column\n",
    "    data = []\n",
    "    for line in lines:\n",
    "        if line.startswith('UD:'):\n",
    "            values = line.strip().split()\n",
    "            # print(values)\n",
    "\n",
    "            data.append({\n",
    "                'UD': int(values[1]),\n",
    "                'Gen': float(values[3]),\n",
    "                'Fit': float(values[5]),\n",
    "                'Orgs': int(values[7])\n",
    "            })\n",
    "\n",
    "    # Create dataframe from list of dictionaries\n",
    "    df = pd.DataFrame(data)\n",
    "        \n",
    "\n",
    "    # Define x and y data\n",
    "    x_data = df.iloc[:, 0] # First column as x-axis\n",
    "    y_data = df[[\"Fit\"]]\n",
    "    # y_data = df.iloc[:, 1:] # Every other column as y-axis\n",
    "\n",
    "    # Create plotly trace for each column\n",
    "    data = []\n",
    "    for column in y_data.columns:\n",
    "        trace = go.Scatter(x=x_data, y=y_data[column], mode='lines', name=column)\n",
    "        data.append(trace)\n",
    "\n",
    "    # Define plot layout\n",
    "    layout = go.Layout(title=title, xaxis=dict(title='# of updates'), yaxis=dict(title='average fitness'), margin=dict(t=40, b=20, l=20, r=20), autosize=False, width=width, height=height)\n",
    "\n",
    "    # Create plotly figure\n",
    "    fig = go.Figure(data=data, layout=layout)\n",
    "\n",
    "    # Display plot\n",
    "    file_parts = file_name.split('/')\n",
    "    fig.show()\n",
    "    pio.write_image(fig, file_parts[0]+'/plots/'+file_parts[1].split('.')[0]+'.png', width=width, height=height, scale=2)\n"
   ]
  },
  {
   "cell_type": "code",
   "execution_count": 5,
   "metadata": {},
   "outputs": [],
   "source": [
    "# plot_graph(file_name, 'Average Fitness over Time for default rewards', 650, 400)"
   ]
  },
  {
   "cell_type": "code",
   "execution_count": 7,
   "metadata": {},
   "outputs": [],
   "source": [
    "\n",
    "file_name = \"\"\"229r/task_date_{'x': 10, 'y': 10}_{'NOT': 3.0, 'NAND': 3.0, 'AND': 2.0, 'ORN': 2.0, 'OR': 3.0, 'ANDN': 3.0, 'NOR': 4.0, 'XOR': 4.0, 'EQU': 5.0}_03-06_22-55-10.txt\"\"\"\n",
    "# plot_graph(file_name, 'Average Fitness over Time for 4x higher rewards for NOT and NAND', 650, 400)"
   ]
  },
  {
   "cell_type": "code",
   "execution_count": 8,
   "metadata": {},
   "outputs": [],
   "source": [
    "file_name = \"229r/all1 copy/0_mxc_False_[1, 2, 3, 4, 2]_date_04-13_16-20-29_xydict_values([120, 120]).txt\""
   ]
  },
  {
   "cell_type": "code",
   "execution_count": 9,
   "metadata": {},
   "outputs": [
    {
     "data": {
      "application/vnd.plotly.v1+json": {
       "config": {
        "plotlyServerURL": "https://plot.ly"
       },
       "data": [
        {
         "mode": "lines",
         "name": "Fit",
         "type": "scatter",
         "x": [
          0,
          100,
          200,
          300,
          400,
          500,
          600,
          700,
          800,
          900,
          1000,
          1100,
          1200,
          1300,
          1400,
          1500,
          1600,
          1700,
          1800,
          1900,
          2000,
          2100,
          2200,
          2300,
          2400,
          2500,
          2600,
          2700,
          2800,
          2900,
          3000,
          3100,
          3200,
          3300,
          3400,
          3500,
          3600,
          3700,
          3800,
          3900,
          4000,
          4100,
          4200,
          4300,
          4400,
          4500,
          4600,
          4700,
          4800,
          4900,
          5000,
          5100,
          5200,
          5300,
          5400,
          5500,
          5600
         ],
         "y": [
          0,
          0.2467441,
          0.2416461,
          0.2430391,
          0.24561,
          0.2467308,
          0.2467547,
          0.2495217,
          0.2551939,
          0.2988183,
          0.5429519,
          1.444064,
          15.91745,
          184.718,
          685.1194,
          180549700,
          180564000,
          29107440,
          128645100,
          1281.264,
          6859.811,
          5897735000,
          844552300000,
          1055617000000,
          15386.41,
          19822.06,
          1240497,
          2771097000,
          1131921000,
          112946.2,
          13439090000000,
          3348108000000,
          3348107000000,
          3348107000000,
          2511260000000,
          3348107000000,
          3348107000000,
          3348107000000,
          3348107000000,
          3348107000000,
          3348107000000,
          3348107000000,
          4184838000000,
          3348107000000,
          3348107000000,
          3347874000000,
          2.999497e+135,
          2.20802e+129,
          3.206497e+189,
          4.542683e+215,
          1.042063e+216,
          1.518078e+216,
          2.062546e+216,
          5.17527e+226,
          8.815496e+226,
          8.448803e+231,
          2.903048e+242
         ]
        }
       ],
       "layout": {
        "autosize": false,
        "height": 600,
        "margin": {
         "b": 20,
         "l": 20,
         "r": 20,
         "t": 40
        },
        "template": {
         "data": {
          "bar": [
           {
            "error_x": {
             "color": "#2a3f5f"
            },
            "error_y": {
             "color": "#2a3f5f"
            },
            "marker": {
             "line": {
              "color": "#E5ECF6",
              "width": 0.5
             },
             "pattern": {
              "fillmode": "overlay",
              "size": 10,
              "solidity": 0.2
             }
            },
            "type": "bar"
           }
          ],
          "barpolar": [
           {
            "marker": {
             "line": {
              "color": "#E5ECF6",
              "width": 0.5
             },
             "pattern": {
              "fillmode": "overlay",
              "size": 10,
              "solidity": 0.2
             }
            },
            "type": "barpolar"
           }
          ],
          "carpet": [
           {
            "aaxis": {
             "endlinecolor": "#2a3f5f",
             "gridcolor": "white",
             "linecolor": "white",
             "minorgridcolor": "white",
             "startlinecolor": "#2a3f5f"
            },
            "baxis": {
             "endlinecolor": "#2a3f5f",
             "gridcolor": "white",
             "linecolor": "white",
             "minorgridcolor": "white",
             "startlinecolor": "#2a3f5f"
            },
            "type": "carpet"
           }
          ],
          "choropleth": [
           {
            "colorbar": {
             "outlinewidth": 0,
             "ticks": ""
            },
            "type": "choropleth"
           }
          ],
          "contour": [
           {
            "colorbar": {
             "outlinewidth": 0,
             "ticks": ""
            },
            "colorscale": [
             [
              0,
              "#0d0887"
             ],
             [
              0.1111111111111111,
              "#46039f"
             ],
             [
              0.2222222222222222,
              "#7201a8"
             ],
             [
              0.3333333333333333,
              "#9c179e"
             ],
             [
              0.4444444444444444,
              "#bd3786"
             ],
             [
              0.5555555555555556,
              "#d8576b"
             ],
             [
              0.6666666666666666,
              "#ed7953"
             ],
             [
              0.7777777777777778,
              "#fb9f3a"
             ],
             [
              0.8888888888888888,
              "#fdca26"
             ],
             [
              1,
              "#f0f921"
             ]
            ],
            "type": "contour"
           }
          ],
          "contourcarpet": [
           {
            "colorbar": {
             "outlinewidth": 0,
             "ticks": ""
            },
            "type": "contourcarpet"
           }
          ],
          "heatmap": [
           {
            "colorbar": {
             "outlinewidth": 0,
             "ticks": ""
            },
            "colorscale": [
             [
              0,
              "#0d0887"
             ],
             [
              0.1111111111111111,
              "#46039f"
             ],
             [
              0.2222222222222222,
              "#7201a8"
             ],
             [
              0.3333333333333333,
              "#9c179e"
             ],
             [
              0.4444444444444444,
              "#bd3786"
             ],
             [
              0.5555555555555556,
              "#d8576b"
             ],
             [
              0.6666666666666666,
              "#ed7953"
             ],
             [
              0.7777777777777778,
              "#fb9f3a"
             ],
             [
              0.8888888888888888,
              "#fdca26"
             ],
             [
              1,
              "#f0f921"
             ]
            ],
            "type": "heatmap"
           }
          ],
          "heatmapgl": [
           {
            "colorbar": {
             "outlinewidth": 0,
             "ticks": ""
            },
            "colorscale": [
             [
              0,
              "#0d0887"
             ],
             [
              0.1111111111111111,
              "#46039f"
             ],
             [
              0.2222222222222222,
              "#7201a8"
             ],
             [
              0.3333333333333333,
              "#9c179e"
             ],
             [
              0.4444444444444444,
              "#bd3786"
             ],
             [
              0.5555555555555556,
              "#d8576b"
             ],
             [
              0.6666666666666666,
              "#ed7953"
             ],
             [
              0.7777777777777778,
              "#fb9f3a"
             ],
             [
              0.8888888888888888,
              "#fdca26"
             ],
             [
              1,
              "#f0f921"
             ]
            ],
            "type": "heatmapgl"
           }
          ],
          "histogram": [
           {
            "marker": {
             "pattern": {
              "fillmode": "overlay",
              "size": 10,
              "solidity": 0.2
             }
            },
            "type": "histogram"
           }
          ],
          "histogram2d": [
           {
            "colorbar": {
             "outlinewidth": 0,
             "ticks": ""
            },
            "colorscale": [
             [
              0,
              "#0d0887"
             ],
             [
              0.1111111111111111,
              "#46039f"
             ],
             [
              0.2222222222222222,
              "#7201a8"
             ],
             [
              0.3333333333333333,
              "#9c179e"
             ],
             [
              0.4444444444444444,
              "#bd3786"
             ],
             [
              0.5555555555555556,
              "#d8576b"
             ],
             [
              0.6666666666666666,
              "#ed7953"
             ],
             [
              0.7777777777777778,
              "#fb9f3a"
             ],
             [
              0.8888888888888888,
              "#fdca26"
             ],
             [
              1,
              "#f0f921"
             ]
            ],
            "type": "histogram2d"
           }
          ],
          "histogram2dcontour": [
           {
            "colorbar": {
             "outlinewidth": 0,
             "ticks": ""
            },
            "colorscale": [
             [
              0,
              "#0d0887"
             ],
             [
              0.1111111111111111,
              "#46039f"
             ],
             [
              0.2222222222222222,
              "#7201a8"
             ],
             [
              0.3333333333333333,
              "#9c179e"
             ],
             [
              0.4444444444444444,
              "#bd3786"
             ],
             [
              0.5555555555555556,
              "#d8576b"
             ],
             [
              0.6666666666666666,
              "#ed7953"
             ],
             [
              0.7777777777777778,
              "#fb9f3a"
             ],
             [
              0.8888888888888888,
              "#fdca26"
             ],
             [
              1,
              "#f0f921"
             ]
            ],
            "type": "histogram2dcontour"
           }
          ],
          "mesh3d": [
           {
            "colorbar": {
             "outlinewidth": 0,
             "ticks": ""
            },
            "type": "mesh3d"
           }
          ],
          "parcoords": [
           {
            "line": {
             "colorbar": {
              "outlinewidth": 0,
              "ticks": ""
             }
            },
            "type": "parcoords"
           }
          ],
          "pie": [
           {
            "automargin": true,
            "type": "pie"
           }
          ],
          "scatter": [
           {
            "fillpattern": {
             "fillmode": "overlay",
             "size": 10,
             "solidity": 0.2
            },
            "type": "scatter"
           }
          ],
          "scatter3d": [
           {
            "line": {
             "colorbar": {
              "outlinewidth": 0,
              "ticks": ""
             }
            },
            "marker": {
             "colorbar": {
              "outlinewidth": 0,
              "ticks": ""
             }
            },
            "type": "scatter3d"
           }
          ],
          "scattercarpet": [
           {
            "marker": {
             "colorbar": {
              "outlinewidth": 0,
              "ticks": ""
             }
            },
            "type": "scattercarpet"
           }
          ],
          "scattergeo": [
           {
            "marker": {
             "colorbar": {
              "outlinewidth": 0,
              "ticks": ""
             }
            },
            "type": "scattergeo"
           }
          ],
          "scattergl": [
           {
            "marker": {
             "colorbar": {
              "outlinewidth": 0,
              "ticks": ""
             }
            },
            "type": "scattergl"
           }
          ],
          "scattermapbox": [
           {
            "marker": {
             "colorbar": {
              "outlinewidth": 0,
              "ticks": ""
             }
            },
            "type": "scattermapbox"
           }
          ],
          "scatterpolar": [
           {
            "marker": {
             "colorbar": {
              "outlinewidth": 0,
              "ticks": ""
             }
            },
            "type": "scatterpolar"
           }
          ],
          "scatterpolargl": [
           {
            "marker": {
             "colorbar": {
              "outlinewidth": 0,
              "ticks": ""
             }
            },
            "type": "scatterpolargl"
           }
          ],
          "scatterternary": [
           {
            "marker": {
             "colorbar": {
              "outlinewidth": 0,
              "ticks": ""
             }
            },
            "type": "scatterternary"
           }
          ],
          "surface": [
           {
            "colorbar": {
             "outlinewidth": 0,
             "ticks": ""
            },
            "colorscale": [
             [
              0,
              "#0d0887"
             ],
             [
              0.1111111111111111,
              "#46039f"
             ],
             [
              0.2222222222222222,
              "#7201a8"
             ],
             [
              0.3333333333333333,
              "#9c179e"
             ],
             [
              0.4444444444444444,
              "#bd3786"
             ],
             [
              0.5555555555555556,
              "#d8576b"
             ],
             [
              0.6666666666666666,
              "#ed7953"
             ],
             [
              0.7777777777777778,
              "#fb9f3a"
             ],
             [
              0.8888888888888888,
              "#fdca26"
             ],
             [
              1,
              "#f0f921"
             ]
            ],
            "type": "surface"
           }
          ],
          "table": [
           {
            "cells": {
             "fill": {
              "color": "#EBF0F8"
             },
             "line": {
              "color": "white"
             }
            },
            "header": {
             "fill": {
              "color": "#C8D4E3"
             },
             "line": {
              "color": "white"
             }
            },
            "type": "table"
           }
          ]
         },
         "layout": {
          "annotationdefaults": {
           "arrowcolor": "#2a3f5f",
           "arrowhead": 0,
           "arrowwidth": 1
          },
          "autotypenumbers": "strict",
          "coloraxis": {
           "colorbar": {
            "outlinewidth": 0,
            "ticks": ""
           }
          },
          "colorscale": {
           "diverging": [
            [
             0,
             "#8e0152"
            ],
            [
             0.1,
             "#c51b7d"
            ],
            [
             0.2,
             "#de77ae"
            ],
            [
             0.3,
             "#f1b6da"
            ],
            [
             0.4,
             "#fde0ef"
            ],
            [
             0.5,
             "#f7f7f7"
            ],
            [
             0.6,
             "#e6f5d0"
            ],
            [
             0.7,
             "#b8e186"
            ],
            [
             0.8,
             "#7fbc41"
            ],
            [
             0.9,
             "#4d9221"
            ],
            [
             1,
             "#276419"
            ]
           ],
           "sequential": [
            [
             0,
             "#0d0887"
            ],
            [
             0.1111111111111111,
             "#46039f"
            ],
            [
             0.2222222222222222,
             "#7201a8"
            ],
            [
             0.3333333333333333,
             "#9c179e"
            ],
            [
             0.4444444444444444,
             "#bd3786"
            ],
            [
             0.5555555555555556,
             "#d8576b"
            ],
            [
             0.6666666666666666,
             "#ed7953"
            ],
            [
             0.7777777777777778,
             "#fb9f3a"
            ],
            [
             0.8888888888888888,
             "#fdca26"
            ],
            [
             1,
             "#f0f921"
            ]
           ],
           "sequentialminus": [
            [
             0,
             "#0d0887"
            ],
            [
             0.1111111111111111,
             "#46039f"
            ],
            [
             0.2222222222222222,
             "#7201a8"
            ],
            [
             0.3333333333333333,
             "#9c179e"
            ],
            [
             0.4444444444444444,
             "#bd3786"
            ],
            [
             0.5555555555555556,
             "#d8576b"
            ],
            [
             0.6666666666666666,
             "#ed7953"
            ],
            [
             0.7777777777777778,
             "#fb9f3a"
            ],
            [
             0.8888888888888888,
             "#fdca26"
            ],
            [
             1,
             "#f0f921"
            ]
           ]
          },
          "colorway": [
           "#636efa",
           "#EF553B",
           "#00cc96",
           "#ab63fa",
           "#FFA15A",
           "#19d3f3",
           "#FF6692",
           "#B6E880",
           "#FF97FF",
           "#FECB52"
          ],
          "font": {
           "color": "#2a3f5f"
          },
          "geo": {
           "bgcolor": "white",
           "lakecolor": "white",
           "landcolor": "#E5ECF6",
           "showlakes": true,
           "showland": true,
           "subunitcolor": "white"
          },
          "hoverlabel": {
           "align": "left"
          },
          "hovermode": "closest",
          "mapbox": {
           "style": "light"
          },
          "paper_bgcolor": "white",
          "plot_bgcolor": "#E5ECF6",
          "polar": {
           "angularaxis": {
            "gridcolor": "white",
            "linecolor": "white",
            "ticks": ""
           },
           "bgcolor": "#E5ECF6",
           "radialaxis": {
            "gridcolor": "white",
            "linecolor": "white",
            "ticks": ""
           }
          },
          "scene": {
           "xaxis": {
            "backgroundcolor": "#E5ECF6",
            "gridcolor": "white",
            "gridwidth": 2,
            "linecolor": "white",
            "showbackground": true,
            "ticks": "",
            "zerolinecolor": "white"
           },
           "yaxis": {
            "backgroundcolor": "#E5ECF6",
            "gridcolor": "white",
            "gridwidth": 2,
            "linecolor": "white",
            "showbackground": true,
            "ticks": "",
            "zerolinecolor": "white"
           },
           "zaxis": {
            "backgroundcolor": "#E5ECF6",
            "gridcolor": "white",
            "gridwidth": 2,
            "linecolor": "white",
            "showbackground": true,
            "ticks": "",
            "zerolinecolor": "white"
           }
          },
          "shapedefaults": {
           "line": {
            "color": "#2a3f5f"
           }
          },
          "ternary": {
           "aaxis": {
            "gridcolor": "white",
            "linecolor": "white",
            "ticks": ""
           },
           "baxis": {
            "gridcolor": "white",
            "linecolor": "white",
            "ticks": ""
           },
           "bgcolor": "#E5ECF6",
           "caxis": {
            "gridcolor": "white",
            "linecolor": "white",
            "ticks": ""
           }
          },
          "title": {
           "x": 0.05
          },
          "xaxis": {
           "automargin": true,
           "gridcolor": "white",
           "linecolor": "white",
           "ticks": "",
           "title": {
            "standoff": 15
           },
           "zerolinecolor": "white",
           "zerolinewidth": 2
          },
          "yaxis": {
           "automargin": true,
           "gridcolor": "white",
           "linecolor": "white",
           "ticks": "",
           "title": {
            "standoff": 15
           },
           "zerolinecolor": "white",
           "zerolinewidth": 2
          }
         }
        },
        "title": {
         "text": "Average Fitness over Time"
        },
        "width": 800,
        "xaxis": {
         "title": {
          "text": "# of updates"
         }
        },
        "yaxis": {
         "title": {
          "text": "average fitness"
         }
        }
       }
      }
     },
     "metadata": {},
     "output_type": "display_data"
    }
   ],
   "source": [
    "plot_graph(file_name)"
   ]
  },
  {
   "cell_type": "code",
   "execution_count": 10,
   "metadata": {},
   "outputs": [
    {
     "name": "stdout",
     "output_type": "stream",
     "text": [
      "                                             file_name  \\\n",
      "0    0_mxc_True_[2, 3, 1, 4, 5]_date_04-13_20-35-15...   \n",
      "1    0_mxc_False_[1, 2, 3, 4, 6]_date_04-13_15-10-4...   \n",
      "2    1_mxc_True_[2, 1, 4, 3, 5]_date_04-14_03-56-46...   \n",
      "3    1_mxc_True_[1, 4, 2, 3, 5]_date_04-14_03-18-04...   \n",
      "4    0_mxc_True_[3, 2, 1, 4, 5]_date_04-13_22-02-37...   \n",
      "..                                                 ...   \n",
      "124  0_mxc_False_[1, 2, 3, 4, 1]_date_04-13_16-42-2...   \n",
      "125  1_mxc_True_[4, 3, 1, 2, 5]_date_04-14_07-34-42...   \n",
      "126  0_mxc_False_[1, 4, 2, 3, 5]_date_04-13_18-43-5...   \n",
      "127  2_mxc_True_[1, 2, 3, 4, 1]_date_04-14_09-01-14...   \n",
      "128  0_mxc_False_[2, 4, 1, 3, 5]_date_04-13_21-27-1...   \n",
      "\n",
      "                                             last_line  \n",
      "0    UD: 4400    Gen: 1017.648   Fit: 5.304728e+72 ...  \n",
      "1    UD: 10000   Gen: 1331.495   Fit: 1.073964e+158...  \n",
      "2    UD: 10000   Gen: 2259.621   Fit: 16367.07   Or...  \n",
      "3    UD: 10000   Gen: 1634.431   Fit: 9830.949   Or...  \n",
      "4    UD: 5000    Gen: 1007.769   Fit: 1.389793e+211...  \n",
      "..                                                 ...  \n",
      "124  UD: 1800    Gen: 256.2159   Fit: 2.363671e+197...  \n",
      "125  UD: 2800    Gen: 1088.078   Fit: 6.218935e+09 ...  \n",
      "126  UD: 1200    Gen: 160.7237   Fit: 5.020909e+229...  \n",
      "127  UD: 10000   Gen: 1649.042   Fit: 3653.363   Or...  \n",
      "128  UD: 2000    Gen: 1114.611   Fit: 6.554231e+35 ...  \n",
      "\n",
      "[129 rows x 2 columns]\n"
     ]
    }
   ],
   "source": [
    "import os\n",
    "import pandas as pd\n",
    "\n",
    "# Directory containing the files\n",
    "dir_path = '229r/all1'\n",
    "\n",
    "# List to store the file names and last lines\n",
    "file_data = []\n",
    "\n",
    "# Loop through all the files in the directory\n",
    "for filename in os.listdir(dir_path):\n",
    "    # Check if the file is a text file\n",
    "    if filename.endswith('.txt'):\n",
    "        # Open the file and read the last line\n",
    "        with open(os.path.join(dir_path, filename), 'r') as f:\n",
    "            lines = f.readlines()\n",
    "            last_line = lines[-1].strip()\n",
    "        # Append the file name and last line to the list\n",
    "        file_data.append({'file_name': filename, 'last_line': last_line})\n",
    "        \n",
    "    # Read data from file into a list of strings\n",
    "    with open(file_name, 'r') as f:\n",
    "        lines = f.readlines()\n",
    "\n",
    "    # Parse the lines to create a list of dictionaries, where each dictionary contains values for each column\n",
    "    data = []\n",
    "    for line in lines:\n",
    "        if line.startswith('UD:'):\n",
    "            values = line.strip().split()\n",
    "            # print(values)\n",
    "\n",
    "            data.append({\n",
    "                'UD': int(values[1]),\n",
    "                'Gen': float(values[3]),\n",
    "                'Fit': float(values[5]),\n",
    "                'Orgs': int(values[7])\n",
    "            })\n",
    "\n",
    "    # Create dataframe from list of dictionaries\n",
    "    df = pd.DataFrame(data)\n",
    "        \n",
    "\n",
    "    # Define x and y data\n",
    "    x_data = df.iloc[:, 0] # First column as x-axis\n",
    "    y_data = df[[\"Fit\"]]\n",
    "    # y_data = df.iloc[:, 1:] # Every other column as y-axis\n",
    "\n",
    "# Create a Pandas dataframe from the file data\n",
    "df = pd.DataFrame(file_data)\n",
    "\n",
    "# Print the dataframe\n",
    "print(df)\n"
   ]
  },
  {
   "cell_type": "code",
   "execution_count": 11,
   "metadata": {},
   "outputs": [
    {
     "ename": "ValueError",
     "evalue": "invalid literal for int() with base 10: '[120'",
     "output_type": "error",
     "traceback": [
      "\u001b[0;31m---------------------------------------------------------------------------\u001b[0m",
      "\u001b[0;31mValueError\u001b[0m                                Traceback (most recent call last)",
      "\u001b[0;32m/var/folders/nk/6df909tn2f726qntp17fzj600000gn/T/ipykernel_46092/442434341.py\u001b[0m in \u001b[0;36m<module>\u001b[0;34m\u001b[0m\n\u001b[1;32m     17\u001b[0m \u001b[0mxydict_str\u001b[0m \u001b[0;34m=\u001b[0m \u001b[0mlog_file_name\u001b[0m\u001b[0;34m.\u001b[0m\u001b[0msplit\u001b[0m\u001b[0;34m(\u001b[0m\u001b[0;34m'_'\u001b[0m\u001b[0;34m)\u001b[0m\u001b[0;34m[\u001b[0m\u001b[0;34m-\u001b[0m\u001b[0;36m1\u001b[0m\u001b[0;34m]\u001b[0m\u001b[0;34m.\u001b[0m\u001b[0mstrip\u001b[0m\u001b[0;34m(\u001b[0m\u001b[0;34m'.txt'\u001b[0m\u001b[0;34m)\u001b[0m\u001b[0;34m\u001b[0m\u001b[0;34m\u001b[0m\u001b[0m\n\u001b[1;32m     18\u001b[0m \u001b[0mxydict_values_str\u001b[0m \u001b[0;34m=\u001b[0m \u001b[0mxydict_str\u001b[0m\u001b[0;34m.\u001b[0m\u001b[0msplit\u001b[0m\u001b[0;34m(\u001b[0m\u001b[0;34m'('\u001b[0m\u001b[0;34m)\u001b[0m\u001b[0;34m[\u001b[0m\u001b[0;36m1\u001b[0m\u001b[0;34m]\u001b[0m\u001b[0;34m.\u001b[0m\u001b[0mstrip\u001b[0m\u001b[0;34m(\u001b[0m\u001b[0;34m')'\u001b[0m\u001b[0;34m)\u001b[0m\u001b[0;34m\u001b[0m\u001b[0;34m\u001b[0m\u001b[0m\n\u001b[0;32m---> 19\u001b[0;31m \u001b[0mxydict_values\u001b[0m \u001b[0;34m=\u001b[0m \u001b[0;34m[\u001b[0m\u001b[0mint\u001b[0m\u001b[0;34m(\u001b[0m\u001b[0mv\u001b[0m\u001b[0;34m)\u001b[0m \u001b[0;32mfor\u001b[0m \u001b[0mv\u001b[0m \u001b[0;32min\u001b[0m \u001b[0mxydict_values_str\u001b[0m\u001b[0;34m.\u001b[0m\u001b[0msplit\u001b[0m\u001b[0;34m(\u001b[0m\u001b[0;34m','\u001b[0m\u001b[0;34m)\u001b[0m\u001b[0;34m]\u001b[0m\u001b[0;34m\u001b[0m\u001b[0;34m\u001b[0m\u001b[0m\n\u001b[0m\u001b[1;32m     20\u001b[0m \u001b[0;34m\u001b[0m\u001b[0m\n\u001b[1;32m     21\u001b[0m \u001b[0;31m# Printing the extracted variables\u001b[0m\u001b[0;34m\u001b[0m\u001b[0;34m\u001b[0m\u001b[0m\n",
      "\u001b[0;32m/var/folders/nk/6df909tn2f726qntp17fzj600000gn/T/ipykernel_46092/442434341.py\u001b[0m in \u001b[0;36m<listcomp>\u001b[0;34m(.0)\u001b[0m\n\u001b[1;32m     17\u001b[0m \u001b[0mxydict_str\u001b[0m \u001b[0;34m=\u001b[0m \u001b[0mlog_file_name\u001b[0m\u001b[0;34m.\u001b[0m\u001b[0msplit\u001b[0m\u001b[0;34m(\u001b[0m\u001b[0;34m'_'\u001b[0m\u001b[0;34m)\u001b[0m\u001b[0;34m[\u001b[0m\u001b[0;34m-\u001b[0m\u001b[0;36m1\u001b[0m\u001b[0;34m]\u001b[0m\u001b[0;34m.\u001b[0m\u001b[0mstrip\u001b[0m\u001b[0;34m(\u001b[0m\u001b[0;34m'.txt'\u001b[0m\u001b[0;34m)\u001b[0m\u001b[0;34m\u001b[0m\u001b[0;34m\u001b[0m\u001b[0m\n\u001b[1;32m     18\u001b[0m \u001b[0mxydict_values_str\u001b[0m \u001b[0;34m=\u001b[0m \u001b[0mxydict_str\u001b[0m\u001b[0;34m.\u001b[0m\u001b[0msplit\u001b[0m\u001b[0;34m(\u001b[0m\u001b[0;34m'('\u001b[0m\u001b[0;34m)\u001b[0m\u001b[0;34m[\u001b[0m\u001b[0;36m1\u001b[0m\u001b[0;34m]\u001b[0m\u001b[0;34m.\u001b[0m\u001b[0mstrip\u001b[0m\u001b[0;34m(\u001b[0m\u001b[0;34m')'\u001b[0m\u001b[0;34m)\u001b[0m\u001b[0;34m\u001b[0m\u001b[0;34m\u001b[0m\u001b[0m\n\u001b[0;32m---> 19\u001b[0;31m \u001b[0mxydict_values\u001b[0m \u001b[0;34m=\u001b[0m \u001b[0;34m[\u001b[0m\u001b[0mint\u001b[0m\u001b[0;34m(\u001b[0m\u001b[0mv\u001b[0m\u001b[0;34m)\u001b[0m \u001b[0;32mfor\u001b[0m \u001b[0mv\u001b[0m \u001b[0;32min\u001b[0m \u001b[0mxydict_values_str\u001b[0m\u001b[0;34m.\u001b[0m\u001b[0msplit\u001b[0m\u001b[0;34m(\u001b[0m\u001b[0;34m','\u001b[0m\u001b[0;34m)\u001b[0m\u001b[0;34m]\u001b[0m\u001b[0;34m\u001b[0m\u001b[0;34m\u001b[0m\u001b[0m\n\u001b[0m\u001b[1;32m     20\u001b[0m \u001b[0;34m\u001b[0m\u001b[0m\n\u001b[1;32m     21\u001b[0m \u001b[0;31m# Printing the extracted variables\u001b[0m\u001b[0;34m\u001b[0m\u001b[0;34m\u001b[0m\u001b[0m\n",
      "\u001b[0;31mValueError\u001b[0m: invalid literal for int() with base 10: '[120'"
     ]
    }
   ],
   "source": [
    "log_file_name = '0_mxc_False_[1, 2, 3, 4, 2]_date_04-13_16-20-29_xydict_values([120, 120]).txt'\n",
    "\n",
    "# Extracting the index from the filename\n",
    "index = int(log_file_name.split('_')[0])\n",
    "\n",
    "# Extracting the max_count from the filename\n",
    "max_count = bool(log_file_name.split('_')[2])\n",
    "\n",
    "# Extracting the values list from the filename\n",
    "values_str = log_file_name.split('_')[3].strip('[]')\n",
    "values = [int(v) for v in values_str.split(',')]\n",
    "\n",
    "# Extracting the experiment start time string from the filename\n",
    "experiment_start_time_string = log_file_name.split('_')[5] + '_' + log_file_name.split('_')[6]\n",
    "\n",
    "# Extracting the xydict values from the filename\n",
    "xydict_str = log_file_name.split('_')[-1].strip('.txt')\n",
    "xydict_values_str = xydict_str.split('(')[1].strip(')')\n",
    "xydict_values = [int(v) for v in xydict_values_str.split(',')]\n",
    "\n",
    "# Printing the extracted variables\n",
    "print(f\"index: {index}\")\n",
    "print(f\"max_count: {max_count}\")\n",
    "print(f\"values: {values}\")\n",
    "print(f\"experiment_start_time_string: {experiment_start_time_string}\")\n",
    "print(f\"xydict_values: {xydict_values}\")\n"
   ]
  },
  {
   "cell_type": "code",
   "execution_count": 12,
   "metadata": {},
   "outputs": [
    {
     "name": "stdout",
     "output_type": "stream",
     "text": [
      "index: 0\n",
      "max_count: False\n",
      "values: [1, 2, 3, 4, 2]\n",
      "experiment_start_time_string: 04-13_16-20-29\n",
      "xy_values: [120, 120]\n"
     ]
    }
   ],
   "source": [
    "import re\n",
    "\n",
    "log_file_name = \"0_mxc_False_[1, 2, 3, 4, 2]_date_04-13_16-20-29_xydict_values([120, 120]).txt\"\n",
    "\n",
    "# Regular expression pattern\n",
    "pattern = r\"(\\d+)_mxc_(\\w+)_(\\[.*\\])_date_(\\d{2}-\\d{2})_(\\d{2}-\\d{2}-\\d{2})_xydict_values\\((\\[.*\\])\\)\\.txt\"\n",
    "\n",
    "# Search for pattern in the log_file_name\n",
    "match = re.search(pattern, log_file_name)\n",
    "\n",
    "if match:\n",
    "    index = int(match.group(1))\n",
    "    max_count = match.group(2) == 'True'\n",
    "    values = [int(i) for i in match.group(3).strip('[]').split(', ')]\n",
    "    experiment_start_time_string = match.group(4) + \"_\" + match.group(5)\n",
    "    xy_values = [int(i) for i in match.group(6).strip('[]').split(', ')]\n",
    "\n",
    "    print(f\"index: {index}\")\n",
    "    print(f\"max_count: {max_count}\")\n",
    "    print(f\"values: {values}\")\n",
    "    print(f\"experiment_start_time_string: {experiment_start_time_string}\")\n",
    "    print(f\"xy_values: {xy_values}\")\n",
    "else:\n",
    "    print(\"No match found.\")\n"
   ]
  },
  {
   "cell_type": "code",
   "execution_count": 13,
   "metadata": {},
   "outputs": [
    {
     "name": "stdout",
     "output_type": "stream",
     "text": [
      "   index  max_count           values experiment_start_time_string   xy_values  \\\n",
      "0      0      False  [1, 2, 3, 4, 2]               04-13_16-20-29  [120, 120]   \n",
      "\n",
      "                                           last_line  \n",
      "0  UD: 5600    Gen: 1685.649   Fit: 2.903048e+242...  \n"
     ]
    }
   ],
   "source": [
    "import re\n",
    "import pandas as pd\n",
    "\n",
    "log_file_name = \"0_mxc_False_[1, 2, 3, 4, 2]_date_04-13_16-20-29_xydict_values([120, 120]).txt\"\n",
    "\n",
    "# Regular expression pattern\n",
    "pattern = r\"(\\d+)_mxc_(\\w+)_(\\[.*\\])_date_(\\d{2}-\\d{2})_(\\d{2}-\\d{2}-\\d{2})_xydict_values\\((\\[.*\\])\\)\\.txt\"\n",
    "\n",
    "# Search for pattern in the log_file_name\n",
    "match = re.search(pattern, log_file_name)\n",
    "\n",
    "if match:\n",
    "    index = int(match.group(1))\n",
    "    max_count = match.group(2) == 'True'\n",
    "    values = [int(i) for i in match.group(3).strip('[]').split(', ')]\n",
    "    experiment_start_time_string = match.group(4) + \"_\" + match.group(5)\n",
    "    xy_values = [int(i) for i in match.group(6).strip('[]').split(', ')]\n",
    "\n",
    "    # Read the file and get the last line\n",
    "    with open(\"229r/all1 copy/\"+log_file_name, 'r') as file:\n",
    "        last_line = file.readlines()[-1].strip()\n",
    "\n",
    "    # Create a Pandas DataFrame with the parsed variables and the last line\n",
    "    data = {'index': [index],\n",
    "            'max_count': [max_count],\n",
    "            'values': [values],\n",
    "            'experiment_start_time_string': [experiment_start_time_string],\n",
    "            'xy_values': [xy_values],\n",
    "            'last_line': [last_line]}\n",
    "\n",
    "    df = pd.DataFrame(data)\n",
    "\n",
    "    print(df)\n",
    "else:\n",
    "    print(\"No match found.\")\n"
   ]
  },
  {
   "cell_type": "code",
   "execution_count": null,
   "metadata": {},
   "outputs": [],
   "source": []
  },
  {
   "cell_type": "code",
   "execution_count": 14,
   "metadata": {},
   "outputs": [
    {
     "name": "stdout",
     "output_type": "stream",
     "text": [
      "   index  max_count                                             values  \\\n",
      "0      0      False  [UD:, 5600, Gen:, 1685.649, Fit:, 2.903048e+24...   \n",
      "\n",
      "  experiment_start_time_string   xy_values    UD       Gen            Fit  \\\n",
      "0               04-13_16-20-29  [120, 120]  5600  1685.649  2.903048e+242   \n",
      "\n",
      "    Orgs  \n",
      "0  14319  \n"
     ]
    }
   ],
   "source": [
    "import re\n",
    "import pandas as pd\n",
    "\n",
    "log_file_name = \"0_mxc_False_[1, 2, 3, 4, 2]_date_04-13_16-20-29_xydict_values([120, 120]).txt\"\n",
    "\n",
    "# Regular expression pattern\n",
    "pattern = r\"(\\d+)_mxc_(\\w+)_(\\[.*\\])_date_(\\d{2}-\\d{2})_(\\d{2}-\\d{2}-\\d{2})_xydict_values\\((\\[.*\\])\\)\\.txt\"\n",
    "\n",
    "# Search for pattern in the log_file_name\n",
    "match = re.search(pattern, log_file_name)\n",
    "\n",
    "if match:\n",
    "    index = int(match.group(1))\n",
    "    max_count = match.group(2) == 'True'\n",
    "    values = [int(i) for i in match.group(3).strip('[]').split(', ')]\n",
    "    experiment_start_time_string = match.group(4) + \"_\" + match.group(5)\n",
    "    xy_values = [int(i) for i in match.group(6).strip('[]').split(', ')]\n",
    "\n",
    "    # Read the file and get the last line\n",
    "    with open(\"229r/all1 copy/\"+log_file_name, 'r') as file:\n",
    "        last_line = file.readlines()[-1].strip()\n",
    "\n",
    "    if last_line.startswith('UD:'):\n",
    "        values = last_line.strip().split()\n",
    "\n",
    "        data = {\n",
    "            'index': [index],\n",
    "            'max_count': [max_count],\n",
    "            'values': [values],\n",
    "            'experiment_start_time_string': [experiment_start_time_string],\n",
    "            'xy_values': [xy_values],\n",
    "            'UD': [int(values[1])],\n",
    "            'Gen': [float(values[3])],\n",
    "            'Fit': [float(values[5])],\n",
    "            'Orgs': [int(values[7])]\n",
    "        }\n",
    "    else:\n",
    "        print(\"Last line does not start with 'UD:'\")\n",
    "\n",
    "    df = pd.DataFrame(data)\n",
    "\n",
    "    print(df)\n",
    "else:\n",
    "    print(\"No match found.\")\n"
   ]
  },
  {
   "cell_type": "code",
   "execution_count": null,
   "metadata": {},
   "outputs": [],
   "source": []
  }
 ],
 "metadata": {
  "kernelspec": {
   "display_name": "base",
   "language": "python",
   "name": "python3"
  },
  "language_info": {
   "codemirror_mode": {
    "name": "ipython",
    "version": 3
   },
   "file_extension": ".py",
   "mimetype": "text/x-python",
   "name": "python",
   "nbconvert_exporter": "python",
   "pygments_lexer": "ipython3",
   "version": "3.9.13"
  },
  "orig_nbformat": 4,
  "vscode": {
   "interpreter": {
    "hash": "cf41f9f6e5ebc9bc907dc86349423643935ffbb6232c1977132c28683456eead"
   }
  }
 },
 "nbformat": 4,
 "nbformat_minor": 2
}
