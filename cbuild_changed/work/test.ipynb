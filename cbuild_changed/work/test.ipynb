{
 "cells": [
  {
   "cell_type": "code",
   "execution_count": 4,
   "metadata": {},
   "outputs": [
    {
     "data": {
      "text/plain": [
       "2.993514218445901"
      ]
     },
     "execution_count": 4,
     "metadata": {},
     "output_type": "execute_result"
    }
   ],
   "source": [
    "x1 = 1/(1+1/400) + 2/(1+2/1000)\n",
    "x1"
   ]
  },
  {
   "cell_type": "code",
   "execution_count": 2,
   "metadata": {},
   "outputs": [
    {
     "data": {
      "text/plain": [
       "2.9910269192422736"
      ]
     },
     "execution_count": 2,
     "metadata": {},
     "output_type": "execute_result"
    }
   ],
   "source": [
    "3/(1+3/1000)"
   ]
  },
  {
   "cell_type": "code",
   "execution_count": 7,
   "metadata": {},
   "outputs": [],
   "source": [
    "A = 100 * 1 + 200 * 0 + 200 * 1/15*3\n",
    "B = 100 * 1 + 200 * 1 + 200 * 4/15 *3\n",
    "C = 100 * 1 + 200 * 2 + 200 * 10/15*3\n",
    "pre = [A,B,C]"
   ]
  },
  {
   "cell_type": "code",
   "execution_count": 8,
   "metadata": {},
   "outputs": [
    {
     "data": {
      "text/plain": [
       "[140.0, 460.0, 900.0]"
      ]
     },
     "execution_count": 8,
     "metadata": {},
     "output_type": "execute_result"
    }
   ],
   "source": [
    "pre"
   ]
  },
  {
   "cell_type": "code",
   "execution_count": 9,
   "metadata": {},
   "outputs": [],
   "source": [
    "u, m = 1/3, 1/3\n",
    "n = 1-u-m"
   ]
  },
  {
   "cell_type": "code",
   "execution_count": 10,
   "metadata": {},
   "outputs": [],
   "source": [
    "A = 500*u * 1 + 500*m * 0 + 500*n * 1/15*3\n",
    "B = 500*u * 1 + 500*m * 1 + 500*n *4/15 *3\n",
    "C = 500*u * 1 + 500*m * 2 + 500*n * 10/15*3 \n",
    "pre = [A,B,C]\n",
    "print(pre)"
   ]
  },
  {
   "cell_type": "code",
   "execution_count": 27,
   "metadata": {},
   "outputs": [
    {
     "name": "stdout",
     "output_type": "stream",
     "text": [
      "[150.0, 350.0, 1000.0]\n"
     ]
    }
   ],
   "source": [
    "u, m, n = 1/4, 1/4, 1/4\n",
    "l = 1 - u - m - n\n",
    "A = 500*u * 1 + 500*m * 0 + 500*n * 1/15*3\n",
    "B = 500*u * 1 + 500*m * 1 + 500*n *4/15 *3\n",
    "C = 500*u * 1 + 500*m * 2 + 500*n * 10/15*3+ 500*l*3\n",
    "pre = [A,B,C]\n",
    "print(pre)"
   ]
  },
  {
   "cell_type": "code",
   "execution_count": 11,
   "metadata": {},
   "outputs": [
    {
     "data": {
      "text/plain": [
       "[200.0, 466.6666666666667, 833.3333333333335]"
      ]
     },
     "execution_count": 11,
     "metadata": {},
     "output_type": "execute_result"
    }
   ],
   "source": [
    "pre"
   ]
  },
  {
   "cell_type": "code",
   "execution_count": null,
   "metadata": {},
   "outputs": [],
   "source": []
  }
 ],
 "metadata": {
  "kernelspec": {
   "display_name": "base",
   "language": "python",
   "name": "python3"
  },
  "language_info": {
   "codemirror_mode": {
    "name": "ipython",
    "version": 3
   },
   "file_extension": ".py",
   "mimetype": "text/x-python",
   "name": "python",
   "nbconvert_exporter": "python",
   "pygments_lexer": "ipython3",
   "version": "3.9.13"
  },
  "orig_nbformat": 4
 },
 "nbformat": 4,
 "nbformat_minor": 2
}
